{
 "cells": [
  {
   "cell_type": "code",
   "execution_count": 91,
   "metadata": {},
   "outputs": [],
   "source": [
    "%matplotlib inline\n",
    "%reload_ext autoreload\n",
    "%autoreload 2"
   ]
  },
  {
   "cell_type": "code",
   "execution_count": 92,
   "metadata": {},
   "outputs": [],
   "source": [
    "import json\n",
    "from pathlib import Path\n",
    "import numpy as np\n",
    "import pandas as pd\n",
    "import html\n",
    "import re\n",
    "from fastai.text import *\n",
    "from tqdm import tqdm\n",
    "from sklearn import model_selection"
   ]
  },
  {
   "cell_type": "code",
   "execution_count": 93,
   "metadata": {},
   "outputs": [
    {
     "data": {
      "text/plain": [
       "'C:\\\\Users\\\\PC\\\\Projects\\\\fastai\\\\courses\\\\dl1\\\\ULMFiT-Filipino'"
      ]
     },
     "execution_count": 93,
     "metadata": {},
     "output_type": "execute_result"
    }
   ],
   "source": [
    "pwd"
   ]
  },
  {
   "cell_type": "markdown",
   "metadata": {},
   "source": [
    "# Data Preparation"
   ]
  },
  {
   "cell_type": "code",
   "execution_count": 94,
   "metadata": {},
   "outputs": [],
   "source": [
    "BOS = 'xbos'  # beginning-of-sentence tag\n",
    "FLD = 'xfld'  # data field tag\n",
    "\n",
    "LANG = 'tagalog'\n",
    "PATH_EXTRACT = Path(f'tagalog/')\n",
    "PATH_TMP = Path(f'tmp/')"
   ]
  },
  {
   "cell_type": "code",
   "execution_count": 95,
   "metadata": {},
   "outputs": [
    {
     "name": "stdout",
     "output_type": "stream",
     "text": [
      "53\n"
     ]
    },
    {
     "data": {
      "text/plain": [
       "['tagalog\\\\wiki\\\\wiki_00',\n",
       " 'tagalog\\\\wiki\\\\wiki_01',\n",
       " 'tagalog\\\\wiki\\\\wiki_02',\n",
       " 'tagalog\\\\wiki\\\\wiki_03',\n",
       " 'tagalog\\\\wiki\\\\wiki_04']"
      ]
     },
     "execution_count": 95,
     "metadata": {},
     "output_type": "execute_result"
    }
   ],
   "source": [
    "LANG_FILENAMES = [str(f) for f in PATH_EXTRACT.rglob(\"*/wiki_*\")]\n",
    "print(len(LANG_FILENAMES))\n",
    "LANG_FILENAMES[0:5]"
   ]
  },
  {
   "cell_type": "code",
   "execution_count": 96,
   "metadata": {},
   "outputs": [
    {
     "name": "stderr",
     "output_type": "stream",
     "text": [
      "\n",
      "  0%|                                                                                           | 0/53 [00:00<?, ?it/s]\n",
      " 19%|███████████████▍                                                                  | 10/53 [00:00<00:00, 89.50it/s]\n",
      " 36%|█████████████████████████████▍                                                    | 19/53 [00:00<00:00, 87.64it/s]\n",
      " 49%|████████████████████████████████████████▏                                         | 26/53 [00:00<00:00, 76.73it/s]\n",
      " 66%|██████████████████████████████████████████████████████▏                           | 35/53 [00:00<00:00, 78.66it/s]\n",
      " 81%|██████████████████████████████████████████████████████████████████▌               | 43/53 [00:00<00:00, 78.42it/s]\n",
      " 94%|█████████████████████████████████████████████████████████████████████████████▎    | 50/53 [00:00<00:00, 71.58it/s]\n",
      "100%|██████████████████████████████████████████████████████████████████████████████████| 53/53 [00:00<00:00, 71.42it/s]"
     ]
    }
   ],
   "source": [
    "LANG_TEXT = []\n",
    "for fn in tqdm(LANG_FILENAMES):\n",
    "    for line in open(fn, encoding='utf8'):\n",
    "        LANG_TEXT.append(json.loads(line))\n",
    "        \n",
    "LANG_TEXT = pd.DataFrame(LANG_TEXT)"
   ]
  },
  {
   "cell_type": "code",
   "execution_count": 97,
   "metadata": {},
   "outputs": [
    {
     "data": {
      "text/html": [
       "<div>\n",
       "<style scoped>\n",
       "    .dataframe tbody tr th:only-of-type {\n",
       "        vertical-align: middle;\n",
       "    }\n",
       "\n",
       "    .dataframe tbody tr th {\n",
       "        vertical-align: top;\n",
       "    }\n",
       "\n",
       "    .dataframe thead th {\n",
       "        text-align: right;\n",
       "    }\n",
       "</style>\n",
       "<table border=\"1\" class=\"dataframe\">\n",
       "  <thead>\n",
       "    <tr style=\"text-align: right;\">\n",
       "      <th></th>\n",
       "      <th>id</th>\n",
       "      <th>text</th>\n",
       "      <th>title</th>\n",
       "      <th>url</th>\n",
       "    </tr>\n",
       "  </thead>\n",
       "  <tbody>\n",
       "    <tr>\n",
       "      <th>0</th>\n",
       "      <td>1</td>\n",
       "      <td>Unang Pahina\\n</td>\n",
       "      <td>Unang Pahina</td>\n",
       "      <td>https://tl.wikipedia.org/wiki?curid=1</td>\n",
       "    </tr>\n",
       "    <tr>\n",
       "      <th>1</th>\n",
       "      <td>5</td>\n",
       "      <td>Wikipedia\\n\\nAng Wikipedia ay isang ensikloped...</td>\n",
       "      <td>Wikipedia</td>\n",
       "      <td>https://tl.wikipedia.org/wiki?curid=5</td>\n",
       "    </tr>\n",
       "    <tr>\n",
       "      <th>2</th>\n",
       "      <td>7</td>\n",
       "      <td>Wiki\\n\\nAng wiki ay isang uri ng websayt na pi...</td>\n",
       "      <td>Wiki</td>\n",
       "      <td>https://tl.wikipedia.org/wiki?curid=7</td>\n",
       "    </tr>\n",
       "    <tr>\n",
       "      <th>3</th>\n",
       "      <td>582</td>\n",
       "      <td>Pilipinas\\n\\nAng Pilipinas, opisyal na Republi...</td>\n",
       "      <td>Pilipinas</td>\n",
       "      <td>https://tl.wikipedia.org/wiki?curid=582</td>\n",
       "    </tr>\n",
       "    <tr>\n",
       "      <th>4</th>\n",
       "      <td>585</td>\n",
       "      <td>Maynila\\n\\nAng Lungsod ng Maynila (Opisyal: Ci...</td>\n",
       "      <td>Maynila</td>\n",
       "      <td>https://tl.wikipedia.org/wiki?curid=585</td>\n",
       "    </tr>\n",
       "  </tbody>\n",
       "</table>\n",
       "</div>"
      ],
      "text/plain": [
       "    id                                               text         title  \\\n",
       "0    1                                     Unang Pahina\\n  Unang Pahina   \n",
       "1    5  Wikipedia\\n\\nAng Wikipedia ay isang ensikloped...     Wikipedia   \n",
       "2    7  Wiki\\n\\nAng wiki ay isang uri ng websayt na pi...          Wiki   \n",
       "3  582  Pilipinas\\n\\nAng Pilipinas, opisyal na Republi...     Pilipinas   \n",
       "4  585  Maynila\\n\\nAng Lungsod ng Maynila (Opisyal: Ci...       Maynila   \n",
       "\n",
       "                                       url  \n",
       "0    https://tl.wikipedia.org/wiki?curid=1  \n",
       "1    https://tl.wikipedia.org/wiki?curid=5  \n",
       "2    https://tl.wikipedia.org/wiki?curid=7  \n",
       "3  https://tl.wikipedia.org/wiki?curid=582  \n",
       "4  https://tl.wikipedia.org/wiki?curid=585  "
      ]
     },
     "execution_count": 97,
     "metadata": {},
     "output_type": "execute_result"
    }
   ],
   "source": [
    "LANG_TEXT.head()"
   ]
  },
  {
   "cell_type": "code",
   "execution_count": 98,
   "metadata": {},
   "outputs": [],
   "source": [
    "# Getting rid of the title name in the text field\n",
    "def split_title_from_text(text):\n",
    "    words = text.split(\"\\n\\n\")\n",
    "    if len(words) >= 2:\n",
    "        return ''.join(words[1:])\n",
    "    else:\n",
    "        return ''.join(words)\n",
    "    \n",
    "LANG_TEXT['text'] = LANG_TEXT['text'].apply(lambda x: split_title_from_text(x))"
   ]
  },
  {
   "cell_type": "code",
   "execution_count": 99,
   "metadata": {},
   "outputs": [
    {
     "data": {
      "text/html": [
       "<div>\n",
       "<style scoped>\n",
       "    .dataframe tbody tr th:only-of-type {\n",
       "        vertical-align: middle;\n",
       "    }\n",
       "\n",
       "    .dataframe tbody tr th {\n",
       "        vertical-align: top;\n",
       "    }\n",
       "\n",
       "    .dataframe thead th {\n",
       "        text-align: right;\n",
       "    }\n",
       "</style>\n",
       "<table border=\"1\" class=\"dataframe\">\n",
       "  <thead>\n",
       "    <tr style=\"text-align: right;\">\n",
       "      <th></th>\n",
       "      <th>id</th>\n",
       "      <th>text</th>\n",
       "      <th>title</th>\n",
       "      <th>url</th>\n",
       "    </tr>\n",
       "  </thead>\n",
       "  <tbody>\n",
       "    <tr>\n",
       "      <th>0</th>\n",
       "      <td>1</td>\n",
       "      <td>Unang Pahina\\n</td>\n",
       "      <td>Unang Pahina</td>\n",
       "      <td>https://tl.wikipedia.org/wiki?curid=1</td>\n",
       "    </tr>\n",
       "    <tr>\n",
       "      <th>1</th>\n",
       "      <td>5</td>\n",
       "      <td>Ang Wikipedia ay isang ensiklopedya na may bas...</td>\n",
       "      <td>Wikipedia</td>\n",
       "      <td>https://tl.wikipedia.org/wiki?curid=5</td>\n",
       "    </tr>\n",
       "    <tr>\n",
       "      <th>2</th>\n",
       "      <td>7</td>\n",
       "      <td>Ang wiki ay isang uri ng websayt na pinapahint...</td>\n",
       "      <td>Wiki</td>\n",
       "      <td>https://tl.wikipedia.org/wiki?curid=7</td>\n",
       "    </tr>\n",
       "    <tr>\n",
       "      <th>3</th>\n",
       "      <td>582</td>\n",
       "      <td>Ang Pilipinas, opisyal na Republika ng Pilipin...</td>\n",
       "      <td>Pilipinas</td>\n",
       "      <td>https://tl.wikipedia.org/wiki?curid=582</td>\n",
       "    </tr>\n",
       "    <tr>\n",
       "      <th>4</th>\n",
       "      <td>585</td>\n",
       "      <td>Ang Lungsod ng Maynila (Opisyal: City of Manil...</td>\n",
       "      <td>Maynila</td>\n",
       "      <td>https://tl.wikipedia.org/wiki?curid=585</td>\n",
       "    </tr>\n",
       "  </tbody>\n",
       "</table>\n",
       "</div>"
      ],
      "text/plain": [
       "    id                                               text         title  \\\n",
       "0    1                                     Unang Pahina\\n  Unang Pahina   \n",
       "1    5  Ang Wikipedia ay isang ensiklopedya na may bas...     Wikipedia   \n",
       "2    7  Ang wiki ay isang uri ng websayt na pinapahint...          Wiki   \n",
       "3  582  Ang Pilipinas, opisyal na Republika ng Pilipin...     Pilipinas   \n",
       "4  585  Ang Lungsod ng Maynila (Opisyal: City of Manil...       Maynila   \n",
       "\n",
       "                                       url  \n",
       "0    https://tl.wikipedia.org/wiki?curid=1  \n",
       "1    https://tl.wikipedia.org/wiki?curid=5  \n",
       "2    https://tl.wikipedia.org/wiki?curid=7  \n",
       "3  https://tl.wikipedia.org/wiki?curid=582  \n",
       "4  https://tl.wikipedia.org/wiki?curid=585  "
      ]
     },
     "execution_count": 99,
     "metadata": {},
     "output_type": "execute_result"
    }
   ],
   "source": [
    "LANG_TEXT.head()"
   ]
  },
  {
   "cell_type": "code",
   "execution_count": 100,
   "metadata": {},
   "outputs": [
    {
     "data": {
      "text/plain": [
       "(106124, 4)"
      ]
     },
     "execution_count": 100,
     "metadata": {},
     "output_type": "execute_result"
    }
   ],
   "source": [
    "LANG_TEXT.shape"
   ]
  },
  {
   "cell_type": "markdown",
   "metadata": {},
   "source": [
    "Sorting the articles by length and keeping the first million (this is actually not necessary for the Tagalog wiki since it has less than 100k articles in 2018)."
   ]
  },
  {
   "cell_type": "code",
   "execution_count": 101,
   "metadata": {},
   "outputs": [],
   "source": [
    "LANG_TEXT = LANG_TEXT.assign(length = 0)\n",
    "LANG_TEXT.columns = ['id', 'text', 'title', 'url', 'length']\n",
    "LANG_TEXT = LANG_TEXT.assign(labels = 0).pipe(lambda x: x[['labels', 'text', 'length']])"
   ]
  },
  {
   "cell_type": "code",
   "execution_count": 102,
   "metadata": {},
   "outputs": [
    {
     "data": {
      "text/html": [
       "<div>\n",
       "<style scoped>\n",
       "    .dataframe tbody tr th:only-of-type {\n",
       "        vertical-align: middle;\n",
       "    }\n",
       "\n",
       "    .dataframe tbody tr th {\n",
       "        vertical-align: top;\n",
       "    }\n",
       "\n",
       "    .dataframe thead th {\n",
       "        text-align: right;\n",
       "    }\n",
       "</style>\n",
       "<table border=\"1\" class=\"dataframe\">\n",
       "  <thead>\n",
       "    <tr style=\"text-align: right;\">\n",
       "      <th></th>\n",
       "      <th>labels</th>\n",
       "      <th>text</th>\n",
       "      <th>length</th>\n",
       "    </tr>\n",
       "  </thead>\n",
       "  <tbody>\n",
       "    <tr>\n",
       "      <th>0</th>\n",
       "      <td>0</td>\n",
       "      <td>Unang Pahina\\n</td>\n",
       "      <td>0</td>\n",
       "    </tr>\n",
       "    <tr>\n",
       "      <th>1</th>\n",
       "      <td>0</td>\n",
       "      <td>Ang Wikipedia ay isang ensiklopedya na may bas...</td>\n",
       "      <td>0</td>\n",
       "    </tr>\n",
       "    <tr>\n",
       "      <th>2</th>\n",
       "      <td>0</td>\n",
       "      <td>Ang wiki ay isang uri ng websayt na pinapahint...</td>\n",
       "      <td>0</td>\n",
       "    </tr>\n",
       "    <tr>\n",
       "      <th>3</th>\n",
       "      <td>0</td>\n",
       "      <td>Ang Pilipinas, opisyal na Republika ng Pilipin...</td>\n",
       "      <td>0</td>\n",
       "    </tr>\n",
       "    <tr>\n",
       "      <th>4</th>\n",
       "      <td>0</td>\n",
       "      <td>Ang Lungsod ng Maynila (Opisyal: City of Manil...</td>\n",
       "      <td>0</td>\n",
       "    </tr>\n",
       "  </tbody>\n",
       "</table>\n",
       "</div>"
      ],
      "text/plain": [
       "   labels                                               text  length\n",
       "0       0                                     Unang Pahina\\n       0\n",
       "1       0  Ang Wikipedia ay isang ensiklopedya na may bas...       0\n",
       "2       0  Ang wiki ay isang uri ng websayt na pinapahint...       0\n",
       "3       0  Ang Pilipinas, opisyal na Republika ng Pilipin...       0\n",
       "4       0  Ang Lungsod ng Maynila (Opisyal: City of Manil...       0"
      ]
     },
     "execution_count": 102,
     "metadata": {},
     "output_type": "execute_result"
    }
   ],
   "source": [
    "LANG_TEXT.head()"
   ]
  },
  {
   "cell_type": "code",
   "execution_count": 103,
   "metadata": {},
   "outputs": [],
   "source": [
    "LANG_TEXT['length'] = LANG_TEXT['text'].str.len()\n",
    "LANG_TEXT = LANG_TEXT.sort_values(by=['length'], ascending=False)"
   ]
  },
  {
   "cell_type": "code",
   "execution_count": 104,
   "metadata": {},
   "outputs": [
    {
     "data": {
      "text/html": [
       "<div>\n",
       "<style scoped>\n",
       "    .dataframe tbody tr th:only-of-type {\n",
       "        vertical-align: middle;\n",
       "    }\n",
       "\n",
       "    .dataframe tbody tr th {\n",
       "        vertical-align: top;\n",
       "    }\n",
       "\n",
       "    .dataframe thead th {\n",
       "        text-align: right;\n",
       "    }\n",
       "</style>\n",
       "<table border=\"1\" class=\"dataframe\">\n",
       "  <thead>\n",
       "    <tr style=\"text-align: right;\">\n",
       "      <th></th>\n",
       "      <th>labels</th>\n",
       "      <th>text</th>\n",
       "      <th>length</th>\n",
       "    </tr>\n",
       "  </thead>\n",
       "  <tbody>\n",
       "    <tr>\n",
       "      <th>20794</th>\n",
       "      <td>0</td>\n",
       "      <td>Ito ay ang talaan ng mga kabanata ng Noli Me T...</td>\n",
       "      <td>183621</td>\n",
       "    </tr>\n",
       "    <tr>\n",
       "      <th>4813</th>\n",
       "      <td>0</td>\n",
       "      <td>Ang Ebolusyon ang pagbabago sa mga namamanang ...</td>\n",
       "      <td>110764</td>\n",
       "    </tr>\n",
       "    <tr>\n",
       "      <th>82737</th>\n",
       "      <td>0</td>\n",
       "      <td>100,000 Digits of PiPi Logo\\n3.141592653589793...</td>\n",
       "      <td>101311</td>\n",
       "    </tr>\n",
       "    <tr>\n",
       "      <th>727</th>\n",
       "      <td>0</td>\n",
       "      <td>Ang Nagkakaisang Kaharian, opisyal na Nagkakai...</td>\n",
       "      <td>96674</td>\n",
       "    </tr>\n",
       "    <tr>\n",
       "      <th>2134</th>\n",
       "      <td>0</td>\n",
       "      <td>Ang Simbahang Katolika Romana o Simbahang Kato...</td>\n",
       "      <td>94932</td>\n",
       "    </tr>\n",
       "  </tbody>\n",
       "</table>\n",
       "</div>"
      ],
      "text/plain": [
       "       labels                                               text  length\n",
       "20794       0  Ito ay ang talaan ng mga kabanata ng Noli Me T...  183621\n",
       "4813        0  Ang Ebolusyon ang pagbabago sa mga namamanang ...  110764\n",
       "82737       0  100,000 Digits of PiPi Logo\\n3.141592653589793...  101311\n",
       "727         0  Ang Nagkakaisang Kaharian, opisyal na Nagkakai...   96674\n",
       "2134        0  Ang Simbahang Katolika Romana o Simbahang Kato...   94932"
      ]
     },
     "execution_count": 104,
     "metadata": {},
     "output_type": "execute_result"
    }
   ],
   "source": [
    "LANG_TEXT.head()"
   ]
  },
  {
   "cell_type": "code",
   "execution_count": 105,
   "metadata": {},
   "outputs": [
    {
     "data": {
      "text/plain": [
       "106124"
      ]
     },
     "execution_count": 105,
     "metadata": {},
     "output_type": "execute_result"
    }
   ],
   "source": [
    "len(LANG_TEXT)"
   ]
  },
  {
   "cell_type": "code",
   "execution_count": 106,
   "metadata": {},
   "outputs": [],
   "source": [
    "LANG_TEXT.to_csv(f\"wiki_{LANG}_corpus.csv\", header=False, index=False)"
   ]
  },
  {
   "cell_type": "code",
   "execution_count": 107,
   "metadata": {},
   "outputs": [],
   "source": [
    "LANG_TEXT = pd.read_csv(f\"wiki_{LANG}_corpus.csv\")"
   ]
  },
  {
   "cell_type": "code",
   "execution_count": 108,
   "metadata": {},
   "outputs": [
    {
     "data": {
      "text/plain": [
       "106123"
      ]
     },
     "execution_count": 108,
     "metadata": {},
     "output_type": "execute_result"
    }
   ],
   "source": [
    "len(LANG_TEXT)"
   ]
  },
  {
   "cell_type": "code",
   "execution_count": 109,
   "metadata": {},
   "outputs": [],
   "source": [
    "LANG_TEXT.columns = ['labels', 'text', 'length']\n",
    "LANG_TEXT = LANG_TEXT[LANG_TEXT['length'] > 10]\n",
    "# LANG_TEXT = LANG_TEXT.drop(['length'], axis=1)"
   ]
  },
  {
   "cell_type": "code",
   "execution_count": 110,
   "metadata": {},
   "outputs": [
    {
     "data": {
      "text/html": [
       "<div>\n",
       "<style scoped>\n",
       "    .dataframe tbody tr th:only-of-type {\n",
       "        vertical-align: middle;\n",
       "    }\n",
       "\n",
       "    .dataframe tbody tr th {\n",
       "        vertical-align: top;\n",
       "    }\n",
       "\n",
       "    .dataframe thead th {\n",
       "        text-align: right;\n",
       "    }\n",
       "</style>\n",
       "<table border=\"1\" class=\"dataframe\">\n",
       "  <thead>\n",
       "    <tr style=\"text-align: right;\">\n",
       "      <th></th>\n",
       "      <th>labels</th>\n",
       "      <th>text</th>\n",
       "      <th>length</th>\n",
       "    </tr>\n",
       "  </thead>\n",
       "  <tbody>\n",
       "    <tr>\n",
       "      <th>0</th>\n",
       "      <td>0</td>\n",
       "      <td>Ang Ebolusyon ang pagbabago sa mga namamanang ...</td>\n",
       "      <td>110764</td>\n",
       "    </tr>\n",
       "    <tr>\n",
       "      <th>1</th>\n",
       "      <td>0</td>\n",
       "      <td>100,000 Digits of PiPi Logo\\r\\n3.1415926535897...</td>\n",
       "      <td>101311</td>\n",
       "    </tr>\n",
       "    <tr>\n",
       "      <th>2</th>\n",
       "      <td>0</td>\n",
       "      <td>Ang Nagkakaisang Kaharian, opisyal na Nagkakai...</td>\n",
       "      <td>96674</td>\n",
       "    </tr>\n",
       "    <tr>\n",
       "      <th>3</th>\n",
       "      <td>0</td>\n",
       "      <td>Ang Simbahang Katolika Romana o Simbahang Kato...</td>\n",
       "      <td>94932</td>\n",
       "    </tr>\n",
       "    <tr>\n",
       "      <th>4</th>\n",
       "      <td>0</td>\n",
       "      <td>Mustafa Kemal Atatürk (; 19 May 1881  – 10 Nov...</td>\n",
       "      <td>90134</td>\n",
       "    </tr>\n",
       "  </tbody>\n",
       "</table>\n",
       "</div>"
      ],
      "text/plain": [
       "   labels                                               text  length\n",
       "0       0  Ang Ebolusyon ang pagbabago sa mga namamanang ...  110764\n",
       "1       0  100,000 Digits of PiPi Logo\\r\\n3.1415926535897...  101311\n",
       "2       0  Ang Nagkakaisang Kaharian, opisyal na Nagkakai...   96674\n",
       "3       0  Ang Simbahang Katolika Romana o Simbahang Kato...   94932\n",
       "4       0  Mustafa Kemal Atatürk (; 19 May 1881  – 10 Nov...   90134"
      ]
     },
     "execution_count": 110,
     "metadata": {},
     "output_type": "execute_result"
    }
   ],
   "source": [
    "LANG_TEXT.head()"
   ]
  },
  {
   "cell_type": "code",
   "execution_count": 111,
   "metadata": {},
   "outputs": [
    {
     "data": {
      "text/plain": [
       "103822"
      ]
     },
     "execution_count": 111,
     "metadata": {},
     "output_type": "execute_result"
    }
   ],
   "source": [
    "len(LANG_TEXT)"
   ]
  },
  {
   "cell_type": "markdown",
   "metadata": {},
   "source": [
    "## Some statistics of Indonesia Wikipedia"
   ]
  },
  {
   "cell_type": "markdown",
   "metadata": {},
   "source": [
    "### Number of documents"
   ]
  },
  {
   "cell_type": "code",
   "execution_count": 112,
   "metadata": {},
   "outputs": [
    {
     "name": "stdout",
     "output_type": "stream",
     "text": [
      "0    Ang Ebolusyon ang pagbabago sa mga namamanang ...\n",
      "1    100,000 Digits of PiPi Logo\\r\\n3.1415926535897...\n",
      "2    Ang Nagkakaisang Kaharian, opisyal na Nagkakai...\n",
      "3    Ang Simbahang Katolika Romana o Simbahang Kato...\n",
      "4    Mustafa Kemal Atatürk (; 19 May 1881  – 10 Nov...\n",
      "Name: text, dtype: object\n"
     ]
    },
    {
     "data": {
      "text/plain": [
       "(103822, 3)"
      ]
     },
     "execution_count": 112,
     "metadata": {},
     "output_type": "execute_result"
    }
   ],
   "source": [
    "print(LANG_TEXT['text'][:5])\n",
    "LANG_TEXT.shape"
   ]
  },
  {
   "cell_type": "markdown",
   "metadata": {},
   "source": [
    "### Number of words in all the documents"
   ]
  },
  {
   "cell_type": "code",
   "execution_count": 113,
   "metadata": {},
   "outputs": [
    {
     "data": {
      "text/plain": [
       "6136315"
      ]
     },
     "execution_count": 113,
     "metadata": {},
     "output_type": "execute_result"
    }
   ],
   "source": [
    "def x_split(x):\n",
    "    l = 0\n",
    "    try:\n",
    "        l = len(x.split(\" \"))\n",
    "    except AttributeError:\n",
    "        print(x)\n",
    "    return l\n",
    "\n",
    "LANG_TEXT['text'].apply(lambda x: x_split(x)).sum()    \n",
    "#LANG_TEXT['text'].apply(lambda x: len(x.split(\" \"))).sum()"
   ]
  },
  {
   "cell_type": "markdown",
   "metadata": {},
   "source": [
    "### Number of unique tokens across documents"
   ]
  },
  {
   "cell_type": "code",
   "execution_count": 114,
   "metadata": {},
   "outputs": [
    {
     "data": {
      "text/plain": [
       "548210"
      ]
     },
     "execution_count": 114,
     "metadata": {},
     "output_type": "execute_result"
    }
   ],
   "source": [
    "len(set(''.join(LANG_TEXT['text'].values).split(\" \")))"
   ]
  },
  {
   "cell_type": "markdown",
   "metadata": {},
   "source": [
    "## Clear plain text"
   ]
  },
  {
   "cell_type": "code",
   "execution_count": 115,
   "metadata": {},
   "outputs": [],
   "source": [
    "re1 = re.compile(r'  +')\n",
    "\n",
    "def fixup(x):\n",
    "    x = x.replace('#39;', \"'\").replace('amp;', '&').replace('#146;', \"'\").replace(\n",
    "        'nbsp;', ' ').replace('#36;', '$').replace('\\\\n', \"\\n\").replace('quot;', \"'\").replace(\n",
    "        '<br />', \"\\n\").replace('\\\\\"', '\"').replace('<unk>','u_n').replace(' @.@ ','.').replace(\n",
    "        ' @-@ ','-').replace('\\\\', ' \\\\ ')\n",
    "    return re1.sub(' ', html.unescape(x))"
   ]
  },
  {
   "cell_type": "markdown",
   "metadata": {},
   "source": [
    "## Tokenize"
   ]
  },
  {
   "cell_type": "code",
   "execution_count": 116,
   "metadata": {},
   "outputs": [],
   "source": [
    "def get_texts(df, n_lbls=1):\n",
    "    labels = df.iloc[:,range(n_lbls)].values.astype(np.int64)\n",
    "    texts = f'\\n{BOS} {FLD} 1 ' + df[n_lbls].astype(str)\n",
    "    for i in range(n_lbls+1, len(df.columns)): \n",
    "        texts += f' {FLD} {i-n_lbls} ' + df[i].astype(str)\n",
    "    texts = texts.apply(fixup).values.astype(str)\n",
    "    tok = Tokenizer(n_cpus=1).process_all(texts) # splits the list into sublists for processing by each core\n",
    "    # Lower and upper case is inside the tokenizer\n",
    "    return tok, list(labels)\n",
    "\n",
    "def get_all(df, n_lbls):\n",
    "    tok, labels = [], []\n",
    "    for i, r in enumerate(df):\n",
    "        print(i)\n",
    "        #pdb.set_trace()\n",
    "        tok_, labels_ = get_texts(r, n_lbls)\n",
    "        tok += tok_;\n",
    "        labels += labels_\n",
    "    return tok, labels"
   ]
  },
  {
   "cell_type": "markdown",
   "metadata": {},
   "source": [
    "## Create validation set"
   ]
  },
  {
   "cell_type": "code",
   "execution_count": 29,
   "metadata": {},
   "outputs": [],
   "source": [
    "#LANG_TEXT = pd.read_csv(f\"{PATH_ROOT}/wiki_{LANG}_corpus.csv\")\n",
    "#LANG_TEXT.columns = ['labels', 'text']"
   ]
  },
  {
   "cell_type": "code",
   "execution_count": 30,
   "metadata": {},
   "outputs": [
    {
     "name": "stdout",
     "output_type": "stream",
     "text": [
      "   labels                                               text  length\n",
      "0       0  Ang Ebolusyon ang pagbabago sa mga namamanang ...  110764\n",
      "1       0  100,000 Digits of PiPi Logo\\r\\n3.1415926535897...  101311\n",
      "2       0  Ang Nagkakaisang Kaharian, opisyal na Nagkakai...   96674\n",
      "3       0  Ang Simbahang Katolika Romana o Simbahang Kato...   94932\n",
      "4       0  Mustafa Kemal Atatürk (; 19 May 1881  – 10 Nov...   90134\n"
     ]
    },
    {
     "data": {
      "text/plain": [
       "(103822, 3)"
      ]
     },
     "execution_count": 30,
     "metadata": {},
     "output_type": "execute_result"
    }
   ],
   "source": [
    "print(LANG_TEXT.head())\n",
    "LANG_TEXT.shape"
   ]
  },
  {
   "cell_type": "code",
   "execution_count": 31,
   "metadata": {},
   "outputs": [],
   "source": [
    "trn_texts,val_texts = model_selection.train_test_split(\n",
    "    LANG_TEXT, test_size=0.1, random_state=427) # split the data into train and validation sets"
   ]
  },
  {
   "cell_type": "code",
   "execution_count": 32,
   "metadata": {},
   "outputs": [
    {
     "data": {
      "text/plain": [
       "(93439, 10383)"
      ]
     },
     "execution_count": 32,
     "metadata": {},
     "output_type": "execute_result"
    }
   ],
   "source": [
    "len(trn_texts), len(val_texts)"
   ]
  },
  {
   "cell_type": "code",
   "execution_count": 33,
   "metadata": {},
   "outputs": [],
   "source": [
    "np.random.seed(427)\n",
    "trn_idx = np.random.permutation(len(trn_texts)) # generate a random ordering\n",
    "val_idx = np.random.permutation(len(val_texts))\n",
    "\n",
    "df_trn = trn_texts.iloc[trn_idx,:] # sort things randomly\n",
    "df_val = val_texts.iloc[val_idx,:] # sort things randomly\n",
    "\n",
    "df_trn.columns = ['labels', 'text', 'length']\n",
    "df_val.columns = ['labels', 'text', 'length']\n",
    "\n",
    "df_trn.to_csv(f\"wiki_{LANG}_train.csv\", header=False, index=False)\n",
    "df_val.to_csv(f\"wiki_{LANG}_test.csv\", header=False, index=False) # saving the data in our new format to disk"
   ]
  },
  {
   "cell_type": "code",
   "execution_count": 34,
   "metadata": {},
   "outputs": [],
   "source": [
    "chunksize = 5000\n",
    "df_trn = pd.read_csv(f\"wiki_{LANG}_train.csv\", header=None, chunksize=chunksize)\n",
    "df_val = pd.read_csv(f\"wiki_{LANG}_test.csv\", header=None, chunksize=chunksize)"
   ]
  },
  {
   "cell_type": "code",
   "execution_count": 35,
   "metadata": {},
   "outputs": [
    {
     "name": "stdout",
     "output_type": "stream",
     "text": [
      "0\n",
      "1\n",
      "2\n",
      "3\n",
      "4\n",
      "5\n",
      "6\n",
      "7\n",
      "8\n",
      "9\n",
      "10\n",
      "11\n",
      "12\n",
      "13\n",
      "14\n",
      "15\n",
      "16\n",
      "17\n",
      "18\n",
      "0\n",
      "1\n",
      "2\n"
     ]
    }
   ],
   "source": [
    "wiki_tok_trn, wiki_trn_labels = get_all(df_trn, 1)\n",
    "wiki_tok_val, wiki_val_labels = get_all(df_val, 1)"
   ]
  },
  {
   "cell_type": "code",
   "execution_count": 36,
   "metadata": {},
   "outputs": [],
   "source": [
    "# create a tmp directory to store the upcoming numpy arrays\n",
    "(PATH_TMP).mkdir(exist_ok=True)\n",
    "\n",
    "# save the train and validation tokens in the tmp directories\n",
    "np.save(PATH_TMP/'wiki_tok_trn.npy', wiki_tok_trn)\n",
    "np.save(PATH_TMP/'wiki_tok_val.npy', wiki_tok_val)"
   ]
  },
  {
   "cell_type": "code",
   "execution_count": 37,
   "metadata": {},
   "outputs": [],
   "source": [
    "wiki_tok_trn = np.load(PATH_TMP/'wiki_tok_trn.npy')\n",
    "wiki_tok_val = np.load(PATH_TMP/'wiki_tok_val.npy')"
   ]
  },
  {
   "cell_type": "code",
   "execution_count": 42,
   "metadata": {},
   "outputs": [
    {
     "name": "stdout",
     "output_type": "stream",
     "text": [
      "Trn: [list(['\\n', 'xbos', 'xfld', '1', 'ang', 'muscat', 'ay', 'ang', 'kabisera', 'ng', 'bansang', 'oman', '.', '\\r\\r\\n ', 'xfld', '1', '44'])\n",
      " list(['\\n', 'xbos', 'xfld', '1', 'taliabo', 'ay', 'isang', 'wikang', 'sinasalita', 'sa', 'indonesia.[[kaurian', ':', 'mga', 'wika', 'ng', 'indonesia', 'xfld', '1', '79'])\n",
      " list(['\\n', 'xbos', 'xfld', '1', 'sa', 'mga', 'larangan', 'ng', 'sikolohiya', 'at', 'sikyatriya', ',', 'ang', 'depresyon', 'na', 'kilala', 'sa', 'ingles', 'bilang', 'major', 'depressive', 'disorder', '(', 'xxup', 'mdd', ')', ',', 'recurrent', 'depressive', 'disorder', ',', 'clinical', 'depression', ',', 'major', 'depression', ',', 'unipolar', 'depression', ',', 'o', 'unipolar', 'disorder', 'ay', 'isang', 'sakit', 'sa', 'pag', '-', 'iisip', 'na', 'inilalarawan', 'ng', 'malawakang', 'mababang', 'mood', 'na', 'sinamahan', 'ng', 'mababang', 'pagtingin', 'sa', 'sarili', '(', 'nawala', 'ang', 'pagpapahalaga', 'sa', 'sarili', ')', ',', 'kawalan', 'ng', 'interes', 'o', 'kasiyahan', 'sa', 'mga', 'normal', 'na', 'nakasisiyang', 'mga', 'gawain', '.', 'ang', 'kumpol', 'ng', 'mga', 'sintomas', 'o', 'sindromang', 'ito', 'ay', 'inilarawan', 'at', 'inuri', 'bilang', 'isa', 'sa', 'mga', 'diperensiya', 'ng', 'mood', 'ng', '1980', 'diagnostic', 'and', 'statistical', 'manual', 'of', 'mental', 'disorders', '.', 'ang', 'salitang', '\"', 'depresyon', '\"', 'ay', 'hindi', 'malinaw', '.', 'ito', 'ay', 'kalimitang', 'ginagamit', 'upang', 'tukuyin', 'ang', 'sindromang', 'ito', 'ngunit', 'maari', 'ring', 'tumukoy', 'sa', 'ibang', 'mga', 'diperensiya', 'ng', 'mood', 'o', 'sa', 'mababang', 'mga', 'estado', 'ng', 'mood', 'na', 'walang', 'kahalagahang', 'klinikal', '.', 'ang', 'pangunahing', 'depresibong', 'diperensiya', 'ay', 'isang', 'nakapipinsalang', 'kondisyon', 'na', 'labis', 'na', 'nakaapekto', 'sa', 'pamilya', 'ng', 'pasyenteng', 'meron', 'nito', ',', 'sa', 'trabaho', ',', 'sa', 'pag', '-', 'aaral', ',', 'sa', 'pagtulog', ',', 'pagkain', 'at', 'sa', 'kabuuang', 'kalusugan', '.', 'sa', 'estados', 'unidos', ',', 'ang', 'mga', '3.4', '%', 'ng', 'mga', 'indibidwal', 'na', 'may', 'pangunahing', 'depresyon', 'ay', 'nagpapakamatay', 'at', 'halos', '60', '%', 'ng', 'mga', 'nagpapakamatay', 'ay', 'may', 'depresyon', 'o', 'may', 'iba', 'pang', 'diperensiya', 'ng', 'mood', '.', 'ang', 'diagnosis', 'ng', 'pangunahing', 'depresyon', 'ay', 'batay', 'sa', 'sariling', 'karanasan', 'ng', 'pasyente', ',', 'sa', 'pag', '-', 'aasal', 'na', 'iniulat', 'ng', 'mga', 'kamag', '-', 'anak', 'o', 'kaibigan', 'at', 'sa', 'pagsisiyasat', 'ng', 'estado', 'ng', 'kaisipan', 'ng', 'pasyente', '.', 'walang', 'pagsubok', 'laboratoryo', 'para', 'sa', 'pangunahing', 'depresyon', ',', 'bagaman', 'ang', 'mga', 'doktor', 'ay', 'humihiling', 'ng', 'mga', 'pagsubok', 'para', 'sa', 'mga', 'kondisyong', 'pisikal', 'na', 'maaaring', 'magsanhi', 'ng', 'parehong', 'mga', 'sintomas', '.', 'ang', 'pinakakaraniwang', 'panahon', 'ng', 'pagsisimula', 'nito', 'ay', 'sa', 'pagitan', 'ng', '20', 'hanggang', '30', 'anos', 'na', 'may', 'kalaunang', 'sukdulan', 'mula', 'sa', 'pagitan', 'ng', '30', 'hanggang', '40', 'anos', '.', 'sa', 'karaniwan', ',', 'ang', 'mga', 'pasyenteng', 'may', 'depresyon', 'ay', 'ginagamit', 'ng', 'mga', 'antidepressant', 'at', 'sa', 'maraming', 'mga', 'kaso', 'ay', 'ng', 'sikoterapiya', 'o', 'pagpapayo', '.', 'ang', 'hospitalisasyon', 'ay', 'maaaring', 'kailangan', 'para', 'sa', 'mga', 'kasong', 'kaugnay', 'ng', 'kapabayaan', 'sa', 'sarili', 'o', 'malaking', 'panganib', 'sa', 'sarili', 'o', 'sa', 'ibang', 'tao', '.', 'ang', 'maliit', 'na', 'bilang', 'ng', 'mga', 'pasyenteng', 'may', 'depresyon', 'ay', 'ginagamit', 'ng', 'elektrokonbulsibong', 'terapiya', '.', 'ang', 'panahon', 'ng', 'sakit', 'na', 'ito', 'ay', 'iba', 'iba', 'mula', 'sa', 'isang', 'episodyong', 'tumatagal', 'ng', 'mga', 'linggo', 'hanggang', 'sa', 'pang', 'habang', 'buhay', 'na', 'kapansanan', 'na', 'may', 'paulit', 'ulit', 'na', 'episodyo', '.', 'ang', 'mga', 'indbidwal', 'na', 'may', 'depresyon', 'ay', 'may', 'inaasahang', 'maikling', 'buhay', 'kumpara', 'sa', 'mga', 'wala', 'nito', 'sanhi', 'sa', 'isang', 'bahagi', 'ng', 'pagiging', 'marupok', 'sa', 'mga', 'sakit', 'at', 'pagpapatiwakal', '.', 'hindi', 'pa', 'maliwanag', 'kung', 'ang', 'mga', 'antidepressant', 'ay', 'umaapekto', 'sa', 'panganib', 'ng', 'pagpapatiwakal', 'ng', 'mga', 'indibidwal', 'na', 'umiinom', 'nito', '.', 'ang', 'pag', '-', 'unawa', 'sa', 'kalikasan', 'at', 'mga', 'sanhi', 'ng', 'depresyon', 'ay', 'nagbago', 'sa', 'loob', 'ng', 'mga', 'siglo', 'bagaman', 'ang', 'pagkakaunawang', 'ito', 'ay', 'hindi', 'pa', 'kumpleto', 'at', 'maraming', 'pang', 'mga', 'aspeto', 'ng', 'depresyon', 'ang', 'paksa', 'ng', 'talakayan', 'at', 'kasalukuyang', 'pagsasaliksik', '.', 'ang', 'mga', 'minungkahing', 'sanhi', 'nito', 'ay', 'kinabibilangan', 'ng', 'sikolohikal', ',', 'sikososyal', ',', 'hereditaryo', ',', 'ebolusyonaryo', 'at', 'mga', 'biolohikal', 'na', 'paktor', '.', 'ang', 'ilang', 'mga', 'uri', 'ng', 'pangmatagalang', 'paggamit', 'ng', 'droga', 'ay', 'maaaring', 'parehong', 'magsanhi', 'at', 'magpalala', 'ng', 'mga', 'sintomas', 'na', 'depresibo', '.', 'ang', 'mga', 'paggamot', 'na', 'sikolohikal', 'ay', 'batay', 'sa', 'mga', 'teoriya', 'ng', 'personalidad', ',', 'komunikasyong', 'interpersonal', 'at', 'pagkatuto', '.', 'ang', 'karamihan', 'sa', 'mga', 'biolohikal', 'na', 'teoriya', 'ng', 'depresyon', 'ay', 'nakapokus', 'sa', 'monoaminong', 'mga', 'kemikal', 'na', 'serotonin', ',', 'norepinephrine', 'at', 'dopamino', 'na', 'likas', 'na', 'matatagpuan', 'sa', 'utas', 'at', 'tumutulog', 'sa', 'pakikipagugnayan', 'sa', 'pagitan', 'ng', 'mga', 'neuron', '.', '\\r\\r\\n', 'mga', 'sanhi', '.', '\\r\\r\\n', 'ang', 'modelong', 'biosikososyal', 'ay', 'nagmumungkahing', 'ang', 'biolohikal', ',', 'sikolohikal', 'at', 'mga', 'paktor', 'na', 'panlipunanay', 'lahat', 'gumagampan', 'ng', 'papel', 'sa', 'pagsasanhi', 'ng', 'depresyon', '.', 'ang', 'modelong', 'diathesis', '–', 'stress', 'ay', 'nagsasaad', 'na', 'ang', 'depresyon', 'ay', 'nagreresulta', 'kapag', 'ang', 'isang', 'umiiral', 'na', 'pagiging', 'marupok', 'o', 'diathesis', 'ay', 'napagana', 'ng', 'mga', 'pangyayari', 'sa', 'buhay', 'na', 'nakaka', '-', 'stress', '.', 'ang', 'umiiral', 'na', 'karupukang', 'ito', 'ay', 'maaaring', 'henetiko', ',', 'na', 'nagpapahiwatig', 'ng', 'interaksiyon', 'sa', 'pagitan', 'ng', 'kalikasan', 'kesa', 'pagpapalaki', 'o', 'skematiko', 'na', 'nagreresulta', 'mula', 'sa', 'mga', 'pananaw', 'ng', 'mundong', 'natutunan', 'sa', 'pagkabata.ang', 'mga', 'magkakaugnay', 'na', 'modelong', 'ito', 'ay', 'nagkamit', 'ng', 'suportang', 'empirikal', '.', 'halimbawa', ',', 'ang', 'mga', 'mananaliksik', 'sa', 'new', 'zealand', 'ay', 'kumuha', 'ng', 'prospektibong', 'pakikitungo', 'sa', 'pag', '-', 'aaral', 'ng', 'depresyon', 'sa', 'pamamagitan', 'ng', 'pagdodokumento', 'sa', 'mahabang', 'panahon', 'kung', 'paanong', 'ang', 'depresyon', 'ay', 'lumitaw', 'sa', 'simulang', 'normal', 'na', 'cohort', 'ng', 'mga', 'tao', '.', 'ang', 'mga', 'mananaliksik', 'ay', 'nagkonklud', 'na', 'ang', 'bariasyon', 'sa', 'tagahatid', 'ng', 'serotonin', '(', 'serotonin', 'transporter', ')', '(', '5-', 'xxup', 'htt', ')', 'gene', 'ay', 'umaapekto', 'sa', 'tsansa', 'na', 'ang', 'mga', 'indibidwal', 'na', 'nagkaroon', 'ng', 'mga', 'pangyayaring', 'nakaka', '-', 'stress', 'ay', 'magpapatuloy', 'na', 'makaranas', 'ng', 'depresyon', '.', 'sa', 'spesipiko', ',', 'ang', 'depresyon', 'ay', 'maaaring', 'sumunod', 'sa', 'mga', 'gayong', 'pangyayari', 'ngunit', 'mas', 'malamang', 'na', 'lumitaw', 'sa', 'mga', 'taong', 'may', 'isa', 'o', 'dalawang', 'maikling', 'allele', 'ng', '5-', 'xxup', 'htt', 'gene', '.', 'sa', 'karagdagan', ',', 'ang', 'isang', 'pag', '-', 'aaral', 'na', 'swedish', 'ay', 'tumantiya', 'ng', 'pagmamana', 'ng', 'depresyon', 'na', 'digri', 'kung', 'saan', 'ang', 'pagkakaiba', 'ng', 'mga', 'indbidwal', 'ay', 'nauugnay', 'sa', 'pagkakaibang', 'henetika', '-', 'mga', '40', '%', 'para', 'sa', 'mga', 'kababaihan', 'at', '30', '%', 'para', 'sa', 'mga', 'kalalakihan', ',', 'at', 'ang', 'mga', 'ebolusyonaryong', 'sikolohista', 'ay', 'nagmungkahing', 'ang', 'henetikong', 'basehan', 'para', 'sa', 'depresyon', 'ay', 'malalim', 'na', 'nasa', 'kasaysayan', 'ng', 'natural', 'na', 'napiling', 'adaptasyon', '.', 'ang', 'isang', 'pinukaw', 'ng', 'substansiya', 'o', 'drogang', 'depresyon', 'na', 'katulad', 'ng', 'sa', 'pangunahing', 'depresyon', 'ay', 'naiugnay', 'sa', 'pangmatagalang', 'paggamit', 'ng', 'droga', 'o', 'pag', '-', 'abuso', 'ng', 'droga', 'o', 'pagtigil', 'mula', 'sa', 'ilang', 'mga', 'sedatibo', 'at', 'hipnotikong', 'droga.hipotesis', 'na', 'monoamino', '.', '\\r\\r\\n', 'ang', 'karamihan', 'sa', 'mga', 'gamot', 'na', 'antidepressant', 'ay', 'nagpaparami', 'ng', 'mga', 'lebel', 'ng', 'isa', 'o', 'maraming', 'mga', 'monoamino', '(', 'monoamine', ')', 'na', 'mga', 'neurotransmitter', 'na', 'serotonin', ',', 'norepinephrine', 'at', 'dopamino', '—', 'sa', 'kemikal', 'na', 'sinaptik', 'cleft', 'sa', 'pagitan', 'ng', 'mga', 'neuron', 'sa', 'utak', '.', 'ang', 'ilang', 'mga', 'medikasyon', 'ay', 'umaapekto', 'sa', 'mga', 'reseptor', 'na', 'monamino', 'ng', 'direkta', '.', 'ang', 'serotonin', 'ay', 'hinipotesis', 'na', 'nagreregula', 'sa', 'ibang', 'mga', 'sistemang', 'neurotransmitter', '.', 'ang', 'nabawasang', 'gawaing', 'serotonin', 'ay', 'maaring', 'pumayag', 'sa', 'mga', 'sistemang', 'ito', 'na', 'umaasal', 'sa', 'hindi', 'karaniwan', 'at', 'hindi', 'matatag', 'na', 'paraan', '.', 'ayon', 'sa', '\"', 'pumapayag', 'na', 'hipotesis', '\"', 'na', 'ito', ',', 'ang', 'depresyon', 'ay', 'lumilitaw', 'kapag', 'ang', 'mababang', 'mga', 'lebel', 'ng', 'serotonin', 'ay', 'nagtataguyod', 'ng', 'mababang', 'mga', 'lebel', 'ng', 'norepinephrine', 'na', 'isa', 'pang', 'monoamine', 'neurotransmitter', '.', 'ang', 'ilang', 'mga', 'antidepressant', 'ay', 'nagpapalakas', 'ng', 'mga', 'lebel', 'ng', 'norepinephrine', 'ng', 'diekta', 'samantalang', 'ang', 'iba', 'ang', 'nagpapataaws', 'ng', 'mga', 'lebel', 'ng', 'dopamino', 'na', 'ikatlong', 'monoaminong', 'neurotransmitter', '.', 'ang', 'mga', 'obserbasyogn', 'ito', 'ay', 'nagpalitaw', 'ng', 'hipotesis', 'na', 'monoamino', 'ng', 'depresyon', '.', 'sa', 'kontemporaryong', 'pormulasyon', 'nito', ',', 'ang', 'hipotesis', 'na', 'monoamino', 'ay', 'nagpostula', 'na', 'ang', 'kakulangan', 'ng', 'ilang', 'mga', 'neurotransmitter', 'ay', 'responsable', 'sa', 'tumutugmang', 'katangian', 'ng', 'depresyon', '.', 'ang', 'noripineprhine', 'ay', 'maaring', 'kaugnay', 'ng', 'pagiging', 'alerto', 'at', 'enerhiya', 'gayundin', 'ng', 'pagkabalisa', ',', 'atensiyon', ',', 'at', 'interes', 'sa', 'buhay', '.', 'ang', 'kawalan', 'ng', 'serotonin', 'ay', 'maaaring', 'kaugnay', 'ng', 'pagkabalisa', ',', 'kasiyahan', ',', 'at', 'kompulsiyon', '.', 'ang', 'dopamino', 'ay', 'kaugnay', 'ng', 'atensiyon', ',', 'motibasyon', ',', 'kasiyahan', ',', 'gantimpala', 'gayundin', 'ng', 'interes', 'sa', 'buhay', '.', 'ang', 'mga', 'tagataguyod', 'ng', 'teoriyang', 'ito', 'ay', 'nagmungkahing', 'ng', 'pagpipiliang', 'antidepressant', 'na', 'may', 'mekanismo', 'ng', 'aksiyon', 'na', 'umaapekto', 'sa', 'pinakakilalang', 'mga', 'sintomas', '.', 'ang', 'mga', 'nababalisa', 'at', 'inising', 'pasyente', 'ay', 'dapat', 'gamutin', 'ng', 'xxup', 'ssri', 'o', 'norepinephrine', 'reuptake', 'inhibitor', 'at', 'ang', 'mga', 'nakakaranas', 'ng', 'kawalan', 'ng', 'enerhiya', 'at', 'kasiyahan', 'sa', 'buhay', 'ng', 'mga', 'drogang', 'nagpapataas', 'ng', 'norepinephrine', 'at', 'dopamine.bukod', 'sa', 'mga', 'klinikal', 'na', 'obserbasyon', 'na', 'ang', 'mga', 'drogang', 'nagpapadami', 'ng', 'halaga', 'ng', 'magagamit', 'na', 'monoamino', 'ay', 'mga', 'epektibong', 'antidepressant', ',', 'ang', 'mga', 'kamakailang', 'pagsulong', 'sa', 'sikayatrikong', 'henetika', 'ay', 'nagpapakitang', 'ang', 'phenotipikong', 'bariasyon', 'sa', 'sental', 'na', 'tungkuling', 'monoamino', 'ay', 'maaaring', 'maliit', 'na', 'maiugnay', 'sa', 'pagiging', 'marupok', 'sa', 'depresyon', '.', 'sa', 'kabila', 'ng', 'mga', 'pagkakatuklas', 'na', 'ito', ',', 'ang', 'sanhi', 'ng', 'depresyon', 'ay', 'hindi', 'lang', 'simpleng', 'kakulangan', 'ng', 'monoamino', '.', 'sa', 'nakaraang', 'dalawang', 'mga', 'dekada', ',', 'ang', 'mga', 'pagsasaliksik', 'ay', 'naghayag', 'ng', 'maraming', 'limitasyon', 'sa', 'hipotesis', 'na', 'monoamino', 'at', 'ang', 'kakulangan', 'ng', 'pagpapaliwanag', 'nito', 'ay', 'binigyang', 'diin', 'sa', 'pamayanang', 'sikayatriko', '.', 'ang', 'isang', 'pagtutol', 'ay', 'ang', 'epekto', 'na', 'nagpapalakas', 'ng', 'mood', 'ng', 'mga', 'xxup', 'maoi', 'at', 'xxup', 'ssri', 'ay', 'tumatagal', 'ng', 'mga', 'linggo', 'ng', 'paggamot', 'bago', 'mabuo', 'bagaman', 'ang', 'pagdami', 'ng', 'magagamit', 'na', 'monoamino', 'ay', 'nangyayari', 'sa', 'loob', 'ng', 'mga', 'oras', '.', 'ang', 'isa', 'pang', 'pagtutol', 'ay', 'batay', 'sa', 'mga', 'eksperimento', 'sa', 'ahenteng', 'parmakolohikal', 'na', 'nagsasanhi', 'ng', 'kakulangan', 'ng', 'mga', 'monoamino', '.', 'bagaman', 'ang', 'sinadyang', 'pagbabawas', 'sa', 'konsentrasyon', 'ng', 'magagamit', 'na', 'monoamino', 'ay', 'maaaring', 'magpababa', 'ng', 'mood', 'ng', 'mga', 'pasyenteng', 'depresado', ',', 'ang', 'pagbabawas', 'na', 'ito', 'ay', 'umaapekto', 'sa', 'mood', 'ng', 'mga', 'malulusog', 'na', 'indibidwal.noong', '2003', 'ang', 'isang', 'interaksiyong', 'gene', '-', 'kapaligiran', '(', 'gxe', ')', 'ay', 'hinipotesis', 'upang', 'ipaliwanag', 'kung', 'bakit', 'ang', 'stress', 'sa', 'buhay', 'ay', 'isang', 'prediktor', 'sa', 'mga', 'episodyong', 'depresibo', 'sa', 'ilang', 'mga', 'indibidwal', 'ngunit', 'hindi', 'sa', 'iba', 'batay', 'sa', 'bariasyon', 'ng', 'allele', 'sa', 'kaugnay', 'ng', 'tagahatid', 'ng', 'serotonin', 'na', 'promotor', 'na', 'rehiyon', '.', '(', '5-', 'xxup', 'httlpr', ')', ';', 'ang', 'isang', '2009', 'meta', '-', 'analysis', 'ay', 'nagpakitang', 'ang', 'mga', 'pangyayari', 'sa', 'buhay', 'na', 'nakakastress', 'ay', 'kaugnay', 'ng', 'depresyon', 'ngunit', 'hindi', 'nakatagpo', 'ng', 'ebidensiya', 'para', 'sa', 'asosiasyon', 'sa', '5-', 'xxup', 'httlpr', 'genotype', '.', 'ang', 'isa', 'pang', '2009', 'meta', '-', 'analysis', 'ay', 'umaayon', 'sa', 'kalaunang', 'pag', '-', 'aaral', '.', 'ang', 'isang', '2010', 'review', 'ng', 'mga', 'pag', '-', 'aaral', 'sa', 'sakop', 'na', 'ito', 'ay', 'nakatagpo', 'ng', 'sistematikong', 'ugnayan', 'sa', 'pagitan', 'ng', 'mga', 'paraan', 'upang', 'tayahin', 'ang', 'mga', 'kahirapan', 'sa', 'kapaligiran', 'at', 'mga', 'resulta', 'ng', 'pag', '-', 'aaral', '.', 'natagpuan', 'rin', 'ng', 'review', 'na', 'ito', 'na', 'ang', '2009', 'meta', '-', 'analyses', 'ay', 'labis', 'na', 'kumikiling', 'sa', 'mga', 'negatibong', 'pag', '-', 'aaral', 'na', 'gummit', 'na', 'sariling', 'ulat', 'ng', 'sukat', 'ng', 'kahirapan', '.', '\\r\\r\\n', 'iba', 'pang', 'mga', 'teoriya', '.', '\\r\\r\\n', 'ang', 'xxup', 'mri', 'scan', 'ng', 'mga', 'pasyenteng', 'may', 'depresyon', 'ay', 'naghayag', 'ng', 'ilang', 'mga', 'pagkakaiba', 'sa', 'istraktura', 'ng', 'utak', 'kumpara', 'sa', 'mga', 'indibidwal', 'na', 'walang', 'depresyon', '.', 'ang', 'kamakailang', 'meta', '-', 'analysis', 'ng', 'mga', 'pag', '-', 'aaral', 'na', 'neuroimaging', 'sa', 'pangunahing', 'depresyon', 'ay', 'nag', '-', 'ulat', 'na', 'kumpara', 'sa', 'mga', 'kontrol', ',', 'ang', 'mga', 'depresadong', 'pasyente', 'ay', 'may', 'tumaas', 'na', 'bolyum', 'ng', 'lateral', 'ventricles', 'at', 'glandulang', 'adrenal', 'at', 'mas', 'maliit', 'na', 'mga', 'bolyum', 'ng', 'basal', 'ganglia', ',', 'thalamus', ',', 'hippocampus', ',', 'at', 'harapang', 'lobo', '(', 'kabilang', 'ang', 'orbitofrontal', 'cortex', 'at', 'gyrus', 'rectus', ')', '.', 'ang', 'mga', 'hyperintensidad', 'ay', 'naiugnay', 'sa', 'mga', 'pasyenteng', 'may', 'pagsisimula', 'sa', 'kalaunang', 'edad', 'at', 'tumungo', 'sa', 'pagbuo', 'ng', 'teoriya', 'ng', 'depresyong', 'baskular.maaring', 'may', 'kaungyan', 'sa', 'pagitan', 'ng', 'depresyon', 'at', 'neurohenesis', 'sa', 'hippocampus', ',', 'na', 'sentro', 'ng', 'parehong', 'mood', 'at', 'memorya', '.', 'ang', 'paglaho', 'ng', 'mga', 'neuron', 'na', 'hippocampal', 'ay', 'matatagpuan', 'sa', 'ilang', 'mga', 'depresadong', 'indibidwal', 'at', 'umuugnay', 'sa', 'napinsalang', 'memory', 'at', 'mood', 'na', 'dysthimiko', '.', 'ang', 'mga', 'gamot', 'ay', 'maaaring', 'magpataas', 'ng', 'mga', 'lebel', 'ng', 'serotonin', 'sa', 'utak', 'at', 'pumukaw', 'ng', 'neurohenesis', 'at', 'kaya', 'ay', 'magdadagdag', 'ng', 'kabuuang', 'masa', 'ng', 'hippocampus', '.', 'ang', 'pagdadagdag', 'na', 'ito', 'ay', 'maaaring', 'makatulong', 'sa', 'pagpapanumbalik', 'ng', 'mood', 'at', 'memorya', '.', 'ang', 'katulad', 'na', 'mga', 'ugnayanan', 'ay', 'napagmasdan', 'sa', 'pagitan', 'ng', 'depresyon', 'at', 'sa', 'area', 'ng', 'anterior', 'cingulate', 'cortex', 'na', 'itinuturo', 'sa', 'modulasyon', 'ng', 'pag', '-', 'aasal', 'na', 'emosyonal', '.', 'ang', 'isa', 'sa', 'mga', 'neutrophin', 'na', 'responsable', 'para', 'sa', 'neurohenesis', 'ang', 'brain', '-', 'derived', 'neurotrophic', 'factor', '(', 'xxup', 'bdnf', ')', '.', 'ang', 'lebel', 'ng', 'xxup', 'bdnf', 'sa', 'plasma', 'ng', 'dugo', 'ng', 'mga', 'depresadong', 'pasyente', 'ay', 'labis', 'na', 'nabawasan', '(', 'higit', 'sa', 'tatlong', 'beses', ')', 'kumpara', 'sa', 'karaniwan', '.', 'ang', 'paggamot', 'ng', 'antidepressant', 'ay', 'nagpapadagdag', 'ng', 'lebel', 'ng', 'dugo', 'ng', 'xxup', 'bdnf', '.', 'bagaman', 'ang', 'nabawasang', 'plasma', 'xxup', 'bdnf', 'na', 'mga', 'lebel', 'ay', 'natagpuan', 'sa', 'maraming', 'mga', 'diperensiya', ',', 'may', 'ilang', 'ebidensiya', 'na', 'ang', 'xxup', 'bdnf', 'ay', 'sangkot', 'sa', 'pagsasanhi', 'ng', 'depresyon', 'at', 'sa', 'mekanismo', 'ng', 'aksiyon', 'ng', 'mga', 'antidepresant.may', 'ilang', 'ebidensiya', 'na', 'ang', 'pangunahing', 'depresyon', 'ay', 'maaaring', 'sanhi', 'sa', 'isang', 'bahagi', 'ng', 'sobrang', 'aktibong', 'hypothalamic', '-', 'pituitary', '-', 'adrenal', 'axis', '(', 'xxup', 'hpa', 'axis', ')', 'na', 'nagreresulta', 'sa', 'epektong', 'kapareho', 'ng', 'tugong', 'neuro', 'endrokrino', 'sa', 'stress', '.', 'ang', 'mga', 'pagsisiyasat', 'ay', 'naghayag', 'ng', 'dumagdag', 'na', 'mga', 'lebel', 'ng', 'hormone', 'na', 'cortisol', 'at', 'lumaking', 'glandulang', 'pituitaryo', 'at', 'glandulang', 'adrenal', 'na', 'nagmumungkahing', 'ang', 'pagkagambala', 'ng', 'sistemang', 'endokrina', 'ay', 'maaaring', 'gumampan', 'ng', 'papel', 'sa', 'ilang', 'mga', 'diperensiyang', 'sikayatriko', 'kabilang', 'ang', 'pangunahing', 'depresyon', '.', 'ang', 'labis', 'na', 'paglalabas', 'ng', 'corticotropin', '-', 'releasing', 'hormone', 'mula', 'sa', 'hypothalamus', 'ay', 'pinaniniwalaang', 'nagpapatakbo', 'nito', 'at', 'itinuturo', 'sa', 'mga', 'sintomas', 'na', 'kognitibo', 'at', 'pagkasabik.ang', 'hormone', 'na', 'estrogen', 'ay', 'itinuro', 'sa', 'mga', 'diperensiyang', 'depresibo', 'sanhi', 'ng', 'pagdadagdag', 'ng', 'panganib', 'ng', 'mga', 'episodyong', 'depresibo', 'pagkatabos', 'ng', 'pubertad', ',', 'yugtong', 'antenatal', 'at', 'nabawasang', 'mga', 'rate', 'pagkatabos', 'ng', 'menopause', '.', 'sa', 'kabaligtaran', ',', 'ang', 'mga', 'yugtong', 'premenstrual', 'at', 'postpartum', 'ng', 'mababang', 'mga', 'lebel', 'ng', 'estrogen', 'ay', 'naiugnay', 'rin', 'sa', 'tumaas', 'na', 'panganib', '.', 'ang', 'mabilis', 'paghinto', ',', 'pabago', 'bago', 'o', 'sa', 'mga', 'yugto', 'ng', 'patuloy', 'na', 'mababang', 'mga', 'lebel', 'ng', 'estrogen', 'ay', 'naiugnay', 'sa', 'labis', 'na', 'pagpapababa', 'ng', 'mood', '.', 'ang', 'klinikal', 'na', 'pagpapapagaling', 'mula', 'sa', 'depresyong', 'postpartum', ',', 'perimenopause', ',', 'at', 'postmenopause', 'ay', 'naipakitang', 'epektibo', 'pagkatapos', 'na', 'ang', 'mga', 'lebel', 'ng', 'estrogen', 'ay', 'naipanumbalik', 'at', 'napatatag.ang', 'ibang', 'mga', 'pagsasaliksik', 'ay', 'sumiyasat', 'ng', 'mga', 'potensiyal', 'na', 'papel', 'ng', 'mga', 'molekula', 'na', 'kailangan', 'para', 'sa', 'kabuuang', 'pagggana', 'ng', 'selula', 'na', 'mga', 'cytokine', '.', 'ang', 'mga', 'sintomas', 'ng', 'pangunahing', 'depresibong', 'diperensiya', 'ay', 'halos', 'katulad', 'ng', 'sa', 'pag', '-', 'aasal', 'ng', 'sakit', 'na', 'tugon', 'ng', 'katawan', 'kapag', 'ang', 'sistemang', 'immuno', 'ay', 'lumalaban', 'sa', 'impeksiyon', '.', 'ito', 'ay', 'nagpapalitaw', 'ng', 'posibilidad', 'na', 'ang', 'depresyon', 'ay', 'maaaring', 'magresulta', 'mula', 'sa', 'maladaptibong', 'manipestasyon', 'ng', 'pag', '-', 'aasal', 'ng', 'sakit', 'bilang', 'resulta', 'ng', 'mga', 'abnormalidad', 'sa', 'umiikot', 'na', 'cytokine', '.', 'sa', 'pinakahuli', ',', 'ang', 'ilang', 'ugnayan', 'ay', 'naiulat', 'sa', 'pagitan', 'ng', 'mga', 'spesipikong', 'pangilalim', 'na', 'uri', 'ng', 'depresyon', 'at', 'mga', 'kondisyong', 'klimatiko', '.', 'kaya', 'ang', 'insidensiya', 'ng', 'depresyong', 'sikotiko', 'ay', 'natagpuang', 'tumataas', 'kapag', 'ang', 'presyonng', 'barometriko', 'ay', 'mababa', 'samantalang', 'ang', 'insidensiya', 'ng', 'depresyong', 'melankoliko', 'ay', 'natagpuang', 'tumataas', 'kapag', 'ang', 'temperatura', 'at', '/', 'o', 'sikat', 'ng', 'araw', 'ay', 'mababa', '.', 'xfld', '1', '13533'])] \n",
      "\n"
     ]
    }
   ],
   "source": [
    "print(\"Trn:\", wiki_tok_trn[:3], \"\\n\")"
   ]
  },
  {
   "cell_type": "code",
   "execution_count": 45,
   "metadata": {},
   "outputs": [
    {
     "data": {
      "text/html": [
       "<div>\n",
       "<style scoped>\n",
       "    .dataframe tbody tr th:only-of-type {\n",
       "        vertical-align: middle;\n",
       "    }\n",
       "\n",
       "    .dataframe tbody tr th {\n",
       "        vertical-align: top;\n",
       "    }\n",
       "\n",
       "    .dataframe thead th {\n",
       "        text-align: right;\n",
       "    }\n",
       "</style>\n",
       "<table border=\"1\" class=\"dataframe\">\n",
       "  <thead>\n",
       "    <tr style=\"text-align: right;\">\n",
       "      <th></th>\n",
       "      <th>0</th>\n",
       "    </tr>\n",
       "  </thead>\n",
       "  <tbody>\n",
       "    <tr>\n",
       "      <th>ng</th>\n",
       "      <td>376882</td>\n",
       "    </tr>\n",
       "    <tr>\n",
       "      <th>sa</th>\n",
       "      <td>370400</td>\n",
       "    </tr>\n",
       "    <tr>\n",
       "      <th>.</th>\n",
       "      <td>290593</td>\n",
       "    </tr>\n",
       "    <tr>\n",
       "      <th>ang</th>\n",
       "      <td>281417</td>\n",
       "    </tr>\n",
       "    <tr>\n",
       "      <th>,</th>\n",
       "      <td>245144</td>\n",
       "    </tr>\n",
       "    <tr>\n",
       "      <th>na</th>\n",
       "      <td>244919</td>\n",
       "    </tr>\n",
       "    <tr>\n",
       "      <th>ay</th>\n",
       "      <td>199915</td>\n",
       "    </tr>\n",
       "    <tr>\n",
       "      <th>mga</th>\n",
       "      <td>191252</td>\n",
       "    </tr>\n",
       "    <tr>\n",
       "      <th>1</th>\n",
       "      <td>189602</td>\n",
       "    </tr>\n",
       "    <tr>\n",
       "      <th>xfld</th>\n",
       "      <td>186878</td>\n",
       "    </tr>\n",
       "    <tr>\n",
       "      <th>\"</th>\n",
       "      <td>149580</td>\n",
       "    </tr>\n",
       "    <tr>\n",
       "      <th>at</th>\n",
       "      <td>133613</td>\n",
       "    </tr>\n",
       "    <tr>\n",
       "      <th>isang</th>\n",
       "      <td>114962</td>\n",
       "    </tr>\n",
       "    <tr>\n",
       "      <th>\\n</th>\n",
       "      <td>93439</td>\n",
       "    </tr>\n",
       "    <tr>\n",
       "      <th>xbos</th>\n",
       "      <td>93439</td>\n",
       "    </tr>\n",
       "    <tr>\n",
       "      <th>\\r\\r\\n</th>\n",
       "      <td>86268</td>\n",
       "    </tr>\n",
       "    <tr>\n",
       "      <th>-</th>\n",
       "      <td>83429</td>\n",
       "    </tr>\n",
       "    <tr>\n",
       "      <th>\\r\\r\\n</th>\n",
       "      <td>75418</td>\n",
       "    </tr>\n",
       "    <tr>\n",
       "      <th>)</th>\n",
       "      <td>63841</td>\n",
       "    </tr>\n",
       "    <tr>\n",
       "      <th>(</th>\n",
       "      <td>60784</td>\n",
       "    </tr>\n",
       "    <tr>\n",
       "      <th>si</th>\n",
       "      <td>50797</td>\n",
       "    </tr>\n",
       "    <tr>\n",
       "      <th>ito</th>\n",
       "      <td>43924</td>\n",
       "    </tr>\n",
       "    <tr>\n",
       "      <th>o</th>\n",
       "      <td>39700</td>\n",
       "    </tr>\n",
       "    <tr>\n",
       "      <th>noong</th>\n",
       "      <td>35774</td>\n",
       "    </tr>\n",
       "    <tr>\n",
       "      <th>ni</th>\n",
       "      <td>32305</td>\n",
       "    </tr>\n",
       "  </tbody>\n",
       "</table>\n",
       "</div>"
      ],
      "text/plain": [
       "              0\n",
       "ng       376882\n",
       "sa       370400\n",
       ".        290593\n",
       "ang      281417\n",
       ",        245144\n",
       "na       244919\n",
       "ay       199915\n",
       "mga      191252\n",
       "1        189602\n",
       "xfld     186878\n",
       "\"        149580\n",
       "at       133613\n",
       "isang    114962\n",
       "\\n        93439\n",
       "xbos      93439\n",
       "\\r\\r\\n    86268\n",
       "-         83429\n",
       "\\r\\r\\n    75418\n",
       ")         63841\n",
       "(         60784\n",
       "si        50797\n",
       "ito       43924\n",
       "o         39700\n",
       "noong     35774\n",
       "ni        32305"
      ]
     },
     "execution_count": 45,
     "metadata": {},
     "output_type": "execute_result"
    }
   ],
   "source": [
    "# Get the Counter object from all the splitted files.\n",
    "# Identify the most common tokens\n",
    "from collections import Counter\n",
    "freq = Counter(p for o in wiki_tok_trn for p in o) \n",
    "freqs = pd.DataFrame.from_dict(freq, orient=\"index\")\n",
    "freqs.sort_values(0, ascending=False).head(25)"
   ]
  },
  {
   "cell_type": "code",
   "execution_count": 46,
   "metadata": {},
   "outputs": [
    {
     "data": {
      "text/plain": [
       "7544349"
      ]
     },
     "execution_count": 46,
     "metadata": {},
     "output_type": "execute_result"
    }
   ],
   "source": [
    "# Sanity check\n",
    "len([p for o in wiki_tok_trn for p in o])"
   ]
  },
  {
   "cell_type": "code",
   "execution_count": 47,
   "metadata": {},
   "outputs": [],
   "source": [
    "cnt = []\n",
    "for i in range(49):\n",
    "    row_cnt = freqs[freqs[0]>=i+1].shape[0]\n",
    "    cnt.append(row_cnt)"
   ]
  },
  {
   "cell_type": "code",
   "execution_count": 51,
   "metadata": {},
   "outputs": [
    {
     "name": "stdout",
     "output_type": "stream",
     "text": [
      "Populating the interactive namespace from numpy and matplotlib\n"
     ]
    },
    {
     "data": {
      "text/plain": [
       "<matplotlib.lines.Line2D at 0x1f1317464e0>"
      ]
     },
     "execution_count": 51,
     "metadata": {},
     "output_type": "execute_result"
    },
    {
     "data": {
      "image/png": "[encoded data removed]",
      "text/plain": [
       "<matplotlib.figure.Figure at 0x1f131746cc0>"
      ]
     },
     "metadata": {
      "needs_background": "light"
     },
     "output_type": "display_data"
    }
   ],
   "source": [
    "%pylab inline\n",
    "plt.plot(cnt)\n",
    "plt.axvline(x=2, color=\"red\", linestyle=\"--\")"
   ]
  },
  {
   "cell_type": "markdown",
   "metadata": {},
   "source": [
    "## Numericalize the text"
   ]
  },
  {
   "cell_type": "code",
   "execution_count": 52,
   "metadata": {},
   "outputs": [],
   "source": [
    "# Truncating our vocab to ignore the rare words\n",
    "max_vocab = 60000\n",
    "min_freq = 5\n",
    "\n",
    "wiki_itos = [o for o,c in freq.most_common(max_vocab) if c>min_freq] # getting rid of the rare words\n",
    "wiki_itos.insert(0, '_pad_') # \n",
    "wiki_itos.insert(0, '_unk_') # wiki_itos is the list of all the strings in the vocab"
   ]
  },
  {
   "cell_type": "code",
   "execution_count": 54,
   "metadata": {},
   "outputs": [
    {
     "data": {
      "text/plain": [
       "43006"
      ]
     },
     "execution_count": 54,
     "metadata": {},
     "output_type": "execute_result"
    }
   ],
   "source": [
    "import collections\n",
    "# creating a index-key dictionary for our vocabulary\n",
    "wiki_stoi = collections.defaultdict(lambda:0, {v:k for k,v in enumerate(wiki_itos)})\n",
    "len(wiki_itos)"
   ]
  },
  {
   "cell_type": "code",
   "execution_count": 55,
   "metadata": {},
   "outputs": [],
   "source": [
    "# creating a index representation for our train and validation dataset\n",
    "wiki_trn_lm = np.array([[wiki_stoi[o] for o in p] for p in wiki_tok_trn])\n",
    "wiki_val_lm = np.array([[wiki_stoi[o] for o in p] for p in wiki_tok_val])"
   ]
  },
  {
   "cell_type": "code",
   "execution_count": 58,
   "metadata": {},
   "outputs": [],
   "source": [
    "import pickle\n",
    "# saving our indexed representation of our dataset to disk\n",
    "# we also save the index-word mapping to retrieve the complete text representation from these numpy arrays\n",
    "np.save(PATH_TMP/'wiki_trn_ids.npy', wiki_trn_lm)\n",
    "np.save(PATH_TMP/'wiki_val_ids.npy', wiki_val_lm)\n",
    "pickle.dump(wiki_itos, open(f'wiki_{LANG}_itos.pkl', 'wb'))"
   ]
  },
  {
   "cell_type": "code",
   "execution_count": 5,
   "metadata": {},
   "outputs": [],
   "source": [
    "# Loading the indexed representation of our dataset from disk\n",
    "# we also load the index-word mapping to to help us convert the indexes to word datasets, if need be.\n",
    "trn_lm = np.load(PATH_TMP/'wiki_trn_ids.npy')\n",
    "val_lm = np.load(PATH_TMP/'wiki_val_ids.npy')\n",
    "wiki_itos = pickle.load(open(f'wiki_{LANG}_itos.pkl', 'rb'))"
   ]
  },
  {
   "cell_type": "code",
   "execution_count": 6,
   "metadata": {},
   "outputs": [],
   "source": [
    "# checking vocabulary size\n",
    "vs=len(wiki_itos)\n",
    "word_count = 0\n",
    "for i in trn_lm:\n",
    "    word_count += len(trn_lm[i])"
   ]
  },
  {
   "cell_type": "code",
   "execution_count": 7,
   "metadata": {},
   "outputs": [
    {
     "name": "stdout",
     "output_type": "stream",
     "text": [
      "vocabulary size: 43006, #articles: 93439, #words: 7544349\n"
     ]
    }
   ],
   "source": [
    "print(f'vocabulary size: {vs}, #articles: {len(trn_lm)}, #words: {word_count}')"
   ]
  },
  {
   "cell_type": "markdown",
   "metadata": {},
   "source": [
    "# Model Setup"
   ]
  },
  {
   "cell_type": "markdown",
   "metadata": {},
   "source": [
    "# Language Model"
   ]
  },
  {
   "cell_type": "code",
   "execution_count": 11,
   "metadata": {},
   "outputs": [],
   "source": [
    "from functools import partial\n",
    "import torch.optim as optim\n",
    "\n",
    "em_sz = 400  # size of each embedding vector\n",
    "nh = 1150    # number of hidden activations per layer\n",
    "nl = 3       # number of layers\n",
    "\n",
    "wd = 1e-7\n",
    "bptt = 70\n",
    "bs = 64\n",
    "# opt_fn = partial(optim.Adam, betas=(0.8, 0.99))\n",
    "opt_fn = partial(optim.SGD, momentum=0.9)\n",
    "weight_factor = 0.3"
   ]
  },
  {
   "cell_type": "code",
   "execution_count": 12,
   "metadata": {},
   "outputs": [],
   "source": [
    "drops = np.array([0.25, 0.1, 0.2, 0.02, 0.15])*weight_factor"
   ]
  },
  {
   "cell_type": "code",
   "execution_count": 13,
   "metadata": {},
   "outputs": [
    {
     "name": "stdout",
     "output_type": "stream",
     "text": [
      "Wall time: 0 ns\n"
     ]
    }
   ],
   "source": [
    "%time\n",
    "\n",
    "trn_dl = LanguageModelLoader(np.concatenate(trn_lm), bs, bptt)\n",
    "val_dl = LanguageModelLoader(np.concatenate(val_lm), bs, bptt)\n",
    "md = LanguageModelData('.', 1, vs, trn_dl, val_dl, bs=bs, bptt=bptt)"
   ]
  },
  {
   "cell_type": "code",
   "execution_count": 14,
   "metadata": {},
   "outputs": [],
   "source": [
    "learner= md.get_model(opt_fn, em_sz, nh, nl, \n",
    "    dropouti=drops[0], dropout=drops[1], wdrop=drops[2], dropoute=drops[3], dropouth=drops[4])\n",
    "\n",
    "learner.metrics = [accuracy]\n",
    "learner.clip = 0.2\n",
    "learner.unfreeze()"
   ]
  },
  {
   "cell_type": "code",
   "execution_count": 15,
   "metadata": {},
   "outputs": [
    {
     "data": {
      "text/plain": [
       "<bound method Learner.summary of SequentialRNN(\n",
       "  (0): RNN_Encoder(\n",
       "    (encoder): Embedding(43006, 400, padding_idx=1)\n",
       "    (encoder_with_dropout): EmbeddingDropout(\n",
       "      (embed): Embedding(43006, 400, padding_idx=1)\n",
       "    )\n",
       "    (rnns): ModuleList(\n",
       "      (0): WeightDrop(\n",
       "        (module): LSTM(400, 1150)\n",
       "      )\n",
       "      (1): WeightDrop(\n",
       "        (module): LSTM(1150, 1150)\n",
       "      )\n",
       "      (2): WeightDrop(\n",
       "        (module): LSTM(1150, 400)\n",
       "      )\n",
       "    )\n",
       "    (dropouti): LockedDropout()\n",
       "    (dropouths): ModuleList(\n",
       "      (0): LockedDropout()\n",
       "      (1): LockedDropout()\n",
       "      (2): LockedDropout()\n",
       "    )\n",
       "  )\n",
       "  (1): LinearDecoder(\n",
       "    (decoder): Linear(in_features=400, out_features=43006, bias=False)\n",
       "    (dropout): LockedDropout()\n",
       "  )\n",
       ")>"
      ]
     },
     "execution_count": 15,
     "metadata": {},
     "output_type": "execute_result"
    }
   ],
   "source": [
    "# AWD-LSTM network\n",
    "learner.summary"
   ]
  },
  {
   "cell_type": "code",
   "execution_count": 16,
   "metadata": {},
   "outputs": [
    {
     "data": {
      "application/vnd.jupyter.widget-view+json": {
       "model_id": "e731af9a598f45a89e20a6b8c709bd30",
       "version_major": 2,
       "version_minor": 0
      },
      "text/plain": [
       "HBox(children=(IntProgress(value=0, description='Epoch', max=1), HTML(value='')))"
      ]
     },
     "metadata": {},
     "output_type": "display_data"
    },
    {
     "name": "stdout",
     "output_type": "stream",
     "text": [
      "\r",
      "  0%|                                                                                         | 0/1683 [00:00<?, ?it/s]"
     ]
    },
    {
     "name": "stderr",
     "output_type": "stream",
     "text": [
      "C:\\Users\\PC\\Projects\\fastai\\courses\\dl1\\ULMFiT-Filipino\\fastai\\model.py:62: UserWarning: torch.nn.utils.clip_grad_norm is now deprecated in favor of torch.nn.utils.clip_grad_norm_.\n",
      "  if IS_TORCH_04: nn.utils.clip_grad_norm(trainable_params_(self.m), self.clip)\n"
     ]
    },
    {
     "name": "stdout",
     "output_type": "stream",
     "text": [
      "\r",
      "  0%|                                                                      | 1/1683 [00:01<48:11,  1.72s/it, loss=10.7]"
     ]
    },
    {
     "name": "stderr",
     "output_type": "stream",
     "text": [
      "C:\\Users\\PC\\Projects\\fastai\\courses\\dl1\\ULMFiT-Filipino\\fastai\\model.py:62: UserWarning: torch.nn.utils.clip_grad_norm is now deprecated in favor of torch.nn.utils.clip_grad_norm_.\n",
      "  if IS_TORCH_04: nn.utils.clip_grad_norm(trainable_params_(self.m), self.clip)\n"
     ]
    },
    {
     "name": "stdout",
     "output_type": "stream",
     "text": [
      "\r",
      "  0%|                                                                      | 2/1683 [00:02<36:58,  1.32s/it, loss=10.7]"
     ]
    },
    {
     "name": "stderr",
     "output_type": "stream",
     "text": [
      "C:\\Users\\PC\\Projects\\fastai\\courses\\dl1\\ULMFiT-Filipino\\fastai\\model.py:62: UserWarning: torch.nn.utils.clip_grad_norm is now deprecated in favor of torch.nn.utils.clip_grad_norm_.\n",
      "  if IS_TORCH_04: nn.utils.clip_grad_norm(trainable_params_(self.m), self.clip)\n"
     ]
    },
    {
     "name": "stdout",
     "output_type": "stream",
     "text": [
      "\r",
      "  0%|                                                                      | 3/1683 [00:02<28:36,  1.02s/it, loss=10.7]"
     ]
    },
    {
     "name": "stderr",
     "output_type": "stream",
     "text": [
      "C:\\Users\\PC\\Projects\\fastai\\courses\\dl1\\ULMFiT-Filipino\\fastai\\model.py:62: UserWarning: torch.nn.utils.clip_grad_norm is now deprecated in favor of torch.nn.utils.clip_grad_norm_.\n",
      "  if IS_TORCH_04: nn.utils.clip_grad_norm(trainable_params_(self.m), self.clip)\n"
     ]
    },
    {
     "name": "stdout",
     "output_type": "stream",
     "text": [
      "\r",
      "  0%|▏                                                                     | 4/1683 [00:02<23:10,  1.21it/s, loss=10.7]"
     ]
    },
    {
     "name": "stderr",
     "output_type": "stream",
     "text": [
      "C:\\Users\\PC\\Projects\\fastai\\courses\\dl1\\ULMFiT-Filipino\\fastai\\model.py:62: UserWarning: torch.nn.utils.clip_grad_norm is now deprecated in favor of torch.nn.utils.clip_grad_norm_.\n",
      "  if IS_TORCH_04: nn.utils.clip_grad_norm(trainable_params_(self.m), self.clip)\n"
     ]
    },
    {
     "name": "stdout",
     "output_type": "stream",
     "text": [
      "\r",
      "  0%|▏                                                                     | 5/1683 [00:03<19:22,  1.44it/s, loss=10.7]"
     ]
    },
    {
     "name": "stderr",
     "output_type": "stream",
     "text": [
      "C:\\Users\\PC\\Projects\\fastai\\courses\\dl1\\ULMFiT-Filipino\\fastai\\model.py:62: UserWarning: torch.nn.utils.clip_grad_norm is now deprecated in favor of torch.nn.utils.clip_grad_norm_.\n",
      "  if IS_TORCH_04: nn.utils.clip_grad_norm(trainable_params_(self.m), self.clip)\n"
     ]
    },
    {
     "name": "stdout",
     "output_type": "stream",
     "text": [
      "\r",
      "  0%|▏                                                                     | 6/1683 [00:03<16:10,  1.73it/s, loss=10.7]"
     ]
    },
    {
     "name": "stderr",
     "output_type": "stream",
     "text": [
      "C:\\Users\\PC\\Projects\\fastai\\courses\\dl1\\ULMFiT-Filipino\\fastai\\model.py:62: UserWarning: torch.nn.utils.clip_grad_norm is now deprecated in favor of torch.nn.utils.clip_grad_norm_.\n",
      "  if IS_TORCH_04: nn.utils.clip_grad_norm(trainable_params_(self.m), self.clip)\n"
     ]
    },
    {
     "name": "stdout",
     "output_type": "stream",
     "text": [
      "\r",
      "  0%|▎                                                                     | 7/1683 [00:03<14:37,  1.91it/s, loss=10.7]"
     ]
    },
    {
     "name": "stderr",
     "output_type": "stream",
     "text": [
      "C:\\Users\\PC\\Projects\\fastai\\courses\\dl1\\ULMFiT-Filipino\\fastai\\model.py:62: UserWarning: torch.nn.utils.clip_grad_norm is now deprecated in favor of torch.nn.utils.clip_grad_norm_.\n",
      "  if IS_TORCH_04: nn.utils.clip_grad_norm(trainable_params_(self.m), self.clip)\n"
     ]
    },
    {
     "name": "stdout",
     "output_type": "stream",
     "text": [
      "\r",
      "  0%|▎                                                                     | 8/1683 [00:04<13:28,  2.07it/s, loss=10.7]"
     ]
    },
    {
     "name": "stderr",
     "output_type": "stream",
     "text": [
      "C:\\Users\\PC\\Projects\\fastai\\courses\\dl1\\ULMFiT-Filipino\\fastai\\model.py:62: UserWarning: torch.nn.utils.clip_grad_norm is now deprecated in favor of torch.nn.utils.clip_grad_norm_.\n",
      "  if IS_TORCH_04: nn.utils.clip_grad_norm(trainable_params_(self.m), self.clip)\n"
     ]
    },
    {
     "name": "stdout",
     "output_type": "stream",
     "text": [
      "\r",
      "  1%|▎                                                                     | 9/1683 [00:04<12:33,  2.22it/s, loss=10.7]"
     ]
    },
    {
     "name": "stderr",
     "output_type": "stream",
     "text": [
      "C:\\Users\\PC\\Projects\\fastai\\courses\\dl1\\ULMFiT-Filipino\\fastai\\model.py:62: UserWarning: torch.nn.utils.clip_grad_norm is now deprecated in favor of torch.nn.utils.clip_grad_norm_.\n",
      "  if IS_TORCH_04: nn.utils.clip_grad_norm(trainable_params_(self.m), self.clip)\n"
     ]
    },
    {
     "name": "stdout",
     "output_type": "stream",
     "text": [
      "\r",
      "  1%|▍                                                                    | 10/1683 [00:04<10:59,  2.54it/s, loss=10.7]"
     ]
    },
    {
     "name": "stderr",
     "output_type": "stream",
     "text": [
      "C:\\Users\\PC\\Projects\\fastai\\courses\\dl1\\ULMFiT-Filipino\\fastai\\model.py:62: UserWarning: torch.nn.utils.clip_grad_norm is now deprecated in favor of torch.nn.utils.clip_grad_norm_.\n",
      "  if IS_TORCH_04: nn.utils.clip_grad_norm(trainable_params_(self.m), self.clip)\n"
     ]
    },
    {
     "name": "stdout",
     "output_type": "stream",
     "text": [
      "\r",
      "  1%|▍                                                                    | 11/1683 [00:05<11:00,  2.53it/s, loss=10.7]"
     ]
    },
    {
     "name": "stderr",
     "output_type": "stream",
     "text": [
      "C:\\Users\\PC\\Projects\\fastai\\courses\\dl1\\ULMFiT-Filipino\\fastai\\model.py:62: UserWarning: torch.nn.utils.clip_grad_norm is now deprecated in favor of torch.nn.utils.clip_grad_norm_.\n",
      "  if IS_TORCH_04: nn.utils.clip_grad_norm(trainable_params_(self.m), self.clip)\n"
     ]
    },
    {
     "name": "stdout",
     "output_type": "stream",
     "text": [
      "\r",
      "  1%|▍                                                                    | 12/1683 [00:05<10:51,  2.56it/s, loss=10.7]"
     ]
    },
    {
     "name": "stderr",
     "output_type": "stream",
     "text": [
      "C:\\Users\\PC\\Projects\\fastai\\courses\\dl1\\ULMFiT-Filipino\\fastai\\model.py:62: UserWarning: torch.nn.utils.clip_grad_norm is now deprecated in favor of torch.nn.utils.clip_grad_norm_.\n",
      "  if IS_TORCH_04: nn.utils.clip_grad_norm(trainable_params_(self.m), self.clip)\n"
     ]
    },
    {
     "name": "stdout",
     "output_type": "stream",
     "text": [
      "\r",
      "  1%|▌                                                                    | 13/1683 [00:06<10:25,  2.67it/s, loss=10.7]"
     ]
    },
    {
     "name": "stderr",
     "output_type": "stream",
     "text": [
      "C:\\Users\\PC\\Projects\\fastai\\courses\\dl1\\ULMFiT-Filipino\\fastai\\model.py:62: UserWarning: torch.nn.utils.clip_grad_norm is now deprecated in favor of torch.nn.utils.clip_grad_norm_.\n",
      "  if IS_TORCH_04: nn.utils.clip_grad_norm(trainable_params_(self.m), self.clip)\n"
     ]
    },
    {
     "name": "stdout",
     "output_type": "stream",
     "text": [
      "\r",
      "  1%|▌                                                                    | 14/1683 [00:06<10:19,  2.69it/s, loss=10.7]"
     ]
    },
    {
     "name": "stderr",
     "output_type": "stream",
     "text": [
      "C:\\Users\\PC\\Projects\\fastai\\courses\\dl1\\ULMFiT-Filipino\\fastai\\model.py:62: UserWarning: torch.nn.utils.clip_grad_norm is now deprecated in favor of torch.nn.utils.clip_grad_norm_.\n",
      "  if IS_TORCH_04: nn.utils.clip_grad_norm(trainable_params_(self.m), self.clip)\n"
     ]
    },
    {
     "name": "stdout",
     "output_type": "stream",
     "text": [
      "\r",
      "  1%|▌                                                                    | 15/1683 [00:06<10:12,  2.72it/s, loss=10.7]"
     ]
    },
    {
     "name": "stderr",
     "output_type": "stream",
     "text": [
      "C:\\Users\\PC\\Projects\\fastai\\courses\\dl1\\ULMFiT-Filipino\\fastai\\model.py:62: UserWarning: torch.nn.utils.clip_grad_norm is now deprecated in favor of torch.nn.utils.clip_grad_norm_.\n",
      "  if IS_TORCH_04: nn.utils.clip_grad_norm(trainable_params_(self.m), self.clip)\n"
     ]
    },
    {
     "name": "stdout",
     "output_type": "stream",
     "text": [
      "\r",
      "  1%|▋                                                                    | 16/1683 [00:07<10:40,  2.60it/s, loss=10.7]"
     ]
    },
    {
     "name": "stderr",
     "output_type": "stream",
     "text": [
      "C:\\Users\\PC\\Projects\\fastai\\courses\\dl1\\ULMFiT-Filipino\\fastai\\model.py:62: UserWarning: torch.nn.utils.clip_grad_norm is now deprecated in favor of torch.nn.utils.clip_grad_norm_.\n",
      "  if IS_TORCH_04: nn.utils.clip_grad_norm(trainable_params_(self.m), self.clip)\n"
     ]
    },
    {
     "name": "stdout",
     "output_type": "stream",
     "text": [
      "\r",
      "  1%|▋                                                                    | 17/1683 [00:07<10:37,  2.61it/s, loss=10.7]"
     ]
    },
    {
     "name": "stderr",
     "output_type": "stream",
     "text": [
      "C:\\Users\\PC\\Projects\\fastai\\courses\\dl1\\ULMFiT-Filipino\\fastai\\model.py:62: UserWarning: torch.nn.utils.clip_grad_norm is now deprecated in favor of torch.nn.utils.clip_grad_norm_.\n",
      "  if IS_TORCH_04: nn.utils.clip_grad_norm(trainable_params_(self.m), self.clip)\n"
     ]
    },
    {
     "name": "stdout",
     "output_type": "stream",
     "text": [
      "\r",
      "  1%|▋                                                                    | 18/1683 [00:07<09:45,  2.84it/s, loss=10.7]"
     ]
    },
    {
     "name": "stderr",
     "output_type": "stream",
     "text": [
      "C:\\Users\\PC\\Projects\\fastai\\courses\\dl1\\ULMFiT-Filipino\\fastai\\model.py:62: UserWarning: torch.nn.utils.clip_grad_norm is now deprecated in favor of torch.nn.utils.clip_grad_norm_.\n",
      "  if IS_TORCH_04: nn.utils.clip_grad_norm(trainable_params_(self.m), self.clip)\n"
     ]
    },
    {
     "name": "stdout",
     "output_type": "stream",
     "text": [
      "\r",
      "  1%|▊                                                                    | 19/1683 [00:08<09:46,  2.84it/s, loss=10.7]"
     ]
    },
    {
     "name": "stderr",
     "output_type": "stream",
     "text": [
      "C:\\Users\\PC\\Projects\\fastai\\courses\\dl1\\ULMFiT-Filipino\\fastai\\model.py:62: UserWarning: torch.nn.utils.clip_grad_norm is now deprecated in favor of torch.nn.utils.clip_grad_norm_.\n",
      "  if IS_TORCH_04: nn.utils.clip_grad_norm(trainable_params_(self.m), self.clip)\n"
     ]
    },
    {
     "name": "stdout",
     "output_type": "stream",
     "text": [
      "\r",
      "  1%|▊                                                                    | 20/1683 [00:08<10:04,  2.75it/s, loss=10.7]"
     ]
    },
    {
     "name": "stderr",
     "output_type": "stream",
     "text": [
      "C:\\Users\\PC\\Projects\\fastai\\courses\\dl1\\ULMFiT-Filipino\\fastai\\model.py:62: UserWarning: torch.nn.utils.clip_grad_norm is now deprecated in favor of torch.nn.utils.clip_grad_norm_.\n",
      "  if IS_TORCH_04: nn.utils.clip_grad_norm(trainable_params_(self.m), self.clip)\n"
     ]
    },
    {
     "name": "stdout",
     "output_type": "stream",
     "text": [
      "\r",
      "  1%|▊                                                                    | 21/1683 [00:08<10:16,  2.70it/s, loss=10.7]"
     ]
    },
    {
     "name": "stderr",
     "output_type": "stream",
     "text": [
      "C:\\Users\\PC\\Projects\\fastai\\courses\\dl1\\ULMFiT-Filipino\\fastai\\model.py:62: UserWarning: torch.nn.utils.clip_grad_norm is now deprecated in favor of torch.nn.utils.clip_grad_norm_.\n",
      "  if IS_TORCH_04: nn.utils.clip_grad_norm(trainable_params_(self.m), self.clip)\n"
     ]
    },
    {
     "name": "stdout",
     "output_type": "stream",
     "text": [
      "\r",
      "  1%|▉                                                                    | 22/1683 [00:09<10:15,  2.70it/s, loss=10.7]"
     ]
    },
    {
     "name": "stderr",
     "output_type": "stream",
     "text": [
      "C:\\Users\\PC\\Projects\\fastai\\courses\\dl1\\ULMFiT-Filipino\\fastai\\model.py:62: UserWarning: torch.nn.utils.clip_grad_norm is now deprecated in favor of torch.nn.utils.clip_grad_norm_.\n",
      "  if IS_TORCH_04: nn.utils.clip_grad_norm(trainable_params_(self.m), self.clip)\n"
     ]
    },
    {
     "name": "stdout",
     "output_type": "stream",
     "text": [
      "\r",
      "  1%|▉                                                                    | 23/1683 [00:09<10:06,  2.74it/s, loss=10.7]"
     ]
    },
    {
     "name": "stderr",
     "output_type": "stream",
     "text": [
      "C:\\Users\\PC\\Projects\\fastai\\courses\\dl1\\ULMFiT-Filipino\\fastai\\model.py:62: UserWarning: torch.nn.utils.clip_grad_norm is now deprecated in favor of torch.nn.utils.clip_grad_norm_.\n",
      "  if IS_TORCH_04: nn.utils.clip_grad_norm(trainable_params_(self.m), self.clip)\n"
     ]
    },
    {
     "name": "stdout",
     "output_type": "stream",
     "text": [
      "\r",
      "  1%|▉                                                                    | 24/1683 [00:10<10:22,  2.67it/s, loss=10.7]"
     ]
    },
    {
     "name": "stderr",
     "output_type": "stream",
     "text": [
      "C:\\Users\\PC\\Projects\\fastai\\courses\\dl1\\ULMFiT-Filipino\\fastai\\model.py:62: UserWarning: torch.nn.utils.clip_grad_norm is now deprecated in favor of torch.nn.utils.clip_grad_norm_.\n",
      "  if IS_TORCH_04: nn.utils.clip_grad_norm(trainable_params_(self.m), self.clip)\n"
     ]
    },
    {
     "name": "stdout",
     "output_type": "stream",
     "text": [
      "\r",
      "  1%|█                                                                    | 25/1683 [00:10<10:30,  2.63it/s, loss=10.7]"
     ]
    },
    {
     "name": "stderr",
     "output_type": "stream",
     "text": [
      "C:\\Users\\PC\\Projects\\fastai\\courses\\dl1\\ULMFiT-Filipino\\fastai\\model.py:62: UserWarning: torch.nn.utils.clip_grad_norm is now deprecated in favor of torch.nn.utils.clip_grad_norm_.\n",
      "  if IS_TORCH_04: nn.utils.clip_grad_norm(trainable_params_(self.m), self.clip)\n"
     ]
    },
    {
     "name": "stdout",
     "output_type": "stream",
     "text": [
      "\r",
      "  2%|█                                                                    | 26/1683 [00:10<10:39,  2.59it/s, loss=10.7]"
     ]
    },
    {
     "name": "stderr",
     "output_type": "stream",
     "text": [
      "C:\\Users\\PC\\Projects\\fastai\\courses\\dl1\\ULMFiT-Filipino\\fastai\\model.py:62: UserWarning: torch.nn.utils.clip_grad_norm is now deprecated in favor of torch.nn.utils.clip_grad_norm_.\n",
      "  if IS_TORCH_04: nn.utils.clip_grad_norm(trainable_params_(self.m), self.clip)\n"
     ]
    },
    {
     "name": "stdout",
     "output_type": "stream",
     "text": [
      "\r",
      "  2%|█                                                                    | 27/1683 [00:11<10:40,  2.59it/s, loss=10.7]"
     ]
    },
    {
     "name": "stderr",
     "output_type": "stream",
     "text": [
      "C:\\Users\\PC\\Projects\\fastai\\courses\\dl1\\ULMFiT-Filipino\\fastai\\model.py:62: UserWarning: torch.nn.utils.clip_grad_norm is now deprecated in favor of torch.nn.utils.clip_grad_norm_.\n",
      "  if IS_TORCH_04: nn.utils.clip_grad_norm(trainable_params_(self.m), self.clip)\n"
     ]
    },
    {
     "name": "stdout",
     "output_type": "stream",
     "text": [
      "\r",
      "  2%|█▏                                                                   | 28/1683 [00:11<10:29,  2.63it/s, loss=10.7]"
     ]
    },
    {
     "name": "stderr",
     "output_type": "stream",
     "text": [
      "C:\\Users\\PC\\Projects\\fastai\\courses\\dl1\\ULMFiT-Filipino\\fastai\\model.py:62: UserWarning: torch.nn.utils.clip_grad_norm is now deprecated in favor of torch.nn.utils.clip_grad_norm_.\n",
      "  if IS_TORCH_04: nn.utils.clip_grad_norm(trainable_params_(self.m), self.clip)\n"
     ]
    },
    {
     "name": "stdout",
     "output_type": "stream",
     "text": [
      "\r",
      "  2%|█▏                                                                   | 29/1683 [00:11<10:15,  2.69it/s, loss=10.7]"
     ]
    },
    {
     "name": "stderr",
     "output_type": "stream",
     "text": [
      "C:\\Users\\PC\\Projects\\fastai\\courses\\dl1\\ULMFiT-Filipino\\fastai\\model.py:62: UserWarning: torch.nn.utils.clip_grad_norm is now deprecated in favor of torch.nn.utils.clip_grad_norm_.\n",
      "  if IS_TORCH_04: nn.utils.clip_grad_norm(trainable_params_(self.m), self.clip)\n"
     ]
    },
    {
     "name": "stdout",
     "output_type": "stream",
     "text": [
      "\r",
      "  2%|█▏                                                                   | 30/1683 [00:12<10:35,  2.60it/s, loss=10.7]"
     ]
    },
    {
     "name": "stderr",
     "output_type": "stream",
     "text": [
      "C:\\Users\\PC\\Projects\\fastai\\courses\\dl1\\ULMFiT-Filipino\\fastai\\model.py:62: UserWarning: torch.nn.utils.clip_grad_norm is now deprecated in favor of torch.nn.utils.clip_grad_norm_.\n",
      "  if IS_TORCH_04: nn.utils.clip_grad_norm(trainable_params_(self.m), self.clip)\n"
     ]
    },
    {
     "name": "stdout",
     "output_type": "stream",
     "text": [
      "\r",
      "  2%|█▎                                                                   | 31/1683 [00:12<10:35,  2.60it/s, loss=10.7]"
     ]
    },
    {
     "name": "stderr",
     "output_type": "stream",
     "text": [
      "C:\\Users\\PC\\Projects\\fastai\\courses\\dl1\\ULMFiT-Filipino\\fastai\\model.py:62: UserWarning: torch.nn.utils.clip_grad_norm is now deprecated in favor of torch.nn.utils.clip_grad_norm_.\n",
      "  if IS_TORCH_04: nn.utils.clip_grad_norm(trainable_params_(self.m), self.clip)\n"
     ]
    },
    {
     "name": "stdout",
     "output_type": "stream",
     "text": [
      "\r",
      "  2%|█▎                                                                   | 32/1683 [00:13<10:31,  2.62it/s, loss=10.7]"
     ]
    },
    {
     "name": "stderr",
     "output_type": "stream",
     "text": [
      "C:\\Users\\PC\\Projects\\fastai\\courses\\dl1\\ULMFiT-Filipino\\fastai\\model.py:62: UserWarning: torch.nn.utils.clip_grad_norm is now deprecated in favor of torch.nn.utils.clip_grad_norm_.\n",
      "  if IS_TORCH_04: nn.utils.clip_grad_norm(trainable_params_(self.m), self.clip)\n"
     ]
    },
    {
     "name": "stdout",
     "output_type": "stream",
     "text": [
      "\r",
      "  2%|█▎                                                                   | 33/1683 [00:13<10:39,  2.58it/s, loss=10.7]"
     ]
    },
    {
     "name": "stderr",
     "output_type": "stream",
     "text": [
      "C:\\Users\\PC\\Projects\\fastai\\courses\\dl1\\ULMFiT-Filipino\\fastai\\model.py:62: UserWarning: torch.nn.utils.clip_grad_norm is now deprecated in favor of torch.nn.utils.clip_grad_norm_.\n",
      "  if IS_TORCH_04: nn.utils.clip_grad_norm(trainable_params_(self.m), self.clip)\n"
     ]
    },
    {
     "name": "stdout",
     "output_type": "stream",
     "text": [
      "\r",
      "  2%|█▍                                                                   | 34/1683 [00:13<10:40,  2.58it/s, loss=10.7]"
     ]
    },
    {
     "name": "stderr",
     "output_type": "stream",
     "text": [
      "C:\\Users\\PC\\Projects\\fastai\\courses\\dl1\\ULMFiT-Filipino\\fastai\\model.py:62: UserWarning: torch.nn.utils.clip_grad_norm is now deprecated in favor of torch.nn.utils.clip_grad_norm_.\n",
      "  if IS_TORCH_04: nn.utils.clip_grad_norm(trainable_params_(self.m), self.clip)\n"
     ]
    },
    {
     "name": "stdout",
     "output_type": "stream",
     "text": [
      "\r",
      "  2%|█▍                                                                   | 35/1683 [00:14<10:02,  2.73it/s, loss=10.7]"
     ]
    },
    {
     "name": "stderr",
     "output_type": "stream",
     "text": [
      "C:\\Users\\PC\\Projects\\fastai\\courses\\dl1\\ULMFiT-Filipino\\fastai\\model.py:62: UserWarning: torch.nn.utils.clip_grad_norm is now deprecated in favor of torch.nn.utils.clip_grad_norm_.\n",
      "  if IS_TORCH_04: nn.utils.clip_grad_norm(trainable_params_(self.m), self.clip)\n"
     ]
    },
    {
     "name": "stdout",
     "output_type": "stream",
     "text": [
      "\r",
      "  2%|█▍                                                                   | 36/1683 [00:14<10:09,  2.70it/s, loss=10.7]"
     ]
    },
    {
     "name": "stderr",
     "output_type": "stream",
     "text": [
      "C:\\Users\\PC\\Projects\\fastai\\courses\\dl1\\ULMFiT-Filipino\\fastai\\model.py:62: UserWarning: torch.nn.utils.clip_grad_norm is now deprecated in favor of torch.nn.utils.clip_grad_norm_.\n",
      "  if IS_TORCH_04: nn.utils.clip_grad_norm(trainable_params_(self.m), self.clip)\n"
     ]
    },
    {
     "name": "stdout",
     "output_type": "stream",
     "text": [
      "\r",
      "  2%|█▌                                                                   | 37/1683 [00:15<10:21,  2.65it/s, loss=10.7]"
     ]
    },
    {
     "name": "stderr",
     "output_type": "stream",
     "text": [
      "C:\\Users\\PC\\Projects\\fastai\\courses\\dl1\\ULMFiT-Filipino\\fastai\\model.py:62: UserWarning: torch.nn.utils.clip_grad_norm is now deprecated in favor of torch.nn.utils.clip_grad_norm_.\n",
      "  if IS_TORCH_04: nn.utils.clip_grad_norm(trainable_params_(self.m), self.clip)\n"
     ]
    },
    {
     "name": "stdout",
     "output_type": "stream",
     "text": [
      "\r",
      "  2%|█▌                                                                   | 38/1683 [00:15<09:58,  2.75it/s, loss=10.7]"
     ]
    },
    {
     "name": "stderr",
     "output_type": "stream",
     "text": [
      "C:\\Users\\PC\\Projects\\fastai\\courses\\dl1\\ULMFiT-Filipino\\fastai\\model.py:62: UserWarning: torch.nn.utils.clip_grad_norm is now deprecated in favor of torch.nn.utils.clip_grad_norm_.\n",
      "  if IS_TORCH_04: nn.utils.clip_grad_norm(trainable_params_(self.m), self.clip)\n"
     ]
    },
    {
     "name": "stdout",
     "output_type": "stream",
     "text": [
      "\r",
      "  2%|█▌                                                                   | 39/1683 [00:15<10:10,  2.69it/s, loss=10.7]"
     ]
    },
    {
     "name": "stderr",
     "output_type": "stream",
     "text": [
      "C:\\Users\\PC\\Projects\\fastai\\courses\\dl1\\ULMFiT-Filipino\\fastai\\model.py:62: UserWarning: torch.nn.utils.clip_grad_norm is now deprecated in favor of torch.nn.utils.clip_grad_norm_.\n",
      "  if IS_TORCH_04: nn.utils.clip_grad_norm(trainable_params_(self.m), self.clip)\n"
     ]
    },
    {
     "name": "stdout",
     "output_type": "stream",
     "text": [
      "\r",
      "  2%|█▋                                                                   | 40/1683 [00:16<10:15,  2.67it/s, loss=10.7]"
     ]
    },
    {
     "name": "stderr",
     "output_type": "stream",
     "text": [
      "C:\\Users\\PC\\Projects\\fastai\\courses\\dl1\\ULMFiT-Filipino\\fastai\\model.py:62: UserWarning: torch.nn.utils.clip_grad_norm is now deprecated in favor of torch.nn.utils.clip_grad_norm_.\n",
      "  if IS_TORCH_04: nn.utils.clip_grad_norm(trainable_params_(self.m), self.clip)\n"
     ]
    },
    {
     "name": "stdout",
     "output_type": "stream",
     "text": [
      "\r",
      "  2%|█▋                                                                   | 41/1683 [00:16<10:24,  2.63it/s, loss=10.7]"
     ]
    },
    {
     "name": "stderr",
     "output_type": "stream",
     "text": [
      "C:\\Users\\PC\\Projects\\fastai\\courses\\dl1\\ULMFiT-Filipino\\fastai\\model.py:62: UserWarning: torch.nn.utils.clip_grad_norm is now deprecated in favor of torch.nn.utils.clip_grad_norm_.\n",
      "  if IS_TORCH_04: nn.utils.clip_grad_norm(trainable_params_(self.m), self.clip)\n"
     ]
    },
    {
     "name": "stdout",
     "output_type": "stream",
     "text": [
      "\r",
      "  2%|█▋                                                                   | 42/1683 [00:16<10:20,  2.65it/s, loss=10.7]"
     ]
    },
    {
     "name": "stderr",
     "output_type": "stream",
     "text": [
      "C:\\Users\\PC\\Projects\\fastai\\courses\\dl1\\ULMFiT-Filipino\\fastai\\model.py:62: UserWarning: torch.nn.utils.clip_grad_norm is now deprecated in favor of torch.nn.utils.clip_grad_norm_.\n",
      "  if IS_TORCH_04: nn.utils.clip_grad_norm(trainable_params_(self.m), self.clip)\n"
     ]
    },
    {
     "name": "stdout",
     "output_type": "stream",
     "text": [
      "\r",
      "  3%|█▊                                                                   | 43/1683 [00:17<10:37,  2.57it/s, loss=10.7]"
     ]
    },
    {
     "name": "stderr",
     "output_type": "stream",
     "text": [
      "C:\\Users\\PC\\Projects\\fastai\\courses\\dl1\\ULMFiT-Filipino\\fastai\\model.py:62: UserWarning: torch.nn.utils.clip_grad_norm is now deprecated in favor of torch.nn.utils.clip_grad_norm_.\n",
      "  if IS_TORCH_04: nn.utils.clip_grad_norm(trainable_params_(self.m), self.clip)\n"
     ]
    },
    {
     "name": "stdout",
     "output_type": "stream",
     "text": [
      "\r",
      "  3%|█▊                                                                   | 44/1683 [00:17<10:38,  2.57it/s, loss=10.7]"
     ]
    },
    {
     "name": "stderr",
     "output_type": "stream",
     "text": [
      "C:\\Users\\PC\\Projects\\fastai\\courses\\dl1\\ULMFiT-Filipino\\fastai\\model.py:62: UserWarning: torch.nn.utils.clip_grad_norm is now deprecated in favor of torch.nn.utils.clip_grad_norm_.\n",
      "  if IS_TORCH_04: nn.utils.clip_grad_norm(trainable_params_(self.m), self.clip)\n"
     ]
    },
    {
     "name": "stdout",
     "output_type": "stream",
     "text": [
      "\r",
      "  3%|█▊                                                                   | 45/1683 [00:18<10:43,  2.55it/s, loss=10.7]"
     ]
    },
    {
     "name": "stderr",
     "output_type": "stream",
     "text": [
      "C:\\Users\\PC\\Projects\\fastai\\courses\\dl1\\ULMFiT-Filipino\\fastai\\model.py:62: UserWarning: torch.nn.utils.clip_grad_norm is now deprecated in favor of torch.nn.utils.clip_grad_norm_.\n",
      "  if IS_TORCH_04: nn.utils.clip_grad_norm(trainable_params_(self.m), self.clip)\n"
     ]
    },
    {
     "name": "stdout",
     "output_type": "stream",
     "text": [
      "\r",
      "  3%|█▉                                                                   | 46/1683 [00:18<10:40,  2.56it/s, loss=10.7]"
     ]
    },
    {
     "name": "stderr",
     "output_type": "stream",
     "text": [
      "C:\\Users\\PC\\Projects\\fastai\\courses\\dl1\\ULMFiT-Filipino\\fastai\\model.py:62: UserWarning: torch.nn.utils.clip_grad_norm is now deprecated in favor of torch.nn.utils.clip_grad_norm_.\n",
      "  if IS_TORCH_04: nn.utils.clip_grad_norm(trainable_params_(self.m), self.clip)\n"
     ]
    },
    {
     "name": "stdout",
     "output_type": "stream",
     "text": [
      "\r",
      "  3%|█▉                                                                   | 47/1683 [00:18<10:43,  2.54it/s, loss=10.7]"
     ]
    },
    {
     "name": "stderr",
     "output_type": "stream",
     "text": [
      "C:\\Users\\PC\\Projects\\fastai\\courses\\dl1\\ULMFiT-Filipino\\fastai\\model.py:62: UserWarning: torch.nn.utils.clip_grad_norm is now deprecated in favor of torch.nn.utils.clip_grad_norm_.\n",
      "  if IS_TORCH_04: nn.utils.clip_grad_norm(trainable_params_(self.m), self.clip)\n"
     ]
    },
    {
     "name": "stdout",
     "output_type": "stream",
     "text": [
      "\r",
      "  3%|█▉                                                                   | 48/1683 [00:19<09:27,  2.88it/s, loss=10.7]"
     ]
    },
    {
     "name": "stderr",
     "output_type": "stream",
     "text": [
      "C:\\Users\\PC\\Projects\\fastai\\courses\\dl1\\ULMFiT-Filipino\\fastai\\model.py:62: UserWarning: torch.nn.utils.clip_grad_norm is now deprecated in favor of torch.nn.utils.clip_grad_norm_.\n",
      "  if IS_TORCH_04: nn.utils.clip_grad_norm(trainable_params_(self.m), self.clip)\n"
     ]
    },
    {
     "name": "stdout",
     "output_type": "stream",
     "text": [
      "\r",
      "  3%|██                                                                   | 49/1683 [00:19<09:30,  2.87it/s, loss=10.7]"
     ]
    },
    {
     "name": "stderr",
     "output_type": "stream",
     "text": [
      "C:\\Users\\PC\\Projects\\fastai\\courses\\dl1\\ULMFiT-Filipino\\fastai\\model.py:62: UserWarning: torch.nn.utils.clip_grad_norm is now deprecated in favor of torch.nn.utils.clip_grad_norm_.\n",
      "  if IS_TORCH_04: nn.utils.clip_grad_norm(trainable_params_(self.m), self.clip)\n"
     ]
    },
    {
     "name": "stdout",
     "output_type": "stream",
     "text": [
      "\r",
      "  3%|██                                                                   | 50/1683 [00:19<10:00,  2.72it/s, loss=10.7]"
     ]
    },
    {
     "name": "stderr",
     "output_type": "stream",
     "text": [
      "C:\\Users\\PC\\Projects\\fastai\\courses\\dl1\\ULMFiT-Filipino\\fastai\\model.py:62: UserWarning: torch.nn.utils.clip_grad_norm is now deprecated in favor of torch.nn.utils.clip_grad_norm_.\n",
      "  if IS_TORCH_04: nn.utils.clip_grad_norm(trainable_params_(self.m), self.clip)\n"
     ]
    },
    {
     "name": "stdout",
     "output_type": "stream",
     "text": [
      "\r",
      "  3%|██                                                                   | 51/1683 [00:20<10:06,  2.69it/s, loss=10.7]"
     ]
    },
    {
     "name": "stderr",
     "output_type": "stream",
     "text": [
      "C:\\Users\\PC\\Projects\\fastai\\courses\\dl1\\ULMFiT-Filipino\\fastai\\model.py:62: UserWarning: torch.nn.utils.clip_grad_norm is now deprecated in favor of torch.nn.utils.clip_grad_norm_.\n",
      "  if IS_TORCH_04: nn.utils.clip_grad_norm(trainable_params_(self.m), self.clip)\n"
     ]
    },
    {
     "name": "stdout",
     "output_type": "stream",
     "text": [
      "\r",
      "  3%|██▏                                                                  | 52/1683 [00:20<10:07,  2.68it/s, loss=10.7]"
     ]
    },
    {
     "name": "stderr",
     "output_type": "stream",
     "text": [
      "C:\\Users\\PC\\Projects\\fastai\\courses\\dl1\\ULMFiT-Filipino\\fastai\\model.py:62: UserWarning: torch.nn.utils.clip_grad_norm is now deprecated in favor of torch.nn.utils.clip_grad_norm_.\n",
      "  if IS_TORCH_04: nn.utils.clip_grad_norm(trainable_params_(self.m), self.clip)\n"
     ]
    },
    {
     "name": "stdout",
     "output_type": "stream",
     "text": [
      "\r",
      "  3%|██▏                                                                  | 53/1683 [00:21<10:25,  2.61it/s, loss=10.7]"
     ]
    },
    {
     "name": "stderr",
     "output_type": "stream",
     "text": [
      "C:\\Users\\PC\\Projects\\fastai\\courses\\dl1\\ULMFiT-Filipino\\fastai\\model.py:62: UserWarning: torch.nn.utils.clip_grad_norm is now deprecated in favor of torch.nn.utils.clip_grad_norm_.\n",
      "  if IS_TORCH_04: nn.utils.clip_grad_norm(trainable_params_(self.m), self.clip)\n"
     ]
    },
    {
     "name": "stdout",
     "output_type": "stream",
     "text": [
      "\r",
      "  3%|██▏                                                                  | 54/1683 [00:21<10:28,  2.59it/s, loss=10.7]"
     ]
    },
    {
     "name": "stderr",
     "output_type": "stream",
     "text": [
      "C:\\Users\\PC\\Projects\\fastai\\courses\\dl1\\ULMFiT-Filipino\\fastai\\model.py:62: UserWarning: torch.nn.utils.clip_grad_norm is now deprecated in favor of torch.nn.utils.clip_grad_norm_.\n",
      "  if IS_TORCH_04: nn.utils.clip_grad_norm(trainable_params_(self.m), self.clip)\n"
     ]
    },
    {
     "name": "stdout",
     "output_type": "stream",
     "text": [
      "\r",
      "  3%|██▎                                                                  | 55/1683 [00:21<09:22,  2.89it/s, loss=10.7]"
     ]
    },
    {
     "name": "stderr",
     "output_type": "stream",
     "text": [
      "C:\\Users\\PC\\Projects\\fastai\\courses\\dl1\\ULMFiT-Filipino\\fastai\\model.py:62: UserWarning: torch.nn.utils.clip_grad_norm is now deprecated in favor of torch.nn.utils.clip_grad_norm_.\n",
      "  if IS_TORCH_04: nn.utils.clip_grad_norm(trainable_params_(self.m), self.clip)\n"
     ]
    },
    {
     "name": "stdout",
     "output_type": "stream",
     "text": [
      "\r",
      "  3%|██▎                                                                  | 56/1683 [00:22<09:47,  2.77it/s, loss=10.7]"
     ]
    },
    {
     "name": "stderr",
     "output_type": "stream",
     "text": [
      "C:\\Users\\PC\\Projects\\fastai\\courses\\dl1\\ULMFiT-Filipino\\fastai\\model.py:62: UserWarning: torch.nn.utils.clip_grad_norm is now deprecated in favor of torch.nn.utils.clip_grad_norm_.\n",
      "  if IS_TORCH_04: nn.utils.clip_grad_norm(trainable_params_(self.m), self.clip)\n"
     ]
    },
    {
     "name": "stdout",
     "output_type": "stream",
     "text": [
      "\r",
      "  3%|██▎                                                                  | 57/1683 [00:22<10:15,  2.64it/s, loss=10.7]"
     ]
    },
    {
     "name": "stderr",
     "output_type": "stream",
     "text": [
      "C:\\Users\\PC\\Projects\\fastai\\courses\\dl1\\ULMFiT-Filipino\\fastai\\model.py:62: UserWarning: torch.nn.utils.clip_grad_norm is now deprecated in favor of torch.nn.utils.clip_grad_norm_.\n",
      "  if IS_TORCH_04: nn.utils.clip_grad_norm(trainable_params_(self.m), self.clip)\n"
     ]
    },
    {
     "name": "stdout",
     "output_type": "stream",
     "text": [
      "\r",
      "  3%|██▍                                                                  | 58/1683 [00:22<10:21,  2.61it/s, loss=10.7]"
     ]
    },
    {
     "name": "stderr",
     "output_type": "stream",
     "text": [
      "C:\\Users\\PC\\Projects\\fastai\\courses\\dl1\\ULMFiT-Filipino\\fastai\\model.py:62: UserWarning: torch.nn.utils.clip_grad_norm is now deprecated in favor of torch.nn.utils.clip_grad_norm_.\n",
      "  if IS_TORCH_04: nn.utils.clip_grad_norm(trainable_params_(self.m), self.clip)\n"
     ]
    },
    {
     "name": "stdout",
     "output_type": "stream",
     "text": [
      "\r",
      "  4%|██▍                                                                  | 59/1683 [00:23<10:19,  2.62it/s, loss=10.7]"
     ]
    },
    {
     "name": "stderr",
     "output_type": "stream",
     "text": [
      "C:\\Users\\PC\\Projects\\fastai\\courses\\dl1\\ULMFiT-Filipino\\fastai\\model.py:62: UserWarning: torch.nn.utils.clip_grad_norm is now deprecated in favor of torch.nn.utils.clip_grad_norm_.\n",
      "  if IS_TORCH_04: nn.utils.clip_grad_norm(trainable_params_(self.m), self.clip)\n"
     ]
    },
    {
     "name": "stdout",
     "output_type": "stream",
     "text": [
      "\r",
      "  4%|██▍                                                                  | 60/1683 [00:23<10:39,  2.54it/s, loss=10.7]"
     ]
    },
    {
     "name": "stderr",
     "output_type": "stream",
     "text": [
      "C:\\Users\\PC\\Projects\\fastai\\courses\\dl1\\ULMFiT-Filipino\\fastai\\model.py:62: UserWarning: torch.nn.utils.clip_grad_norm is now deprecated in favor of torch.nn.utils.clip_grad_norm_.\n",
      "  if IS_TORCH_04: nn.utils.clip_grad_norm(trainable_params_(self.m), self.clip)\n"
     ]
    },
    {
     "name": "stdout",
     "output_type": "stream",
     "text": [
      "\r",
      "  4%|██▌                                                                  | 61/1683 [00:24<10:30,  2.57it/s, loss=10.7]"
     ]
    },
    {
     "name": "stderr",
     "output_type": "stream",
     "text": [
      "C:\\Users\\PC\\Projects\\fastai\\courses\\dl1\\ULMFiT-Filipino\\fastai\\model.py:62: UserWarning: torch.nn.utils.clip_grad_norm is now deprecated in favor of torch.nn.utils.clip_grad_norm_.\n",
      "  if IS_TORCH_04: nn.utils.clip_grad_norm(trainable_params_(self.m), self.clip)\n"
     ]
    },
    {
     "name": "stdout",
     "output_type": "stream",
     "text": [
      "\r",
      "  4%|██▌                                                                  | 62/1683 [00:24<10:13,  2.64it/s, loss=10.7]"
     ]
    },
    {
     "name": "stderr",
     "output_type": "stream",
     "text": [
      "C:\\Users\\PC\\Projects\\fastai\\courses\\dl1\\ULMFiT-Filipino\\fastai\\model.py:62: UserWarning: torch.nn.utils.clip_grad_norm is now deprecated in favor of torch.nn.utils.clip_grad_norm_.\n",
      "  if IS_TORCH_04: nn.utils.clip_grad_norm(trainable_params_(self.m), self.clip)\n"
     ]
    },
    {
     "name": "stdout",
     "output_type": "stream",
     "text": [
      "\r",
      "  4%|██▌                                                                  | 63/1683 [00:24<10:12,  2.64it/s, loss=10.7]"
     ]
    },
    {
     "name": "stderr",
     "output_type": "stream",
     "text": [
      "C:\\Users\\PC\\Projects\\fastai\\courses\\dl1\\ULMFiT-Filipino\\fastai\\model.py:62: UserWarning: torch.nn.utils.clip_grad_norm is now deprecated in favor of torch.nn.utils.clip_grad_norm_.\n",
      "  if IS_TORCH_04: nn.utils.clip_grad_norm(trainable_params_(self.m), self.clip)\n"
     ]
    },
    {
     "name": "stdout",
     "output_type": "stream",
     "text": [
      "\r",
      "  4%|██▌                                                                  | 64/1683 [00:25<10:12,  2.64it/s, loss=10.7]"
     ]
    },
    {
     "name": "stderr",
     "output_type": "stream",
     "text": [
      "C:\\Users\\PC\\Projects\\fastai\\courses\\dl1\\ULMFiT-Filipino\\fastai\\model.py:62: UserWarning: torch.nn.utils.clip_grad_norm is now deprecated in favor of torch.nn.utils.clip_grad_norm_.\n",
      "  if IS_TORCH_04: nn.utils.clip_grad_norm(trainable_params_(self.m), self.clip)\n"
     ]
    },
    {
     "name": "stdout",
     "output_type": "stream",
     "text": [
      "\r",
      "  4%|██▋                                                                  | 65/1683 [00:25<10:07,  2.67it/s, loss=10.7]"
     ]
    },
    {
     "name": "stderr",
     "output_type": "stream",
     "text": [
      "C:\\Users\\PC\\Projects\\fastai\\courses\\dl1\\ULMFiT-Filipino\\fastai\\model.py:62: UserWarning: torch.nn.utils.clip_grad_norm is now deprecated in favor of torch.nn.utils.clip_grad_norm_.\n",
      "  if IS_TORCH_04: nn.utils.clip_grad_norm(trainable_params_(self.m), self.clip)\n"
     ]
    },
    {
     "name": "stdout",
     "output_type": "stream",
     "text": [
      "\r",
      "  4%|██▋                                                                  | 66/1683 [00:25<09:09,  2.94it/s, loss=10.7]"
     ]
    },
    {
     "name": "stderr",
     "output_type": "stream",
     "text": [
      "C:\\Users\\PC\\Projects\\fastai\\courses\\dl1\\ULMFiT-Filipino\\fastai\\model.py:62: UserWarning: torch.nn.utils.clip_grad_norm is now deprecated in favor of torch.nn.utils.clip_grad_norm_.\n",
      "  if IS_TORCH_04: nn.utils.clip_grad_norm(trainable_params_(self.m), self.clip)\n"
     ]
    },
    {
     "name": "stdout",
     "output_type": "stream",
     "text": [
      "\r",
      "  4%|██▋                                                                  | 67/1683 [00:26<09:29,  2.84it/s, loss=10.7]"
     ]
    },
    {
     "name": "stderr",
     "output_type": "stream",
     "text": [
      "C:\\Users\\PC\\Projects\\fastai\\courses\\dl1\\ULMFiT-Filipino\\fastai\\model.py:62: UserWarning: torch.nn.utils.clip_grad_norm is now deprecated in favor of torch.nn.utils.clip_grad_norm_.\n",
      "  if IS_TORCH_04: nn.utils.clip_grad_norm(trainable_params_(self.m), self.clip)\n"
     ]
    },
    {
     "name": "stdout",
     "output_type": "stream",
     "text": [
      "\r",
      "  4%|██▊                                                                  | 68/1683 [00:26<09:48,  2.75it/s, loss=10.7]"
     ]
    },
    {
     "name": "stderr",
     "output_type": "stream",
     "text": [
      "C:\\Users\\PC\\Projects\\fastai\\courses\\dl1\\ULMFiT-Filipino\\fastai\\model.py:62: UserWarning: torch.nn.utils.clip_grad_norm is now deprecated in favor of torch.nn.utils.clip_grad_norm_.\n",
      "  if IS_TORCH_04: nn.utils.clip_grad_norm(trainable_params_(self.m), self.clip)\n"
     ]
    },
    {
     "name": "stdout",
     "output_type": "stream",
     "text": [
      "\r",
      "  4%|██▊                                                                  | 69/1683 [00:26<09:43,  2.77it/s, loss=10.7]"
     ]
    },
    {
     "name": "stderr",
     "output_type": "stream",
     "text": [
      "C:\\Users\\PC\\Projects\\fastai\\courses\\dl1\\ULMFiT-Filipino\\fastai\\model.py:62: UserWarning: torch.nn.utils.clip_grad_norm is now deprecated in favor of torch.nn.utils.clip_grad_norm_.\n",
      "  if IS_TORCH_04: nn.utils.clip_grad_norm(trainable_params_(self.m), self.clip)\n"
     ]
    },
    {
     "name": "stdout",
     "output_type": "stream",
     "text": [
      "\r",
      "  4%|██▊                                                                  | 70/1683 [00:27<10:09,  2.65it/s, loss=10.7]"
     ]
    },
    {
     "name": "stderr",
     "output_type": "stream",
     "text": [
      "C:\\Users\\PC\\Projects\\fastai\\courses\\dl1\\ULMFiT-Filipino\\fastai\\model.py:62: UserWarning: torch.nn.utils.clip_grad_norm is now deprecated in favor of torch.nn.utils.clip_grad_norm_.\n",
      "  if IS_TORCH_04: nn.utils.clip_grad_norm(trainable_params_(self.m), self.clip)\n"
     ]
    },
    {
     "name": "stdout",
     "output_type": "stream",
     "text": [
      "\r",
      "  4%|██▉                                                                  | 71/1683 [00:27<10:21,  2.59it/s, loss=10.7]"
     ]
    },
    {
     "name": "stderr",
     "output_type": "stream",
     "text": [
      "C:\\Users\\PC\\Projects\\fastai\\courses\\dl1\\ULMFiT-Filipino\\fastai\\model.py:62: UserWarning: torch.nn.utils.clip_grad_norm is now deprecated in favor of torch.nn.utils.clip_grad_norm_.\n",
      "  if IS_TORCH_04: nn.utils.clip_grad_norm(trainable_params_(self.m), self.clip)\n"
     ]
    },
    {
     "name": "stdout",
     "output_type": "stream",
     "text": [
      "\r",
      "  4%|██▉                                                                  | 72/1683 [00:28<10:46,  2.49it/s, loss=10.7]"
     ]
    },
    {
     "name": "stderr",
     "output_type": "stream",
     "text": [
      "C:\\Users\\PC\\Projects\\fastai\\courses\\dl1\\ULMFiT-Filipino\\fastai\\model.py:62: UserWarning: torch.nn.utils.clip_grad_norm is now deprecated in favor of torch.nn.utils.clip_grad_norm_.\n",
      "  if IS_TORCH_04: nn.utils.clip_grad_norm(trainable_params_(self.m), self.clip)\n"
     ]
    },
    {
     "name": "stdout",
     "output_type": "stream",
     "text": [
      "\r",
      "  4%|██▉                                                                  | 73/1683 [00:28<10:36,  2.53it/s, loss=10.7]"
     ]
    },
    {
     "name": "stderr",
     "output_type": "stream",
     "text": [
      "C:\\Users\\PC\\Projects\\fastai\\courses\\dl1\\ULMFiT-Filipino\\fastai\\model.py:62: UserWarning: torch.nn.utils.clip_grad_norm is now deprecated in favor of torch.nn.utils.clip_grad_norm_.\n",
      "  if IS_TORCH_04: nn.utils.clip_grad_norm(trainable_params_(self.m), self.clip)\n"
     ]
    },
    {
     "name": "stdout",
     "output_type": "stream",
     "text": [
      "\r",
      "  4%|███                                                                  | 74/1683 [00:28<09:41,  2.77it/s, loss=10.7]"
     ]
    },
    {
     "name": "stderr",
     "output_type": "stream",
     "text": [
      "C:\\Users\\PC\\Projects\\fastai\\courses\\dl1\\ULMFiT-Filipino\\fastai\\model.py:62: UserWarning: torch.nn.utils.clip_grad_norm is now deprecated in favor of torch.nn.utils.clip_grad_norm_.\n",
      "  if IS_TORCH_04: nn.utils.clip_grad_norm(trainable_params_(self.m), self.clip)\n"
     ]
    },
    {
     "name": "stdout",
     "output_type": "stream",
     "text": [
      "\r",
      "  4%|███                                                                  | 75/1683 [00:29<09:47,  2.74it/s, loss=10.7]"
     ]
    },
    {
     "name": "stderr",
     "output_type": "stream",
     "text": [
      "C:\\Users\\PC\\Projects\\fastai\\courses\\dl1\\ULMFiT-Filipino\\fastai\\model.py:62: UserWarning: torch.nn.utils.clip_grad_norm is now deprecated in favor of torch.nn.utils.clip_grad_norm_.\n",
      "  if IS_TORCH_04: nn.utils.clip_grad_norm(trainable_params_(self.m), self.clip)\n"
     ]
    },
    {
     "name": "stdout",
     "output_type": "stream",
     "text": [
      "\r",
      "  5%|███                                                                  | 76/1683 [00:29<09:35,  2.79it/s, loss=10.7]"
     ]
    },
    {
     "name": "stderr",
     "output_type": "stream",
     "text": [
      "C:\\Users\\PC\\Projects\\fastai\\courses\\dl1\\ULMFiT-Filipino\\fastai\\model.py:62: UserWarning: torch.nn.utils.clip_grad_norm is now deprecated in favor of torch.nn.utils.clip_grad_norm_.\n",
      "  if IS_TORCH_04: nn.utils.clip_grad_norm(trainable_params_(self.m), self.clip)\n"
     ]
    },
    {
     "name": "stdout",
     "output_type": "stream",
     "text": [
      "\r",
      "  5%|███▏                                                                 | 77/1683 [00:29<09:46,  2.74it/s, loss=10.7]"
     ]
    },
    {
     "name": "stderr",
     "output_type": "stream",
     "text": [
      "C:\\Users\\PC\\Projects\\fastai\\courses\\dl1\\ULMFiT-Filipino\\fastai\\model.py:62: UserWarning: torch.nn.utils.clip_grad_norm is now deprecated in favor of torch.nn.utils.clip_grad_norm_.\n",
      "  if IS_TORCH_04: nn.utils.clip_grad_norm(trainable_params_(self.m), self.clip)\n"
     ]
    },
    {
     "name": "stdout",
     "output_type": "stream",
     "text": [
      "\r",
      "  5%|███▏                                                                 | 78/1683 [00:30<10:00,  2.67it/s, loss=10.7]"
     ]
    },
    {
     "name": "stderr",
     "output_type": "stream",
     "text": [
      "C:\\Users\\PC\\Projects\\fastai\\courses\\dl1\\ULMFiT-Filipino\\fastai\\model.py:62: UserWarning: torch.nn.utils.clip_grad_norm is now deprecated in favor of torch.nn.utils.clip_grad_norm_.\n",
      "  if IS_TORCH_04: nn.utils.clip_grad_norm(trainable_params_(self.m), self.clip)\n"
     ]
    },
    {
     "name": "stdout",
     "output_type": "stream",
     "text": [
      "\r",
      "  5%|███▏                                                                 | 79/1683 [00:30<10:22,  2.58it/s, loss=10.7]"
     ]
    },
    {
     "name": "stderr",
     "output_type": "stream",
     "text": [
      "C:\\Users\\PC\\Projects\\fastai\\courses\\dl1\\ULMFiT-Filipino\\fastai\\model.py:62: UserWarning: torch.nn.utils.clip_grad_norm is now deprecated in favor of torch.nn.utils.clip_grad_norm_.\n",
      "  if IS_TORCH_04: nn.utils.clip_grad_norm(trainable_params_(self.m), self.clip)\n"
     ]
    },
    {
     "name": "stdout",
     "output_type": "stream",
     "text": [
      "\r",
      "  5%|███▎                                                                 | 80/1683 [00:31<10:33,  2.53it/s, loss=10.7]"
     ]
    },
    {
     "name": "stderr",
     "output_type": "stream",
     "text": [
      "C:\\Users\\PC\\Projects\\fastai\\courses\\dl1\\ULMFiT-Filipino\\fastai\\model.py:62: UserWarning: torch.nn.utils.clip_grad_norm is now deprecated in favor of torch.nn.utils.clip_grad_norm_.\n",
      "  if IS_TORCH_04: nn.utils.clip_grad_norm(trainable_params_(self.m), self.clip)\n"
     ]
    },
    {
     "name": "stdout",
     "output_type": "stream",
     "text": [
      "\r",
      "  5%|███▎                                                                 | 81/1683 [00:31<10:25,  2.56it/s, loss=10.7]"
     ]
    },
    {
     "name": "stderr",
     "output_type": "stream",
     "text": [
      "C:\\Users\\PC\\Projects\\fastai\\courses\\dl1\\ULMFiT-Filipino\\fastai\\model.py:62: UserWarning: torch.nn.utils.clip_grad_norm is now deprecated in favor of torch.nn.utils.clip_grad_norm_.\n",
      "  if IS_TORCH_04: nn.utils.clip_grad_norm(trainable_params_(self.m), self.clip)\n"
     ]
    },
    {
     "name": "stdout",
     "output_type": "stream",
     "text": [
      "\r",
      "  5%|███▎                                                                 | 82/1683 [00:31<10:26,  2.55it/s, loss=10.7]"
     ]
    },
    {
     "name": "stderr",
     "output_type": "stream",
     "text": [
      "C:\\Users\\PC\\Projects\\fastai\\courses\\dl1\\ULMFiT-Filipino\\fastai\\model.py:62: UserWarning: torch.nn.utils.clip_grad_norm is now deprecated in favor of torch.nn.utils.clip_grad_norm_.\n",
      "  if IS_TORCH_04: nn.utils.clip_grad_norm(trainable_params_(self.m), self.clip)\n"
     ]
    },
    {
     "name": "stdout",
     "output_type": "stream",
     "text": [
      "\r",
      "  5%|███▍                                                                 | 83/1683 [00:32<10:19,  2.58it/s, loss=10.7]"
     ]
    },
    {
     "name": "stderr",
     "output_type": "stream",
     "text": [
      "C:\\Users\\PC\\Projects\\fastai\\courses\\dl1\\ULMFiT-Filipino\\fastai\\model.py:62: UserWarning: torch.nn.utils.clip_grad_norm is now deprecated in favor of torch.nn.utils.clip_grad_norm_.\n",
      "  if IS_TORCH_04: nn.utils.clip_grad_norm(trainable_params_(self.m), self.clip)\n"
     ]
    },
    {
     "name": "stdout",
     "output_type": "stream",
     "text": [
      "\r",
      "  5%|███▍                                                                 | 84/1683 [00:32<10:42,  2.49it/s, loss=10.7]"
     ]
    },
    {
     "name": "stderr",
     "output_type": "stream",
     "text": [
      "C:\\Users\\PC\\Projects\\fastai\\courses\\dl1\\ULMFiT-Filipino\\fastai\\model.py:62: UserWarning: torch.nn.utils.clip_grad_norm is now deprecated in favor of torch.nn.utils.clip_grad_norm_.\n",
      "  if IS_TORCH_04: nn.utils.clip_grad_norm(trainable_params_(self.m), self.clip)\n"
     ]
    },
    {
     "name": "stdout",
     "output_type": "stream",
     "text": [
      "\r",
      "  5%|███▍                                                                 | 85/1683 [00:33<10:39,  2.50it/s, loss=10.7]"
     ]
    },
    {
     "name": "stderr",
     "output_type": "stream",
     "text": [
      "C:\\Users\\PC\\Projects\\fastai\\courses\\dl1\\ULMFiT-Filipino\\fastai\\model.py:62: UserWarning: torch.nn.utils.clip_grad_norm is now deprecated in favor of torch.nn.utils.clip_grad_norm_.\n",
      "  if IS_TORCH_04: nn.utils.clip_grad_norm(trainable_params_(self.m), self.clip)\n"
     ]
    },
    {
     "name": "stdout",
     "output_type": "stream",
     "text": [
      "\r",
      "  5%|███▌                                                                 | 86/1683 [00:33<10:43,  2.48it/s, loss=10.7]"
     ]
    },
    {
     "name": "stderr",
     "output_type": "stream",
     "text": [
      "C:\\Users\\PC\\Projects\\fastai\\courses\\dl1\\ULMFiT-Filipino\\fastai\\model.py:62: UserWarning: torch.nn.utils.clip_grad_norm is now deprecated in favor of torch.nn.utils.clip_grad_norm_.\n",
      "  if IS_TORCH_04: nn.utils.clip_grad_norm(trainable_params_(self.m), self.clip)\n"
     ]
    },
    {
     "name": "stdout",
     "output_type": "stream",
     "text": [
      "\r",
      "  5%|███▌                                                                 | 87/1683 [00:34<10:53,  2.44it/s, loss=10.7]"
     ]
    },
    {
     "name": "stderr",
     "output_type": "stream",
     "text": [
      "C:\\Users\\PC\\Projects\\fastai\\courses\\dl1\\ULMFiT-Filipino\\fastai\\model.py:62: UserWarning: torch.nn.utils.clip_grad_norm is now deprecated in favor of torch.nn.utils.clip_grad_norm_.\n",
      "  if IS_TORCH_04: nn.utils.clip_grad_norm(trainable_params_(self.m), self.clip)\n"
     ]
    },
    {
     "name": "stdout",
     "output_type": "stream",
     "text": [
      "\r",
      "  5%|███▌                                                                 | 88/1683 [00:34<10:50,  2.45it/s, loss=10.7]"
     ]
    },
    {
     "name": "stderr",
     "output_type": "stream",
     "text": [
      "C:\\Users\\PC\\Projects\\fastai\\courses\\dl1\\ULMFiT-Filipino\\fastai\\model.py:62: UserWarning: torch.nn.utils.clip_grad_norm is now deprecated in favor of torch.nn.utils.clip_grad_norm_.\n",
      "  if IS_TORCH_04: nn.utils.clip_grad_norm(trainable_params_(self.m), self.clip)\n"
     ]
    },
    {
     "name": "stdout",
     "output_type": "stream",
     "text": [
      "\r",
      "  5%|███▋                                                                 | 89/1683 [00:34<10:44,  2.47it/s, loss=10.7]"
     ]
    },
    {
     "name": "stderr",
     "output_type": "stream",
     "text": [
      "C:\\Users\\PC\\Projects\\fastai\\courses\\dl1\\ULMFiT-Filipino\\fastai\\model.py:62: UserWarning: torch.nn.utils.clip_grad_norm is now deprecated in favor of torch.nn.utils.clip_grad_norm_.\n",
      "  if IS_TORCH_04: nn.utils.clip_grad_norm(trainable_params_(self.m), self.clip)\n"
     ]
    },
    {
     "name": "stdout",
     "output_type": "stream",
     "text": [
      "\r",
      "  5%|███▋                                                                 | 90/1683 [00:35<10:41,  2.48it/s, loss=10.7]"
     ]
    },
    {
     "name": "stderr",
     "output_type": "stream",
     "text": [
      "C:\\Users\\PC\\Projects\\fastai\\courses\\dl1\\ULMFiT-Filipino\\fastai\\model.py:62: UserWarning: torch.nn.utils.clip_grad_norm is now deprecated in favor of torch.nn.utils.clip_grad_norm_.\n",
      "  if IS_TORCH_04: nn.utils.clip_grad_norm(trainable_params_(self.m), self.clip)\n"
     ]
    },
    {
     "name": "stdout",
     "output_type": "stream",
     "text": [
      "\r",
      "  5%|███▋                                                                 | 91/1683 [00:35<10:43,  2.47it/s, loss=10.7]"
     ]
    },
    {
     "name": "stderr",
     "output_type": "stream",
     "text": [
      "C:\\Users\\PC\\Projects\\fastai\\courses\\dl1\\ULMFiT-Filipino\\fastai\\model.py:62: UserWarning: torch.nn.utils.clip_grad_norm is now deprecated in favor of torch.nn.utils.clip_grad_norm_.\n",
      "  if IS_TORCH_04: nn.utils.clip_grad_norm(trainable_params_(self.m), self.clip)\n"
     ]
    },
    {
     "name": "stdout",
     "output_type": "stream",
     "text": [
      "\r",
      "  5%|███▊                                                                 | 92/1683 [00:36<10:47,  2.46it/s, loss=10.7]"
     ]
    },
    {
     "name": "stderr",
     "output_type": "stream",
     "text": [
      "C:\\Users\\PC\\Projects\\fastai\\courses\\dl1\\ULMFiT-Filipino\\fastai\\model.py:62: UserWarning: torch.nn.utils.clip_grad_norm is now deprecated in favor of torch.nn.utils.clip_grad_norm_.\n",
      "  if IS_TORCH_04: nn.utils.clip_grad_norm(trainable_params_(self.m), self.clip)\n"
     ]
    },
    {
     "name": "stdout",
     "output_type": "stream",
     "text": [
      "\r",
      "  6%|███▊                                                                 | 93/1683 [00:36<10:53,  2.43it/s, loss=10.7]"
     ]
    },
    {
     "name": "stderr",
     "output_type": "stream",
     "text": [
      "C:\\Users\\PC\\Projects\\fastai\\courses\\dl1\\ULMFiT-Filipino\\fastai\\model.py:62: UserWarning: torch.nn.utils.clip_grad_norm is now deprecated in favor of torch.nn.utils.clip_grad_norm_.\n",
      "  if IS_TORCH_04: nn.utils.clip_grad_norm(trainable_params_(self.m), self.clip)\n"
     ]
    },
    {
     "name": "stdout",
     "output_type": "stream",
     "text": [
      "\r",
      "  6%|███▊                                                                 | 94/1683 [00:36<10:52,  2.44it/s, loss=10.7]"
     ]
    },
    {
     "name": "stderr",
     "output_type": "stream",
     "text": [
      "C:\\Users\\PC\\Projects\\fastai\\courses\\dl1\\ULMFiT-Filipino\\fastai\\model.py:62: UserWarning: torch.nn.utils.clip_grad_norm is now deprecated in favor of torch.nn.utils.clip_grad_norm_.\n",
      "  if IS_TORCH_04: nn.utils.clip_grad_norm(trainable_params_(self.m), self.clip)\n"
     ]
    },
    {
     "name": "stdout",
     "output_type": "stream",
     "text": [
      "\r",
      "  6%|███▉                                                                 | 95/1683 [00:37<10:39,  2.48it/s, loss=10.7]"
     ]
    },
    {
     "name": "stderr",
     "output_type": "stream",
     "text": [
      "C:\\Users\\PC\\Projects\\fastai\\courses\\dl1\\ULMFiT-Filipino\\fastai\\model.py:62: UserWarning: torch.nn.utils.clip_grad_norm is now deprecated in favor of torch.nn.utils.clip_grad_norm_.\n",
      "  if IS_TORCH_04: nn.utils.clip_grad_norm(trainable_params_(self.m), self.clip)\n"
     ]
    },
    {
     "name": "stdout",
     "output_type": "stream",
     "text": [
      "\r",
      "  6%|███▉                                                                 | 96/1683 [00:37<10:51,  2.44it/s, loss=10.7]"
     ]
    },
    {
     "name": "stderr",
     "output_type": "stream",
     "text": [
      "C:\\Users\\PC\\Projects\\fastai\\courses\\dl1\\ULMFiT-Filipino\\fastai\\model.py:62: UserWarning: torch.nn.utils.clip_grad_norm is now deprecated in favor of torch.nn.utils.clip_grad_norm_.\n",
      "  if IS_TORCH_04: nn.utils.clip_grad_norm(trainable_params_(self.m), self.clip)\n"
     ]
    },
    {
     "name": "stdout",
     "output_type": "stream",
     "text": [
      "\r",
      "  6%|███▉                                                                 | 97/1683 [00:37<09:39,  2.74it/s, loss=10.7]"
     ]
    },
    {
     "name": "stderr",
     "output_type": "stream",
     "text": [
      "C:\\Users\\PC\\Projects\\fastai\\courses\\dl1\\ULMFiT-Filipino\\fastai\\model.py:62: UserWarning: torch.nn.utils.clip_grad_norm is now deprecated in favor of torch.nn.utils.clip_grad_norm_.\n",
      "  if IS_TORCH_04: nn.utils.clip_grad_norm(trainable_params_(self.m), self.clip)\n"
     ]
    },
    {
     "name": "stdout",
     "output_type": "stream",
     "text": [
      "\r",
      "  6%|████                                                                 | 98/1683 [00:38<09:56,  2.66it/s, loss=10.7]"
     ]
    },
    {
     "name": "stderr",
     "output_type": "stream",
     "text": [
      "C:\\Users\\PC\\Projects\\fastai\\courses\\dl1\\ULMFiT-Filipino\\fastai\\model.py:62: UserWarning: torch.nn.utils.clip_grad_norm is now deprecated in favor of torch.nn.utils.clip_grad_norm_.\n",
      "  if IS_TORCH_04: nn.utils.clip_grad_norm(trainable_params_(self.m), self.clip)\n"
     ]
    },
    {
     "name": "stdout",
     "output_type": "stream",
     "text": [
      "\r",
      "  6%|████                                                                 | 99/1683 [00:38<08:52,  2.98it/s, loss=10.7]"
     ]
    },
    {
     "name": "stderr",
     "output_type": "stream",
     "text": [
      "C:\\Users\\PC\\Projects\\fastai\\courses\\dl1\\ULMFiT-Filipino\\fastai\\model.py:62: UserWarning: torch.nn.utils.clip_grad_norm is now deprecated in favor of torch.nn.utils.clip_grad_norm_.\n",
      "  if IS_TORCH_04: nn.utils.clip_grad_norm(trainable_params_(self.m), self.clip)\n"
     ]
    },
    {
     "name": "stdout",
     "output_type": "stream",
     "text": [
      "\r",
      "  6%|████                                                                | 100/1683 [00:38<09:13,  2.86it/s, loss=10.7]"
     ]
    },
    {
     "name": "stderr",
     "output_type": "stream",
     "text": [
      "C:\\Users\\PC\\Projects\\fastai\\courses\\dl1\\ULMFiT-Filipino\\fastai\\model.py:62: UserWarning: torch.nn.utils.clip_grad_norm is now deprecated in favor of torch.nn.utils.clip_grad_norm_.\n",
      "  if IS_TORCH_04: nn.utils.clip_grad_norm(trainable_params_(self.m), self.clip)\n"
     ]
    },
    {
     "name": "stdout",
     "output_type": "stream",
     "text": [
      "\r",
      "  6%|████                                                                | 101/1683 [00:39<09:19,  2.83it/s, loss=10.7]"
     ]
    },
    {
     "name": "stderr",
     "output_type": "stream",
     "text": [
      "C:\\Users\\PC\\Projects\\fastai\\courses\\dl1\\ULMFiT-Filipino\\fastai\\model.py:62: UserWarning: torch.nn.utils.clip_grad_norm is now deprecated in favor of torch.nn.utils.clip_grad_norm_.\n",
      "  if IS_TORCH_04: nn.utils.clip_grad_norm(trainable_params_(self.m), self.clip)\n"
     ]
    },
    {
     "name": "stdout",
     "output_type": "stream",
     "text": [
      "\r",
      "  6%|████                                                                | 102/1683 [00:39<09:28,  2.78it/s, loss=10.7]"
     ]
    },
    {
     "name": "stderr",
     "output_type": "stream",
     "text": [
      "C:\\Users\\PC\\Projects\\fastai\\courses\\dl1\\ULMFiT-Filipino\\fastai\\model.py:62: UserWarning: torch.nn.utils.clip_grad_norm is now deprecated in favor of torch.nn.utils.clip_grad_norm_.\n",
      "  if IS_TORCH_04: nn.utils.clip_grad_norm(trainable_params_(self.m), self.clip)\n"
     ]
    },
    {
     "name": "stdout",
     "output_type": "stream",
     "text": [
      "\r",
      "  6%|████▏                                                               | 103/1683 [00:40<09:52,  2.67it/s, loss=10.7]"
     ]
    },
    {
     "name": "stderr",
     "output_type": "stream",
     "text": [
      "C:\\Users\\PC\\Projects\\fastai\\courses\\dl1\\ULMFiT-Filipino\\fastai\\model.py:62: UserWarning: torch.nn.utils.clip_grad_norm is now deprecated in favor of torch.nn.utils.clip_grad_norm_.\n",
      "  if IS_TORCH_04: nn.utils.clip_grad_norm(trainable_params_(self.m), self.clip)\n"
     ]
    },
    {
     "name": "stdout",
     "output_type": "stream",
     "text": [
      "\r",
      "  6%|████▏                                                               | 104/1683 [00:40<09:58,  2.64it/s, loss=10.7]"
     ]
    },
    {
     "name": "stderr",
     "output_type": "stream",
     "text": [
      "C:\\Users\\PC\\Projects\\fastai\\courses\\dl1\\ULMFiT-Filipino\\fastai\\model.py:62: UserWarning: torch.nn.utils.clip_grad_norm is now deprecated in favor of torch.nn.utils.clip_grad_norm_.\n",
      "  if IS_TORCH_04: nn.utils.clip_grad_norm(trainable_params_(self.m), self.clip)\n"
     ]
    },
    {
     "name": "stdout",
     "output_type": "stream",
     "text": [
      "\r",
      "  6%|████▏                                                               | 105/1683 [00:40<10:02,  2.62it/s, loss=10.7]"
     ]
    },
    {
     "name": "stderr",
     "output_type": "stream",
     "text": [
      "C:\\Users\\PC\\Projects\\fastai\\courses\\dl1\\ULMFiT-Filipino\\fastai\\model.py:62: UserWarning: torch.nn.utils.clip_grad_norm is now deprecated in favor of torch.nn.utils.clip_grad_norm_.\n",
      "  if IS_TORCH_04: nn.utils.clip_grad_norm(trainable_params_(self.m), self.clip)\n"
     ]
    },
    {
     "name": "stdout",
     "output_type": "stream",
     "text": [
      "\r",
      "  6%|████▎                                                               | 106/1683 [00:41<09:58,  2.63it/s, loss=10.7]"
     ]
    },
    {
     "name": "stderr",
     "output_type": "stream",
     "text": [
      "C:\\Users\\PC\\Projects\\fastai\\courses\\dl1\\ULMFiT-Filipino\\fastai\\model.py:62: UserWarning: torch.nn.utils.clip_grad_norm is now deprecated in favor of torch.nn.utils.clip_grad_norm_.\n",
      "  if IS_TORCH_04: nn.utils.clip_grad_norm(trainable_params_(self.m), self.clip)\n"
     ]
    },
    {
     "name": "stdout",
     "output_type": "stream",
     "text": [
      "\r",
      "  6%|████▎                                                               | 107/1683 [00:41<09:57,  2.64it/s, loss=10.7]"
     ]
    },
    {
     "name": "stderr",
     "output_type": "stream",
     "text": [
      "C:\\Users\\PC\\Projects\\fastai\\courses\\dl1\\ULMFiT-Filipino\\fastai\\model.py:62: UserWarning: torch.nn.utils.clip_grad_norm is now deprecated in favor of torch.nn.utils.clip_grad_norm_.\n",
      "  if IS_TORCH_04: nn.utils.clip_grad_norm(trainable_params_(self.m), self.clip)\n"
     ]
    },
    {
     "name": "stdout",
     "output_type": "stream",
     "text": [
      "\r",
      "  6%|████▎                                                               | 108/1683 [00:42<09:48,  2.68it/s, loss=10.7]"
     ]
    },
    {
     "name": "stderr",
     "output_type": "stream",
     "text": [
      "C:\\Users\\PC\\Projects\\fastai\\courses\\dl1\\ULMFiT-Filipino\\fastai\\model.py:62: UserWarning: torch.nn.utils.clip_grad_norm is now deprecated in favor of torch.nn.utils.clip_grad_norm_.\n",
      "  if IS_TORCH_04: nn.utils.clip_grad_norm(trainable_params_(self.m), self.clip)\n"
     ]
    },
    {
     "name": "stdout",
     "output_type": "stream",
     "text": [
      "\r",
      "  6%|████▍                                                               | 109/1683 [00:42<09:56,  2.64it/s, loss=10.7]"
     ]
    },
    {
     "name": "stderr",
     "output_type": "stream",
     "text": [
      "C:\\Users\\PC\\Projects\\fastai\\courses\\dl1\\ULMFiT-Filipino\\fastai\\model.py:62: UserWarning: torch.nn.utils.clip_grad_norm is now deprecated in favor of torch.nn.utils.clip_grad_norm_.\n",
      "  if IS_TORCH_04: nn.utils.clip_grad_norm(trainable_params_(self.m), self.clip)\n"
     ]
    },
    {
     "name": "stdout",
     "output_type": "stream",
     "text": [
      "\r",
      "  7%|████▍                                                               | 110/1683 [00:42<09:53,  2.65it/s, loss=10.7]"
     ]
    },
    {
     "name": "stderr",
     "output_type": "stream",
     "text": [
      "C:\\Users\\PC\\Projects\\fastai\\courses\\dl1\\ULMFiT-Filipino\\fastai\\model.py:62: UserWarning: torch.nn.utils.clip_grad_norm is now deprecated in favor of torch.nn.utils.clip_grad_norm_.\n",
      "  if IS_TORCH_04: nn.utils.clip_grad_norm(trainable_params_(self.m), self.clip)\n"
     ]
    },
    {
     "name": "stdout",
     "output_type": "stream",
     "text": [
      "\r",
      "  7%|████▍                                                               | 111/1683 [00:43<10:07,  2.59it/s, loss=10.7]"
     ]
    },
    {
     "name": "stderr",
     "output_type": "stream",
     "text": [
      "C:\\Users\\PC\\Projects\\fastai\\courses\\dl1\\ULMFiT-Filipino\\fastai\\model.py:62: UserWarning: torch.nn.utils.clip_grad_norm is now deprecated in favor of torch.nn.utils.clip_grad_norm_.\n",
      "  if IS_TORCH_04: nn.utils.clip_grad_norm(trainable_params_(self.m), self.clip)\n"
     ]
    },
    {
     "name": "stdout",
     "output_type": "stream",
     "text": [
      "\r",
      "  7%|████▌                                                               | 112/1683 [00:43<09:57,  2.63it/s, loss=10.7]"
     ]
    },
    {
     "name": "stderr",
     "output_type": "stream",
     "text": [
      "C:\\Users\\PC\\Projects\\fastai\\courses\\dl1\\ULMFiT-Filipino\\fastai\\model.py:62: UserWarning: torch.nn.utils.clip_grad_norm is now deprecated in favor of torch.nn.utils.clip_grad_norm_.\n",
      "  if IS_TORCH_04: nn.utils.clip_grad_norm(trainable_params_(self.m), self.clip)\n"
     ]
    },
    {
     "name": "stdout",
     "output_type": "stream",
     "text": [
      "\r",
      "  7%|████▌                                                               | 113/1683 [00:43<09:58,  2.62it/s, loss=10.7]"
     ]
    },
    {
     "name": "stderr",
     "output_type": "stream",
     "text": [
      "C:\\Users\\PC\\Projects\\fastai\\courses\\dl1\\ULMFiT-Filipino\\fastai\\model.py:62: UserWarning: torch.nn.utils.clip_grad_norm is now deprecated in favor of torch.nn.utils.clip_grad_norm_.\n",
      "  if IS_TORCH_04: nn.utils.clip_grad_norm(trainable_params_(self.m), self.clip)\n"
     ]
    },
    {
     "name": "stdout",
     "output_type": "stream",
     "text": [
      "\r",
      "  7%|████▌                                                               | 114/1683 [00:44<09:59,  2.62it/s, loss=10.7]"
     ]
    },
    {
     "name": "stderr",
     "output_type": "stream",
     "text": [
      "C:\\Users\\PC\\Projects\\fastai\\courses\\dl1\\ULMFiT-Filipino\\fastai\\model.py:62: UserWarning: torch.nn.utils.clip_grad_norm is now deprecated in favor of torch.nn.utils.clip_grad_norm_.\n",
      "  if IS_TORCH_04: nn.utils.clip_grad_norm(trainable_params_(self.m), self.clip)\n"
     ]
    },
    {
     "name": "stdout",
     "output_type": "stream",
     "text": [
      "\r",
      "  7%|████▋                                                               | 115/1683 [00:44<10:08,  2.58it/s, loss=10.7]"
     ]
    },
    {
     "name": "stderr",
     "output_type": "stream",
     "text": [
      "C:\\Users\\PC\\Projects\\fastai\\courses\\dl1\\ULMFiT-Filipino\\fastai\\model.py:62: UserWarning: torch.nn.utils.clip_grad_norm is now deprecated in favor of torch.nn.utils.clip_grad_norm_.\n",
      "  if IS_TORCH_04: nn.utils.clip_grad_norm(trainable_params_(self.m), self.clip)\n"
     ]
    },
    {
     "name": "stdout",
     "output_type": "stream",
     "text": [
      "\r",
      "  7%|████▋                                                               | 116/1683 [00:45<10:08,  2.57it/s, loss=10.7]"
     ]
    },
    {
     "name": "stderr",
     "output_type": "stream",
     "text": [
      "C:\\Users\\PC\\Projects\\fastai\\courses\\dl1\\ULMFiT-Filipino\\fastai\\model.py:62: UserWarning: torch.nn.utils.clip_grad_norm is now deprecated in favor of torch.nn.utils.clip_grad_norm_.\n",
      "  if IS_TORCH_04: nn.utils.clip_grad_norm(trainable_params_(self.m), self.clip)\n"
     ]
    },
    {
     "name": "stdout",
     "output_type": "stream",
     "text": [
      "\r",
      "  7%|████▋                                                               | 117/1683 [00:45<10:10,  2.57it/s, loss=10.7]"
     ]
    },
    {
     "name": "stderr",
     "output_type": "stream",
     "text": [
      "C:\\Users\\PC\\Projects\\fastai\\courses\\dl1\\ULMFiT-Filipino\\fastai\\model.py:62: UserWarning: torch.nn.utils.clip_grad_norm is now deprecated in favor of torch.nn.utils.clip_grad_norm_.\n",
      "  if IS_TORCH_04: nn.utils.clip_grad_norm(trainable_params_(self.m), self.clip)\n"
     ]
    },
    {
     "name": "stdout",
     "output_type": "stream",
     "text": [
      "\r",
      "  7%|████▊                                                               | 118/1683 [00:45<10:01,  2.60it/s, loss=10.7]"
     ]
    },
    {
     "name": "stderr",
     "output_type": "stream",
     "text": [
      "C:\\Users\\PC\\Projects\\fastai\\courses\\dl1\\ULMFiT-Filipino\\fastai\\model.py:62: UserWarning: torch.nn.utils.clip_grad_norm is now deprecated in favor of torch.nn.utils.clip_grad_norm_.\n",
      "  if IS_TORCH_04: nn.utils.clip_grad_norm(trainable_params_(self.m), self.clip)\n"
     ]
    },
    {
     "name": "stdout",
     "output_type": "stream",
     "text": [
      "\r",
      "  7%|████▊                                                               | 119/1683 [00:46<09:59,  2.61it/s, loss=10.7]"
     ]
    },
    {
     "name": "stderr",
     "output_type": "stream",
     "text": [
      "C:\\Users\\PC\\Projects\\fastai\\courses\\dl1\\ULMFiT-Filipino\\fastai\\model.py:62: UserWarning: torch.nn.utils.clip_grad_norm is now deprecated in favor of torch.nn.utils.clip_grad_norm_.\n",
      "  if IS_TORCH_04: nn.utils.clip_grad_norm(trainable_params_(self.m), self.clip)\n"
     ]
    },
    {
     "name": "stdout",
     "output_type": "stream",
     "text": [
      "\r",
      "  7%|████▊                                                               | 120/1683 [00:46<09:49,  2.65it/s, loss=10.7]"
     ]
    },
    {
     "name": "stderr",
     "output_type": "stream",
     "text": [
      "C:\\Users\\PC\\Projects\\fastai\\courses\\dl1\\ULMFiT-Filipino\\fastai\\model.py:62: UserWarning: torch.nn.utils.clip_grad_norm is now deprecated in favor of torch.nn.utils.clip_grad_norm_.\n",
      "  if IS_TORCH_04: nn.utils.clip_grad_norm(trainable_params_(self.m), self.clip)\n"
     ]
    },
    {
     "name": "stdout",
     "output_type": "stream",
     "text": [
      "\r",
      "  7%|████▉                                                               | 121/1683 [00:47<10:06,  2.58it/s, loss=10.7]"
     ]
    },
    {
     "name": "stderr",
     "output_type": "stream",
     "text": [
      "C:\\Users\\PC\\Projects\\fastai\\courses\\dl1\\ULMFiT-Filipino\\fastai\\model.py:62: UserWarning: torch.nn.utils.clip_grad_norm is now deprecated in favor of torch.nn.utils.clip_grad_norm_.\n",
      "  if IS_TORCH_04: nn.utils.clip_grad_norm(trainable_params_(self.m), self.clip)\n"
     ]
    },
    {
     "name": "stdout",
     "output_type": "stream",
     "text": [
      "\r",
      "  7%|████▉                                                               | 122/1683 [00:47<10:08,  2.57it/s, loss=10.7]"
     ]
    },
    {
     "name": "stderr",
     "output_type": "stream",
     "text": [
      "C:\\Users\\PC\\Projects\\fastai\\courses\\dl1\\ULMFiT-Filipino\\fastai\\model.py:62: UserWarning: torch.nn.utils.clip_grad_norm is now deprecated in favor of torch.nn.utils.clip_grad_norm_.\n",
      "  if IS_TORCH_04: nn.utils.clip_grad_norm(trainable_params_(self.m), self.clip)\n"
     ]
    },
    {
     "name": "stdout",
     "output_type": "stream",
     "text": [
      "\r",
      "  7%|████▉                                                               | 123/1683 [00:47<10:06,  2.57it/s, loss=10.7]"
     ]
    },
    {
     "name": "stderr",
     "output_type": "stream",
     "text": [
      "C:\\Users\\PC\\Projects\\fastai\\courses\\dl1\\ULMFiT-Filipino\\fastai\\model.py:62: UserWarning: torch.nn.utils.clip_grad_norm is now deprecated in favor of torch.nn.utils.clip_grad_norm_.\n",
      "  if IS_TORCH_04: nn.utils.clip_grad_norm(trainable_params_(self.m), self.clip)\n"
     ]
    },
    {
     "name": "stdout",
     "output_type": "stream",
     "text": [
      "\r",
      "  7%|█████                                                               | 124/1683 [00:48<10:00,  2.59it/s, loss=10.7]"
     ]
    },
    {
     "name": "stderr",
     "output_type": "stream",
     "text": [
      "C:\\Users\\PC\\Projects\\fastai\\courses\\dl1\\ULMFiT-Filipino\\fastai\\model.py:62: UserWarning: torch.nn.utils.clip_grad_norm is now deprecated in favor of torch.nn.utils.clip_grad_norm_.\n",
      "  if IS_TORCH_04: nn.utils.clip_grad_norm(trainable_params_(self.m), self.clip)\n"
     ]
    },
    {
     "name": "stdout",
     "output_type": "stream",
     "text": [
      "\r",
      "  7%|█████                                                               | 125/1683 [00:48<10:00,  2.60it/s, loss=10.7]"
     ]
    },
    {
     "name": "stderr",
     "output_type": "stream",
     "text": [
      "C:\\Users\\PC\\Projects\\fastai\\courses\\dl1\\ULMFiT-Filipino\\fastai\\model.py:62: UserWarning: torch.nn.utils.clip_grad_norm is now deprecated in favor of torch.nn.utils.clip_grad_norm_.\n",
      "  if IS_TORCH_04: nn.utils.clip_grad_norm(trainable_params_(self.m), self.clip)\n"
     ]
    },
    {
     "name": "stdout",
     "output_type": "stream",
     "text": [
      "\r",
      "  7%|█████                                                               | 126/1683 [00:49<10:23,  2.50it/s, loss=10.7]"
     ]
    },
    {
     "name": "stderr",
     "output_type": "stream",
     "text": [
      "C:\\Users\\PC\\Projects\\fastai\\courses\\dl1\\ULMFiT-Filipino\\fastai\\model.py:62: UserWarning: torch.nn.utils.clip_grad_norm is now deprecated in favor of torch.nn.utils.clip_grad_norm_.\n",
      "  if IS_TORCH_04: nn.utils.clip_grad_norm(trainable_params_(self.m), self.clip)\n"
     ]
    },
    {
     "name": "stdout",
     "output_type": "stream",
     "text": [
      "\r",
      "  8%|█████▏                                                              | 127/1683 [00:49<10:18,  2.52it/s, loss=10.7]"
     ]
    },
    {
     "name": "stderr",
     "output_type": "stream",
     "text": [
      "C:\\Users\\PC\\Projects\\fastai\\courses\\dl1\\ULMFiT-Filipino\\fastai\\model.py:62: UserWarning: torch.nn.utils.clip_grad_norm is now deprecated in favor of torch.nn.utils.clip_grad_norm_.\n",
      "  if IS_TORCH_04: nn.utils.clip_grad_norm(trainable_params_(self.m), self.clip)\n"
     ]
    },
    {
     "name": "stdout",
     "output_type": "stream",
     "text": [
      "\r",
      "  8%|█████▏                                                              | 128/1683 [00:49<10:22,  2.50it/s, loss=10.7]"
     ]
    },
    {
     "name": "stderr",
     "output_type": "stream",
     "text": [
      "C:\\Users\\PC\\Projects\\fastai\\courses\\dl1\\ULMFiT-Filipino\\fastai\\model.py:62: UserWarning: torch.nn.utils.clip_grad_norm is now deprecated in favor of torch.nn.utils.clip_grad_norm_.\n",
      "  if IS_TORCH_04: nn.utils.clip_grad_norm(trainable_params_(self.m), self.clip)\n"
     ]
    },
    {
     "name": "stdout",
     "output_type": "stream",
     "text": [
      "\r",
      "  8%|█████▏                                                              | 129/1683 [00:50<10:24,  2.49it/s, loss=10.7]"
     ]
    },
    {
     "name": "stderr",
     "output_type": "stream",
     "text": [
      "C:\\Users\\PC\\Projects\\fastai\\courses\\dl1\\ULMFiT-Filipino\\fastai\\model.py:62: UserWarning: torch.nn.utils.clip_grad_norm is now deprecated in favor of torch.nn.utils.clip_grad_norm_.\n",
      "  if IS_TORCH_04: nn.utils.clip_grad_norm(trainable_params_(self.m), self.clip)\n"
     ]
    },
    {
     "name": "stdout",
     "output_type": "stream",
     "text": [
      "\r",
      "  8%|█████▎                                                              | 130/1683 [00:50<10:24,  2.49it/s, loss=10.7]"
     ]
    },
    {
     "name": "stderr",
     "output_type": "stream",
     "text": [
      "C:\\Users\\PC\\Projects\\fastai\\courses\\dl1\\ULMFiT-Filipino\\fastai\\model.py:62: UserWarning: torch.nn.utils.clip_grad_norm is now deprecated in favor of torch.nn.utils.clip_grad_norm_.\n",
      "  if IS_TORCH_04: nn.utils.clip_grad_norm(trainable_params_(self.m), self.clip)\n"
     ]
    },
    {
     "name": "stdout",
     "output_type": "stream",
     "text": [
      "\r",
      "  8%|█████▎                                                              | 131/1683 [00:50<10:07,  2.56it/s, loss=10.7]"
     ]
    },
    {
     "name": "stderr",
     "output_type": "stream",
     "text": [
      "C:\\Users\\PC\\Projects\\fastai\\courses\\dl1\\ULMFiT-Filipino\\fastai\\model.py:62: UserWarning: torch.nn.utils.clip_grad_norm is now deprecated in favor of torch.nn.utils.clip_grad_norm_.\n",
      "  if IS_TORCH_04: nn.utils.clip_grad_norm(trainable_params_(self.m), self.clip)\n"
     ]
    },
    {
     "name": "stdout",
     "output_type": "stream",
     "text": [
      "\r",
      "  8%|█████▎                                                              | 132/1683 [00:51<10:05,  2.56it/s, loss=10.7]"
     ]
    },
    {
     "name": "stderr",
     "output_type": "stream",
     "text": [
      "C:\\Users\\PC\\Projects\\fastai\\courses\\dl1\\ULMFiT-Filipino\\fastai\\model.py:62: UserWarning: torch.nn.utils.clip_grad_norm is now deprecated in favor of torch.nn.utils.clip_grad_norm_.\n",
      "  if IS_TORCH_04: nn.utils.clip_grad_norm(trainable_params_(self.m), self.clip)\n"
     ]
    },
    {
     "name": "stdout",
     "output_type": "stream",
     "text": [
      "\r",
      "  8%|█████▎                                                              | 133/1683 [00:51<10:13,  2.53it/s, loss=10.7]"
     ]
    },
    {
     "name": "stderr",
     "output_type": "stream",
     "text": [
      "C:\\Users\\PC\\Projects\\fastai\\courses\\dl1\\ULMFiT-Filipino\\fastai\\model.py:62: UserWarning: torch.nn.utils.clip_grad_norm is now deprecated in favor of torch.nn.utils.clip_grad_norm_.\n",
      "  if IS_TORCH_04: nn.utils.clip_grad_norm(trainable_params_(self.m), self.clip)\n"
     ]
    },
    {
     "name": "stdout",
     "output_type": "stream",
     "text": [
      "\r",
      "  8%|█████▍                                                              | 134/1683 [00:52<10:04,  2.56it/s, loss=10.7]"
     ]
    },
    {
     "name": "stderr",
     "output_type": "stream",
     "text": [
      "C:\\Users\\PC\\Projects\\fastai\\courses\\dl1\\ULMFiT-Filipino\\fastai\\model.py:62: UserWarning: torch.nn.utils.clip_grad_norm is now deprecated in favor of torch.nn.utils.clip_grad_norm_.\n",
      "  if IS_TORCH_04: nn.utils.clip_grad_norm(trainable_params_(self.m), self.clip)\n"
     ]
    },
    {
     "name": "stdout",
     "output_type": "stream",
     "text": [
      "\r",
      "  8%|█████▍                                                              | 135/1683 [00:52<09:09,  2.82it/s, loss=10.7]"
     ]
    },
    {
     "name": "stderr",
     "output_type": "stream",
     "text": [
      "C:\\Users\\PC\\Projects\\fastai\\courses\\dl1\\ULMFiT-Filipino\\fastai\\model.py:62: UserWarning: torch.nn.utils.clip_grad_norm is now deprecated in favor of torch.nn.utils.clip_grad_norm_.\n",
      "  if IS_TORCH_04: nn.utils.clip_grad_norm(trainable_params_(self.m), self.clip)\n"
     ]
    },
    {
     "name": "stdout",
     "output_type": "stream",
     "text": [
      "\r",
      "  8%|█████▍                                                              | 136/1683 [00:52<09:31,  2.71it/s, loss=10.7]"
     ]
    },
    {
     "name": "stderr",
     "output_type": "stream",
     "text": [
      "C:\\Users\\PC\\Projects\\fastai\\courses\\dl1\\ULMFiT-Filipino\\fastai\\model.py:62: UserWarning: torch.nn.utils.clip_grad_norm is now deprecated in favor of torch.nn.utils.clip_grad_norm_.\n",
      "  if IS_TORCH_04: nn.utils.clip_grad_norm(trainable_params_(self.m), self.clip)\n"
     ]
    },
    {
     "name": "stdout",
     "output_type": "stream",
     "text": [
      "\r",
      "  8%|█████▌                                                              | 137/1683 [00:53<09:34,  2.69it/s, loss=10.7]"
     ]
    },
    {
     "name": "stderr",
     "output_type": "stream",
     "text": [
      "C:\\Users\\PC\\Projects\\fastai\\courses\\dl1\\ULMFiT-Filipino\\fastai\\model.py:62: UserWarning: torch.nn.utils.clip_grad_norm is now deprecated in favor of torch.nn.utils.clip_grad_norm_.\n",
      "  if IS_TORCH_04: nn.utils.clip_grad_norm(trainable_params_(self.m), self.clip)\n"
     ]
    },
    {
     "name": "stdout",
     "output_type": "stream",
     "text": [
      "\r",
      "  8%|█████▌                                                              | 138/1683 [00:53<09:46,  2.64it/s, loss=10.7]"
     ]
    },
    {
     "name": "stderr",
     "output_type": "stream",
     "text": [
      "C:\\Users\\PC\\Projects\\fastai\\courses\\dl1\\ULMFiT-Filipino\\fastai\\model.py:62: UserWarning: torch.nn.utils.clip_grad_norm is now deprecated in favor of torch.nn.utils.clip_grad_norm_.\n",
      "  if IS_TORCH_04: nn.utils.clip_grad_norm(trainable_params_(self.m), self.clip)\n"
     ]
    },
    {
     "name": "stdout",
     "output_type": "stream",
     "text": [
      "\r",
      "  8%|█████▌                                                              | 139/1683 [00:53<09:29,  2.71it/s, loss=10.7]"
     ]
    },
    {
     "name": "stderr",
     "output_type": "stream",
     "text": [
      "C:\\Users\\PC\\Projects\\fastai\\courses\\dl1\\ULMFiT-Filipino\\fastai\\model.py:62: UserWarning: torch.nn.utils.clip_grad_norm is now deprecated in favor of torch.nn.utils.clip_grad_norm_.\n",
      "  if IS_TORCH_04: nn.utils.clip_grad_norm(trainable_params_(self.m), self.clip)\n"
     ]
    },
    {
     "name": "stdout",
     "output_type": "stream",
     "text": [
      "\r",
      "  8%|█████▋                                                              | 140/1683 [00:54<09:46,  2.63it/s, loss=10.7]"
     ]
    },
    {
     "name": "stderr",
     "output_type": "stream",
     "text": [
      "C:\\Users\\PC\\Projects\\fastai\\courses\\dl1\\ULMFiT-Filipino\\fastai\\model.py:62: UserWarning: torch.nn.utils.clip_grad_norm is now deprecated in favor of torch.nn.utils.clip_grad_norm_.\n",
      "  if IS_TORCH_04: nn.utils.clip_grad_norm(trainable_params_(self.m), self.clip)\n"
     ]
    },
    {
     "name": "stdout",
     "output_type": "stream",
     "text": [
      "\r",
      "  8%|█████▋                                                              | 141/1683 [00:54<09:45,  2.63it/s, loss=10.7]"
     ]
    },
    {
     "name": "stderr",
     "output_type": "stream",
     "text": [
      "C:\\Users\\PC\\Projects\\fastai\\courses\\dl1\\ULMFiT-Filipino\\fastai\\model.py:62: UserWarning: torch.nn.utils.clip_grad_norm is now deprecated in favor of torch.nn.utils.clip_grad_norm_.\n",
      "  if IS_TORCH_04: nn.utils.clip_grad_norm(trainable_params_(self.m), self.clip)\n"
     ]
    },
    {
     "name": "stdout",
     "output_type": "stream",
     "text": [
      "\r",
      "  8%|█████▋                                                              | 142/1683 [00:55<09:47,  2.62it/s, loss=10.7]"
     ]
    },
    {
     "name": "stderr",
     "output_type": "stream",
     "text": [
      "C:\\Users\\PC\\Projects\\fastai\\courses\\dl1\\ULMFiT-Filipino\\fastai\\model.py:62: UserWarning: torch.nn.utils.clip_grad_norm is now deprecated in favor of torch.nn.utils.clip_grad_norm_.\n",
      "  if IS_TORCH_04: nn.utils.clip_grad_norm(trainable_params_(self.m), self.clip)\n"
     ]
    },
    {
     "name": "stdout",
     "output_type": "stream",
     "text": [
      "\r",
      "  8%|█████▊                                                              | 143/1683 [00:55<09:47,  2.62it/s, loss=10.7]"
     ]
    },
    {
     "name": "stderr",
     "output_type": "stream",
     "text": [
      "C:\\Users\\PC\\Projects\\fastai\\courses\\dl1\\ULMFiT-Filipino\\fastai\\model.py:62: UserWarning: torch.nn.utils.clip_grad_norm is now deprecated in favor of torch.nn.utils.clip_grad_norm_.\n",
      "  if IS_TORCH_04: nn.utils.clip_grad_norm(trainable_params_(self.m), self.clip)\n"
     ]
    },
    {
     "name": "stdout",
     "output_type": "stream",
     "text": [
      "\r",
      "  9%|█████▊                                                              | 144/1683 [00:55<08:49,  2.90it/s, loss=10.7]"
     ]
    },
    {
     "name": "stderr",
     "output_type": "stream",
     "text": [
      "C:\\Users\\PC\\Projects\\fastai\\courses\\dl1\\ULMFiT-Filipino\\fastai\\model.py:62: UserWarning: torch.nn.utils.clip_grad_norm is now deprecated in favor of torch.nn.utils.clip_grad_norm_.\n",
      "  if IS_TORCH_04: nn.utils.clip_grad_norm(trainable_params_(self.m), self.clip)\n"
     ]
    },
    {
     "name": "stdout",
     "output_type": "stream",
     "text": [
      "\r",
      "  9%|█████▊                                                              | 145/1683 [00:56<08:53,  2.88it/s, loss=10.7]"
     ]
    },
    {
     "name": "stderr",
     "output_type": "stream",
     "text": [
      "C:\\Users\\PC\\Projects\\fastai\\courses\\dl1\\ULMFiT-Filipino\\fastai\\model.py:62: UserWarning: torch.nn.utils.clip_grad_norm is now deprecated in favor of torch.nn.utils.clip_grad_norm_.\n",
      "  if IS_TORCH_04: nn.utils.clip_grad_norm(trainable_params_(self.m), self.clip)\n"
     ]
    },
    {
     "name": "stdout",
     "output_type": "stream",
     "text": [
      "\r",
      "  9%|█████▉                                                              | 146/1683 [00:56<09:07,  2.81it/s, loss=10.7]"
     ]
    },
    {
     "name": "stderr",
     "output_type": "stream",
     "text": [
      "C:\\Users\\PC\\Projects\\fastai\\courses\\dl1\\ULMFiT-Filipino\\fastai\\model.py:62: UserWarning: torch.nn.utils.clip_grad_norm is now deprecated in favor of torch.nn.utils.clip_grad_norm_.\n",
      "  if IS_TORCH_04: nn.utils.clip_grad_norm(trainable_params_(self.m), self.clip)\n"
     ]
    },
    {
     "name": "stdout",
     "output_type": "stream",
     "text": [
      "\r",
      "  9%|█████▉                                                              | 147/1683 [00:56<09:27,  2.71it/s, loss=10.7]"
     ]
    },
    {
     "name": "stderr",
     "output_type": "stream",
     "text": [
      "C:\\Users\\PC\\Projects\\fastai\\courses\\dl1\\ULMFiT-Filipino\\fastai\\model.py:62: UserWarning: torch.nn.utils.clip_grad_norm is now deprecated in favor of torch.nn.utils.clip_grad_norm_.\n",
      "  if IS_TORCH_04: nn.utils.clip_grad_norm(trainable_params_(self.m), self.clip)\n"
     ]
    },
    {
     "name": "stdout",
     "output_type": "stream",
     "text": [
      "\r",
      "  9%|█████▉                                                              | 148/1683 [00:57<09:44,  2.62it/s, loss=10.7]"
     ]
    },
    {
     "name": "stderr",
     "output_type": "stream",
     "text": [
      "C:\\Users\\PC\\Projects\\fastai\\courses\\dl1\\ULMFiT-Filipino\\fastai\\model.py:62: UserWarning: torch.nn.utils.clip_grad_norm is now deprecated in favor of torch.nn.utils.clip_grad_norm_.\n",
      "  if IS_TORCH_04: nn.utils.clip_grad_norm(trainable_params_(self.m), self.clip)\n"
     ]
    },
    {
     "name": "stdout",
     "output_type": "stream",
     "text": [
      "\r",
      "  9%|██████                                                              | 149/1683 [00:57<09:45,  2.62it/s, loss=10.7]"
     ]
    },
    {
     "name": "stderr",
     "output_type": "stream",
     "text": [
      "C:\\Users\\PC\\Projects\\fastai\\courses\\dl1\\ULMFiT-Filipino\\fastai\\model.py:62: UserWarning: torch.nn.utils.clip_grad_norm is now deprecated in favor of torch.nn.utils.clip_grad_norm_.\n",
      "  if IS_TORCH_04: nn.utils.clip_grad_norm(trainable_params_(self.m), self.clip)\n"
     ]
    },
    {
     "name": "stdout",
     "output_type": "stream",
     "text": [
      "\r",
      "  9%|██████                                                              | 150/1683 [00:57<08:19,  3.07it/s, loss=10.7]"
     ]
    },
    {
     "name": "stderr",
     "output_type": "stream",
     "text": [
      "C:\\Users\\PC\\Projects\\fastai\\courses\\dl1\\ULMFiT-Filipino\\fastai\\model.py:62: UserWarning: torch.nn.utils.clip_grad_norm is now deprecated in favor of torch.nn.utils.clip_grad_norm_.\n",
      "  if IS_TORCH_04: nn.utils.clip_grad_norm(trainable_params_(self.m), self.clip)\n"
     ]
    },
    {
     "name": "stdout",
     "output_type": "stream",
     "text": [
      "\r",
      "  9%|██████                                                              | 151/1683 [00:58<08:50,  2.89it/s, loss=10.7]"
     ]
    },
    {
     "name": "stderr",
     "output_type": "stream",
     "text": [
      "C:\\Users\\PC\\Projects\\fastai\\courses\\dl1\\ULMFiT-Filipino\\fastai\\model.py:62: UserWarning: torch.nn.utils.clip_grad_norm is now deprecated in favor of torch.nn.utils.clip_grad_norm_.\n",
      "  if IS_TORCH_04: nn.utils.clip_grad_norm(trainable_params_(self.m), self.clip)\n"
     ]
    },
    {
     "name": "stdout",
     "output_type": "stream",
     "text": [
      "\r",
      "  9%|██████▏                                                             | 152/1683 [00:58<09:12,  2.77it/s, loss=10.7]"
     ]
    },
    {
     "name": "stderr",
     "output_type": "stream",
     "text": [
      "C:\\Users\\PC\\Projects\\fastai\\courses\\dl1\\ULMFiT-Filipino\\fastai\\model.py:62: UserWarning: torch.nn.utils.clip_grad_norm is now deprecated in favor of torch.nn.utils.clip_grad_norm_.\n",
      "  if IS_TORCH_04: nn.utils.clip_grad_norm(trainable_params_(self.m), self.clip)\n"
     ]
    },
    {
     "name": "stdout",
     "output_type": "stream",
     "text": [
      "\r",
      "  9%|██████▏                                                             | 153/1683 [00:59<09:29,  2.69it/s, loss=10.7]"
     ]
    },
    {
     "name": "stderr",
     "output_type": "stream",
     "text": [
      "C:\\Users\\PC\\Projects\\fastai\\courses\\dl1\\ULMFiT-Filipino\\fastai\\model.py:62: UserWarning: torch.nn.utils.clip_grad_norm is now deprecated in favor of torch.nn.utils.clip_grad_norm_.\n",
      "  if IS_TORCH_04: nn.utils.clip_grad_norm(trainable_params_(self.m), self.clip)\n"
     ]
    },
    {
     "name": "stdout",
     "output_type": "stream",
     "text": [
      "\r",
      "  9%|██████▏                                                             | 154/1683 [00:59<09:27,  2.70it/s, loss=10.7]"
     ]
    },
    {
     "name": "stderr",
     "output_type": "stream",
     "text": [
      "C:\\Users\\PC\\Projects\\fastai\\courses\\dl1\\ULMFiT-Filipino\\fastai\\model.py:62: UserWarning: torch.nn.utils.clip_grad_norm is now deprecated in favor of torch.nn.utils.clip_grad_norm_.\n",
      "  if IS_TORCH_04: nn.utils.clip_grad_norm(trainable_params_(self.m), self.clip)\n"
     ]
    },
    {
     "name": "stdout",
     "output_type": "stream",
     "text": [
      "\r",
      "  9%|██████▎                                                             | 155/1683 [00:59<09:27,  2.69it/s, loss=10.7]"
     ]
    },
    {
     "name": "stderr",
     "output_type": "stream",
     "text": [
      "C:\\Users\\PC\\Projects\\fastai\\courses\\dl1\\ULMFiT-Filipino\\fastai\\model.py:62: UserWarning: torch.nn.utils.clip_grad_norm is now deprecated in favor of torch.nn.utils.clip_grad_norm_.\n",
      "  if IS_TORCH_04: nn.utils.clip_grad_norm(trainable_params_(self.m), self.clip)\n"
     ]
    },
    {
     "name": "stdout",
     "output_type": "stream",
     "text": [
      "\r",
      "  9%|██████▎                                                             | 156/1683 [01:00<09:20,  2.73it/s, loss=10.7]"
     ]
    },
    {
     "name": "stderr",
     "output_type": "stream",
     "text": [
      "C:\\Users\\PC\\Projects\\fastai\\courses\\dl1\\ULMFiT-Filipino\\fastai\\model.py:62: UserWarning: torch.nn.utils.clip_grad_norm is now deprecated in favor of torch.nn.utils.clip_grad_norm_.\n",
      "  if IS_TORCH_04: nn.utils.clip_grad_norm(trainable_params_(self.m), self.clip)\n"
     ]
    },
    {
     "name": "stdout",
     "output_type": "stream",
     "text": [
      "\r",
      "  9%|██████▎                                                             | 157/1683 [01:00<09:32,  2.66it/s, loss=10.7]"
     ]
    },
    {
     "name": "stderr",
     "output_type": "stream",
     "text": [
      "C:\\Users\\PC\\Projects\\fastai\\courses\\dl1\\ULMFiT-Filipino\\fastai\\model.py:62: UserWarning: torch.nn.utils.clip_grad_norm is now deprecated in favor of torch.nn.utils.clip_grad_norm_.\n",
      "  if IS_TORCH_04: nn.utils.clip_grad_norm(trainable_params_(self.m), self.clip)\n"
     ]
    },
    {
     "name": "stdout",
     "output_type": "stream",
     "text": [
      "\r",
      "  9%|██████▍                                                             | 158/1683 [01:00<09:37,  2.64it/s, loss=10.7]"
     ]
    },
    {
     "name": "stderr",
     "output_type": "stream",
     "text": [
      "C:\\Users\\PC\\Projects\\fastai\\courses\\dl1\\ULMFiT-Filipino\\fastai\\model.py:62: UserWarning: torch.nn.utils.clip_grad_norm is now deprecated in favor of torch.nn.utils.clip_grad_norm_.\n",
      "  if IS_TORCH_04: nn.utils.clip_grad_norm(trainable_params_(self.m), self.clip)\n"
     ]
    },
    {
     "name": "stdout",
     "output_type": "stream",
     "text": [
      "\r",
      "  9%|██████▍                                                             | 159/1683 [01:01<09:43,  2.61it/s, loss=10.7]"
     ]
    },
    {
     "name": "stderr",
     "output_type": "stream",
     "text": [
      "C:\\Users\\PC\\Projects\\fastai\\courses\\dl1\\ULMFiT-Filipino\\fastai\\model.py:62: UserWarning: torch.nn.utils.clip_grad_norm is now deprecated in favor of torch.nn.utils.clip_grad_norm_.\n",
      "  if IS_TORCH_04: nn.utils.clip_grad_norm(trainable_params_(self.m), self.clip)\n"
     ]
    },
    {
     "name": "stdout",
     "output_type": "stream",
     "text": [
      "\r",
      " 10%|██████▍                                                             | 160/1683 [01:01<09:33,  2.65it/s, loss=10.7]"
     ]
    },
    {
     "name": "stderr",
     "output_type": "stream",
     "text": [
      "C:\\Users\\PC\\Projects\\fastai\\courses\\dl1\\ULMFiT-Filipino\\fastai\\model.py:62: UserWarning: torch.nn.utils.clip_grad_norm is now deprecated in favor of torch.nn.utils.clip_grad_norm_.\n",
      "  if IS_TORCH_04: nn.utils.clip_grad_norm(trainable_params_(self.m), self.clip)\n"
     ]
    },
    {
     "name": "stdout",
     "output_type": "stream",
     "text": [
      "\r",
      " 10%|██████▌                                                             | 161/1683 [01:02<09:38,  2.63it/s, loss=10.7]"
     ]
    },
    {
     "name": "stderr",
     "output_type": "stream",
     "text": [
      "C:\\Users\\PC\\Projects\\fastai\\courses\\dl1\\ULMFiT-Filipino\\fastai\\model.py:62: UserWarning: torch.nn.utils.clip_grad_norm is now deprecated in favor of torch.nn.utils.clip_grad_norm_.\n",
      "  if IS_TORCH_04: nn.utils.clip_grad_norm(trainable_params_(self.m), self.clip)\n"
     ]
    },
    {
     "name": "stdout",
     "output_type": "stream",
     "text": [
      "\r",
      " 10%|██████▌                                                             | 162/1683 [01:02<09:31,  2.66it/s, loss=10.7]"
     ]
    },
    {
     "name": "stderr",
     "output_type": "stream",
     "text": [
      "C:\\Users\\PC\\Projects\\fastai\\courses\\dl1\\ULMFiT-Filipino\\fastai\\model.py:62: UserWarning: torch.nn.utils.clip_grad_norm is now deprecated in favor of torch.nn.utils.clip_grad_norm_.\n",
      "  if IS_TORCH_04: nn.utils.clip_grad_norm(trainable_params_(self.m), self.clip)\n"
     ]
    },
    {
     "name": "stdout",
     "output_type": "stream",
     "text": [
      "\r",
      " 10%|██████▌                                                             | 163/1683 [01:02<09:37,  2.63it/s, loss=10.7]"
     ]
    },
    {
     "name": "stderr",
     "output_type": "stream",
     "text": [
      "C:\\Users\\PC\\Projects\\fastai\\courses\\dl1\\ULMFiT-Filipino\\fastai\\model.py:62: UserWarning: torch.nn.utils.clip_grad_norm is now deprecated in favor of torch.nn.utils.clip_grad_norm_.\n",
      "  if IS_TORCH_04: nn.utils.clip_grad_norm(trainable_params_(self.m), self.clip)\n"
     ]
    },
    {
     "name": "stdout",
     "output_type": "stream",
     "text": [
      "\r",
      " 10%|██████▋                                                             | 164/1683 [01:03<09:34,  2.64it/s, loss=10.7]"
     ]
    },
    {
     "name": "stderr",
     "output_type": "stream",
     "text": [
      "C:\\Users\\PC\\Projects\\fastai\\courses\\dl1\\ULMFiT-Filipino\\fastai\\model.py:62: UserWarning: torch.nn.utils.clip_grad_norm is now deprecated in favor of torch.nn.utils.clip_grad_norm_.\n",
      "  if IS_TORCH_04: nn.utils.clip_grad_norm(trainable_params_(self.m), self.clip)\n"
     ]
    },
    {
     "name": "stdout",
     "output_type": "stream",
     "text": [
      "\r",
      " 10%|██████▋                                                             | 165/1683 [01:03<09:31,  2.66it/s, loss=10.7]"
     ]
    },
    {
     "name": "stderr",
     "output_type": "stream",
     "text": [
      "C:\\Users\\PC\\Projects\\fastai\\courses\\dl1\\ULMFiT-Filipino\\fastai\\model.py:62: UserWarning: torch.nn.utils.clip_grad_norm is now deprecated in favor of torch.nn.utils.clip_grad_norm_.\n",
      "  if IS_TORCH_04: nn.utils.clip_grad_norm(trainable_params_(self.m), self.clip)\n"
     ]
    },
    {
     "name": "stdout",
     "output_type": "stream",
     "text": [
      "\r",
      " 10%|██████▋                                                             | 166/1683 [01:04<09:49,  2.57it/s, loss=10.7]"
     ]
    },
    {
     "name": "stderr",
     "output_type": "stream",
     "text": [
      "C:\\Users\\PC\\Projects\\fastai\\courses\\dl1\\ULMFiT-Filipino\\fastai\\model.py:62: UserWarning: torch.nn.utils.clip_grad_norm is now deprecated in favor of torch.nn.utils.clip_grad_norm_.\n",
      "  if IS_TORCH_04: nn.utils.clip_grad_norm(trainable_params_(self.m), self.clip)\n"
     ]
    },
    {
     "name": "stdout",
     "output_type": "stream",
     "text": [
      "\r",
      " 10%|██████▋                                                             | 167/1683 [01:04<09:53,  2.55it/s, loss=10.7]"
     ]
    },
    {
     "name": "stderr",
     "output_type": "stream",
     "text": [
      "C:\\Users\\PC\\Projects\\fastai\\courses\\dl1\\ULMFiT-Filipino\\fastai\\model.py:62: UserWarning: torch.nn.utils.clip_grad_norm is now deprecated in favor of torch.nn.utils.clip_grad_norm_.\n",
      "  if IS_TORCH_04: nn.utils.clip_grad_norm(trainable_params_(self.m), self.clip)\n"
     ]
    },
    {
     "name": "stdout",
     "output_type": "stream",
     "text": [
      "\r",
      " 10%|██████▊                                                             | 168/1683 [01:04<09:46,  2.58it/s, loss=10.7]"
     ]
    },
    {
     "name": "stderr",
     "output_type": "stream",
     "text": [
      "C:\\Users\\PC\\Projects\\fastai\\courses\\dl1\\ULMFiT-Filipino\\fastai\\model.py:62: UserWarning: torch.nn.utils.clip_grad_norm is now deprecated in favor of torch.nn.utils.clip_grad_norm_.\n",
      "  if IS_TORCH_04: nn.utils.clip_grad_norm(trainable_params_(self.m), self.clip)\n"
     ]
    },
    {
     "name": "stdout",
     "output_type": "stream",
     "text": [
      "\r",
      " 10%|██████▊                                                             | 169/1683 [01:05<09:43,  2.59it/s, loss=10.7]"
     ]
    },
    {
     "name": "stderr",
     "output_type": "stream",
     "text": [
      "C:\\Users\\PC\\Projects\\fastai\\courses\\dl1\\ULMFiT-Filipino\\fastai\\model.py:62: UserWarning: torch.nn.utils.clip_grad_norm is now deprecated in favor of torch.nn.utils.clip_grad_norm_.\n",
      "  if IS_TORCH_04: nn.utils.clip_grad_norm(trainable_params_(self.m), self.clip)\n"
     ]
    },
    {
     "name": "stdout",
     "output_type": "stream",
     "text": [
      "\r",
      " 10%|██████▊                                                             | 170/1683 [01:05<09:45,  2.58it/s, loss=10.7]"
     ]
    },
    {
     "name": "stderr",
     "output_type": "stream",
     "text": [
      "C:\\Users\\PC\\Projects\\fastai\\courses\\dl1\\ULMFiT-Filipino\\fastai\\model.py:62: UserWarning: torch.nn.utils.clip_grad_norm is now deprecated in favor of torch.nn.utils.clip_grad_norm_.\n",
      "  if IS_TORCH_04: nn.utils.clip_grad_norm(trainable_params_(self.m), self.clip)\n"
     ]
    },
    {
     "name": "stdout",
     "output_type": "stream",
     "text": [
      "\r",
      " 10%|██████▉                                                             | 171/1683 [01:05<09:38,  2.61it/s, loss=10.7]"
     ]
    },
    {
     "name": "stderr",
     "output_type": "stream",
     "text": [
      "C:\\Users\\PC\\Projects\\fastai\\courses\\dl1\\ULMFiT-Filipino\\fastai\\model.py:62: UserWarning: torch.nn.utils.clip_grad_norm is now deprecated in favor of torch.nn.utils.clip_grad_norm_.\n",
      "  if IS_TORCH_04: nn.utils.clip_grad_norm(trainable_params_(self.m), self.clip)\n"
     ]
    },
    {
     "name": "stdout",
     "output_type": "stream",
     "text": [
      "\r",
      " 10%|██████▉                                                             | 172/1683 [01:06<09:38,  2.61it/s, loss=10.7]"
     ]
    },
    {
     "name": "stderr",
     "output_type": "stream",
     "text": [
      "C:\\Users\\PC\\Projects\\fastai\\courses\\dl1\\ULMFiT-Filipino\\fastai\\model.py:62: UserWarning: torch.nn.utils.clip_grad_norm is now deprecated in favor of torch.nn.utils.clip_grad_norm_.\n",
      "  if IS_TORCH_04: nn.utils.clip_grad_norm(trainable_params_(self.m), self.clip)\n"
     ]
    },
    {
     "name": "stdout",
     "output_type": "stream",
     "text": [
      "\r",
      " 10%|██████▉                                                             | 173/1683 [01:06<09:57,  2.53it/s, loss=10.7]"
     ]
    },
    {
     "name": "stderr",
     "output_type": "stream",
     "text": [
      "C:\\Users\\PC\\Projects\\fastai\\courses\\dl1\\ULMFiT-Filipino\\fastai\\model.py:62: UserWarning: torch.nn.utils.clip_grad_norm is now deprecated in favor of torch.nn.utils.clip_grad_norm_.\n",
      "  if IS_TORCH_04: nn.utils.clip_grad_norm(trainable_params_(self.m), self.clip)\n"
     ]
    },
    {
     "name": "stdout",
     "output_type": "stream",
     "text": [
      "\r",
      " 10%|███████                                                             | 174/1683 [01:07<09:56,  2.53it/s, loss=10.7]"
     ]
    },
    {
     "name": "stderr",
     "output_type": "stream",
     "text": [
      "C:\\Users\\PC\\Projects\\fastai\\courses\\dl1\\ULMFiT-Filipino\\fastai\\model.py:62: UserWarning: torch.nn.utils.clip_grad_norm is now deprecated in favor of torch.nn.utils.clip_grad_norm_.\n",
      "  if IS_TORCH_04: nn.utils.clip_grad_norm(trainable_params_(self.m), self.clip)\n"
     ]
    },
    {
     "name": "stdout",
     "output_type": "stream",
     "text": [
      "\r",
      " 10%|███████                                                             | 175/1683 [01:07<09:48,  2.56it/s, loss=10.7]"
     ]
    },
    {
     "name": "stderr",
     "output_type": "stream",
     "text": [
      "C:\\Users\\PC\\Projects\\fastai\\courses\\dl1\\ULMFiT-Filipino\\fastai\\model.py:62: UserWarning: torch.nn.utils.clip_grad_norm is now deprecated in favor of torch.nn.utils.clip_grad_norm_.\n",
      "  if IS_TORCH_04: nn.utils.clip_grad_norm(trainable_params_(self.m), self.clip)\n"
     ]
    },
    {
     "name": "stdout",
     "output_type": "stream",
     "text": [
      "\r",
      " 10%|███████                                                             | 176/1683 [01:07<09:49,  2.56it/s, loss=10.7]"
     ]
    },
    {
     "name": "stderr",
     "output_type": "stream",
     "text": [
      "C:\\Users\\PC\\Projects\\fastai\\courses\\dl1\\ULMFiT-Filipino\\fastai\\model.py:62: UserWarning: torch.nn.utils.clip_grad_norm is now deprecated in favor of torch.nn.utils.clip_grad_norm_.\n",
      "  if IS_TORCH_04: nn.utils.clip_grad_norm(trainable_params_(self.m), self.clip)\n"
     ]
    },
    {
     "name": "stdout",
     "output_type": "stream",
     "text": [
      "\r",
      " 11%|███████▏                                                            | 177/1683 [01:08<09:43,  2.58it/s, loss=10.7]"
     ]
    },
    {
     "name": "stderr",
     "output_type": "stream",
     "text": [
      "C:\\Users\\PC\\Projects\\fastai\\courses\\dl1\\ULMFiT-Filipino\\fastai\\model.py:62: UserWarning: torch.nn.utils.clip_grad_norm is now deprecated in favor of torch.nn.utils.clip_grad_norm_.\n",
      "  if IS_TORCH_04: nn.utils.clip_grad_norm(trainable_params_(self.m), self.clip)\n"
     ]
    },
    {
     "name": "stdout",
     "output_type": "stream",
     "text": [
      "\r",
      " 11%|███████▏                                                            | 178/1683 [01:08<09:42,  2.58it/s, loss=10.7]"
     ]
    },
    {
     "name": "stderr",
     "output_type": "stream",
     "text": [
      "C:\\Users\\PC\\Projects\\fastai\\courses\\dl1\\ULMFiT-Filipino\\fastai\\model.py:62: UserWarning: torch.nn.utils.clip_grad_norm is now deprecated in favor of torch.nn.utils.clip_grad_norm_.\n",
      "  if IS_TORCH_04: nn.utils.clip_grad_norm(trainable_params_(self.m), self.clip)\n"
     ]
    },
    {
     "name": "stdout",
     "output_type": "stream",
     "text": [
      "\r",
      " 11%|███████▏                                                            | 179/1683 [01:09<09:30,  2.64it/s, loss=10.7]"
     ]
    },
    {
     "name": "stderr",
     "output_type": "stream",
     "text": [
      "C:\\Users\\PC\\Projects\\fastai\\courses\\dl1\\ULMFiT-Filipino\\fastai\\model.py:62: UserWarning: torch.nn.utils.clip_grad_norm is now deprecated in favor of torch.nn.utils.clip_grad_norm_.\n",
      "  if IS_TORCH_04: nn.utils.clip_grad_norm(trainable_params_(self.m), self.clip)\n"
     ]
    },
    {
     "name": "stdout",
     "output_type": "stream",
     "text": [
      "\r",
      " 11%|███████▎                                                            | 180/1683 [01:09<09:33,  2.62it/s, loss=10.7]"
     ]
    },
    {
     "name": "stderr",
     "output_type": "stream",
     "text": [
      "C:\\Users\\PC\\Projects\\fastai\\courses\\dl1\\ULMFiT-Filipino\\fastai\\model.py:62: UserWarning: torch.nn.utils.clip_grad_norm is now deprecated in favor of torch.nn.utils.clip_grad_norm_.\n",
      "  if IS_TORCH_04: nn.utils.clip_grad_norm(trainable_params_(self.m), self.clip)\n"
     ]
    },
    {
     "name": "stdout",
     "output_type": "stream",
     "text": [
      "\r",
      " 11%|███████▎                                                            | 181/1683 [01:09<09:38,  2.60it/s, loss=10.7]"
     ]
    },
    {
     "name": "stderr",
     "output_type": "stream",
     "text": [
      "C:\\Users\\PC\\Projects\\fastai\\courses\\dl1\\ULMFiT-Filipino\\fastai\\model.py:62: UserWarning: torch.nn.utils.clip_grad_norm is now deprecated in favor of torch.nn.utils.clip_grad_norm_.\n",
      "  if IS_TORCH_04: nn.utils.clip_grad_norm(trainable_params_(self.m), self.clip)\n"
     ]
    },
    {
     "name": "stdout",
     "output_type": "stream",
     "text": [
      "\r",
      " 11%|███████▎                                                            | 182/1683 [01:10<10:03,  2.49it/s, loss=10.7]"
     ]
    },
    {
     "name": "stderr",
     "output_type": "stream",
     "text": [
      "C:\\Users\\PC\\Projects\\fastai\\courses\\dl1\\ULMFiT-Filipino\\fastai\\model.py:62: UserWarning: torch.nn.utils.clip_grad_norm is now deprecated in favor of torch.nn.utils.clip_grad_norm_.\n",
      "  if IS_TORCH_04: nn.utils.clip_grad_norm(trainable_params_(self.m), self.clip)\n"
     ]
    },
    {
     "name": "stdout",
     "output_type": "stream",
     "text": [
      "\r",
      " 11%|███████▍                                                            | 183/1683 [01:10<10:06,  2.47it/s, loss=10.7]"
     ]
    },
    {
     "name": "stderr",
     "output_type": "stream",
     "text": [
      "C:\\Users\\PC\\Projects\\fastai\\courses\\dl1\\ULMFiT-Filipino\\fastai\\model.py:62: UserWarning: torch.nn.utils.clip_grad_norm is now deprecated in favor of torch.nn.utils.clip_grad_norm_.\n",
      "  if IS_TORCH_04: nn.utils.clip_grad_norm(trainable_params_(self.m), self.clip)\n"
     ]
    },
    {
     "name": "stdout",
     "output_type": "stream",
     "text": [
      "\r",
      " 11%|███████▍                                                            | 184/1683 [01:11<09:45,  2.56it/s, loss=10.7]"
     ]
    },
    {
     "name": "stderr",
     "output_type": "stream",
     "text": [
      "C:\\Users\\PC\\Projects\\fastai\\courses\\dl1\\ULMFiT-Filipino\\fastai\\model.py:62: UserWarning: torch.nn.utils.clip_grad_norm is now deprecated in favor of torch.nn.utils.clip_grad_norm_.\n",
      "  if IS_TORCH_04: nn.utils.clip_grad_norm(trainable_params_(self.m), self.clip)\n"
     ]
    },
    {
     "name": "stdout",
     "output_type": "stream",
     "text": [
      "\r",
      " 11%|███████▍                                                            | 185/1683 [01:11<09:28,  2.63it/s, loss=10.7]"
     ]
    },
    {
     "name": "stderr",
     "output_type": "stream",
     "text": [
      "C:\\Users\\PC\\Projects\\fastai\\courses\\dl1\\ULMFiT-Filipino\\fastai\\model.py:62: UserWarning: torch.nn.utils.clip_grad_norm is now deprecated in favor of torch.nn.utils.clip_grad_norm_.\n",
      "  if IS_TORCH_04: nn.utils.clip_grad_norm(trainable_params_(self.m), self.clip)\n"
     ]
    },
    {
     "name": "stdout",
     "output_type": "stream",
     "text": [
      "\r",
      " 11%|███████▌                                                            | 186/1683 [01:11<09:33,  2.61it/s, loss=10.7]"
     ]
    },
    {
     "name": "stderr",
     "output_type": "stream",
     "text": [
      "C:\\Users\\PC\\Projects\\fastai\\courses\\dl1\\ULMFiT-Filipino\\fastai\\model.py:62: UserWarning: torch.nn.utils.clip_grad_norm is now deprecated in favor of torch.nn.utils.clip_grad_norm_.\n",
      "  if IS_TORCH_04: nn.utils.clip_grad_norm(trainable_params_(self.m), self.clip)\n"
     ]
    },
    {
     "name": "stdout",
     "output_type": "stream",
     "text": [
      "\r",
      " 11%|███████▌                                                            | 187/1683 [01:12<09:21,  2.67it/s, loss=10.7]"
     ]
    },
    {
     "name": "stderr",
     "output_type": "stream",
     "text": [
      "C:\\Users\\PC\\Projects\\fastai\\courses\\dl1\\ULMFiT-Filipino\\fastai\\model.py:62: UserWarning: torch.nn.utils.clip_grad_norm is now deprecated in favor of torch.nn.utils.clip_grad_norm_.\n",
      "  if IS_TORCH_04: nn.utils.clip_grad_norm(trainable_params_(self.m), self.clip)\n"
     ]
    },
    {
     "name": "stdout",
     "output_type": "stream",
     "text": [
      "\r",
      " 11%|███████▌                                                            | 188/1683 [01:12<09:24,  2.65it/s, loss=10.7]"
     ]
    },
    {
     "name": "stderr",
     "output_type": "stream",
     "text": [
      "C:\\Users\\PC\\Projects\\fastai\\courses\\dl1\\ULMFiT-Filipino\\fastai\\model.py:62: UserWarning: torch.nn.utils.clip_grad_norm is now deprecated in favor of torch.nn.utils.clip_grad_norm_.\n",
      "  if IS_TORCH_04: nn.utils.clip_grad_norm(trainable_params_(self.m), self.clip)\n"
     ]
    },
    {
     "name": "stdout",
     "output_type": "stream",
     "text": [
      "\r",
      " 11%|███████▋                                                            | 189/1683 [01:12<09:20,  2.67it/s, loss=10.7]"
     ]
    },
    {
     "name": "stderr",
     "output_type": "stream",
     "text": [
      "C:\\Users\\PC\\Projects\\fastai\\courses\\dl1\\ULMFiT-Filipino\\fastai\\model.py:62: UserWarning: torch.nn.utils.clip_grad_norm is now deprecated in favor of torch.nn.utils.clip_grad_norm_.\n",
      "  if IS_TORCH_04: nn.utils.clip_grad_norm(trainable_params_(self.m), self.clip)\n"
     ]
    },
    {
     "name": "stdout",
     "output_type": "stream",
     "text": [
      "\r",
      " 11%|███████▋                                                            | 190/1683 [01:13<09:24,  2.65it/s, loss=10.7]"
     ]
    },
    {
     "name": "stderr",
     "output_type": "stream",
     "text": [
      "C:\\Users\\PC\\Projects\\fastai\\courses\\dl1\\ULMFiT-Filipino\\fastai\\model.py:62: UserWarning: torch.nn.utils.clip_grad_norm is now deprecated in favor of torch.nn.utils.clip_grad_norm_.\n",
      "  if IS_TORCH_04: nn.utils.clip_grad_norm(trainable_params_(self.m), self.clip)\n"
     ]
    },
    {
     "name": "stdout",
     "output_type": "stream",
     "text": [
      "\r",
      " 11%|███████▋                                                            | 191/1683 [01:13<09:37,  2.58it/s, loss=10.7]"
     ]
    },
    {
     "name": "stderr",
     "output_type": "stream",
     "text": [
      "C:\\Users\\PC\\Projects\\fastai\\courses\\dl1\\ULMFiT-Filipino\\fastai\\model.py:62: UserWarning: torch.nn.utils.clip_grad_norm is now deprecated in favor of torch.nn.utils.clip_grad_norm_.\n",
      "  if IS_TORCH_04: nn.utils.clip_grad_norm(trainable_params_(self.m), self.clip)\n"
     ]
    },
    {
     "name": "stdout",
     "output_type": "stream",
     "text": [
      "\r",
      " 11%|███████▊                                                            | 192/1683 [01:14<09:32,  2.61it/s, loss=10.7]"
     ]
    },
    {
     "name": "stderr",
     "output_type": "stream",
     "text": [
      "C:\\Users\\PC\\Projects\\fastai\\courses\\dl1\\ULMFiT-Filipino\\fastai\\model.py:62: UserWarning: torch.nn.utils.clip_grad_norm is now deprecated in favor of torch.nn.utils.clip_grad_norm_.\n",
      "  if IS_TORCH_04: nn.utils.clip_grad_norm(trainable_params_(self.m), self.clip)\n"
     ]
    },
    {
     "name": "stdout",
     "output_type": "stream",
     "text": [
      "\r",
      " 11%|███████▊                                                            | 193/1683 [01:14<09:35,  2.59it/s, loss=10.7]"
     ]
    },
    {
     "name": "stderr",
     "output_type": "stream",
     "text": [
      "C:\\Users\\PC\\Projects\\fastai\\courses\\dl1\\ULMFiT-Filipino\\fastai\\model.py:62: UserWarning: torch.nn.utils.clip_grad_norm is now deprecated in favor of torch.nn.utils.clip_grad_norm_.\n",
      "  if IS_TORCH_04: nn.utils.clip_grad_norm(trainable_params_(self.m), self.clip)\n"
     ]
    },
    {
     "name": "stdout",
     "output_type": "stream",
     "text": [
      "\r",
      " 12%|███████▊                                                            | 194/1683 [01:14<09:32,  2.60it/s, loss=10.7]"
     ]
    },
    {
     "name": "stderr",
     "output_type": "stream",
     "text": [
      "C:\\Users\\PC\\Projects\\fastai\\courses\\dl1\\ULMFiT-Filipino\\fastai\\model.py:62: UserWarning: torch.nn.utils.clip_grad_norm is now deprecated in favor of torch.nn.utils.clip_grad_norm_.\n",
      "  if IS_TORCH_04: nn.utils.clip_grad_norm(trainable_params_(self.m), self.clip)\n"
     ]
    },
    {
     "name": "stdout",
     "output_type": "stream",
     "text": [
      "\r",
      " 12%|███████▉                                                            | 195/1683 [01:15<09:40,  2.56it/s, loss=10.7]"
     ]
    },
    {
     "name": "stderr",
     "output_type": "stream",
     "text": [
      "C:\\Users\\PC\\Projects\\fastai\\courses\\dl1\\ULMFiT-Filipino\\fastai\\model.py:62: UserWarning: torch.nn.utils.clip_grad_norm is now deprecated in favor of torch.nn.utils.clip_grad_norm_.\n",
      "  if IS_TORCH_04: nn.utils.clip_grad_norm(trainable_params_(self.m), self.clip)\n"
     ]
    },
    {
     "name": "stdout",
     "output_type": "stream",
     "text": [
      "\r",
      " 12%|███████▉                                                            | 196/1683 [01:15<09:37,  2.58it/s, loss=10.7]"
     ]
    },
    {
     "name": "stderr",
     "output_type": "stream",
     "text": [
      "C:\\Users\\PC\\Projects\\fastai\\courses\\dl1\\ULMFiT-Filipino\\fastai\\model.py:62: UserWarning: torch.nn.utils.clip_grad_norm is now deprecated in favor of torch.nn.utils.clip_grad_norm_.\n",
      "  if IS_TORCH_04: nn.utils.clip_grad_norm(trainable_params_(self.m), self.clip)\n"
     ]
    },
    {
     "name": "stdout",
     "output_type": "stream",
     "text": [
      "\r",
      " 12%|███████▉                                                            | 197/1683 [01:16<09:46,  2.54it/s, loss=10.7]"
     ]
    },
    {
     "name": "stderr",
     "output_type": "stream",
     "text": [
      "C:\\Users\\PC\\Projects\\fastai\\courses\\dl1\\ULMFiT-Filipino\\fastai\\model.py:62: UserWarning: torch.nn.utils.clip_grad_norm is now deprecated in favor of torch.nn.utils.clip_grad_norm_.\n",
      "  if IS_TORCH_04: nn.utils.clip_grad_norm(trainable_params_(self.m), self.clip)\n"
     ]
    },
    {
     "name": "stdout",
     "output_type": "stream",
     "text": [
      "\r",
      " 12%|████████                                                            | 198/1683 [01:16<09:38,  2.57it/s, loss=10.7]"
     ]
    },
    {
     "name": "stderr",
     "output_type": "stream",
     "text": [
      "C:\\Users\\PC\\Projects\\fastai\\courses\\dl1\\ULMFiT-Filipino\\fastai\\model.py:62: UserWarning: torch.nn.utils.clip_grad_norm is now deprecated in favor of torch.nn.utils.clip_grad_norm_.\n",
      "  if IS_TORCH_04: nn.utils.clip_grad_norm(trainable_params_(self.m), self.clip)\n"
     ]
    },
    {
     "name": "stdout",
     "output_type": "stream",
     "text": [
      "\r",
      " 12%|████████                                                            | 199/1683 [01:16<09:40,  2.55it/s, loss=10.7]"
     ]
    },
    {
     "name": "stderr",
     "output_type": "stream",
     "text": [
      "C:\\Users\\PC\\Projects\\fastai\\courses\\dl1\\ULMFiT-Filipino\\fastai\\model.py:62: UserWarning: torch.nn.utils.clip_grad_norm is now deprecated in favor of torch.nn.utils.clip_grad_norm_.\n",
      "  if IS_TORCH_04: nn.utils.clip_grad_norm(trainable_params_(self.m), self.clip)\n"
     ]
    },
    {
     "name": "stdout",
     "output_type": "stream",
     "text": [
      "\r",
      " 12%|████████                                                            | 200/1683 [01:17<09:53,  2.50it/s, loss=10.7]"
     ]
    },
    {
     "name": "stderr",
     "output_type": "stream",
     "text": [
      "C:\\Users\\PC\\Projects\\fastai\\courses\\dl1\\ULMFiT-Filipino\\fastai\\model.py:62: UserWarning: torch.nn.utils.clip_grad_norm is now deprecated in favor of torch.nn.utils.clip_grad_norm_.\n",
      "  if IS_TORCH_04: nn.utils.clip_grad_norm(trainable_params_(self.m), self.clip)\n"
     ]
    },
    {
     "name": "stdout",
     "output_type": "stream",
     "text": [
      "\r",
      " 12%|████████                                                            | 201/1683 [01:17<09:51,  2.51it/s, loss=10.7]"
     ]
    },
    {
     "name": "stderr",
     "output_type": "stream",
     "text": [
      "C:\\Users\\PC\\Projects\\fastai\\courses\\dl1\\ULMFiT-Filipino\\fastai\\model.py:62: UserWarning: torch.nn.utils.clip_grad_norm is now deprecated in favor of torch.nn.utils.clip_grad_norm_.\n",
      "  if IS_TORCH_04: nn.utils.clip_grad_norm(trainable_params_(self.m), self.clip)\n"
     ]
    },
    {
     "name": "stdout",
     "output_type": "stream",
     "text": [
      "\r",
      " 12%|████████▏                                                           | 202/1683 [01:17<09:34,  2.58it/s, loss=10.7]"
     ]
    },
    {
     "name": "stderr",
     "output_type": "stream",
     "text": [
      "C:\\Users\\PC\\Projects\\fastai\\courses\\dl1\\ULMFiT-Filipino\\fastai\\model.py:62: UserWarning: torch.nn.utils.clip_grad_norm is now deprecated in favor of torch.nn.utils.clip_grad_norm_.\n",
      "  if IS_TORCH_04: nn.utils.clip_grad_norm(trainable_params_(self.m), self.clip)\n"
     ]
    },
    {
     "name": "stdout",
     "output_type": "stream",
     "text": [
      "\r",
      " 12%|████████▏                                                           | 203/1683 [01:18<09:37,  2.56it/s, loss=10.7]"
     ]
    },
    {
     "name": "stderr",
     "output_type": "stream",
     "text": [
      "C:\\Users\\PC\\Projects\\fastai\\courses\\dl1\\ULMFiT-Filipino\\fastai\\model.py:62: UserWarning: torch.nn.utils.clip_grad_norm is now deprecated in favor of torch.nn.utils.clip_grad_norm_.\n",
      "  if IS_TORCH_04: nn.utils.clip_grad_norm(trainable_params_(self.m), self.clip)\n"
     ]
    },
    {
     "name": "stdout",
     "output_type": "stream",
     "text": [
      "\r",
      " 12%|████████▏                                                           | 204/1683 [01:18<09:45,  2.53it/s, loss=10.7]"
     ]
    },
    {
     "name": "stderr",
     "output_type": "stream",
     "text": [
      "C:\\Users\\PC\\Projects\\fastai\\courses\\dl1\\ULMFiT-Filipino\\fastai\\model.py:62: UserWarning: torch.nn.utils.clip_grad_norm is now deprecated in favor of torch.nn.utils.clip_grad_norm_.\n",
      "  if IS_TORCH_04: nn.utils.clip_grad_norm(trainable_params_(self.m), self.clip)\n"
     ]
    },
    {
     "name": "stdout",
     "output_type": "stream",
     "text": [
      "\r",
      " 12%|████████▎                                                           | 205/1683 [01:19<09:39,  2.55it/s, loss=10.7]"
     ]
    },
    {
     "name": "stderr",
     "output_type": "stream",
     "text": [
      "C:\\Users\\PC\\Projects\\fastai\\courses\\dl1\\ULMFiT-Filipino\\fastai\\model.py:62: UserWarning: torch.nn.utils.clip_grad_norm is now deprecated in favor of torch.nn.utils.clip_grad_norm_.\n",
      "  if IS_TORCH_04: nn.utils.clip_grad_norm(trainable_params_(self.m), self.clip)\n"
     ]
    },
    {
     "name": "stdout",
     "output_type": "stream",
     "text": [
      "\r",
      " 12%|████████▎                                                           | 206/1683 [01:19<09:30,  2.59it/s, loss=10.7]"
     ]
    },
    {
     "name": "stderr",
     "output_type": "stream",
     "text": [
      "C:\\Users\\PC\\Projects\\fastai\\courses\\dl1\\ULMFiT-Filipino\\fastai\\model.py:62: UserWarning: torch.nn.utils.clip_grad_norm is now deprecated in favor of torch.nn.utils.clip_grad_norm_.\n",
      "  if IS_TORCH_04: nn.utils.clip_grad_norm(trainable_params_(self.m), self.clip)\n"
     ]
    },
    {
     "name": "stdout",
     "output_type": "stream",
     "text": [
      "\r",
      " 12%|████████▎                                                           | 207/1683 [01:19<09:31,  2.58it/s, loss=10.7]"
     ]
    },
    {
     "name": "stderr",
     "output_type": "stream",
     "text": [
      "C:\\Users\\PC\\Projects\\fastai\\courses\\dl1\\ULMFiT-Filipino\\fastai\\model.py:62: UserWarning: torch.nn.utils.clip_grad_norm is now deprecated in favor of torch.nn.utils.clip_grad_norm_.\n",
      "  if IS_TORCH_04: nn.utils.clip_grad_norm(trainable_params_(self.m), self.clip)\n"
     ]
    },
    {
     "name": "stdout",
     "output_type": "stream",
     "text": [
      "\r",
      " 12%|████████▍                                                           | 208/1683 [01:20<09:39,  2.54it/s, loss=10.7]"
     ]
    },
    {
     "name": "stderr",
     "output_type": "stream",
     "text": [
      "C:\\Users\\PC\\Projects\\fastai\\courses\\dl1\\ULMFiT-Filipino\\fastai\\model.py:62: UserWarning: torch.nn.utils.clip_grad_norm is now deprecated in favor of torch.nn.utils.clip_grad_norm_.\n",
      "  if IS_TORCH_04: nn.utils.clip_grad_norm(trainable_params_(self.m), self.clip)\n"
     ]
    },
    {
     "name": "stdout",
     "output_type": "stream",
     "text": [
      "\r",
      " 12%|████████▍                                                           | 209/1683 [01:20<09:38,  2.55it/s, loss=10.7]"
     ]
    },
    {
     "name": "stderr",
     "output_type": "stream",
     "text": [
      "C:\\Users\\PC\\Projects\\fastai\\courses\\dl1\\ULMFiT-Filipino\\fastai\\model.py:62: UserWarning: torch.nn.utils.clip_grad_norm is now deprecated in favor of torch.nn.utils.clip_grad_norm_.\n",
      "  if IS_TORCH_04: nn.utils.clip_grad_norm(trainable_params_(self.m), self.clip)\n"
     ]
    },
    {
     "name": "stdout",
     "output_type": "stream",
     "text": [
      "\r",
      " 12%|████████▍                                                           | 210/1683 [01:21<09:26,  2.60it/s, loss=10.7]"
     ]
    },
    {
     "name": "stderr",
     "output_type": "stream",
     "text": [
      "C:\\Users\\PC\\Projects\\fastai\\courses\\dl1\\ULMFiT-Filipino\\fastai\\model.py:62: UserWarning: torch.nn.utils.clip_grad_norm is now deprecated in favor of torch.nn.utils.clip_grad_norm_.\n",
      "  if IS_TORCH_04: nn.utils.clip_grad_norm(trainable_params_(self.m), self.clip)\n"
     ]
    },
    {
     "name": "stdout",
     "output_type": "stream",
     "text": [
      "\r",
      " 13%|████████▌                                                           | 211/1683 [01:21<09:18,  2.64it/s, loss=10.7]"
     ]
    },
    {
     "name": "stderr",
     "output_type": "stream",
     "text": [
      "C:\\Users\\PC\\Projects\\fastai\\courses\\dl1\\ULMFiT-Filipino\\fastai\\model.py:62: UserWarning: torch.nn.utils.clip_grad_norm is now deprecated in favor of torch.nn.utils.clip_grad_norm_.\n",
      "  if IS_TORCH_04: nn.utils.clip_grad_norm(trainable_params_(self.m), self.clip)\n"
     ]
    },
    {
     "name": "stdout",
     "output_type": "stream",
     "text": [
      "\r",
      " 13%|████████▌                                                           | 212/1683 [01:21<09:35,  2.55it/s, loss=10.7]"
     ]
    },
    {
     "name": "stderr",
     "output_type": "stream",
     "text": [
      "C:\\Users\\PC\\Projects\\fastai\\courses\\dl1\\ULMFiT-Filipino\\fastai\\model.py:62: UserWarning: torch.nn.utils.clip_grad_norm is now deprecated in favor of torch.nn.utils.clip_grad_norm_.\n",
      "  if IS_TORCH_04: nn.utils.clip_grad_norm(trainable_params_(self.m), self.clip)\n"
     ]
    },
    {
     "name": "stdout",
     "output_type": "stream",
     "text": [
      "\r",
      " 13%|████████▌                                                           | 213/1683 [01:22<08:45,  2.79it/s, loss=10.7]"
     ]
    },
    {
     "name": "stderr",
     "output_type": "stream",
     "text": [
      "C:\\Users\\PC\\Projects\\fastai\\courses\\dl1\\ULMFiT-Filipino\\fastai\\model.py:62: UserWarning: torch.nn.utils.clip_grad_norm is now deprecated in favor of torch.nn.utils.clip_grad_norm_.\n",
      "  if IS_TORCH_04: nn.utils.clip_grad_norm(trainable_params_(self.m), self.clip)\n"
     ]
    },
    {
     "name": "stdout",
     "output_type": "stream",
     "text": [
      "\r",
      " 13%|████████▋                                                           | 214/1683 [01:22<08:54,  2.75it/s, loss=10.7]"
     ]
    },
    {
     "name": "stderr",
     "output_type": "stream",
     "text": [
      "C:\\Users\\PC\\Projects\\fastai\\courses\\dl1\\ULMFiT-Filipino\\fastai\\model.py:62: UserWarning: torch.nn.utils.clip_grad_norm is now deprecated in favor of torch.nn.utils.clip_grad_norm_.\n",
      "  if IS_TORCH_04: nn.utils.clip_grad_norm(trainable_params_(self.m), self.clip)\n"
     ]
    },
    {
     "name": "stdout",
     "output_type": "stream",
     "text": [
      "\r",
      " 13%|████████▋                                                           | 215/1683 [01:22<09:05,  2.69it/s, loss=10.7]"
     ]
    },
    {
     "name": "stderr",
     "output_type": "stream",
     "text": [
      "C:\\Users\\PC\\Projects\\fastai\\courses\\dl1\\ULMFiT-Filipino\\fastai\\model.py:62: UserWarning: torch.nn.utils.clip_grad_norm is now deprecated in favor of torch.nn.utils.clip_grad_norm_.\n",
      "  if IS_TORCH_04: nn.utils.clip_grad_norm(trainable_params_(self.m), self.clip)\n"
     ]
    },
    {
     "name": "stdout",
     "output_type": "stream",
     "text": [
      "\r",
      " 13%|████████▋                                                           | 216/1683 [01:23<09:02,  2.70it/s, loss=10.7]"
     ]
    },
    {
     "name": "stderr",
     "output_type": "stream",
     "text": [
      "C:\\Users\\PC\\Projects\\fastai\\courses\\dl1\\ULMFiT-Filipino\\fastai\\model.py:62: UserWarning: torch.nn.utils.clip_grad_norm is now deprecated in favor of torch.nn.utils.clip_grad_norm_.\n",
      "  if IS_TORCH_04: nn.utils.clip_grad_norm(trainable_params_(self.m), self.clip)\n"
     ]
    },
    {
     "name": "stdout",
     "output_type": "stream",
     "text": [
      "\r",
      " 13%|████████▊                                                           | 217/1683 [01:23<09:14,  2.64it/s, loss=10.7]"
     ]
    },
    {
     "name": "stderr",
     "output_type": "stream",
     "text": [
      "C:\\Users\\PC\\Projects\\fastai\\courses\\dl1\\ULMFiT-Filipino\\fastai\\model.py:62: UserWarning: torch.nn.utils.clip_grad_norm is now deprecated in favor of torch.nn.utils.clip_grad_norm_.\n",
      "  if IS_TORCH_04: nn.utils.clip_grad_norm(trainable_params_(self.m), self.clip)\n"
     ]
    },
    {
     "name": "stdout",
     "output_type": "stream",
     "text": [
      "\r",
      " 13%|████████▊                                                           | 218/1683 [01:24<09:24,  2.60it/s, loss=10.7]"
     ]
    },
    {
     "name": "stderr",
     "output_type": "stream",
     "text": [
      "C:\\Users\\PC\\Projects\\fastai\\courses\\dl1\\ULMFiT-Filipino\\fastai\\model.py:62: UserWarning: torch.nn.utils.clip_grad_norm is now deprecated in favor of torch.nn.utils.clip_grad_norm_.\n",
      "  if IS_TORCH_04: nn.utils.clip_grad_norm(trainable_params_(self.m), self.clip)\n"
     ]
    },
    {
     "name": "stdout",
     "output_type": "stream",
     "text": [
      "\r",
      " 13%|████████▊                                                           | 219/1683 [01:24<09:19,  2.62it/s, loss=10.7]"
     ]
    },
    {
     "name": "stderr",
     "output_type": "stream",
     "text": [
      "C:\\Users\\PC\\Projects\\fastai\\courses\\dl1\\ULMFiT-Filipino\\fastai\\model.py:62: UserWarning: torch.nn.utils.clip_grad_norm is now deprecated in favor of torch.nn.utils.clip_grad_norm_.\n",
      "  if IS_TORCH_04: nn.utils.clip_grad_norm(trainable_params_(self.m), self.clip)\n"
     ]
    },
    {
     "name": "stdout",
     "output_type": "stream",
     "text": [
      "\r",
      " 13%|████████▉                                                           | 220/1683 [01:24<09:13,  2.64it/s, loss=10.7]"
     ]
    },
    {
     "name": "stderr",
     "output_type": "stream",
     "text": [
      "C:\\Users\\PC\\Projects\\fastai\\courses\\dl1\\ULMFiT-Filipino\\fastai\\model.py:62: UserWarning: torch.nn.utils.clip_grad_norm is now deprecated in favor of torch.nn.utils.clip_grad_norm_.\n",
      "  if IS_TORCH_04: nn.utils.clip_grad_norm(trainable_params_(self.m), self.clip)\n"
     ]
    },
    {
     "name": "stdout",
     "output_type": "stream",
     "text": [
      "\r",
      " 13%|████████▉                                                           | 221/1683 [01:25<09:11,  2.65it/s, loss=10.7]"
     ]
    },
    {
     "name": "stderr",
     "output_type": "stream",
     "text": [
      "C:\\Users\\PC\\Projects\\fastai\\courses\\dl1\\ULMFiT-Filipino\\fastai\\model.py:62: UserWarning: torch.nn.utils.clip_grad_norm is now deprecated in favor of torch.nn.utils.clip_grad_norm_.\n",
      "  if IS_TORCH_04: nn.utils.clip_grad_norm(trainable_params_(self.m), self.clip)\n"
     ]
    },
    {
     "name": "stdout",
     "output_type": "stream",
     "text": [
      "\r",
      " 13%|████████▉                                                           | 222/1683 [01:25<09:33,  2.55it/s, loss=10.7]"
     ]
    },
    {
     "name": "stderr",
     "output_type": "stream",
     "text": [
      "C:\\Users\\PC\\Projects\\fastai\\courses\\dl1\\ULMFiT-Filipino\\fastai\\model.py:62: UserWarning: torch.nn.utils.clip_grad_norm is now deprecated in favor of torch.nn.utils.clip_grad_norm_.\n",
      "  if IS_TORCH_04: nn.utils.clip_grad_norm(trainable_params_(self.m), self.clip)\n"
     ]
    },
    {
     "name": "stdout",
     "output_type": "stream",
     "text": [
      "\r",
      " 13%|█████████                                                           | 223/1683 [01:26<09:30,  2.56it/s, loss=10.7]"
     ]
    },
    {
     "name": "stderr",
     "output_type": "stream",
     "text": [
      "C:\\Users\\PC\\Projects\\fastai\\courses\\dl1\\ULMFiT-Filipino\\fastai\\model.py:62: UserWarning: torch.nn.utils.clip_grad_norm is now deprecated in favor of torch.nn.utils.clip_grad_norm_.\n",
      "  if IS_TORCH_04: nn.utils.clip_grad_norm(trainable_params_(self.m), self.clip)\n"
     ]
    },
    {
     "name": "stdout",
     "output_type": "stream",
     "text": [
      "\r",
      " 13%|█████████                                                           | 224/1683 [01:26<09:43,  2.50it/s, loss=10.7]"
     ]
    },
    {
     "name": "stderr",
     "output_type": "stream",
     "text": [
      "C:\\Users\\PC\\Projects\\fastai\\courses\\dl1\\ULMFiT-Filipino\\fastai\\model.py:62: UserWarning: torch.nn.utils.clip_grad_norm is now deprecated in favor of torch.nn.utils.clip_grad_norm_.\n",
      "  if IS_TORCH_04: nn.utils.clip_grad_norm(trainable_params_(self.m), self.clip)\n"
     ]
    },
    {
     "name": "stdout",
     "output_type": "stream",
     "text": [
      "\r",
      " 13%|█████████                                                           | 225/1683 [01:26<09:38,  2.52it/s, loss=10.7]"
     ]
    },
    {
     "name": "stderr",
     "output_type": "stream",
     "text": [
      "C:\\Users\\PC\\Projects\\fastai\\courses\\dl1\\ULMFiT-Filipino\\fastai\\model.py:62: UserWarning: torch.nn.utils.clip_grad_norm is now deprecated in favor of torch.nn.utils.clip_grad_norm_.\n",
      "  if IS_TORCH_04: nn.utils.clip_grad_norm(trainable_params_(self.m), self.clip)\n"
     ]
    },
    {
     "name": "stdout",
     "output_type": "stream",
     "text": [
      "\r",
      " 13%|█████████▏                                                          | 226/1683 [01:27<09:40,  2.51it/s, loss=10.7]"
     ]
    },
    {
     "name": "stderr",
     "output_type": "stream",
     "text": [
      "C:\\Users\\PC\\Projects\\fastai\\courses\\dl1\\ULMFiT-Filipino\\fastai\\model.py:62: UserWarning: torch.nn.utils.clip_grad_norm is now deprecated in favor of torch.nn.utils.clip_grad_norm_.\n",
      "  if IS_TORCH_04: nn.utils.clip_grad_norm(trainable_params_(self.m), self.clip)\n"
     ]
    },
    {
     "name": "stdout",
     "output_type": "stream",
     "text": [
      "\r",
      " 13%|█████████▏                                                          | 227/1683 [01:27<08:46,  2.77it/s, loss=10.7]"
     ]
    },
    {
     "name": "stderr",
     "output_type": "stream",
     "text": [
      "C:\\Users\\PC\\Projects\\fastai\\courses\\dl1\\ULMFiT-Filipino\\fastai\\model.py:62: UserWarning: torch.nn.utils.clip_grad_norm is now deprecated in favor of torch.nn.utils.clip_grad_norm_.\n",
      "  if IS_TORCH_04: nn.utils.clip_grad_norm(trainable_params_(self.m), self.clip)\n"
     ]
    },
    {
     "name": "stdout",
     "output_type": "stream",
     "text": [
      "\r",
      " 14%|█████████▏                                                          | 228/1683 [01:27<08:38,  2.81it/s, loss=10.7]"
     ]
    },
    {
     "name": "stderr",
     "output_type": "stream",
     "text": [
      "C:\\Users\\PC\\Projects\\fastai\\courses\\dl1\\ULMFiT-Filipino\\fastai\\model.py:62: UserWarning: torch.nn.utils.clip_grad_norm is now deprecated in favor of torch.nn.utils.clip_grad_norm_.\n",
      "  if IS_TORCH_04: nn.utils.clip_grad_norm(trainable_params_(self.m), self.clip)\n"
     ]
    },
    {
     "name": "stdout",
     "output_type": "stream",
     "text": [
      "\r",
      " 14%|█████████▎                                                          | 229/1683 [01:28<08:46,  2.76it/s, loss=10.7]"
     ]
    },
    {
     "name": "stderr",
     "output_type": "stream",
     "text": [
      "C:\\Users\\PC\\Projects\\fastai\\courses\\dl1\\ULMFiT-Filipino\\fastai\\model.py:62: UserWarning: torch.nn.utils.clip_grad_norm is now deprecated in favor of torch.nn.utils.clip_grad_norm_.\n",
      "  if IS_TORCH_04: nn.utils.clip_grad_norm(trainable_params_(self.m), self.clip)\n"
     ]
    },
    {
     "name": "stdout",
     "output_type": "stream",
     "text": [
      "\r",
      " 14%|█████████▎                                                          | 230/1683 [01:28<08:56,  2.71it/s, loss=10.7]"
     ]
    },
    {
     "name": "stderr",
     "output_type": "stream",
     "text": [
      "C:\\Users\\PC\\Projects\\fastai\\courses\\dl1\\ULMFiT-Filipino\\fastai\\model.py:62: UserWarning: torch.nn.utils.clip_grad_norm is now deprecated in favor of torch.nn.utils.clip_grad_norm_.\n",
      "  if IS_TORCH_04: nn.utils.clip_grad_norm(trainable_params_(self.m), self.clip)\n"
     ]
    },
    {
     "name": "stdout",
     "output_type": "stream",
     "text": [
      "\r",
      " 14%|█████████▎                                                          | 231/1683 [01:28<08:41,  2.79it/s, loss=10.7]"
     ]
    },
    {
     "name": "stderr",
     "output_type": "stream",
     "text": [
      "C:\\Users\\PC\\Projects\\fastai\\courses\\dl1\\ULMFiT-Filipino\\fastai\\model.py:62: UserWarning: torch.nn.utils.clip_grad_norm is now deprecated in favor of torch.nn.utils.clip_grad_norm_.\n",
      "  if IS_TORCH_04: nn.utils.clip_grad_norm(trainable_params_(self.m), self.clip)\n"
     ]
    },
    {
     "name": "stdout",
     "output_type": "stream",
     "text": [
      "\r",
      " 14%|█████████▎                                                          | 232/1683 [01:29<08:50,  2.74it/s, loss=10.7]"
     ]
    },
    {
     "name": "stderr",
     "output_type": "stream",
     "text": [
      "C:\\Users\\PC\\Projects\\fastai\\courses\\dl1\\ULMFiT-Filipino\\fastai\\model.py:62: UserWarning: torch.nn.utils.clip_grad_norm is now deprecated in favor of torch.nn.utils.clip_grad_norm_.\n",
      "  if IS_TORCH_04: nn.utils.clip_grad_norm(trainable_params_(self.m), self.clip)\n"
     ]
    },
    {
     "name": "stdout",
     "output_type": "stream",
     "text": [
      "\r",
      " 14%|█████████▍                                                          | 233/1683 [01:29<08:56,  2.70it/s, loss=10.7]"
     ]
    },
    {
     "name": "stderr",
     "output_type": "stream",
     "text": [
      "C:\\Users\\PC\\Projects\\fastai\\courses\\dl1\\ULMFiT-Filipino\\fastai\\model.py:62: UserWarning: torch.nn.utils.clip_grad_norm is now deprecated in favor of torch.nn.utils.clip_grad_norm_.\n",
      "  if IS_TORCH_04: nn.utils.clip_grad_norm(trainable_params_(self.m), self.clip)\n"
     ]
    },
    {
     "name": "stdout",
     "output_type": "stream",
     "text": [
      "\r",
      " 14%|█████████▍                                                          | 234/1683 [01:30<09:02,  2.67it/s, loss=10.7]"
     ]
    },
    {
     "name": "stderr",
     "output_type": "stream",
     "text": [
      "C:\\Users\\PC\\Projects\\fastai\\courses\\dl1\\ULMFiT-Filipino\\fastai\\model.py:62: UserWarning: torch.nn.utils.clip_grad_norm is now deprecated in favor of torch.nn.utils.clip_grad_norm_.\n",
      "  if IS_TORCH_04: nn.utils.clip_grad_norm(trainable_params_(self.m), self.clip)\n"
     ]
    },
    {
     "name": "stdout",
     "output_type": "stream",
     "text": [
      "\r",
      " 14%|█████████▍                                                          | 235/1683 [01:30<09:23,  2.57it/s, loss=10.7]"
     ]
    },
    {
     "name": "stderr",
     "output_type": "stream",
     "text": [
      "C:\\Users\\PC\\Projects\\fastai\\courses\\dl1\\ULMFiT-Filipino\\fastai\\model.py:62: UserWarning: torch.nn.utils.clip_grad_norm is now deprecated in favor of torch.nn.utils.clip_grad_norm_.\n",
      "  if IS_TORCH_04: nn.utils.clip_grad_norm(trainable_params_(self.m), self.clip)\n"
     ]
    },
    {
     "name": "stdout",
     "output_type": "stream",
     "text": [
      "\r",
      " 14%|█████████▌                                                          | 236/1683 [01:30<09:18,  2.59it/s, loss=10.7]"
     ]
    },
    {
     "name": "stderr",
     "output_type": "stream",
     "text": [
      "C:\\Users\\PC\\Projects\\fastai\\courses\\dl1\\ULMFiT-Filipino\\fastai\\model.py:62: UserWarning: torch.nn.utils.clip_grad_norm is now deprecated in favor of torch.nn.utils.clip_grad_norm_.\n",
      "  if IS_TORCH_04: nn.utils.clip_grad_norm(trainable_params_(self.m), self.clip)\n"
     ]
    },
    {
     "name": "stdout",
     "output_type": "stream",
     "text": [
      "\r",
      " 14%|█████████▌                                                          | 237/1683 [01:31<09:19,  2.59it/s, loss=10.7]"
     ]
    },
    {
     "name": "stderr",
     "output_type": "stream",
     "text": [
      "C:\\Users\\PC\\Projects\\fastai\\courses\\dl1\\ULMFiT-Filipino\\fastai\\model.py:62: UserWarning: torch.nn.utils.clip_grad_norm is now deprecated in favor of torch.nn.utils.clip_grad_norm_.\n",
      "  if IS_TORCH_04: nn.utils.clip_grad_norm(trainable_params_(self.m), self.clip)\n"
     ]
    },
    {
     "name": "stdout",
     "output_type": "stream",
     "text": [
      "\r",
      " 14%|█████████▌                                                          | 238/1683 [01:31<09:24,  2.56it/s, loss=10.7]"
     ]
    },
    {
     "name": "stderr",
     "output_type": "stream",
     "text": [
      "C:\\Users\\PC\\Projects\\fastai\\courses\\dl1\\ULMFiT-Filipino\\fastai\\model.py:62: UserWarning: torch.nn.utils.clip_grad_norm is now deprecated in favor of torch.nn.utils.clip_grad_norm_.\n",
      "  if IS_TORCH_04: nn.utils.clip_grad_norm(trainable_params_(self.m), self.clip)\n"
     ]
    },
    {
     "name": "stdout",
     "output_type": "stream",
     "text": [
      "\r",
      " 14%|█████████▋                                                          | 239/1683 [01:32<09:18,  2.58it/s, loss=10.7]"
     ]
    },
    {
     "name": "stderr",
     "output_type": "stream",
     "text": [
      "C:\\Users\\PC\\Projects\\fastai\\courses\\dl1\\ULMFiT-Filipino\\fastai\\model.py:62: UserWarning: torch.nn.utils.clip_grad_norm is now deprecated in favor of torch.nn.utils.clip_grad_norm_.\n",
      "  if IS_TORCH_04: nn.utils.clip_grad_norm(trainable_params_(self.m), self.clip)\n"
     ]
    },
    {
     "name": "stdout",
     "output_type": "stream",
     "text": [
      "\r",
      " 14%|█████████▋                                                          | 240/1683 [01:32<09:21,  2.57it/s, loss=10.7]"
     ]
    },
    {
     "name": "stderr",
     "output_type": "stream",
     "text": [
      "C:\\Users\\PC\\Projects\\fastai\\courses\\dl1\\ULMFiT-Filipino\\fastai\\model.py:62: UserWarning: torch.nn.utils.clip_grad_norm is now deprecated in favor of torch.nn.utils.clip_grad_norm_.\n",
      "  if IS_TORCH_04: nn.utils.clip_grad_norm(trainable_params_(self.m), self.clip)\n"
     ]
    },
    {
     "name": "stdout",
     "output_type": "stream",
     "text": [
      "\r",
      " 14%|█████████▋                                                          | 241/1683 [01:32<09:38,  2.49it/s, loss=10.7]"
     ]
    },
    {
     "name": "stderr",
     "output_type": "stream",
     "text": [
      "C:\\Users\\PC\\Projects\\fastai\\courses\\dl1\\ULMFiT-Filipino\\fastai\\model.py:62: UserWarning: torch.nn.utils.clip_grad_norm is now deprecated in favor of torch.nn.utils.clip_grad_norm_.\n",
      "  if IS_TORCH_04: nn.utils.clip_grad_norm(trainable_params_(self.m), self.clip)\n"
     ]
    },
    {
     "name": "stdout",
     "output_type": "stream",
     "text": [
      "\r",
      " 14%|█████████▊                                                          | 242/1683 [01:33<09:44,  2.47it/s, loss=10.7]"
     ]
    },
    {
     "name": "stderr",
     "output_type": "stream",
     "text": [
      "C:\\Users\\PC\\Projects\\fastai\\courses\\dl1\\ULMFiT-Filipino\\fastai\\model.py:62: UserWarning: torch.nn.utils.clip_grad_norm is now deprecated in favor of torch.nn.utils.clip_grad_norm_.\n",
      "  if IS_TORCH_04: nn.utils.clip_grad_norm(trainable_params_(self.m), self.clip)\n"
     ]
    },
    {
     "name": "stdout",
     "output_type": "stream",
     "text": [
      "\r",
      " 14%|█████████▊                                                          | 243/1683 [01:33<09:37,  2.49it/s, loss=10.7]"
     ]
    },
    {
     "name": "stderr",
     "output_type": "stream",
     "text": [
      "C:\\Users\\PC\\Projects\\fastai\\courses\\dl1\\ULMFiT-Filipino\\fastai\\model.py:62: UserWarning: torch.nn.utils.clip_grad_norm is now deprecated in favor of torch.nn.utils.clip_grad_norm_.\n",
      "  if IS_TORCH_04: nn.utils.clip_grad_norm(trainable_params_(self.m), self.clip)\n"
     ]
    },
    {
     "name": "stdout",
     "output_type": "stream",
     "text": [
      "\r",
      " 14%|█████████▊                                                          | 244/1683 [01:34<09:37,  2.49it/s, loss=10.7]"
     ]
    },
    {
     "name": "stderr",
     "output_type": "stream",
     "text": [
      "C:\\Users\\PC\\Projects\\fastai\\courses\\dl1\\ULMFiT-Filipino\\fastai\\model.py:62: UserWarning: torch.nn.utils.clip_grad_norm is now deprecated in favor of torch.nn.utils.clip_grad_norm_.\n",
      "  if IS_TORCH_04: nn.utils.clip_grad_norm(trainable_params_(self.m), self.clip)\n"
     ]
    },
    {
     "name": "stdout",
     "output_type": "stream",
     "text": [
      "\r",
      " 15%|█████████▉                                                          | 245/1683 [01:34<08:31,  2.81it/s, loss=10.7]"
     ]
    },
    {
     "name": "stderr",
     "output_type": "stream",
     "text": [
      "C:\\Users\\PC\\Projects\\fastai\\courses\\dl1\\ULMFiT-Filipino\\fastai\\model.py:62: UserWarning: torch.nn.utils.clip_grad_norm is now deprecated in favor of torch.nn.utils.clip_grad_norm_.\n",
      "  if IS_TORCH_04: nn.utils.clip_grad_norm(trainable_params_(self.m), self.clip)\n"
     ]
    },
    {
     "name": "stdout",
     "output_type": "stream",
     "text": [
      "\r",
      " 15%|█████████▉                                                          | 246/1683 [01:34<08:59,  2.66it/s, loss=10.7]"
     ]
    },
    {
     "name": "stderr",
     "output_type": "stream",
     "text": [
      "C:\\Users\\PC\\Projects\\fastai\\courses\\dl1\\ULMFiT-Filipino\\fastai\\model.py:62: UserWarning: torch.nn.utils.clip_grad_norm is now deprecated in favor of torch.nn.utils.clip_grad_norm_.\n",
      "  if IS_TORCH_04: nn.utils.clip_grad_norm(trainable_params_(self.m), self.clip)\n"
     ]
    },
    {
     "name": "stdout",
     "output_type": "stream",
     "text": [
      "\r",
      " 15%|█████████▉                                                          | 247/1683 [01:35<09:04,  2.64it/s, loss=10.7]"
     ]
    },
    {
     "name": "stderr",
     "output_type": "stream",
     "text": [
      "C:\\Users\\PC\\Projects\\fastai\\courses\\dl1\\ULMFiT-Filipino\\fastai\\model.py:62: UserWarning: torch.nn.utils.clip_grad_norm is now deprecated in favor of torch.nn.utils.clip_grad_norm_.\n",
      "  if IS_TORCH_04: nn.utils.clip_grad_norm(trainable_params_(self.m), self.clip)\n"
     ]
    },
    {
     "name": "stdout",
     "output_type": "stream",
     "text": [
      "\r",
      " 15%|██████████                                                          | 248/1683 [01:35<09:10,  2.61it/s, loss=10.7]"
     ]
    },
    {
     "name": "stderr",
     "output_type": "stream",
     "text": [
      "C:\\Users\\PC\\Projects\\fastai\\courses\\dl1\\ULMFiT-Filipino\\fastai\\model.py:62: UserWarning: torch.nn.utils.clip_grad_norm is now deprecated in favor of torch.nn.utils.clip_grad_norm_.\n",
      "  if IS_TORCH_04: nn.utils.clip_grad_norm(trainable_params_(self.m), self.clip)\n"
     ]
    },
    {
     "name": "stdout",
     "output_type": "stream",
     "text": [
      "\r",
      " 15%|██████████                                                          | 249/1683 [01:35<09:10,  2.61it/s, loss=10.7]"
     ]
    },
    {
     "name": "stderr",
     "output_type": "stream",
     "text": [
      "C:\\Users\\PC\\Projects\\fastai\\courses\\dl1\\ULMFiT-Filipino\\fastai\\model.py:62: UserWarning: torch.nn.utils.clip_grad_norm is now deprecated in favor of torch.nn.utils.clip_grad_norm_.\n",
      "  if IS_TORCH_04: nn.utils.clip_grad_norm(trainable_params_(self.m), self.clip)\n"
     ]
    },
    {
     "name": "stdout",
     "output_type": "stream",
     "text": [
      "\r",
      " 15%|██████████                                                          | 250/1683 [01:36<09:15,  2.58it/s, loss=10.7]"
     ]
    },
    {
     "name": "stderr",
     "output_type": "stream",
     "text": [
      "C:\\Users\\PC\\Projects\\fastai\\courses\\dl1\\ULMFiT-Filipino\\fastai\\model.py:62: UserWarning: torch.nn.utils.clip_grad_norm is now deprecated in favor of torch.nn.utils.clip_grad_norm_.\n",
      "  if IS_TORCH_04: nn.utils.clip_grad_norm(trainable_params_(self.m), self.clip)\n"
     ]
    },
    {
     "name": "stdout",
     "output_type": "stream",
     "text": [
      "\r",
      " 15%|██████████▏                                                         | 251/1683 [01:36<09:13,  2.59it/s, loss=10.7]"
     ]
    },
    {
     "name": "stderr",
     "output_type": "stream",
     "text": [
      "C:\\Users\\PC\\Projects\\fastai\\courses\\dl1\\ULMFiT-Filipino\\fastai\\model.py:62: UserWarning: torch.nn.utils.clip_grad_norm is now deprecated in favor of torch.nn.utils.clip_grad_norm_.\n",
      "  if IS_TORCH_04: nn.utils.clip_grad_norm(trainable_params_(self.m), self.clip)\n"
     ]
    },
    {
     "name": "stdout",
     "output_type": "stream",
     "text": [
      "\r",
      " 15%|██████████▏                                                         | 252/1683 [01:37<09:15,  2.58it/s, loss=10.7]"
     ]
    },
    {
     "name": "stderr",
     "output_type": "stream",
     "text": [
      "C:\\Users\\PC\\Projects\\fastai\\courses\\dl1\\ULMFiT-Filipino\\fastai\\model.py:62: UserWarning: torch.nn.utils.clip_grad_norm is now deprecated in favor of torch.nn.utils.clip_grad_norm_.\n",
      "  if IS_TORCH_04: nn.utils.clip_grad_norm(trainable_params_(self.m), self.clip)\n"
     ]
    },
    {
     "name": "stdout",
     "output_type": "stream",
     "text": [
      "\r",
      " 15%|██████████▏                                                         | 253/1683 [01:37<09:22,  2.54it/s, loss=10.7]"
     ]
    },
    {
     "name": "stderr",
     "output_type": "stream",
     "text": [
      "C:\\Users\\PC\\Projects\\fastai\\courses\\dl1\\ULMFiT-Filipino\\fastai\\model.py:62: UserWarning: torch.nn.utils.clip_grad_norm is now deprecated in favor of torch.nn.utils.clip_grad_norm_.\n",
      "  if IS_TORCH_04: nn.utils.clip_grad_norm(trainable_params_(self.m), self.clip)\n"
     ]
    },
    {
     "name": "stdout",
     "output_type": "stream",
     "text": [
      "\r",
      " 15%|██████████▎                                                         | 254/1683 [01:37<09:22,  2.54it/s, loss=10.7]"
     ]
    },
    {
     "name": "stderr",
     "output_type": "stream",
     "text": [
      "C:\\Users\\PC\\Projects\\fastai\\courses\\dl1\\ULMFiT-Filipino\\fastai\\model.py:62: UserWarning: torch.nn.utils.clip_grad_norm is now deprecated in favor of torch.nn.utils.clip_grad_norm_.\n",
      "  if IS_TORCH_04: nn.utils.clip_grad_norm(trainable_params_(self.m), self.clip)\n"
     ]
    },
    {
     "name": "stdout",
     "output_type": "stream",
     "text": [
      "\r",
      " 15%|██████████▎                                                         | 255/1683 [01:38<09:02,  2.63it/s, loss=10.7]"
     ]
    },
    {
     "name": "stderr",
     "output_type": "stream",
     "text": [
      "C:\\Users\\PC\\Projects\\fastai\\courses\\dl1\\ULMFiT-Filipino\\fastai\\model.py:62: UserWarning: torch.nn.utils.clip_grad_norm is now deprecated in favor of torch.nn.utils.clip_grad_norm_.\n",
      "  if IS_TORCH_04: nn.utils.clip_grad_norm(trainable_params_(self.m), self.clip)\n"
     ]
    },
    {
     "name": "stdout",
     "output_type": "stream",
     "text": [
      "\r",
      " 15%|██████████▎                                                         | 256/1683 [01:38<09:15,  2.57it/s, loss=10.7]"
     ]
    },
    {
     "name": "stderr",
     "output_type": "stream",
     "text": [
      "C:\\Users\\PC\\Projects\\fastai\\courses\\dl1\\ULMFiT-Filipino\\fastai\\model.py:62: UserWarning: torch.nn.utils.clip_grad_norm is now deprecated in favor of torch.nn.utils.clip_grad_norm_.\n",
      "  if IS_TORCH_04: nn.utils.clip_grad_norm(trainable_params_(self.m), self.clip)\n"
     ]
    },
    {
     "name": "stdout",
     "output_type": "stream",
     "text": [
      "\r",
      " 15%|██████████▍                                                         | 257/1683 [01:39<09:00,  2.64it/s, loss=10.7]"
     ]
    },
    {
     "name": "stderr",
     "output_type": "stream",
     "text": [
      "C:\\Users\\PC\\Projects\\fastai\\courses\\dl1\\ULMFiT-Filipino\\fastai\\model.py:62: UserWarning: torch.nn.utils.clip_grad_norm is now deprecated in favor of torch.nn.utils.clip_grad_norm_.\n",
      "  if IS_TORCH_04: nn.utils.clip_grad_norm(trainable_params_(self.m), self.clip)\n"
     ]
    },
    {
     "name": "stdout",
     "output_type": "stream",
     "text": [
      "\r",
      " 15%|██████████▍                                                         | 258/1683 [01:39<09:09,  2.59it/s, loss=10.7]"
     ]
    },
    {
     "name": "stderr",
     "output_type": "stream",
     "text": [
      "C:\\Users\\PC\\Projects\\fastai\\courses\\dl1\\ULMFiT-Filipino\\fastai\\model.py:62: UserWarning: torch.nn.utils.clip_grad_norm is now deprecated in favor of torch.nn.utils.clip_grad_norm_.\n",
      "  if IS_TORCH_04: nn.utils.clip_grad_norm(trainable_params_(self.m), self.clip)\n"
     ]
    },
    {
     "name": "stdout",
     "output_type": "stream",
     "text": [
      "\r",
      " 15%|██████████▍                                                         | 259/1683 [01:39<08:57,  2.65it/s, loss=10.7]"
     ]
    },
    {
     "name": "stderr",
     "output_type": "stream",
     "text": [
      "C:\\Users\\PC\\Projects\\fastai\\courses\\dl1\\ULMFiT-Filipino\\fastai\\model.py:62: UserWarning: torch.nn.utils.clip_grad_norm is now deprecated in favor of torch.nn.utils.clip_grad_norm_.\n",
      "  if IS_TORCH_04: nn.utils.clip_grad_norm(trainable_params_(self.m), self.clip)\n"
     ]
    },
    {
     "name": "stdout",
     "output_type": "stream",
     "text": [
      "\r",
      " 15%|██████████▌                                                         | 260/1683 [01:40<09:21,  2.53it/s, loss=10.7]"
     ]
    },
    {
     "name": "stderr",
     "output_type": "stream",
     "text": [
      "C:\\Users\\PC\\Projects\\fastai\\courses\\dl1\\ULMFiT-Filipino\\fastai\\model.py:62: UserWarning: torch.nn.utils.clip_grad_norm is now deprecated in favor of torch.nn.utils.clip_grad_norm_.\n",
      "  if IS_TORCH_04: nn.utils.clip_grad_norm(trainable_params_(self.m), self.clip)\n"
     ]
    },
    {
     "name": "stdout",
     "output_type": "stream",
     "text": [
      "\r",
      " 16%|██████████▌                                                         | 261/1683 [01:40<09:14,  2.56it/s, loss=10.7]"
     ]
    },
    {
     "name": "stderr",
     "output_type": "stream",
     "text": [
      "C:\\Users\\PC\\Projects\\fastai\\courses\\dl1\\ULMFiT-Filipino\\fastai\\model.py:62: UserWarning: torch.nn.utils.clip_grad_norm is now deprecated in favor of torch.nn.utils.clip_grad_norm_.\n",
      "  if IS_TORCH_04: nn.utils.clip_grad_norm(trainable_params_(self.m), self.clip)\n"
     ]
    },
    {
     "name": "stdout",
     "output_type": "stream",
     "text": [
      "\r",
      " 16%|██████████▌                                                         | 262/1683 [01:40<09:11,  2.58it/s, loss=10.7]"
     ]
    },
    {
     "name": "stderr",
     "output_type": "stream",
     "text": [
      "C:\\Users\\PC\\Projects\\fastai\\courses\\dl1\\ULMFiT-Filipino\\fastai\\model.py:62: UserWarning: torch.nn.utils.clip_grad_norm is now deprecated in favor of torch.nn.utils.clip_grad_norm_.\n",
      "  if IS_TORCH_04: nn.utils.clip_grad_norm(trainable_params_(self.m), self.clip)\n"
     ]
    },
    {
     "name": "stdout",
     "output_type": "stream",
     "text": [
      "\r",
      " 16%|██████████▋                                                         | 263/1683 [01:41<09:06,  2.60it/s, loss=10.7]"
     ]
    },
    {
     "name": "stderr",
     "output_type": "stream",
     "text": [
      "C:\\Users\\PC\\Projects\\fastai\\courses\\dl1\\ULMFiT-Filipino\\fastai\\model.py:62: UserWarning: torch.nn.utils.clip_grad_norm is now deprecated in favor of torch.nn.utils.clip_grad_norm_.\n",
      "  if IS_TORCH_04: nn.utils.clip_grad_norm(trainable_params_(self.m), self.clip)\n"
     ]
    },
    {
     "name": "stdout",
     "output_type": "stream",
     "text": [
      "\r",
      " 16%|██████████▋                                                         | 264/1683 [01:41<09:10,  2.58it/s, loss=10.7]"
     ]
    },
    {
     "name": "stderr",
     "output_type": "stream",
     "text": [
      "C:\\Users\\PC\\Projects\\fastai\\courses\\dl1\\ULMFiT-Filipino\\fastai\\model.py:62: UserWarning: torch.nn.utils.clip_grad_norm is now deprecated in favor of torch.nn.utils.clip_grad_norm_.\n",
      "  if IS_TORCH_04: nn.utils.clip_grad_norm(trainable_params_(self.m), self.clip)\n"
     ]
    },
    {
     "name": "stdout",
     "output_type": "stream",
     "text": [
      "\r",
      " 16%|██████████▋                                                         | 265/1683 [01:42<08:51,  2.67it/s, loss=10.7]"
     ]
    },
    {
     "name": "stderr",
     "output_type": "stream",
     "text": [
      "C:\\Users\\PC\\Projects\\fastai\\courses\\dl1\\ULMFiT-Filipino\\fastai\\model.py:62: UserWarning: torch.nn.utils.clip_grad_norm is now deprecated in favor of torch.nn.utils.clip_grad_norm_.\n",
      "  if IS_TORCH_04: nn.utils.clip_grad_norm(trainable_params_(self.m), self.clip)\n"
     ]
    },
    {
     "name": "stdout",
     "output_type": "stream",
     "text": [
      "\r",
      " 16%|██████████▋                                                         | 266/1683 [01:42<08:56,  2.64it/s, loss=10.7]"
     ]
    },
    {
     "name": "stderr",
     "output_type": "stream",
     "text": [
      "C:\\Users\\PC\\Projects\\fastai\\courses\\dl1\\ULMFiT-Filipino\\fastai\\model.py:62: UserWarning: torch.nn.utils.clip_grad_norm is now deprecated in favor of torch.nn.utils.clip_grad_norm_.\n",
      "  if IS_TORCH_04: nn.utils.clip_grad_norm(trainable_params_(self.m), self.clip)\n"
     ]
    },
    {
     "name": "stdout",
     "output_type": "stream",
     "text": [
      "\r",
      " 16%|██████████▊                                                         | 267/1683 [01:42<08:22,  2.82it/s, loss=10.7]"
     ]
    },
    {
     "name": "stderr",
     "output_type": "stream",
     "text": [
      "C:\\Users\\PC\\Projects\\fastai\\courses\\dl1\\ULMFiT-Filipino\\fastai\\model.py:62: UserWarning: torch.nn.utils.clip_grad_norm is now deprecated in favor of torch.nn.utils.clip_grad_norm_.\n",
      "  if IS_TORCH_04: nn.utils.clip_grad_norm(trainable_params_(self.m), self.clip)\n"
     ]
    },
    {
     "name": "stdout",
     "output_type": "stream",
     "text": [
      "\r",
      " 16%|██████████▊                                                         | 268/1683 [01:43<08:29,  2.78it/s, loss=10.7]"
     ]
    },
    {
     "name": "stderr",
     "output_type": "stream",
     "text": [
      "C:\\Users\\PC\\Projects\\fastai\\courses\\dl1\\ULMFiT-Filipino\\fastai\\model.py:62: UserWarning: torch.nn.utils.clip_grad_norm is now deprecated in favor of torch.nn.utils.clip_grad_norm_.\n",
      "  if IS_TORCH_04: nn.utils.clip_grad_norm(trainable_params_(self.m), self.clip)\n"
     ]
    },
    {
     "name": "stdout",
     "output_type": "stream",
     "text": [
      "\r",
      " 16%|██████████▊                                                         | 269/1683 [01:43<08:35,  2.74it/s, loss=10.7]"
     ]
    },
    {
     "name": "stderr",
     "output_type": "stream",
     "text": [
      "C:\\Users\\PC\\Projects\\fastai\\courses\\dl1\\ULMFiT-Filipino\\fastai\\model.py:62: UserWarning: torch.nn.utils.clip_grad_norm is now deprecated in favor of torch.nn.utils.clip_grad_norm_.\n",
      "  if IS_TORCH_04: nn.utils.clip_grad_norm(trainable_params_(self.m), self.clip)\n"
     ]
    },
    {
     "name": "stdout",
     "output_type": "stream",
     "text": [
      "\r",
      " 16%|██████████▉                                                         | 270/1683 [01:43<08:52,  2.65it/s, loss=10.7]"
     ]
    },
    {
     "name": "stderr",
     "output_type": "stream",
     "text": [
      "C:\\Users\\PC\\Projects\\fastai\\courses\\dl1\\ULMFiT-Filipino\\fastai\\model.py:62: UserWarning: torch.nn.utils.clip_grad_norm is now deprecated in favor of torch.nn.utils.clip_grad_norm_.\n",
      "  if IS_TORCH_04: nn.utils.clip_grad_norm(trainable_params_(self.m), self.clip)\n"
     ]
    },
    {
     "name": "stdout",
     "output_type": "stream",
     "text": [
      "\r",
      " 16%|██████████▉                                                         | 271/1683 [01:44<09:06,  2.58it/s, loss=10.7]"
     ]
    },
    {
     "name": "stderr",
     "output_type": "stream",
     "text": [
      "C:\\Users\\PC\\Projects\\fastai\\courses\\dl1\\ULMFiT-Filipino\\fastai\\model.py:62: UserWarning: torch.nn.utils.clip_grad_norm is now deprecated in favor of torch.nn.utils.clip_grad_norm_.\n",
      "  if IS_TORCH_04: nn.utils.clip_grad_norm(trainable_params_(self.m), self.clip)\n"
     ]
    },
    {
     "name": "stdout",
     "output_type": "stream",
     "text": [
      "\r",
      " 16%|██████████▉                                                         | 272/1683 [01:44<09:12,  2.55it/s, loss=10.7]"
     ]
    },
    {
     "name": "stderr",
     "output_type": "stream",
     "text": [
      "C:\\Users\\PC\\Projects\\fastai\\courses\\dl1\\ULMFiT-Filipino\\fastai\\model.py:62: UserWarning: torch.nn.utils.clip_grad_norm is now deprecated in favor of torch.nn.utils.clip_grad_norm_.\n",
      "  if IS_TORCH_04: nn.utils.clip_grad_norm(trainable_params_(self.m), self.clip)\n"
     ]
    },
    {
     "name": "stdout",
     "output_type": "stream",
     "text": [
      "\r",
      " 16%|███████████                                                         | 273/1683 [01:45<09:17,  2.53it/s, loss=10.7]"
     ]
    },
    {
     "name": "stderr",
     "output_type": "stream",
     "text": [
      "C:\\Users\\PC\\Projects\\fastai\\courses\\dl1\\ULMFiT-Filipino\\fastai\\model.py:62: UserWarning: torch.nn.utils.clip_grad_norm is now deprecated in favor of torch.nn.utils.clip_grad_norm_.\n",
      "  if IS_TORCH_04: nn.utils.clip_grad_norm(trainable_params_(self.m), self.clip)\n"
     ]
    },
    {
     "name": "stdout",
     "output_type": "stream",
     "text": [
      "\r",
      " 16%|███████████                                                         | 274/1683 [01:45<09:06,  2.58it/s, loss=10.7]"
     ]
    },
    {
     "name": "stderr",
     "output_type": "stream",
     "text": [
      "C:\\Users\\PC\\Projects\\fastai\\courses\\dl1\\ULMFiT-Filipino\\fastai\\model.py:62: UserWarning: torch.nn.utils.clip_grad_norm is now deprecated in favor of torch.nn.utils.clip_grad_norm_.\n",
      "  if IS_TORCH_04: nn.utils.clip_grad_norm(trainable_params_(self.m), self.clip)\n"
     ]
    },
    {
     "name": "stdout",
     "output_type": "stream",
     "text": [
      "\r",
      " 16%|███████████                                                         | 275/1683 [01:45<09:01,  2.60it/s, loss=10.7]"
     ]
    },
    {
     "name": "stderr",
     "output_type": "stream",
     "text": [
      "C:\\Users\\PC\\Projects\\fastai\\courses\\dl1\\ULMFiT-Filipino\\fastai\\model.py:62: UserWarning: torch.nn.utils.clip_grad_norm is now deprecated in favor of torch.nn.utils.clip_grad_norm_.\n",
      "  if IS_TORCH_04: nn.utils.clip_grad_norm(trainable_params_(self.m), self.clip)\n"
     ]
    },
    {
     "name": "stdout",
     "output_type": "stream",
     "text": [
      "\r",
      " 16%|███████████▏                                                        | 276/1683 [01:46<09:08,  2.56it/s, loss=10.7]"
     ]
    },
    {
     "name": "stderr",
     "output_type": "stream",
     "text": [
      "C:\\Users\\PC\\Projects\\fastai\\courses\\dl1\\ULMFiT-Filipino\\fastai\\model.py:62: UserWarning: torch.nn.utils.clip_grad_norm is now deprecated in favor of torch.nn.utils.clip_grad_norm_.\n",
      "  if IS_TORCH_04: nn.utils.clip_grad_norm(trainable_params_(self.m), self.clip)\n"
     ]
    },
    {
     "name": "stdout",
     "output_type": "stream",
     "text": [
      "\r",
      " 16%|███████████▏                                                        | 277/1683 [01:46<09:03,  2.59it/s, loss=10.7]"
     ]
    },
    {
     "name": "stderr",
     "output_type": "stream",
     "text": [
      "C:\\Users\\PC\\Projects\\fastai\\courses\\dl1\\ULMFiT-Filipino\\fastai\\model.py:62: UserWarning: torch.nn.utils.clip_grad_norm is now deprecated in favor of torch.nn.utils.clip_grad_norm_.\n",
      "  if IS_TORCH_04: nn.utils.clip_grad_norm(trainable_params_(self.m), self.clip)\n"
     ]
    },
    {
     "name": "stdout",
     "output_type": "stream",
     "text": [
      "\r",
      " 17%|███████████▏                                                        | 278/1683 [01:47<09:06,  2.57it/s, loss=10.7]"
     ]
    },
    {
     "name": "stderr",
     "output_type": "stream",
     "text": [
      "C:\\Users\\PC\\Projects\\fastai\\courses\\dl1\\ULMFiT-Filipino\\fastai\\model.py:62: UserWarning: torch.nn.utils.clip_grad_norm is now deprecated in favor of torch.nn.utils.clip_grad_norm_.\n",
      "  if IS_TORCH_04: nn.utils.clip_grad_norm(trainable_params_(self.m), self.clip)\n"
     ]
    },
    {
     "name": "stdout",
     "output_type": "stream",
     "text": [
      "\r",
      " 17%|███████████▎                                                        | 279/1683 [01:47<09:01,  2.59it/s, loss=10.7]"
     ]
    },
    {
     "name": "stderr",
     "output_type": "stream",
     "text": [
      "C:\\Users\\PC\\Projects\\fastai\\courses\\dl1\\ULMFiT-Filipino\\fastai\\model.py:62: UserWarning: torch.nn.utils.clip_grad_norm is now deprecated in favor of torch.nn.utils.clip_grad_norm_.\n",
      "  if IS_TORCH_04: nn.utils.clip_grad_norm(trainable_params_(self.m), self.clip)\n"
     ]
    },
    {
     "name": "stdout",
     "output_type": "stream",
     "text": [
      "\r",
      " 17%|███████████▎                                                        | 280/1683 [01:47<08:39,  2.70it/s, loss=10.7]"
     ]
    },
    {
     "name": "stderr",
     "output_type": "stream",
     "text": [
      "C:\\Users\\PC\\Projects\\fastai\\courses\\dl1\\ULMFiT-Filipino\\fastai\\model.py:62: UserWarning: torch.nn.utils.clip_grad_norm is now deprecated in favor of torch.nn.utils.clip_grad_norm_.\n",
      "  if IS_TORCH_04: nn.utils.clip_grad_norm(trainable_params_(self.m), self.clip)\n"
     ]
    },
    {
     "name": "stdout",
     "output_type": "stream",
     "text": [
      "\r",
      " 17%|███████████▎                                                        | 281/1683 [01:48<08:50,  2.64it/s, loss=10.7]"
     ]
    },
    {
     "name": "stderr",
     "output_type": "stream",
     "text": [
      "C:\\Users\\PC\\Projects\\fastai\\courses\\dl1\\ULMFiT-Filipino\\fastai\\model.py:62: UserWarning: torch.nn.utils.clip_grad_norm is now deprecated in favor of torch.nn.utils.clip_grad_norm_.\n",
      "  if IS_TORCH_04: nn.utils.clip_grad_norm(trainable_params_(self.m), self.clip)\n"
     ]
    },
    {
     "name": "stdout",
     "output_type": "stream",
     "text": [
      "\r",
      " 17%|███████████▍                                                        | 282/1683 [01:48<08:25,  2.77it/s, loss=10.7]"
     ]
    },
    {
     "name": "stderr",
     "output_type": "stream",
     "text": [
      "C:\\Users\\PC\\Projects\\fastai\\courses\\dl1\\ULMFiT-Filipino\\fastai\\model.py:62: UserWarning: torch.nn.utils.clip_grad_norm is now deprecated in favor of torch.nn.utils.clip_grad_norm_.\n",
      "  if IS_TORCH_04: nn.utils.clip_grad_norm(trainable_params_(self.m), self.clip)\n"
     ]
    },
    {
     "name": "stdout",
     "output_type": "stream",
     "text": [
      "\r",
      " 17%|███████████▍                                                        | 283/1683 [01:48<08:41,  2.69it/s, loss=10.7]"
     ]
    },
    {
     "name": "stderr",
     "output_type": "stream",
     "text": [
      "C:\\Users\\PC\\Projects\\fastai\\courses\\dl1\\ULMFiT-Filipino\\fastai\\model.py:62: UserWarning: torch.nn.utils.clip_grad_norm is now deprecated in favor of torch.nn.utils.clip_grad_norm_.\n",
      "  if IS_TORCH_04: nn.utils.clip_grad_norm(trainable_params_(self.m), self.clip)\n"
     ]
    },
    {
     "name": "stdout",
     "output_type": "stream",
     "text": [
      "\r",
      " 17%|███████████▍                                                        | 284/1683 [01:49<08:43,  2.67it/s, loss=10.7]"
     ]
    },
    {
     "name": "stderr",
     "output_type": "stream",
     "text": [
      "C:\\Users\\PC\\Projects\\fastai\\courses\\dl1\\ULMFiT-Filipino\\fastai\\model.py:62: UserWarning: torch.nn.utils.clip_grad_norm is now deprecated in favor of torch.nn.utils.clip_grad_norm_.\n",
      "  if IS_TORCH_04: nn.utils.clip_grad_norm(trainable_params_(self.m), self.clip)\n"
     ]
    },
    {
     "name": "stdout",
     "output_type": "stream",
     "text": [
      "\r",
      " 17%|███████████▌                                                        | 285/1683 [01:49<08:41,  2.68it/s, loss=10.7]"
     ]
    },
    {
     "name": "stderr",
     "output_type": "stream",
     "text": [
      "C:\\Users\\PC\\Projects\\fastai\\courses\\dl1\\ULMFiT-Filipino\\fastai\\model.py:62: UserWarning: torch.nn.utils.clip_grad_norm is now deprecated in favor of torch.nn.utils.clip_grad_norm_.\n",
      "  if IS_TORCH_04: nn.utils.clip_grad_norm(trainable_params_(self.m), self.clip)\n"
     ]
    },
    {
     "name": "stdout",
     "output_type": "stream",
     "text": [
      "\r",
      " 17%|███████████▌                                                        | 286/1683 [01:50<08:51,  2.63it/s, loss=10.7]"
     ]
    },
    {
     "name": "stderr",
     "output_type": "stream",
     "text": [
      "C:\\Users\\PC\\Projects\\fastai\\courses\\dl1\\ULMFiT-Filipino\\fastai\\model.py:62: UserWarning: torch.nn.utils.clip_grad_norm is now deprecated in favor of torch.nn.utils.clip_grad_norm_.\n",
      "  if IS_TORCH_04: nn.utils.clip_grad_norm(trainable_params_(self.m), self.clip)\n"
     ]
    },
    {
     "name": "stdout",
     "output_type": "stream",
     "text": [
      "\r",
      " 17%|███████████▌                                                        | 287/1683 [01:50<08:56,  2.60it/s, loss=10.7]"
     ]
    },
    {
     "name": "stderr",
     "output_type": "stream",
     "text": [
      "C:\\Users\\PC\\Projects\\fastai\\courses\\dl1\\ULMFiT-Filipino\\fastai\\model.py:62: UserWarning: torch.nn.utils.clip_grad_norm is now deprecated in favor of torch.nn.utils.clip_grad_norm_.\n",
      "  if IS_TORCH_04: nn.utils.clip_grad_norm(trainable_params_(self.m), self.clip)\n"
     ]
    },
    {
     "name": "stdout",
     "output_type": "stream",
     "text": [
      "\r",
      " 17%|███████████▋                                                        | 288/1683 [01:50<09:05,  2.56it/s, loss=10.7]"
     ]
    },
    {
     "name": "stderr",
     "output_type": "stream",
     "text": [
      "C:\\Users\\PC\\Projects\\fastai\\courses\\dl1\\ULMFiT-Filipino\\fastai\\model.py:62: UserWarning: torch.nn.utils.clip_grad_norm is now deprecated in favor of torch.nn.utils.clip_grad_norm_.\n",
      "  if IS_TORCH_04: nn.utils.clip_grad_norm(trainable_params_(self.m), self.clip)\n"
     ]
    },
    {
     "name": "stdout",
     "output_type": "stream",
     "text": [
      "\r",
      " 17%|███████████▋                                                        | 289/1683 [01:51<08:43,  2.66it/s, loss=10.7]"
     ]
    },
    {
     "name": "stderr",
     "output_type": "stream",
     "text": [
      "C:\\Users\\PC\\Projects\\fastai\\courses\\dl1\\ULMFiT-Filipino\\fastai\\model.py:62: UserWarning: torch.nn.utils.clip_grad_norm is now deprecated in favor of torch.nn.utils.clip_grad_norm_.\n",
      "  if IS_TORCH_04: nn.utils.clip_grad_norm(trainable_params_(self.m), self.clip)\n"
     ]
    },
    {
     "name": "stdout",
     "output_type": "stream",
     "text": [
      "\r",
      " 17%|███████████▋                                                        | 290/1683 [01:51<09:05,  2.55it/s, loss=10.7]"
     ]
    },
    {
     "name": "stderr",
     "output_type": "stream",
     "text": [
      "C:\\Users\\PC\\Projects\\fastai\\courses\\dl1\\ULMFiT-Filipino\\fastai\\model.py:62: UserWarning: torch.nn.utils.clip_grad_norm is now deprecated in favor of torch.nn.utils.clip_grad_norm_.\n",
      "  if IS_TORCH_04: nn.utils.clip_grad_norm(trainable_params_(self.m), self.clip)\n"
     ]
    },
    {
     "name": "stdout",
     "output_type": "stream",
     "text": [
      "\r",
      " 17%|███████████▊                                                        | 291/1683 [01:51<08:59,  2.58it/s, loss=10.7]"
     ]
    },
    {
     "name": "stderr",
     "output_type": "stream",
     "text": [
      "C:\\Users\\PC\\Projects\\fastai\\courses\\dl1\\ULMFiT-Filipino\\fastai\\model.py:62: UserWarning: torch.nn.utils.clip_grad_norm is now deprecated in favor of torch.nn.utils.clip_grad_norm_.\n",
      "  if IS_TORCH_04: nn.utils.clip_grad_norm(trainable_params_(self.m), self.clip)\n"
     ]
    },
    {
     "name": "stdout",
     "output_type": "stream",
     "text": [
      "\r",
      " 17%|███████████▊                                                        | 292/1683 [01:52<09:07,  2.54it/s, loss=10.7]"
     ]
    },
    {
     "name": "stderr",
     "output_type": "stream",
     "text": [
      "C:\\Users\\PC\\Projects\\fastai\\courses\\dl1\\ULMFiT-Filipino\\fastai\\model.py:62: UserWarning: torch.nn.utils.clip_grad_norm is now deprecated in favor of torch.nn.utils.clip_grad_norm_.\n",
      "  if IS_TORCH_04: nn.utils.clip_grad_norm(trainable_params_(self.m), self.clip)\n"
     ]
    },
    {
     "name": "stdout",
     "output_type": "stream",
     "text": [
      "\r",
      " 17%|███████████▊                                                        | 293/1683 [01:52<08:53,  2.60it/s, loss=10.7]"
     ]
    },
    {
     "name": "stderr",
     "output_type": "stream",
     "text": [
      "C:\\Users\\PC\\Projects\\fastai\\courses\\dl1\\ULMFiT-Filipino\\fastai\\model.py:62: UserWarning: torch.nn.utils.clip_grad_norm is now deprecated in favor of torch.nn.utils.clip_grad_norm_.\n",
      "  if IS_TORCH_04: nn.utils.clip_grad_norm(trainable_params_(self.m), self.clip)\n"
     ]
    },
    {
     "name": "stdout",
     "output_type": "stream",
     "text": [
      "\r",
      " 17%|███████████▉                                                        | 294/1683 [01:53<09:03,  2.55it/s, loss=10.7]"
     ]
    },
    {
     "name": "stderr",
     "output_type": "stream",
     "text": [
      "C:\\Users\\PC\\Projects\\fastai\\courses\\dl1\\ULMFiT-Filipino\\fastai\\model.py:62: UserWarning: torch.nn.utils.clip_grad_norm is now deprecated in favor of torch.nn.utils.clip_grad_norm_.\n",
      "  if IS_TORCH_04: nn.utils.clip_grad_norm(trainable_params_(self.m), self.clip)\n"
     ]
    },
    {
     "name": "stdout",
     "output_type": "stream",
     "text": [
      "\r",
      " 18%|███████████▉                                                        | 295/1683 [01:53<09:17,  2.49it/s, loss=10.7]"
     ]
    },
    {
     "name": "stderr",
     "output_type": "stream",
     "text": [
      "C:\\Users\\PC\\Projects\\fastai\\courses\\dl1\\ULMFiT-Filipino\\fastai\\model.py:62: UserWarning: torch.nn.utils.clip_grad_norm is now deprecated in favor of torch.nn.utils.clip_grad_norm_.\n",
      "  if IS_TORCH_04: nn.utils.clip_grad_norm(trainable_params_(self.m), self.clip)\n"
     ]
    },
    {
     "name": "stdout",
     "output_type": "stream",
     "text": [
      "\r",
      " 18%|███████████▉                                                        | 296/1683 [01:53<09:20,  2.47it/s, loss=10.7]"
     ]
    },
    {
     "name": "stderr",
     "output_type": "stream",
     "text": [
      "C:\\Users\\PC\\Projects\\fastai\\courses\\dl1\\ULMFiT-Filipino\\fastai\\model.py:62: UserWarning: torch.nn.utils.clip_grad_norm is now deprecated in favor of torch.nn.utils.clip_grad_norm_.\n",
      "  if IS_TORCH_04: nn.utils.clip_grad_norm(trainable_params_(self.m), self.clip)\n"
     ]
    },
    {
     "name": "stdout",
     "output_type": "stream",
     "text": [
      "\r",
      " 18%|████████████                                                        | 297/1683 [01:54<09:09,  2.52it/s, loss=10.7]"
     ]
    },
    {
     "name": "stderr",
     "output_type": "stream",
     "text": [
      "C:\\Users\\PC\\Projects\\fastai\\courses\\dl1\\ULMFiT-Filipino\\fastai\\model.py:62: UserWarning: torch.nn.utils.clip_grad_norm is now deprecated in favor of torch.nn.utils.clip_grad_norm_.\n",
      "  if IS_TORCH_04: nn.utils.clip_grad_norm(trainable_params_(self.m), self.clip)\n"
     ]
    },
    {
     "name": "stdout",
     "output_type": "stream",
     "text": [
      "\r",
      " 18%|████████████                                                        | 298/1683 [01:54<09:10,  2.52it/s, loss=10.7]"
     ]
    },
    {
     "name": "stderr",
     "output_type": "stream",
     "text": [
      "C:\\Users\\PC\\Projects\\fastai\\courses\\dl1\\ULMFiT-Filipino\\fastai\\model.py:62: UserWarning: torch.nn.utils.clip_grad_norm is now deprecated in favor of torch.nn.utils.clip_grad_norm_.\n",
      "  if IS_TORCH_04: nn.utils.clip_grad_norm(trainable_params_(self.m), self.clip)\n"
     ]
    },
    {
     "name": "stdout",
     "output_type": "stream",
     "text": [
      "\r",
      " 18%|████████████                                                        | 299/1683 [01:55<08:57,  2.57it/s, loss=10.7]"
     ]
    },
    {
     "name": "stderr",
     "output_type": "stream",
     "text": [
      "C:\\Users\\PC\\Projects\\fastai\\courses\\dl1\\ULMFiT-Filipino\\fastai\\model.py:62: UserWarning: torch.nn.utils.clip_grad_norm is now deprecated in favor of torch.nn.utils.clip_grad_norm_.\n",
      "  if IS_TORCH_04: nn.utils.clip_grad_norm(trainable_params_(self.m), self.clip)\n"
     ]
    },
    {
     "name": "stdout",
     "output_type": "stream",
     "text": [
      "\r",
      " 18%|████████████                                                        | 300/1683 [01:55<08:53,  2.59it/s, loss=10.7]"
     ]
    },
    {
     "name": "stderr",
     "output_type": "stream",
     "text": [
      "C:\\Users\\PC\\Projects\\fastai\\courses\\dl1\\ULMFiT-Filipino\\fastai\\model.py:62: UserWarning: torch.nn.utils.clip_grad_norm is now deprecated in favor of torch.nn.utils.clip_grad_norm_.\n",
      "  if IS_TORCH_04: nn.utils.clip_grad_norm(trainable_params_(self.m), self.clip)\n"
     ]
    },
    {
     "name": "stdout",
     "output_type": "stream",
     "text": [
      "\r",
      " 18%|████████████▏                                                       | 301/1683 [01:55<08:53,  2.59it/s, loss=10.7]"
     ]
    },
    {
     "name": "stderr",
     "output_type": "stream",
     "text": [
      "C:\\Users\\PC\\Projects\\fastai\\courses\\dl1\\ULMFiT-Filipino\\fastai\\model.py:62: UserWarning: torch.nn.utils.clip_grad_norm is now deprecated in favor of torch.nn.utils.clip_grad_norm_.\n",
      "  if IS_TORCH_04: nn.utils.clip_grad_norm(trainable_params_(self.m), self.clip)\n"
     ]
    },
    {
     "name": "stdout",
     "output_type": "stream",
     "text": [
      "\r",
      " 18%|████████████▏                                                       | 302/1683 [01:56<08:43,  2.64it/s, loss=10.7]"
     ]
    },
    {
     "name": "stderr",
     "output_type": "stream",
     "text": [
      "C:\\Users\\PC\\Projects\\fastai\\courses\\dl1\\ULMFiT-Filipino\\fastai\\model.py:62: UserWarning: torch.nn.utils.clip_grad_norm is now deprecated in favor of torch.nn.utils.clip_grad_norm_.\n",
      "  if IS_TORCH_04: nn.utils.clip_grad_norm(trainable_params_(self.m), self.clip)\n"
     ]
    },
    {
     "name": "stdout",
     "output_type": "stream",
     "text": [
      "\r",
      " 18%|████████████▏                                                       | 303/1683 [01:56<08:50,  2.60it/s, loss=10.7]"
     ]
    },
    {
     "name": "stderr",
     "output_type": "stream",
     "text": [
      "C:\\Users\\PC\\Projects\\fastai\\courses\\dl1\\ULMFiT-Filipino\\fastai\\model.py:62: UserWarning: torch.nn.utils.clip_grad_norm is now deprecated in favor of torch.nn.utils.clip_grad_norm_.\n",
      "  if IS_TORCH_04: nn.utils.clip_grad_norm(trainable_params_(self.m), self.clip)\n"
     ]
    },
    {
     "name": "stdout",
     "output_type": "stream",
     "text": [
      "\r",
      " 18%|████████████▎                                                       | 304/1683 [01:57<08:36,  2.67it/s, loss=10.7]"
     ]
    },
    {
     "name": "stderr",
     "output_type": "stream",
     "text": [
      "C:\\Users\\PC\\Projects\\fastai\\courses\\dl1\\ULMFiT-Filipino\\fastai\\model.py:62: UserWarning: torch.nn.utils.clip_grad_norm is now deprecated in favor of torch.nn.utils.clip_grad_norm_.\n",
      "  if IS_TORCH_04: nn.utils.clip_grad_norm(trainable_params_(self.m), self.clip)\n"
     ]
    },
    {
     "name": "stdout",
     "output_type": "stream",
     "text": [
      "\r",
      " 18%|████████████▎                                                       | 305/1683 [01:57<08:32,  2.69it/s, loss=10.7]"
     ]
    },
    {
     "name": "stderr",
     "output_type": "stream",
     "text": [
      "C:\\Users\\PC\\Projects\\fastai\\courses\\dl1\\ULMFiT-Filipino\\fastai\\model.py:62: UserWarning: torch.nn.utils.clip_grad_norm is now deprecated in favor of torch.nn.utils.clip_grad_norm_.\n",
      "  if IS_TORCH_04: nn.utils.clip_grad_norm(trainable_params_(self.m), self.clip)\n"
     ]
    },
    {
     "name": "stdout",
     "output_type": "stream",
     "text": [
      "\r",
      " 18%|████████████▎                                                       | 306/1683 [01:57<08:36,  2.66it/s, loss=10.7]"
     ]
    },
    {
     "name": "stderr",
     "output_type": "stream",
     "text": [
      "C:\\Users\\PC\\Projects\\fastai\\courses\\dl1\\ULMFiT-Filipino\\fastai\\model.py:62: UserWarning: torch.nn.utils.clip_grad_norm is now deprecated in favor of torch.nn.utils.clip_grad_norm_.\n",
      "  if IS_TORCH_04: nn.utils.clip_grad_norm(trainable_params_(self.m), self.clip)\n"
     ]
    },
    {
     "name": "stdout",
     "output_type": "stream",
     "text": [
      "\r",
      " 18%|████████████▍                                                       | 307/1683 [01:58<08:37,  2.66it/s, loss=10.7]"
     ]
    },
    {
     "name": "stderr",
     "output_type": "stream",
     "text": [
      "C:\\Users\\PC\\Projects\\fastai\\courses\\dl1\\ULMFiT-Filipino\\fastai\\model.py:62: UserWarning: torch.nn.utils.clip_grad_norm is now deprecated in favor of torch.nn.utils.clip_grad_norm_.\n",
      "  if IS_TORCH_04: nn.utils.clip_grad_norm(trainable_params_(self.m), self.clip)\n"
     ]
    },
    {
     "name": "stdout",
     "output_type": "stream",
     "text": [
      "\r",
      " 18%|████████████▍                                                       | 308/1683 [01:58<08:37,  2.66it/s, loss=10.7]"
     ]
    },
    {
     "name": "stderr",
     "output_type": "stream",
     "text": [
      "C:\\Users\\PC\\Projects\\fastai\\courses\\dl1\\ULMFiT-Filipino\\fastai\\model.py:62: UserWarning: torch.nn.utils.clip_grad_norm is now deprecated in favor of torch.nn.utils.clip_grad_norm_.\n",
      "  if IS_TORCH_04: nn.utils.clip_grad_norm(trainable_params_(self.m), self.clip)\n"
     ]
    },
    {
     "name": "stdout",
     "output_type": "stream",
     "text": [
      "\r",
      " 18%|████████████▍                                                       | 309/1683 [01:58<08:35,  2.67it/s, loss=10.7]"
     ]
    },
    {
     "name": "stderr",
     "output_type": "stream",
     "text": [
      "C:\\Users\\PC\\Projects\\fastai\\courses\\dl1\\ULMFiT-Filipino\\fastai\\model.py:62: UserWarning: torch.nn.utils.clip_grad_norm is now deprecated in favor of torch.nn.utils.clip_grad_norm_.\n",
      "  if IS_TORCH_04: nn.utils.clip_grad_norm(trainable_params_(self.m), self.clip)\n"
     ]
    },
    {
     "name": "stdout",
     "output_type": "stream",
     "text": [
      "\r",
      " 18%|████████████▌                                                       | 310/1683 [01:59<08:39,  2.64it/s, loss=10.7]"
     ]
    },
    {
     "name": "stderr",
     "output_type": "stream",
     "text": [
      "C:\\Users\\PC\\Projects\\fastai\\courses\\dl1\\ULMFiT-Filipino\\fastai\\model.py:62: UserWarning: torch.nn.utils.clip_grad_norm is now deprecated in favor of torch.nn.utils.clip_grad_norm_.\n",
      "  if IS_TORCH_04: nn.utils.clip_grad_norm(trainable_params_(self.m), self.clip)\n"
     ]
    },
    {
     "name": "stdout",
     "output_type": "stream",
     "text": [
      "\r",
      " 18%|████████████▌                                                       | 311/1683 [01:59<08:56,  2.56it/s, loss=10.7]"
     ]
    },
    {
     "name": "stderr",
     "output_type": "stream",
     "text": [
      "C:\\Users\\PC\\Projects\\fastai\\courses\\dl1\\ULMFiT-Filipino\\fastai\\model.py:62: UserWarning: torch.nn.utils.clip_grad_norm is now deprecated in favor of torch.nn.utils.clip_grad_norm_.\n",
      "  if IS_TORCH_04: nn.utils.clip_grad_norm(trainable_params_(self.m), self.clip)\n"
     ]
    },
    {
     "name": "stdout",
     "output_type": "stream",
     "text": [
      "\r",
      " 19%|████████████▌                                                       | 312/1683 [02:00<08:59,  2.54it/s, loss=10.7]"
     ]
    },
    {
     "name": "stderr",
     "output_type": "stream",
     "text": [
      "C:\\Users\\PC\\Projects\\fastai\\courses\\dl1\\ULMFiT-Filipino\\fastai\\model.py:62: UserWarning: torch.nn.utils.clip_grad_norm is now deprecated in favor of torch.nn.utils.clip_grad_norm_.\n",
      "  if IS_TORCH_04: nn.utils.clip_grad_norm(trainable_params_(self.m), self.clip)\n"
     ]
    },
    {
     "name": "stdout",
     "output_type": "stream",
     "text": [
      "\r",
      " 19%|████████████▋                                                       | 313/1683 [02:00<09:01,  2.53it/s, loss=10.7]"
     ]
    },
    {
     "name": "stderr",
     "output_type": "stream",
     "text": [
      "C:\\Users\\PC\\Projects\\fastai\\courses\\dl1\\ULMFiT-Filipino\\fastai\\model.py:62: UserWarning: torch.nn.utils.clip_grad_norm is now deprecated in favor of torch.nn.utils.clip_grad_norm_.\n",
      "  if IS_TORCH_04: nn.utils.clip_grad_norm(trainable_params_(self.m), self.clip)\n"
     ]
    },
    {
     "name": "stdout",
     "output_type": "stream",
     "text": [
      "\r",
      " 19%|████████████▋                                                       | 314/1683 [02:00<09:09,  2.49it/s, loss=10.7]"
     ]
    },
    {
     "name": "stderr",
     "output_type": "stream",
     "text": [
      "C:\\Users\\PC\\Projects\\fastai\\courses\\dl1\\ULMFiT-Filipino\\fastai\\model.py:62: UserWarning: torch.nn.utils.clip_grad_norm is now deprecated in favor of torch.nn.utils.clip_grad_norm_.\n",
      "  if IS_TORCH_04: nn.utils.clip_grad_norm(trainable_params_(self.m), self.clip)\n"
     ]
    },
    {
     "name": "stdout",
     "output_type": "stream",
     "text": [
      "\r",
      " 19%|████████████▋                                                       | 315/1683 [02:01<08:14,  2.77it/s, loss=10.7]"
     ]
    },
    {
     "name": "stderr",
     "output_type": "stream",
     "text": [
      "C:\\Users\\PC\\Projects\\fastai\\courses\\dl1\\ULMFiT-Filipino\\fastai\\model.py:62: UserWarning: torch.nn.utils.clip_grad_norm is now deprecated in favor of torch.nn.utils.clip_grad_norm_.\n",
      "  if IS_TORCH_04: nn.utils.clip_grad_norm(trainable_params_(self.m), self.clip)\n"
     ]
    },
    {
     "name": "stdout",
     "output_type": "stream",
     "text": [
      "\r",
      " 19%|████████████▊                                                       | 316/1683 [02:01<08:29,  2.68it/s, loss=10.7]"
     ]
    },
    {
     "name": "stderr",
     "output_type": "stream",
     "text": [
      "C:\\Users\\PC\\Projects\\fastai\\courses\\dl1\\ULMFiT-Filipino\\fastai\\model.py:62: UserWarning: torch.nn.utils.clip_grad_norm is now deprecated in favor of torch.nn.utils.clip_grad_norm_.\n",
      "  if IS_TORCH_04: nn.utils.clip_grad_norm(trainable_params_(self.m), self.clip)\n"
     ]
    },
    {
     "name": "stdout",
     "output_type": "stream",
     "text": [
      "\r",
      " 19%|████████████▊                                                       | 317/1683 [02:01<08:42,  2.62it/s, loss=10.7]"
     ]
    },
    {
     "name": "stderr",
     "output_type": "stream",
     "text": [
      "C:\\Users\\PC\\Projects\\fastai\\courses\\dl1\\ULMFiT-Filipino\\fastai\\model.py:62: UserWarning: torch.nn.utils.clip_grad_norm is now deprecated in favor of torch.nn.utils.clip_grad_norm_.\n",
      "  if IS_TORCH_04: nn.utils.clip_grad_norm(trainable_params_(self.m), self.clip)\n"
     ]
    },
    {
     "name": "stdout",
     "output_type": "stream",
     "text": [
      "\r",
      " 19%|████████████▊                                                       | 318/1683 [02:02<08:36,  2.64it/s, loss=10.7]"
     ]
    },
    {
     "name": "stderr",
     "output_type": "stream",
     "text": [
      "C:\\Users\\PC\\Projects\\fastai\\courses\\dl1\\ULMFiT-Filipino\\fastai\\model.py:62: UserWarning: torch.nn.utils.clip_grad_norm is now deprecated in favor of torch.nn.utils.clip_grad_norm_.\n",
      "  if IS_TORCH_04: nn.utils.clip_grad_norm(trainable_params_(self.m), self.clip)\n"
     ]
    },
    {
     "name": "stdout",
     "output_type": "stream",
     "text": [
      "\r",
      " 19%|████████████▉                                                       | 319/1683 [02:02<08:55,  2.55it/s, loss=10.7]"
     ]
    },
    {
     "name": "stderr",
     "output_type": "stream",
     "text": [
      "C:\\Users\\PC\\Projects\\fastai\\courses\\dl1\\ULMFiT-Filipino\\fastai\\model.py:62: UserWarning: torch.nn.utils.clip_grad_norm is now deprecated in favor of torch.nn.utils.clip_grad_norm_.\n",
      "  if IS_TORCH_04: nn.utils.clip_grad_norm(trainable_params_(self.m), self.clip)\n"
     ]
    },
    {
     "name": "stdout",
     "output_type": "stream",
     "text": [
      "\r",
      " 19%|████████████▉                                                       | 320/1683 [02:03<08:52,  2.56it/s, loss=10.7]"
     ]
    },
    {
     "name": "stderr",
     "output_type": "stream",
     "text": [
      "C:\\Users\\PC\\Projects\\fastai\\courses\\dl1\\ULMFiT-Filipino\\fastai\\model.py:62: UserWarning: torch.nn.utils.clip_grad_norm is now deprecated in favor of torch.nn.utils.clip_grad_norm_.\n",
      "  if IS_TORCH_04: nn.utils.clip_grad_norm(trainable_params_(self.m), self.clip)\n"
     ]
    },
    {
     "name": "stdout",
     "output_type": "stream",
     "text": [
      "\r",
      " 19%|████████████▉                                                       | 321/1683 [02:03<09:08,  2.48it/s, loss=10.7]"
     ]
    },
    {
     "name": "stderr",
     "output_type": "stream",
     "text": [
      "C:\\Users\\PC\\Projects\\fastai\\courses\\dl1\\ULMFiT-Filipino\\fastai\\model.py:62: UserWarning: torch.nn.utils.clip_grad_norm is now deprecated in favor of torch.nn.utils.clip_grad_norm_.\n",
      "  if IS_TORCH_04: nn.utils.clip_grad_norm(trainable_params_(self.m), self.clip)\n"
     ]
    },
    {
     "name": "stdout",
     "output_type": "stream",
     "text": [
      "\r",
      " 19%|█████████████                                                       | 322/1683 [02:03<08:59,  2.52it/s, loss=10.7]"
     ]
    },
    {
     "name": "stderr",
     "output_type": "stream",
     "text": [
      "C:\\Users\\PC\\Projects\\fastai\\courses\\dl1\\ULMFiT-Filipino\\fastai\\model.py:62: UserWarning: torch.nn.utils.clip_grad_norm is now deprecated in favor of torch.nn.utils.clip_grad_norm_.\n",
      "  if IS_TORCH_04: nn.utils.clip_grad_norm(trainable_params_(self.m), self.clip)\n"
     ]
    },
    {
     "name": "stdout",
     "output_type": "stream",
     "text": [
      "\r",
      " 19%|█████████████                                                       | 323/1683 [02:04<09:02,  2.51it/s, loss=10.7]"
     ]
    },
    {
     "name": "stderr",
     "output_type": "stream",
     "text": [
      "C:\\Users\\PC\\Projects\\fastai\\courses\\dl1\\ULMFiT-Filipino\\fastai\\model.py:62: UserWarning: torch.nn.utils.clip_grad_norm is now deprecated in favor of torch.nn.utils.clip_grad_norm_.\n",
      "  if IS_TORCH_04: nn.utils.clip_grad_norm(trainable_params_(self.m), self.clip)\n"
     ]
    },
    {
     "name": "stdout",
     "output_type": "stream",
     "text": [
      "\r",
      " 19%|█████████████                                                       | 324/1683 [02:04<08:49,  2.57it/s, loss=10.7]"
     ]
    },
    {
     "name": "stderr",
     "output_type": "stream",
     "text": [
      "C:\\Users\\PC\\Projects\\fastai\\courses\\dl1\\ULMFiT-Filipino\\fastai\\model.py:62: UserWarning: torch.nn.utils.clip_grad_norm is now deprecated in favor of torch.nn.utils.clip_grad_norm_.\n",
      "  if IS_TORCH_04: nn.utils.clip_grad_norm(trainable_params_(self.m), self.clip)\n"
     ]
    },
    {
     "name": "stdout",
     "output_type": "stream",
     "text": [
      "\r",
      " 19%|█████████████▏                                                      | 325/1683 [02:05<09:02,  2.51it/s, loss=10.7]"
     ]
    },
    {
     "name": "stderr",
     "output_type": "stream",
     "text": [
      "C:\\Users\\PC\\Projects\\fastai\\courses\\dl1\\ULMFiT-Filipino\\fastai\\model.py:62: UserWarning: torch.nn.utils.clip_grad_norm is now deprecated in favor of torch.nn.utils.clip_grad_norm_.\n",
      "  if IS_TORCH_04: nn.utils.clip_grad_norm(trainable_params_(self.m), self.clip)\n"
     ]
    },
    {
     "name": "stdout",
     "output_type": "stream",
     "text": [
      "\r",
      " 19%|█████████████▏                                                      | 326/1683 [02:05<08:57,  2.53it/s, loss=10.7]"
     ]
    },
    {
     "name": "stderr",
     "output_type": "stream",
     "text": [
      "C:\\Users\\PC\\Projects\\fastai\\courses\\dl1\\ULMFiT-Filipino\\fastai\\model.py:62: UserWarning: torch.nn.utils.clip_grad_norm is now deprecated in favor of torch.nn.utils.clip_grad_norm_.\n",
      "  if IS_TORCH_04: nn.utils.clip_grad_norm(trainable_params_(self.m), self.clip)\n"
     ]
    },
    {
     "name": "stdout",
     "output_type": "stream",
     "text": [
      "\r",
      " 19%|█████████████▏                                                      | 327/1683 [02:05<08:36,  2.63it/s, loss=10.7]"
     ]
    },
    {
     "name": "stderr",
     "output_type": "stream",
     "text": [
      "C:\\Users\\PC\\Projects\\fastai\\courses\\dl1\\ULMFiT-Filipino\\fastai\\model.py:62: UserWarning: torch.nn.utils.clip_grad_norm is now deprecated in favor of torch.nn.utils.clip_grad_norm_.\n",
      "  if IS_TORCH_04: nn.utils.clip_grad_norm(trainable_params_(self.m), self.clip)\n"
     ]
    },
    {
     "name": "stdout",
     "output_type": "stream",
     "text": [
      "\r",
      " 19%|█████████████▎                                                      | 328/1683 [02:06<08:38,  2.61it/s, loss=10.7]"
     ]
    },
    {
     "name": "stderr",
     "output_type": "stream",
     "text": [
      "C:\\Users\\PC\\Projects\\fastai\\courses\\dl1\\ULMFiT-Filipino\\fastai\\model.py:62: UserWarning: torch.nn.utils.clip_grad_norm is now deprecated in favor of torch.nn.utils.clip_grad_norm_.\n",
      "  if IS_TORCH_04: nn.utils.clip_grad_norm(trainable_params_(self.m), self.clip)\n"
     ]
    },
    {
     "name": "stdout",
     "output_type": "stream",
     "text": [
      "\r",
      " 20%|█████████████▎                                                      | 329/1683 [02:06<08:52,  2.54it/s, loss=10.7]"
     ]
    },
    {
     "name": "stderr",
     "output_type": "stream",
     "text": [
      "C:\\Users\\PC\\Projects\\fastai\\courses\\dl1\\ULMFiT-Filipino\\fastai\\model.py:62: UserWarning: torch.nn.utils.clip_grad_norm is now deprecated in favor of torch.nn.utils.clip_grad_norm_.\n",
      "  if IS_TORCH_04: nn.utils.clip_grad_norm(trainable_params_(self.m), self.clip)\n"
     ]
    },
    {
     "name": "stdout",
     "output_type": "stream",
     "text": [
      "\r",
      " 20%|█████████████▎                                                      | 330/1683 [02:07<08:47,  2.56it/s, loss=10.7]"
     ]
    },
    {
     "name": "stderr",
     "output_type": "stream",
     "text": [
      "C:\\Users\\PC\\Projects\\fastai\\courses\\dl1\\ULMFiT-Filipino\\fastai\\model.py:62: UserWarning: torch.nn.utils.clip_grad_norm is now deprecated in favor of torch.nn.utils.clip_grad_norm_.\n",
      "  if IS_TORCH_04: nn.utils.clip_grad_norm(trainable_params_(self.m), self.clip)\n"
     ]
    },
    {
     "name": "stdout",
     "output_type": "stream",
     "text": [
      "\r",
      " 20%|█████████████▎                                                      | 331/1683 [02:07<08:52,  2.54it/s, loss=10.7]"
     ]
    },
    {
     "name": "stderr",
     "output_type": "stream",
     "text": [
      "C:\\Users\\PC\\Projects\\fastai\\courses\\dl1\\ULMFiT-Filipino\\fastai\\model.py:62: UserWarning: torch.nn.utils.clip_grad_norm is now deprecated in favor of torch.nn.utils.clip_grad_norm_.\n",
      "  if IS_TORCH_04: nn.utils.clip_grad_norm(trainable_params_(self.m), self.clip)\n"
     ]
    },
    {
     "name": "stdout",
     "output_type": "stream",
     "text": [
      "\r",
      " 20%|█████████████▍                                                      | 332/1683 [02:07<08:41,  2.59it/s, loss=10.7]"
     ]
    },
    {
     "name": "stderr",
     "output_type": "stream",
     "text": [
      "C:\\Users\\PC\\Projects\\fastai\\courses\\dl1\\ULMFiT-Filipino\\fastai\\model.py:62: UserWarning: torch.nn.utils.clip_grad_norm is now deprecated in favor of torch.nn.utils.clip_grad_norm_.\n",
      "  if IS_TORCH_04: nn.utils.clip_grad_norm(trainable_params_(self.m), self.clip)\n"
     ]
    },
    {
     "name": "stdout",
     "output_type": "stream",
     "text": [
      "\r",
      " 20%|█████████████▍                                                      | 333/1683 [02:08<08:41,  2.59it/s, loss=10.7]"
     ]
    },
    {
     "name": "stderr",
     "output_type": "stream",
     "text": [
      "C:\\Users\\PC\\Projects\\fastai\\courses\\dl1\\ULMFiT-Filipino\\fastai\\model.py:62: UserWarning: torch.nn.utils.clip_grad_norm is now deprecated in favor of torch.nn.utils.clip_grad_norm_.\n",
      "  if IS_TORCH_04: nn.utils.clip_grad_norm(trainable_params_(self.m), self.clip)\n"
     ]
    },
    {
     "name": "stdout",
     "output_type": "stream",
     "text": [
      "\r",
      " 20%|█████████████▍                                                      | 334/1683 [02:08<08:33,  2.63it/s, loss=10.7]"
     ]
    },
    {
     "name": "stderr",
     "output_type": "stream",
     "text": [
      "C:\\Users\\PC\\Projects\\fastai\\courses\\dl1\\ULMFiT-Filipino\\fastai\\model.py:62: UserWarning: torch.nn.utils.clip_grad_norm is now deprecated in favor of torch.nn.utils.clip_grad_norm_.\n",
      "  if IS_TORCH_04: nn.utils.clip_grad_norm(trainable_params_(self.m), self.clip)\n"
     ]
    },
    {
     "name": "stdout",
     "output_type": "stream",
     "text": [
      "\r",
      " 20%|█████████████▌                                                      | 335/1683 [02:09<08:36,  2.61it/s, loss=10.7]"
     ]
    },
    {
     "name": "stderr",
     "output_type": "stream",
     "text": [
      "C:\\Users\\PC\\Projects\\fastai\\courses\\dl1\\ULMFiT-Filipino\\fastai\\model.py:62: UserWarning: torch.nn.utils.clip_grad_norm is now deprecated in favor of torch.nn.utils.clip_grad_norm_.\n",
      "  if IS_TORCH_04: nn.utils.clip_grad_norm(trainable_params_(self.m), self.clip)\n"
     ]
    },
    {
     "name": "stdout",
     "output_type": "stream",
     "text": [
      "\r",
      " 20%|█████████████▌                                                      | 336/1683 [02:09<08:45,  2.56it/s, loss=10.7]"
     ]
    },
    {
     "name": "stderr",
     "output_type": "stream",
     "text": [
      "C:\\Users\\PC\\Projects\\fastai\\courses\\dl1\\ULMFiT-Filipino\\fastai\\model.py:62: UserWarning: torch.nn.utils.clip_grad_norm is now deprecated in favor of torch.nn.utils.clip_grad_norm_.\n",
      "  if IS_TORCH_04: nn.utils.clip_grad_norm(trainable_params_(self.m), self.clip)\n"
     ]
    },
    {
     "name": "stdout",
     "output_type": "stream",
     "text": [
      "\r",
      " 20%|█████████████▌                                                      | 337/1683 [02:09<08:49,  2.54it/s, loss=10.7]"
     ]
    },
    {
     "name": "stderr",
     "output_type": "stream",
     "text": [
      "C:\\Users\\PC\\Projects\\fastai\\courses\\dl1\\ULMFiT-Filipino\\fastai\\model.py:62: UserWarning: torch.nn.utils.clip_grad_norm is now deprecated in favor of torch.nn.utils.clip_grad_norm_.\n",
      "  if IS_TORCH_04: nn.utils.clip_grad_norm(trainable_params_(self.m), self.clip)\n"
     ]
    },
    {
     "name": "stdout",
     "output_type": "stream",
     "text": [
      "\r",
      " 20%|█████████████▋                                                      | 338/1683 [02:10<08:39,  2.59it/s, loss=10.7]"
     ]
    },
    {
     "name": "stderr",
     "output_type": "stream",
     "text": [
      "C:\\Users\\PC\\Projects\\fastai\\courses\\dl1\\ULMFiT-Filipino\\fastai\\model.py:62: UserWarning: torch.nn.utils.clip_grad_norm is now deprecated in favor of torch.nn.utils.clip_grad_norm_.\n",
      "  if IS_TORCH_04: nn.utils.clip_grad_norm(trainable_params_(self.m), self.clip)\n"
     ]
    },
    {
     "name": "stdout",
     "output_type": "stream",
     "text": [
      "\r",
      " 20%|█████████████▋                                                      | 339/1683 [02:10<08:27,  2.65it/s, loss=10.7]"
     ]
    },
    {
     "name": "stderr",
     "output_type": "stream",
     "text": [
      "C:\\Users\\PC\\Projects\\fastai\\courses\\dl1\\ULMFiT-Filipino\\fastai\\model.py:62: UserWarning: torch.nn.utils.clip_grad_norm is now deprecated in favor of torch.nn.utils.clip_grad_norm_.\n",
      "  if IS_TORCH_04: nn.utils.clip_grad_norm(trainable_params_(self.m), self.clip)\n"
     ]
    },
    {
     "name": "stdout",
     "output_type": "stream",
     "text": [
      "\r",
      " 20%|█████████████▋                                                      | 340/1683 [02:10<08:38,  2.59it/s, loss=10.7]"
     ]
    },
    {
     "name": "stderr",
     "output_type": "stream",
     "text": [
      "C:\\Users\\PC\\Projects\\fastai\\courses\\dl1\\ULMFiT-Filipino\\fastai\\model.py:62: UserWarning: torch.nn.utils.clip_grad_norm is now deprecated in favor of torch.nn.utils.clip_grad_norm_.\n",
      "  if IS_TORCH_04: nn.utils.clip_grad_norm(trainable_params_(self.m), self.clip)\n"
     ]
    },
    {
     "name": "stdout",
     "output_type": "stream",
     "text": [
      "\r",
      " 20%|█████████████▊                                                      | 341/1683 [02:11<08:54,  2.51it/s, loss=10.7]"
     ]
    },
    {
     "name": "stderr",
     "output_type": "stream",
     "text": [
      "C:\\Users\\PC\\Projects\\fastai\\courses\\dl1\\ULMFiT-Filipino\\fastai\\model.py:62: UserWarning: torch.nn.utils.clip_grad_norm is now deprecated in favor of torch.nn.utils.clip_grad_norm_.\n",
      "  if IS_TORCH_04: nn.utils.clip_grad_norm(trainable_params_(self.m), self.clip)\n"
     ]
    },
    {
     "name": "stdout",
     "output_type": "stream",
     "text": [
      "\r",
      " 20%|█████████████▊                                                      | 342/1683 [02:11<08:48,  2.54it/s, loss=10.7]"
     ]
    },
    {
     "name": "stderr",
     "output_type": "stream",
     "text": [
      "C:\\Users\\PC\\Projects\\fastai\\courses\\dl1\\ULMFiT-Filipino\\fastai\\model.py:62: UserWarning: torch.nn.utils.clip_grad_norm is now deprecated in favor of torch.nn.utils.clip_grad_norm_.\n",
      "  if IS_TORCH_04: nn.utils.clip_grad_norm(trainable_params_(self.m), self.clip)\n"
     ]
    },
    {
     "name": "stdout",
     "output_type": "stream",
     "text": [
      "\r",
      " 20%|█████████████▊                                                      | 343/1683 [02:12<08:59,  2.49it/s, loss=10.7]"
     ]
    },
    {
     "name": "stderr",
     "output_type": "stream",
     "text": [
      "C:\\Users\\PC\\Projects\\fastai\\courses\\dl1\\ULMFiT-Filipino\\fastai\\model.py:62: UserWarning: torch.nn.utils.clip_grad_norm is now deprecated in favor of torch.nn.utils.clip_grad_norm_.\n",
      "  if IS_TORCH_04: nn.utils.clip_grad_norm(trainable_params_(self.m), self.clip)\n"
     ]
    },
    {
     "name": "stdout",
     "output_type": "stream",
     "text": [
      "\r",
      " 20%|█████████████▉                                                      | 344/1683 [02:12<09:04,  2.46it/s, loss=10.7]"
     ]
    },
    {
     "name": "stderr",
     "output_type": "stream",
     "text": [
      "C:\\Users\\PC\\Projects\\fastai\\courses\\dl1\\ULMFiT-Filipino\\fastai\\model.py:62: UserWarning: torch.nn.utils.clip_grad_norm is now deprecated in favor of torch.nn.utils.clip_grad_norm_.\n",
      "  if IS_TORCH_04: nn.utils.clip_grad_norm(trainable_params_(self.m), self.clip)\n"
     ]
    },
    {
     "name": "stdout",
     "output_type": "stream",
     "text": [
      "\r",
      " 20%|█████████████▉                                                      | 345/1683 [02:12<08:49,  2.53it/s, loss=10.7]"
     ]
    },
    {
     "name": "stderr",
     "output_type": "stream",
     "text": [
      "C:\\Users\\PC\\Projects\\fastai\\courses\\dl1\\ULMFiT-Filipino\\fastai\\model.py:62: UserWarning: torch.nn.utils.clip_grad_norm is now deprecated in favor of torch.nn.utils.clip_grad_norm_.\n",
      "  if IS_TORCH_04: nn.utils.clip_grad_norm(trainable_params_(self.m), self.clip)\n"
     ]
    },
    {
     "name": "stdout",
     "output_type": "stream",
     "text": [
      "\r",
      " 21%|█████████████▉                                                      | 346/1683 [02:13<08:52,  2.51it/s, loss=10.7]"
     ]
    },
    {
     "name": "stderr",
     "output_type": "stream",
     "text": [
      "C:\\Users\\PC\\Projects\\fastai\\courses\\dl1\\ULMFiT-Filipino\\fastai\\model.py:62: UserWarning: torch.nn.utils.clip_grad_norm is now deprecated in favor of torch.nn.utils.clip_grad_norm_.\n",
      "  if IS_TORCH_04: nn.utils.clip_grad_norm(trainable_params_(self.m), self.clip)\n"
     ]
    },
    {
     "name": "stdout",
     "output_type": "stream",
     "text": [
      "\r",
      " 21%|██████████████                                                      | 347/1683 [02:13<08:34,  2.60it/s, loss=10.7]"
     ]
    },
    {
     "name": "stderr",
     "output_type": "stream",
     "text": [
      "C:\\Users\\PC\\Projects\\fastai\\courses\\dl1\\ULMFiT-Filipino\\fastai\\model.py:62: UserWarning: torch.nn.utils.clip_grad_norm is now deprecated in favor of torch.nn.utils.clip_grad_norm_.\n",
      "  if IS_TORCH_04: nn.utils.clip_grad_norm(trainable_params_(self.m), self.clip)\n"
     ]
    },
    {
     "name": "stdout",
     "output_type": "stream",
     "text": [
      "\r",
      " 21%|██████████████                                                      | 348/1683 [02:14<08:03,  2.76it/s, loss=10.7]"
     ]
    },
    {
     "name": "stderr",
     "output_type": "stream",
     "text": [
      "C:\\Users\\PC\\Projects\\fastai\\courses\\dl1\\ULMFiT-Filipino\\fastai\\model.py:62: UserWarning: torch.nn.utils.clip_grad_norm is now deprecated in favor of torch.nn.utils.clip_grad_norm_.\n",
      "  if IS_TORCH_04: nn.utils.clip_grad_norm(trainable_params_(self.m), self.clip)\n"
     ]
    },
    {
     "name": "stdout",
     "output_type": "stream",
     "text": [
      "\r",
      " 21%|██████████████                                                      | 349/1683 [02:14<08:12,  2.71it/s, loss=10.7]"
     ]
    },
    {
     "name": "stderr",
     "output_type": "stream",
     "text": [
      "C:\\Users\\PC\\Projects\\fastai\\courses\\dl1\\ULMFiT-Filipino\\fastai\\model.py:62: UserWarning: torch.nn.utils.clip_grad_norm is now deprecated in favor of torch.nn.utils.clip_grad_norm_.\n",
      "  if IS_TORCH_04: nn.utils.clip_grad_norm(trainable_params_(self.m), self.clip)\n"
     ]
    },
    {
     "name": "stdout",
     "output_type": "stream",
     "text": [
      "\r",
      " 21%|██████████████▏                                                     | 350/1683 [02:14<08:21,  2.66it/s, loss=10.7]"
     ]
    },
    {
     "name": "stderr",
     "output_type": "stream",
     "text": [
      "C:\\Users\\PC\\Projects\\fastai\\courses\\dl1\\ULMFiT-Filipino\\fastai\\model.py:62: UserWarning: torch.nn.utils.clip_grad_norm is now deprecated in favor of torch.nn.utils.clip_grad_norm_.\n",
      "  if IS_TORCH_04: nn.utils.clip_grad_norm(trainable_params_(self.m), self.clip)\n"
     ]
    },
    {
     "name": "stdout",
     "output_type": "stream",
     "text": [
      "\r",
      " 21%|██████████████▏                                                     | 351/1683 [02:15<08:25,  2.64it/s, loss=10.7]"
     ]
    },
    {
     "name": "stderr",
     "output_type": "stream",
     "text": [
      "C:\\Users\\PC\\Projects\\fastai\\courses\\dl1\\ULMFiT-Filipino\\fastai\\model.py:62: UserWarning: torch.nn.utils.clip_grad_norm is now deprecated in favor of torch.nn.utils.clip_grad_norm_.\n",
      "  if IS_TORCH_04: nn.utils.clip_grad_norm(trainable_params_(self.m), self.clip)\n"
     ]
    },
    {
     "name": "stdout",
     "output_type": "stream",
     "text": [
      "\r",
      " 21%|██████████████▏                                                     | 352/1683 [02:15<08:11,  2.71it/s, loss=10.7]"
     ]
    },
    {
     "name": "stderr",
     "output_type": "stream",
     "text": [
      "C:\\Users\\PC\\Projects\\fastai\\courses\\dl1\\ULMFiT-Filipino\\fastai\\model.py:62: UserWarning: torch.nn.utils.clip_grad_norm is now deprecated in favor of torch.nn.utils.clip_grad_norm_.\n",
      "  if IS_TORCH_04: nn.utils.clip_grad_norm(trainable_params_(self.m), self.clip)\n"
     ]
    },
    {
     "name": "stdout",
     "output_type": "stream",
     "text": [
      "\r",
      " 21%|██████████████▎                                                     | 353/1683 [02:15<08:04,  2.74it/s, loss=10.7]"
     ]
    },
    {
     "name": "stderr",
     "output_type": "stream",
     "text": [
      "C:\\Users\\PC\\Projects\\fastai\\courses\\dl1\\ULMFiT-Filipino\\fastai\\model.py:62: UserWarning: torch.nn.utils.clip_grad_norm is now deprecated in favor of torch.nn.utils.clip_grad_norm_.\n",
      "  if IS_TORCH_04: nn.utils.clip_grad_norm(trainable_params_(self.m), self.clip)\n"
     ]
    },
    {
     "name": "stdout",
     "output_type": "stream",
     "text": [
      "\r",
      " 21%|██████████████▎                                                     | 354/1683 [02:16<08:08,  2.72it/s, loss=10.7]"
     ]
    },
    {
     "name": "stderr",
     "output_type": "stream",
     "text": [
      "C:\\Users\\PC\\Projects\\fastai\\courses\\dl1\\ULMFiT-Filipino\\fastai\\model.py:62: UserWarning: torch.nn.utils.clip_grad_norm is now deprecated in favor of torch.nn.utils.clip_grad_norm_.\n",
      "  if IS_TORCH_04: nn.utils.clip_grad_norm(trainable_params_(self.m), self.clip)\n"
     ]
    },
    {
     "name": "stdout",
     "output_type": "stream",
     "text": [
      "\r",
      " 21%|██████████████▎                                                     | 355/1683 [02:16<08:08,  2.72it/s, loss=10.7]"
     ]
    },
    {
     "name": "stderr",
     "output_type": "stream",
     "text": [
      "C:\\Users\\PC\\Projects\\fastai\\courses\\dl1\\ULMFiT-Filipino\\fastai\\model.py:62: UserWarning: torch.nn.utils.clip_grad_norm is now deprecated in favor of torch.nn.utils.clip_grad_norm_.\n",
      "  if IS_TORCH_04: nn.utils.clip_grad_norm(trainable_params_(self.m), self.clip)\n"
     ]
    },
    {
     "name": "stdout",
     "output_type": "stream",
     "text": [
      "\r",
      " 21%|██████████████▍                                                     | 356/1683 [02:17<08:07,  2.72it/s, loss=10.7]"
     ]
    },
    {
     "name": "stderr",
     "output_type": "stream",
     "text": [
      "C:\\Users\\PC\\Projects\\fastai\\courses\\dl1\\ULMFiT-Filipino\\fastai\\model.py:62: UserWarning: torch.nn.utils.clip_grad_norm is now deprecated in favor of torch.nn.utils.clip_grad_norm_.\n",
      "  if IS_TORCH_04: nn.utils.clip_grad_norm(trainable_params_(self.m), self.clip)\n"
     ]
    },
    {
     "name": "stdout",
     "output_type": "stream",
     "text": [
      "\r",
      " 21%|██████████████▍                                                     | 357/1683 [02:17<08:16,  2.67it/s, loss=10.7]"
     ]
    },
    {
     "name": "stderr",
     "output_type": "stream",
     "text": [
      "C:\\Users\\PC\\Projects\\fastai\\courses\\dl1\\ULMFiT-Filipino\\fastai\\model.py:62: UserWarning: torch.nn.utils.clip_grad_norm is now deprecated in favor of torch.nn.utils.clip_grad_norm_.\n",
      "  if IS_TORCH_04: nn.utils.clip_grad_norm(trainable_params_(self.m), self.clip)\n"
     ]
    },
    {
     "name": "stdout",
     "output_type": "stream",
     "text": [
      "\r",
      " 21%|██████████████▍                                                     | 358/1683 [02:17<08:43,  2.53it/s, loss=10.7]"
     ]
    },
    {
     "name": "stderr",
     "output_type": "stream",
     "text": [
      "C:\\Users\\PC\\Projects\\fastai\\courses\\dl1\\ULMFiT-Filipino\\fastai\\model.py:62: UserWarning: torch.nn.utils.clip_grad_norm is now deprecated in favor of torch.nn.utils.clip_grad_norm_.\n",
      "  if IS_TORCH_04: nn.utils.clip_grad_norm(trainable_params_(self.m), self.clip)\n"
     ]
    },
    {
     "name": "stdout",
     "output_type": "stream",
     "text": [
      "\r",
      " 21%|██████████████▌                                                     | 359/1683 [02:18<08:41,  2.54it/s, loss=10.7]"
     ]
    },
    {
     "name": "stderr",
     "output_type": "stream",
     "text": [
      "C:\\Users\\PC\\Projects\\fastai\\courses\\dl1\\ULMFiT-Filipino\\fastai\\model.py:62: UserWarning: torch.nn.utils.clip_grad_norm is now deprecated in favor of torch.nn.utils.clip_grad_norm_.\n",
      "  if IS_TORCH_04: nn.utils.clip_grad_norm(trainable_params_(self.m), self.clip)\n"
     ]
    },
    {
     "name": "stdout",
     "output_type": "stream",
     "text": [
      "\r",
      " 21%|██████████████▌                                                     | 360/1683 [02:18<08:26,  2.61it/s, loss=10.7]"
     ]
    },
    {
     "name": "stderr",
     "output_type": "stream",
     "text": [
      "C:\\Users\\PC\\Projects\\fastai\\courses\\dl1\\ULMFiT-Filipino\\fastai\\model.py:62: UserWarning: torch.nn.utils.clip_grad_norm is now deprecated in favor of torch.nn.utils.clip_grad_norm_.\n",
      "  if IS_TORCH_04: nn.utils.clip_grad_norm(trainable_params_(self.m), self.clip)\n"
     ]
    },
    {
     "name": "stdout",
     "output_type": "stream",
     "text": [
      "\r",
      " 21%|██████████████▌                                                     | 361/1683 [02:18<07:24,  2.98it/s, loss=10.7]"
     ]
    },
    {
     "name": "stderr",
     "output_type": "stream",
     "text": [
      "C:\\Users\\PC\\Projects\\fastai\\courses\\dl1\\ULMFiT-Filipino\\fastai\\model.py:62: UserWarning: torch.nn.utils.clip_grad_norm is now deprecated in favor of torch.nn.utils.clip_grad_norm_.\n",
      "  if IS_TORCH_04: nn.utils.clip_grad_norm(trainable_params_(self.m), self.clip)\n"
     ]
    },
    {
     "name": "stdout",
     "output_type": "stream",
     "text": [
      "\r",
      " 22%|██████████████▋                                                     | 362/1683 [02:19<07:23,  2.98it/s, loss=10.7]"
     ]
    },
    {
     "name": "stderr",
     "output_type": "stream",
     "text": [
      "C:\\Users\\PC\\Projects\\fastai\\courses\\dl1\\ULMFiT-Filipino\\fastai\\model.py:62: UserWarning: torch.nn.utils.clip_grad_norm is now deprecated in favor of torch.nn.utils.clip_grad_norm_.\n",
      "  if IS_TORCH_04: nn.utils.clip_grad_norm(trainable_params_(self.m), self.clip)\n"
     ]
    },
    {
     "name": "stdout",
     "output_type": "stream",
     "text": [
      "\r",
      " 22%|██████████████▋                                                     | 363/1683 [02:19<08:00,  2.74it/s, loss=10.7]"
     ]
    },
    {
     "name": "stderr",
     "output_type": "stream",
     "text": [
      "C:\\Users\\PC\\Projects\\fastai\\courses\\dl1\\ULMFiT-Filipino\\fastai\\model.py:62: UserWarning: torch.nn.utils.clip_grad_norm is now deprecated in favor of torch.nn.utils.clip_grad_norm_.\n",
      "  if IS_TORCH_04: nn.utils.clip_grad_norm(trainable_params_(self.m), self.clip)\n"
     ]
    },
    {
     "name": "stdout",
     "output_type": "stream",
     "text": [
      "\r",
      " 22%|██████████████▋                                                     | 364/1683 [02:19<07:37,  2.88it/s, loss=10.7]"
     ]
    },
    {
     "name": "stderr",
     "output_type": "stream",
     "text": [
      "C:\\Users\\PC\\Projects\\fastai\\courses\\dl1\\ULMFiT-Filipino\\fastai\\model.py:62: UserWarning: torch.nn.utils.clip_grad_norm is now deprecated in favor of torch.nn.utils.clip_grad_norm_.\n",
      "  if IS_TORCH_04: nn.utils.clip_grad_norm(trainable_params_(self.m), self.clip)\n"
     ]
    },
    {
     "name": "stdout",
     "output_type": "stream",
     "text": [
      "\r",
      " 22%|██████████████▋                                                     | 365/1683 [02:20<08:02,  2.73it/s, loss=10.7]"
     ]
    },
    {
     "name": "stderr",
     "output_type": "stream",
     "text": [
      "C:\\Users\\PC\\Projects\\fastai\\courses\\dl1\\ULMFiT-Filipino\\fastai\\model.py:62: UserWarning: torch.nn.utils.clip_grad_norm is now deprecated in favor of torch.nn.utils.clip_grad_norm_.\n",
      "  if IS_TORCH_04: nn.utils.clip_grad_norm(trainable_params_(self.m), self.clip)\n"
     ]
    },
    {
     "name": "stdout",
     "output_type": "stream",
     "text": [
      "\r",
      " 22%|██████████████▊                                                     | 366/1683 [02:20<08:09,  2.69it/s, loss=10.7]"
     ]
    },
    {
     "name": "stderr",
     "output_type": "stream",
     "text": [
      "C:\\Users\\PC\\Projects\\fastai\\courses\\dl1\\ULMFiT-Filipino\\fastai\\model.py:62: UserWarning: torch.nn.utils.clip_grad_norm is now deprecated in favor of torch.nn.utils.clip_grad_norm_.\n",
      "  if IS_TORCH_04: nn.utils.clip_grad_norm(trainable_params_(self.m), self.clip)\n"
     ]
    },
    {
     "name": "stdout",
     "output_type": "stream",
     "text": [
      "\r",
      " 22%|██████████████▊                                                     | 367/1683 [02:21<08:29,  2.59it/s, loss=10.7]"
     ]
    },
    {
     "name": "stderr",
     "output_type": "stream",
     "text": [
      "C:\\Users\\PC\\Projects\\fastai\\courses\\dl1\\ULMFiT-Filipino\\fastai\\model.py:62: UserWarning: torch.nn.utils.clip_grad_norm is now deprecated in favor of torch.nn.utils.clip_grad_norm_.\n",
      "  if IS_TORCH_04: nn.utils.clip_grad_norm(trainable_params_(self.m), self.clip)\n"
     ]
    },
    {
     "name": "stdout",
     "output_type": "stream",
     "text": [
      "\r",
      " 22%|██████████████▊                                                     | 368/1683 [02:21<08:22,  2.62it/s, loss=10.7]"
     ]
    },
    {
     "name": "stderr",
     "output_type": "stream",
     "text": [
      "C:\\Users\\PC\\Projects\\fastai\\courses\\dl1\\ULMFiT-Filipino\\fastai\\model.py:62: UserWarning: torch.nn.utils.clip_grad_norm is now deprecated in favor of torch.nn.utils.clip_grad_norm_.\n",
      "  if IS_TORCH_04: nn.utils.clip_grad_norm(trainable_params_(self.m), self.clip)\n"
     ]
    },
    {
     "name": "stdout",
     "output_type": "stream",
     "text": [
      "\r",
      " 22%|██████████████▉                                                     | 369/1683 [02:21<08:14,  2.66it/s, loss=10.7]"
     ]
    },
    {
     "name": "stderr",
     "output_type": "stream",
     "text": [
      "C:\\Users\\PC\\Projects\\fastai\\courses\\dl1\\ULMFiT-Filipino\\fastai\\model.py:62: UserWarning: torch.nn.utils.clip_grad_norm is now deprecated in favor of torch.nn.utils.clip_grad_norm_.\n",
      "  if IS_TORCH_04: nn.utils.clip_grad_norm(trainable_params_(self.m), self.clip)\n"
     ]
    },
    {
     "name": "stdout",
     "output_type": "stream",
     "text": [
      "\r",
      " 22%|██████████████▉                                                     | 370/1683 [02:22<08:27,  2.59it/s, loss=10.7]"
     ]
    },
    {
     "name": "stderr",
     "output_type": "stream",
     "text": [
      "C:\\Users\\PC\\Projects\\fastai\\courses\\dl1\\ULMFiT-Filipino\\fastai\\model.py:62: UserWarning: torch.nn.utils.clip_grad_norm is now deprecated in favor of torch.nn.utils.clip_grad_norm_.\n",
      "  if IS_TORCH_04: nn.utils.clip_grad_norm(trainable_params_(self.m), self.clip)\n"
     ]
    },
    {
     "name": "stdout",
     "output_type": "stream",
     "text": [
      "\r",
      " 22%|██████████████▉                                                     | 371/1683 [02:22<08:34,  2.55it/s, loss=10.7]"
     ]
    },
    {
     "name": "stderr",
     "output_type": "stream",
     "text": [
      "C:\\Users\\PC\\Projects\\fastai\\courses\\dl1\\ULMFiT-Filipino\\fastai\\model.py:62: UserWarning: torch.nn.utils.clip_grad_norm is now deprecated in favor of torch.nn.utils.clip_grad_norm_.\n",
      "  if IS_TORCH_04: nn.utils.clip_grad_norm(trainable_params_(self.m), self.clip)\n"
     ]
    },
    {
     "name": "stdout",
     "output_type": "stream",
     "text": [
      "\r",
      " 22%|███████████████                                                     | 372/1683 [02:23<08:37,  2.53it/s, loss=10.7]"
     ]
    },
    {
     "name": "stderr",
     "output_type": "stream",
     "text": [
      "C:\\Users\\PC\\Projects\\fastai\\courses\\dl1\\ULMFiT-Filipino\\fastai\\model.py:62: UserWarning: torch.nn.utils.clip_grad_norm is now deprecated in favor of torch.nn.utils.clip_grad_norm_.\n",
      "  if IS_TORCH_04: nn.utils.clip_grad_norm(trainable_params_(self.m), self.clip)\n"
     ]
    },
    {
     "name": "stdout",
     "output_type": "stream",
     "text": [
      "\r",
      " 22%|███████████████                                                     | 373/1683 [02:23<08:42,  2.51it/s, loss=10.7]"
     ]
    },
    {
     "name": "stderr",
     "output_type": "stream",
     "text": [
      "C:\\Users\\PC\\Projects\\fastai\\courses\\dl1\\ULMFiT-Filipino\\fastai\\model.py:62: UserWarning: torch.nn.utils.clip_grad_norm is now deprecated in favor of torch.nn.utils.clip_grad_norm_.\n",
      "  if IS_TORCH_04: nn.utils.clip_grad_norm(trainable_params_(self.m), self.clip)\n"
     ]
    },
    {
     "name": "stdout",
     "output_type": "stream",
     "text": [
      "\r",
      " 22%|███████████████                                                     | 374/1683 [02:23<08:39,  2.52it/s, loss=10.7]"
     ]
    },
    {
     "name": "stderr",
     "output_type": "stream",
     "text": [
      "C:\\Users\\PC\\Projects\\fastai\\courses\\dl1\\ULMFiT-Filipino\\fastai\\model.py:62: UserWarning: torch.nn.utils.clip_grad_norm is now deprecated in favor of torch.nn.utils.clip_grad_norm_.\n",
      "  if IS_TORCH_04: nn.utils.clip_grad_norm(trainable_params_(self.m), self.clip)\n"
     ]
    },
    {
     "name": "stdout",
     "output_type": "stream",
     "text": [
      "\r",
      " 22%|███████████████▏                                                    | 375/1683 [02:24<08:38,  2.52it/s, loss=10.7]"
     ]
    },
    {
     "name": "stderr",
     "output_type": "stream",
     "text": [
      "C:\\Users\\PC\\Projects\\fastai\\courses\\dl1\\ULMFiT-Filipino\\fastai\\model.py:62: UserWarning: torch.nn.utils.clip_grad_norm is now deprecated in favor of torch.nn.utils.clip_grad_norm_.\n",
      "  if IS_TORCH_04: nn.utils.clip_grad_norm(trainable_params_(self.m), self.clip)\n"
     ]
    },
    {
     "name": "stdout",
     "output_type": "stream",
     "text": [
      "\r",
      " 22%|███████████████▏                                                    | 376/1683 [02:24<08:29,  2.56it/s, loss=10.7]"
     ]
    },
    {
     "name": "stderr",
     "output_type": "stream",
     "text": [
      "C:\\Users\\PC\\Projects\\fastai\\courses\\dl1\\ULMFiT-Filipino\\fastai\\model.py:62: UserWarning: torch.nn.utils.clip_grad_norm is now deprecated in favor of torch.nn.utils.clip_grad_norm_.\n",
      "  if IS_TORCH_04: nn.utils.clip_grad_norm(trainable_params_(self.m), self.clip)\n"
     ]
    },
    {
     "name": "stdout",
     "output_type": "stream",
     "text": [
      "\r",
      " 22%|███████████████▏                                                    | 377/1683 [02:25<08:29,  2.56it/s, loss=10.7]"
     ]
    },
    {
     "name": "stderr",
     "output_type": "stream",
     "text": [
      "C:\\Users\\PC\\Projects\\fastai\\courses\\dl1\\ULMFiT-Filipino\\fastai\\model.py:62: UserWarning: torch.nn.utils.clip_grad_norm is now deprecated in favor of torch.nn.utils.clip_grad_norm_.\n",
      "  if IS_TORCH_04: nn.utils.clip_grad_norm(trainable_params_(self.m), self.clip)\n"
     ]
    },
    {
     "name": "stdout",
     "output_type": "stream",
     "text": [
      "\r",
      " 22%|███████████████▎                                                    | 378/1683 [02:25<08:30,  2.56it/s, loss=10.7]"
     ]
    },
    {
     "name": "stderr",
     "output_type": "stream",
     "text": [
      "C:\\Users\\PC\\Projects\\fastai\\courses\\dl1\\ULMFiT-Filipino\\fastai\\model.py:62: UserWarning: torch.nn.utils.clip_grad_norm is now deprecated in favor of torch.nn.utils.clip_grad_norm_.\n",
      "  if IS_TORCH_04: nn.utils.clip_grad_norm(trainable_params_(self.m), self.clip)\n"
     ]
    },
    {
     "name": "stdout",
     "output_type": "stream",
     "text": [
      "\r",
      " 23%|███████████████▎                                                    | 379/1683 [02:25<08:43,  2.49it/s, loss=10.7]"
     ]
    },
    {
     "name": "stderr",
     "output_type": "stream",
     "text": [
      "C:\\Users\\PC\\Projects\\fastai\\courses\\dl1\\ULMFiT-Filipino\\fastai\\model.py:62: UserWarning: torch.nn.utils.clip_grad_norm is now deprecated in favor of torch.nn.utils.clip_grad_norm_.\n",
      "  if IS_TORCH_04: nn.utils.clip_grad_norm(trainable_params_(self.m), self.clip)\n"
     ]
    },
    {
     "name": "stdout",
     "output_type": "stream",
     "text": [
      "\r",
      " 23%|███████████████▎                                                    | 380/1683 [02:26<07:32,  2.88it/s, loss=10.7]"
     ]
    },
    {
     "name": "stderr",
     "output_type": "stream",
     "text": [
      "C:\\Users\\PC\\Projects\\fastai\\courses\\dl1\\ULMFiT-Filipino\\fastai\\model.py:62: UserWarning: torch.nn.utils.clip_grad_norm is now deprecated in favor of torch.nn.utils.clip_grad_norm_.\n",
      "  if IS_TORCH_04: nn.utils.clip_grad_norm(trainable_params_(self.m), self.clip)\n"
     ]
    },
    {
     "name": "stdout",
     "output_type": "stream",
     "text": [
      "\r",
      " 23%|███████████████▍                                                    | 381/1683 [02:26<07:52,  2.75it/s, loss=10.7]"
     ]
    },
    {
     "name": "stderr",
     "output_type": "stream",
     "text": [
      "C:\\Users\\PC\\Projects\\fastai\\courses\\dl1\\ULMFiT-Filipino\\fastai\\model.py:62: UserWarning: torch.nn.utils.clip_grad_norm is now deprecated in favor of torch.nn.utils.clip_grad_norm_.\n",
      "  if IS_TORCH_04: nn.utils.clip_grad_norm(trainable_params_(self.m), self.clip)\n"
     ]
    },
    {
     "name": "stdout",
     "output_type": "stream",
     "text": [
      "\r",
      " 23%|███████████████▍                                                    | 382/1683 [02:26<08:03,  2.69it/s, loss=10.7]"
     ]
    },
    {
     "name": "stderr",
     "output_type": "stream",
     "text": [
      "C:\\Users\\PC\\Projects\\fastai\\courses\\dl1\\ULMFiT-Filipino\\fastai\\model.py:62: UserWarning: torch.nn.utils.clip_grad_norm is now deprecated in favor of torch.nn.utils.clip_grad_norm_.\n",
      "  if IS_TORCH_04: nn.utils.clip_grad_norm(trainable_params_(self.m), self.clip)\n"
     ]
    },
    {
     "name": "stdout",
     "output_type": "stream",
     "text": [
      "\r",
      " 23%|███████████████▍                                                    | 383/1683 [02:27<08:07,  2.67it/s, loss=10.7]"
     ]
    },
    {
     "name": "stderr",
     "output_type": "stream",
     "text": [
      "C:\\Users\\PC\\Projects\\fastai\\courses\\dl1\\ULMFiT-Filipino\\fastai\\model.py:62: UserWarning: torch.nn.utils.clip_grad_norm is now deprecated in favor of torch.nn.utils.clip_grad_norm_.\n",
      "  if IS_TORCH_04: nn.utils.clip_grad_norm(trainable_params_(self.m), self.clip)\n"
     ]
    },
    {
     "name": "stdout",
     "output_type": "stream",
     "text": [
      "\r",
      " 23%|███████████████▌                                                    | 384/1683 [02:27<08:07,  2.67it/s, loss=10.7]"
     ]
    },
    {
     "name": "stderr",
     "output_type": "stream",
     "text": [
      "C:\\Users\\PC\\Projects\\fastai\\courses\\dl1\\ULMFiT-Filipino\\fastai\\model.py:62: UserWarning: torch.nn.utils.clip_grad_norm is now deprecated in favor of torch.nn.utils.clip_grad_norm_.\n",
      "  if IS_TORCH_04: nn.utils.clip_grad_norm(trainable_params_(self.m), self.clip)\n"
     ]
    },
    {
     "name": "stdout",
     "output_type": "stream",
     "text": [
      "\r",
      " 23%|███████████████▌                                                    | 385/1683 [02:27<07:24,  2.92it/s, loss=10.7]"
     ]
    },
    {
     "name": "stderr",
     "output_type": "stream",
     "text": [
      "C:\\Users\\PC\\Projects\\fastai\\courses\\dl1\\ULMFiT-Filipino\\fastai\\model.py:62: UserWarning: torch.nn.utils.clip_grad_norm is now deprecated in favor of torch.nn.utils.clip_grad_norm_.\n",
      "  if IS_TORCH_04: nn.utils.clip_grad_norm(trainable_params_(self.m), self.clip)\n"
     ]
    },
    {
     "name": "stdout",
     "output_type": "stream",
     "text": [
      "\r",
      " 23%|███████████████▌                                                    | 386/1683 [02:28<07:47,  2.77it/s, loss=10.7]"
     ]
    },
    {
     "name": "stderr",
     "output_type": "stream",
     "text": [
      "C:\\Users\\PC\\Projects\\fastai\\courses\\dl1\\ULMFiT-Filipino\\fastai\\model.py:62: UserWarning: torch.nn.utils.clip_grad_norm is now deprecated in favor of torch.nn.utils.clip_grad_norm_.\n",
      "  if IS_TORCH_04: nn.utils.clip_grad_norm(trainable_params_(self.m), self.clip)\n"
     ]
    },
    {
     "name": "stdout",
     "output_type": "stream",
     "text": [
      "\r",
      " 23%|███████████████▋                                                    | 387/1683 [02:28<07:48,  2.76it/s, loss=10.7]"
     ]
    },
    {
     "name": "stderr",
     "output_type": "stream",
     "text": [
      "C:\\Users\\PC\\Projects\\fastai\\courses\\dl1\\ULMFiT-Filipino\\fastai\\model.py:62: UserWarning: torch.nn.utils.clip_grad_norm is now deprecated in favor of torch.nn.utils.clip_grad_norm_.\n",
      "  if IS_TORCH_04: nn.utils.clip_grad_norm(trainable_params_(self.m), self.clip)\n"
     ]
    },
    {
     "name": "stdout",
     "output_type": "stream",
     "text": [
      "\r",
      " 23%|███████████████▋                                                    | 388/1683 [02:29<08:07,  2.65it/s, loss=10.7]"
     ]
    },
    {
     "name": "stderr",
     "output_type": "stream",
     "text": [
      "C:\\Users\\PC\\Projects\\fastai\\courses\\dl1\\ULMFiT-Filipino\\fastai\\model.py:62: UserWarning: torch.nn.utils.clip_grad_norm is now deprecated in favor of torch.nn.utils.clip_grad_norm_.\n",
      "  if IS_TORCH_04: nn.utils.clip_grad_norm(trainable_params_(self.m), self.clip)\n"
     ]
    },
    {
     "name": "stdout",
     "output_type": "stream",
     "text": [
      "\r",
      " 23%|███████████████▋                                                    | 389/1683 [02:29<08:19,  2.59it/s, loss=10.7]"
     ]
    },
    {
     "name": "stderr",
     "output_type": "stream",
     "text": [
      "C:\\Users\\PC\\Projects\\fastai\\courses\\dl1\\ULMFiT-Filipino\\fastai\\model.py:62: UserWarning: torch.nn.utils.clip_grad_norm is now deprecated in favor of torch.nn.utils.clip_grad_norm_.\n",
      "  if IS_TORCH_04: nn.utils.clip_grad_norm(trainable_params_(self.m), self.clip)\n"
     ]
    },
    {
     "name": "stdout",
     "output_type": "stream",
     "text": [
      "\r",
      " 23%|███████████████▊                                                    | 390/1683 [02:29<08:20,  2.58it/s, loss=10.7]"
     ]
    },
    {
     "name": "stderr",
     "output_type": "stream",
     "text": [
      "C:\\Users\\PC\\Projects\\fastai\\courses\\dl1\\ULMFiT-Filipino\\fastai\\model.py:62: UserWarning: torch.nn.utils.clip_grad_norm is now deprecated in favor of torch.nn.utils.clip_grad_norm_.\n",
      "  if IS_TORCH_04: nn.utils.clip_grad_norm(trainable_params_(self.m), self.clip)\n"
     ]
    },
    {
     "name": "stdout",
     "output_type": "stream",
     "text": [
      "\r",
      " 23%|███████████████▊                                                    | 391/1683 [02:30<08:22,  2.57it/s, loss=10.7]"
     ]
    },
    {
     "name": "stderr",
     "output_type": "stream",
     "text": [
      "C:\\Users\\PC\\Projects\\fastai\\courses\\dl1\\ULMFiT-Filipino\\fastai\\model.py:62: UserWarning: torch.nn.utils.clip_grad_norm is now deprecated in favor of torch.nn.utils.clip_grad_norm_.\n",
      "  if IS_TORCH_04: nn.utils.clip_grad_norm(trainable_params_(self.m), self.clip)\n"
     ]
    },
    {
     "name": "stdout",
     "output_type": "stream",
     "text": [
      "\r",
      " 23%|███████████████▊                                                    | 392/1683 [02:30<08:30,  2.53it/s, loss=10.6]"
     ]
    },
    {
     "name": "stderr",
     "output_type": "stream",
     "text": [
      "C:\\Users\\PC\\Projects\\fastai\\courses\\dl1\\ULMFiT-Filipino\\fastai\\model.py:62: UserWarning: torch.nn.utils.clip_grad_norm is now deprecated in favor of torch.nn.utils.clip_grad_norm_.\n",
      "  if IS_TORCH_04: nn.utils.clip_grad_norm(trainable_params_(self.m), self.clip)\n"
     ]
    },
    {
     "name": "stdout",
     "output_type": "stream",
     "text": [
      "\r",
      " 23%|███████████████▉                                                    | 393/1683 [02:30<07:54,  2.72it/s, loss=10.6]"
     ]
    },
    {
     "name": "stderr",
     "output_type": "stream",
     "text": [
      "C:\\Users\\PC\\Projects\\fastai\\courses\\dl1\\ULMFiT-Filipino\\fastai\\model.py:62: UserWarning: torch.nn.utils.clip_grad_norm is now deprecated in favor of torch.nn.utils.clip_grad_norm_.\n",
      "  if IS_TORCH_04: nn.utils.clip_grad_norm(trainable_params_(self.m), self.clip)\n"
     ]
    },
    {
     "name": "stdout",
     "output_type": "stream",
     "text": [
      "\r",
      " 23%|███████████████▉                                                    | 394/1683 [02:31<07:50,  2.74it/s, loss=10.6]"
     ]
    },
    {
     "name": "stderr",
     "output_type": "stream",
     "text": [
      "C:\\Users\\PC\\Projects\\fastai\\courses\\dl1\\ULMFiT-Filipino\\fastai\\model.py:62: UserWarning: torch.nn.utils.clip_grad_norm is now deprecated in favor of torch.nn.utils.clip_grad_norm_.\n",
      "  if IS_TORCH_04: nn.utils.clip_grad_norm(trainable_params_(self.m), self.clip)\n"
     ]
    },
    {
     "name": "stdout",
     "output_type": "stream",
     "text": [
      "\r",
      " 23%|███████████████▉                                                    | 395/1683 [02:31<08:10,  2.63it/s, loss=10.6]"
     ]
    },
    {
     "name": "stderr",
     "output_type": "stream",
     "text": [
      "C:\\Users\\PC\\Projects\\fastai\\courses\\dl1\\ULMFiT-Filipino\\fastai\\model.py:62: UserWarning: torch.nn.utils.clip_grad_norm is now deprecated in favor of torch.nn.utils.clip_grad_norm_.\n",
      "  if IS_TORCH_04: nn.utils.clip_grad_norm(trainable_params_(self.m), self.clip)\n"
     ]
    },
    {
     "name": "stdout",
     "output_type": "stream",
     "text": [
      "\r",
      " 24%|████████████████                                                    | 396/1683 [02:32<08:15,  2.60it/s, loss=10.6]"
     ]
    },
    {
     "name": "stderr",
     "output_type": "stream",
     "text": [
      "C:\\Users\\PC\\Projects\\fastai\\courses\\dl1\\ULMFiT-Filipino\\fastai\\model.py:62: UserWarning: torch.nn.utils.clip_grad_norm is now deprecated in favor of torch.nn.utils.clip_grad_norm_.\n",
      "  if IS_TORCH_04: nn.utils.clip_grad_norm(trainable_params_(self.m), self.clip)\n"
     ]
    },
    {
     "name": "stdout",
     "output_type": "stream",
     "text": [
      "\r",
      " 24%|████████████████                                                    | 397/1683 [02:32<08:21,  2.56it/s, loss=10.6]"
     ]
    },
    {
     "name": "stderr",
     "output_type": "stream",
     "text": [
      "C:\\Users\\PC\\Projects\\fastai\\courses\\dl1\\ULMFiT-Filipino\\fastai\\model.py:62: UserWarning: torch.nn.utils.clip_grad_norm is now deprecated in favor of torch.nn.utils.clip_grad_norm_.\n",
      "  if IS_TORCH_04: nn.utils.clip_grad_norm(trainable_params_(self.m), self.clip)\n"
     ]
    },
    {
     "name": "stdout",
     "output_type": "stream",
     "text": [
      "\r",
      " 24%|████████████████                                                    | 398/1683 [02:32<08:32,  2.51it/s, loss=10.6]"
     ]
    },
    {
     "name": "stderr",
     "output_type": "stream",
     "text": [
      "C:\\Users\\PC\\Projects\\fastai\\courses\\dl1\\ULMFiT-Filipino\\fastai\\model.py:62: UserWarning: torch.nn.utils.clip_grad_norm is now deprecated in favor of torch.nn.utils.clip_grad_norm_.\n",
      "  if IS_TORCH_04: nn.utils.clip_grad_norm(trainable_params_(self.m), self.clip)\n"
     ]
    },
    {
     "name": "stdout",
     "output_type": "stream",
     "text": [
      "\r",
      " 24%|████████████████                                                    | 399/1683 [02:33<08:30,  2.51it/s, loss=10.6]"
     ]
    },
    {
     "name": "stderr",
     "output_type": "stream",
     "text": [
      "C:\\Users\\PC\\Projects\\fastai\\courses\\dl1\\ULMFiT-Filipino\\fastai\\model.py:62: UserWarning: torch.nn.utils.clip_grad_norm is now deprecated in favor of torch.nn.utils.clip_grad_norm_.\n",
      "  if IS_TORCH_04: nn.utils.clip_grad_norm(trainable_params_(self.m), self.clip)\n"
     ]
    },
    {
     "name": "stdout",
     "output_type": "stream",
     "text": [
      "\r",
      " 24%|████████████████▏                                                   | 400/1683 [02:33<08:19,  2.57it/s, loss=10.6]"
     ]
    },
    {
     "name": "stderr",
     "output_type": "stream",
     "text": [
      "C:\\Users\\PC\\Projects\\fastai\\courses\\dl1\\ULMFiT-Filipino\\fastai\\model.py:62: UserWarning: torch.nn.utils.clip_grad_norm is now deprecated in favor of torch.nn.utils.clip_grad_norm_.\n",
      "  if IS_TORCH_04: nn.utils.clip_grad_norm(trainable_params_(self.m), self.clip)\n"
     ]
    },
    {
     "name": "stdout",
     "output_type": "stream",
     "text": [
      "\r",
      " 24%|████████████████▏                                                   | 401/1683 [02:34<08:12,  2.60it/s, loss=10.6]"
     ]
    },
    {
     "name": "stderr",
     "output_type": "stream",
     "text": [
      "C:\\Users\\PC\\Projects\\fastai\\courses\\dl1\\ULMFiT-Filipino\\fastai\\model.py:62: UserWarning: torch.nn.utils.clip_grad_norm is now deprecated in favor of torch.nn.utils.clip_grad_norm_.\n",
      "  if IS_TORCH_04: nn.utils.clip_grad_norm(trainable_params_(self.m), self.clip)\n"
     ]
    },
    {
     "name": "stdout",
     "output_type": "stream",
     "text": [
      "\r",
      " 24%|████████████████▏                                                   | 402/1683 [02:34<08:31,  2.50it/s, loss=10.6]"
     ]
    },
    {
     "name": "stderr",
     "output_type": "stream",
     "text": [
      "C:\\Users\\PC\\Projects\\fastai\\courses\\dl1\\ULMFiT-Filipino\\fastai\\model.py:62: UserWarning: torch.nn.utils.clip_grad_norm is now deprecated in favor of torch.nn.utils.clip_grad_norm_.\n",
      "  if IS_TORCH_04: nn.utils.clip_grad_norm(trainable_params_(self.m), self.clip)\n"
     ]
    },
    {
     "name": "stdout",
     "output_type": "stream",
     "text": [
      "\r",
      " 24%|████████████████▎                                                   | 403/1683 [02:34<08:22,  2.55it/s, loss=10.6]"
     ]
    },
    {
     "name": "stderr",
     "output_type": "stream",
     "text": [
      "C:\\Users\\PC\\Projects\\fastai\\courses\\dl1\\ULMFiT-Filipino\\fastai\\model.py:62: UserWarning: torch.nn.utils.clip_grad_norm is now deprecated in favor of torch.nn.utils.clip_grad_norm_.\n",
      "  if IS_TORCH_04: nn.utils.clip_grad_norm(trainable_params_(self.m), self.clip)\n"
     ]
    },
    {
     "name": "stdout",
     "output_type": "stream",
     "text": [
      "\r",
      " 24%|████████████████▎                                                   | 404/1683 [02:35<08:30,  2.51it/s, loss=10.6]"
     ]
    },
    {
     "name": "stderr",
     "output_type": "stream",
     "text": [
      "C:\\Users\\PC\\Projects\\fastai\\courses\\dl1\\ULMFiT-Filipino\\fastai\\model.py:62: UserWarning: torch.nn.utils.clip_grad_norm is now deprecated in favor of torch.nn.utils.clip_grad_norm_.\n",
      "  if IS_TORCH_04: nn.utils.clip_grad_norm(trainable_params_(self.m), self.clip)\n"
     ]
    },
    {
     "name": "stdout",
     "output_type": "stream",
     "text": [
      "\r",
      " 24%|████████████████▎                                                   | 405/1683 [02:35<08:16,  2.57it/s, loss=10.6]"
     ]
    },
    {
     "name": "stderr",
     "output_type": "stream",
     "text": [
      "C:\\Users\\PC\\Projects\\fastai\\courses\\dl1\\ULMFiT-Filipino\\fastai\\model.py:62: UserWarning: torch.nn.utils.clip_grad_norm is now deprecated in favor of torch.nn.utils.clip_grad_norm_.\n",
      "  if IS_TORCH_04: nn.utils.clip_grad_norm(trainable_params_(self.m), self.clip)\n"
     ]
    },
    {
     "name": "stdout",
     "output_type": "stream",
     "text": [
      "\r",
      " 24%|████████████████▍                                                   | 406/1683 [02:36<08:18,  2.56it/s, loss=10.6]"
     ]
    },
    {
     "name": "stderr",
     "output_type": "stream",
     "text": [
      "C:\\Users\\PC\\Projects\\fastai\\courses\\dl1\\ULMFiT-Filipino\\fastai\\model.py:62: UserWarning: torch.nn.utils.clip_grad_norm is now deprecated in favor of torch.nn.utils.clip_grad_norm_.\n",
      "  if IS_TORCH_04: nn.utils.clip_grad_norm(trainable_params_(self.m), self.clip)\n"
     ]
    },
    {
     "name": "stdout",
     "output_type": "stream",
     "text": [
      "\r",
      " 24%|████████████████▍                                                   | 407/1683 [02:36<08:24,  2.53it/s, loss=10.6]"
     ]
    },
    {
     "name": "stderr",
     "output_type": "stream",
     "text": [
      "C:\\Users\\PC\\Projects\\fastai\\courses\\dl1\\ULMFiT-Filipino\\fastai\\model.py:62: UserWarning: torch.nn.utils.clip_grad_norm is now deprecated in favor of torch.nn.utils.clip_grad_norm_.\n",
      "  if IS_TORCH_04: nn.utils.clip_grad_norm(trainable_params_(self.m), self.clip)\n"
     ]
    },
    {
     "name": "stdout",
     "output_type": "stream",
     "text": [
      "\r",
      " 24%|████████████████▍                                                   | 408/1683 [02:36<08:06,  2.62it/s, loss=10.6]"
     ]
    },
    {
     "name": "stderr",
     "output_type": "stream",
     "text": [
      "C:\\Users\\PC\\Projects\\fastai\\courses\\dl1\\ULMFiT-Filipino\\fastai\\model.py:62: UserWarning: torch.nn.utils.clip_grad_norm is now deprecated in favor of torch.nn.utils.clip_grad_norm_.\n",
      "  if IS_TORCH_04: nn.utils.clip_grad_norm(trainable_params_(self.m), self.clip)\n"
     ]
    },
    {
     "name": "stdout",
     "output_type": "stream",
     "text": [
      "\r",
      " 24%|████████████████▌                                                   | 409/1683 [02:37<08:16,  2.56it/s, loss=10.6]"
     ]
    },
    {
     "name": "stderr",
     "output_type": "stream",
     "text": [
      "C:\\Users\\PC\\Projects\\fastai\\courses\\dl1\\ULMFiT-Filipino\\fastai\\model.py:62: UserWarning: torch.nn.utils.clip_grad_norm is now deprecated in favor of torch.nn.utils.clip_grad_norm_.\n",
      "  if IS_TORCH_04: nn.utils.clip_grad_norm(trainable_params_(self.m), self.clip)\n"
     ]
    },
    {
     "name": "stdout",
     "output_type": "stream",
     "text": [
      "\r",
      " 24%|████████████████▌                                                   | 410/1683 [02:37<08:05,  2.62it/s, loss=10.6]"
     ]
    },
    {
     "name": "stderr",
     "output_type": "stream",
     "text": [
      "C:\\Users\\PC\\Projects\\fastai\\courses\\dl1\\ULMFiT-Filipino\\fastai\\model.py:62: UserWarning: torch.nn.utils.clip_grad_norm is now deprecated in favor of torch.nn.utils.clip_grad_norm_.\n",
      "  if IS_TORCH_04: nn.utils.clip_grad_norm(trainable_params_(self.m), self.clip)\n"
     ]
    },
    {
     "name": "stdout",
     "output_type": "stream",
     "text": [
      "\r",
      " 24%|████████████████▌                                                   | 411/1683 [02:38<08:19,  2.55it/s, loss=10.6]"
     ]
    },
    {
     "name": "stderr",
     "output_type": "stream",
     "text": [
      "C:\\Users\\PC\\Projects\\fastai\\courses\\dl1\\ULMFiT-Filipino\\fastai\\model.py:62: UserWarning: torch.nn.utils.clip_grad_norm is now deprecated in favor of torch.nn.utils.clip_grad_norm_.\n",
      "  if IS_TORCH_04: nn.utils.clip_grad_norm(trainable_params_(self.m), self.clip)\n"
     ]
    },
    {
     "name": "stdout",
     "output_type": "stream",
     "text": [
      "\r",
      " 24%|████████████████▋                                                   | 412/1683 [02:38<08:17,  2.55it/s, loss=10.6]"
     ]
    },
    {
     "name": "stderr",
     "output_type": "stream",
     "text": [
      "C:\\Users\\PC\\Projects\\fastai\\courses\\dl1\\ULMFiT-Filipino\\fastai\\model.py:62: UserWarning: torch.nn.utils.clip_grad_norm is now deprecated in favor of torch.nn.utils.clip_grad_norm_.\n",
      "  if IS_TORCH_04: nn.utils.clip_grad_norm(trainable_params_(self.m), self.clip)\n"
     ]
    },
    {
     "name": "stdout",
     "output_type": "stream",
     "text": [
      "\r",
      " 25%|████████████████▋                                                   | 413/1683 [02:38<08:21,  2.53it/s, loss=10.6]"
     ]
    },
    {
     "name": "stderr",
     "output_type": "stream",
     "text": [
      "C:\\Users\\PC\\Projects\\fastai\\courses\\dl1\\ULMFiT-Filipino\\fastai\\model.py:62: UserWarning: torch.nn.utils.clip_grad_norm is now deprecated in favor of torch.nn.utils.clip_grad_norm_.\n",
      "  if IS_TORCH_04: nn.utils.clip_grad_norm(trainable_params_(self.m), self.clip)\n"
     ]
    },
    {
     "name": "stdout",
     "output_type": "stream",
     "text": [
      "\r",
      " 25%|████████████████▋                                                   | 414/1683 [02:39<08:23,  2.52it/s, loss=10.6]"
     ]
    },
    {
     "name": "stderr",
     "output_type": "stream",
     "text": [
      "C:\\Users\\PC\\Projects\\fastai\\courses\\dl1\\ULMFiT-Filipino\\fastai\\model.py:62: UserWarning: torch.nn.utils.clip_grad_norm is now deprecated in favor of torch.nn.utils.clip_grad_norm_.\n",
      "  if IS_TORCH_04: nn.utils.clip_grad_norm(trainable_params_(self.m), self.clip)\n"
     ]
    },
    {
     "name": "stdout",
     "output_type": "stream",
     "text": [
      "\r",
      " 25%|████████████████▊                                                   | 415/1683 [02:39<08:36,  2.46it/s, loss=10.6]"
     ]
    },
    {
     "name": "stderr",
     "output_type": "stream",
     "text": [
      "C:\\Users\\PC\\Projects\\fastai\\courses\\dl1\\ULMFiT-Filipino\\fastai\\model.py:62: UserWarning: torch.nn.utils.clip_grad_norm is now deprecated in favor of torch.nn.utils.clip_grad_norm_.\n",
      "  if IS_TORCH_04: nn.utils.clip_grad_norm(trainable_params_(self.m), self.clip)\n"
     ]
    },
    {
     "name": "stdout",
     "output_type": "stream",
     "text": [
      "\r",
      " 25%|████████████████▊                                                   | 416/1683 [02:40<08:33,  2.47it/s, loss=10.6]"
     ]
    },
    {
     "name": "stderr",
     "output_type": "stream",
     "text": [
      "C:\\Users\\PC\\Projects\\fastai\\courses\\dl1\\ULMFiT-Filipino\\fastai\\model.py:62: UserWarning: torch.nn.utils.clip_grad_norm is now deprecated in favor of torch.nn.utils.clip_grad_norm_.\n",
      "  if IS_TORCH_04: nn.utils.clip_grad_norm(trainable_params_(self.m), self.clip)\n"
     ]
    },
    {
     "name": "stdout",
     "output_type": "stream",
     "text": [
      "\r",
      " 25%|████████████████▊                                                   | 417/1683 [02:40<08:39,  2.44it/s, loss=10.6]"
     ]
    },
    {
     "name": "stderr",
     "output_type": "stream",
     "text": [
      "C:\\Users\\PC\\Projects\\fastai\\courses\\dl1\\ULMFiT-Filipino\\fastai\\model.py:62: UserWarning: torch.nn.utils.clip_grad_norm is now deprecated in favor of torch.nn.utils.clip_grad_norm_.\n",
      "  if IS_TORCH_04: nn.utils.clip_grad_norm(trainable_params_(self.m), self.clip)\n"
     ]
    },
    {
     "name": "stdout",
     "output_type": "stream",
     "text": [
      "\r",
      " 25%|████████████████▉                                                   | 418/1683 [02:40<08:36,  2.45it/s, loss=10.6]"
     ]
    },
    {
     "name": "stderr",
     "output_type": "stream",
     "text": [
      "C:\\Users\\PC\\Projects\\fastai\\courses\\dl1\\ULMFiT-Filipino\\fastai\\model.py:62: UserWarning: torch.nn.utils.clip_grad_norm is now deprecated in favor of torch.nn.utils.clip_grad_norm_.\n",
      "  if IS_TORCH_04: nn.utils.clip_grad_norm(trainable_params_(self.m), self.clip)\n"
     ]
    },
    {
     "name": "stdout",
     "output_type": "stream",
     "text": [
      "\r",
      " 25%|████████████████▉                                                   | 419/1683 [02:41<08:26,  2.50it/s, loss=10.6]"
     ]
    },
    {
     "name": "stderr",
     "output_type": "stream",
     "text": [
      "C:\\Users\\PC\\Projects\\fastai\\courses\\dl1\\ULMFiT-Filipino\\fastai\\model.py:62: UserWarning: torch.nn.utils.clip_grad_norm is now deprecated in favor of torch.nn.utils.clip_grad_norm_.\n",
      "  if IS_TORCH_04: nn.utils.clip_grad_norm(trainable_params_(self.m), self.clip)\n"
     ]
    },
    {
     "name": "stdout",
     "output_type": "stream",
     "text": [
      "\r",
      " 25%|████████████████▉                                                   | 420/1683 [02:41<08:24,  2.50it/s, loss=10.6]"
     ]
    },
    {
     "name": "stderr",
     "output_type": "stream",
     "text": [
      "C:\\Users\\PC\\Projects\\fastai\\courses\\dl1\\ULMFiT-Filipino\\fastai\\model.py:62: UserWarning: torch.nn.utils.clip_grad_norm is now deprecated in favor of torch.nn.utils.clip_grad_norm_.\n",
      "  if IS_TORCH_04: nn.utils.clip_grad_norm(trainable_params_(self.m), self.clip)\n"
     ]
    },
    {
     "name": "stdout",
     "output_type": "stream",
     "text": [
      "\r",
      " 25%|█████████████████                                                   | 421/1683 [02:42<08:29,  2.48it/s, loss=10.6]"
     ]
    },
    {
     "name": "stderr",
     "output_type": "stream",
     "text": [
      "C:\\Users\\PC\\Projects\\fastai\\courses\\dl1\\ULMFiT-Filipino\\fastai\\model.py:62: UserWarning: torch.nn.utils.clip_grad_norm is now deprecated in favor of torch.nn.utils.clip_grad_norm_.\n",
      "  if IS_TORCH_04: nn.utils.clip_grad_norm(trainable_params_(self.m), self.clip)\n"
     ]
    },
    {
     "name": "stdout",
     "output_type": "stream",
     "text": [
      "\r",
      " 25%|█████████████████                                                   | 422/1683 [02:42<08:20,  2.52it/s, loss=10.6]"
     ]
    },
    {
     "name": "stderr",
     "output_type": "stream",
     "text": [
      "C:\\Users\\PC\\Projects\\fastai\\courses\\dl1\\ULMFiT-Filipino\\fastai\\model.py:62: UserWarning: torch.nn.utils.clip_grad_norm is now deprecated in favor of torch.nn.utils.clip_grad_norm_.\n",
      "  if IS_TORCH_04: nn.utils.clip_grad_norm(trainable_params_(self.m), self.clip)\n"
     ]
    },
    {
     "name": "stdout",
     "output_type": "stream",
     "text": [
      "\r",
      " 25%|█████████████████                                                   | 423/1683 [02:42<08:17,  2.53it/s, loss=10.6]"
     ]
    },
    {
     "name": "stderr",
     "output_type": "stream",
     "text": [
      "C:\\Users\\PC\\Projects\\fastai\\courses\\dl1\\ULMFiT-Filipino\\fastai\\model.py:62: UserWarning: torch.nn.utils.clip_grad_norm is now deprecated in favor of torch.nn.utils.clip_grad_norm_.\n",
      "  if IS_TORCH_04: nn.utils.clip_grad_norm(trainable_params_(self.m), self.clip)\n"
     ]
    },
    {
     "name": "stdout",
     "output_type": "stream",
     "text": [
      "\r",
      " 25%|█████████████████▏                                                  | 424/1683 [02:43<08:12,  2.56it/s, loss=10.6]"
     ]
    },
    {
     "name": "stderr",
     "output_type": "stream",
     "text": [
      "C:\\Users\\PC\\Projects\\fastai\\courses\\dl1\\ULMFiT-Filipino\\fastai\\model.py:62: UserWarning: torch.nn.utils.clip_grad_norm is now deprecated in favor of torch.nn.utils.clip_grad_norm_.\n",
      "  if IS_TORCH_04: nn.utils.clip_grad_norm(trainable_params_(self.m), self.clip)\n"
     ]
    },
    {
     "name": "stdout",
     "output_type": "stream",
     "text": [
      "\r",
      " 25%|█████████████████▏                                                  | 425/1683 [02:43<08:09,  2.57it/s, loss=10.6]"
     ]
    },
    {
     "name": "stderr",
     "output_type": "stream",
     "text": [
      "C:\\Users\\PC\\Projects\\fastai\\courses\\dl1\\ULMFiT-Filipino\\fastai\\model.py:62: UserWarning: torch.nn.utils.clip_grad_norm is now deprecated in favor of torch.nn.utils.clip_grad_norm_.\n",
      "  if IS_TORCH_04: nn.utils.clip_grad_norm(trainable_params_(self.m), self.clip)\n"
     ]
    },
    {
     "name": "stdout",
     "output_type": "stream",
     "text": [
      "\r",
      " 25%|█████████████████▏                                                  | 426/1683 [02:43<08:09,  2.57it/s, loss=10.6]"
     ]
    },
    {
     "name": "stderr",
     "output_type": "stream",
     "text": [
      "C:\\Users\\PC\\Projects\\fastai\\courses\\dl1\\ULMFiT-Filipino\\fastai\\model.py:62: UserWarning: torch.nn.utils.clip_grad_norm is now deprecated in favor of torch.nn.utils.clip_grad_norm_.\n",
      "  if IS_TORCH_04: nn.utils.clip_grad_norm(trainable_params_(self.m), self.clip)\n"
     ]
    },
    {
     "name": "stdout",
     "output_type": "stream",
     "text": [
      "\r",
      " 25%|█████████████████▎                                                  | 427/1683 [02:44<07:32,  2.78it/s, loss=10.6]"
     ]
    },
    {
     "name": "stderr",
     "output_type": "stream",
     "text": [
      "C:\\Users\\PC\\Projects\\fastai\\courses\\dl1\\ULMFiT-Filipino\\fastai\\model.py:62: UserWarning: torch.nn.utils.clip_grad_norm is now deprecated in favor of torch.nn.utils.clip_grad_norm_.\n",
      "  if IS_TORCH_04: nn.utils.clip_grad_norm(trainable_params_(self.m), self.clip)\n"
     ]
    },
    {
     "name": "stdout",
     "output_type": "stream",
     "text": [
      "\r",
      " 25%|█████████████████▎                                                  | 428/1683 [02:44<07:31,  2.78it/s, loss=10.6]"
     ]
    },
    {
     "name": "stderr",
     "output_type": "stream",
     "text": [
      "C:\\Users\\PC\\Projects\\fastai\\courses\\dl1\\ULMFiT-Filipino\\fastai\\model.py:62: UserWarning: torch.nn.utils.clip_grad_norm is now deprecated in favor of torch.nn.utils.clip_grad_norm_.\n",
      "  if IS_TORCH_04: nn.utils.clip_grad_norm(trainable_params_(self.m), self.clip)\n"
     ]
    },
    {
     "name": "stdout",
     "output_type": "stream",
     "text": [
      "\r",
      " 25%|█████████████████▎                                                  | 429/1683 [02:45<07:55,  2.64it/s, loss=10.6]"
     ]
    },
    {
     "name": "stderr",
     "output_type": "stream",
     "text": [
      "C:\\Users\\PC\\Projects\\fastai\\courses\\dl1\\ULMFiT-Filipino\\fastai\\model.py:62: UserWarning: torch.nn.utils.clip_grad_norm is now deprecated in favor of torch.nn.utils.clip_grad_norm_.\n",
      "  if IS_TORCH_04: nn.utils.clip_grad_norm(trainable_params_(self.m), self.clip)\n"
     ]
    },
    {
     "name": "stdout",
     "output_type": "stream",
     "text": [
      "\r",
      " 26%|█████████████████▎                                                  | 430/1683 [02:45<08:04,  2.59it/s, loss=10.6]"
     ]
    },
    {
     "name": "stderr",
     "output_type": "stream",
     "text": [
      "C:\\Users\\PC\\Projects\\fastai\\courses\\dl1\\ULMFiT-Filipino\\fastai\\model.py:62: UserWarning: torch.nn.utils.clip_grad_norm is now deprecated in favor of torch.nn.utils.clip_grad_norm_.\n",
      "  if IS_TORCH_04: nn.utils.clip_grad_norm(trainable_params_(self.m), self.clip)\n"
     ]
    },
    {
     "name": "stdout",
     "output_type": "stream",
     "text": [
      "\r",
      " 26%|█████████████████▍                                                  | 431/1683 [02:45<07:17,  2.86it/s, loss=10.6]"
     ]
    },
    {
     "name": "stderr",
     "output_type": "stream",
     "text": [
      "C:\\Users\\PC\\Projects\\fastai\\courses\\dl1\\ULMFiT-Filipino\\fastai\\model.py:62: UserWarning: torch.nn.utils.clip_grad_norm is now deprecated in favor of torch.nn.utils.clip_grad_norm_.\n",
      "  if IS_TORCH_04: nn.utils.clip_grad_norm(trainable_params_(self.m), self.clip)\n"
     ]
    },
    {
     "name": "stdout",
     "output_type": "stream",
     "text": [
      "\r",
      " 26%|█████████████████▍                                                  | 432/1683 [02:46<07:20,  2.84it/s, loss=10.6]"
     ]
    },
    {
     "name": "stderr",
     "output_type": "stream",
     "text": [
      "C:\\Users\\PC\\Projects\\fastai\\courses\\dl1\\ULMFiT-Filipino\\fastai\\model.py:62: UserWarning: torch.nn.utils.clip_grad_norm is now deprecated in favor of torch.nn.utils.clip_grad_norm_.\n",
      "  if IS_TORCH_04: nn.utils.clip_grad_norm(trainable_params_(self.m), self.clip)\n"
     ]
    },
    {
     "name": "stdout",
     "output_type": "stream",
     "text": [
      "\r",
      " 26%|█████████████████▍                                                  | 433/1683 [02:46<07:37,  2.73it/s, loss=10.6]"
     ]
    },
    {
     "name": "stderr",
     "output_type": "stream",
     "text": [
      "C:\\Users\\PC\\Projects\\fastai\\courses\\dl1\\ULMFiT-Filipino\\fastai\\model.py:62: UserWarning: torch.nn.utils.clip_grad_norm is now deprecated in favor of torch.nn.utils.clip_grad_norm_.\n",
      "  if IS_TORCH_04: nn.utils.clip_grad_norm(trainable_params_(self.m), self.clip)\n"
     ]
    },
    {
     "name": "stdout",
     "output_type": "stream",
     "text": [
      "\r",
      " 26%|█████████████████▌                                                  | 434/1683 [02:46<07:55,  2.63it/s, loss=10.6]"
     ]
    },
    {
     "name": "stderr",
     "output_type": "stream",
     "text": [
      "C:\\Users\\PC\\Projects\\fastai\\courses\\dl1\\ULMFiT-Filipino\\fastai\\model.py:62: UserWarning: torch.nn.utils.clip_grad_norm is now deprecated in favor of torch.nn.utils.clip_grad_norm_.\n",
      "  if IS_TORCH_04: nn.utils.clip_grad_norm(trainable_params_(self.m), self.clip)\n"
     ]
    },
    {
     "name": "stdout",
     "output_type": "stream",
     "text": [
      "\r",
      " 26%|█████████████████▌                                                  | 435/1683 [02:47<08:08,  2.55it/s, loss=10.6]"
     ]
    },
    {
     "name": "stderr",
     "output_type": "stream",
     "text": [
      "C:\\Users\\PC\\Projects\\fastai\\courses\\dl1\\ULMFiT-Filipino\\fastai\\model.py:62: UserWarning: torch.nn.utils.clip_grad_norm is now deprecated in favor of torch.nn.utils.clip_grad_norm_.\n",
      "  if IS_TORCH_04: nn.utils.clip_grad_norm(trainable_params_(self.m), self.clip)\n"
     ]
    },
    {
     "name": "stdout",
     "output_type": "stream",
     "text": [
      "\r",
      " 26%|█████████████████▌                                                  | 436/1683 [02:47<08:04,  2.57it/s, loss=10.6]"
     ]
    },
    {
     "name": "stderr",
     "output_type": "stream",
     "text": [
      "C:\\Users\\PC\\Projects\\fastai\\courses\\dl1\\ULMFiT-Filipino\\fastai\\model.py:62: UserWarning: torch.nn.utils.clip_grad_norm is now deprecated in favor of torch.nn.utils.clip_grad_norm_.\n",
      "  if IS_TORCH_04: nn.utils.clip_grad_norm(trainable_params_(self.m), self.clip)\n"
     ]
    },
    {
     "name": "stdout",
     "output_type": "stream",
     "text": [
      "\r",
      " 26%|█████████████████▋                                                  | 437/1683 [02:48<08:11,  2.53it/s, loss=10.6]"
     ]
    },
    {
     "name": "stderr",
     "output_type": "stream",
     "text": [
      "C:\\Users\\PC\\Projects\\fastai\\courses\\dl1\\ULMFiT-Filipino\\fastai\\model.py:62: UserWarning: torch.nn.utils.clip_grad_norm is now deprecated in favor of torch.nn.utils.clip_grad_norm_.\n",
      "  if IS_TORCH_04: nn.utils.clip_grad_norm(trainable_params_(self.m), self.clip)\n"
     ]
    },
    {
     "name": "stdout",
     "output_type": "stream",
     "text": [
      "\r",
      " 26%|█████████████████▋                                                  | 438/1683 [02:48<08:07,  2.56it/s, loss=10.6]"
     ]
    },
    {
     "name": "stderr",
     "output_type": "stream",
     "text": [
      "C:\\Users\\PC\\Projects\\fastai\\courses\\dl1\\ULMFiT-Filipino\\fastai\\model.py:62: UserWarning: torch.nn.utils.clip_grad_norm is now deprecated in favor of torch.nn.utils.clip_grad_norm_.\n",
      "  if IS_TORCH_04: nn.utils.clip_grad_norm(trainable_params_(self.m), self.clip)\n"
     ]
    },
    {
     "name": "stdout",
     "output_type": "stream",
     "text": [
      "\r",
      " 26%|█████████████████▋                                                  | 439/1683 [02:48<08:00,  2.59it/s, loss=10.6]"
     ]
    },
    {
     "name": "stderr",
     "output_type": "stream",
     "text": [
      "C:\\Users\\PC\\Projects\\fastai\\courses\\dl1\\ULMFiT-Filipino\\fastai\\model.py:62: UserWarning: torch.nn.utils.clip_grad_norm is now deprecated in favor of torch.nn.utils.clip_grad_norm_.\n",
      "  if IS_TORCH_04: nn.utils.clip_grad_norm(trainable_params_(self.m), self.clip)\n"
     ]
    },
    {
     "name": "stdout",
     "output_type": "stream",
     "text": [
      "\r",
      " 26%|█████████████████▊                                                  | 440/1683 [02:49<08:06,  2.56it/s, loss=10.6]"
     ]
    },
    {
     "name": "stderr",
     "output_type": "stream",
     "text": [
      "C:\\Users\\PC\\Projects\\fastai\\courses\\dl1\\ULMFiT-Filipino\\fastai\\model.py:62: UserWarning: torch.nn.utils.clip_grad_norm is now deprecated in favor of torch.nn.utils.clip_grad_norm_.\n",
      "  if IS_TORCH_04: nn.utils.clip_grad_norm(trainable_params_(self.m), self.clip)\n"
     ]
    },
    {
     "name": "stdout",
     "output_type": "stream",
     "text": [
      "\r",
      " 26%|█████████████████▊                                                  | 441/1683 [02:49<08:05,  2.56it/s, loss=10.6]"
     ]
    },
    {
     "name": "stderr",
     "output_type": "stream",
     "text": [
      "C:\\Users\\PC\\Projects\\fastai\\courses\\dl1\\ULMFiT-Filipino\\fastai\\model.py:62: UserWarning: torch.nn.utils.clip_grad_norm is now deprecated in favor of torch.nn.utils.clip_grad_norm_.\n",
      "  if IS_TORCH_04: nn.utils.clip_grad_norm(trainable_params_(self.m), self.clip)\n"
     ]
    },
    {
     "name": "stdout",
     "output_type": "stream",
     "text": [
      "\r",
      " 26%|█████████████████▊                                                  | 442/1683 [02:50<08:08,  2.54it/s, loss=10.6]"
     ]
    },
    {
     "name": "stderr",
     "output_type": "stream",
     "text": [
      "C:\\Users\\PC\\Projects\\fastai\\courses\\dl1\\ULMFiT-Filipino\\fastai\\model.py:62: UserWarning: torch.nn.utils.clip_grad_norm is now deprecated in favor of torch.nn.utils.clip_grad_norm_.\n",
      "  if IS_TORCH_04: nn.utils.clip_grad_norm(trainable_params_(self.m), self.clip)\n"
     ]
    },
    {
     "name": "stdout",
     "output_type": "stream",
     "text": [
      "\r",
      " 26%|█████████████████▉                                                  | 443/1683 [02:50<07:22,  2.80it/s, loss=10.6]"
     ]
    },
    {
     "name": "stderr",
     "output_type": "stream",
     "text": [
      "C:\\Users\\PC\\Projects\\fastai\\courses\\dl1\\ULMFiT-Filipino\\fastai\\model.py:62: UserWarning: torch.nn.utils.clip_grad_norm is now deprecated in favor of torch.nn.utils.clip_grad_norm_.\n",
      "  if IS_TORCH_04: nn.utils.clip_grad_norm(trainable_params_(self.m), self.clip)\n"
     ]
    },
    {
     "name": "stdout",
     "output_type": "stream",
     "text": [
      "\r",
      " 26%|█████████████████▉                                                  | 444/1683 [02:50<07:28,  2.76it/s, loss=10.6]"
     ]
    },
    {
     "name": "stderr",
     "output_type": "stream",
     "text": [
      "C:\\Users\\PC\\Projects\\fastai\\courses\\dl1\\ULMFiT-Filipino\\fastai\\model.py:62: UserWarning: torch.nn.utils.clip_grad_norm is now deprecated in favor of torch.nn.utils.clip_grad_norm_.\n",
      "  if IS_TORCH_04: nn.utils.clip_grad_norm(trainable_params_(self.m), self.clip)\n"
     ]
    },
    {
     "name": "stdout",
     "output_type": "stream",
     "text": [
      "\r",
      " 26%|█████████████████▉                                                  | 445/1683 [02:51<07:41,  2.68it/s, loss=10.6]"
     ]
    },
    {
     "name": "stderr",
     "output_type": "stream",
     "text": [
      "C:\\Users\\PC\\Projects\\fastai\\courses\\dl1\\ULMFiT-Filipino\\fastai\\model.py:62: UserWarning: torch.nn.utils.clip_grad_norm is now deprecated in favor of torch.nn.utils.clip_grad_norm_.\n",
      "  if IS_TORCH_04: nn.utils.clip_grad_norm(trainable_params_(self.m), self.clip)\n"
     ]
    },
    {
     "name": "stdout",
     "output_type": "stream",
     "text": [
      "\r",
      " 27%|██████████████████                                                  | 446/1683 [02:51<07:44,  2.66it/s, loss=10.6]"
     ]
    },
    {
     "name": "stderr",
     "output_type": "stream",
     "text": [
      "C:\\Users\\PC\\Projects\\fastai\\courses\\dl1\\ULMFiT-Filipino\\fastai\\model.py:62: UserWarning: torch.nn.utils.clip_grad_norm is now deprecated in favor of torch.nn.utils.clip_grad_norm_.\n",
      "  if IS_TORCH_04: nn.utils.clip_grad_norm(trainable_params_(self.m), self.clip)\n"
     ]
    },
    {
     "name": "stdout",
     "output_type": "stream",
     "text": [
      "\r",
      " 27%|██████████████████                                                  | 447/1683 [02:51<07:56,  2.59it/s, loss=10.6]"
     ]
    },
    {
     "name": "stderr",
     "output_type": "stream",
     "text": [
      "C:\\Users\\PC\\Projects\\fastai\\courses\\dl1\\ULMFiT-Filipino\\fastai\\model.py:62: UserWarning: torch.nn.utils.clip_grad_norm is now deprecated in favor of torch.nn.utils.clip_grad_norm_.\n",
      "  if IS_TORCH_04: nn.utils.clip_grad_norm(trainable_params_(self.m), self.clip)\n"
     ]
    },
    {
     "name": "stdout",
     "output_type": "stream",
     "text": [
      "\r",
      " 27%|██████████████████                                                  | 448/1683 [02:52<08:06,  2.54it/s, loss=10.6]"
     ]
    },
    {
     "name": "stderr",
     "output_type": "stream",
     "text": [
      "C:\\Users\\PC\\Projects\\fastai\\courses\\dl1\\ULMFiT-Filipino\\fastai\\model.py:62: UserWarning: torch.nn.utils.clip_grad_norm is now deprecated in favor of torch.nn.utils.clip_grad_norm_.\n",
      "  if IS_TORCH_04: nn.utils.clip_grad_norm(trainable_params_(self.m), self.clip)\n"
     ]
    },
    {
     "name": "stdout",
     "output_type": "stream",
     "text": [
      "\r",
      " 27%|██████████████████▏                                                 | 449/1683 [02:52<08:05,  2.54it/s, loss=10.6]"
     ]
    },
    {
     "name": "stderr",
     "output_type": "stream",
     "text": [
      "C:\\Users\\PC\\Projects\\fastai\\courses\\dl1\\ULMFiT-Filipino\\fastai\\model.py:62: UserWarning: torch.nn.utils.clip_grad_norm is now deprecated in favor of torch.nn.utils.clip_grad_norm_.\n",
      "  if IS_TORCH_04: nn.utils.clip_grad_norm(trainable_params_(self.m), self.clip)\n"
     ]
    },
    {
     "name": "stdout",
     "output_type": "stream",
     "text": [
      "\r",
      " 27%|██████████████████▏                                                 | 450/1683 [02:53<08:04,  2.55it/s, loss=10.6]"
     ]
    },
    {
     "name": "stderr",
     "output_type": "stream",
     "text": [
      "C:\\Users\\PC\\Projects\\fastai\\courses\\dl1\\ULMFiT-Filipino\\fastai\\model.py:62: UserWarning: torch.nn.utils.clip_grad_norm is now deprecated in favor of torch.nn.utils.clip_grad_norm_.\n",
      "  if IS_TORCH_04: nn.utils.clip_grad_norm(trainable_params_(self.m), self.clip)\n"
     ]
    },
    {
     "name": "stdout",
     "output_type": "stream",
     "text": [
      "\r",
      " 27%|██████████████████▏                                                 | 451/1683 [02:53<08:04,  2.55it/s, loss=10.6]"
     ]
    },
    {
     "name": "stderr",
     "output_type": "stream",
     "text": [
      "C:\\Users\\PC\\Projects\\fastai\\courses\\dl1\\ULMFiT-Filipino\\fastai\\model.py:62: UserWarning: torch.nn.utils.clip_grad_norm is now deprecated in favor of torch.nn.utils.clip_grad_norm_.\n",
      "  if IS_TORCH_04: nn.utils.clip_grad_norm(trainable_params_(self.m), self.clip)\n"
     ]
    },
    {
     "name": "stdout",
     "output_type": "stream",
     "text": [
      "\r",
      " 27%|██████████████████▎                                                 | 452/1683 [02:53<07:50,  2.61it/s, loss=10.6]"
     ]
    },
    {
     "name": "stderr",
     "output_type": "stream",
     "text": [
      "C:\\Users\\PC\\Projects\\fastai\\courses\\dl1\\ULMFiT-Filipino\\fastai\\model.py:62: UserWarning: torch.nn.utils.clip_grad_norm is now deprecated in favor of torch.nn.utils.clip_grad_norm_.\n",
      "  if IS_TORCH_04: nn.utils.clip_grad_norm(trainable_params_(self.m), self.clip)\n"
     ]
    },
    {
     "name": "stdout",
     "output_type": "stream",
     "text": [
      "\r",
      " 27%|██████████████████▎                                                 | 453/1683 [02:54<07:48,  2.63it/s, loss=10.6]"
     ]
    },
    {
     "name": "stderr",
     "output_type": "stream",
     "text": [
      "C:\\Users\\PC\\Projects\\fastai\\courses\\dl1\\ULMFiT-Filipino\\fastai\\model.py:62: UserWarning: torch.nn.utils.clip_grad_norm is now deprecated in favor of torch.nn.utils.clip_grad_norm_.\n",
      "  if IS_TORCH_04: nn.utils.clip_grad_norm(trainable_params_(self.m), self.clip)\n"
     ]
    },
    {
     "name": "stdout",
     "output_type": "stream",
     "text": [
      "\r",
      " 27%|██████████████████▎                                                 | 454/1683 [02:54<08:02,  2.55it/s, loss=10.6]"
     ]
    },
    {
     "name": "stderr",
     "output_type": "stream",
     "text": [
      "C:\\Users\\PC\\Projects\\fastai\\courses\\dl1\\ULMFiT-Filipino\\fastai\\model.py:62: UserWarning: torch.nn.utils.clip_grad_norm is now deprecated in favor of torch.nn.utils.clip_grad_norm_.\n",
      "  if IS_TORCH_04: nn.utils.clip_grad_norm(trainable_params_(self.m), self.clip)\n"
     ]
    },
    {
     "name": "stdout",
     "output_type": "stream",
     "text": [
      "\r",
      " 27%|██████████████████▍                                                 | 455/1683 [02:55<07:58,  2.57it/s, loss=10.6]"
     ]
    },
    {
     "name": "stderr",
     "output_type": "stream",
     "text": [
      "C:\\Users\\PC\\Projects\\fastai\\courses\\dl1\\ULMFiT-Filipino\\fastai\\model.py:62: UserWarning: torch.nn.utils.clip_grad_norm is now deprecated in favor of torch.nn.utils.clip_grad_norm_.\n",
      "  if IS_TORCH_04: nn.utils.clip_grad_norm(trainable_params_(self.m), self.clip)\n"
     ]
    },
    {
     "name": "stdout",
     "output_type": "stream",
     "text": [
      "\r",
      " 27%|██████████████████▍                                                 | 456/1683 [02:55<07:52,  2.60it/s, loss=10.6]"
     ]
    },
    {
     "name": "stderr",
     "output_type": "stream",
     "text": [
      "C:\\Users\\PC\\Projects\\fastai\\courses\\dl1\\ULMFiT-Filipino\\fastai\\model.py:62: UserWarning: torch.nn.utils.clip_grad_norm is now deprecated in favor of torch.nn.utils.clip_grad_norm_.\n",
      "  if IS_TORCH_04: nn.utils.clip_grad_norm(trainable_params_(self.m), self.clip)\n"
     ]
    },
    {
     "name": "stdout",
     "output_type": "stream",
     "text": [
      "\r",
      " 27%|██████████████████▍                                                 | 457/1683 [02:55<08:05,  2.52it/s, loss=10.6]"
     ]
    },
    {
     "name": "stderr",
     "output_type": "stream",
     "text": [
      "C:\\Users\\PC\\Projects\\fastai\\courses\\dl1\\ULMFiT-Filipino\\fastai\\model.py:62: UserWarning: torch.nn.utils.clip_grad_norm is now deprecated in favor of torch.nn.utils.clip_grad_norm_.\n",
      "  if IS_TORCH_04: nn.utils.clip_grad_norm(trainable_params_(self.m), self.clip)\n"
     ]
    },
    {
     "name": "stdout",
     "output_type": "stream",
     "text": [
      "\r",
      " 27%|██████████████████▌                                                 | 458/1683 [02:56<08:12,  2.49it/s, loss=10.6]"
     ]
    },
    {
     "name": "stderr",
     "output_type": "stream",
     "text": [
      "C:\\Users\\PC\\Projects\\fastai\\courses\\dl1\\ULMFiT-Filipino\\fastai\\model.py:62: UserWarning: torch.nn.utils.clip_grad_norm is now deprecated in favor of torch.nn.utils.clip_grad_norm_.\n",
      "  if IS_TORCH_04: nn.utils.clip_grad_norm(trainable_params_(self.m), self.clip)\n"
     ]
    },
    {
     "name": "stdout",
     "output_type": "stream",
     "text": [
      "\r",
      " 27%|██████████████████▌                                                 | 459/1683 [02:56<08:01,  2.54it/s, loss=10.6]"
     ]
    },
    {
     "name": "stderr",
     "output_type": "stream",
     "text": [
      "C:\\Users\\PC\\Projects\\fastai\\courses\\dl1\\ULMFiT-Filipino\\fastai\\model.py:62: UserWarning: torch.nn.utils.clip_grad_norm is now deprecated in favor of torch.nn.utils.clip_grad_norm_.\n",
      "  if IS_TORCH_04: nn.utils.clip_grad_norm(trainable_params_(self.m), self.clip)\n"
     ]
    },
    {
     "name": "stdout",
     "output_type": "stream",
     "text": [
      "\r",
      " 27%|██████████████████▌                                                 | 460/1683 [02:57<08:00,  2.55it/s, loss=10.6]"
     ]
    },
    {
     "name": "stderr",
     "output_type": "stream",
     "text": [
      "C:\\Users\\PC\\Projects\\fastai\\courses\\dl1\\ULMFiT-Filipino\\fastai\\model.py:62: UserWarning: torch.nn.utils.clip_grad_norm is now deprecated in favor of torch.nn.utils.clip_grad_norm_.\n",
      "  if IS_TORCH_04: nn.utils.clip_grad_norm(trainable_params_(self.m), self.clip)\n"
     ]
    },
    {
     "name": "stdout",
     "output_type": "stream",
     "text": [
      "\r",
      " 27%|██████████████████▋                                                 | 461/1683 [02:57<07:53,  2.58it/s, loss=10.6]"
     ]
    },
    {
     "name": "stderr",
     "output_type": "stream",
     "text": [
      "C:\\Users\\PC\\Projects\\fastai\\courses\\dl1\\ULMFiT-Filipino\\fastai\\model.py:62: UserWarning: torch.nn.utils.clip_grad_norm is now deprecated in favor of torch.nn.utils.clip_grad_norm_.\n",
      "  if IS_TORCH_04: nn.utils.clip_grad_norm(trainable_params_(self.m), self.clip)\n"
     ]
    },
    {
     "name": "stdout",
     "output_type": "stream",
     "text": [
      "\r",
      " 27%|██████████████████▋                                                 | 462/1683 [02:57<08:18,  2.45it/s, loss=10.6]"
     ]
    },
    {
     "name": "stderr",
     "output_type": "stream",
     "text": [
      "C:\\Users\\PC\\Projects\\fastai\\courses\\dl1\\ULMFiT-Filipino\\fastai\\model.py:62: UserWarning: torch.nn.utils.clip_grad_norm is now deprecated in favor of torch.nn.utils.clip_grad_norm_.\n",
      "  if IS_TORCH_04: nn.utils.clip_grad_norm(trainable_params_(self.m), self.clip)\n"
     ]
    },
    {
     "name": "stdout",
     "output_type": "stream",
     "text": [
      "\r",
      " 28%|██████████████████▋                                                 | 463/1683 [02:58<08:25,  2.42it/s, loss=10.6]"
     ]
    },
    {
     "name": "stderr",
     "output_type": "stream",
     "text": [
      "C:\\Users\\PC\\Projects\\fastai\\courses\\dl1\\ULMFiT-Filipino\\fastai\\model.py:62: UserWarning: torch.nn.utils.clip_grad_norm is now deprecated in favor of torch.nn.utils.clip_grad_norm_.\n",
      "  if IS_TORCH_04: nn.utils.clip_grad_norm(trainable_params_(self.m), self.clip)\n"
     ]
    },
    {
     "name": "stdout",
     "output_type": "stream",
     "text": [
      "\r",
      " 28%|██████████████████▋                                                 | 464/1683 [02:58<08:03,  2.52it/s, loss=10.6]"
     ]
    },
    {
     "name": "stderr",
     "output_type": "stream",
     "text": [
      "C:\\Users\\PC\\Projects\\fastai\\courses\\dl1\\ULMFiT-Filipino\\fastai\\model.py:62: UserWarning: torch.nn.utils.clip_grad_norm is now deprecated in favor of torch.nn.utils.clip_grad_norm_.\n",
      "  if IS_TORCH_04: nn.utils.clip_grad_norm(trainable_params_(self.m), self.clip)\n"
     ]
    },
    {
     "name": "stdout",
     "output_type": "stream",
     "text": [
      "\r",
      " 28%|██████████████████▊                                                 | 465/1683 [02:59<08:00,  2.54it/s, loss=10.6]"
     ]
    },
    {
     "name": "stderr",
     "output_type": "stream",
     "text": [
      "C:\\Users\\PC\\Projects\\fastai\\courses\\dl1\\ULMFiT-Filipino\\fastai\\model.py:62: UserWarning: torch.nn.utils.clip_grad_norm is now deprecated in favor of torch.nn.utils.clip_grad_norm_.\n",
      "  if IS_TORCH_04: nn.utils.clip_grad_norm(trainable_params_(self.m), self.clip)\n"
     ]
    },
    {
     "name": "stdout",
     "output_type": "stream",
     "text": [
      "\r",
      " 28%|██████████████████▊                                                 | 466/1683 [02:59<07:49,  2.59it/s, loss=10.6]"
     ]
    },
    {
     "name": "stderr",
     "output_type": "stream",
     "text": [
      "C:\\Users\\PC\\Projects\\fastai\\courses\\dl1\\ULMFiT-Filipino\\fastai\\model.py:62: UserWarning: torch.nn.utils.clip_grad_norm is now deprecated in favor of torch.nn.utils.clip_grad_norm_.\n",
      "  if IS_TORCH_04: nn.utils.clip_grad_norm(trainable_params_(self.m), self.clip)\n"
     ]
    },
    {
     "name": "stdout",
     "output_type": "stream",
     "text": [
      "\r",
      " 28%|██████████████████▊                                                 | 467/1683 [02:59<08:00,  2.53it/s, loss=10.6]"
     ]
    },
    {
     "name": "stderr",
     "output_type": "stream",
     "text": [
      "C:\\Users\\PC\\Projects\\fastai\\courses\\dl1\\ULMFiT-Filipino\\fastai\\model.py:62: UserWarning: torch.nn.utils.clip_grad_norm is now deprecated in favor of torch.nn.utils.clip_grad_norm_.\n",
      "  if IS_TORCH_04: nn.utils.clip_grad_norm(trainable_params_(self.m), self.clip)\n"
     ]
    },
    {
     "name": "stdout",
     "output_type": "stream",
     "text": [
      "\r",
      " 28%|██████████████████▉                                                 | 468/1683 [03:00<07:52,  2.57it/s, loss=10.6]"
     ]
    },
    {
     "name": "stderr",
     "output_type": "stream",
     "text": [
      "C:\\Users\\PC\\Projects\\fastai\\courses\\dl1\\ULMFiT-Filipino\\fastai\\model.py:62: UserWarning: torch.nn.utils.clip_grad_norm is now deprecated in favor of torch.nn.utils.clip_grad_norm_.\n",
      "  if IS_TORCH_04: nn.utils.clip_grad_norm(trainable_params_(self.m), self.clip)\n"
     ]
    },
    {
     "name": "stdout",
     "output_type": "stream",
     "text": [
      "\r",
      " 28%|██████████████████▉                                                 | 469/1683 [03:00<07:03,  2.87it/s, loss=10.6]"
     ]
    },
    {
     "name": "stderr",
     "output_type": "stream",
     "text": [
      "C:\\Users\\PC\\Projects\\fastai\\courses\\dl1\\ULMFiT-Filipino\\fastai\\model.py:62: UserWarning: torch.nn.utils.clip_grad_norm is now deprecated in favor of torch.nn.utils.clip_grad_norm_.\n",
      "  if IS_TORCH_04: nn.utils.clip_grad_norm(trainable_params_(self.m), self.clip)\n"
     ]
    },
    {
     "name": "stdout",
     "output_type": "stream",
     "text": [
      "\r",
      " 28%|██████████████████▉                                                 | 470/1683 [03:00<07:23,  2.74it/s, loss=10.6]"
     ]
    },
    {
     "name": "stderr",
     "output_type": "stream",
     "text": [
      "C:\\Users\\PC\\Projects\\fastai\\courses\\dl1\\ULMFiT-Filipino\\fastai\\model.py:62: UserWarning: torch.nn.utils.clip_grad_norm is now deprecated in favor of torch.nn.utils.clip_grad_norm_.\n",
      "  if IS_TORCH_04: nn.utils.clip_grad_norm(trainable_params_(self.m), self.clip)\n"
     ]
    },
    {
     "name": "stdout",
     "output_type": "stream",
     "text": [
      "\r",
      " 28%|███████████████████                                                 | 471/1683 [03:01<07:34,  2.67it/s, loss=10.6]"
     ]
    },
    {
     "name": "stderr",
     "output_type": "stream",
     "text": [
      "C:\\Users\\PC\\Projects\\fastai\\courses\\dl1\\ULMFiT-Filipino\\fastai\\model.py:62: UserWarning: torch.nn.utils.clip_grad_norm is now deprecated in favor of torch.nn.utils.clip_grad_norm_.\n",
      "  if IS_TORCH_04: nn.utils.clip_grad_norm(trainable_params_(self.m), self.clip)\n"
     ]
    },
    {
     "name": "stdout",
     "output_type": "stream",
     "text": [
      "\r",
      " 28%|███████████████████                                                 | 472/1683 [03:01<07:46,  2.59it/s, loss=10.6]"
     ]
    },
    {
     "name": "stderr",
     "output_type": "stream",
     "text": [
      "C:\\Users\\PC\\Projects\\fastai\\courses\\dl1\\ULMFiT-Filipino\\fastai\\model.py:62: UserWarning: torch.nn.utils.clip_grad_norm is now deprecated in favor of torch.nn.utils.clip_grad_norm_.\n",
      "  if IS_TORCH_04: nn.utils.clip_grad_norm(trainable_params_(self.m), self.clip)\n"
     ]
    },
    {
     "name": "stdout",
     "output_type": "stream",
     "text": [
      "\r",
      " 28%|███████████████████                                                 | 473/1683 [03:02<07:41,  2.62it/s, loss=10.6]"
     ]
    },
    {
     "name": "stderr",
     "output_type": "stream",
     "text": [
      "C:\\Users\\PC\\Projects\\fastai\\courses\\dl1\\ULMFiT-Filipino\\fastai\\model.py:62: UserWarning: torch.nn.utils.clip_grad_norm is now deprecated in favor of torch.nn.utils.clip_grad_norm_.\n",
      "  if IS_TORCH_04: nn.utils.clip_grad_norm(trainable_params_(self.m), self.clip)\n"
     ]
    },
    {
     "name": "stdout",
     "output_type": "stream",
     "text": [
      "\r",
      " 28%|███████████████████▏                                                | 474/1683 [03:02<07:42,  2.61it/s, loss=10.6]"
     ]
    },
    {
     "name": "stderr",
     "output_type": "stream",
     "text": [
      "C:\\Users\\PC\\Projects\\fastai\\courses\\dl1\\ULMFiT-Filipino\\fastai\\model.py:62: UserWarning: torch.nn.utils.clip_grad_norm is now deprecated in favor of torch.nn.utils.clip_grad_norm_.\n",
      "  if IS_TORCH_04: nn.utils.clip_grad_norm(trainable_params_(self.m), self.clip)\n"
     ]
    },
    {
     "name": "stdout",
     "output_type": "stream",
     "text": [
      "\r",
      " 28%|███████████████████▏                                                | 475/1683 [03:02<07:46,  2.59it/s, loss=10.6]"
     ]
    },
    {
     "name": "stderr",
     "output_type": "stream",
     "text": [
      "C:\\Users\\PC\\Projects\\fastai\\courses\\dl1\\ULMFiT-Filipino\\fastai\\model.py:62: UserWarning: torch.nn.utils.clip_grad_norm is now deprecated in favor of torch.nn.utils.clip_grad_norm_.\n",
      "  if IS_TORCH_04: nn.utils.clip_grad_norm(trainable_params_(self.m), self.clip)\n"
     ]
    },
    {
     "name": "stdout",
     "output_type": "stream",
     "text": [
      "\r",
      " 28%|███████████████████▏                                                | 476/1683 [03:03<07:50,  2.56it/s, loss=10.6]"
     ]
    },
    {
     "name": "stderr",
     "output_type": "stream",
     "text": [
      "C:\\Users\\PC\\Projects\\fastai\\courses\\dl1\\ULMFiT-Filipino\\fastai\\model.py:62: UserWarning: torch.nn.utils.clip_grad_norm is now deprecated in favor of torch.nn.utils.clip_grad_norm_.\n",
      "  if IS_TORCH_04: nn.utils.clip_grad_norm(trainable_params_(self.m), self.clip)\n"
     ]
    },
    {
     "name": "stdout",
     "output_type": "stream",
     "text": [
      "\r",
      " 28%|███████████████████▎                                                | 477/1683 [03:03<07:09,  2.81it/s, loss=10.6]"
     ]
    },
    {
     "name": "stderr",
     "output_type": "stream",
     "text": [
      "C:\\Users\\PC\\Projects\\fastai\\courses\\dl1\\ULMFiT-Filipino\\fastai\\model.py:62: UserWarning: torch.nn.utils.clip_grad_norm is now deprecated in favor of torch.nn.utils.clip_grad_norm_.\n",
      "  if IS_TORCH_04: nn.utils.clip_grad_norm(trainable_params_(self.m), self.clip)\n"
     ]
    },
    {
     "name": "stdout",
     "output_type": "stream",
     "text": [
      "\r",
      " 28%|███████████████████▎                                                | 478/1683 [03:03<07:16,  2.76it/s, loss=10.6]"
     ]
    },
    {
     "name": "stderr",
     "output_type": "stream",
     "text": [
      "C:\\Users\\PC\\Projects\\fastai\\courses\\dl1\\ULMFiT-Filipino\\fastai\\model.py:62: UserWarning: torch.nn.utils.clip_grad_norm is now deprecated in favor of torch.nn.utils.clip_grad_norm_.\n",
      "  if IS_TORCH_04: nn.utils.clip_grad_norm(trainable_params_(self.m), self.clip)\n"
     ]
    },
    {
     "name": "stdout",
     "output_type": "stream",
     "text": [
      "\r",
      " 28%|███████████████████▎                                                | 479/1683 [03:04<07:37,  2.63it/s, loss=10.6]"
     ]
    },
    {
     "name": "stderr",
     "output_type": "stream",
     "text": [
      "C:\\Users\\PC\\Projects\\fastai\\courses\\dl1\\ULMFiT-Filipino\\fastai\\model.py:62: UserWarning: torch.nn.utils.clip_grad_norm is now deprecated in favor of torch.nn.utils.clip_grad_norm_.\n",
      "  if IS_TORCH_04: nn.utils.clip_grad_norm(trainable_params_(self.m), self.clip)\n"
     ]
    },
    {
     "name": "stdout",
     "output_type": "stream",
     "text": [
      "\r",
      " 29%|███████████████████▍                                                | 480/1683 [03:04<07:41,  2.61it/s, loss=10.6]"
     ]
    },
    {
     "name": "stderr",
     "output_type": "stream",
     "text": [
      "C:\\Users\\PC\\Projects\\fastai\\courses\\dl1\\ULMFiT-Filipino\\fastai\\model.py:62: UserWarning: torch.nn.utils.clip_grad_norm is now deprecated in favor of torch.nn.utils.clip_grad_norm_.\n",
      "  if IS_TORCH_04: nn.utils.clip_grad_norm(trainable_params_(self.m), self.clip)\n"
     ]
    },
    {
     "name": "stdout",
     "output_type": "stream",
     "text": [
      "\r",
      " 29%|███████████████████▍                                                | 481/1683 [03:05<07:43,  2.59it/s, loss=10.6]"
     ]
    },
    {
     "name": "stderr",
     "output_type": "stream",
     "text": [
      "C:\\Users\\PC\\Projects\\fastai\\courses\\dl1\\ULMFiT-Filipino\\fastai\\model.py:62: UserWarning: torch.nn.utils.clip_grad_norm is now deprecated in favor of torch.nn.utils.clip_grad_norm_.\n",
      "  if IS_TORCH_04: nn.utils.clip_grad_norm(trainable_params_(self.m), self.clip)\n"
     ]
    },
    {
     "name": "stdout",
     "output_type": "stream",
     "text": [
      "\r",
      " 29%|███████████████████▍                                                | 482/1683 [03:05<07:41,  2.60it/s, loss=10.6]"
     ]
    },
    {
     "name": "stderr",
     "output_type": "stream",
     "text": [
      "C:\\Users\\PC\\Projects\\fastai\\courses\\dl1\\ULMFiT-Filipino\\fastai\\model.py:62: UserWarning: torch.nn.utils.clip_grad_norm is now deprecated in favor of torch.nn.utils.clip_grad_norm_.\n",
      "  if IS_TORCH_04: nn.utils.clip_grad_norm(trainable_params_(self.m), self.clip)\n"
     ]
    },
    {
     "name": "stdout",
     "output_type": "stream",
     "text": [
      "\r",
      " 29%|███████████████████▌                                                | 483/1683 [03:05<07:37,  2.63it/s, loss=10.6]"
     ]
    },
    {
     "name": "stderr",
     "output_type": "stream",
     "text": [
      "C:\\Users\\PC\\Projects\\fastai\\courses\\dl1\\ULMFiT-Filipino\\fastai\\model.py:62: UserWarning: torch.nn.utils.clip_grad_norm is now deprecated in favor of torch.nn.utils.clip_grad_norm_.\n",
      "  if IS_TORCH_04: nn.utils.clip_grad_norm(trainable_params_(self.m), self.clip)\n"
     ]
    },
    {
     "name": "stdout",
     "output_type": "stream",
     "text": [
      "\r",
      " 29%|███████████████████▌                                                | 484/1683 [03:06<07:30,  2.66it/s, loss=10.6]"
     ]
    },
    {
     "name": "stderr",
     "output_type": "stream",
     "text": [
      "C:\\Users\\PC\\Projects\\fastai\\courses\\dl1\\ULMFiT-Filipino\\fastai\\model.py:62: UserWarning: torch.nn.utils.clip_grad_norm is now deprecated in favor of torch.nn.utils.clip_grad_norm_.\n",
      "  if IS_TORCH_04: nn.utils.clip_grad_norm(trainable_params_(self.m), self.clip)\n"
     ]
    },
    {
     "name": "stdout",
     "output_type": "stream",
     "text": [
      "\r",
      " 29%|███████████████████▌                                                | 485/1683 [03:06<07:37,  2.62it/s, loss=10.6]"
     ]
    },
    {
     "name": "stderr",
     "output_type": "stream",
     "text": [
      "C:\\Users\\PC\\Projects\\fastai\\courses\\dl1\\ULMFiT-Filipino\\fastai\\model.py:62: UserWarning: torch.nn.utils.clip_grad_norm is now deprecated in favor of torch.nn.utils.clip_grad_norm_.\n",
      "  if IS_TORCH_04: nn.utils.clip_grad_norm(trainable_params_(self.m), self.clip)\n"
     ]
    },
    {
     "name": "stdout",
     "output_type": "stream",
     "text": [
      "\r",
      " 29%|███████████████████▋                                                | 486/1683 [03:06<07:42,  2.59it/s, loss=10.6]"
     ]
    },
    {
     "name": "stderr",
     "output_type": "stream",
     "text": [
      "C:\\Users\\PC\\Projects\\fastai\\courses\\dl1\\ULMFiT-Filipino\\fastai\\model.py:62: UserWarning: torch.nn.utils.clip_grad_norm is now deprecated in favor of torch.nn.utils.clip_grad_norm_.\n",
      "  if IS_TORCH_04: nn.utils.clip_grad_norm(trainable_params_(self.m), self.clip)\n"
     ]
    },
    {
     "name": "stdout",
     "output_type": "stream",
     "text": [
      "\r",
      " 29%|███████████████████▋                                                | 487/1683 [03:07<07:58,  2.50it/s, loss=10.6]"
     ]
    },
    {
     "name": "stderr",
     "output_type": "stream",
     "text": [
      "C:\\Users\\PC\\Projects\\fastai\\courses\\dl1\\ULMFiT-Filipino\\fastai\\model.py:62: UserWarning: torch.nn.utils.clip_grad_norm is now deprecated in favor of torch.nn.utils.clip_grad_norm_.\n",
      "  if IS_TORCH_04: nn.utils.clip_grad_norm(trainable_params_(self.m), self.clip)\n"
     ]
    },
    {
     "name": "stdout",
     "output_type": "stream",
     "text": [
      "\r",
      " 29%|███████████████████▋                                                | 488/1683 [03:07<07:54,  2.52it/s, loss=10.6]"
     ]
    },
    {
     "name": "stderr",
     "output_type": "stream",
     "text": [
      "C:\\Users\\PC\\Projects\\fastai\\courses\\dl1\\ULMFiT-Filipino\\fastai\\model.py:62: UserWarning: torch.nn.utils.clip_grad_norm is now deprecated in favor of torch.nn.utils.clip_grad_norm_.\n",
      "  if IS_TORCH_04: nn.utils.clip_grad_norm(trainable_params_(self.m), self.clip)\n"
     ]
    },
    {
     "name": "stdout",
     "output_type": "stream",
     "text": [
      "\r",
      " 29%|███████████████████▊                                                | 489/1683 [03:08<07:48,  2.55it/s, loss=10.6]"
     ]
    },
    {
     "name": "stderr",
     "output_type": "stream",
     "text": [
      "C:\\Users\\PC\\Projects\\fastai\\courses\\dl1\\ULMFiT-Filipino\\fastai\\model.py:62: UserWarning: torch.nn.utils.clip_grad_norm is now deprecated in favor of torch.nn.utils.clip_grad_norm_.\n",
      "  if IS_TORCH_04: nn.utils.clip_grad_norm(trainable_params_(self.m), self.clip)\n"
     ]
    },
    {
     "name": "stdout",
     "output_type": "stream",
     "text": [
      "\r",
      " 29%|███████████████████▊                                                | 490/1683 [03:08<07:53,  2.52it/s, loss=10.6]"
     ]
    },
    {
     "name": "stderr",
     "output_type": "stream",
     "text": [
      "C:\\Users\\PC\\Projects\\fastai\\courses\\dl1\\ULMFiT-Filipino\\fastai\\model.py:62: UserWarning: torch.nn.utils.clip_grad_norm is now deprecated in favor of torch.nn.utils.clip_grad_norm_.\n",
      "  if IS_TORCH_04: nn.utils.clip_grad_norm(trainable_params_(self.m), self.clip)\n"
     ]
    },
    {
     "name": "stdout",
     "output_type": "stream",
     "text": [
      "\r",
      " 29%|███████████████████▊                                                | 491/1683 [03:08<07:44,  2.56it/s, loss=10.6]"
     ]
    },
    {
     "name": "stderr",
     "output_type": "stream",
     "text": [
      "C:\\Users\\PC\\Projects\\fastai\\courses\\dl1\\ULMFiT-Filipino\\fastai\\model.py:62: UserWarning: torch.nn.utils.clip_grad_norm is now deprecated in favor of torch.nn.utils.clip_grad_norm_.\n",
      "  if IS_TORCH_04: nn.utils.clip_grad_norm(trainable_params_(self.m), self.clip)\n"
     ]
    },
    {
     "name": "stdout",
     "output_type": "stream",
     "text": [
      "\r",
      " 29%|███████████████████▉                                                | 492/1683 [03:09<07:24,  2.68it/s, loss=10.6]"
     ]
    },
    {
     "name": "stderr",
     "output_type": "stream",
     "text": [
      "C:\\Users\\PC\\Projects\\fastai\\courses\\dl1\\ULMFiT-Filipino\\fastai\\model.py:62: UserWarning: torch.nn.utils.clip_grad_norm is now deprecated in favor of torch.nn.utils.clip_grad_norm_.\n",
      "  if IS_TORCH_04: nn.utils.clip_grad_norm(trainable_params_(self.m), self.clip)\n"
     ]
    },
    {
     "name": "stdout",
     "output_type": "stream",
     "text": [
      "\r",
      " 29%|███████████████████▉                                                | 493/1683 [03:09<07:25,  2.67it/s, loss=10.6]"
     ]
    },
    {
     "name": "stderr",
     "output_type": "stream",
     "text": [
      "C:\\Users\\PC\\Projects\\fastai\\courses\\dl1\\ULMFiT-Filipino\\fastai\\model.py:62: UserWarning: torch.nn.utils.clip_grad_norm is now deprecated in favor of torch.nn.utils.clip_grad_norm_.\n",
      "  if IS_TORCH_04: nn.utils.clip_grad_norm(trainable_params_(self.m), self.clip)\n"
     ]
    },
    {
     "name": "stdout",
     "output_type": "stream",
     "text": [
      "\r",
      " 29%|███████████████████▉                                                | 494/1683 [03:10<07:38,  2.60it/s, loss=10.6]"
     ]
    },
    {
     "name": "stderr",
     "output_type": "stream",
     "text": [
      "C:\\Users\\PC\\Projects\\fastai\\courses\\dl1\\ULMFiT-Filipino\\fastai\\model.py:62: UserWarning: torch.nn.utils.clip_grad_norm is now deprecated in favor of torch.nn.utils.clip_grad_norm_.\n",
      "  if IS_TORCH_04: nn.utils.clip_grad_norm(trainable_params_(self.m), self.clip)\n"
     ]
    },
    {
     "name": "stdout",
     "output_type": "stream",
     "text": [
      "\r",
      " 29%|████████████████████                                                | 495/1683 [03:10<07:40,  2.58it/s, loss=10.6]"
     ]
    },
    {
     "name": "stderr",
     "output_type": "stream",
     "text": [
      "C:\\Users\\PC\\Projects\\fastai\\courses\\dl1\\ULMFiT-Filipino\\fastai\\model.py:62: UserWarning: torch.nn.utils.clip_grad_norm is now deprecated in favor of torch.nn.utils.clip_grad_norm_.\n",
      "  if IS_TORCH_04: nn.utils.clip_grad_norm(trainable_params_(self.m), self.clip)\n"
     ]
    },
    {
     "name": "stdout",
     "output_type": "stream",
     "text": [
      "\r",
      " 29%|████████████████████                                                | 496/1683 [03:10<07:51,  2.52it/s, loss=10.6]"
     ]
    },
    {
     "name": "stderr",
     "output_type": "stream",
     "text": [
      "C:\\Users\\PC\\Projects\\fastai\\courses\\dl1\\ULMFiT-Filipino\\fastai\\model.py:62: UserWarning: torch.nn.utils.clip_grad_norm is now deprecated in favor of torch.nn.utils.clip_grad_norm_.\n",
      "  if IS_TORCH_04: nn.utils.clip_grad_norm(trainable_params_(self.m), self.clip)\n"
     ]
    },
    {
     "name": "stdout",
     "output_type": "stream",
     "text": [
      "\r",
      " 30%|████████████████████                                                | 497/1683 [03:11<07:58,  2.48it/s, loss=10.6]"
     ]
    },
    {
     "name": "stderr",
     "output_type": "stream",
     "text": [
      "C:\\Users\\PC\\Projects\\fastai\\courses\\dl1\\ULMFiT-Filipino\\fastai\\model.py:62: UserWarning: torch.nn.utils.clip_grad_norm is now deprecated in favor of torch.nn.utils.clip_grad_norm_.\n",
      "  if IS_TORCH_04: nn.utils.clip_grad_norm(trainable_params_(self.m), self.clip)\n"
     ]
    },
    {
     "name": "stdout",
     "output_type": "stream",
     "text": [
      "\r",
      " 30%|████████████████████                                                | 498/1683 [03:11<08:01,  2.46it/s, loss=10.5]"
     ]
    },
    {
     "name": "stderr",
     "output_type": "stream",
     "text": [
      "C:\\Users\\PC\\Projects\\fastai\\courses\\dl1\\ULMFiT-Filipino\\fastai\\model.py:62: UserWarning: torch.nn.utils.clip_grad_norm is now deprecated in favor of torch.nn.utils.clip_grad_norm_.\n",
      "  if IS_TORCH_04: nn.utils.clip_grad_norm(trainable_params_(self.m), self.clip)\n"
     ]
    },
    {
     "name": "stdout",
     "output_type": "stream",
     "text": [
      "\r",
      " 30%|████████████████████▏                                               | 499/1683 [03:12<07:56,  2.49it/s, loss=10.5]"
     ]
    },
    {
     "name": "stderr",
     "output_type": "stream",
     "text": [
      "C:\\Users\\PC\\Projects\\fastai\\courses\\dl1\\ULMFiT-Filipino\\fastai\\model.py:62: UserWarning: torch.nn.utils.clip_grad_norm is now deprecated in favor of torch.nn.utils.clip_grad_norm_.\n",
      "  if IS_TORCH_04: nn.utils.clip_grad_norm(trainable_params_(self.m), self.clip)\n"
     ]
    },
    {
     "name": "stdout",
     "output_type": "stream",
     "text": [
      "\r",
      " 30%|████████████████████▏                                               | 500/1683 [03:12<07:45,  2.54it/s, loss=10.5]"
     ]
    },
    {
     "name": "stderr",
     "output_type": "stream",
     "text": [
      "C:\\Users\\PC\\Projects\\fastai\\courses\\dl1\\ULMFiT-Filipino\\fastai\\model.py:62: UserWarning: torch.nn.utils.clip_grad_norm is now deprecated in favor of torch.nn.utils.clip_grad_norm_.\n",
      "  if IS_TORCH_04: nn.utils.clip_grad_norm(trainable_params_(self.m), self.clip)\n"
     ]
    },
    {
     "name": "stdout",
     "output_type": "stream",
     "text": [
      "\r",
      " 30%|████████████████████▏                                               | 501/1683 [03:12<08:02,  2.45it/s, loss=10.5]"
     ]
    },
    {
     "name": "stderr",
     "output_type": "stream",
     "text": [
      "C:\\Users\\PC\\Projects\\fastai\\courses\\dl1\\ULMFiT-Filipino\\fastai\\model.py:62: UserWarning: torch.nn.utils.clip_grad_norm is now deprecated in favor of torch.nn.utils.clip_grad_norm_.\n",
      "  if IS_TORCH_04: nn.utils.clip_grad_norm(trainable_params_(self.m), self.clip)\n"
     ]
    },
    {
     "name": "stdout",
     "output_type": "stream",
     "text": [
      "\r",
      " 30%|████████████████████▎                                               | 502/1683 [03:13<07:44,  2.54it/s, loss=10.5]"
     ]
    },
    {
     "name": "stderr",
     "output_type": "stream",
     "text": [
      "C:\\Users\\PC\\Projects\\fastai\\courses\\dl1\\ULMFiT-Filipino\\fastai\\model.py:62: UserWarning: torch.nn.utils.clip_grad_norm is now deprecated in favor of torch.nn.utils.clip_grad_norm_.\n",
      "  if IS_TORCH_04: nn.utils.clip_grad_norm(trainable_params_(self.m), self.clip)\n"
     ]
    },
    {
     "name": "stdout",
     "output_type": "stream",
     "text": [
      "\r",
      " 30%|████████████████████▎                                               | 503/1683 [03:13<07:48,  2.52it/s, loss=10.5]"
     ]
    },
    {
     "name": "stderr",
     "output_type": "stream",
     "text": [
      "C:\\Users\\PC\\Projects\\fastai\\courses\\dl1\\ULMFiT-Filipino\\fastai\\model.py:62: UserWarning: torch.nn.utils.clip_grad_norm is now deprecated in favor of torch.nn.utils.clip_grad_norm_.\n",
      "  if IS_TORCH_04: nn.utils.clip_grad_norm(trainable_params_(self.m), self.clip)\n"
     ]
    },
    {
     "name": "stdout",
     "output_type": "stream",
     "text": [
      "\r",
      " 30%|████████████████████▎                                               | 504/1683 [03:14<07:27,  2.63it/s, loss=10.5]"
     ]
    },
    {
     "name": "stderr",
     "output_type": "stream",
     "text": [
      "C:\\Users\\PC\\Projects\\fastai\\courses\\dl1\\ULMFiT-Filipino\\fastai\\model.py:62: UserWarning: torch.nn.utils.clip_grad_norm is now deprecated in favor of torch.nn.utils.clip_grad_norm_.\n",
      "  if IS_TORCH_04: nn.utils.clip_grad_norm(trainable_params_(self.m), self.clip)\n"
     ]
    },
    {
     "name": "stdout",
     "output_type": "stream",
     "text": [
      "\r",
      " 30%|████████████████████▍                                               | 505/1683 [03:14<07:36,  2.58it/s, loss=10.5]"
     ]
    },
    {
     "name": "stderr",
     "output_type": "stream",
     "text": [
      "C:\\Users\\PC\\Projects\\fastai\\courses\\dl1\\ULMFiT-Filipino\\fastai\\model.py:62: UserWarning: torch.nn.utils.clip_grad_norm is now deprecated in favor of torch.nn.utils.clip_grad_norm_.\n",
      "  if IS_TORCH_04: nn.utils.clip_grad_norm(trainable_params_(self.m), self.clip)\n"
     ]
    },
    {
     "name": "stdout",
     "output_type": "stream",
     "text": [
      "\r",
      " 30%|████████████████████▍                                               | 506/1683 [03:14<07:41,  2.55it/s, loss=10.5]"
     ]
    },
    {
     "name": "stderr",
     "output_type": "stream",
     "text": [
      "C:\\Users\\PC\\Projects\\fastai\\courses\\dl1\\ULMFiT-Filipino\\fastai\\model.py:62: UserWarning: torch.nn.utils.clip_grad_norm is now deprecated in favor of torch.nn.utils.clip_grad_norm_.\n",
      "  if IS_TORCH_04: nn.utils.clip_grad_norm(trainable_params_(self.m), self.clip)\n"
     ]
    },
    {
     "name": "stdout",
     "output_type": "stream",
     "text": [
      "\r",
      " 30%|████████████████████▍                                               | 507/1683 [03:15<07:05,  2.77it/s, loss=10.5]"
     ]
    },
    {
     "name": "stderr",
     "output_type": "stream",
     "text": [
      "C:\\Users\\PC\\Projects\\fastai\\courses\\dl1\\ULMFiT-Filipino\\fastai\\model.py:62: UserWarning: torch.nn.utils.clip_grad_norm is now deprecated in favor of torch.nn.utils.clip_grad_norm_.\n",
      "  if IS_TORCH_04: nn.utils.clip_grad_norm(trainable_params_(self.m), self.clip)\n"
     ]
    },
    {
     "name": "stdout",
     "output_type": "stream",
     "text": [
      "\r",
      " 30%|████████████████████▌                                               | 508/1683 [03:15<07:16,  2.69it/s, loss=10.5]"
     ]
    },
    {
     "name": "stderr",
     "output_type": "stream",
     "text": [
      "C:\\Users\\PC\\Projects\\fastai\\courses\\dl1\\ULMFiT-Filipino\\fastai\\model.py:62: UserWarning: torch.nn.utils.clip_grad_norm is now deprecated in favor of torch.nn.utils.clip_grad_norm_.\n",
      "  if IS_TORCH_04: nn.utils.clip_grad_norm(trainable_params_(self.m), self.clip)\n"
     ]
    },
    {
     "name": "stdout",
     "output_type": "stream",
     "text": [
      "\r",
      " 30%|████████████████████▌                                               | 509/1683 [03:15<07:07,  2.74it/s, loss=10.5]"
     ]
    },
    {
     "name": "stderr",
     "output_type": "stream",
     "text": [
      "C:\\Users\\PC\\Projects\\fastai\\courses\\dl1\\ULMFiT-Filipino\\fastai\\model.py:62: UserWarning: torch.nn.utils.clip_grad_norm is now deprecated in favor of torch.nn.utils.clip_grad_norm_.\n",
      "  if IS_TORCH_04: nn.utils.clip_grad_norm(trainable_params_(self.m), self.clip)\n"
     ]
    },
    {
     "name": "stdout",
     "output_type": "stream",
     "text": [
      "\r",
      " 30%|████████████████████▌                                               | 510/1683 [03:16<07:16,  2.69it/s, loss=10.5]"
     ]
    },
    {
     "name": "stderr",
     "output_type": "stream",
     "text": [
      "C:\\Users\\PC\\Projects\\fastai\\courses\\dl1\\ULMFiT-Filipino\\fastai\\model.py:62: UserWarning: torch.nn.utils.clip_grad_norm is now deprecated in favor of torch.nn.utils.clip_grad_norm_.\n",
      "  if IS_TORCH_04: nn.utils.clip_grad_norm(trainable_params_(self.m), self.clip)\n"
     ]
    },
    {
     "name": "stdout",
     "output_type": "stream",
     "text": [
      "\r",
      " 30%|████████████████████▋                                               | 511/1683 [03:16<07:27,  2.62it/s, loss=10.5]"
     ]
    },
    {
     "name": "stderr",
     "output_type": "stream",
     "text": [
      "C:\\Users\\PC\\Projects\\fastai\\courses\\dl1\\ULMFiT-Filipino\\fastai\\model.py:62: UserWarning: torch.nn.utils.clip_grad_norm is now deprecated in favor of torch.nn.utils.clip_grad_norm_.\n",
      "  if IS_TORCH_04: nn.utils.clip_grad_norm(trainable_params_(self.m), self.clip)\n"
     ]
    },
    {
     "name": "stdout",
     "output_type": "stream",
     "text": [
      "\r",
      " 30%|████████████████████▋                                               | 512/1683 [03:16<06:39,  2.93it/s, loss=10.5]"
     ]
    },
    {
     "name": "stderr",
     "output_type": "stream",
     "text": [
      "C:\\Users\\PC\\Projects\\fastai\\courses\\dl1\\ULMFiT-Filipino\\fastai\\model.py:62: UserWarning: torch.nn.utils.clip_grad_norm is now deprecated in favor of torch.nn.utils.clip_grad_norm_.\n",
      "  if IS_TORCH_04: nn.utils.clip_grad_norm(trainable_params_(self.m), self.clip)\n"
     ]
    },
    {
     "name": "stdout",
     "output_type": "stream",
     "text": [
      "\r",
      " 30%|████████████████████▋                                               | 513/1683 [03:17<06:53,  2.83it/s, loss=10.5]"
     ]
    },
    {
     "name": "stderr",
     "output_type": "stream",
     "text": [
      "C:\\Users\\PC\\Projects\\fastai\\courses\\dl1\\ULMFiT-Filipino\\fastai\\model.py:62: UserWarning: torch.nn.utils.clip_grad_norm is now deprecated in favor of torch.nn.utils.clip_grad_norm_.\n",
      "  if IS_TORCH_04: nn.utils.clip_grad_norm(trainable_params_(self.m), self.clip)\n"
     ]
    },
    {
     "name": "stdout",
     "output_type": "stream",
     "text": [
      "\r",
      " 31%|████████████████████▊                                               | 514/1683 [03:17<06:54,  2.82it/s, loss=10.5]"
     ]
    },
    {
     "name": "stderr",
     "output_type": "stream",
     "text": [
      "C:\\Users\\PC\\Projects\\fastai\\courses\\dl1\\ULMFiT-Filipino\\fastai\\model.py:62: UserWarning: torch.nn.utils.clip_grad_norm is now deprecated in favor of torch.nn.utils.clip_grad_norm_.\n",
      "  if IS_TORCH_04: nn.utils.clip_grad_norm(trainable_params_(self.m), self.clip)\n"
     ]
    },
    {
     "name": "stdout",
     "output_type": "stream",
     "text": [
      "\r",
      " 31%|████████████████████▊                                               | 515/1683 [03:17<06:19,  3.08it/s, loss=10.5]"
     ]
    },
    {
     "name": "stderr",
     "output_type": "stream",
     "text": [
      "C:\\Users\\PC\\Projects\\fastai\\courses\\dl1\\ULMFiT-Filipino\\fastai\\model.py:62: UserWarning: torch.nn.utils.clip_grad_norm is now deprecated in favor of torch.nn.utils.clip_grad_norm_.\n",
      "  if IS_TORCH_04: nn.utils.clip_grad_norm(trainable_params_(self.m), self.clip)\n"
     ]
    },
    {
     "name": "stdout",
     "output_type": "stream",
     "text": [
      "\r",
      " 31%|████████████████████▊                                               | 516/1683 [03:18<06:41,  2.91it/s, loss=10.5]"
     ]
    },
    {
     "name": "stderr",
     "output_type": "stream",
     "text": [
      "C:\\Users\\PC\\Projects\\fastai\\courses\\dl1\\ULMFiT-Filipino\\fastai\\model.py:62: UserWarning: torch.nn.utils.clip_grad_norm is now deprecated in favor of torch.nn.utils.clip_grad_norm_.\n",
      "  if IS_TORCH_04: nn.utils.clip_grad_norm(trainable_params_(self.m), self.clip)\n"
     ]
    },
    {
     "name": "stdout",
     "output_type": "stream",
     "text": [
      "\r",
      " 31%|████████████████████▉                                               | 517/1683 [03:18<06:54,  2.81it/s, loss=10.5]"
     ]
    },
    {
     "name": "stderr",
     "output_type": "stream",
     "text": [
      "C:\\Users\\PC\\Projects\\fastai\\courses\\dl1\\ULMFiT-Filipino\\fastai\\model.py:62: UserWarning: torch.nn.utils.clip_grad_norm is now deprecated in favor of torch.nn.utils.clip_grad_norm_.\n",
      "  if IS_TORCH_04: nn.utils.clip_grad_norm(trainable_params_(self.m), self.clip)\n"
     ]
    },
    {
     "name": "stdout",
     "output_type": "stream",
     "text": [
      "\r",
      " 31%|████████████████████▉                                               | 518/1683 [03:18<06:32,  2.97it/s, loss=10.5]"
     ]
    },
    {
     "name": "stderr",
     "output_type": "stream",
     "text": [
      "C:\\Users\\PC\\Projects\\fastai\\courses\\dl1\\ULMFiT-Filipino\\fastai\\model.py:62: UserWarning: torch.nn.utils.clip_grad_norm is now deprecated in favor of torch.nn.utils.clip_grad_norm_.\n",
      "  if IS_TORCH_04: nn.utils.clip_grad_norm(trainable_params_(self.m), self.clip)\n"
     ]
    },
    {
     "name": "stdout",
     "output_type": "stream",
     "text": [
      "\r",
      " 31%|████████████████████▉                                               | 519/1683 [03:19<06:45,  2.87it/s, loss=10.5]"
     ]
    },
    {
     "name": "stderr",
     "output_type": "stream",
     "text": [
      "C:\\Users\\PC\\Projects\\fastai\\courses\\dl1\\ULMFiT-Filipino\\fastai\\model.py:62: UserWarning: torch.nn.utils.clip_grad_norm is now deprecated in favor of torch.nn.utils.clip_grad_norm_.\n",
      "  if IS_TORCH_04: nn.utils.clip_grad_norm(trainable_params_(self.m), self.clip)\n"
     ]
    },
    {
     "name": "stdout",
     "output_type": "stream",
     "text": [
      "\r",
      " 31%|█████████████████████                                               | 520/1683 [03:19<06:49,  2.84it/s, loss=10.5]"
     ]
    },
    {
     "name": "stderr",
     "output_type": "stream",
     "text": [
      "C:\\Users\\PC\\Projects\\fastai\\courses\\dl1\\ULMFiT-Filipino\\fastai\\model.py:62: UserWarning: torch.nn.utils.clip_grad_norm is now deprecated in favor of torch.nn.utils.clip_grad_norm_.\n",
      "  if IS_TORCH_04: nn.utils.clip_grad_norm(trainable_params_(self.m), self.clip)\n"
     ]
    },
    {
     "name": "stdout",
     "output_type": "stream",
     "text": [
      "\r",
      " 31%|█████████████████████                                               | 521/1683 [03:20<07:05,  2.73it/s, loss=10.5]"
     ]
    },
    {
     "name": "stderr",
     "output_type": "stream",
     "text": [
      "C:\\Users\\PC\\Projects\\fastai\\courses\\dl1\\ULMFiT-Filipino\\fastai\\model.py:62: UserWarning: torch.nn.utils.clip_grad_norm is now deprecated in favor of torch.nn.utils.clip_grad_norm_.\n",
      "  if IS_TORCH_04: nn.utils.clip_grad_norm(trainable_params_(self.m), self.clip)\n"
     ]
    },
    {
     "name": "stdout",
     "output_type": "stream",
     "text": [
      "\r",
      " 31%|█████████████████████                                               | 522/1683 [03:20<07:13,  2.68it/s, loss=10.5]"
     ]
    },
    {
     "name": "stderr",
     "output_type": "stream",
     "text": [
      "C:\\Users\\PC\\Projects\\fastai\\courses\\dl1\\ULMFiT-Filipino\\fastai\\model.py:62: UserWarning: torch.nn.utils.clip_grad_norm is now deprecated in favor of torch.nn.utils.clip_grad_norm_.\n",
      "  if IS_TORCH_04: nn.utils.clip_grad_norm(trainable_params_(self.m), self.clip)\n"
     ]
    },
    {
     "name": "stdout",
     "output_type": "stream",
     "text": [
      "\r",
      " 31%|█████████████████████▏                                              | 523/1683 [03:20<07:12,  2.68it/s, loss=10.5]"
     ]
    },
    {
     "name": "stderr",
     "output_type": "stream",
     "text": [
      "C:\\Users\\PC\\Projects\\fastai\\courses\\dl1\\ULMFiT-Filipino\\fastai\\model.py:62: UserWarning: torch.nn.utils.clip_grad_norm is now deprecated in favor of torch.nn.utils.clip_grad_norm_.\n",
      "  if IS_TORCH_04: nn.utils.clip_grad_norm(trainable_params_(self.m), self.clip)\n"
     ]
    },
    {
     "name": "stdout",
     "output_type": "stream",
     "text": [
      "\r",
      " 31%|█████████████████████▏                                              | 524/1683 [03:21<07:14,  2.67it/s, loss=10.4]"
     ]
    },
    {
     "name": "stderr",
     "output_type": "stream",
     "text": [
      "C:\\Users\\PC\\Projects\\fastai\\courses\\dl1\\ULMFiT-Filipino\\fastai\\model.py:62: UserWarning: torch.nn.utils.clip_grad_norm is now deprecated in favor of torch.nn.utils.clip_grad_norm_.\n",
      "  if IS_TORCH_04: nn.utils.clip_grad_norm(trainable_params_(self.m), self.clip)\n"
     ]
    },
    {
     "name": "stdout",
     "output_type": "stream",
     "text": [
      "\r",
      " 31%|█████████████████████▏                                              | 525/1683 [03:21<07:23,  2.61it/s, loss=10.4]"
     ]
    },
    {
     "name": "stderr",
     "output_type": "stream",
     "text": [
      "C:\\Users\\PC\\Projects\\fastai\\courses\\dl1\\ULMFiT-Filipino\\fastai\\model.py:62: UserWarning: torch.nn.utils.clip_grad_norm is now deprecated in favor of torch.nn.utils.clip_grad_norm_.\n",
      "  if IS_TORCH_04: nn.utils.clip_grad_norm(trainable_params_(self.m), self.clip)\n"
     ]
    },
    {
     "name": "stdout",
     "output_type": "stream",
     "text": [
      "\r",
      " 31%|█████████████████████▎                                              | 526/1683 [03:22<07:19,  2.63it/s, loss=10.4]"
     ]
    },
    {
     "name": "stderr",
     "output_type": "stream",
     "text": [
      "C:\\Users\\PC\\Projects\\fastai\\courses\\dl1\\ULMFiT-Filipino\\fastai\\model.py:62: UserWarning: torch.nn.utils.clip_grad_norm is now deprecated in favor of torch.nn.utils.clip_grad_norm_.\n",
      "  if IS_TORCH_04: nn.utils.clip_grad_norm(trainable_params_(self.m), self.clip)\n"
     ]
    },
    {
     "name": "stdout",
     "output_type": "stream",
     "text": [
      "\r",
      " 31%|█████████████████████▎                                              | 527/1683 [03:22<07:34,  2.54it/s, loss=10.4]"
     ]
    },
    {
     "name": "stderr",
     "output_type": "stream",
     "text": [
      "C:\\Users\\PC\\Projects\\fastai\\courses\\dl1\\ULMFiT-Filipino\\fastai\\model.py:62: UserWarning: torch.nn.utils.clip_grad_norm is now deprecated in favor of torch.nn.utils.clip_grad_norm_.\n",
      "  if IS_TORCH_04: nn.utils.clip_grad_norm(trainable_params_(self.m), self.clip)\n"
     ]
    },
    {
     "name": "stdout",
     "output_type": "stream",
     "text": [
      "\r",
      " 31%|█████████████████████▎                                              | 528/1683 [03:22<07:30,  2.57it/s, loss=10.4]"
     ]
    },
    {
     "name": "stderr",
     "output_type": "stream",
     "text": [
      "C:\\Users\\PC\\Projects\\fastai\\courses\\dl1\\ULMFiT-Filipino\\fastai\\model.py:62: UserWarning: torch.nn.utils.clip_grad_norm is now deprecated in favor of torch.nn.utils.clip_grad_norm_.\n",
      "  if IS_TORCH_04: nn.utils.clip_grad_norm(trainable_params_(self.m), self.clip)\n"
     ]
    },
    {
     "name": "stdout",
     "output_type": "stream",
     "text": [
      "\r",
      " 31%|█████████████████████▎                                              | 529/1683 [03:23<07:44,  2.48it/s, loss=10.4]"
     ]
    },
    {
     "name": "stderr",
     "output_type": "stream",
     "text": [
      "C:\\Users\\PC\\Projects\\fastai\\courses\\dl1\\ULMFiT-Filipino\\fastai\\model.py:62: UserWarning: torch.nn.utils.clip_grad_norm is now deprecated in favor of torch.nn.utils.clip_grad_norm_.\n",
      "  if IS_TORCH_04: nn.utils.clip_grad_norm(trainable_params_(self.m), self.clip)\n"
     ]
    },
    {
     "name": "stdout",
     "output_type": "stream",
     "text": [
      "\r",
      " 31%|█████████████████████▍                                              | 530/1683 [03:23<07:52,  2.44it/s, loss=10.4]"
     ]
    },
    {
     "name": "stderr",
     "output_type": "stream",
     "text": [
      "C:\\Users\\PC\\Projects\\fastai\\courses\\dl1\\ULMFiT-Filipino\\fastai\\model.py:62: UserWarning: torch.nn.utils.clip_grad_norm is now deprecated in favor of torch.nn.utils.clip_grad_norm_.\n",
      "  if IS_TORCH_04: nn.utils.clip_grad_norm(trainable_params_(self.m), self.clip)\n"
     ]
    },
    {
     "name": "stdout",
     "output_type": "stream",
     "text": [
      "\r",
      " 32%|█████████████████████▍                                              | 531/1683 [03:24<07:42,  2.49it/s, loss=10.4]"
     ]
    },
    {
     "name": "stderr",
     "output_type": "stream",
     "text": [
      "C:\\Users\\PC\\Projects\\fastai\\courses\\dl1\\ULMFiT-Filipino\\fastai\\model.py:62: UserWarning: torch.nn.utils.clip_grad_norm is now deprecated in favor of torch.nn.utils.clip_grad_norm_.\n",
      "  if IS_TORCH_04: nn.utils.clip_grad_norm(trainable_params_(self.m), self.clip)\n"
     ]
    },
    {
     "name": "stdout",
     "output_type": "stream",
     "text": [
      "\r",
      " 32%|█████████████████████▍                                              | 532/1683 [03:24<07:43,  2.49it/s, loss=10.4]"
     ]
    },
    {
     "name": "stderr",
     "output_type": "stream",
     "text": [
      "C:\\Users\\PC\\Projects\\fastai\\courses\\dl1\\ULMFiT-Filipino\\fastai\\model.py:62: UserWarning: torch.nn.utils.clip_grad_norm is now deprecated in favor of torch.nn.utils.clip_grad_norm_.\n",
      "  if IS_TORCH_04: nn.utils.clip_grad_norm(trainable_params_(self.m), self.clip)\n"
     ]
    },
    {
     "name": "stdout",
     "output_type": "stream",
     "text": [
      "\r",
      " 32%|█████████████████████▌                                              | 533/1683 [03:24<07:41,  2.49it/s, loss=10.4]"
     ]
    },
    {
     "name": "stderr",
     "output_type": "stream",
     "text": [
      "C:\\Users\\PC\\Projects\\fastai\\courses\\dl1\\ULMFiT-Filipino\\fastai\\model.py:62: UserWarning: torch.nn.utils.clip_grad_norm is now deprecated in favor of torch.nn.utils.clip_grad_norm_.\n",
      "  if IS_TORCH_04: nn.utils.clip_grad_norm(trainable_params_(self.m), self.clip)\n"
     ]
    },
    {
     "name": "stdout",
     "output_type": "stream",
     "text": [
      "\r",
      " 32%|█████████████████████▌                                              | 534/1683 [03:25<07:36,  2.52it/s, loss=10.4]"
     ]
    },
    {
     "name": "stderr",
     "output_type": "stream",
     "text": [
      "C:\\Users\\PC\\Projects\\fastai\\courses\\dl1\\ULMFiT-Filipino\\fastai\\model.py:62: UserWarning: torch.nn.utils.clip_grad_norm is now deprecated in favor of torch.nn.utils.clip_grad_norm_.\n",
      "  if IS_TORCH_04: nn.utils.clip_grad_norm(trainable_params_(self.m), self.clip)\n"
     ]
    },
    {
     "name": "stdout",
     "output_type": "stream",
     "text": [
      "\r",
      " 32%|█████████████████████▌                                              | 535/1683 [03:25<07:34,  2.53it/s, loss=10.4]"
     ]
    },
    {
     "name": "stderr",
     "output_type": "stream",
     "text": [
      "C:\\Users\\PC\\Projects\\fastai\\courses\\dl1\\ULMFiT-Filipino\\fastai\\model.py:62: UserWarning: torch.nn.utils.clip_grad_norm is now deprecated in favor of torch.nn.utils.clip_grad_norm_.\n",
      "  if IS_TORCH_04: nn.utils.clip_grad_norm(trainable_params_(self.m), self.clip)\n"
     ]
    },
    {
     "name": "stdout",
     "output_type": "stream",
     "text": [
      "\r",
      " 32%|█████████████████████▋                                              | 536/1683 [03:26<07:32,  2.53it/s, loss=10.4]"
     ]
    },
    {
     "name": "stderr",
     "output_type": "stream",
     "text": [
      "C:\\Users\\PC\\Projects\\fastai\\courses\\dl1\\ULMFiT-Filipino\\fastai\\model.py:62: UserWarning: torch.nn.utils.clip_grad_norm is now deprecated in favor of torch.nn.utils.clip_grad_norm_.\n",
      "  if IS_TORCH_04: nn.utils.clip_grad_norm(trainable_params_(self.m), self.clip)\n"
     ]
    },
    {
     "name": "stdout",
     "output_type": "stream",
     "text": [
      "\r",
      " 32%|█████████████████████▋                                              | 537/1683 [03:26<07:38,  2.50it/s, loss=10.4]"
     ]
    },
    {
     "name": "stderr",
     "output_type": "stream",
     "text": [
      "C:\\Users\\PC\\Projects\\fastai\\courses\\dl1\\ULMFiT-Filipino\\fastai\\model.py:62: UserWarning: torch.nn.utils.clip_grad_norm is now deprecated in favor of torch.nn.utils.clip_grad_norm_.\n",
      "  if IS_TORCH_04: nn.utils.clip_grad_norm(trainable_params_(self.m), self.clip)\n"
     ]
    },
    {
     "name": "stdout",
     "output_type": "stream",
     "text": [
      "\r",
      " 32%|█████████████████████▋                                              | 538/1683 [03:26<07:43,  2.47it/s, loss=10.3]"
     ]
    },
    {
     "name": "stderr",
     "output_type": "stream",
     "text": [
      "C:\\Users\\PC\\Projects\\fastai\\courses\\dl1\\ULMFiT-Filipino\\fastai\\model.py:62: UserWarning: torch.nn.utils.clip_grad_norm is now deprecated in favor of torch.nn.utils.clip_grad_norm_.\n",
      "  if IS_TORCH_04: nn.utils.clip_grad_norm(trainable_params_(self.m), self.clip)\n"
     ]
    },
    {
     "name": "stdout",
     "output_type": "stream",
     "text": [
      "\r",
      " 32%|█████████████████████▊                                              | 539/1683 [03:27<07:40,  2.48it/s, loss=10.3]"
     ]
    },
    {
     "name": "stderr",
     "output_type": "stream",
     "text": [
      "C:\\Users\\PC\\Projects\\fastai\\courses\\dl1\\ULMFiT-Filipino\\fastai\\model.py:62: UserWarning: torch.nn.utils.clip_grad_norm is now deprecated in favor of torch.nn.utils.clip_grad_norm_.\n",
      "  if IS_TORCH_04: nn.utils.clip_grad_norm(trainable_params_(self.m), self.clip)\n"
     ]
    },
    {
     "name": "stdout",
     "output_type": "stream",
     "text": [
      "\r",
      " 32%|█████████████████████▊                                              | 540/1683 [03:27<07:37,  2.50it/s, loss=10.3]"
     ]
    },
    {
     "name": "stderr",
     "output_type": "stream",
     "text": [
      "C:\\Users\\PC\\Projects\\fastai\\courses\\dl1\\ULMFiT-Filipino\\fastai\\model.py:62: UserWarning: torch.nn.utils.clip_grad_norm is now deprecated in favor of torch.nn.utils.clip_grad_norm_.\n",
      "  if IS_TORCH_04: nn.utils.clip_grad_norm(trainable_params_(self.m), self.clip)\n"
     ]
    },
    {
     "name": "stdout",
     "output_type": "stream",
     "text": [
      "\r",
      " 32%|█████████████████████▊                                              | 541/1683 [03:28<07:35,  2.51it/s, loss=10.3]"
     ]
    },
    {
     "name": "stderr",
     "output_type": "stream",
     "text": [
      "C:\\Users\\PC\\Projects\\fastai\\courses\\dl1\\ULMFiT-Filipino\\fastai\\model.py:62: UserWarning: torch.nn.utils.clip_grad_norm is now deprecated in favor of torch.nn.utils.clip_grad_norm_.\n",
      "  if IS_TORCH_04: nn.utils.clip_grad_norm(trainable_params_(self.m), self.clip)\n"
     ]
    },
    {
     "name": "stdout",
     "output_type": "stream",
     "text": [
      "\r",
      " 32%|█████████████████████▉                                              | 542/1683 [03:28<07:29,  2.54it/s, loss=10.3]"
     ]
    },
    {
     "name": "stderr",
     "output_type": "stream",
     "text": [
      "C:\\Users\\PC\\Projects\\fastai\\courses\\dl1\\ULMFiT-Filipino\\fastai\\model.py:62: UserWarning: torch.nn.utils.clip_grad_norm is now deprecated in favor of torch.nn.utils.clip_grad_norm_.\n",
      "  if IS_TORCH_04: nn.utils.clip_grad_norm(trainable_params_(self.m), self.clip)\n"
     ]
    },
    {
     "name": "stdout",
     "output_type": "stream",
     "text": [
      "\r",
      " 32%|█████████████████████▉                                              | 543/1683 [03:28<07:27,  2.55it/s, loss=10.3]"
     ]
    },
    {
     "name": "stderr",
     "output_type": "stream",
     "text": [
      "C:\\Users\\PC\\Projects\\fastai\\courses\\dl1\\ULMFiT-Filipino\\fastai\\model.py:62: UserWarning: torch.nn.utils.clip_grad_norm is now deprecated in favor of torch.nn.utils.clip_grad_norm_.\n",
      "  if IS_TORCH_04: nn.utils.clip_grad_norm(trainable_params_(self.m), self.clip)\n"
     ]
    },
    {
     "name": "stdout",
     "output_type": "stream",
     "text": [
      "\r",
      " 32%|█████████████████████▉                                              | 544/1683 [03:29<07:47,  2.44it/s, loss=10.3]"
     ]
    },
    {
     "name": "stderr",
     "output_type": "stream",
     "text": [
      "C:\\Users\\PC\\Projects\\fastai\\courses\\dl1\\ULMFiT-Filipino\\fastai\\model.py:62: UserWarning: torch.nn.utils.clip_grad_norm is now deprecated in favor of torch.nn.utils.clip_grad_norm_.\n",
      "  if IS_TORCH_04: nn.utils.clip_grad_norm(trainable_params_(self.m), self.clip)\n"
     ]
    },
    {
     "name": "stdout",
     "output_type": "stream",
     "text": [
      "\r",
      " 32%|██████████████████████                                              | 545/1683 [03:29<07:39,  2.48it/s, loss=10.3]"
     ]
    },
    {
     "name": "stderr",
     "output_type": "stream",
     "text": [
      "C:\\Users\\PC\\Projects\\fastai\\courses\\dl1\\ULMFiT-Filipino\\fastai\\model.py:62: UserWarning: torch.nn.utils.clip_grad_norm is now deprecated in favor of torch.nn.utils.clip_grad_norm_.\n",
      "  if IS_TORCH_04: nn.utils.clip_grad_norm(trainable_params_(self.m), self.clip)\n"
     ]
    },
    {
     "name": "stdout",
     "output_type": "stream",
     "text": [
      "\r",
      " 32%|██████████████████████                                              | 546/1683 [03:30<07:34,  2.50it/s, loss=10.3]"
     ]
    },
    {
     "name": "stderr",
     "output_type": "stream",
     "text": [
      "C:\\Users\\PC\\Projects\\fastai\\courses\\dl1\\ULMFiT-Filipino\\fastai\\model.py:62: UserWarning: torch.nn.utils.clip_grad_norm is now deprecated in favor of torch.nn.utils.clip_grad_norm_.\n",
      "  if IS_TORCH_04: nn.utils.clip_grad_norm(trainable_params_(self.m), self.clip)\n"
     ]
    },
    {
     "name": "stdout",
     "output_type": "stream",
     "text": [
      "\r",
      " 33%|██████████████████████                                              | 547/1683 [03:30<07:18,  2.59it/s, loss=10.3]"
     ]
    },
    {
     "name": "stderr",
     "output_type": "stream",
     "text": [
      "C:\\Users\\PC\\Projects\\fastai\\courses\\dl1\\ULMFiT-Filipino\\fastai\\model.py:62: UserWarning: torch.nn.utils.clip_grad_norm is now deprecated in favor of torch.nn.utils.clip_grad_norm_.\n",
      "  if IS_TORCH_04: nn.utils.clip_grad_norm(trainable_params_(self.m), self.clip)\n"
     ]
    },
    {
     "name": "stdout",
     "output_type": "stream",
     "text": [
      "\r",
      " 33%|██████████████████████▏                                             | 548/1683 [03:30<07:20,  2.58it/s, loss=10.2]"
     ]
    },
    {
     "name": "stderr",
     "output_type": "stream",
     "text": [
      "C:\\Users\\PC\\Projects\\fastai\\courses\\dl1\\ULMFiT-Filipino\\fastai\\model.py:62: UserWarning: torch.nn.utils.clip_grad_norm is now deprecated in favor of torch.nn.utils.clip_grad_norm_.\n",
      "  if IS_TORCH_04: nn.utils.clip_grad_norm(trainable_params_(self.m), self.clip)\n"
     ]
    },
    {
     "name": "stdout",
     "output_type": "stream",
     "text": [
      "\r",
      " 33%|██████████████████████▏                                             | 549/1683 [03:31<06:37,  2.85it/s, loss=10.2]"
     ]
    },
    {
     "name": "stderr",
     "output_type": "stream",
     "text": [
      "C:\\Users\\PC\\Projects\\fastai\\courses\\dl1\\ULMFiT-Filipino\\fastai\\model.py:62: UserWarning: torch.nn.utils.clip_grad_norm is now deprecated in favor of torch.nn.utils.clip_grad_norm_.\n",
      "  if IS_TORCH_04: nn.utils.clip_grad_norm(trainable_params_(self.m), self.clip)\n"
     ]
    },
    {
     "name": "stdout",
     "output_type": "stream",
     "text": [
      "\r",
      " 33%|██████████████████████▏                                             | 550/1683 [03:31<07:00,  2.70it/s, loss=10.2]"
     ]
    },
    {
     "name": "stderr",
     "output_type": "stream",
     "text": [
      "C:\\Users\\PC\\Projects\\fastai\\courses\\dl1\\ULMFiT-Filipino\\fastai\\model.py:62: UserWarning: torch.nn.utils.clip_grad_norm is now deprecated in favor of torch.nn.utils.clip_grad_norm_.\n",
      "  if IS_TORCH_04: nn.utils.clip_grad_norm(trainable_params_(self.m), self.clip)\n"
     ]
    },
    {
     "name": "stdout",
     "output_type": "stream",
     "text": [
      "\r",
      " 33%|██████████████████████▎                                             | 551/1683 [03:31<07:02,  2.68it/s, loss=10.2]"
     ]
    },
    {
     "name": "stderr",
     "output_type": "stream",
     "text": [
      "C:\\Users\\PC\\Projects\\fastai\\courses\\dl1\\ULMFiT-Filipino\\fastai\\model.py:62: UserWarning: torch.nn.utils.clip_grad_norm is now deprecated in favor of torch.nn.utils.clip_grad_norm_.\n",
      "  if IS_TORCH_04: nn.utils.clip_grad_norm(trainable_params_(self.m), self.clip)\n"
     ]
    },
    {
     "name": "stdout",
     "output_type": "stream",
     "text": [
      "\r",
      " 33%|██████████████████████▎                                             | 552/1683 [03:32<07:11,  2.62it/s, loss=10.2]"
     ]
    },
    {
     "name": "stderr",
     "output_type": "stream",
     "text": [
      "C:\\Users\\PC\\Projects\\fastai\\courses\\dl1\\ULMFiT-Filipino\\fastai\\model.py:62: UserWarning: torch.nn.utils.clip_grad_norm is now deprecated in favor of torch.nn.utils.clip_grad_norm_.\n",
      "  if IS_TORCH_04: nn.utils.clip_grad_norm(trainable_params_(self.m), self.clip)\n"
     ]
    },
    {
     "name": "stdout",
     "output_type": "stream",
     "text": [
      "\r",
      " 33%|██████████████████████▎                                             | 553/1683 [03:32<07:17,  2.58it/s, loss=10.2]"
     ]
    },
    {
     "name": "stderr",
     "output_type": "stream",
     "text": [
      "C:\\Users\\PC\\Projects\\fastai\\courses\\dl1\\ULMFiT-Filipino\\fastai\\model.py:62: UserWarning: torch.nn.utils.clip_grad_norm is now deprecated in favor of torch.nn.utils.clip_grad_norm_.\n",
      "  if IS_TORCH_04: nn.utils.clip_grad_norm(trainable_params_(self.m), self.clip)\n"
     ]
    },
    {
     "name": "stdout",
     "output_type": "stream",
     "text": [
      "\r",
      " 33%|██████████████████████▍                                             | 554/1683 [03:33<07:10,  2.62it/s, loss=10.2]"
     ]
    },
    {
     "name": "stderr",
     "output_type": "stream",
     "text": [
      "C:\\Users\\PC\\Projects\\fastai\\courses\\dl1\\ULMFiT-Filipino\\fastai\\model.py:62: UserWarning: torch.nn.utils.clip_grad_norm is now deprecated in favor of torch.nn.utils.clip_grad_norm_.\n",
      "  if IS_TORCH_04: nn.utils.clip_grad_norm(trainable_params_(self.m), self.clip)\n"
     ]
    },
    {
     "name": "stdout",
     "output_type": "stream",
     "text": [
      "\r",
      " 33%|██████████████████████▍                                             | 555/1683 [03:33<07:14,  2.60it/s, loss=10.2]"
     ]
    },
    {
     "name": "stderr",
     "output_type": "stream",
     "text": [
      "C:\\Users\\PC\\Projects\\fastai\\courses\\dl1\\ULMFiT-Filipino\\fastai\\model.py:62: UserWarning: torch.nn.utils.clip_grad_norm is now deprecated in favor of torch.nn.utils.clip_grad_norm_.\n",
      "  if IS_TORCH_04: nn.utils.clip_grad_norm(trainable_params_(self.m), self.clip)\n"
     ]
    },
    {
     "name": "stdout",
     "output_type": "stream",
     "text": [
      "\r",
      " 33%|██████████████████████▍                                             | 556/1683 [03:33<07:16,  2.58it/s, loss=10.1]"
     ]
    },
    {
     "name": "stderr",
     "output_type": "stream",
     "text": [
      "C:\\Users\\PC\\Projects\\fastai\\courses\\dl1\\ULMFiT-Filipino\\fastai\\model.py:62: UserWarning: torch.nn.utils.clip_grad_norm is now deprecated in favor of torch.nn.utils.clip_grad_norm_.\n",
      "  if IS_TORCH_04: nn.utils.clip_grad_norm(trainable_params_(self.m), self.clip)\n"
     ]
    },
    {
     "name": "stdout",
     "output_type": "stream",
     "text": [
      "\r",
      " 33%|██████████████████████▌                                             | 557/1683 [03:34<07:22,  2.54it/s, loss=10.1]"
     ]
    },
    {
     "name": "stderr",
     "output_type": "stream",
     "text": [
      "C:\\Users\\PC\\Projects\\fastai\\courses\\dl1\\ULMFiT-Filipino\\fastai\\model.py:62: UserWarning: torch.nn.utils.clip_grad_norm is now deprecated in favor of torch.nn.utils.clip_grad_norm_.\n",
      "  if IS_TORCH_04: nn.utils.clip_grad_norm(trainable_params_(self.m), self.clip)\n"
     ]
    },
    {
     "name": "stdout",
     "output_type": "stream",
     "text": [
      "\r",
      " 33%|██████████████████████▌                                             | 558/1683 [03:34<07:21,  2.55it/s, loss=10.1]"
     ]
    },
    {
     "name": "stderr",
     "output_type": "stream",
     "text": [
      "C:\\Users\\PC\\Projects\\fastai\\courses\\dl1\\ULMFiT-Filipino\\fastai\\model.py:62: UserWarning: torch.nn.utils.clip_grad_norm is now deprecated in favor of torch.nn.utils.clip_grad_norm_.\n",
      "  if IS_TORCH_04: nn.utils.clip_grad_norm(trainable_params_(self.m), self.clip)\n"
     ]
    },
    {
     "name": "stdout",
     "output_type": "stream",
     "text": [
      "\r",
      " 33%|██████████████████████▌                                             | 559/1683 [03:35<07:23,  2.54it/s, loss=10.1]"
     ]
    },
    {
     "name": "stderr",
     "output_type": "stream",
     "text": [
      "C:\\Users\\PC\\Projects\\fastai\\courses\\dl1\\ULMFiT-Filipino\\fastai\\model.py:62: UserWarning: torch.nn.utils.clip_grad_norm is now deprecated in favor of torch.nn.utils.clip_grad_norm_.\n",
      "  if IS_TORCH_04: nn.utils.clip_grad_norm(trainable_params_(self.m), self.clip)\n"
     ]
    },
    {
     "name": "stdout",
     "output_type": "stream",
     "text": [
      "\r",
      " 33%|██████████████████████▋                                             | 560/1683 [03:35<07:24,  2.53it/s, loss=10.1]"
     ]
    },
    {
     "name": "stderr",
     "output_type": "stream",
     "text": [
      "C:\\Users\\PC\\Projects\\fastai\\courses\\dl1\\ULMFiT-Filipino\\fastai\\model.py:62: UserWarning: torch.nn.utils.clip_grad_norm is now deprecated in favor of torch.nn.utils.clip_grad_norm_.\n",
      "  if IS_TORCH_04: nn.utils.clip_grad_norm(trainable_params_(self.m), self.clip)\n"
     ]
    },
    {
     "name": "stdout",
     "output_type": "stream",
     "text": [
      "\r",
      " 33%|██████████████████████▋                                             | 561/1683 [03:35<07:33,  2.47it/s, loss=10.1]"
     ]
    },
    {
     "name": "stderr",
     "output_type": "stream",
     "text": [
      "C:\\Users\\PC\\Projects\\fastai\\courses\\dl1\\ULMFiT-Filipino\\fastai\\model.py:62: UserWarning: torch.nn.utils.clip_grad_norm is now deprecated in favor of torch.nn.utils.clip_grad_norm_.\n",
      "  if IS_TORCH_04: nn.utils.clip_grad_norm(trainable_params_(self.m), self.clip)\n"
     ]
    },
    {
     "name": "stdout",
     "output_type": "stream",
     "text": [
      "\r",
      " 33%|███████████████████████▎                                              | 562/1683 [03:36<07:28,  2.50it/s, loss=10]"
     ]
    },
    {
     "name": "stderr",
     "output_type": "stream",
     "text": [
      "C:\\Users\\PC\\Projects\\fastai\\courses\\dl1\\ULMFiT-Filipino\\fastai\\model.py:62: UserWarning: torch.nn.utils.clip_grad_norm is now deprecated in favor of torch.nn.utils.clip_grad_norm_.\n",
      "  if IS_TORCH_04: nn.utils.clip_grad_norm(trainable_params_(self.m), self.clip)\n"
     ]
    },
    {
     "name": "stdout",
     "output_type": "stream",
     "text": [
      "\r",
      " 33%|███████████████████████▍                                              | 563/1683 [03:36<07:33,  2.47it/s, loss=10]"
     ]
    },
    {
     "name": "stderr",
     "output_type": "stream",
     "text": [
      "C:\\Users\\PC\\Projects\\fastai\\courses\\dl1\\ULMFiT-Filipino\\fastai\\model.py:62: UserWarning: torch.nn.utils.clip_grad_norm is now deprecated in favor of torch.nn.utils.clip_grad_norm_.\n",
      "  if IS_TORCH_04: nn.utils.clip_grad_norm(trainable_params_(self.m), self.clip)\n"
     ]
    },
    {
     "name": "stdout",
     "output_type": "stream",
     "text": [
      "\r",
      " 34%|██████████████████████▊                                             | 564/1683 [03:37<07:34,  2.46it/s, loss=9.99]"
     ]
    },
    {
     "name": "stderr",
     "output_type": "stream",
     "text": [
      "C:\\Users\\PC\\Projects\\fastai\\courses\\dl1\\ULMFiT-Filipino\\fastai\\model.py:62: UserWarning: torch.nn.utils.clip_grad_norm is now deprecated in favor of torch.nn.utils.clip_grad_norm_.\n",
      "  if IS_TORCH_04: nn.utils.clip_grad_norm(trainable_params_(self.m), self.clip)\n"
     ]
    },
    {
     "name": "stdout",
     "output_type": "stream",
     "text": [
      "\r",
      " 34%|██████████████████████▊                                             | 565/1683 [03:37<07:23,  2.52it/s, loss=9.97]"
     ]
    },
    {
     "name": "stderr",
     "output_type": "stream",
     "text": [
      "C:\\Users\\PC\\Projects\\fastai\\courses\\dl1\\ULMFiT-Filipino\\fastai\\model.py:62: UserWarning: torch.nn.utils.clip_grad_norm is now deprecated in favor of torch.nn.utils.clip_grad_norm_.\n",
      "  if IS_TORCH_04: nn.utils.clip_grad_norm(trainable_params_(self.m), self.clip)\n"
     ]
    },
    {
     "name": "stdout",
     "output_type": "stream",
     "text": [
      "\r",
      " 34%|██████████████████████▊                                             | 566/1683 [03:37<07:19,  2.54it/s, loss=9.95]"
     ]
    },
    {
     "name": "stderr",
     "output_type": "stream",
     "text": [
      "C:\\Users\\PC\\Projects\\fastai\\courses\\dl1\\ULMFiT-Filipino\\fastai\\model.py:62: UserWarning: torch.nn.utils.clip_grad_norm is now deprecated in favor of torch.nn.utils.clip_grad_norm_.\n",
      "  if IS_TORCH_04: nn.utils.clip_grad_norm(trainable_params_(self.m), self.clip)\n"
     ]
    },
    {
     "name": "stdout",
     "output_type": "stream",
     "text": [
      "\r",
      " 34%|██████████████████████▉                                             | 567/1683 [03:38<07:18,  2.54it/s, loss=9.93]"
     ]
    },
    {
     "name": "stderr",
     "output_type": "stream",
     "text": [
      "C:\\Users\\PC\\Projects\\fastai\\courses\\dl1\\ULMFiT-Filipino\\fastai\\model.py:62: UserWarning: torch.nn.utils.clip_grad_norm is now deprecated in favor of torch.nn.utils.clip_grad_norm_.\n",
      "  if IS_TORCH_04: nn.utils.clip_grad_norm(trainable_params_(self.m), self.clip)\n"
     ]
    },
    {
     "name": "stdout",
     "output_type": "stream",
     "text": [
      "\r",
      " 34%|██████████████████████▉                                             | 568/1683 [03:38<07:14,  2.56it/s, loss=9.91]"
     ]
    },
    {
     "name": "stderr",
     "output_type": "stream",
     "text": [
      "C:\\Users\\PC\\Projects\\fastai\\courses\\dl1\\ULMFiT-Filipino\\fastai\\model.py:62: UserWarning: torch.nn.utils.clip_grad_norm is now deprecated in favor of torch.nn.utils.clip_grad_norm_.\n",
      "  if IS_TORCH_04: nn.utils.clip_grad_norm(trainable_params_(self.m), self.clip)\n"
     ]
    },
    {
     "name": "stdout",
     "output_type": "stream",
     "text": [
      "\r",
      " 34%|██████████████████████▉                                             | 569/1683 [03:38<07:23,  2.51it/s, loss=9.89]"
     ]
    },
    {
     "name": "stderr",
     "output_type": "stream",
     "text": [
      "C:\\Users\\PC\\Projects\\fastai\\courses\\dl1\\ULMFiT-Filipino\\fastai\\model.py:62: UserWarning: torch.nn.utils.clip_grad_norm is now deprecated in favor of torch.nn.utils.clip_grad_norm_.\n",
      "  if IS_TORCH_04: nn.utils.clip_grad_norm(trainable_params_(self.m), self.clip)\n"
     ]
    },
    {
     "name": "stdout",
     "output_type": "stream",
     "text": [
      "\r",
      " 34%|███████████████████████                                             | 570/1683 [03:39<07:21,  2.52it/s, loss=9.86]"
     ]
    },
    {
     "name": "stderr",
     "output_type": "stream",
     "text": [
      "C:\\Users\\PC\\Projects\\fastai\\courses\\dl1\\ULMFiT-Filipino\\fastai\\model.py:62: UserWarning: torch.nn.utils.clip_grad_norm is now deprecated in favor of torch.nn.utils.clip_grad_norm_.\n",
      "  if IS_TORCH_04: nn.utils.clip_grad_norm(trainable_params_(self.m), self.clip)\n"
     ]
    },
    {
     "name": "stdout",
     "output_type": "stream",
     "text": [
      "\r",
      " 34%|███████████████████████                                             | 571/1683 [03:39<07:18,  2.54it/s, loss=9.84]"
     ]
    },
    {
     "name": "stderr",
     "output_type": "stream",
     "text": [
      "C:\\Users\\PC\\Projects\\fastai\\courses\\dl1\\ULMFiT-Filipino\\fastai\\model.py:62: UserWarning: torch.nn.utils.clip_grad_norm is now deprecated in favor of torch.nn.utils.clip_grad_norm_.\n",
      "  if IS_TORCH_04: nn.utils.clip_grad_norm(trainable_params_(self.m), self.clip)\n"
     ]
    },
    {
     "name": "stdout",
     "output_type": "stream",
     "text": [
      "\r",
      " 34%|███████████████████████                                             | 572/1683 [03:40<07:15,  2.55it/s, loss=9.81]"
     ]
    },
    {
     "name": "stderr",
     "output_type": "stream",
     "text": [
      "C:\\Users\\PC\\Projects\\fastai\\courses\\dl1\\ULMFiT-Filipino\\fastai\\model.py:62: UserWarning: torch.nn.utils.clip_grad_norm is now deprecated in favor of torch.nn.utils.clip_grad_norm_.\n",
      "  if IS_TORCH_04: nn.utils.clip_grad_norm(trainable_params_(self.m), self.clip)\n"
     ]
    },
    {
     "name": "stdout",
     "output_type": "stream",
     "text": [
      "\r",
      " 34%|███████████████████████▏                                            | 573/1683 [03:40<07:25,  2.49it/s, loss=9.79]"
     ]
    },
    {
     "name": "stderr",
     "output_type": "stream",
     "text": [
      "C:\\Users\\PC\\Projects\\fastai\\courses\\dl1\\ULMFiT-Filipino\\fastai\\model.py:62: UserWarning: torch.nn.utils.clip_grad_norm is now deprecated in favor of torch.nn.utils.clip_grad_norm_.\n",
      "  if IS_TORCH_04: nn.utils.clip_grad_norm(trainable_params_(self.m), self.clip)\n"
     ]
    },
    {
     "name": "stdout",
     "output_type": "stream",
     "text": [
      "\r",
      " 34%|███████████████████████▏                                            | 574/1683 [03:40<07:21,  2.51it/s, loss=9.76]"
     ]
    },
    {
     "name": "stderr",
     "output_type": "stream",
     "text": [
      "C:\\Users\\PC\\Projects\\fastai\\courses\\dl1\\ULMFiT-Filipino\\fastai\\model.py:62: UserWarning: torch.nn.utils.clip_grad_norm is now deprecated in favor of torch.nn.utils.clip_grad_norm_.\n",
      "  if IS_TORCH_04: nn.utils.clip_grad_norm(trainable_params_(self.m), self.clip)\n"
     ]
    },
    {
     "name": "stdout",
     "output_type": "stream",
     "text": [
      "\r",
      " 34%|███████████████████████▏                                            | 575/1683 [03:41<07:18,  2.53it/s, loss=9.74]"
     ]
    },
    {
     "name": "stderr",
     "output_type": "stream",
     "text": [
      "C:\\Users\\PC\\Projects\\fastai\\courses\\dl1\\ULMFiT-Filipino\\fastai\\model.py:62: UserWarning: torch.nn.utils.clip_grad_norm is now deprecated in favor of torch.nn.utils.clip_grad_norm_.\n",
      "  if IS_TORCH_04: nn.utils.clip_grad_norm(trainable_params_(self.m), self.clip)\n"
     ]
    },
    {
     "name": "stdout",
     "output_type": "stream",
     "text": [
      "\r",
      " 34%|███████████████████████▎                                            | 576/1683 [03:41<07:26,  2.48it/s, loss=9.71]"
     ]
    },
    {
     "name": "stderr",
     "output_type": "stream",
     "text": [
      "C:\\Users\\PC\\Projects\\fastai\\courses\\dl1\\ULMFiT-Filipino\\fastai\\model.py:62: UserWarning: torch.nn.utils.clip_grad_norm is now deprecated in favor of torch.nn.utils.clip_grad_norm_.\n",
      "  if IS_TORCH_04: nn.utils.clip_grad_norm(trainable_params_(self.m), self.clip)\n"
     ]
    },
    {
     "name": "stdout",
     "output_type": "stream",
     "text": [
      "\r",
      " 34%|███████████████████████▎                                            | 577/1683 [03:42<07:27,  2.47it/s, loss=9.68]"
     ]
    },
    {
     "name": "stderr",
     "output_type": "stream",
     "text": [
      "C:\\Users\\PC\\Projects\\fastai\\courses\\dl1\\ULMFiT-Filipino\\fastai\\model.py:62: UserWarning: torch.nn.utils.clip_grad_norm is now deprecated in favor of torch.nn.utils.clip_grad_norm_.\n",
      "  if IS_TORCH_04: nn.utils.clip_grad_norm(trainable_params_(self.m), self.clip)\n"
     ]
    },
    {
     "name": "stdout",
     "output_type": "stream",
     "text": [
      "\r",
      " 34%|███████████████████████▎                                            | 578/1683 [03:42<07:25,  2.48it/s, loss=9.66]"
     ]
    },
    {
     "name": "stderr",
     "output_type": "stream",
     "text": [
      "C:\\Users\\PC\\Projects\\fastai\\courses\\dl1\\ULMFiT-Filipino\\fastai\\model.py:62: UserWarning: torch.nn.utils.clip_grad_norm is now deprecated in favor of torch.nn.utils.clip_grad_norm_.\n",
      "  if IS_TORCH_04: nn.utils.clip_grad_norm(trainable_params_(self.m), self.clip)\n"
     ]
    },
    {
     "name": "stdout",
     "output_type": "stream",
     "text": [
      "\r",
      " 34%|███████████████████████▍                                            | 579/1683 [03:43<07:25,  2.48it/s, loss=9.63]"
     ]
    },
    {
     "name": "stderr",
     "output_type": "stream",
     "text": [
      "C:\\Users\\PC\\Projects\\fastai\\courses\\dl1\\ULMFiT-Filipino\\fastai\\model.py:62: UserWarning: torch.nn.utils.clip_grad_norm is now deprecated in favor of torch.nn.utils.clip_grad_norm_.\n",
      "  if IS_TORCH_04: nn.utils.clip_grad_norm(trainable_params_(self.m), self.clip)\n"
     ]
    },
    {
     "name": "stdout",
     "output_type": "stream",
     "text": [
      "\r",
      " 34%|███████████████████████▊                                             | 580/1683 [03:43<07:23,  2.49it/s, loss=9.6]"
     ]
    },
    {
     "name": "stderr",
     "output_type": "stream",
     "text": [
      "C:\\Users\\PC\\Projects\\fastai\\courses\\dl1\\ULMFiT-Filipino\\fastai\\model.py:62: UserWarning: torch.nn.utils.clip_grad_norm is now deprecated in favor of torch.nn.utils.clip_grad_norm_.\n",
      "  if IS_TORCH_04: nn.utils.clip_grad_norm(trainable_params_(self.m), self.clip)\n"
     ]
    },
    {
     "name": "stdout",
     "output_type": "stream",
     "text": [
      "\r",
      " 35%|███████████████████████▍                                            | 581/1683 [03:43<07:30,  2.44it/s, loss=9.57]"
     ]
    },
    {
     "name": "stderr",
     "output_type": "stream",
     "text": [
      "C:\\Users\\PC\\Projects\\fastai\\courses\\dl1\\ULMFiT-Filipino\\fastai\\model.py:62: UserWarning: torch.nn.utils.clip_grad_norm is now deprecated in favor of torch.nn.utils.clip_grad_norm_.\n",
      "  if IS_TORCH_04: nn.utils.clip_grad_norm(trainable_params_(self.m), self.clip)\n"
     ]
    },
    {
     "name": "stdout",
     "output_type": "stream",
     "text": [
      "\r",
      " 35%|███████████████████████▌                                            | 582/1683 [03:44<07:38,  2.40it/s, loss=9.54]"
     ]
    },
    {
     "name": "stderr",
     "output_type": "stream",
     "text": [
      "C:\\Users\\PC\\Projects\\fastai\\courses\\dl1\\ULMFiT-Filipino\\fastai\\model.py:62: UserWarning: torch.nn.utils.clip_grad_norm is now deprecated in favor of torch.nn.utils.clip_grad_norm_.\n",
      "  if IS_TORCH_04: nn.utils.clip_grad_norm(trainable_params_(self.m), self.clip)\n"
     ]
    },
    {
     "name": "stdout",
     "output_type": "stream",
     "text": [
      "\r",
      " 35%|███████████████████████▌                                            | 583/1683 [03:44<07:30,  2.44it/s, loss=9.51]"
     ]
    },
    {
     "name": "stderr",
     "output_type": "stream",
     "text": [
      "C:\\Users\\PC\\Projects\\fastai\\courses\\dl1\\ULMFiT-Filipino\\fastai\\model.py:62: UserWarning: torch.nn.utils.clip_grad_norm is now deprecated in favor of torch.nn.utils.clip_grad_norm_.\n",
      "  if IS_TORCH_04: nn.utils.clip_grad_norm(trainable_params_(self.m), self.clip)\n"
     ]
    },
    {
     "name": "stdout",
     "output_type": "stream",
     "text": [
      "\r",
      " 35%|███████████████████████▌                                            | 584/1683 [03:45<07:26,  2.46it/s, loss=9.48]"
     ]
    },
    {
     "name": "stderr",
     "output_type": "stream",
     "text": [
      "C:\\Users\\PC\\Projects\\fastai\\courses\\dl1\\ULMFiT-Filipino\\fastai\\model.py:62: UserWarning: torch.nn.utils.clip_grad_norm is now deprecated in favor of torch.nn.utils.clip_grad_norm_.\n",
      "  if IS_TORCH_04: nn.utils.clip_grad_norm(trainable_params_(self.m), self.clip)\n"
     ]
    },
    {
     "name": "stdout",
     "output_type": "stream",
     "text": [
      "\r",
      " 35%|███████████████████████▋                                            | 585/1683 [03:45<07:25,  2.46it/s, loss=9.46]"
     ]
    },
    {
     "name": "stderr",
     "output_type": "stream",
     "text": [
      "C:\\Users\\PC\\Projects\\fastai\\courses\\dl1\\ULMFiT-Filipino\\fastai\\model.py:62: UserWarning: torch.nn.utils.clip_grad_norm is now deprecated in favor of torch.nn.utils.clip_grad_norm_.\n",
      "  if IS_TORCH_04: nn.utils.clip_grad_norm(trainable_params_(self.m), self.clip)\n"
     ]
    },
    {
     "name": "stdout",
     "output_type": "stream",
     "text": [
      "\r",
      " 35%|███████████████████████▋                                            | 586/1683 [03:45<07:16,  2.51it/s, loss=9.43]"
     ]
    },
    {
     "name": "stderr",
     "output_type": "stream",
     "text": [
      "C:\\Users\\PC\\Projects\\fastai\\courses\\dl1\\ULMFiT-Filipino\\fastai\\model.py:62: UserWarning: torch.nn.utils.clip_grad_norm is now deprecated in favor of torch.nn.utils.clip_grad_norm_.\n",
      "  if IS_TORCH_04: nn.utils.clip_grad_norm(trainable_params_(self.m), self.clip)\n"
     ]
    },
    {
     "name": "stdout",
     "output_type": "stream",
     "text": [
      "\r",
      " 35%|████████████████████████                                             | 587/1683 [03:46<07:11,  2.54it/s, loss=9.4]"
     ]
    },
    {
     "name": "stderr",
     "output_type": "stream",
     "text": [
      "C:\\Users\\PC\\Projects\\fastai\\courses\\dl1\\ULMFiT-Filipino\\fastai\\model.py:62: UserWarning: torch.nn.utils.clip_grad_norm is now deprecated in favor of torch.nn.utils.clip_grad_norm_.\n",
      "  if IS_TORCH_04: nn.utils.clip_grad_norm(trainable_params_(self.m), self.clip)\n"
     ]
    },
    {
     "name": "stdout",
     "output_type": "stream",
     "text": [
      "\r",
      " 35%|███████████████████████▊                                            | 588/1683 [03:46<06:56,  2.63it/s, loss=9.38]"
     ]
    },
    {
     "name": "stderr",
     "output_type": "stream",
     "text": [
      "C:\\Users\\PC\\Projects\\fastai\\courses\\dl1\\ULMFiT-Filipino\\fastai\\model.py:62: UserWarning: torch.nn.utils.clip_grad_norm is now deprecated in favor of torch.nn.utils.clip_grad_norm_.\n",
      "  if IS_TORCH_04: nn.utils.clip_grad_norm(trainable_params_(self.m), self.clip)\n"
     ]
    },
    {
     "name": "stdout",
     "output_type": "stream",
     "text": [
      "\r",
      " 35%|███████████████████████▊                                            | 589/1683 [03:46<07:04,  2.58it/s, loss=9.35]"
     ]
    },
    {
     "name": "stderr",
     "output_type": "stream",
     "text": [
      "C:\\Users\\PC\\Projects\\fastai\\courses\\dl1\\ULMFiT-Filipino\\fastai\\model.py:62: UserWarning: torch.nn.utils.clip_grad_norm is now deprecated in favor of torch.nn.utils.clip_grad_norm_.\n",
      "  if IS_TORCH_04: nn.utils.clip_grad_norm(trainable_params_(self.m), self.clip)\n"
     ]
    },
    {
     "name": "stdout",
     "output_type": "stream",
     "text": [
      "\r",
      " 35%|███████████████████████▊                                            | 590/1683 [03:47<07:16,  2.51it/s, loss=9.32]"
     ]
    },
    {
     "name": "stderr",
     "output_type": "stream",
     "text": [
      "C:\\Users\\PC\\Projects\\fastai\\courses\\dl1\\ULMFiT-Filipino\\fastai\\model.py:62: UserWarning: torch.nn.utils.clip_grad_norm is now deprecated in favor of torch.nn.utils.clip_grad_norm_.\n",
      "  if IS_TORCH_04: nn.utils.clip_grad_norm(trainable_params_(self.m), self.clip)\n"
     ]
    },
    {
     "name": "stdout",
     "output_type": "stream",
     "text": [
      "\r",
      " 35%|███████████████████████▉                                            | 591/1683 [03:47<07:09,  2.54it/s, loss=9.29]"
     ]
    },
    {
     "name": "stderr",
     "output_type": "stream",
     "text": [
      "C:\\Users\\PC\\Projects\\fastai\\courses\\dl1\\ULMFiT-Filipino\\fastai\\model.py:62: UserWarning: torch.nn.utils.clip_grad_norm is now deprecated in favor of torch.nn.utils.clip_grad_norm_.\n",
      "  if IS_TORCH_04: nn.utils.clip_grad_norm(trainable_params_(self.m), self.clip)\n"
     ]
    },
    {
     "name": "stdout",
     "output_type": "stream",
     "text": [
      "\r",
      " 35%|███████████████████████▉                                            | 592/1683 [03:48<07:20,  2.47it/s, loss=9.26]"
     ]
    },
    {
     "name": "stderr",
     "output_type": "stream",
     "text": [
      "C:\\Users\\PC\\Projects\\fastai\\courses\\dl1\\ULMFiT-Filipino\\fastai\\model.py:62: UserWarning: torch.nn.utils.clip_grad_norm is now deprecated in favor of torch.nn.utils.clip_grad_norm_.\n",
      "  if IS_TORCH_04: nn.utils.clip_grad_norm(trainable_params_(self.m), self.clip)\n"
     ]
    },
    {
     "name": "stdout",
     "output_type": "stream",
     "text": [
      "\r",
      " 35%|███████████████████████▉                                            | 593/1683 [03:48<06:26,  2.82it/s, loss=9.23]"
     ]
    },
    {
     "name": "stderr",
     "output_type": "stream",
     "text": [
      "C:\\Users\\PC\\Projects\\fastai\\courses\\dl1\\ULMFiT-Filipino\\fastai\\model.py:62: UserWarning: torch.nn.utils.clip_grad_norm is now deprecated in favor of torch.nn.utils.clip_grad_norm_.\n",
      "  if IS_TORCH_04: nn.utils.clip_grad_norm(trainable_params_(self.m), self.clip)\n"
     ]
    },
    {
     "name": "stdout",
     "output_type": "stream",
     "text": [
      "\r",
      " 35%|████████████████████████▎                                            | 594/1683 [03:48<06:38,  2.73it/s, loss=9.2]"
     ]
    },
    {
     "name": "stderr",
     "output_type": "stream",
     "text": [
      "C:\\Users\\PC\\Projects\\fastai\\courses\\dl1\\ULMFiT-Filipino\\fastai\\model.py:62: UserWarning: torch.nn.utils.clip_grad_norm is now deprecated in favor of torch.nn.utils.clip_grad_norm_.\n",
      "  if IS_TORCH_04: nn.utils.clip_grad_norm(trainable_params_(self.m), self.clip)\n"
     ]
    },
    {
     "name": "stdout",
     "output_type": "stream",
     "text": [
      "\r",
      " 35%|████████████████████████                                            | 595/1683 [03:49<06:21,  2.85it/s, loss=9.18]"
     ]
    },
    {
     "name": "stderr",
     "output_type": "stream",
     "text": [
      "C:\\Users\\PC\\Projects\\fastai\\courses\\dl1\\ULMFiT-Filipino\\fastai\\model.py:62: UserWarning: torch.nn.utils.clip_grad_norm is now deprecated in favor of torch.nn.utils.clip_grad_norm_.\n",
      "  if IS_TORCH_04: nn.utils.clip_grad_norm(trainable_params_(self.m), self.clip)\n"
     ]
    },
    {
     "name": "stdout",
     "output_type": "stream",
     "text": [
      "\r",
      " 35%|████████████████████████                                            | 596/1683 [03:49<06:41,  2.71it/s, loss=9.15]"
     ]
    },
    {
     "name": "stderr",
     "output_type": "stream",
     "text": [
      "C:\\Users\\PC\\Projects\\fastai\\courses\\dl1\\ULMFiT-Filipino\\fastai\\model.py:62: UserWarning: torch.nn.utils.clip_grad_norm is now deprecated in favor of torch.nn.utils.clip_grad_norm_.\n",
      "  if IS_TORCH_04: nn.utils.clip_grad_norm(trainable_params_(self.m), self.clip)\n"
     ]
    },
    {
     "name": "stdout",
     "output_type": "stream",
     "text": [
      "\r",
      " 35%|████████████████████████                                            | 597/1683 [03:49<06:46,  2.67it/s, loss=9.12]"
     ]
    },
    {
     "name": "stderr",
     "output_type": "stream",
     "text": [
      "C:\\Users\\PC\\Projects\\fastai\\courses\\dl1\\ULMFiT-Filipino\\fastai\\model.py:62: UserWarning: torch.nn.utils.clip_grad_norm is now deprecated in favor of torch.nn.utils.clip_grad_norm_.\n",
      "  if IS_TORCH_04: nn.utils.clip_grad_norm(trainable_params_(self.m), self.clip)\n"
     ]
    },
    {
     "name": "stdout",
     "output_type": "stream",
     "text": [
      "\r",
      " 36%|████████████████████████▏                                           | 598/1683 [03:50<06:55,  2.61it/s, loss=9.09]"
     ]
    },
    {
     "name": "stderr",
     "output_type": "stream",
     "text": [
      "C:\\Users\\PC\\Projects\\fastai\\courses\\dl1\\ULMFiT-Filipino\\fastai\\model.py:62: UserWarning: torch.nn.utils.clip_grad_norm is now deprecated in favor of torch.nn.utils.clip_grad_norm_.\n",
      "  if IS_TORCH_04: nn.utils.clip_grad_norm(trainable_params_(self.m), self.clip)\n"
     ]
    },
    {
     "name": "stdout",
     "output_type": "stream",
     "text": [
      "\r",
      " 36%|████████████████████████▏                                           | 599/1683 [03:50<07:05,  2.55it/s, loss=9.06]"
     ]
    },
    {
     "name": "stderr",
     "output_type": "stream",
     "text": [
      "C:\\Users\\PC\\Projects\\fastai\\courses\\dl1\\ULMFiT-Filipino\\fastai\\model.py:62: UserWarning: torch.nn.utils.clip_grad_norm is now deprecated in favor of torch.nn.utils.clip_grad_norm_.\n",
      "  if IS_TORCH_04: nn.utils.clip_grad_norm(trainable_params_(self.m), self.clip)\n"
     ]
    },
    {
     "name": "stdout",
     "output_type": "stream",
     "text": [
      "\r",
      " 36%|████████████████████████▏                                           | 600/1683 [03:51<07:09,  2.52it/s, loss=9.03]"
     ]
    },
    {
     "name": "stderr",
     "output_type": "stream",
     "text": [
      "C:\\Users\\PC\\Projects\\fastai\\courses\\dl1\\ULMFiT-Filipino\\fastai\\model.py:62: UserWarning: torch.nn.utils.clip_grad_norm is now deprecated in favor of torch.nn.utils.clip_grad_norm_.\n",
      "  if IS_TORCH_04: nn.utils.clip_grad_norm(trainable_params_(self.m), self.clip)\n"
     ]
    },
    {
     "name": "stdout",
     "output_type": "stream",
     "text": [
      "\r",
      " 36%|█████████████████████████▎                                             | 601/1683 [03:51<07:14,  2.49it/s, loss=9]"
     ]
    },
    {
     "name": "stderr",
     "output_type": "stream",
     "text": [
      "C:\\Users\\PC\\Projects\\fastai\\courses\\dl1\\ULMFiT-Filipino\\fastai\\model.py:62: UserWarning: torch.nn.utils.clip_grad_norm is now deprecated in favor of torch.nn.utils.clip_grad_norm_.\n",
      "  if IS_TORCH_04: nn.utils.clip_grad_norm(trainable_params_(self.m), self.clip)\n"
     ]
    },
    {
     "name": "stdout",
     "output_type": "stream",
     "text": [
      "\r",
      " 36%|████████████████████████▎                                           | 602/1683 [03:52<07:20,  2.45it/s, loss=8.97]"
     ]
    },
    {
     "name": "stderr",
     "output_type": "stream",
     "text": [
      "C:\\Users\\PC\\Projects\\fastai\\courses\\dl1\\ULMFiT-Filipino\\fastai\\model.py:62: UserWarning: torch.nn.utils.clip_grad_norm is now deprecated in favor of torch.nn.utils.clip_grad_norm_.\n",
      "  if IS_TORCH_04: nn.utils.clip_grad_norm(trainable_params_(self.m), self.clip)\n"
     ]
    },
    {
     "name": "stdout",
     "output_type": "stream",
     "text": [
      "\r",
      " 36%|████████████████████████▎                                           | 603/1683 [03:52<07:24,  2.43it/s, loss=8.94]"
     ]
    },
    {
     "name": "stderr",
     "output_type": "stream",
     "text": [
      "C:\\Users\\PC\\Projects\\fastai\\courses\\dl1\\ULMFiT-Filipino\\fastai\\model.py:62: UserWarning: torch.nn.utils.clip_grad_norm is now deprecated in favor of torch.nn.utils.clip_grad_norm_.\n",
      "  if IS_TORCH_04: nn.utils.clip_grad_norm(trainable_params_(self.m), self.clip)\n"
     ]
    },
    {
     "name": "stdout",
     "output_type": "stream",
     "text": [
      "\r",
      " 36%|████████████████████████▍                                           | 604/1683 [03:52<07:22,  2.44it/s, loss=8.92]"
     ]
    },
    {
     "name": "stderr",
     "output_type": "stream",
     "text": [
      "C:\\Users\\PC\\Projects\\fastai\\courses\\dl1\\ULMFiT-Filipino\\fastai\\model.py:62: UserWarning: torch.nn.utils.clip_grad_norm is now deprecated in favor of torch.nn.utils.clip_grad_norm_.\n",
      "  if IS_TORCH_04: nn.utils.clip_grad_norm(trainable_params_(self.m), self.clip)\n"
     ]
    },
    {
     "name": "stdout",
     "output_type": "stream",
     "text": [
      "\r",
      " 36%|████████████████████████▍                                           | 605/1683 [03:53<07:13,  2.49it/s, loss=8.89]"
     ]
    },
    {
     "name": "stderr",
     "output_type": "stream",
     "text": [
      "C:\\Users\\PC\\Projects\\fastai\\courses\\dl1\\ULMFiT-Filipino\\fastai\\model.py:62: UserWarning: torch.nn.utils.clip_grad_norm is now deprecated in favor of torch.nn.utils.clip_grad_norm_.\n",
      "  if IS_TORCH_04: nn.utils.clip_grad_norm(trainable_params_(self.m), self.clip)\n"
     ]
    },
    {
     "name": "stdout",
     "output_type": "stream",
     "text": [
      "\r",
      " 36%|████████████████████████▍                                           | 606/1683 [03:53<07:07,  2.52it/s, loss=8.86]"
     ]
    },
    {
     "name": "stderr",
     "output_type": "stream",
     "text": [
      "C:\\Users\\PC\\Projects\\fastai\\courses\\dl1\\ULMFiT-Filipino\\fastai\\model.py:62: UserWarning: torch.nn.utils.clip_grad_norm is now deprecated in favor of torch.nn.utils.clip_grad_norm_.\n",
      "  if IS_TORCH_04: nn.utils.clip_grad_norm(trainable_params_(self.m), self.clip)\n"
     ]
    },
    {
     "name": "stdout",
     "output_type": "stream",
     "text": [
      "\r",
      " 36%|████████████████████████▌                                           | 607/1683 [03:53<06:56,  2.58it/s, loss=8.84]"
     ]
    },
    {
     "name": "stderr",
     "output_type": "stream",
     "text": [
      "C:\\Users\\PC\\Projects\\fastai\\courses\\dl1\\ULMFiT-Filipino\\fastai\\model.py:62: UserWarning: torch.nn.utils.clip_grad_norm is now deprecated in favor of torch.nn.utils.clip_grad_norm_.\n",
      "  if IS_TORCH_04: nn.utils.clip_grad_norm(trainable_params_(self.m), self.clip)\n"
     ]
    },
    {
     "name": "stdout",
     "output_type": "stream",
     "text": [
      "\r",
      " 36%|████████████████████████▌                                           | 608/1683 [03:54<06:57,  2.58it/s, loss=8.81]"
     ]
    },
    {
     "name": "stderr",
     "output_type": "stream",
     "text": [
      "C:\\Users\\PC\\Projects\\fastai\\courses\\dl1\\ULMFiT-Filipino\\fastai\\model.py:62: UserWarning: torch.nn.utils.clip_grad_norm is now deprecated in favor of torch.nn.utils.clip_grad_norm_.\n",
      "  if IS_TORCH_04: nn.utils.clip_grad_norm(trainable_params_(self.m), self.clip)\n"
     ]
    },
    {
     "name": "stdout",
     "output_type": "stream",
     "text": [
      "\r",
      " 36%|████████████████████████▌                                           | 609/1683 [03:54<07:02,  2.54it/s, loss=8.78]"
     ]
    },
    {
     "name": "stderr",
     "output_type": "stream",
     "text": [
      "C:\\Users\\PC\\Projects\\fastai\\courses\\dl1\\ULMFiT-Filipino\\fastai\\model.py:62: UserWarning: torch.nn.utils.clip_grad_norm is now deprecated in favor of torch.nn.utils.clip_grad_norm_.\n",
      "  if IS_TORCH_04: nn.utils.clip_grad_norm(trainable_params_(self.m), self.clip)\n"
     ]
    },
    {
     "name": "stdout",
     "output_type": "stream",
     "text": [
      "\r",
      " 36%|████████████████████████▋                                           | 610/1683 [03:55<07:06,  2.52it/s, loss=8.76]"
     ]
    },
    {
     "name": "stderr",
     "output_type": "stream",
     "text": [
      "C:\\Users\\PC\\Projects\\fastai\\courses\\dl1\\ULMFiT-Filipino\\fastai\\model.py:62: UserWarning: torch.nn.utils.clip_grad_norm is now deprecated in favor of torch.nn.utils.clip_grad_norm_.\n",
      "  if IS_TORCH_04: nn.utils.clip_grad_norm(trainable_params_(self.m), self.clip)\n"
     ]
    },
    {
     "name": "stdout",
     "output_type": "stream",
     "text": [
      "\r",
      " 36%|████████████████████████▋                                           | 611/1683 [03:55<06:13,  2.87it/s, loss=8.74]"
     ]
    },
    {
     "name": "stderr",
     "output_type": "stream",
     "text": [
      "C:\\Users\\PC\\Projects\\fastai\\courses\\dl1\\ULMFiT-Filipino\\fastai\\model.py:62: UserWarning: torch.nn.utils.clip_grad_norm is now deprecated in favor of torch.nn.utils.clip_grad_norm_.\n",
      "  if IS_TORCH_04: nn.utils.clip_grad_norm(trainable_params_(self.m), self.clip)\n"
     ]
    },
    {
     "name": "stdout",
     "output_type": "stream",
     "text": [
      "\r",
      " 36%|████████████████████████▋                                           | 612/1683 [03:55<06:18,  2.83it/s, loss=8.71]"
     ]
    },
    {
     "name": "stderr",
     "output_type": "stream",
     "text": [
      "C:\\Users\\PC\\Projects\\fastai\\courses\\dl1\\ULMFiT-Filipino\\fastai\\model.py:62: UserWarning: torch.nn.utils.clip_grad_norm is now deprecated in favor of torch.nn.utils.clip_grad_norm_.\n",
      "  if IS_TORCH_04: nn.utils.clip_grad_norm(trainable_params_(self.m), self.clip)\n"
     ]
    },
    {
     "name": "stdout",
     "output_type": "stream",
     "text": [
      "\r",
      " 36%|████████████████████████▊                                           | 613/1683 [03:56<06:29,  2.75it/s, loss=8.68]"
     ]
    },
    {
     "name": "stderr",
     "output_type": "stream",
     "text": [
      "C:\\Users\\PC\\Projects\\fastai\\courses\\dl1\\ULMFiT-Filipino\\fastai\\model.py:62: UserWarning: torch.nn.utils.clip_grad_norm is now deprecated in favor of torch.nn.utils.clip_grad_norm_.\n",
      "  if IS_TORCH_04: nn.utils.clip_grad_norm(trainable_params_(self.m), self.clip)\n"
     ]
    },
    {
     "name": "stdout",
     "output_type": "stream",
     "text": [
      "\r",
      " 36%|████████████████████████▊                                           | 614/1683 [03:56<06:41,  2.66it/s, loss=8.66]"
     ]
    },
    {
     "name": "stderr",
     "output_type": "stream",
     "text": [
      "C:\\Users\\PC\\Projects\\fastai\\courses\\dl1\\ULMFiT-Filipino\\fastai\\model.py:62: UserWarning: torch.nn.utils.clip_grad_norm is now deprecated in favor of torch.nn.utils.clip_grad_norm_.\n",
      "  if IS_TORCH_04: nn.utils.clip_grad_norm(trainable_params_(self.m), self.clip)\n"
     ]
    },
    {
     "name": "stdout",
     "output_type": "stream",
     "text": [
      "\r",
      " 37%|████████████████████████▊                                           | 615/1683 [03:56<06:41,  2.66it/s, loss=8.63]"
     ]
    },
    {
     "name": "stderr",
     "output_type": "stream",
     "text": [
      "C:\\Users\\PC\\Projects\\fastai\\courses\\dl1\\ULMFiT-Filipino\\fastai\\model.py:62: UserWarning: torch.nn.utils.clip_grad_norm is now deprecated in favor of torch.nn.utils.clip_grad_norm_.\n",
      "  if IS_TORCH_04: nn.utils.clip_grad_norm(trainable_params_(self.m), self.clip)\n"
     ]
    },
    {
     "name": "stdout",
     "output_type": "stream",
     "text": [
      "\r",
      " 37%|████████████████████████▉                                           | 616/1683 [03:57<06:53,  2.58it/s, loss=8.61]"
     ]
    },
    {
     "name": "stderr",
     "output_type": "stream",
     "text": [
      "C:\\Users\\PC\\Projects\\fastai\\courses\\dl1\\ULMFiT-Filipino\\fastai\\model.py:62: UserWarning: torch.nn.utils.clip_grad_norm is now deprecated in favor of torch.nn.utils.clip_grad_norm_.\n",
      "  if IS_TORCH_04: nn.utils.clip_grad_norm(trainable_params_(self.m), self.clip)\n"
     ]
    },
    {
     "name": "stdout",
     "output_type": "stream",
     "text": [
      "\r",
      " 37%|████████████████████████▉                                           | 617/1683 [03:57<06:38,  2.68it/s, loss=8.58]"
     ]
    },
    {
     "name": "stderr",
     "output_type": "stream",
     "text": [
      "C:\\Users\\PC\\Projects\\fastai\\courses\\dl1\\ULMFiT-Filipino\\fastai\\model.py:62: UserWarning: torch.nn.utils.clip_grad_norm is now deprecated in favor of torch.nn.utils.clip_grad_norm_.\n",
      "  if IS_TORCH_04: nn.utils.clip_grad_norm(trainable_params_(self.m), self.clip)\n"
     ]
    },
    {
     "name": "stdout",
     "output_type": "stream",
     "text": [
      "\r",
      " 37%|████████████████████████▉                                           | 618/1683 [03:58<06:45,  2.63it/s, loss=8.56]"
     ]
    },
    {
     "name": "stderr",
     "output_type": "stream",
     "text": [
      "C:\\Users\\PC\\Projects\\fastai\\courses\\dl1\\ULMFiT-Filipino\\fastai\\model.py:62: UserWarning: torch.nn.utils.clip_grad_norm is now deprecated in favor of torch.nn.utils.clip_grad_norm_.\n",
      "  if IS_TORCH_04: nn.utils.clip_grad_norm(trainable_params_(self.m), self.clip)\n"
     ]
    },
    {
     "name": "stdout",
     "output_type": "stream",
     "text": [
      "\r",
      " 37%|█████████████████████████                                           | 619/1683 [03:58<06:34,  2.70it/s, loss=8.53]"
     ]
    },
    {
     "name": "stderr",
     "output_type": "stream",
     "text": [
      "C:\\Users\\PC\\Projects\\fastai\\courses\\dl1\\ULMFiT-Filipino\\fastai\\model.py:62: UserWarning: torch.nn.utils.clip_grad_norm is now deprecated in favor of torch.nn.utils.clip_grad_norm_.\n",
      "  if IS_TORCH_04: nn.utils.clip_grad_norm(trainable_params_(self.m), self.clip)\n"
     ]
    },
    {
     "name": "stdout",
     "output_type": "stream",
     "text": [
      "\r",
      " 37%|█████████████████████████                                           | 620/1683 [03:58<06:48,  2.60it/s, loss=8.51]"
     ]
    },
    {
     "name": "stderr",
     "output_type": "stream",
     "text": [
      "C:\\Users\\PC\\Projects\\fastai\\courses\\dl1\\ULMFiT-Filipino\\fastai\\model.py:62: UserWarning: torch.nn.utils.clip_grad_norm is now deprecated in favor of torch.nn.utils.clip_grad_norm_.\n",
      "  if IS_TORCH_04: nn.utils.clip_grad_norm(trainable_params_(self.m), self.clip)\n"
     ]
    },
    {
     "name": "stdout",
     "output_type": "stream",
     "text": [
      "\r",
      " 37%|█████████████████████████                                           | 621/1683 [03:59<06:50,  2.59it/s, loss=8.49]"
     ]
    },
    {
     "name": "stderr",
     "output_type": "stream",
     "text": [
      "C:\\Users\\PC\\Projects\\fastai\\courses\\dl1\\ULMFiT-Filipino\\fastai\\model.py:62: UserWarning: torch.nn.utils.clip_grad_norm is now deprecated in favor of torch.nn.utils.clip_grad_norm_.\n",
      "  if IS_TORCH_04: nn.utils.clip_grad_norm(trainable_params_(self.m), self.clip)\n"
     ]
    },
    {
     "name": "stdout",
     "output_type": "stream",
     "text": [
      "\r",
      " 37%|█████████████████████████▏                                          | 622/1683 [03:59<06:45,  2.62it/s, loss=8.46]"
     ]
    },
    {
     "name": "stderr",
     "output_type": "stream",
     "text": [
      "C:\\Users\\PC\\Projects\\fastai\\courses\\dl1\\ULMFiT-Filipino\\fastai\\model.py:62: UserWarning: torch.nn.utils.clip_grad_norm is now deprecated in favor of torch.nn.utils.clip_grad_norm_.\n",
      "  if IS_TORCH_04: nn.utils.clip_grad_norm(trainable_params_(self.m), self.clip)\n"
     ]
    },
    {
     "name": "stdout",
     "output_type": "stream",
     "text": [
      "\r",
      " 37%|█████████████████████████▏                                          | 623/1683 [04:00<06:49,  2.59it/s, loss=8.44]"
     ]
    },
    {
     "name": "stderr",
     "output_type": "stream",
     "text": [
      "C:\\Users\\PC\\Projects\\fastai\\courses\\dl1\\ULMFiT-Filipino\\fastai\\model.py:62: UserWarning: torch.nn.utils.clip_grad_norm is now deprecated in favor of torch.nn.utils.clip_grad_norm_.\n",
      "  if IS_TORCH_04: nn.utils.clip_grad_norm(trainable_params_(self.m), self.clip)\n"
     ]
    },
    {
     "name": "stdout",
     "output_type": "stream",
     "text": [
      "\r",
      " 37%|█████████████████████████▏                                          | 624/1683 [04:00<06:55,  2.55it/s, loss=8.42]"
     ]
    },
    {
     "name": "stderr",
     "output_type": "stream",
     "text": [
      "C:\\Users\\PC\\Projects\\fastai\\courses\\dl1\\ULMFiT-Filipino\\fastai\\model.py:62: UserWarning: torch.nn.utils.clip_grad_norm is now deprecated in favor of torch.nn.utils.clip_grad_norm_.\n",
      "  if IS_TORCH_04: nn.utils.clip_grad_norm(trainable_params_(self.m), self.clip)\n"
     ]
    },
    {
     "name": "stdout",
     "output_type": "stream",
     "text": [
      "\r",
      " 37%|█████████████████████████▌                                           | 625/1683 [04:00<07:01,  2.51it/s, loss=8.4]"
     ]
    },
    {
     "name": "stderr",
     "output_type": "stream",
     "text": [
      "C:\\Users\\PC\\Projects\\fastai\\courses\\dl1\\ULMFiT-Filipino\\fastai\\model.py:62: UserWarning: torch.nn.utils.clip_grad_norm is now deprecated in favor of torch.nn.utils.clip_grad_norm_.\n",
      "  if IS_TORCH_04: nn.utils.clip_grad_norm(trainable_params_(self.m), self.clip)\n"
     ]
    },
    {
     "name": "stdout",
     "output_type": "stream",
     "text": [
      "\r",
      " 37%|█████████████████████████▎                                          | 626/1683 [04:01<06:57,  2.53it/s, loss=8.38]"
     ]
    },
    {
     "name": "stderr",
     "output_type": "stream",
     "text": [
      "C:\\Users\\PC\\Projects\\fastai\\courses\\dl1\\ULMFiT-Filipino\\fastai\\model.py:62: UserWarning: torch.nn.utils.clip_grad_norm is now deprecated in favor of torch.nn.utils.clip_grad_norm_.\n",
      "  if IS_TORCH_04: nn.utils.clip_grad_norm(trainable_params_(self.m), self.clip)\n"
     ]
    },
    {
     "name": "stdout",
     "output_type": "stream",
     "text": [
      "\r",
      " 37%|█████████████████████████▎                                          | 627/1683 [04:01<06:49,  2.58it/s, loss=8.35]"
     ]
    },
    {
     "name": "stderr",
     "output_type": "stream",
     "text": [
      "C:\\Users\\PC\\Projects\\fastai\\courses\\dl1\\ULMFiT-Filipino\\fastai\\model.py:62: UserWarning: torch.nn.utils.clip_grad_norm is now deprecated in favor of torch.nn.utils.clip_grad_norm_.\n",
      "  if IS_TORCH_04: nn.utils.clip_grad_norm(trainable_params_(self.m), self.clip)\n"
     ]
    },
    {
     "name": "stdout",
     "output_type": "stream",
     "text": [
      "\r",
      " 37%|█████████████████████████▎                                          | 628/1683 [04:02<06:57,  2.53it/s, loss=8.33]"
     ]
    },
    {
     "name": "stderr",
     "output_type": "stream",
     "text": [
      "C:\\Users\\PC\\Projects\\fastai\\courses\\dl1\\ULMFiT-Filipino\\fastai\\model.py:62: UserWarning: torch.nn.utils.clip_grad_norm is now deprecated in favor of torch.nn.utils.clip_grad_norm_.\n",
      "  if IS_TORCH_04: nn.utils.clip_grad_norm(trainable_params_(self.m), self.clip)\n"
     ]
    },
    {
     "name": "stdout",
     "output_type": "stream",
     "text": [
      "\r",
      " 37%|█████████████████████████▍                                          | 629/1683 [04:02<07:04,  2.48it/s, loss=8.31]"
     ]
    },
    {
     "name": "stderr",
     "output_type": "stream",
     "text": [
      "C:\\Users\\PC\\Projects\\fastai\\courses\\dl1\\ULMFiT-Filipino\\fastai\\model.py:62: UserWarning: torch.nn.utils.clip_grad_norm is now deprecated in favor of torch.nn.utils.clip_grad_norm_.\n",
      "  if IS_TORCH_04: nn.utils.clip_grad_norm(trainable_params_(self.m), self.clip)\n"
     ]
    },
    {
     "name": "stdout",
     "output_type": "stream",
     "text": [
      "\r",
      " 37%|█████████████████████████▍                                          | 630/1683 [04:02<07:08,  2.46it/s, loss=8.29]"
     ]
    },
    {
     "name": "stderr",
     "output_type": "stream",
     "text": [
      "C:\\Users\\PC\\Projects\\fastai\\courses\\dl1\\ULMFiT-Filipino\\fastai\\model.py:62: UserWarning: torch.nn.utils.clip_grad_norm is now deprecated in favor of torch.nn.utils.clip_grad_norm_.\n",
      "  if IS_TORCH_04: nn.utils.clip_grad_norm(trainable_params_(self.m), self.clip)\n"
     ]
    },
    {
     "name": "stdout",
     "output_type": "stream",
     "text": [
      "\r",
      " 37%|█████████████████████████▍                                          | 631/1683 [04:03<07:05,  2.47it/s, loss=8.26]"
     ]
    },
    {
     "name": "stderr",
     "output_type": "stream",
     "text": [
      "C:\\Users\\PC\\Projects\\fastai\\courses\\dl1\\ULMFiT-Filipino\\fastai\\model.py:62: UserWarning: torch.nn.utils.clip_grad_norm is now deprecated in favor of torch.nn.utils.clip_grad_norm_.\n",
      "  if IS_TORCH_04: nn.utils.clip_grad_norm(trainable_params_(self.m), self.clip)\n"
     ]
    },
    {
     "name": "stdout",
     "output_type": "stream",
     "text": [
      "\r",
      " 38%|█████████████████████████▌                                          | 632/1683 [04:03<07:09,  2.45it/s, loss=8.24]"
     ]
    },
    {
     "name": "stderr",
     "output_type": "stream",
     "text": [
      "C:\\Users\\PC\\Projects\\fastai\\courses\\dl1\\ULMFiT-Filipino\\fastai\\model.py:62: UserWarning: torch.nn.utils.clip_grad_norm is now deprecated in favor of torch.nn.utils.clip_grad_norm_.\n",
      "  if IS_TORCH_04: nn.utils.clip_grad_norm(trainable_params_(self.m), self.clip)\n"
     ]
    },
    {
     "name": "stdout",
     "output_type": "stream",
     "text": [
      "\r",
      " 38%|█████████████████████████▌                                          | 633/1683 [04:04<07:10,  2.44it/s, loss=8.22]"
     ]
    },
    {
     "name": "stderr",
     "output_type": "stream",
     "text": [
      "C:\\Users\\PC\\Projects\\fastai\\courses\\dl1\\ULMFiT-Filipino\\fastai\\model.py:62: UserWarning: torch.nn.utils.clip_grad_norm is now deprecated in favor of torch.nn.utils.clip_grad_norm_.\n",
      "  if IS_TORCH_04: nn.utils.clip_grad_norm(trainable_params_(self.m), self.clip)\n"
     ]
    },
    {
     "name": "stdout",
     "output_type": "stream",
     "text": [
      "\r",
      " 38%|█████████████████████████▉                                           | 634/1683 [04:04<06:56,  2.52it/s, loss=8.2]"
     ]
    },
    {
     "name": "stderr",
     "output_type": "stream",
     "text": [
      "C:\\Users\\PC\\Projects\\fastai\\courses\\dl1\\ULMFiT-Filipino\\fastai\\model.py:62: UserWarning: torch.nn.utils.clip_grad_norm is now deprecated in favor of torch.nn.utils.clip_grad_norm_.\n",
      "  if IS_TORCH_04: nn.utils.clip_grad_norm(trainable_params_(self.m), self.clip)\n"
     ]
    },
    {
     "name": "stdout",
     "output_type": "stream",
     "text": [
      "\r",
      " 38%|█████████████████████████▋                                          | 635/1683 [04:04<07:04,  2.47it/s, loss=8.18]"
     ]
    },
    {
     "name": "stderr",
     "output_type": "stream",
     "text": [
      "C:\\Users\\PC\\Projects\\fastai\\courses\\dl1\\ULMFiT-Filipino\\fastai\\model.py:62: UserWarning: torch.nn.utils.clip_grad_norm is now deprecated in favor of torch.nn.utils.clip_grad_norm_.\n",
      "  if IS_TORCH_04: nn.utils.clip_grad_norm(trainable_params_(self.m), self.clip)\n"
     ]
    },
    {
     "name": "stdout",
     "output_type": "stream",
     "text": [
      "\r",
      " 38%|█████████████████████████▋                                          | 636/1683 [04:05<07:08,  2.44it/s, loss=8.16]"
     ]
    },
    {
     "name": "stderr",
     "output_type": "stream",
     "text": [
      "C:\\Users\\PC\\Projects\\fastai\\courses\\dl1\\ULMFiT-Filipino\\fastai\\model.py:62: UserWarning: torch.nn.utils.clip_grad_norm is now deprecated in favor of torch.nn.utils.clip_grad_norm_.\n",
      "  if IS_TORCH_04: nn.utils.clip_grad_norm(trainable_params_(self.m), self.clip)\n"
     ]
    },
    {
     "name": "stdout",
     "output_type": "stream",
     "text": [
      "\r",
      " 38%|█████████████████████████▋                                          | 637/1683 [04:05<06:56,  2.51it/s, loss=8.14]"
     ]
    },
    {
     "name": "stderr",
     "output_type": "stream",
     "text": [
      "C:\\Users\\PC\\Projects\\fastai\\courses\\dl1\\ULMFiT-Filipino\\fastai\\model.py:62: UserWarning: torch.nn.utils.clip_grad_norm is now deprecated in favor of torch.nn.utils.clip_grad_norm_.\n",
      "  if IS_TORCH_04: nn.utils.clip_grad_norm(trainable_params_(self.m), self.clip)\n"
     ]
    },
    {
     "name": "stdout",
     "output_type": "stream",
     "text": [
      "\r",
      " 38%|█████████████████████████▊                                          | 638/1683 [04:06<06:51,  2.54it/s, loss=8.12]"
     ]
    },
    {
     "name": "stderr",
     "output_type": "stream",
     "text": [
      "C:\\Users\\PC\\Projects\\fastai\\courses\\dl1\\ULMFiT-Filipino\\fastai\\model.py:62: UserWarning: torch.nn.utils.clip_grad_norm is now deprecated in favor of torch.nn.utils.clip_grad_norm_.\n",
      "  if IS_TORCH_04: nn.utils.clip_grad_norm(trainable_params_(self.m), self.clip)\n"
     ]
    },
    {
     "name": "stdout",
     "output_type": "stream",
     "text": [
      "\r",
      " 38%|██████████████████████████▏                                          | 639/1683 [04:06<06:40,  2.61it/s, loss=8.1]"
     ]
    },
    {
     "name": "stderr",
     "output_type": "stream",
     "text": [
      "C:\\Users\\PC\\Projects\\fastai\\courses\\dl1\\ULMFiT-Filipino\\fastai\\model.py:62: UserWarning: torch.nn.utils.clip_grad_norm is now deprecated in favor of torch.nn.utils.clip_grad_norm_.\n",
      "  if IS_TORCH_04: nn.utils.clip_grad_norm(trainable_params_(self.m), self.clip)\n"
     ]
    },
    {
     "name": "stdout",
     "output_type": "stream",
     "text": [
      "\r",
      " 38%|█████████████████████████▊                                          | 640/1683 [04:06<06:49,  2.55it/s, loss=8.08]"
     ]
    },
    {
     "name": "stderr",
     "output_type": "stream",
     "text": [
      "C:\\Users\\PC\\Projects\\fastai\\courses\\dl1\\ULMFiT-Filipino\\fastai\\model.py:62: UserWarning: torch.nn.utils.clip_grad_norm is now deprecated in favor of torch.nn.utils.clip_grad_norm_.\n",
      "  if IS_TORCH_04: nn.utils.clip_grad_norm(trainable_params_(self.m), self.clip)\n"
     ]
    },
    {
     "name": "stdout",
     "output_type": "stream",
     "text": [
      "\r",
      " 38%|█████████████████████████▉                                          | 641/1683 [04:07<06:50,  2.54it/s, loss=8.05]"
     ]
    },
    {
     "name": "stderr",
     "output_type": "stream",
     "text": [
      "C:\\Users\\PC\\Projects\\fastai\\courses\\dl1\\ULMFiT-Filipino\\fastai\\model.py:62: UserWarning: torch.nn.utils.clip_grad_norm is now deprecated in favor of torch.nn.utils.clip_grad_norm_.\n",
      "  if IS_TORCH_04: nn.utils.clip_grad_norm(trainable_params_(self.m), self.clip)\n"
     ]
    },
    {
     "name": "stdout",
     "output_type": "stream",
     "text": [
      "\r",
      " 38%|█████████████████████████▉                                          | 642/1683 [04:07<07:01,  2.47it/s, loss=8.04]"
     ]
    },
    {
     "name": "stderr",
     "output_type": "stream",
     "text": [
      "C:\\Users\\PC\\Projects\\fastai\\courses\\dl1\\ULMFiT-Filipino\\fastai\\model.py:62: UserWarning: torch.nn.utils.clip_grad_norm is now deprecated in favor of torch.nn.utils.clip_grad_norm_.\n",
      "  if IS_TORCH_04: nn.utils.clip_grad_norm(trainable_params_(self.m), self.clip)\n"
     ]
    },
    {
     "name": "stdout",
     "output_type": "stream",
     "text": [
      "\r",
      " 38%|█████████████████████████▉                                          | 643/1683 [04:07<06:37,  2.62it/s, loss=8.02]"
     ]
    },
    {
     "name": "stderr",
     "output_type": "stream",
     "text": [
      "C:\\Users\\PC\\Projects\\fastai\\courses\\dl1\\ULMFiT-Filipino\\fastai\\model.py:62: UserWarning: torch.nn.utils.clip_grad_norm is now deprecated in favor of torch.nn.utils.clip_grad_norm_.\n",
      "  if IS_TORCH_04: nn.utils.clip_grad_norm(trainable_params_(self.m), self.clip)\n"
     ]
    },
    {
     "name": "stdout",
     "output_type": "stream",
     "text": [
      "\r",
      " 38%|███████████████████████████▏                                           | 644/1683 [04:08<06:42,  2.58it/s, loss=8]"
     ]
    },
    {
     "name": "stderr",
     "output_type": "stream",
     "text": [
      "C:\\Users\\PC\\Projects\\fastai\\courses\\dl1\\ULMFiT-Filipino\\fastai\\model.py:62: UserWarning: torch.nn.utils.clip_grad_norm is now deprecated in favor of torch.nn.utils.clip_grad_norm_.\n",
      "  if IS_TORCH_04: nn.utils.clip_grad_norm(trainable_params_(self.m), self.clip)\n"
     ]
    },
    {
     "name": "stdout",
     "output_type": "stream",
     "text": [
      "\r",
      " 38%|██████████████████████████                                          | 645/1683 [04:08<06:42,  2.58it/s, loss=7.98]"
     ]
    },
    {
     "name": "stderr",
     "output_type": "stream",
     "text": [
      "C:\\Users\\PC\\Projects\\fastai\\courses\\dl1\\ULMFiT-Filipino\\fastai\\model.py:62: UserWarning: torch.nn.utils.clip_grad_norm is now deprecated in favor of torch.nn.utils.clip_grad_norm_.\n",
      "  if IS_TORCH_04: nn.utils.clip_grad_norm(trainable_params_(self.m), self.clip)\n"
     ]
    },
    {
     "name": "stdout",
     "output_type": "stream",
     "text": [
      "\r",
      " 38%|██████████████████████████                                          | 646/1683 [04:09<06:44,  2.57it/s, loss=7.96]"
     ]
    },
    {
     "name": "stderr",
     "output_type": "stream",
     "text": [
      "C:\\Users\\PC\\Projects\\fastai\\courses\\dl1\\ULMFiT-Filipino\\fastai\\model.py:62: UserWarning: torch.nn.utils.clip_grad_norm is now deprecated in favor of torch.nn.utils.clip_grad_norm_.\n",
      "  if IS_TORCH_04: nn.utils.clip_grad_norm(trainable_params_(self.m), self.clip)\n"
     ]
    },
    {
     "name": "stdout",
     "output_type": "stream",
     "text": [
      "\r",
      " 38%|██████████████████████████▏                                         | 647/1683 [04:09<06:41,  2.58it/s, loss=7.95]"
     ]
    },
    {
     "name": "stderr",
     "output_type": "stream",
     "text": [
      "C:\\Users\\PC\\Projects\\fastai\\courses\\dl1\\ULMFiT-Filipino\\fastai\\model.py:62: UserWarning: torch.nn.utils.clip_grad_norm is now deprecated in favor of torch.nn.utils.clip_grad_norm_.\n",
      "  if IS_TORCH_04: nn.utils.clip_grad_norm(trainable_params_(self.m), self.clip)\n"
     ]
    },
    {
     "name": "stdout",
     "output_type": "stream",
     "text": [
      "\r",
      " 39%|██████████████████████████▏                                         | 648/1683 [04:09<06:36,  2.61it/s, loss=7.93]"
     ]
    },
    {
     "name": "stderr",
     "output_type": "stream",
     "text": [
      "C:\\Users\\PC\\Projects\\fastai\\courses\\dl1\\ULMFiT-Filipino\\fastai\\model.py:62: UserWarning: torch.nn.utils.clip_grad_norm is now deprecated in favor of torch.nn.utils.clip_grad_norm_.\n",
      "  if IS_TORCH_04: nn.utils.clip_grad_norm(trainable_params_(self.m), self.clip)\n"
     ]
    },
    {
     "name": "stdout",
     "output_type": "stream",
     "text": [
      "\r",
      " 39%|██████████████████████████▏                                         | 649/1683 [04:10<06:11,  2.78it/s, loss=7.92]"
     ]
    },
    {
     "name": "stderr",
     "output_type": "stream",
     "text": [
      "C:\\Users\\PC\\Projects\\fastai\\courses\\dl1\\ULMFiT-Filipino\\fastai\\model.py:62: UserWarning: torch.nn.utils.clip_grad_norm is now deprecated in favor of torch.nn.utils.clip_grad_norm_.\n",
      "  if IS_TORCH_04: nn.utils.clip_grad_norm(trainable_params_(self.m), self.clip)\n"
     ]
    },
    {
     "name": "stdout",
     "output_type": "stream",
     "text": [
      "\r",
      " 39%|██████████████████████████▋                                          | 650/1683 [04:10<06:23,  2.70it/s, loss=7.9]"
     ]
    },
    {
     "name": "stderr",
     "output_type": "stream",
     "text": [
      "C:\\Users\\PC\\Projects\\fastai\\courses\\dl1\\ULMFiT-Filipino\\fastai\\model.py:62: UserWarning: torch.nn.utils.clip_grad_norm is now deprecated in favor of torch.nn.utils.clip_grad_norm_.\n",
      "  if IS_TORCH_04: nn.utils.clip_grad_norm(trainable_params_(self.m), self.clip)\n"
     ]
    },
    {
     "name": "stdout",
     "output_type": "stream",
     "text": [
      "\r",
      " 39%|██████████████████████████▎                                         | 651/1683 [04:11<06:39,  2.58it/s, loss=7.88]"
     ]
    },
    {
     "name": "stderr",
     "output_type": "stream",
     "text": [
      "C:\\Users\\PC\\Projects\\fastai\\courses\\dl1\\ULMFiT-Filipino\\fastai\\model.py:62: UserWarning: torch.nn.utils.clip_grad_norm is now deprecated in favor of torch.nn.utils.clip_grad_norm_.\n",
      "  if IS_TORCH_04: nn.utils.clip_grad_norm(trainable_params_(self.m), self.clip)\n"
     ]
    },
    {
     "name": "stdout",
     "output_type": "stream",
     "text": [
      "\r",
      " 39%|██████████████████████████▎                                         | 652/1683 [04:11<06:31,  2.63it/s, loss=7.87]"
     ]
    },
    {
     "name": "stderr",
     "output_type": "stream",
     "text": [
      "C:\\Users\\PC\\Projects\\fastai\\courses\\dl1\\ULMFiT-Filipino\\fastai\\model.py:62: UserWarning: torch.nn.utils.clip_grad_norm is now deprecated in favor of torch.nn.utils.clip_grad_norm_.\n",
      "  if IS_TORCH_04: nn.utils.clip_grad_norm(trainable_params_(self.m), self.clip)\n"
     ]
    },
    {
     "name": "stdout",
     "output_type": "stream",
     "text": [
      "\r",
      " 39%|██████████████████████████▍                                         | 653/1683 [04:11<06:28,  2.65it/s, loss=7.85]"
     ]
    },
    {
     "name": "stderr",
     "output_type": "stream",
     "text": [
      "C:\\Users\\PC\\Projects\\fastai\\courses\\dl1\\ULMFiT-Filipino\\fastai\\model.py:62: UserWarning: torch.nn.utils.clip_grad_norm is now deprecated in favor of torch.nn.utils.clip_grad_norm_.\n",
      "  if IS_TORCH_04: nn.utils.clip_grad_norm(trainable_params_(self.m), self.clip)\n"
     ]
    },
    {
     "name": "stdout",
     "output_type": "stream",
     "text": [
      "\r",
      " 39%|██████████████████████████▍                                         | 654/1683 [04:12<06:33,  2.61it/s, loss=7.83]"
     ]
    },
    {
     "name": "stderr",
     "output_type": "stream",
     "text": [
      "C:\\Users\\PC\\Projects\\fastai\\courses\\dl1\\ULMFiT-Filipino\\fastai\\model.py:62: UserWarning: torch.nn.utils.clip_grad_norm is now deprecated in favor of torch.nn.utils.clip_grad_norm_.\n",
      "  if IS_TORCH_04: nn.utils.clip_grad_norm(trainable_params_(self.m), self.clip)\n"
     ]
    },
    {
     "name": "stdout",
     "output_type": "stream",
     "text": [
      "\r",
      " 39%|██████████████████████████▍                                         | 655/1683 [04:12<06:32,  2.62it/s, loss=7.81]"
     ]
    },
    {
     "name": "stderr",
     "output_type": "stream",
     "text": [
      "C:\\Users\\PC\\Projects\\fastai\\courses\\dl1\\ULMFiT-Filipino\\fastai\\model.py:62: UserWarning: torch.nn.utils.clip_grad_norm is now deprecated in favor of torch.nn.utils.clip_grad_norm_.\n",
      "  if IS_TORCH_04: nn.utils.clip_grad_norm(trainable_params_(self.m), self.clip)\n"
     ]
    },
    {
     "name": "stdout",
     "output_type": "stream",
     "text": [
      "\r",
      " 39%|██████████████████████████▉                                          | 656/1683 [04:12<06:19,  2.70it/s, loss=7.8]"
     ]
    },
    {
     "name": "stderr",
     "output_type": "stream",
     "text": [
      "C:\\Users\\PC\\Projects\\fastai\\courses\\dl1\\ULMFiT-Filipino\\fastai\\model.py:62: UserWarning: torch.nn.utils.clip_grad_norm is now deprecated in favor of torch.nn.utils.clip_grad_norm_.\n",
      "  if IS_TORCH_04: nn.utils.clip_grad_norm(trainable_params_(self.m), self.clip)\n"
     ]
    },
    {
     "name": "stdout",
     "output_type": "stream",
     "text": [
      "\r",
      " 39%|██████████████████████████▌                                         | 657/1683 [04:13<06:43,  2.54it/s, loss=7.78]"
     ]
    },
    {
     "name": "stderr",
     "output_type": "stream",
     "text": [
      "C:\\Users\\PC\\Projects\\fastai\\courses\\dl1\\ULMFiT-Filipino\\fastai\\model.py:62: UserWarning: torch.nn.utils.clip_grad_norm is now deprecated in favor of torch.nn.utils.clip_grad_norm_.\n",
      "  if IS_TORCH_04: nn.utils.clip_grad_norm(trainable_params_(self.m), self.clip)\n"
     ]
    },
    {
     "name": "stdout",
     "output_type": "stream",
     "text": [
      "\r",
      " 39%|██████████████████████████▌                                         | 658/1683 [04:13<06:45,  2.53it/s, loss=7.76]"
     ]
    },
    {
     "name": "stderr",
     "output_type": "stream",
     "text": [
      "C:\\Users\\PC\\Projects\\fastai\\courses\\dl1\\ULMFiT-Filipino\\fastai\\model.py:62: UserWarning: torch.nn.utils.clip_grad_norm is now deprecated in favor of torch.nn.utils.clip_grad_norm_.\n",
      "  if IS_TORCH_04: nn.utils.clip_grad_norm(trainable_params_(self.m), self.clip)\n"
     ]
    },
    {
     "name": "stdout",
     "output_type": "stream",
     "text": [
      "\r",
      " 39%|██████████████████████████▋                                         | 659/1683 [04:14<06:52,  2.48it/s, loss=7.74]"
     ]
    },
    {
     "name": "stderr",
     "output_type": "stream",
     "text": [
      "C:\\Users\\PC\\Projects\\fastai\\courses\\dl1\\ULMFiT-Filipino\\fastai\\model.py:62: UserWarning: torch.nn.utils.clip_grad_norm is now deprecated in favor of torch.nn.utils.clip_grad_norm_.\n",
      "  if IS_TORCH_04: nn.utils.clip_grad_norm(trainable_params_(self.m), self.clip)\n"
     ]
    },
    {
     "name": "stdout",
     "output_type": "stream",
     "text": [
      "\r",
      " 39%|██████████████████████████▋                                         | 660/1683 [04:14<06:51,  2.49it/s, loss=7.73]"
     ]
    },
    {
     "name": "stderr",
     "output_type": "stream",
     "text": [
      "C:\\Users\\PC\\Projects\\fastai\\courses\\dl1\\ULMFiT-Filipino\\fastai\\model.py:62: UserWarning: torch.nn.utils.clip_grad_norm is now deprecated in favor of torch.nn.utils.clip_grad_norm_.\n",
      "  if IS_TORCH_04: nn.utils.clip_grad_norm(trainable_params_(self.m), self.clip)\n"
     ]
    },
    {
     "name": "stdout",
     "output_type": "stream",
     "text": [
      "\r",
      " 39%|██████████████████████████▋                                         | 661/1683 [04:14<06:33,  2.59it/s, loss=7.71]"
     ]
    },
    {
     "name": "stderr",
     "output_type": "stream",
     "text": [
      "C:\\Users\\PC\\Projects\\fastai\\courses\\dl1\\ULMFiT-Filipino\\fastai\\model.py:62: UserWarning: torch.nn.utils.clip_grad_norm is now deprecated in favor of torch.nn.utils.clip_grad_norm_.\n",
      "  if IS_TORCH_04: nn.utils.clip_grad_norm(trainable_params_(self.m), self.clip)\n"
     ]
    },
    {
     "name": "stdout",
     "output_type": "stream",
     "text": [
      "\r",
      " 39%|███████████████████████████▏                                         | 662/1683 [04:15<06:25,  2.65it/s, loss=7.7]"
     ]
    },
    {
     "name": "stderr",
     "output_type": "stream",
     "text": [
      "C:\\Users\\PC\\Projects\\fastai\\courses\\dl1\\ULMFiT-Filipino\\fastai\\model.py:62: UserWarning: torch.nn.utils.clip_grad_norm is now deprecated in favor of torch.nn.utils.clip_grad_norm_.\n",
      "  if IS_TORCH_04: nn.utils.clip_grad_norm(trainable_params_(self.m), self.clip)\n"
     ]
    },
    {
     "name": "stdout",
     "output_type": "stream",
     "text": [
      "\r",
      " 39%|██████████████████████████▊                                         | 663/1683 [04:15<06:28,  2.63it/s, loss=7.68]"
     ]
    },
    {
     "name": "stderr",
     "output_type": "stream",
     "text": [
      "C:\\Users\\PC\\Projects\\fastai\\courses\\dl1\\ULMFiT-Filipino\\fastai\\model.py:62: UserWarning: torch.nn.utils.clip_grad_norm is now deprecated in favor of torch.nn.utils.clip_grad_norm_.\n",
      "  if IS_TORCH_04: nn.utils.clip_grad_norm(trainable_params_(self.m), self.clip)\n"
     ]
    },
    {
     "name": "stdout",
     "output_type": "stream",
     "text": [
      "\r",
      " 39%|██████████████████████████▊                                         | 664/1683 [04:16<06:32,  2.60it/s, loss=7.67]"
     ]
    },
    {
     "name": "stderr",
     "output_type": "stream",
     "text": [
      "C:\\Users\\PC\\Projects\\fastai\\courses\\dl1\\ULMFiT-Filipino\\fastai\\model.py:62: UserWarning: torch.nn.utils.clip_grad_norm is now deprecated in favor of torch.nn.utils.clip_grad_norm_.\n",
      "  if IS_TORCH_04: nn.utils.clip_grad_norm(trainable_params_(self.m), self.clip)\n"
     ]
    },
    {
     "name": "stdout",
     "output_type": "stream",
     "text": [
      "\r",
      " 40%|██████████████████████████▊                                         | 665/1683 [04:16<06:35,  2.57it/s, loss=7.65]"
     ]
    },
    {
     "name": "stderr",
     "output_type": "stream",
     "text": [
      "C:\\Users\\PC\\Projects\\fastai\\courses\\dl1\\ULMFiT-Filipino\\fastai\\model.py:62: UserWarning: torch.nn.utils.clip_grad_norm is now deprecated in favor of torch.nn.utils.clip_grad_norm_.\n",
      "  if IS_TORCH_04: nn.utils.clip_grad_norm(trainable_params_(self.m), self.clip)\n"
     ]
    },
    {
     "name": "stdout",
     "output_type": "stream",
     "text": [
      "\r",
      " 40%|██████████████████████████▉                                         | 666/1683 [04:16<06:30,  2.60it/s, loss=7.63]"
     ]
    },
    {
     "name": "stderr",
     "output_type": "stream",
     "text": [
      "C:\\Users\\PC\\Projects\\fastai\\courses\\dl1\\ULMFiT-Filipino\\fastai\\model.py:62: UserWarning: torch.nn.utils.clip_grad_norm is now deprecated in favor of torch.nn.utils.clip_grad_norm_.\n",
      "  if IS_TORCH_04: nn.utils.clip_grad_norm(trainable_params_(self.m), self.clip)\n"
     ]
    },
    {
     "name": "stdout",
     "output_type": "stream",
     "text": [
      "\r",
      " 40%|██████████████████████████▉                                         | 667/1683 [04:17<06:32,  2.59it/s, loss=7.62]"
     ]
    },
    {
     "name": "stderr",
     "output_type": "stream",
     "text": [
      "C:\\Users\\PC\\Projects\\fastai\\courses\\dl1\\ULMFiT-Filipino\\fastai\\model.py:62: UserWarning: torch.nn.utils.clip_grad_norm is now deprecated in favor of torch.nn.utils.clip_grad_norm_.\n",
      "  if IS_TORCH_04: nn.utils.clip_grad_norm(trainable_params_(self.m), self.clip)\n"
     ]
    },
    {
     "name": "stdout",
     "output_type": "stream",
     "text": [
      "\r",
      " 40%|███████████████████████████▍                                         | 668/1683 [04:17<06:46,  2.50it/s, loss=7.6]"
     ]
    },
    {
     "name": "stderr",
     "output_type": "stream",
     "text": [
      "C:\\Users\\PC\\Projects\\fastai\\courses\\dl1\\ULMFiT-Filipino\\fastai\\model.py:62: UserWarning: torch.nn.utils.clip_grad_norm is now deprecated in favor of torch.nn.utils.clip_grad_norm_.\n",
      "  if IS_TORCH_04: nn.utils.clip_grad_norm(trainable_params_(self.m), self.clip)\n"
     ]
    },
    {
     "name": "stdout",
     "output_type": "stream",
     "text": [
      "\r",
      " 40%|███████████████████████████                                         | 669/1683 [04:17<06:28,  2.61it/s, loss=7.59]"
     ]
    },
    {
     "name": "stderr",
     "output_type": "stream",
     "text": [
      "C:\\Users\\PC\\Projects\\fastai\\courses\\dl1\\ULMFiT-Filipino\\fastai\\model.py:62: UserWarning: torch.nn.utils.clip_grad_norm is now deprecated in favor of torch.nn.utils.clip_grad_norm_.\n",
      "  if IS_TORCH_04: nn.utils.clip_grad_norm(trainable_params_(self.m), self.clip)\n"
     ]
    },
    {
     "name": "stdout",
     "output_type": "stream",
     "text": [
      "\r",
      " 40%|███████████████████████████                                         | 670/1683 [04:18<06:29,  2.60it/s, loss=7.58]"
     ]
    },
    {
     "name": "stderr",
     "output_type": "stream",
     "text": [
      "C:\\Users\\PC\\Projects\\fastai\\courses\\dl1\\ULMFiT-Filipino\\fastai\\model.py:62: UserWarning: torch.nn.utils.clip_grad_norm is now deprecated in favor of torch.nn.utils.clip_grad_norm_.\n",
      "  if IS_TORCH_04: nn.utils.clip_grad_norm(trainable_params_(self.m), self.clip)\n"
     ]
    },
    {
     "name": "stdout",
     "output_type": "stream",
     "text": [
      "\r",
      " 40%|███████████████████████████                                         | 671/1683 [04:18<06:36,  2.55it/s, loss=7.56]"
     ]
    },
    {
     "name": "stderr",
     "output_type": "stream",
     "text": [
      "C:\\Users\\PC\\Projects\\fastai\\courses\\dl1\\ULMFiT-Filipino\\fastai\\model.py:62: UserWarning: torch.nn.utils.clip_grad_norm is now deprecated in favor of torch.nn.utils.clip_grad_norm_.\n",
      "  if IS_TORCH_04: nn.utils.clip_grad_norm(trainable_params_(self.m), self.clip)\n"
     ]
    },
    {
     "name": "stdout",
     "output_type": "stream",
     "text": [
      "\r",
      " 40%|███████████████████████████▏                                        | 672/1683 [04:19<06:45,  2.49it/s, loss=7.55]"
     ]
    },
    {
     "name": "stderr",
     "output_type": "stream",
     "text": [
      "C:\\Users\\PC\\Projects\\fastai\\courses\\dl1\\ULMFiT-Filipino\\fastai\\model.py:62: UserWarning: torch.nn.utils.clip_grad_norm is now deprecated in favor of torch.nn.utils.clip_grad_norm_.\n",
      "  if IS_TORCH_04: nn.utils.clip_grad_norm(trainable_params_(self.m), self.clip)\n"
     ]
    },
    {
     "name": "stdout",
     "output_type": "stream",
     "text": [
      "\r",
      " 40%|███████████████████████████▏                                        | 673/1683 [04:19<06:54,  2.43it/s, loss=7.54]"
     ]
    },
    {
     "name": "stderr",
     "output_type": "stream",
     "text": [
      "C:\\Users\\PC\\Projects\\fastai\\courses\\dl1\\ULMFiT-Filipino\\fastai\\model.py:62: UserWarning: torch.nn.utils.clip_grad_norm is now deprecated in favor of torch.nn.utils.clip_grad_norm_.\n",
      "  if IS_TORCH_04: nn.utils.clip_grad_norm(trainable_params_(self.m), self.clip)\n"
     ]
    },
    {
     "name": "stdout",
     "output_type": "stream",
     "text": [
      "\r",
      " 40%|███████████████████████████▏                                        | 674/1683 [04:20<06:41,  2.51it/s, loss=7.52]"
     ]
    },
    {
     "name": "stderr",
     "output_type": "stream",
     "text": [
      "C:\\Users\\PC\\Projects\\fastai\\courses\\dl1\\ULMFiT-Filipino\\fastai\\model.py:62: UserWarning: torch.nn.utils.clip_grad_norm is now deprecated in favor of torch.nn.utils.clip_grad_norm_.\n",
      "  if IS_TORCH_04: nn.utils.clip_grad_norm(trainable_params_(self.m), self.clip)\n"
     ]
    },
    {
     "name": "stdout",
     "output_type": "stream",
     "text": [
      "\r",
      " 40%|███████████████████████████▎                                        | 675/1683 [04:20<06:34,  2.56it/s, loss=7.51]"
     ]
    },
    {
     "name": "stderr",
     "output_type": "stream",
     "text": [
      "C:\\Users\\PC\\Projects\\fastai\\courses\\dl1\\ULMFiT-Filipino\\fastai\\model.py:62: UserWarning: torch.nn.utils.clip_grad_norm is now deprecated in favor of torch.nn.utils.clip_grad_norm_.\n",
      "  if IS_TORCH_04: nn.utils.clip_grad_norm(trainable_params_(self.m), self.clip)\n"
     ]
    },
    {
     "name": "stdout",
     "output_type": "stream",
     "text": [
      "\r",
      " 40%|███████████████████████████▎                                        | 676/1683 [04:20<06:31,  2.57it/s, loss=7.49]"
     ]
    },
    {
     "name": "stderr",
     "output_type": "stream",
     "text": [
      "C:\\Users\\PC\\Projects\\fastai\\courses\\dl1\\ULMFiT-Filipino\\fastai\\model.py:62: UserWarning: torch.nn.utils.clip_grad_norm is now deprecated in favor of torch.nn.utils.clip_grad_norm_.\n",
      "  if IS_TORCH_04: nn.utils.clip_grad_norm(trainable_params_(self.m), self.clip)\n"
     ]
    },
    {
     "name": "stdout",
     "output_type": "stream",
     "text": [
      "\r",
      " 40%|███████████████████████████▎                                        | 677/1683 [04:21<06:28,  2.59it/s, loss=7.48]"
     ]
    },
    {
     "name": "stderr",
     "output_type": "stream",
     "text": [
      "C:\\Users\\PC\\Projects\\fastai\\courses\\dl1\\ULMFiT-Filipino\\fastai\\model.py:62: UserWarning: torch.nn.utils.clip_grad_norm is now deprecated in favor of torch.nn.utils.clip_grad_norm_.\n",
      "  if IS_TORCH_04: nn.utils.clip_grad_norm(trainable_params_(self.m), self.clip)\n"
     ]
    },
    {
     "name": "stdout",
     "output_type": "stream",
     "text": [
      "\r",
      " 40%|███████████████████████████▍                                        | 678/1683 [04:21<06:27,  2.60it/s, loss=7.47]"
     ]
    },
    {
     "name": "stderr",
     "output_type": "stream",
     "text": [
      "C:\\Users\\PC\\Projects\\fastai\\courses\\dl1\\ULMFiT-Filipino\\fastai\\model.py:62: UserWarning: torch.nn.utils.clip_grad_norm is now deprecated in favor of torch.nn.utils.clip_grad_norm_.\n",
      "  if IS_TORCH_04: nn.utils.clip_grad_norm(trainable_params_(self.m), self.clip)\n"
     ]
    },
    {
     "name": "stdout",
     "output_type": "stream",
     "text": [
      "\r",
      " 40%|███████████████████████████▍                                        | 679/1683 [04:21<06:24,  2.61it/s, loss=7.46]"
     ]
    },
    {
     "name": "stderr",
     "output_type": "stream",
     "text": [
      "C:\\Users\\PC\\Projects\\fastai\\courses\\dl1\\ULMFiT-Filipino\\fastai\\model.py:62: UserWarning: torch.nn.utils.clip_grad_norm is now deprecated in favor of torch.nn.utils.clip_grad_norm_.\n",
      "  if IS_TORCH_04: nn.utils.clip_grad_norm(trainable_params_(self.m), self.clip)\n"
     ]
    },
    {
     "name": "stdout",
     "output_type": "stream",
     "text": [
      "\r",
      " 40%|███████████████████████████▍                                        | 680/1683 [04:22<06:31,  2.56it/s, loss=7.44]"
     ]
    },
    {
     "name": "stderr",
     "output_type": "stream",
     "text": [
      "C:\\Users\\PC\\Projects\\fastai\\courses\\dl1\\ULMFiT-Filipino\\fastai\\model.py:62: UserWarning: torch.nn.utils.clip_grad_norm is now deprecated in favor of torch.nn.utils.clip_grad_norm_.\n",
      "  if IS_TORCH_04: nn.utils.clip_grad_norm(trainable_params_(self.m), self.clip)\n"
     ]
    },
    {
     "name": "stdout",
     "output_type": "stream",
     "text": [
      "\r",
      " 40%|███████████████████████████▌                                        | 681/1683 [04:22<06:35,  2.53it/s, loss=7.43]"
     ]
    },
    {
     "name": "stderr",
     "output_type": "stream",
     "text": [
      "C:\\Users\\PC\\Projects\\fastai\\courses\\dl1\\ULMFiT-Filipino\\fastai\\model.py:62: UserWarning: torch.nn.utils.clip_grad_norm is now deprecated in favor of torch.nn.utils.clip_grad_norm_.\n",
      "  if IS_TORCH_04: nn.utils.clip_grad_norm(trainable_params_(self.m), self.clip)\n"
     ]
    },
    {
     "name": "stdout",
     "output_type": "stream",
     "text": [
      "\r",
      " 41%|███████████████████████████▌                                        | 682/1683 [04:23<06:28,  2.58it/s, loss=7.42]"
     ]
    },
    {
     "name": "stderr",
     "output_type": "stream",
     "text": [
      "C:\\Users\\PC\\Projects\\fastai\\courses\\dl1\\ULMFiT-Filipino\\fastai\\model.py:62: UserWarning: torch.nn.utils.clip_grad_norm is now deprecated in favor of torch.nn.utils.clip_grad_norm_.\n",
      "  if IS_TORCH_04: nn.utils.clip_grad_norm(trainable_params_(self.m), self.clip)\n"
     ]
    },
    {
     "name": "stdout",
     "output_type": "stream",
     "text": [
      "\r",
      " 41%|███████████████████████████▌                                        | 683/1683 [04:23<06:36,  2.52it/s, loss=7.41]"
     ]
    },
    {
     "name": "stderr",
     "output_type": "stream",
     "text": [
      "C:\\Users\\PC\\Projects\\fastai\\courses\\dl1\\ULMFiT-Filipino\\fastai\\model.py:62: UserWarning: torch.nn.utils.clip_grad_norm is now deprecated in favor of torch.nn.utils.clip_grad_norm_.\n",
      "  if IS_TORCH_04: nn.utils.clip_grad_norm(trainable_params_(self.m), self.clip)\n"
     ]
    },
    {
     "name": "stdout",
     "output_type": "stream",
     "text": [
      "\r",
      " 41%|████████████████████████████                                         | 684/1683 [04:23<06:34,  2.53it/s, loss=7.4]"
     ]
    },
    {
     "name": "stderr",
     "output_type": "stream",
     "text": [
      "C:\\Users\\PC\\Projects\\fastai\\courses\\dl1\\ULMFiT-Filipino\\fastai\\model.py:62: UserWarning: torch.nn.utils.clip_grad_norm is now deprecated in favor of torch.nn.utils.clip_grad_norm_.\n",
      "  if IS_TORCH_04: nn.utils.clip_grad_norm(trainable_params_(self.m), self.clip)\n"
     ]
    },
    {
     "name": "stdout",
     "output_type": "stream",
     "text": [
      "\r",
      " 41%|███████████████████████████▋                                        | 685/1683 [04:24<06:35,  2.53it/s, loss=7.39]"
     ]
    },
    {
     "name": "stderr",
     "output_type": "stream",
     "text": [
      "C:\\Users\\PC\\Projects\\fastai\\courses\\dl1\\ULMFiT-Filipino\\fastai\\model.py:62: UserWarning: torch.nn.utils.clip_grad_norm is now deprecated in favor of torch.nn.utils.clip_grad_norm_.\n",
      "  if IS_TORCH_04: nn.utils.clip_grad_norm(trainable_params_(self.m), self.clip)\n"
     ]
    },
    {
     "name": "stdout",
     "output_type": "stream",
     "text": [
      "\r",
      " 41%|███████████████████████████▋                                        | 686/1683 [04:24<06:33,  2.53it/s, loss=7.37]"
     ]
    },
    {
     "name": "stderr",
     "output_type": "stream",
     "text": [
      "C:\\Users\\PC\\Projects\\fastai\\courses\\dl1\\ULMFiT-Filipino\\fastai\\model.py:62: UserWarning: torch.nn.utils.clip_grad_norm is now deprecated in favor of torch.nn.utils.clip_grad_norm_.\n",
      "  if IS_TORCH_04: nn.utils.clip_grad_norm(trainable_params_(self.m), self.clip)\n"
     ]
    },
    {
     "name": "stdout",
     "output_type": "stream",
     "text": [
      "\r",
      " 41%|███████████████████████████▊                                        | 687/1683 [04:25<06:25,  2.58it/s, loss=7.36]"
     ]
    },
    {
     "name": "stderr",
     "output_type": "stream",
     "text": [
      "C:\\Users\\PC\\Projects\\fastai\\courses\\dl1\\ULMFiT-Filipino\\fastai\\model.py:62: UserWarning: torch.nn.utils.clip_grad_norm is now deprecated in favor of torch.nn.utils.clip_grad_norm_.\n",
      "  if IS_TORCH_04: nn.utils.clip_grad_norm(trainable_params_(self.m), self.clip)\n"
     ]
    },
    {
     "name": "stdout",
     "output_type": "stream",
     "text": [
      "\r",
      " 41%|███████████████████████████▊                                        | 688/1683 [04:25<06:29,  2.55it/s, loss=7.35]"
     ]
    },
    {
     "name": "stderr",
     "output_type": "stream",
     "text": [
      "C:\\Users\\PC\\Projects\\fastai\\courses\\dl1\\ULMFiT-Filipino\\fastai\\model.py:62: UserWarning: torch.nn.utils.clip_grad_norm is now deprecated in favor of torch.nn.utils.clip_grad_norm_.\n",
      "  if IS_TORCH_04: nn.utils.clip_grad_norm(trainable_params_(self.m), self.clip)\n"
     ]
    },
    {
     "name": "stdout",
     "output_type": "stream",
     "text": [
      "\r",
      " 41%|███████████████████████████▊                                        | 689/1683 [04:25<06:20,  2.61it/s, loss=7.34]"
     ]
    },
    {
     "name": "stderr",
     "output_type": "stream",
     "text": [
      "C:\\Users\\PC\\Projects\\fastai\\courses\\dl1\\ULMFiT-Filipino\\fastai\\model.py:62: UserWarning: torch.nn.utils.clip_grad_norm is now deprecated in favor of torch.nn.utils.clip_grad_norm_.\n",
      "  if IS_TORCH_04: nn.utils.clip_grad_norm(trainable_params_(self.m), self.clip)\n"
     ]
    },
    {
     "name": "stdout",
     "output_type": "stream",
     "text": [
      "\r",
      " 41%|███████████████████████████▉                                        | 690/1683 [04:26<06:24,  2.58it/s, loss=7.33]"
     ]
    },
    {
     "name": "stderr",
     "output_type": "stream",
     "text": [
      "C:\\Users\\PC\\Projects\\fastai\\courses\\dl1\\ULMFiT-Filipino\\fastai\\model.py:62: UserWarning: torch.nn.utils.clip_grad_norm is now deprecated in favor of torch.nn.utils.clip_grad_norm_.\n",
      "  if IS_TORCH_04: nn.utils.clip_grad_norm(trainable_params_(self.m), self.clip)\n"
     ]
    },
    {
     "name": "stdout",
     "output_type": "stream",
     "text": [
      "\r",
      " 41%|███████████████████████████▉                                        | 691/1683 [04:26<06:27,  2.56it/s, loss=7.32]"
     ]
    },
    {
     "name": "stderr",
     "output_type": "stream",
     "text": [
      "C:\\Users\\PC\\Projects\\fastai\\courses\\dl1\\ULMFiT-Filipino\\fastai\\model.py:62: UserWarning: torch.nn.utils.clip_grad_norm is now deprecated in favor of torch.nn.utils.clip_grad_norm_.\n",
      "  if IS_TORCH_04: nn.utils.clip_grad_norm(trainable_params_(self.m), self.clip)\n"
     ]
    },
    {
     "name": "stdout",
     "output_type": "stream",
     "text": [
      "\r",
      " 41%|███████████████████████████▉                                        | 692/1683 [04:27<06:29,  2.54it/s, loss=7.31]"
     ]
    },
    {
     "name": "stderr",
     "output_type": "stream",
     "text": [
      "C:\\Users\\PC\\Projects\\fastai\\courses\\dl1\\ULMFiT-Filipino\\fastai\\model.py:62: UserWarning: torch.nn.utils.clip_grad_norm is now deprecated in favor of torch.nn.utils.clip_grad_norm_.\n",
      "  if IS_TORCH_04: nn.utils.clip_grad_norm(trainable_params_(self.m), self.clip)\n"
     ]
    },
    {
     "name": "stdout",
     "output_type": "stream",
     "text": [
      "\r",
      " 41%|████████████████████████████▍                                        | 693/1683 [04:27<06:32,  2.52it/s, loss=7.3]"
     ]
    },
    {
     "name": "stderr",
     "output_type": "stream",
     "text": [
      "C:\\Users\\PC\\Projects\\fastai\\courses\\dl1\\ULMFiT-Filipino\\fastai\\model.py:62: UserWarning: torch.nn.utils.clip_grad_norm is now deprecated in favor of torch.nn.utils.clip_grad_norm_.\n",
      "  if IS_TORCH_04: nn.utils.clip_grad_norm(trainable_params_(self.m), self.clip)\n"
     ]
    },
    {
     "name": "stdout",
     "output_type": "stream",
     "text": [
      "\r",
      " 41%|████████████████████████████                                        | 694/1683 [04:27<06:28,  2.54it/s, loss=7.28]"
     ]
    },
    {
     "name": "stderr",
     "output_type": "stream",
     "text": [
      "C:\\Users\\PC\\Projects\\fastai\\courses\\dl1\\ULMFiT-Filipino\\fastai\\model.py:62: UserWarning: torch.nn.utils.clip_grad_norm is now deprecated in favor of torch.nn.utils.clip_grad_norm_.\n",
      "  if IS_TORCH_04: nn.utils.clip_grad_norm(trainable_params_(self.m), self.clip)\n"
     ]
    },
    {
     "name": "stdout",
     "output_type": "stream",
     "text": [
      "\r",
      " 41%|████████████████████████████                                        | 695/1683 [04:28<06:28,  2.54it/s, loss=7.27]"
     ]
    },
    {
     "name": "stderr",
     "output_type": "stream",
     "text": [
      "C:\\Users\\PC\\Projects\\fastai\\courses\\dl1\\ULMFiT-Filipino\\fastai\\model.py:62: UserWarning: torch.nn.utils.clip_grad_norm is now deprecated in favor of torch.nn.utils.clip_grad_norm_.\n",
      "  if IS_TORCH_04: nn.utils.clip_grad_norm(trainable_params_(self.m), self.clip)\n"
     ]
    },
    {
     "name": "stdout",
     "output_type": "stream",
     "text": [
      "\r",
      " 41%|████████████████████████████                                        | 696/1683 [04:28<06:36,  2.49it/s, loss=7.26]"
     ]
    },
    {
     "name": "stderr",
     "output_type": "stream",
     "text": [
      "C:\\Users\\PC\\Projects\\fastai\\courses\\dl1\\ULMFiT-Filipino\\fastai\\model.py:62: UserWarning: torch.nn.utils.clip_grad_norm is now deprecated in favor of torch.nn.utils.clip_grad_norm_.\n",
      "  if IS_TORCH_04: nn.utils.clip_grad_norm(trainable_params_(self.m), self.clip)\n"
     ]
    },
    {
     "name": "stdout",
     "output_type": "stream",
     "text": [
      "\r",
      " 41%|████████████████████████████▏                                       | 697/1683 [04:29<06:43,  2.44it/s, loss=7.25]"
     ]
    },
    {
     "name": "stderr",
     "output_type": "stream",
     "text": [
      "C:\\Users\\PC\\Projects\\fastai\\courses\\dl1\\ULMFiT-Filipino\\fastai\\model.py:62: UserWarning: torch.nn.utils.clip_grad_norm is now deprecated in favor of torch.nn.utils.clip_grad_norm_.\n",
      "  if IS_TORCH_04: nn.utils.clip_grad_norm(trainable_params_(self.m), self.clip)\n"
     ]
    },
    {
     "name": "stdout",
     "output_type": "stream",
     "text": [
      "\r",
      " 41%|████████████████████████████▏                                       | 698/1683 [04:29<06:41,  2.45it/s, loss=7.24]"
     ]
    },
    {
     "name": "stderr",
     "output_type": "stream",
     "text": [
      "C:\\Users\\PC\\Projects\\fastai\\courses\\dl1\\ULMFiT-Filipino\\fastai\\model.py:62: UserWarning: torch.nn.utils.clip_grad_norm is now deprecated in favor of torch.nn.utils.clip_grad_norm_.\n",
      "  if IS_TORCH_04: nn.utils.clip_grad_norm(trainable_params_(self.m), self.clip)\n"
     ]
    },
    {
     "name": "stdout",
     "output_type": "stream",
     "text": [
      "\r",
      " 42%|████████████████████████████▏                                       | 699/1683 [04:29<06:28,  2.53it/s, loss=7.22]"
     ]
    },
    {
     "name": "stderr",
     "output_type": "stream",
     "text": [
      "C:\\Users\\PC\\Projects\\fastai\\courses\\dl1\\ULMFiT-Filipino\\fastai\\model.py:62: UserWarning: torch.nn.utils.clip_grad_norm is now deprecated in favor of torch.nn.utils.clip_grad_norm_.\n",
      "  if IS_TORCH_04: nn.utils.clip_grad_norm(trainable_params_(self.m), self.clip)\n"
     ]
    },
    {
     "name": "stdout",
     "output_type": "stream",
     "text": [
      "\r",
      " 42%|████████████████████████████▎                                       | 700/1683 [04:30<06:28,  2.53it/s, loss=7.21]"
     ]
    },
    {
     "name": "stderr",
     "output_type": "stream",
     "text": [
      "C:\\Users\\PC\\Projects\\fastai\\courses\\dl1\\ULMFiT-Filipino\\fastai\\model.py:62: UserWarning: torch.nn.utils.clip_grad_norm is now deprecated in favor of torch.nn.utils.clip_grad_norm_.\n",
      "  if IS_TORCH_04: nn.utils.clip_grad_norm(trainable_params_(self.m), self.clip)\n"
     ]
    },
    {
     "name": "stdout",
     "output_type": "stream",
     "text": [
      "\r",
      " 42%|████████████████████████████▋                                        | 701/1683 [04:30<06:39,  2.46it/s, loss=7.2]"
     ]
    },
    {
     "name": "stderr",
     "output_type": "stream",
     "text": [
      "C:\\Users\\PC\\Projects\\fastai\\courses\\dl1\\ULMFiT-Filipino\\fastai\\model.py:62: UserWarning: torch.nn.utils.clip_grad_norm is now deprecated in favor of torch.nn.utils.clip_grad_norm_.\n",
      "  if IS_TORCH_04: nn.utils.clip_grad_norm(trainable_params_(self.m), self.clip)\n"
     ]
    },
    {
     "name": "stdout",
     "output_type": "stream",
     "text": [
      "\r",
      " 42%|████████████████████████████▎                                       | 702/1683 [04:31<06:22,  2.56it/s, loss=7.19]"
     ]
    },
    {
     "name": "stderr",
     "output_type": "stream",
     "text": [
      "C:\\Users\\PC\\Projects\\fastai\\courses\\dl1\\ULMFiT-Filipino\\fastai\\model.py:62: UserWarning: torch.nn.utils.clip_grad_norm is now deprecated in favor of torch.nn.utils.clip_grad_norm_.\n",
      "  if IS_TORCH_04: nn.utils.clip_grad_norm(trainable_params_(self.m), self.clip)\n"
     ]
    },
    {
     "name": "stdout",
     "output_type": "stream",
     "text": [
      "\r",
      " 42%|████████████████████████████▍                                       | 703/1683 [04:31<06:00,  2.72it/s, loss=7.18]"
     ]
    },
    {
     "name": "stderr",
     "output_type": "stream",
     "text": [
      "C:\\Users\\PC\\Projects\\fastai\\courses\\dl1\\ULMFiT-Filipino\\fastai\\model.py:62: UserWarning: torch.nn.utils.clip_grad_norm is now deprecated in favor of torch.nn.utils.clip_grad_norm_.\n",
      "  if IS_TORCH_04: nn.utils.clip_grad_norm(trainable_params_(self.m), self.clip)\n"
     ]
    },
    {
     "name": "stdout",
     "output_type": "stream",
     "text": [
      "\r",
      " 42%|████████████████████████████▍                                       | 704/1683 [04:31<06:08,  2.66it/s, loss=7.17]"
     ]
    },
    {
     "name": "stderr",
     "output_type": "stream",
     "text": [
      "C:\\Users\\PC\\Projects\\fastai\\courses\\dl1\\ULMFiT-Filipino\\fastai\\model.py:62: UserWarning: torch.nn.utils.clip_grad_norm is now deprecated in favor of torch.nn.utils.clip_grad_norm_.\n",
      "  if IS_TORCH_04: nn.utils.clip_grad_norm(trainable_params_(self.m), self.clip)\n"
     ]
    },
    {
     "name": "stdout",
     "output_type": "stream",
     "text": [
      "\r",
      " 42%|████████████████████████████▍                                       | 705/1683 [04:32<06:15,  2.61it/s, loss=7.16]"
     ]
    },
    {
     "name": "stderr",
     "output_type": "stream",
     "text": [
      "C:\\Users\\PC\\Projects\\fastai\\courses\\dl1\\ULMFiT-Filipino\\fastai\\model.py:62: UserWarning: torch.nn.utils.clip_grad_norm is now deprecated in favor of torch.nn.utils.clip_grad_norm_.\n",
      "  if IS_TORCH_04: nn.utils.clip_grad_norm(trainable_params_(self.m), self.clip)\n"
     ]
    },
    {
     "name": "stdout",
     "output_type": "stream",
     "text": [
      "\r",
      " 42%|████████████████████████████▌                                       | 706/1683 [04:32<06:14,  2.61it/s, loss=7.15]"
     ]
    },
    {
     "name": "stderr",
     "output_type": "stream",
     "text": [
      "C:\\Users\\PC\\Projects\\fastai\\courses\\dl1\\ULMFiT-Filipino\\fastai\\model.py:62: UserWarning: torch.nn.utils.clip_grad_norm is now deprecated in favor of torch.nn.utils.clip_grad_norm_.\n",
      "  if IS_TORCH_04: nn.utils.clip_grad_norm(trainable_params_(self.m), self.clip)\n"
     ]
    },
    {
     "name": "stdout",
     "output_type": "stream",
     "text": [
      "\r",
      " 42%|████████████████████████████▌                                       | 707/1683 [04:32<06:19,  2.57it/s, loss=7.14]"
     ]
    },
    {
     "name": "stderr",
     "output_type": "stream",
     "text": [
      "C:\\Users\\PC\\Projects\\fastai\\courses\\dl1\\ULMFiT-Filipino\\fastai\\model.py:62: UserWarning: torch.nn.utils.clip_grad_norm is now deprecated in favor of torch.nn.utils.clip_grad_norm_.\n",
      "  if IS_TORCH_04: nn.utils.clip_grad_norm(trainable_params_(self.m), self.clip)\n"
     ]
    },
    {
     "name": "stdout",
     "output_type": "stream",
     "text": [
      "\r",
      " 42%|████████████████████████████▌                                       | 708/1683 [04:33<05:45,  2.82it/s, loss=7.13]"
     ]
    },
    {
     "name": "stderr",
     "output_type": "stream",
     "text": [
      "C:\\Users\\PC\\Projects\\fastai\\courses\\dl1\\ULMFiT-Filipino\\fastai\\model.py:62: UserWarning: torch.nn.utils.clip_grad_norm is now deprecated in favor of torch.nn.utils.clip_grad_norm_.\n",
      "  if IS_TORCH_04: nn.utils.clip_grad_norm(trainable_params_(self.m), self.clip)\n"
     ]
    },
    {
     "name": "stdout",
     "output_type": "stream",
     "text": [
      "\r",
      " 42%|████████████████████████████▋                                       | 709/1683 [04:33<06:05,  2.67it/s, loss=7.12]"
     ]
    },
    {
     "name": "stderr",
     "output_type": "stream",
     "text": [
      "C:\\Users\\PC\\Projects\\fastai\\courses\\dl1\\ULMFiT-Filipino\\fastai\\model.py:62: UserWarning: torch.nn.utils.clip_grad_norm is now deprecated in favor of torch.nn.utils.clip_grad_norm_.\n",
      "  if IS_TORCH_04: nn.utils.clip_grad_norm(trainable_params_(self.m), self.clip)\n"
     ]
    },
    {
     "name": "stdout",
     "output_type": "stream",
     "text": [
      "\r",
      " 42%|████████████████████████████▋                                       | 710/1683 [04:34<06:15,  2.59it/s, loss=7.11]"
     ]
    },
    {
     "name": "stderr",
     "output_type": "stream",
     "text": [
      "C:\\Users\\PC\\Projects\\fastai\\courses\\dl1\\ULMFiT-Filipino\\fastai\\model.py:62: UserWarning: torch.nn.utils.clip_grad_norm is now deprecated in favor of torch.nn.utils.clip_grad_norm_.\n",
      "  if IS_TORCH_04: nn.utils.clip_grad_norm(trainable_params_(self.m), self.clip)\n"
     ]
    },
    {
     "name": "stdout",
     "output_type": "stream",
     "text": [
      "\r",
      " 42%|█████████████████████████████▏                                       | 711/1683 [04:34<06:15,  2.59it/s, loss=7.1]"
     ]
    },
    {
     "name": "stderr",
     "output_type": "stream",
     "text": [
      "C:\\Users\\PC\\Projects\\fastai\\courses\\dl1\\ULMFiT-Filipino\\fastai\\model.py:62: UserWarning: torch.nn.utils.clip_grad_norm is now deprecated in favor of torch.nn.utils.clip_grad_norm_.\n",
      "  if IS_TORCH_04: nn.utils.clip_grad_norm(trainable_params_(self.m), self.clip)\n"
     ]
    },
    {
     "name": "stdout",
     "output_type": "stream",
     "text": [
      "\r",
      " 42%|█████████████████████████████▏                                       | 712/1683 [04:34<06:22,  2.54it/s, loss=7.1]"
     ]
    },
    {
     "name": "stderr",
     "output_type": "stream",
     "text": [
      "C:\\Users\\PC\\Projects\\fastai\\courses\\dl1\\ULMFiT-Filipino\\fastai\\model.py:62: UserWarning: torch.nn.utils.clip_grad_norm is now deprecated in favor of torch.nn.utils.clip_grad_norm_.\n",
      "  if IS_TORCH_04: nn.utils.clip_grad_norm(trainable_params_(self.m), self.clip)\n"
     ]
    },
    {
     "name": "stdout",
     "output_type": "stream",
     "text": [
      "\r",
      " 42%|████████████████████████████▊                                       | 713/1683 [04:35<06:26,  2.51it/s, loss=7.09]"
     ]
    },
    {
     "name": "stderr",
     "output_type": "stream",
     "text": [
      "C:\\Users\\PC\\Projects\\fastai\\courses\\dl1\\ULMFiT-Filipino\\fastai\\model.py:62: UserWarning: torch.nn.utils.clip_grad_norm is now deprecated in favor of torch.nn.utils.clip_grad_norm_.\n",
      "  if IS_TORCH_04: nn.utils.clip_grad_norm(trainable_params_(self.m), self.clip)\n"
     ]
    },
    {
     "name": "stdout",
     "output_type": "stream",
     "text": [
      "\r",
      " 42%|████████████████████████████▊                                       | 714/1683 [04:35<06:29,  2.49it/s, loss=7.08]"
     ]
    },
    {
     "name": "stderr",
     "output_type": "stream",
     "text": [
      "C:\\Users\\PC\\Projects\\fastai\\courses\\dl1\\ULMFiT-Filipino\\fastai\\model.py:62: UserWarning: torch.nn.utils.clip_grad_norm is now deprecated in favor of torch.nn.utils.clip_grad_norm_.\n",
      "  if IS_TORCH_04: nn.utils.clip_grad_norm(trainable_params_(self.m), self.clip)\n"
     ]
    },
    {
     "name": "stdout",
     "output_type": "stream",
     "text": [
      "\r",
      " 42%|████████████████████████████▉                                       | 715/1683 [04:35<05:54,  2.73it/s, loss=7.07]"
     ]
    },
    {
     "name": "stderr",
     "output_type": "stream",
     "text": [
      "C:\\Users\\PC\\Projects\\fastai\\courses\\dl1\\ULMFiT-Filipino\\fastai\\model.py:62: UserWarning: torch.nn.utils.clip_grad_norm is now deprecated in favor of torch.nn.utils.clip_grad_norm_.\n",
      "  if IS_TORCH_04: nn.utils.clip_grad_norm(trainable_params_(self.m), self.clip)\n"
     ]
    },
    {
     "name": "stdout",
     "output_type": "stream",
     "text": [
      "\r",
      " 43%|████████████████████████████▉                                       | 716/1683 [04:36<05:28,  2.95it/s, loss=7.06]"
     ]
    },
    {
     "name": "stderr",
     "output_type": "stream",
     "text": [
      "C:\\Users\\PC\\Projects\\fastai\\courses\\dl1\\ULMFiT-Filipino\\fastai\\model.py:62: UserWarning: torch.nn.utils.clip_grad_norm is now deprecated in favor of torch.nn.utils.clip_grad_norm_.\n",
      "  if IS_TORCH_04: nn.utils.clip_grad_norm(trainable_params_(self.m), self.clip)\n"
     ]
    },
    {
     "name": "stdout",
     "output_type": "stream",
     "text": [
      "\r",
      " 43%|████████████████████████████▉                                       | 717/1683 [04:36<05:35,  2.88it/s, loss=7.05]"
     ]
    },
    {
     "name": "stderr",
     "output_type": "stream",
     "text": [
      "C:\\Users\\PC\\Projects\\fastai\\courses\\dl1\\ULMFiT-Filipino\\fastai\\model.py:62: UserWarning: torch.nn.utils.clip_grad_norm is now deprecated in favor of torch.nn.utils.clip_grad_norm_.\n",
      "  if IS_TORCH_04: nn.utils.clip_grad_norm(trainable_params_(self.m), self.clip)\n"
     ]
    },
    {
     "name": "stdout",
     "output_type": "stream",
     "text": [
      "\r",
      " 43%|█████████████████████████████                                       | 718/1683 [04:36<05:54,  2.72it/s, loss=7.05]"
     ]
    },
    {
     "name": "stderr",
     "output_type": "stream",
     "text": [
      "C:\\Users\\PC\\Projects\\fastai\\courses\\dl1\\ULMFiT-Filipino\\fastai\\model.py:62: UserWarning: torch.nn.utils.clip_grad_norm is now deprecated in favor of torch.nn.utils.clip_grad_norm_.\n",
      "  if IS_TORCH_04: nn.utils.clip_grad_norm(trainable_params_(self.m), self.clip)\n"
     ]
    },
    {
     "name": "stdout",
     "output_type": "stream",
     "text": [
      "\r",
      " 43%|█████████████████████████████                                       | 719/1683 [04:37<06:07,  2.62it/s, loss=7.04]"
     ]
    },
    {
     "name": "stderr",
     "output_type": "stream",
     "text": [
      "C:\\Users\\PC\\Projects\\fastai\\courses\\dl1\\ULMFiT-Filipino\\fastai\\model.py:62: UserWarning: torch.nn.utils.clip_grad_norm is now deprecated in favor of torch.nn.utils.clip_grad_norm_.\n",
      "  if IS_TORCH_04: nn.utils.clip_grad_norm(trainable_params_(self.m), self.clip)\n"
     ]
    },
    {
     "name": "stdout",
     "output_type": "stream",
     "text": [
      "\r",
      " 43%|█████████████████████████████                                       | 720/1683 [04:37<06:04,  2.64it/s, loss=7.03]"
     ]
    },
    {
     "name": "stderr",
     "output_type": "stream",
     "text": [
      "C:\\Users\\PC\\Projects\\fastai\\courses\\dl1\\ULMFiT-Filipino\\fastai\\model.py:62: UserWarning: torch.nn.utils.clip_grad_norm is now deprecated in favor of torch.nn.utils.clip_grad_norm_.\n",
      "  if IS_TORCH_04: nn.utils.clip_grad_norm(trainable_params_(self.m), self.clip)\n"
     ]
    },
    {
     "name": "stdout",
     "output_type": "stream",
     "text": [
      "\r",
      " 43%|█████████████████████████████▏                                      | 721/1683 [04:38<06:04,  2.64it/s, loss=7.03]"
     ]
    },
    {
     "name": "stderr",
     "output_type": "stream",
     "text": [
      "C:\\Users\\PC\\Projects\\fastai\\courses\\dl1\\ULMFiT-Filipino\\fastai\\model.py:62: UserWarning: torch.nn.utils.clip_grad_norm is now deprecated in favor of torch.nn.utils.clip_grad_norm_.\n",
      "  if IS_TORCH_04: nn.utils.clip_grad_norm(trainable_params_(self.m), self.clip)\n"
     ]
    },
    {
     "name": "stdout",
     "output_type": "stream",
     "text": [
      "\r",
      " 43%|█████████████████████████████▏                                      | 722/1683 [04:38<06:17,  2.55it/s, loss=7.02]"
     ]
    },
    {
     "name": "stderr",
     "output_type": "stream",
     "text": [
      "C:\\Users\\PC\\Projects\\fastai\\courses\\dl1\\ULMFiT-Filipino\\fastai\\model.py:62: UserWarning: torch.nn.utils.clip_grad_norm is now deprecated in favor of torch.nn.utils.clip_grad_norm_.\n",
      "  if IS_TORCH_04: nn.utils.clip_grad_norm(trainable_params_(self.m), self.clip)\n"
     ]
    },
    {
     "name": "stdout",
     "output_type": "stream",
     "text": [
      "\r",
      " 43%|█████████████████████████████▏                                      | 723/1683 [04:38<06:08,  2.61it/s, loss=7.01]"
     ]
    },
    {
     "name": "stderr",
     "output_type": "stream",
     "text": [
      "C:\\Users\\PC\\Projects\\fastai\\courses\\dl1\\ULMFiT-Filipino\\fastai\\model.py:62: UserWarning: torch.nn.utils.clip_grad_norm is now deprecated in favor of torch.nn.utils.clip_grad_norm_.\n",
      "  if IS_TORCH_04: nn.utils.clip_grad_norm(trainable_params_(self.m), self.clip)\n"
     ]
    },
    {
     "name": "stdout",
     "output_type": "stream",
     "text": [
      "\r",
      " 43%|█████████████████████████████▎                                      | 724/1683 [04:39<06:13,  2.56it/s, loss=7.01]"
     ]
    },
    {
     "name": "stderr",
     "output_type": "stream",
     "text": [
      "C:\\Users\\PC\\Projects\\fastai\\courses\\dl1\\ULMFiT-Filipino\\fastai\\model.py:62: UserWarning: torch.nn.utils.clip_grad_norm is now deprecated in favor of torch.nn.utils.clip_grad_norm_.\n",
      "  if IS_TORCH_04: nn.utils.clip_grad_norm(trainable_params_(self.m), self.clip)\n"
     ]
    },
    {
     "name": "stdout",
     "output_type": "stream",
     "text": [
      "\r",
      " 43%|██████████████████████████████▌                                        | 725/1683 [04:39<06:25,  2.49it/s, loss=7]"
     ]
    },
    {
     "name": "stderr",
     "output_type": "stream",
     "text": [
      "C:\\Users\\PC\\Projects\\fastai\\courses\\dl1\\ULMFiT-Filipino\\fastai\\model.py:62: UserWarning: torch.nn.utils.clip_grad_norm is now deprecated in favor of torch.nn.utils.clip_grad_norm_.\n",
      "  if IS_TORCH_04: nn.utils.clip_grad_norm(trainable_params_(self.m), self.clip)\n"
     ]
    },
    {
     "name": "stdout",
     "output_type": "stream",
     "text": [
      "\r",
      " 43%|██████████████████████████████▋                                        | 726/1683 [04:40<06:20,  2.51it/s, loss=7]"
     ]
    },
    {
     "name": "stderr",
     "output_type": "stream",
     "text": [
      "C:\\Users\\PC\\Projects\\fastai\\courses\\dl1\\ULMFiT-Filipino\\fastai\\model.py:62: UserWarning: torch.nn.utils.clip_grad_norm is now deprecated in favor of torch.nn.utils.clip_grad_norm_.\n",
      "  if IS_TORCH_04: nn.utils.clip_grad_norm(trainable_params_(self.m), self.clip)\n"
     ]
    },
    {
     "name": "stdout",
     "output_type": "stream",
     "text": [
      "\r",
      " 43%|█████████████████████████████▎                                      | 727/1683 [04:40<06:07,  2.60it/s, loss=6.99]"
     ]
    },
    {
     "name": "stderr",
     "output_type": "stream",
     "text": [
      "C:\\Users\\PC\\Projects\\fastai\\courses\\dl1\\ULMFiT-Filipino\\fastai\\model.py:62: UserWarning: torch.nn.utils.clip_grad_norm is now deprecated in favor of torch.nn.utils.clip_grad_norm_.\n",
      "  if IS_TORCH_04: nn.utils.clip_grad_norm(trainable_params_(self.m), self.clip)\n"
     ]
    },
    {
     "name": "stdout",
     "output_type": "stream",
     "text": [
      "\r",
      " 43%|█████████████████████████████▍                                      | 728/1683 [04:40<06:09,  2.59it/s, loss=6.98]"
     ]
    },
    {
     "name": "stderr",
     "output_type": "stream",
     "text": [
      "C:\\Users\\PC\\Projects\\fastai\\courses\\dl1\\ULMFiT-Filipino\\fastai\\model.py:62: UserWarning: torch.nn.utils.clip_grad_norm is now deprecated in favor of torch.nn.utils.clip_grad_norm_.\n",
      "  if IS_TORCH_04: nn.utils.clip_grad_norm(trainable_params_(self.m), self.clip)\n"
     ]
    },
    {
     "name": "stdout",
     "output_type": "stream",
     "text": [
      "\r",
      " 43%|█████████████████████████████▍                                      | 729/1683 [04:41<06:01,  2.64it/s, loss=6.98]"
     ]
    },
    {
     "name": "stderr",
     "output_type": "stream",
     "text": [
      "C:\\Users\\PC\\Projects\\fastai\\courses\\dl1\\ULMFiT-Filipino\\fastai\\model.py:62: UserWarning: torch.nn.utils.clip_grad_norm is now deprecated in favor of torch.nn.utils.clip_grad_norm_.\n",
      "  if IS_TORCH_04: nn.utils.clip_grad_norm(trainable_params_(self.m), self.clip)\n"
     ]
    },
    {
     "name": "stdout",
     "output_type": "stream",
     "text": [
      "\r",
      " 43%|█████████████████████████████▍                                      | 730/1683 [04:41<06:10,  2.57it/s, loss=6.97]"
     ]
    },
    {
     "name": "stderr",
     "output_type": "stream",
     "text": [
      "C:\\Users\\PC\\Projects\\fastai\\courses\\dl1\\ULMFiT-Filipino\\fastai\\model.py:62: UserWarning: torch.nn.utils.clip_grad_norm is now deprecated in favor of torch.nn.utils.clip_grad_norm_.\n",
      "  if IS_TORCH_04: nn.utils.clip_grad_norm(trainable_params_(self.m), self.clip)\n"
     ]
    },
    {
     "name": "stdout",
     "output_type": "stream",
     "text": [
      "\r",
      " 43%|█████████████████████████████▌                                      | 731/1683 [04:42<06:15,  2.53it/s, loss=6.96]"
     ]
    },
    {
     "name": "stderr",
     "output_type": "stream",
     "text": [
      "C:\\Users\\PC\\Projects\\fastai\\courses\\dl1\\ULMFiT-Filipino\\fastai\\model.py:62: UserWarning: torch.nn.utils.clip_grad_norm is now deprecated in favor of torch.nn.utils.clip_grad_norm_.\n",
      "  if IS_TORCH_04: nn.utils.clip_grad_norm(trainable_params_(self.m), self.clip)\n"
     ]
    },
    {
     "name": "stdout",
     "output_type": "stream",
     "text": [
      "\r",
      " 43%|█████████████████████████████▌                                      | 732/1683 [04:42<06:06,  2.60it/s, loss=6.95]"
     ]
    },
    {
     "name": "stderr",
     "output_type": "stream",
     "text": [
      "C:\\Users\\PC\\Projects\\fastai\\courses\\dl1\\ULMFiT-Filipino\\fastai\\model.py:62: UserWarning: torch.nn.utils.clip_grad_norm is now deprecated in favor of torch.nn.utils.clip_grad_norm_.\n",
      "  if IS_TORCH_04: nn.utils.clip_grad_norm(trainable_params_(self.m), self.clip)\n"
     ]
    },
    {
     "name": "stdout",
     "output_type": "stream",
     "text": [
      "\r",
      " 44%|█████████████████████████████▌                                      | 733/1683 [04:42<05:49,  2.72it/s, loss=6.94]"
     ]
    },
    {
     "name": "stderr",
     "output_type": "stream",
     "text": [
      "C:\\Users\\PC\\Projects\\fastai\\courses\\dl1\\ULMFiT-Filipino\\fastai\\model.py:62: UserWarning: torch.nn.utils.clip_grad_norm is now deprecated in favor of torch.nn.utils.clip_grad_norm_.\n",
      "  if IS_TORCH_04: nn.utils.clip_grad_norm(trainable_params_(self.m), self.clip)\n"
     ]
    },
    {
     "name": "stdout",
     "output_type": "stream",
     "text": [
      "\r",
      " 44%|█████████████████████████████▋                                      | 734/1683 [04:43<05:56,  2.66it/s, loss=6.94]"
     ]
    },
    {
     "name": "stderr",
     "output_type": "stream",
     "text": [
      "C:\\Users\\PC\\Projects\\fastai\\courses\\dl1\\ULMFiT-Filipino\\fastai\\model.py:62: UserWarning: torch.nn.utils.clip_grad_norm is now deprecated in favor of torch.nn.utils.clip_grad_norm_.\n",
      "  if IS_TORCH_04: nn.utils.clip_grad_norm(trainable_params_(self.m), self.clip)\n"
     ]
    },
    {
     "name": "stdout",
     "output_type": "stream",
     "text": [
      "\r",
      " 44%|█████████████████████████████▋                                      | 735/1683 [04:43<05:59,  2.64it/s, loss=6.93]"
     ]
    },
    {
     "name": "stderr",
     "output_type": "stream",
     "text": [
      "C:\\Users\\PC\\Projects\\fastai\\courses\\dl1\\ULMFiT-Filipino\\fastai\\model.py:62: UserWarning: torch.nn.utils.clip_grad_norm is now deprecated in favor of torch.nn.utils.clip_grad_norm_.\n",
      "  if IS_TORCH_04: nn.utils.clip_grad_norm(trainable_params_(self.m), self.clip)\n"
     ]
    },
    {
     "name": "stdout",
     "output_type": "stream",
     "text": [
      "\r",
      " 44%|█████████████████████████████▋                                      | 736/1683 [04:43<06:09,  2.56it/s, loss=6.93]"
     ]
    },
    {
     "name": "stderr",
     "output_type": "stream",
     "text": [
      "C:\\Users\\PC\\Projects\\fastai\\courses\\dl1\\ULMFiT-Filipino\\fastai\\model.py:62: UserWarning: torch.nn.utils.clip_grad_norm is now deprecated in favor of torch.nn.utils.clip_grad_norm_.\n",
      "  if IS_TORCH_04: nn.utils.clip_grad_norm(trainable_params_(self.m), self.clip)\n"
     ]
    },
    {
     "name": "stdout",
     "output_type": "stream",
     "text": [
      "\r",
      " 44%|█████████████████████████████▊                                      | 737/1683 [04:44<06:21,  2.48it/s, loss=6.92]"
     ]
    },
    {
     "name": "stderr",
     "output_type": "stream",
     "text": [
      "C:\\Users\\PC\\Projects\\fastai\\courses\\dl1\\ULMFiT-Filipino\\fastai\\model.py:62: UserWarning: torch.nn.utils.clip_grad_norm is now deprecated in favor of torch.nn.utils.clip_grad_norm_.\n",
      "  if IS_TORCH_04: nn.utils.clip_grad_norm(trainable_params_(self.m), self.clip)\n"
     ]
    },
    {
     "name": "stdout",
     "output_type": "stream",
     "text": [
      "\r",
      " 44%|█████████████████████████████▊                                      | 738/1683 [04:44<06:14,  2.52it/s, loss=6.91]"
     ]
    },
    {
     "name": "stderr",
     "output_type": "stream",
     "text": [
      "C:\\Users\\PC\\Projects\\fastai\\courses\\dl1\\ULMFiT-Filipino\\fastai\\model.py:62: UserWarning: torch.nn.utils.clip_grad_norm is now deprecated in favor of torch.nn.utils.clip_grad_norm_.\n",
      "  if IS_TORCH_04: nn.utils.clip_grad_norm(trainable_params_(self.m), self.clip)\n"
     ]
    },
    {
     "name": "stdout",
     "output_type": "stream",
     "text": [
      "\r",
      " 44%|█████████████████████████████▊                                      | 739/1683 [04:45<06:02,  2.60it/s, loss=6.91]"
     ]
    },
    {
     "name": "stderr",
     "output_type": "stream",
     "text": [
      "C:\\Users\\PC\\Projects\\fastai\\courses\\dl1\\ULMFiT-Filipino\\fastai\\model.py:62: UserWarning: torch.nn.utils.clip_grad_norm is now deprecated in favor of torch.nn.utils.clip_grad_norm_.\n",
      "  if IS_TORCH_04: nn.utils.clip_grad_norm(trainable_params_(self.m), self.clip)\n"
     ]
    },
    {
     "name": "stdout",
     "output_type": "stream",
     "text": [
      "\r",
      " 44%|██████████████████████████████▎                                      | 740/1683 [04:45<06:04,  2.59it/s, loss=6.9]"
     ]
    },
    {
     "name": "stderr",
     "output_type": "stream",
     "text": [
      "C:\\Users\\PC\\Projects\\fastai\\courses\\dl1\\ULMFiT-Filipino\\fastai\\model.py:62: UserWarning: torch.nn.utils.clip_grad_norm is now deprecated in favor of torch.nn.utils.clip_grad_norm_.\n",
      "  if IS_TORCH_04: nn.utils.clip_grad_norm(trainable_params_(self.m), self.clip)\n"
     ]
    },
    {
     "name": "stdout",
     "output_type": "stream",
     "text": [
      "\r",
      " 44%|██████████████████████████████▍                                      | 741/1683 [04:45<06:03,  2.59it/s, loss=6.9]"
     ]
    },
    {
     "name": "stderr",
     "output_type": "stream",
     "text": [
      "C:\\Users\\PC\\Projects\\fastai\\courses\\dl1\\ULMFiT-Filipino\\fastai\\model.py:62: UserWarning: torch.nn.utils.clip_grad_norm is now deprecated in favor of torch.nn.utils.clip_grad_norm_.\n",
      "  if IS_TORCH_04: nn.utils.clip_grad_norm(trainable_params_(self.m), self.clip)\n"
     ]
    },
    {
     "name": "stdout",
     "output_type": "stream",
     "text": [
      "\r",
      " 44%|█████████████████████████████▉                                      | 742/1683 [04:46<06:01,  2.60it/s, loss=6.89]"
     ]
    },
    {
     "name": "stderr",
     "output_type": "stream",
     "text": [
      "C:\\Users\\PC\\Projects\\fastai\\courses\\dl1\\ULMFiT-Filipino\\fastai\\model.py:62: UserWarning: torch.nn.utils.clip_grad_norm is now deprecated in favor of torch.nn.utils.clip_grad_norm_.\n",
      "  if IS_TORCH_04: nn.utils.clip_grad_norm(trainable_params_(self.m), self.clip)\n"
     ]
    },
    {
     "name": "stdout",
     "output_type": "stream",
     "text": [
      "\r",
      " 44%|██████████████████████████████                                      | 743/1683 [04:46<06:04,  2.58it/s, loss=6.89]"
     ]
    },
    {
     "name": "stderr",
     "output_type": "stream",
     "text": [
      "C:\\Users\\PC\\Projects\\fastai\\courses\\dl1\\ULMFiT-Filipino\\fastai\\model.py:62: UserWarning: torch.nn.utils.clip_grad_norm is now deprecated in favor of torch.nn.utils.clip_grad_norm_.\n",
      "  if IS_TORCH_04: nn.utils.clip_grad_norm(trainable_params_(self.m), self.clip)\n"
     ]
    },
    {
     "name": "stdout",
     "output_type": "stream",
     "text": [
      "\r",
      " 44%|██████████████████████████████                                      | 744/1683 [04:47<06:02,  2.59it/s, loss=6.88]"
     ]
    },
    {
     "name": "stderr",
     "output_type": "stream",
     "text": [
      "C:\\Users\\PC\\Projects\\fastai\\courses\\dl1\\ULMFiT-Filipino\\fastai\\model.py:62: UserWarning: torch.nn.utils.clip_grad_norm is now deprecated in favor of torch.nn.utils.clip_grad_norm_.\n",
      "  if IS_TORCH_04: nn.utils.clip_grad_norm(trainable_params_(self.m), self.clip)\n"
     ]
    },
    {
     "name": "stdout",
     "output_type": "stream",
     "text": [
      "\r",
      " 44%|██████████████████████████████                                      | 745/1683 [04:47<06:04,  2.57it/s, loss=6.87]"
     ]
    },
    {
     "name": "stderr",
     "output_type": "stream",
     "text": [
      "C:\\Users\\PC\\Projects\\fastai\\courses\\dl1\\ULMFiT-Filipino\\fastai\\model.py:62: UserWarning: torch.nn.utils.clip_grad_norm is now deprecated in favor of torch.nn.utils.clip_grad_norm_.\n",
      "  if IS_TORCH_04: nn.utils.clip_grad_norm(trainable_params_(self.m), self.clip)\n"
     ]
    },
    {
     "name": "stdout",
     "output_type": "stream",
     "text": [
      "\r",
      " 44%|██████████████████████████████▏                                     | 746/1683 [04:47<06:02,  2.59it/s, loss=6.87]"
     ]
    },
    {
     "name": "stderr",
     "output_type": "stream",
     "text": [
      "C:\\Users\\PC\\Projects\\fastai\\courses\\dl1\\ULMFiT-Filipino\\fastai\\model.py:62: UserWarning: torch.nn.utils.clip_grad_norm is now deprecated in favor of torch.nn.utils.clip_grad_norm_.\n",
      "  if IS_TORCH_04: nn.utils.clip_grad_norm(trainable_params_(self.m), self.clip)\n"
     ]
    },
    {
     "name": "stdout",
     "output_type": "stream",
     "text": [
      "\r",
      " 44%|██████████████████████████████▏                                     | 747/1683 [04:48<06:11,  2.52it/s, loss=6.86]"
     ]
    },
    {
     "name": "stderr",
     "output_type": "stream",
     "text": [
      "C:\\Users\\PC\\Projects\\fastai\\courses\\dl1\\ULMFiT-Filipino\\fastai\\model.py:62: UserWarning: torch.nn.utils.clip_grad_norm is now deprecated in favor of torch.nn.utils.clip_grad_norm_.\n",
      "  if IS_TORCH_04: nn.utils.clip_grad_norm(trainable_params_(self.m), self.clip)\n"
     ]
    },
    {
     "name": "stdout",
     "output_type": "stream",
     "text": [
      "\r",
      " 44%|██████████████████████████████▏                                     | 748/1683 [04:48<06:09,  2.53it/s, loss=6.85]"
     ]
    },
    {
     "name": "stderr",
     "output_type": "stream",
     "text": [
      "C:\\Users\\PC\\Projects\\fastai\\courses\\dl1\\ULMFiT-Filipino\\fastai\\model.py:62: UserWarning: torch.nn.utils.clip_grad_norm is now deprecated in favor of torch.nn.utils.clip_grad_norm_.\n",
      "  if IS_TORCH_04: nn.utils.clip_grad_norm(trainable_params_(self.m), self.clip)\n"
     ]
    },
    {
     "name": "stdout",
     "output_type": "stream",
     "text": [
      "\r",
      " 45%|██████████████████████████████▎                                     | 749/1683 [04:49<06:03,  2.57it/s, loss=6.85]"
     ]
    },
    {
     "name": "stderr",
     "output_type": "stream",
     "text": [
      "C:\\Users\\PC\\Projects\\fastai\\courses\\dl1\\ULMFiT-Filipino\\fastai\\model.py:62: UserWarning: torch.nn.utils.clip_grad_norm is now deprecated in favor of torch.nn.utils.clip_grad_norm_.\n",
      "  if IS_TORCH_04: nn.utils.clip_grad_norm(trainable_params_(self.m), self.clip)\n"
     ]
    },
    {
     "name": "stdout",
     "output_type": "stream",
     "text": [
      "\r",
      " 45%|██████████████████████████████▎                                     | 750/1683 [04:49<06:07,  2.54it/s, loss=6.84]"
     ]
    },
    {
     "name": "stderr",
     "output_type": "stream",
     "text": [
      "C:\\Users\\PC\\Projects\\fastai\\courses\\dl1\\ULMFiT-Filipino\\fastai\\model.py:62: UserWarning: torch.nn.utils.clip_grad_norm is now deprecated in favor of torch.nn.utils.clip_grad_norm_.\n",
      "  if IS_TORCH_04: nn.utils.clip_grad_norm(trainable_params_(self.m), self.clip)\n"
     ]
    },
    {
     "name": "stdout",
     "output_type": "stream",
     "text": [
      "\r",
      " 45%|██████████████████████████████▎                                     | 751/1683 [04:49<06:04,  2.56it/s, loss=6.84]"
     ]
    },
    {
     "name": "stderr",
     "output_type": "stream",
     "text": [
      "C:\\Users\\PC\\Projects\\fastai\\courses\\dl1\\ULMFiT-Filipino\\fastai\\model.py:62: UserWarning: torch.nn.utils.clip_grad_norm is now deprecated in favor of torch.nn.utils.clip_grad_norm_.\n",
      "  if IS_TORCH_04: nn.utils.clip_grad_norm(trainable_params_(self.m), self.clip)\n"
     ]
    },
    {
     "name": "stdout",
     "output_type": "stream",
     "text": [
      "\r",
      " 45%|██████████████████████████████▍                                     | 752/1683 [04:50<06:13,  2.49it/s, loss=6.83]"
     ]
    },
    {
     "name": "stderr",
     "output_type": "stream",
     "text": [
      "C:\\Users\\PC\\Projects\\fastai\\courses\\dl1\\ULMFiT-Filipino\\fastai\\model.py:62: UserWarning: torch.nn.utils.clip_grad_norm is now deprecated in favor of torch.nn.utils.clip_grad_norm_.\n",
      "  if IS_TORCH_04: nn.utils.clip_grad_norm(trainable_params_(self.m), self.clip)\n"
     ]
    },
    {
     "name": "stdout",
     "output_type": "stream",
     "text": [
      "\r",
      " 45%|██████████████████████████████▍                                     | 753/1683 [04:50<06:10,  2.51it/s, loss=6.83]"
     ]
    },
    {
     "name": "stderr",
     "output_type": "stream",
     "text": [
      "C:\\Users\\PC\\Projects\\fastai\\courses\\dl1\\ULMFiT-Filipino\\fastai\\model.py:62: UserWarning: torch.nn.utils.clip_grad_norm is now deprecated in favor of torch.nn.utils.clip_grad_norm_.\n",
      "  if IS_TORCH_04: nn.utils.clip_grad_norm(trainable_params_(self.m), self.clip)\n"
     ]
    },
    {
     "name": "stdout",
     "output_type": "stream",
     "text": [
      "\r",
      " 45%|██████████████████████████████▍                                     | 754/1683 [04:51<06:17,  2.46it/s, loss=6.82]"
     ]
    },
    {
     "name": "stderr",
     "output_type": "stream",
     "text": [
      "C:\\Users\\PC\\Projects\\fastai\\courses\\dl1\\ULMFiT-Filipino\\fastai\\model.py:62: UserWarning: torch.nn.utils.clip_grad_norm is now deprecated in favor of torch.nn.utils.clip_grad_norm_.\n",
      "  if IS_TORCH_04: nn.utils.clip_grad_norm(trainable_params_(self.m), self.clip)\n"
     ]
    },
    {
     "name": "stdout",
     "output_type": "stream",
     "text": [
      "\r",
      " 45%|██████████████████████████████▌                                     | 755/1683 [04:51<06:05,  2.54it/s, loss=6.82]"
     ]
    },
    {
     "name": "stderr",
     "output_type": "stream",
     "text": [
      "C:\\Users\\PC\\Projects\\fastai\\courses\\dl1\\ULMFiT-Filipino\\fastai\\model.py:62: UserWarning: torch.nn.utils.clip_grad_norm is now deprecated in favor of torch.nn.utils.clip_grad_norm_.\n",
      "  if IS_TORCH_04: nn.utils.clip_grad_norm(trainable_params_(self.m), self.clip)\n"
     ]
    },
    {
     "name": "stdout",
     "output_type": "stream",
     "text": [
      "\r",
      " 45%|██████████████████████████████▌                                     | 756/1683 [04:51<06:00,  2.57it/s, loss=6.81]"
     ]
    },
    {
     "name": "stderr",
     "output_type": "stream",
     "text": [
      "C:\\Users\\PC\\Projects\\fastai\\courses\\dl1\\ULMFiT-Filipino\\fastai\\model.py:62: UserWarning: torch.nn.utils.clip_grad_norm is now deprecated in favor of torch.nn.utils.clip_grad_norm_.\n",
      "  if IS_TORCH_04: nn.utils.clip_grad_norm(trainable_params_(self.m), self.clip)\n"
     ]
    },
    {
     "name": "stdout",
     "output_type": "stream",
     "text": [
      "\r",
      " 45%|██████████████████████████████▌                                     | 757/1683 [04:52<05:55,  2.60it/s, loss=6.81]"
     ]
    },
    {
     "name": "stderr",
     "output_type": "stream",
     "text": [
      "C:\\Users\\PC\\Projects\\fastai\\courses\\dl1\\ULMFiT-Filipino\\fastai\\model.py:62: UserWarning: torch.nn.utils.clip_grad_norm is now deprecated in favor of torch.nn.utils.clip_grad_norm_.\n",
      "  if IS_TORCH_04: nn.utils.clip_grad_norm(trainable_params_(self.m), self.clip)\n"
     ]
    },
    {
     "name": "stdout",
     "output_type": "stream",
     "text": [
      "\r",
      " 45%|███████████████████████████████                                      | 758/1683 [04:52<05:56,  2.60it/s, loss=6.8]"
     ]
    },
    {
     "name": "stderr",
     "output_type": "stream",
     "text": [
      "C:\\Users\\PC\\Projects\\fastai\\courses\\dl1\\ULMFiT-Filipino\\fastai\\model.py:62: UserWarning: torch.nn.utils.clip_grad_norm is now deprecated in favor of torch.nn.utils.clip_grad_norm_.\n",
      "  if IS_TORCH_04: nn.utils.clip_grad_norm(trainable_params_(self.m), self.clip)\n"
     ]
    },
    {
     "name": "stdout",
     "output_type": "stream",
     "text": [
      "\r",
      " 45%|███████████████████████████████                                      | 759/1683 [04:52<05:53,  2.61it/s, loss=6.8]"
     ]
    },
    {
     "name": "stderr",
     "output_type": "stream",
     "text": [
      "C:\\Users\\PC\\Projects\\fastai\\courses\\dl1\\ULMFiT-Filipino\\fastai\\model.py:62: UserWarning: torch.nn.utils.clip_grad_norm is now deprecated in favor of torch.nn.utils.clip_grad_norm_.\n",
      "  if IS_TORCH_04: nn.utils.clip_grad_norm(trainable_params_(self.m), self.clip)\n"
     ]
    },
    {
     "name": "stdout",
     "output_type": "stream",
     "text": [
      "\r",
      " 45%|███████████████████████████████▏                                     | 760/1683 [04:53<05:47,  2.66it/s, loss=6.8]"
     ]
    },
    {
     "name": "stderr",
     "output_type": "stream",
     "text": [
      "C:\\Users\\PC\\Projects\\fastai\\courses\\dl1\\ULMFiT-Filipino\\fastai\\model.py:62: UserWarning: torch.nn.utils.clip_grad_norm is now deprecated in favor of torch.nn.utils.clip_grad_norm_.\n",
      "  if IS_TORCH_04: nn.utils.clip_grad_norm(trainable_params_(self.m), self.clip)\n"
     ]
    },
    {
     "name": "stdout",
     "output_type": "stream",
     "text": [
      "\r",
      " 45%|██████████████████████████████▋                                     | 761/1683 [04:53<05:51,  2.62it/s, loss=6.79]"
     ]
    },
    {
     "name": "stderr",
     "output_type": "stream",
     "text": [
      "C:\\Users\\PC\\Projects\\fastai\\courses\\dl1\\ULMFiT-Filipino\\fastai\\model.py:62: UserWarning: torch.nn.utils.clip_grad_norm is now deprecated in favor of torch.nn.utils.clip_grad_norm_.\n",
      "  if IS_TORCH_04: nn.utils.clip_grad_norm(trainable_params_(self.m), self.clip)\n"
     ]
    },
    {
     "name": "stdout",
     "output_type": "stream",
     "text": [
      "\r",
      " 45%|██████████████████████████████▊                                     | 762/1683 [04:54<05:53,  2.61it/s, loss=6.79]"
     ]
    },
    {
     "name": "stderr",
     "output_type": "stream",
     "text": [
      "C:\\Users\\PC\\Projects\\fastai\\courses\\dl1\\ULMFiT-Filipino\\fastai\\model.py:62: UserWarning: torch.nn.utils.clip_grad_norm is now deprecated in favor of torch.nn.utils.clip_grad_norm_.\n",
      "  if IS_TORCH_04: nn.utils.clip_grad_norm(trainable_params_(self.m), self.clip)\n"
     ]
    },
    {
     "name": "stdout",
     "output_type": "stream",
     "text": [
      "\r",
      " 45%|██████████████████████████████▊                                     | 763/1683 [04:54<05:25,  2.83it/s, loss=6.79]"
     ]
    },
    {
     "name": "stderr",
     "output_type": "stream",
     "text": [
      "C:\\Users\\PC\\Projects\\fastai\\courses\\dl1\\ULMFiT-Filipino\\fastai\\model.py:62: UserWarning: torch.nn.utils.clip_grad_norm is now deprecated in favor of torch.nn.utils.clip_grad_norm_.\n",
      "  if IS_TORCH_04: nn.utils.clip_grad_norm(trainable_params_(self.m), self.clip)\n"
     ]
    },
    {
     "name": "stdout",
     "output_type": "stream",
     "text": [
      "\r",
      " 45%|██████████████████████████████▊                                     | 764/1683 [04:54<05:38,  2.71it/s, loss=6.78]"
     ]
    },
    {
     "name": "stderr",
     "output_type": "stream",
     "text": [
      "C:\\Users\\PC\\Projects\\fastai\\courses\\dl1\\ULMFiT-Filipino\\fastai\\model.py:62: UserWarning: torch.nn.utils.clip_grad_norm is now deprecated in favor of torch.nn.utils.clip_grad_norm_.\n",
      "  if IS_TORCH_04: nn.utils.clip_grad_norm(trainable_params_(self.m), self.clip)\n"
     ]
    },
    {
     "name": "stdout",
     "output_type": "stream",
     "text": [
      "\r",
      " 45%|██████████████████████████████▉                                     | 765/1683 [04:55<05:48,  2.64it/s, loss=6.77]"
     ]
    },
    {
     "name": "stderr",
     "output_type": "stream",
     "text": [
      "C:\\Users\\PC\\Projects\\fastai\\courses\\dl1\\ULMFiT-Filipino\\fastai\\model.py:62: UserWarning: torch.nn.utils.clip_grad_norm is now deprecated in favor of torch.nn.utils.clip_grad_norm_.\n",
      "  if IS_TORCH_04: nn.utils.clip_grad_norm(trainable_params_(self.m), self.clip)\n"
     ]
    },
    {
     "name": "stdout",
     "output_type": "stream",
     "text": [
      "\r",
      " 46%|██████████████████████████████▉                                     | 766/1683 [04:55<05:54,  2.59it/s, loss=6.77]"
     ]
    },
    {
     "name": "stderr",
     "output_type": "stream",
     "text": [
      "C:\\Users\\PC\\Projects\\fastai\\courses\\dl1\\ULMFiT-Filipino\\fastai\\model.py:62: UserWarning: torch.nn.utils.clip_grad_norm is now deprecated in favor of torch.nn.utils.clip_grad_norm_.\n",
      "  if IS_TORCH_04: nn.utils.clip_grad_norm(trainable_params_(self.m), self.clip)\n"
     ]
    },
    {
     "name": "stdout",
     "output_type": "stream",
     "text": [
      "\r",
      " 46%|██████████████████████████████▉                                     | 767/1683 [04:55<05:50,  2.61it/s, loss=6.76]"
     ]
    },
    {
     "name": "stderr",
     "output_type": "stream",
     "text": [
      "C:\\Users\\PC\\Projects\\fastai\\courses\\dl1\\ULMFiT-Filipino\\fastai\\model.py:62: UserWarning: torch.nn.utils.clip_grad_norm is now deprecated in favor of torch.nn.utils.clip_grad_norm_.\n",
      "  if IS_TORCH_04: nn.utils.clip_grad_norm(trainable_params_(self.m), self.clip)\n"
     ]
    },
    {
     "name": "stdout",
     "output_type": "stream",
     "text": [
      "\r",
      " 46%|███████████████████████████████                                     | 768/1683 [04:56<05:51,  2.60it/s, loss=6.76]"
     ]
    },
    {
     "name": "stderr",
     "output_type": "stream",
     "text": [
      "C:\\Users\\PC\\Projects\\fastai\\courses\\dl1\\ULMFiT-Filipino\\fastai\\model.py:62: UserWarning: torch.nn.utils.clip_grad_norm is now deprecated in favor of torch.nn.utils.clip_grad_norm_.\n",
      "  if IS_TORCH_04: nn.utils.clip_grad_norm(trainable_params_(self.m), self.clip)\n"
     ]
    },
    {
     "name": "stdout",
     "output_type": "stream",
     "text": [
      "\r",
      " 46%|███████████████████████████████                                     | 769/1683 [04:56<05:50,  2.61it/s, loss=6.75]"
     ]
    },
    {
     "name": "stderr",
     "output_type": "stream",
     "text": [
      "C:\\Users\\PC\\Projects\\fastai\\courses\\dl1\\ULMFiT-Filipino\\fastai\\model.py:62: UserWarning: torch.nn.utils.clip_grad_norm is now deprecated in favor of torch.nn.utils.clip_grad_norm_.\n",
      "  if IS_TORCH_04: nn.utils.clip_grad_norm(trainable_params_(self.m), self.clip)\n"
     ]
    },
    {
     "name": "stdout",
     "output_type": "stream",
     "text": [
      "\r",
      " 46%|███████████████████████████████                                     | 770/1683 [04:57<05:52,  2.59it/s, loss=6.75]"
     ]
    },
    {
     "name": "stderr",
     "output_type": "stream",
     "text": [
      "C:\\Users\\PC\\Projects\\fastai\\courses\\dl1\\ULMFiT-Filipino\\fastai\\model.py:62: UserWarning: torch.nn.utils.clip_grad_norm is now deprecated in favor of torch.nn.utils.clip_grad_norm_.\n",
      "  if IS_TORCH_04: nn.utils.clip_grad_norm(trainable_params_(self.m), self.clip)\n"
     ]
    },
    {
     "name": "stdout",
     "output_type": "stream",
     "text": [
      "\r",
      " 46%|███████████████████████████████▏                                    | 771/1683 [04:57<05:54,  2.57it/s, loss=6.74]"
     ]
    },
    {
     "name": "stderr",
     "output_type": "stream",
     "text": [
      "C:\\Users\\PC\\Projects\\fastai\\courses\\dl1\\ULMFiT-Filipino\\fastai\\model.py:62: UserWarning: torch.nn.utils.clip_grad_norm is now deprecated in favor of torch.nn.utils.clip_grad_norm_.\n",
      "  if IS_TORCH_04: nn.utils.clip_grad_norm(trainable_params_(self.m), self.clip)\n"
     ]
    },
    {
     "name": "stdout",
     "output_type": "stream",
     "text": [
      "\r",
      " 46%|███████████████████████████████▏                                    | 772/1683 [04:57<05:56,  2.55it/s, loss=6.74]"
     ]
    },
    {
     "name": "stderr",
     "output_type": "stream",
     "text": [
      "C:\\Users\\PC\\Projects\\fastai\\courses\\dl1\\ULMFiT-Filipino\\fastai\\model.py:62: UserWarning: torch.nn.utils.clip_grad_norm is now deprecated in favor of torch.nn.utils.clip_grad_norm_.\n",
      "  if IS_TORCH_04: nn.utils.clip_grad_norm(trainable_params_(self.m), self.clip)\n"
     ]
    },
    {
     "name": "stdout",
     "output_type": "stream",
     "text": [
      "\r",
      " 46%|███████████████████████████████▏                                    | 773/1683 [04:58<05:56,  2.55it/s, loss=6.74]"
     ]
    },
    {
     "name": "stderr",
     "output_type": "stream",
     "text": [
      "C:\\Users\\PC\\Projects\\fastai\\courses\\dl1\\ULMFiT-Filipino\\fastai\\model.py:62: UserWarning: torch.nn.utils.clip_grad_norm is now deprecated in favor of torch.nn.utils.clip_grad_norm_.\n",
      "  if IS_TORCH_04: nn.utils.clip_grad_norm(trainable_params_(self.m), self.clip)\n"
     ]
    },
    {
     "name": "stdout",
     "output_type": "stream",
     "text": [
      "\r",
      " 46%|███████████████████████████████▎                                    | 774/1683 [04:58<05:21,  2.83it/s, loss=6.73]"
     ]
    },
    {
     "name": "stderr",
     "output_type": "stream",
     "text": [
      "C:\\Users\\PC\\Projects\\fastai\\courses\\dl1\\ULMFiT-Filipino\\fastai\\model.py:62: UserWarning: torch.nn.utils.clip_grad_norm is now deprecated in favor of torch.nn.utils.clip_grad_norm_.\n",
      "  if IS_TORCH_04: nn.utils.clip_grad_norm(trainable_params_(self.m), self.clip)\n"
     ]
    },
    {
     "name": "stdout",
     "output_type": "stream",
     "text": [
      "\r",
      " 46%|███████████████████████████████▎                                    | 775/1683 [04:58<05:18,  2.85it/s, loss=6.73]"
     ]
    },
    {
     "name": "stderr",
     "output_type": "stream",
     "text": [
      "C:\\Users\\PC\\Projects\\fastai\\courses\\dl1\\ULMFiT-Filipino\\fastai\\model.py:62: UserWarning: torch.nn.utils.clip_grad_norm is now deprecated in favor of torch.nn.utils.clip_grad_norm_.\n",
      "  if IS_TORCH_04: nn.utils.clip_grad_norm(trainable_params_(self.m), self.clip)\n"
     ]
    },
    {
     "name": "stdout",
     "output_type": "stream",
     "text": [
      "\r",
      " 46%|███████████████████████████████▎                                    | 776/1683 [04:59<05:32,  2.73it/s, loss=6.73]"
     ]
    },
    {
     "name": "stderr",
     "output_type": "stream",
     "text": [
      "C:\\Users\\PC\\Projects\\fastai\\courses\\dl1\\ULMFiT-Filipino\\fastai\\model.py:62: UserWarning: torch.nn.utils.clip_grad_norm is now deprecated in favor of torch.nn.utils.clip_grad_norm_.\n",
      "  if IS_TORCH_04: nn.utils.clip_grad_norm(trainable_params_(self.m), self.clip)\n"
     ]
    },
    {
     "name": "stdout",
     "output_type": "stream",
     "text": [
      "\r",
      " 46%|███████████████████████████████▍                                    | 777/1683 [04:59<05:37,  2.69it/s, loss=6.72]"
     ]
    },
    {
     "name": "stderr",
     "output_type": "stream",
     "text": [
      "C:\\Users\\PC\\Projects\\fastai\\courses\\dl1\\ULMFiT-Filipino\\fastai\\model.py:62: UserWarning: torch.nn.utils.clip_grad_norm is now deprecated in favor of torch.nn.utils.clip_grad_norm_.\n",
      "  if IS_TORCH_04: nn.utils.clip_grad_norm(trainable_params_(self.m), self.clip)\n"
     ]
    },
    {
     "name": "stdout",
     "output_type": "stream",
     "text": [
      "\r",
      " 46%|███████████████████████████████▍                                    | 778/1683 [05:00<05:49,  2.59it/s, loss=6.72]"
     ]
    },
    {
     "name": "stderr",
     "output_type": "stream",
     "text": [
      "C:\\Users\\PC\\Projects\\fastai\\courses\\dl1\\ULMFiT-Filipino\\fastai\\model.py:62: UserWarning: torch.nn.utils.clip_grad_norm is now deprecated in favor of torch.nn.utils.clip_grad_norm_.\n",
      "  if IS_TORCH_04: nn.utils.clip_grad_norm(trainable_params_(self.m), self.clip)\n"
     ]
    },
    {
     "name": "stdout",
     "output_type": "stream",
     "text": [
      "\r",
      " 46%|███████████████████████████████▍                                    | 779/1683 [05:00<05:59,  2.52it/s, loss=6.72]"
     ]
    },
    {
     "name": "stderr",
     "output_type": "stream",
     "text": [
      "C:\\Users\\PC\\Projects\\fastai\\courses\\dl1\\ULMFiT-Filipino\\fastai\\model.py:62: UserWarning: torch.nn.utils.clip_grad_norm is now deprecated in favor of torch.nn.utils.clip_grad_norm_.\n",
      "  if IS_TORCH_04: nn.utils.clip_grad_norm(trainable_params_(self.m), self.clip)\n"
     ]
    },
    {
     "name": "stdout",
     "output_type": "stream",
     "text": [
      "\r",
      " 46%|███████████████████████████████▌                                    | 780/1683 [05:00<06:03,  2.48it/s, loss=6.71]"
     ]
    },
    {
     "name": "stderr",
     "output_type": "stream",
     "text": [
      "C:\\Users\\PC\\Projects\\fastai\\courses\\dl1\\ULMFiT-Filipino\\fastai\\model.py:62: UserWarning: torch.nn.utils.clip_grad_norm is now deprecated in favor of torch.nn.utils.clip_grad_norm_.\n",
      "  if IS_TORCH_04: nn.utils.clip_grad_norm(trainable_params_(self.m), self.clip)\n"
     ]
    },
    {
     "name": "stdout",
     "output_type": "stream",
     "text": [
      "\r",
      " 46%|███████████████████████████████▌                                    | 781/1683 [05:01<06:04,  2.47it/s, loss=6.71]"
     ]
    },
    {
     "name": "stderr",
     "output_type": "stream",
     "text": [
      "C:\\Users\\PC\\Projects\\fastai\\courses\\dl1\\ULMFiT-Filipino\\fastai\\model.py:62: UserWarning: torch.nn.utils.clip_grad_norm is now deprecated in favor of torch.nn.utils.clip_grad_norm_.\n",
      "  if IS_TORCH_04: nn.utils.clip_grad_norm(trainable_params_(self.m), self.clip)\n"
     ]
    },
    {
     "name": "stdout",
     "output_type": "stream",
     "text": [
      "\r",
      " 46%|████████████████████████████████                                     | 782/1683 [05:01<06:06,  2.46it/s, loss=6.7]"
     ]
    },
    {
     "name": "stderr",
     "output_type": "stream",
     "text": [
      "C:\\Users\\PC\\Projects\\fastai\\courses\\dl1\\ULMFiT-Filipino\\fastai\\model.py:62: UserWarning: torch.nn.utils.clip_grad_norm is now deprecated in favor of torch.nn.utils.clip_grad_norm_.\n",
      "  if IS_TORCH_04: nn.utils.clip_grad_norm(trainable_params_(self.m), self.clip)\n"
     ]
    },
    {
     "name": "stdout",
     "output_type": "stream",
     "text": [
      "\r",
      " 47%|████████████████████████████████                                     | 783/1683 [05:02<06:11,  2.42it/s, loss=6.7]"
     ]
    },
    {
     "name": "stderr",
     "output_type": "stream",
     "text": [
      "C:\\Users\\PC\\Projects\\fastai\\courses\\dl1\\ULMFiT-Filipino\\fastai\\model.py:62: UserWarning: torch.nn.utils.clip_grad_norm is now deprecated in favor of torch.nn.utils.clip_grad_norm_.\n",
      "  if IS_TORCH_04: nn.utils.clip_grad_norm(trainable_params_(self.m), self.clip)\n"
     ]
    },
    {
     "name": "stdout",
     "output_type": "stream",
     "text": [
      "\r",
      " 47%|███████████████████████████████▋                                    | 784/1683 [05:02<06:05,  2.46it/s, loss=6.69]"
     ]
    },
    {
     "name": "stderr",
     "output_type": "stream",
     "text": [
      "C:\\Users\\PC\\Projects\\fastai\\courses\\dl1\\ULMFiT-Filipino\\fastai\\model.py:62: UserWarning: torch.nn.utils.clip_grad_norm is now deprecated in favor of torch.nn.utils.clip_grad_norm_.\n",
      "  if IS_TORCH_04: nn.utils.clip_grad_norm(trainable_params_(self.m), self.clip)\n"
     ]
    },
    {
     "name": "stdout",
     "output_type": "stream",
     "text": [
      "\r",
      " 47%|███████████████████████████████▋                                    | 785/1683 [05:02<06:03,  2.47it/s, loss=6.69]"
     ]
    },
    {
     "name": "stderr",
     "output_type": "stream",
     "text": [
      "C:\\Users\\PC\\Projects\\fastai\\courses\\dl1\\ULMFiT-Filipino\\fastai\\model.py:62: UserWarning: torch.nn.utils.clip_grad_norm is now deprecated in favor of torch.nn.utils.clip_grad_norm_.\n",
      "  if IS_TORCH_04: nn.utils.clip_grad_norm(trainable_params_(self.m), self.clip)\n"
     ]
    },
    {
     "name": "stdout",
     "output_type": "stream",
     "text": [
      "\r",
      " 47%|███████████████████████████████▊                                    | 786/1683 [05:03<05:53,  2.53it/s, loss=6.68]"
     ]
    },
    {
     "name": "stderr",
     "output_type": "stream",
     "text": [
      "C:\\Users\\PC\\Projects\\fastai\\courses\\dl1\\ULMFiT-Filipino\\fastai\\model.py:62: UserWarning: torch.nn.utils.clip_grad_norm is now deprecated in favor of torch.nn.utils.clip_grad_norm_.\n",
      "  if IS_TORCH_04: nn.utils.clip_grad_norm(trainable_params_(self.m), self.clip)\n"
     ]
    },
    {
     "name": "stdout",
     "output_type": "stream",
     "text": [
      "\r",
      " 47%|███████████████████████████████▊                                    | 787/1683 [05:03<05:48,  2.57it/s, loss=6.68]"
     ]
    },
    {
     "name": "stderr",
     "output_type": "stream",
     "text": [
      "C:\\Users\\PC\\Projects\\fastai\\courses\\dl1\\ULMFiT-Filipino\\fastai\\model.py:62: UserWarning: torch.nn.utils.clip_grad_norm is now deprecated in favor of torch.nn.utils.clip_grad_norm_.\n",
      "  if IS_TORCH_04: nn.utils.clip_grad_norm(trainable_params_(self.m), self.clip)\n"
     ]
    },
    {
     "name": "stdout",
     "output_type": "stream",
     "text": [
      "\r",
      " 47%|███████████████████████████████▊                                    | 788/1683 [05:04<05:44,  2.60it/s, loss=6.68]"
     ]
    },
    {
     "name": "stderr",
     "output_type": "stream",
     "text": [
      "C:\\Users\\PC\\Projects\\fastai\\courses\\dl1\\ULMFiT-Filipino\\fastai\\model.py:62: UserWarning: torch.nn.utils.clip_grad_norm is now deprecated in favor of torch.nn.utils.clip_grad_norm_.\n",
      "  if IS_TORCH_04: nn.utils.clip_grad_norm(trainable_params_(self.m), self.clip)\n"
     ]
    },
    {
     "name": "stdout",
     "output_type": "stream",
     "text": [
      "\r",
      " 47%|███████████████████████████████▉                                    | 789/1683 [05:04<05:42,  2.61it/s, loss=6.68]"
     ]
    },
    {
     "name": "stderr",
     "output_type": "stream",
     "text": [
      "C:\\Users\\PC\\Projects\\fastai\\courses\\dl1\\ULMFiT-Filipino\\fastai\\model.py:62: UserWarning: torch.nn.utils.clip_grad_norm is now deprecated in favor of torch.nn.utils.clip_grad_norm_.\n",
      "  if IS_TORCH_04: nn.utils.clip_grad_norm(trainable_params_(self.m), self.clip)\n"
     ]
    },
    {
     "name": "stdout",
     "output_type": "stream",
     "text": [
      "\r",
      " 47%|███████████████████████████████▉                                    | 790/1683 [05:04<05:36,  2.65it/s, loss=6.68]"
     ]
    },
    {
     "name": "stderr",
     "output_type": "stream",
     "text": [
      "C:\\Users\\PC\\Projects\\fastai\\courses\\dl1\\ULMFiT-Filipino\\fastai\\model.py:62: UserWarning: torch.nn.utils.clip_grad_norm is now deprecated in favor of torch.nn.utils.clip_grad_norm_.\n",
      "  if IS_TORCH_04: nn.utils.clip_grad_norm(trainable_params_(self.m), self.clip)\n"
     ]
    },
    {
     "name": "stdout",
     "output_type": "stream",
     "text": [
      "\r",
      " 47%|███████████████████████████████▉                                    | 791/1683 [05:05<05:50,  2.54it/s, loss=6.67]"
     ]
    },
    {
     "name": "stderr",
     "output_type": "stream",
     "text": [
      "C:\\Users\\PC\\Projects\\fastai\\courses\\dl1\\ULMFiT-Filipino\\fastai\\model.py:62: UserWarning: torch.nn.utils.clip_grad_norm is now deprecated in favor of torch.nn.utils.clip_grad_norm_.\n",
      "  if IS_TORCH_04: nn.utils.clip_grad_norm(trainable_params_(self.m), self.clip)\n"
     ]
    },
    {
     "name": "stdout",
     "output_type": "stream",
     "text": [
      "\r",
      " 47%|████████████████████████████████                                    | 792/1683 [05:05<05:41,  2.61it/s, loss=6.67]"
     ]
    },
    {
     "name": "stderr",
     "output_type": "stream",
     "text": [
      "C:\\Users\\PC\\Projects\\fastai\\courses\\dl1\\ULMFiT-Filipino\\fastai\\model.py:62: UserWarning: torch.nn.utils.clip_grad_norm is now deprecated in favor of torch.nn.utils.clip_grad_norm_.\n",
      "  if IS_TORCH_04: nn.utils.clip_grad_norm(trainable_params_(self.m), self.clip)\n"
     ]
    },
    {
     "name": "stdout",
     "output_type": "stream",
     "text": [
      "\r",
      " 47%|████████████████████████████████                                    | 793/1683 [05:06<05:42,  2.60it/s, loss=6.66]"
     ]
    },
    {
     "name": "stderr",
     "output_type": "stream",
     "text": [
      "C:\\Users\\PC\\Projects\\fastai\\courses\\dl1\\ULMFiT-Filipino\\fastai\\model.py:62: UserWarning: torch.nn.utils.clip_grad_norm is now deprecated in favor of torch.nn.utils.clip_grad_norm_.\n",
      "  if IS_TORCH_04: nn.utils.clip_grad_norm(trainable_params_(self.m), self.clip)\n"
     ]
    },
    {
     "name": "stdout",
     "output_type": "stream",
     "text": [
      "\r",
      " 47%|████████████████████████████████                                    | 794/1683 [05:06<05:10,  2.86it/s, loss=6.66]"
     ]
    },
    {
     "name": "stderr",
     "output_type": "stream",
     "text": [
      "C:\\Users\\PC\\Projects\\fastai\\courses\\dl1\\ULMFiT-Filipino\\fastai\\model.py:62: UserWarning: torch.nn.utils.clip_grad_norm is now deprecated in favor of torch.nn.utils.clip_grad_norm_.\n",
      "  if IS_TORCH_04: nn.utils.clip_grad_norm(trainable_params_(self.m), self.clip)\n"
     ]
    },
    {
     "name": "stdout",
     "output_type": "stream",
     "text": [
      "\r",
      " 47%|████████████████████████████████                                    | 795/1683 [05:06<05:21,  2.76it/s, loss=6.66]"
     ]
    },
    {
     "name": "stderr",
     "output_type": "stream",
     "text": [
      "C:\\Users\\PC\\Projects\\fastai\\courses\\dl1\\ULMFiT-Filipino\\fastai\\model.py:62: UserWarning: torch.nn.utils.clip_grad_norm is now deprecated in favor of torch.nn.utils.clip_grad_norm_.\n",
      "  if IS_TORCH_04: nn.utils.clip_grad_norm(trainable_params_(self.m), self.clip)\n"
     ]
    },
    {
     "name": "stdout",
     "output_type": "stream",
     "text": [
      "\r",
      " 47%|████████████████████████████████▏                                   | 796/1683 [05:07<05:38,  2.62it/s, loss=6.66]"
     ]
    },
    {
     "name": "stderr",
     "output_type": "stream",
     "text": [
      "C:\\Users\\PC\\Projects\\fastai\\courses\\dl1\\ULMFiT-Filipino\\fastai\\model.py:62: UserWarning: torch.nn.utils.clip_grad_norm is now deprecated in favor of torch.nn.utils.clip_grad_norm_.\n",
      "  if IS_TORCH_04: nn.utils.clip_grad_norm(trainable_params_(self.m), self.clip)\n"
     ]
    },
    {
     "name": "stdout",
     "output_type": "stream",
     "text": [
      "\r",
      " 47%|████████████████████████████████▏                                   | 797/1683 [05:07<05:00,  2.95it/s, loss=6.65]"
     ]
    },
    {
     "name": "stderr",
     "output_type": "stream",
     "text": [
      "C:\\Users\\PC\\Projects\\fastai\\courses\\dl1\\ULMFiT-Filipino\\fastai\\model.py:62: UserWarning: torch.nn.utils.clip_grad_norm is now deprecated in favor of torch.nn.utils.clip_grad_norm_.\n",
      "  if IS_TORCH_04: nn.utils.clip_grad_norm(trainable_params_(self.m), self.clip)\n"
     ]
    },
    {
     "name": "stdout",
     "output_type": "stream",
     "text": [
      "\r",
      " 47%|████████████████████████████████▏                                   | 798/1683 [05:07<05:15,  2.80it/s, loss=6.65]"
     ]
    },
    {
     "name": "stderr",
     "output_type": "stream",
     "text": [
      "C:\\Users\\PC\\Projects\\fastai\\courses\\dl1\\ULMFiT-Filipino\\fastai\\model.py:62: UserWarning: torch.nn.utils.clip_grad_norm is now deprecated in favor of torch.nn.utils.clip_grad_norm_.\n",
      "  if IS_TORCH_04: nn.utils.clip_grad_norm(trainable_params_(self.m), self.clip)\n"
     ]
    },
    {
     "name": "stdout",
     "output_type": "stream",
     "text": [
      "\r",
      " 47%|████████████████████████████████▎                                   | 799/1683 [05:08<05:19,  2.77it/s, loss=6.65]"
     ]
    },
    {
     "name": "stderr",
     "output_type": "stream",
     "text": [
      "C:\\Users\\PC\\Projects\\fastai\\courses\\dl1\\ULMFiT-Filipino\\fastai\\model.py:62: UserWarning: torch.nn.utils.clip_grad_norm is now deprecated in favor of torch.nn.utils.clip_grad_norm_.\n",
      "  if IS_TORCH_04: nn.utils.clip_grad_norm(trainable_params_(self.m), self.clip)\n"
     ]
    },
    {
     "name": "stdout",
     "output_type": "stream",
     "text": [
      "\r",
      " 48%|████████████████████████████████▎                                   | 800/1683 [05:08<05:34,  2.64it/s, loss=6.64]"
     ]
    },
    {
     "name": "stderr",
     "output_type": "stream",
     "text": [
      "C:\\Users\\PC\\Projects\\fastai\\courses\\dl1\\ULMFiT-Filipino\\fastai\\model.py:62: UserWarning: torch.nn.utils.clip_grad_norm is now deprecated in favor of torch.nn.utils.clip_grad_norm_.\n",
      "  if IS_TORCH_04: nn.utils.clip_grad_norm(trainable_params_(self.m), self.clip)\n"
     ]
    },
    {
     "name": "stdout",
     "output_type": "stream",
     "text": [
      "\r",
      " 48%|████████████████████████████████▎                                   | 801/1683 [05:08<05:38,  2.61it/s, loss=6.64]"
     ]
    },
    {
     "name": "stderr",
     "output_type": "stream",
     "text": [
      "C:\\Users\\PC\\Projects\\fastai\\courses\\dl1\\ULMFiT-Filipino\\fastai\\model.py:62: UserWarning: torch.nn.utils.clip_grad_norm is now deprecated in favor of torch.nn.utils.clip_grad_norm_.\n",
      "  if IS_TORCH_04: nn.utils.clip_grad_norm(trainable_params_(self.m), self.clip)\n"
     ]
    },
    {
     "name": "stdout",
     "output_type": "stream",
     "text": [
      "\r",
      " 48%|████████████████████████████████▍                                   | 802/1683 [05:09<05:42,  2.57it/s, loss=6.63]"
     ]
    },
    {
     "name": "stderr",
     "output_type": "stream",
     "text": [
      "C:\\Users\\PC\\Projects\\fastai\\courses\\dl1\\ULMFiT-Filipino\\fastai\\model.py:62: UserWarning: torch.nn.utils.clip_grad_norm is now deprecated in favor of torch.nn.utils.clip_grad_norm_.\n",
      "  if IS_TORCH_04: nn.utils.clip_grad_norm(trainable_params_(self.m), self.clip)\n"
     ]
    },
    {
     "name": "stdout",
     "output_type": "stream",
     "text": [
      "\r",
      " 48%|████████████████████████████████▍                                   | 803/1683 [05:09<05:29,  2.67it/s, loss=6.63]"
     ]
    },
    {
     "name": "stderr",
     "output_type": "stream",
     "text": [
      "C:\\Users\\PC\\Projects\\fastai\\courses\\dl1\\ULMFiT-Filipino\\fastai\\model.py:62: UserWarning: torch.nn.utils.clip_grad_norm is now deprecated in favor of torch.nn.utils.clip_grad_norm_.\n",
      "  if IS_TORCH_04: nn.utils.clip_grad_norm(trainable_params_(self.m), self.clip)\n"
     ]
    },
    {
     "name": "stdout",
     "output_type": "stream",
     "text": [
      "\r",
      " 48%|████████████████████████████████▍                                   | 804/1683 [05:10<05:34,  2.63it/s, loss=6.62]"
     ]
    },
    {
     "name": "stderr",
     "output_type": "stream",
     "text": [
      "C:\\Users\\PC\\Projects\\fastai\\courses\\dl1\\ULMFiT-Filipino\\fastai\\model.py:62: UserWarning: torch.nn.utils.clip_grad_norm is now deprecated in favor of torch.nn.utils.clip_grad_norm_.\n",
      "  if IS_TORCH_04: nn.utils.clip_grad_norm(trainable_params_(self.m), self.clip)\n"
     ]
    },
    {
     "name": "stdout",
     "output_type": "stream",
     "text": [
      "\r",
      " 48%|████████████████████████████████▌                                   | 805/1683 [05:10<05:33,  2.63it/s, loss=6.62]"
     ]
    },
    {
     "name": "stderr",
     "output_type": "stream",
     "text": [
      "C:\\Users\\PC\\Projects\\fastai\\courses\\dl1\\ULMFiT-Filipino\\fastai\\model.py:62: UserWarning: torch.nn.utils.clip_grad_norm is now deprecated in favor of torch.nn.utils.clip_grad_norm_.\n",
      "  if IS_TORCH_04: nn.utils.clip_grad_norm(trainable_params_(self.m), self.clip)\n"
     ]
    },
    {
     "name": "stdout",
     "output_type": "stream",
     "text": [
      "\r",
      " 48%|████████████████████████████████▌                                   | 806/1683 [05:10<05:23,  2.71it/s, loss=6.62]"
     ]
    },
    {
     "name": "stderr",
     "output_type": "stream",
     "text": [
      "C:\\Users\\PC\\Projects\\fastai\\courses\\dl1\\ULMFiT-Filipino\\fastai\\model.py:62: UserWarning: torch.nn.utils.clip_grad_norm is now deprecated in favor of torch.nn.utils.clip_grad_norm_.\n",
      "  if IS_TORCH_04: nn.utils.clip_grad_norm(trainable_params_(self.m), self.clip)\n"
     ]
    },
    {
     "name": "stdout",
     "output_type": "stream",
     "text": [
      "\r",
      " 48%|████████████████████████████████▌                                   | 807/1683 [05:11<05:12,  2.80it/s, loss=6.61]"
     ]
    },
    {
     "name": "stderr",
     "output_type": "stream",
     "text": [
      "C:\\Users\\PC\\Projects\\fastai\\courses\\dl1\\ULMFiT-Filipino\\fastai\\model.py:62: UserWarning: torch.nn.utils.clip_grad_norm is now deprecated in favor of torch.nn.utils.clip_grad_norm_.\n",
      "  if IS_TORCH_04: nn.utils.clip_grad_norm(trainable_params_(self.m), self.clip)\n"
     ]
    },
    {
     "name": "stdout",
     "output_type": "stream",
     "text": [
      "\r",
      " 48%|████████████████████████████████▋                                   | 808/1683 [05:11<05:19,  2.74it/s, loss=6.61]"
     ]
    },
    {
     "name": "stderr",
     "output_type": "stream",
     "text": [
      "C:\\Users\\PC\\Projects\\fastai\\courses\\dl1\\ULMFiT-Filipino\\fastai\\model.py:62: UserWarning: torch.nn.utils.clip_grad_norm is now deprecated in favor of torch.nn.utils.clip_grad_norm_.\n",
      "  if IS_TORCH_04: nn.utils.clip_grad_norm(trainable_params_(self.m), self.clip)\n"
     ]
    },
    {
     "name": "stdout",
     "output_type": "stream",
     "text": [
      "\r",
      " 48%|████████████████████████████████▋                                   | 809/1683 [05:11<05:24,  2.69it/s, loss=6.61]"
     ]
    },
    {
     "name": "stderr",
     "output_type": "stream",
     "text": [
      "C:\\Users\\PC\\Projects\\fastai\\courses\\dl1\\ULMFiT-Filipino\\fastai\\model.py:62: UserWarning: torch.nn.utils.clip_grad_norm is now deprecated in favor of torch.nn.utils.clip_grad_norm_.\n",
      "  if IS_TORCH_04: nn.utils.clip_grad_norm(trainable_params_(self.m), self.clip)\n"
     ]
    },
    {
     "name": "stdout",
     "output_type": "stream",
     "text": [
      "\r",
      " 48%|█████████████████████████████████▏                                   | 810/1683 [05:12<05:33,  2.62it/s, loss=6.6]"
     ]
    },
    {
     "name": "stderr",
     "output_type": "stream",
     "text": [
      "C:\\Users\\PC\\Projects\\fastai\\courses\\dl1\\ULMFiT-Filipino\\fastai\\model.py:62: UserWarning: torch.nn.utils.clip_grad_norm is now deprecated in favor of torch.nn.utils.clip_grad_norm_.\n",
      "  if IS_TORCH_04: nn.utils.clip_grad_norm(trainable_params_(self.m), self.clip)\n"
     ]
    },
    {
     "name": "stdout",
     "output_type": "stream",
     "text": [
      "\r",
      " 48%|█████████████████████████████████▏                                   | 811/1683 [05:12<04:56,  2.94it/s, loss=6.6]"
     ]
    },
    {
     "name": "stderr",
     "output_type": "stream",
     "text": [
      "C:\\Users\\PC\\Projects\\fastai\\courses\\dl1\\ULMFiT-Filipino\\fastai\\model.py:62: UserWarning: torch.nn.utils.clip_grad_norm is now deprecated in favor of torch.nn.utils.clip_grad_norm_.\n",
      "  if IS_TORCH_04: nn.utils.clip_grad_norm(trainable_params_(self.m), self.clip)\n"
     ]
    },
    {
     "name": "stdout",
     "output_type": "stream",
     "text": [
      "\r",
      " 48%|█████████████████████████████████▎                                   | 812/1683 [05:12<05:12,  2.79it/s, loss=6.6]"
     ]
    },
    {
     "name": "stderr",
     "output_type": "stream",
     "text": [
      "C:\\Users\\PC\\Projects\\fastai\\courses\\dl1\\ULMFiT-Filipino\\fastai\\model.py:62: UserWarning: torch.nn.utils.clip_grad_norm is now deprecated in favor of torch.nn.utils.clip_grad_norm_.\n",
      "  if IS_TORCH_04: nn.utils.clip_grad_norm(trainable_params_(self.m), self.clip)\n"
     ]
    },
    {
     "name": "stdout",
     "output_type": "stream",
     "text": [
      "\r",
      " 48%|█████████████████████████████████▎                                   | 813/1683 [05:13<05:24,  2.68it/s, loss=6.6]"
     ]
    },
    {
     "name": "stderr",
     "output_type": "stream",
     "text": [
      "C:\\Users\\PC\\Projects\\fastai\\courses\\dl1\\ULMFiT-Filipino\\fastai\\model.py:62: UserWarning: torch.nn.utils.clip_grad_norm is now deprecated in favor of torch.nn.utils.clip_grad_norm_.\n",
      "  if IS_TORCH_04: nn.utils.clip_grad_norm(trainable_params_(self.m), self.clip)\n"
     ]
    },
    {
     "name": "stdout",
     "output_type": "stream",
     "text": [
      "\r",
      " 48%|████████████████████████████████▉                                   | 814/1683 [05:13<05:27,  2.65it/s, loss=6.59]"
     ]
    },
    {
     "name": "stderr",
     "output_type": "stream",
     "text": [
      "C:\\Users\\PC\\Projects\\fastai\\courses\\dl1\\ULMFiT-Filipino\\fastai\\model.py:62: UserWarning: torch.nn.utils.clip_grad_norm is now deprecated in favor of torch.nn.utils.clip_grad_norm_.\n",
      "  if IS_TORCH_04: nn.utils.clip_grad_norm(trainable_params_(self.m), self.clip)\n"
     ]
    },
    {
     "name": "stdout",
     "output_type": "stream",
     "text": [
      "\r",
      " 48%|████████████████████████████████▉                                   | 815/1683 [05:14<05:31,  2.62it/s, loss=6.59]"
     ]
    },
    {
     "name": "stderr",
     "output_type": "stream",
     "text": [
      "C:\\Users\\PC\\Projects\\fastai\\courses\\dl1\\ULMFiT-Filipino\\fastai\\model.py:62: UserWarning: torch.nn.utils.clip_grad_norm is now deprecated in favor of torch.nn.utils.clip_grad_norm_.\n",
      "  if IS_TORCH_04: nn.utils.clip_grad_norm(trainable_params_(self.m), self.clip)\n"
     ]
    },
    {
     "name": "stdout",
     "output_type": "stream",
     "text": [
      "\r",
      " 48%|████████████████████████████████▉                                   | 816/1683 [05:14<05:31,  2.61it/s, loss=6.58]"
     ]
    },
    {
     "name": "stderr",
     "output_type": "stream",
     "text": [
      "C:\\Users\\PC\\Projects\\fastai\\courses\\dl1\\ULMFiT-Filipino\\fastai\\model.py:62: UserWarning: torch.nn.utils.clip_grad_norm is now deprecated in favor of torch.nn.utils.clip_grad_norm_.\n",
      "  if IS_TORCH_04: nn.utils.clip_grad_norm(trainable_params_(self.m), self.clip)\n"
     ]
    },
    {
     "name": "stdout",
     "output_type": "stream",
     "text": [
      "\r",
      " 49%|█████████████████████████████████                                   | 817/1683 [05:14<05:34,  2.59it/s, loss=6.58]"
     ]
    },
    {
     "name": "stderr",
     "output_type": "stream",
     "text": [
      "C:\\Users\\PC\\Projects\\fastai\\courses\\dl1\\ULMFiT-Filipino\\fastai\\model.py:62: UserWarning: torch.nn.utils.clip_grad_norm is now deprecated in favor of torch.nn.utils.clip_grad_norm_.\n",
      "  if IS_TORCH_04: nn.utils.clip_grad_norm(trainable_params_(self.m), self.clip)\n"
     ]
    },
    {
     "name": "stdout",
     "output_type": "stream",
     "text": [
      "\r",
      " 49%|█████████████████████████████████                                   | 818/1683 [05:15<05:34,  2.59it/s, loss=6.58]"
     ]
    },
    {
     "name": "stderr",
     "output_type": "stream",
     "text": [
      "C:\\Users\\PC\\Projects\\fastai\\courses\\dl1\\ULMFiT-Filipino\\fastai\\model.py:62: UserWarning: torch.nn.utils.clip_grad_norm is now deprecated in favor of torch.nn.utils.clip_grad_norm_.\n",
      "  if IS_TORCH_04: nn.utils.clip_grad_norm(trainable_params_(self.m), self.clip)\n"
     ]
    },
    {
     "name": "stdout",
     "output_type": "stream",
     "text": [
      "\r",
      " 49%|█████████████████████████████████                                   | 819/1683 [05:15<05:43,  2.51it/s, loss=6.57]"
     ]
    },
    {
     "name": "stderr",
     "output_type": "stream",
     "text": [
      "C:\\Users\\PC\\Projects\\fastai\\courses\\dl1\\ULMFiT-Filipino\\fastai\\model.py:62: UserWarning: torch.nn.utils.clip_grad_norm is now deprecated in favor of torch.nn.utils.clip_grad_norm_.\n",
      "  if IS_TORCH_04: nn.utils.clip_grad_norm(trainable_params_(self.m), self.clip)\n"
     ]
    },
    {
     "name": "stdout",
     "output_type": "stream",
     "text": [
      "\r",
      " 49%|█████████████████████████████████▏                                  | 820/1683 [05:16<05:34,  2.58it/s, loss=6.57]"
     ]
    },
    {
     "name": "stderr",
     "output_type": "stream",
     "text": [
      "C:\\Users\\PC\\Projects\\fastai\\courses\\dl1\\ULMFiT-Filipino\\fastai\\model.py:62: UserWarning: torch.nn.utils.clip_grad_norm is now deprecated in favor of torch.nn.utils.clip_grad_norm_.\n",
      "  if IS_TORCH_04: nn.utils.clip_grad_norm(trainable_params_(self.m), self.clip)\n"
     ]
    },
    {
     "name": "stdout",
     "output_type": "stream",
     "text": [
      "\r",
      " 49%|█████████████████████████████████▏                                  | 821/1683 [05:16<05:37,  2.55it/s, loss=6.57]"
     ]
    },
    {
     "name": "stderr",
     "output_type": "stream",
     "text": [
      "C:\\Users\\PC\\Projects\\fastai\\courses\\dl1\\ULMFiT-Filipino\\fastai\\model.py:62: UserWarning: torch.nn.utils.clip_grad_norm is now deprecated in favor of torch.nn.utils.clip_grad_norm_.\n",
      "  if IS_TORCH_04: nn.utils.clip_grad_norm(trainable_params_(self.m), self.clip)\n"
     ]
    },
    {
     "name": "stdout",
     "output_type": "stream",
     "text": [
      "\r",
      " 49%|█████████████████████████████████▏                                  | 822/1683 [05:16<05:33,  2.58it/s, loss=6.57]"
     ]
    },
    {
     "name": "stderr",
     "output_type": "stream",
     "text": [
      "C:\\Users\\PC\\Projects\\fastai\\courses\\dl1\\ULMFiT-Filipino\\fastai\\model.py:62: UserWarning: torch.nn.utils.clip_grad_norm is now deprecated in favor of torch.nn.utils.clip_grad_norm_.\n",
      "  if IS_TORCH_04: nn.utils.clip_grad_norm(trainable_params_(self.m), self.clip)\n"
     ]
    },
    {
     "name": "stdout",
     "output_type": "stream",
     "text": [
      "\r",
      " 49%|█████████████████████████████████▎                                  | 823/1683 [05:17<05:40,  2.53it/s, loss=6.56]"
     ]
    },
    {
     "name": "stderr",
     "output_type": "stream",
     "text": [
      "C:\\Users\\PC\\Projects\\fastai\\courses\\dl1\\ULMFiT-Filipino\\fastai\\model.py:62: UserWarning: torch.nn.utils.clip_grad_norm is now deprecated in favor of torch.nn.utils.clip_grad_norm_.\n",
      "  if IS_TORCH_04: nn.utils.clip_grad_norm(trainable_params_(self.m), self.clip)\n"
     ]
    },
    {
     "name": "stdout",
     "output_type": "stream",
     "text": [
      "\r",
      " 49%|█████████████████████████████████▎                                  | 824/1683 [05:17<05:44,  2.49it/s, loss=6.56]"
     ]
    },
    {
     "name": "stderr",
     "output_type": "stream",
     "text": [
      "C:\\Users\\PC\\Projects\\fastai\\courses\\dl1\\ULMFiT-Filipino\\fastai\\model.py:62: UserWarning: torch.nn.utils.clip_grad_norm is now deprecated in favor of torch.nn.utils.clip_grad_norm_.\n",
      "  if IS_TORCH_04: nn.utils.clip_grad_norm(trainable_params_(self.m), self.clip)\n"
     ]
    },
    {
     "name": "stdout",
     "output_type": "stream",
     "text": [
      "\r",
      " 49%|█████████████████████████████████▎                                  | 825/1683 [05:18<05:37,  2.54it/s, loss=6.56]"
     ]
    },
    {
     "name": "stderr",
     "output_type": "stream",
     "text": [
      "C:\\Users\\PC\\Projects\\fastai\\courses\\dl1\\ULMFiT-Filipino\\fastai\\model.py:62: UserWarning: torch.nn.utils.clip_grad_norm is now deprecated in favor of torch.nn.utils.clip_grad_norm_.\n",
      "  if IS_TORCH_04: nn.utils.clip_grad_norm(trainable_params_(self.m), self.clip)\n"
     ]
    },
    {
     "name": "stdout",
     "output_type": "stream",
     "text": [
      "\r",
      " 49%|█████████████████████████████████▎                                  | 826/1683 [05:18<05:32,  2.58it/s, loss=6.55]"
     ]
    },
    {
     "name": "stderr",
     "output_type": "stream",
     "text": [
      "C:\\Users\\PC\\Projects\\fastai\\courses\\dl1\\ULMFiT-Filipino\\fastai\\model.py:62: UserWarning: torch.nn.utils.clip_grad_norm is now deprecated in favor of torch.nn.utils.clip_grad_norm_.\n",
      "  if IS_TORCH_04: nn.utils.clip_grad_norm(trainable_params_(self.m), self.clip)\n"
     ]
    },
    {
     "name": "stdout",
     "output_type": "stream",
     "text": [
      "\r",
      " 49%|█████████████████████████████████▍                                  | 827/1683 [05:18<05:00,  2.85it/s, loss=6.55]"
     ]
    },
    {
     "name": "stderr",
     "output_type": "stream",
     "text": [
      "C:\\Users\\PC\\Projects\\fastai\\courses\\dl1\\ULMFiT-Filipino\\fastai\\model.py:62: UserWarning: torch.nn.utils.clip_grad_norm is now deprecated in favor of torch.nn.utils.clip_grad_norm_.\n",
      "  if IS_TORCH_04: nn.utils.clip_grad_norm(trainable_params_(self.m), self.clip)\n"
     ]
    },
    {
     "name": "stdout",
     "output_type": "stream",
     "text": [
      "\r",
      " 49%|█████████████████████████████████▍                                  | 828/1683 [05:18<04:40,  3.04it/s, loss=6.55]"
     ]
    },
    {
     "name": "stderr",
     "output_type": "stream",
     "text": [
      "C:\\Users\\PC\\Projects\\fastai\\courses\\dl1\\ULMFiT-Filipino\\fastai\\model.py:62: UserWarning: torch.nn.utils.clip_grad_norm is now deprecated in favor of torch.nn.utils.clip_grad_norm_.\n",
      "  if IS_TORCH_04: nn.utils.clip_grad_norm(trainable_params_(self.m), self.clip)\n"
     ]
    },
    {
     "name": "stdout",
     "output_type": "stream",
     "text": [
      "\r",
      " 49%|█████████████████████████████████▍                                  | 829/1683 [05:19<04:43,  3.01it/s, loss=6.55]"
     ]
    },
    {
     "name": "stderr",
     "output_type": "stream",
     "text": [
      "C:\\Users\\PC\\Projects\\fastai\\courses\\dl1\\ULMFiT-Filipino\\fastai\\model.py:62: UserWarning: torch.nn.utils.clip_grad_norm is now deprecated in favor of torch.nn.utils.clip_grad_norm_.\n",
      "  if IS_TORCH_04: nn.utils.clip_grad_norm(trainable_params_(self.m), self.clip)\n"
     ]
    },
    {
     "name": "stdout",
     "output_type": "stream",
     "text": [
      "\r",
      " 49%|█████████████████████████████████▌                                  | 830/1683 [05:19<05:05,  2.79it/s, loss=6.54]"
     ]
    },
    {
     "name": "stderr",
     "output_type": "stream",
     "text": [
      "C:\\Users\\PC\\Projects\\fastai\\courses\\dl1\\ULMFiT-Filipino\\fastai\\model.py:62: UserWarning: torch.nn.utils.clip_grad_norm is now deprecated in favor of torch.nn.utils.clip_grad_norm_.\n",
      "  if IS_TORCH_04: nn.utils.clip_grad_norm(trainable_params_(self.m), self.clip)\n"
     ]
    },
    {
     "name": "stdout",
     "output_type": "stream",
     "text": [
      "\r",
      " 49%|█████████████████████████████████▌                                  | 831/1683 [05:20<05:21,  2.65it/s, loss=6.54]"
     ]
    },
    {
     "name": "stderr",
     "output_type": "stream",
     "text": [
      "C:\\Users\\PC\\Projects\\fastai\\courses\\dl1\\ULMFiT-Filipino\\fastai\\model.py:62: UserWarning: torch.nn.utils.clip_grad_norm is now deprecated in favor of torch.nn.utils.clip_grad_norm_.\n",
      "  if IS_TORCH_04: nn.utils.clip_grad_norm(trainable_params_(self.m), self.clip)\n"
     ]
    },
    {
     "name": "stdout",
     "output_type": "stream",
     "text": [
      "\r",
      " 49%|█████████████████████████████████▌                                  | 832/1683 [05:20<05:02,  2.81it/s, loss=6.54]"
     ]
    },
    {
     "name": "stderr",
     "output_type": "stream",
     "text": [
      "C:\\Users\\PC\\Projects\\fastai\\courses\\dl1\\ULMFiT-Filipino\\fastai\\model.py:62: UserWarning: torch.nn.utils.clip_grad_norm is now deprecated in favor of torch.nn.utils.clip_grad_norm_.\n",
      "  if IS_TORCH_04: nn.utils.clip_grad_norm(trainable_params_(self.m), self.clip)\n"
     ]
    },
    {
     "name": "stdout",
     "output_type": "stream",
     "text": [
      "\r",
      " 49%|█████████████████████████████████▋                                  | 833/1683 [05:20<05:08,  2.75it/s, loss=6.54]"
     ]
    },
    {
     "name": "stderr",
     "output_type": "stream",
     "text": [
      "C:\\Users\\PC\\Projects\\fastai\\courses\\dl1\\ULMFiT-Filipino\\fastai\\model.py:62: UserWarning: torch.nn.utils.clip_grad_norm is now deprecated in favor of torch.nn.utils.clip_grad_norm_.\n",
      "  if IS_TORCH_04: nn.utils.clip_grad_norm(trainable_params_(self.m), self.clip)\n"
     ]
    },
    {
     "name": "stdout",
     "output_type": "stream",
     "text": [
      "\r",
      " 50%|█████████████████████████████████▋                                  | 834/1683 [05:21<05:19,  2.65it/s, loss=6.54]"
     ]
    },
    {
     "name": "stderr",
     "output_type": "stream",
     "text": [
      "C:\\Users\\PC\\Projects\\fastai\\courses\\dl1\\ULMFiT-Filipino\\fastai\\model.py:62: UserWarning: torch.nn.utils.clip_grad_norm is now deprecated in favor of torch.nn.utils.clip_grad_norm_.\n",
      "  if IS_TORCH_04: nn.utils.clip_grad_norm(trainable_params_(self.m), self.clip)\n"
     ]
    },
    {
     "name": "stdout",
     "output_type": "stream",
     "text": [
      "\r",
      " 50%|█████████████████████████████████▋                                  | 835/1683 [05:21<05:30,  2.56it/s, loss=6.53]"
     ]
    },
    {
     "name": "stderr",
     "output_type": "stream",
     "text": [
      "C:\\Users\\PC\\Projects\\fastai\\courses\\dl1\\ULMFiT-Filipino\\fastai\\model.py:62: UserWarning: torch.nn.utils.clip_grad_norm is now deprecated in favor of torch.nn.utils.clip_grad_norm_.\n",
      "  if IS_TORCH_04: nn.utils.clip_grad_norm(trainable_params_(self.m), self.clip)\n"
     ]
    },
    {
     "name": "stdout",
     "output_type": "stream",
     "text": [
      "\r",
      " 50%|█████████████████████████████████▊                                  | 836/1683 [05:22<05:34,  2.53it/s, loss=6.53]"
     ]
    },
    {
     "name": "stderr",
     "output_type": "stream",
     "text": [
      "C:\\Users\\PC\\Projects\\fastai\\courses\\dl1\\ULMFiT-Filipino\\fastai\\model.py:62: UserWarning: torch.nn.utils.clip_grad_norm is now deprecated in favor of torch.nn.utils.clip_grad_norm_.\n",
      "  if IS_TORCH_04: nn.utils.clip_grad_norm(trainable_params_(self.m), self.clip)\n"
     ]
    },
    {
     "name": "stdout",
     "output_type": "stream",
     "text": [
      "\r",
      " 50%|█████████████████████████████████▊                                  | 837/1683 [05:22<05:32,  2.54it/s, loss=6.53]"
     ]
    },
    {
     "name": "stderr",
     "output_type": "stream",
     "text": [
      "C:\\Users\\PC\\Projects\\fastai\\courses\\dl1\\ULMFiT-Filipino\\fastai\\model.py:62: UserWarning: torch.nn.utils.clip_grad_norm is now deprecated in favor of torch.nn.utils.clip_grad_norm_.\n",
      "  if IS_TORCH_04: nn.utils.clip_grad_norm(trainable_params_(self.m), self.clip)\n"
     ]
    },
    {
     "name": "stdout",
     "output_type": "stream",
     "text": [
      "\r",
      " 50%|█████████████████████████████████▊                                  | 838/1683 [05:22<05:45,  2.45it/s, loss=6.52]"
     ]
    },
    {
     "name": "stderr",
     "output_type": "stream",
     "text": [
      "C:\\Users\\PC\\Projects\\fastai\\courses\\dl1\\ULMFiT-Filipino\\fastai\\model.py:62: UserWarning: torch.nn.utils.clip_grad_norm is now deprecated in favor of torch.nn.utils.clip_grad_norm_.\n",
      "  if IS_TORCH_04: nn.utils.clip_grad_norm(trainable_params_(self.m), self.clip)\n"
     ]
    },
    {
     "name": "stdout",
     "output_type": "stream",
     "text": [
      "\r",
      " 50%|█████████████████████████████████▉                                  | 839/1683 [05:23<05:38,  2.49it/s, loss=6.52]"
     ]
    },
    {
     "name": "stderr",
     "output_type": "stream",
     "text": [
      "C:\\Users\\PC\\Projects\\fastai\\courses\\dl1\\ULMFiT-Filipino\\fastai\\model.py:62: UserWarning: torch.nn.utils.clip_grad_norm is now deprecated in favor of torch.nn.utils.clip_grad_norm_.\n",
      "  if IS_TORCH_04: nn.utils.clip_grad_norm(trainable_params_(self.m), self.clip)\n"
     ]
    },
    {
     "name": "stdout",
     "output_type": "stream",
     "text": [
      "\r",
      " 50%|█████████████████████████████████▉                                  | 840/1683 [05:23<05:38,  2.49it/s, loss=6.51]"
     ]
    },
    {
     "name": "stderr",
     "output_type": "stream",
     "text": [
      "C:\\Users\\PC\\Projects\\fastai\\courses\\dl1\\ULMFiT-Filipino\\fastai\\model.py:62: UserWarning: torch.nn.utils.clip_grad_norm is now deprecated in favor of torch.nn.utils.clip_grad_norm_.\n",
      "  if IS_TORCH_04: nn.utils.clip_grad_norm(trainable_params_(self.m), self.clip)\n"
     ]
    },
    {
     "name": "stdout",
     "output_type": "stream",
     "text": [
      "\r",
      " 50%|█████████████████████████████████▉                                  | 841/1683 [05:24<05:40,  2.47it/s, loss=6.51]"
     ]
    },
    {
     "name": "stderr",
     "output_type": "stream",
     "text": [
      "C:\\Users\\PC\\Projects\\fastai\\courses\\dl1\\ULMFiT-Filipino\\fastai\\model.py:62: UserWarning: torch.nn.utils.clip_grad_norm is now deprecated in favor of torch.nn.utils.clip_grad_norm_.\n",
      "  if IS_TORCH_04: nn.utils.clip_grad_norm(trainable_params_(self.m), self.clip)\n"
     ]
    },
    {
     "name": "stdout",
     "output_type": "stream",
     "text": [
      "\r",
      " 50%|██████████████████████████████████                                  | 842/1683 [05:24<05:40,  2.47it/s, loss=6.51]"
     ]
    },
    {
     "name": "stderr",
     "output_type": "stream",
     "text": [
      "C:\\Users\\PC\\Projects\\fastai\\courses\\dl1\\ULMFiT-Filipino\\fastai\\model.py:62: UserWarning: torch.nn.utils.clip_grad_norm is now deprecated in favor of torch.nn.utils.clip_grad_norm_.\n",
      "  if IS_TORCH_04: nn.utils.clip_grad_norm(trainable_params_(self.m), self.clip)\n"
     ]
    },
    {
     "name": "stdout",
     "output_type": "stream",
     "text": [
      "\r",
      " 50%|██████████████████████████████████                                  | 843/1683 [05:24<05:37,  2.49it/s, loss=6.51]"
     ]
    },
    {
     "name": "stderr",
     "output_type": "stream",
     "text": [
      "C:\\Users\\PC\\Projects\\fastai\\courses\\dl1\\ULMFiT-Filipino\\fastai\\model.py:62: UserWarning: torch.nn.utils.clip_grad_norm is now deprecated in favor of torch.nn.utils.clip_grad_norm_.\n",
      "  if IS_TORCH_04: nn.utils.clip_grad_norm(trainable_params_(self.m), self.clip)\n"
     ]
    },
    {
     "name": "stdout",
     "output_type": "stream",
     "text": [
      "\r",
      " 50%|██████████████████████████████████▌                                  | 844/1683 [05:25<05:39,  2.47it/s, loss=6.5]"
     ]
    },
    {
     "name": "stderr",
     "output_type": "stream",
     "text": [
      "C:\\Users\\PC\\Projects\\fastai\\courses\\dl1\\ULMFiT-Filipino\\fastai\\model.py:62: UserWarning: torch.nn.utils.clip_grad_norm is now deprecated in favor of torch.nn.utils.clip_grad_norm_.\n",
      "  if IS_TORCH_04: nn.utils.clip_grad_norm(trainable_params_(self.m), self.clip)\n"
     ]
    },
    {
     "name": "stdout",
     "output_type": "stream",
     "text": [
      "\r",
      " 50%|██████████████████████████████████▋                                  | 845/1683 [05:25<05:35,  2.49it/s, loss=6.5]"
     ]
    },
    {
     "name": "stderr",
     "output_type": "stream",
     "text": [
      "C:\\Users\\PC\\Projects\\fastai\\courses\\dl1\\ULMFiT-Filipino\\fastai\\model.py:62: UserWarning: torch.nn.utils.clip_grad_norm is now deprecated in favor of torch.nn.utils.clip_grad_norm_.\n",
      "  if IS_TORCH_04: nn.utils.clip_grad_norm(trainable_params_(self.m), self.clip)\n"
     ]
    },
    {
     "name": "stdout",
     "output_type": "stream",
     "text": [
      "\r",
      " 50%|██████████████████████████████████▋                                  | 846/1683 [05:26<05:37,  2.48it/s, loss=6.5]"
     ]
    },
    {
     "name": "stderr",
     "output_type": "stream",
     "text": [
      "C:\\Users\\PC\\Projects\\fastai\\courses\\dl1\\ULMFiT-Filipino\\fastai\\model.py:62: UserWarning: torch.nn.utils.clip_grad_norm is now deprecated in favor of torch.nn.utils.clip_grad_norm_.\n",
      "  if IS_TORCH_04: nn.utils.clip_grad_norm(trainable_params_(self.m), self.clip)\n"
     ]
    },
    {
     "name": "stdout",
     "output_type": "stream",
     "text": [
      "\r",
      " 50%|██████████████████████████████████▋                                  | 847/1683 [05:26<05:36,  2.49it/s, loss=6.5]"
     ]
    },
    {
     "name": "stderr",
     "output_type": "stream",
     "text": [
      "C:\\Users\\PC\\Projects\\fastai\\courses\\dl1\\ULMFiT-Filipino\\fastai\\model.py:62: UserWarning: torch.nn.utils.clip_grad_norm is now deprecated in favor of torch.nn.utils.clip_grad_norm_.\n",
      "  if IS_TORCH_04: nn.utils.clip_grad_norm(trainable_params_(self.m), self.clip)\n"
     ]
    },
    {
     "name": "stdout",
     "output_type": "stream",
     "text": [
      "\r",
      " 50%|██████████████████████████████████▊                                  | 848/1683 [05:26<05:23,  2.58it/s, loss=6.5]"
     ]
    },
    {
     "name": "stderr",
     "output_type": "stream",
     "text": [
      "C:\\Users\\PC\\Projects\\fastai\\courses\\dl1\\ULMFiT-Filipino\\fastai\\model.py:62: UserWarning: torch.nn.utils.clip_grad_norm is now deprecated in favor of torch.nn.utils.clip_grad_norm_.\n",
      "  if IS_TORCH_04: nn.utils.clip_grad_norm(trainable_params_(self.m), self.clip)\n"
     ]
    },
    {
     "name": "stdout",
     "output_type": "stream",
     "text": [
      "\r",
      " 50%|██████████████████████████████████▎                                 | 849/1683 [05:27<05:10,  2.69it/s, loss=6.49]"
     ]
    },
    {
     "name": "stderr",
     "output_type": "stream",
     "text": [
      "C:\\Users\\PC\\Projects\\fastai\\courses\\dl1\\ULMFiT-Filipino\\fastai\\model.py:62: UserWarning: torch.nn.utils.clip_grad_norm is now deprecated in favor of torch.nn.utils.clip_grad_norm_.\n",
      "  if IS_TORCH_04: nn.utils.clip_grad_norm(trainable_params_(self.m), self.clip)\n"
     ]
    },
    {
     "name": "stdout",
     "output_type": "stream",
     "text": [
      "\r",
      " 51%|██████████████████████████████████▎                                 | 850/1683 [05:27<05:16,  2.63it/s, loss=6.49]"
     ]
    },
    {
     "name": "stderr",
     "output_type": "stream",
     "text": [
      "C:\\Users\\PC\\Projects\\fastai\\courses\\dl1\\ULMFiT-Filipino\\fastai\\model.py:62: UserWarning: torch.nn.utils.clip_grad_norm is now deprecated in favor of torch.nn.utils.clip_grad_norm_.\n",
      "  if IS_TORCH_04: nn.utils.clip_grad_norm(trainable_params_(self.m), self.clip)\n"
     ]
    },
    {
     "name": "stdout",
     "output_type": "stream",
     "text": [
      "\r",
      " 51%|██████████████████████████████████▍                                 | 851/1683 [05:28<05:23,  2.58it/s, loss=6.49]"
     ]
    },
    {
     "name": "stderr",
     "output_type": "stream",
     "text": [
      "C:\\Users\\PC\\Projects\\fastai\\courses\\dl1\\ULMFiT-Filipino\\fastai\\model.py:62: UserWarning: torch.nn.utils.clip_grad_norm is now deprecated in favor of torch.nn.utils.clip_grad_norm_.\n",
      "  if IS_TORCH_04: nn.utils.clip_grad_norm(trainable_params_(self.m), self.clip)\n"
     ]
    },
    {
     "name": "stdout",
     "output_type": "stream",
     "text": [
      "\r",
      " 51%|██████████████████████████████████▍                                 | 852/1683 [05:28<05:21,  2.58it/s, loss=6.49]"
     ]
    },
    {
     "name": "stderr",
     "output_type": "stream",
     "text": [
      "C:\\Users\\PC\\Projects\\fastai\\courses\\dl1\\ULMFiT-Filipino\\fastai\\model.py:62: UserWarning: torch.nn.utils.clip_grad_norm is now deprecated in favor of torch.nn.utils.clip_grad_norm_.\n",
      "  if IS_TORCH_04: nn.utils.clip_grad_norm(trainable_params_(self.m), self.clip)\n"
     ]
    },
    {
     "name": "stdout",
     "output_type": "stream",
     "text": [
      "\r",
      " 51%|██████████████████████████████████▍                                 | 853/1683 [05:28<05:20,  2.59it/s, loss=6.49]"
     ]
    },
    {
     "name": "stderr",
     "output_type": "stream",
     "text": [
      "C:\\Users\\PC\\Projects\\fastai\\courses\\dl1\\ULMFiT-Filipino\\fastai\\model.py:62: UserWarning: torch.nn.utils.clip_grad_norm is now deprecated in favor of torch.nn.utils.clip_grad_norm_.\n",
      "  if IS_TORCH_04: nn.utils.clip_grad_norm(trainable_params_(self.m), self.clip)\n"
     ]
    },
    {
     "name": "stdout",
     "output_type": "stream",
     "text": [
      "\r",
      " 51%|██████████████████████████████████▌                                 | 854/1683 [05:29<05:20,  2.59it/s, loss=6.49]"
     ]
    },
    {
     "name": "stderr",
     "output_type": "stream",
     "text": [
      "C:\\Users\\PC\\Projects\\fastai\\courses\\dl1\\ULMFiT-Filipino\\fastai\\model.py:62: UserWarning: torch.nn.utils.clip_grad_norm is now deprecated in favor of torch.nn.utils.clip_grad_norm_.\n",
      "  if IS_TORCH_04: nn.utils.clip_grad_norm(trainable_params_(self.m), self.clip)\n"
     ]
    },
    {
     "name": "stdout",
     "output_type": "stream",
     "text": [
      "\r",
      " 51%|██████████████████████████████████▌                                 | 855/1683 [05:29<05:20,  2.59it/s, loss=6.49]"
     ]
    },
    {
     "name": "stderr",
     "output_type": "stream",
     "text": [
      "C:\\Users\\PC\\Projects\\fastai\\courses\\dl1\\ULMFiT-Filipino\\fastai\\model.py:62: UserWarning: torch.nn.utils.clip_grad_norm is now deprecated in favor of torch.nn.utils.clip_grad_norm_.\n",
      "  if IS_TORCH_04: nn.utils.clip_grad_norm(trainable_params_(self.m), self.clip)\n"
     ]
    },
    {
     "name": "stdout",
     "output_type": "stream",
     "text": [
      "\r",
      " 51%|██████████████████████████████████▌                                 | 856/1683 [05:29<05:18,  2.60it/s, loss=6.49]"
     ]
    },
    {
     "name": "stderr",
     "output_type": "stream",
     "text": [
      "C:\\Users\\PC\\Projects\\fastai\\courses\\dl1\\ULMFiT-Filipino\\fastai\\model.py:62: UserWarning: torch.nn.utils.clip_grad_norm is now deprecated in favor of torch.nn.utils.clip_grad_norm_.\n",
      "  if IS_TORCH_04: nn.utils.clip_grad_norm(trainable_params_(self.m), self.clip)\n"
     ]
    },
    {
     "name": "stdout",
     "output_type": "stream",
     "text": [
      "\r",
      " 51%|██████████████████████████████████▋                                 | 857/1683 [05:30<05:13,  2.63it/s, loss=6.49]"
     ]
    },
    {
     "name": "stderr",
     "output_type": "stream",
     "text": [
      "C:\\Users\\PC\\Projects\\fastai\\courses\\dl1\\ULMFiT-Filipino\\fastai\\model.py:62: UserWarning: torch.nn.utils.clip_grad_norm is now deprecated in favor of torch.nn.utils.clip_grad_norm_.\n",
      "  if IS_TORCH_04: nn.utils.clip_grad_norm(trainable_params_(self.m), self.clip)\n"
     ]
    },
    {
     "name": "stdout",
     "output_type": "stream",
     "text": [
      "\r",
      " 51%|██████████████████████████████████▋                                 | 858/1683 [05:30<05:14,  2.62it/s, loss=6.49]"
     ]
    },
    {
     "name": "stderr",
     "output_type": "stream",
     "text": [
      "C:\\Users\\PC\\Projects\\fastai\\courses\\dl1\\ULMFiT-Filipino\\fastai\\model.py:62: UserWarning: torch.nn.utils.clip_grad_norm is now deprecated in favor of torch.nn.utils.clip_grad_norm_.\n",
      "  if IS_TORCH_04: nn.utils.clip_grad_norm(trainable_params_(self.m), self.clip)\n"
     ]
    },
    {
     "name": "stdout",
     "output_type": "stream",
     "text": [
      "\r",
      " 51%|██████████████████████████████████▋                                 | 859/1683 [05:31<05:13,  2.63it/s, loss=6.49]"
     ]
    },
    {
     "name": "stderr",
     "output_type": "stream",
     "text": [
      "C:\\Users\\PC\\Projects\\fastai\\courses\\dl1\\ULMFiT-Filipino\\fastai\\model.py:62: UserWarning: torch.nn.utils.clip_grad_norm is now deprecated in favor of torch.nn.utils.clip_grad_norm_.\n",
      "  if IS_TORCH_04: nn.utils.clip_grad_norm(trainable_params_(self.m), self.clip)\n"
     ]
    },
    {
     "name": "stdout",
     "output_type": "stream",
     "text": [
      "\r",
      " 51%|██████████████████████████████████▋                                 | 860/1683 [05:31<05:19,  2.58it/s, loss=6.49]"
     ]
    },
    {
     "name": "stderr",
     "output_type": "stream",
     "text": [
      "C:\\Users\\PC\\Projects\\fastai\\courses\\dl1\\ULMFiT-Filipino\\fastai\\model.py:62: UserWarning: torch.nn.utils.clip_grad_norm is now deprecated in favor of torch.nn.utils.clip_grad_norm_.\n",
      "  if IS_TORCH_04: nn.utils.clip_grad_norm(trainable_params_(self.m), self.clip)\n"
     ]
    },
    {
     "name": "stdout",
     "output_type": "stream",
     "text": [
      "\r",
      " 51%|██████████████████████████████████▊                                 | 861/1683 [05:31<05:23,  2.54it/s, loss=6.49]"
     ]
    },
    {
     "name": "stderr",
     "output_type": "stream",
     "text": [
      "C:\\Users\\PC\\Projects\\fastai\\courses\\dl1\\ULMFiT-Filipino\\fastai\\model.py:62: UserWarning: torch.nn.utils.clip_grad_norm is now deprecated in favor of torch.nn.utils.clip_grad_norm_.\n",
      "  if IS_TORCH_04: nn.utils.clip_grad_norm(trainable_params_(self.m), self.clip)\n"
     ]
    },
    {
     "name": "stdout",
     "output_type": "stream",
     "text": [
      "\r",
      " 51%|██████████████████████████████████▊                                 | 862/1683 [05:32<05:26,  2.51it/s, loss=6.49]"
     ]
    },
    {
     "name": "stderr",
     "output_type": "stream",
     "text": [
      "C:\\Users\\PC\\Projects\\fastai\\courses\\dl1\\ULMFiT-Filipino\\fastai\\model.py:62: UserWarning: torch.nn.utils.clip_grad_norm is now deprecated in favor of torch.nn.utils.clip_grad_norm_.\n",
      "  if IS_TORCH_04: nn.utils.clip_grad_norm(trainable_params_(self.m), self.clip)\n"
     ]
    },
    {
     "name": "stdout",
     "output_type": "stream",
     "text": [
      "\r",
      " 51%|██████████████████████████████████▊                                 | 863/1683 [05:32<05:23,  2.54it/s, loss=6.48]"
     ]
    },
    {
     "name": "stderr",
     "output_type": "stream",
     "text": [
      "C:\\Users\\PC\\Projects\\fastai\\courses\\dl1\\ULMFiT-Filipino\\fastai\\model.py:62: UserWarning: torch.nn.utils.clip_grad_norm is now deprecated in favor of torch.nn.utils.clip_grad_norm_.\n",
      "  if IS_TORCH_04: nn.utils.clip_grad_norm(trainable_params_(self.m), self.clip)\n"
     ]
    },
    {
     "name": "stdout",
     "output_type": "stream",
     "text": [
      "\r",
      " 51%|██████████████████████████████████▉                                 | 864/1683 [05:32<04:46,  2.86it/s, loss=6.48]"
     ]
    },
    {
     "name": "stderr",
     "output_type": "stream",
     "text": [
      "C:\\Users\\PC\\Projects\\fastai\\courses\\dl1\\ULMFiT-Filipino\\fastai\\model.py:62: UserWarning: torch.nn.utils.clip_grad_norm is now deprecated in favor of torch.nn.utils.clip_grad_norm_.\n",
      "  if IS_TORCH_04: nn.utils.clip_grad_norm(trainable_params_(self.m), self.clip)\n"
     ]
    },
    {
     "name": "stdout",
     "output_type": "stream",
     "text": [
      "\r",
      " 51%|██████████████████████████████████▉                                 | 865/1683 [05:33<04:56,  2.76it/s, loss=6.48]"
     ]
    },
    {
     "name": "stderr",
     "output_type": "stream",
     "text": [
      "C:\\Users\\PC\\Projects\\fastai\\courses\\dl1\\ULMFiT-Filipino\\fastai\\model.py:62: UserWarning: torch.nn.utils.clip_grad_norm is now deprecated in favor of torch.nn.utils.clip_grad_norm_.\n",
      "  if IS_TORCH_04: nn.utils.clip_grad_norm(trainable_params_(self.m), self.clip)\n"
     ]
    },
    {
     "name": "stdout",
     "output_type": "stream",
     "text": [
      "\r",
      " 51%|██████████████████████████████████▉                                 | 866/1683 [05:33<05:00,  2.72it/s, loss=6.48]"
     ]
    },
    {
     "name": "stderr",
     "output_type": "stream",
     "text": [
      "C:\\Users\\PC\\Projects\\fastai\\courses\\dl1\\ULMFiT-Filipino\\fastai\\model.py:62: UserWarning: torch.nn.utils.clip_grad_norm is now deprecated in favor of torch.nn.utils.clip_grad_norm_.\n",
      "  if IS_TORCH_04: nn.utils.clip_grad_norm(trainable_params_(self.m), self.clip)\n"
     ]
    },
    {
     "name": "stdout",
     "output_type": "stream",
     "text": [
      "\r",
      " 52%|███████████████████████████████████                                 | 867/1683 [05:33<04:27,  3.05it/s, loss=6.48]"
     ]
    },
    {
     "name": "stderr",
     "output_type": "stream",
     "text": [
      "C:\\Users\\PC\\Projects\\fastai\\courses\\dl1\\ULMFiT-Filipino\\fastai\\model.py:62: UserWarning: torch.nn.utils.clip_grad_norm is now deprecated in favor of torch.nn.utils.clip_grad_norm_.\n",
      "  if IS_TORCH_04: nn.utils.clip_grad_norm(trainable_params_(self.m), self.clip)\n"
     ]
    },
    {
     "name": "stdout",
     "output_type": "stream",
     "text": [
      "\r",
      " 52%|███████████████████████████████████                                 | 868/1683 [05:34<04:40,  2.90it/s, loss=6.48]"
     ]
    },
    {
     "name": "stderr",
     "output_type": "stream",
     "text": [
      "C:\\Users\\PC\\Projects\\fastai\\courses\\dl1\\ULMFiT-Filipino\\fastai\\model.py:62: UserWarning: torch.nn.utils.clip_grad_norm is now deprecated in favor of torch.nn.utils.clip_grad_norm_.\n",
      "  if IS_TORCH_04: nn.utils.clip_grad_norm(trainable_params_(self.m), self.clip)\n"
     ]
    },
    {
     "name": "stdout",
     "output_type": "stream",
     "text": [
      "\r",
      " 52%|███████████████████████████████████                                 | 869/1683 [05:34<04:46,  2.84it/s, loss=6.48]"
     ]
    },
    {
     "name": "stderr",
     "output_type": "stream",
     "text": [
      "C:\\Users\\PC\\Projects\\fastai\\courses\\dl1\\ULMFiT-Filipino\\fastai\\model.py:62: UserWarning: torch.nn.utils.clip_grad_norm is now deprecated in favor of torch.nn.utils.clip_grad_norm_.\n",
      "  if IS_TORCH_04: nn.utils.clip_grad_norm(trainable_params_(self.m), self.clip)\n"
     ]
    },
    {
     "name": "stdout",
     "output_type": "stream",
     "text": [
      "\r",
      " 52%|███████████████████████████████████▏                                | 870/1683 [05:35<04:56,  2.74it/s, loss=6.48]"
     ]
    },
    {
     "name": "stderr",
     "output_type": "stream",
     "text": [
      "C:\\Users\\PC\\Projects\\fastai\\courses\\dl1\\ULMFiT-Filipino\\fastai\\model.py:62: UserWarning: torch.nn.utils.clip_grad_norm is now deprecated in favor of torch.nn.utils.clip_grad_norm_.\n",
      "  if IS_TORCH_04: nn.utils.clip_grad_norm(trainable_params_(self.m), self.clip)\n"
     ]
    },
    {
     "name": "stdout",
     "output_type": "stream",
     "text": [
      "\r",
      " 52%|███████████████████████████████████▏                                | 871/1683 [05:35<04:55,  2.75it/s, loss=6.48]"
     ]
    },
    {
     "name": "stderr",
     "output_type": "stream",
     "text": [
      "C:\\Users\\PC\\Projects\\fastai\\courses\\dl1\\ULMFiT-Filipino\\fastai\\model.py:62: UserWarning: torch.nn.utils.clip_grad_norm is now deprecated in favor of torch.nn.utils.clip_grad_norm_.\n",
      "  if IS_TORCH_04: nn.utils.clip_grad_norm(trainable_params_(self.m), self.clip)\n"
     ]
    },
    {
     "name": "stdout",
     "output_type": "stream",
     "text": [
      "\r",
      " 52%|███████████████████████████████████▏                                | 872/1683 [05:35<05:02,  2.68it/s, loss=6.48]"
     ]
    },
    {
     "name": "stderr",
     "output_type": "stream",
     "text": [
      "C:\\Users\\PC\\Projects\\fastai\\courses\\dl1\\ULMFiT-Filipino\\fastai\\model.py:62: UserWarning: torch.nn.utils.clip_grad_norm is now deprecated in favor of torch.nn.utils.clip_grad_norm_.\n",
      "  if IS_TORCH_04: nn.utils.clip_grad_norm(trainable_params_(self.m), self.clip)\n"
     ]
    },
    {
     "name": "stdout",
     "output_type": "stream",
     "text": [
      "\r",
      " 52%|███████████████████████████████████▎                                | 873/1683 [05:36<05:09,  2.62it/s, loss=6.47]"
     ]
    },
    {
     "name": "stderr",
     "output_type": "stream",
     "text": [
      "C:\\Users\\PC\\Projects\\fastai\\courses\\dl1\\ULMFiT-Filipino\\fastai\\model.py:62: UserWarning: torch.nn.utils.clip_grad_norm is now deprecated in favor of torch.nn.utils.clip_grad_norm_.\n",
      "  if IS_TORCH_04: nn.utils.clip_grad_norm(trainable_params_(self.m), self.clip)\n"
     ]
    },
    {
     "name": "stdout",
     "output_type": "stream",
     "text": [
      "\r",
      " 52%|███████████████████████████████████▎                                | 874/1683 [05:36<05:24,  2.49it/s, loss=6.47]"
     ]
    },
    {
     "name": "stderr",
     "output_type": "stream",
     "text": [
      "C:\\Users\\PC\\Projects\\fastai\\courses\\dl1\\ULMFiT-Filipino\\fastai\\model.py:62: UserWarning: torch.nn.utils.clip_grad_norm is now deprecated in favor of torch.nn.utils.clip_grad_norm_.\n",
      "  if IS_TORCH_04: nn.utils.clip_grad_norm(trainable_params_(self.m), self.clip)\n"
     ]
    },
    {
     "name": "stdout",
     "output_type": "stream",
     "text": [
      "\r",
      " 52%|███████████████████████████████████▎                                | 875/1683 [05:36<04:48,  2.80it/s, loss=6.47]"
     ]
    },
    {
     "name": "stderr",
     "output_type": "stream",
     "text": [
      "C:\\Users\\PC\\Projects\\fastai\\courses\\dl1\\ULMFiT-Filipino\\fastai\\model.py:62: UserWarning: torch.nn.utils.clip_grad_norm is now deprecated in favor of torch.nn.utils.clip_grad_norm_.\n",
      "  if IS_TORCH_04: nn.utils.clip_grad_norm(trainable_params_(self.m), self.clip)\n"
     ]
    },
    {
     "name": "stdout",
     "output_type": "stream",
     "text": [
      "\r",
      " 52%|███████████████████████████████████▍                                | 876/1683 [05:37<04:44,  2.84it/s, loss=6.47]"
     ]
    },
    {
     "name": "stderr",
     "output_type": "stream",
     "text": [
      "C:\\Users\\PC\\Projects\\fastai\\courses\\dl1\\ULMFiT-Filipino\\fastai\\model.py:62: UserWarning: torch.nn.utils.clip_grad_norm is now deprecated in favor of torch.nn.utils.clip_grad_norm_.\n",
      "  if IS_TORCH_04: nn.utils.clip_grad_norm(trainable_params_(self.m), self.clip)\n"
     ]
    },
    {
     "name": "stdout",
     "output_type": "stream",
     "text": [
      "\r",
      " 52%|███████████████████████████████████▍                                | 877/1683 [05:37<04:51,  2.76it/s, loss=6.47]"
     ]
    },
    {
     "name": "stderr",
     "output_type": "stream",
     "text": [
      "C:\\Users\\PC\\Projects\\fastai\\courses\\dl1\\ULMFiT-Filipino\\fastai\\model.py:62: UserWarning: torch.nn.utils.clip_grad_norm is now deprecated in favor of torch.nn.utils.clip_grad_norm_.\n",
      "  if IS_TORCH_04: nn.utils.clip_grad_norm(trainable_params_(self.m), self.clip)\n"
     ]
    },
    {
     "name": "stdout",
     "output_type": "stream",
     "text": [
      "\r",
      " 52%|███████████████████████████████████▍                                | 878/1683 [05:38<04:59,  2.69it/s, loss=6.47]"
     ]
    },
    {
     "name": "stderr",
     "output_type": "stream",
     "text": [
      "C:\\Users\\PC\\Projects\\fastai\\courses\\dl1\\ULMFiT-Filipino\\fastai\\model.py:62: UserWarning: torch.nn.utils.clip_grad_norm is now deprecated in favor of torch.nn.utils.clip_grad_norm_.\n",
      "  if IS_TORCH_04: nn.utils.clip_grad_norm(trainable_params_(self.m), self.clip)\n"
     ]
    },
    {
     "name": "stdout",
     "output_type": "stream",
     "text": [
      "\r",
      " 52%|███████████████████████████████████▌                                | 879/1683 [05:38<04:58,  2.70it/s, loss=6.47]"
     ]
    },
    {
     "name": "stderr",
     "output_type": "stream",
     "text": [
      "C:\\Users\\PC\\Projects\\fastai\\courses\\dl1\\ULMFiT-Filipino\\fastai\\model.py:62: UserWarning: torch.nn.utils.clip_grad_norm is now deprecated in favor of torch.nn.utils.clip_grad_norm_.\n",
      "  if IS_TORCH_04: nn.utils.clip_grad_norm(trainable_params_(self.m), self.clip)\n"
     ]
    },
    {
     "name": "stdout",
     "output_type": "stream",
     "text": [
      "\r",
      " 52%|███████████████████████████████████▌                                | 880/1683 [05:38<05:09,  2.59it/s, loss=6.47]"
     ]
    },
    {
     "name": "stderr",
     "output_type": "stream",
     "text": [
      "C:\\Users\\PC\\Projects\\fastai\\courses\\dl1\\ULMFiT-Filipino\\fastai\\model.py:62: UserWarning: torch.nn.utils.clip_grad_norm is now deprecated in favor of torch.nn.utils.clip_grad_norm_.\n",
      "  if IS_TORCH_04: nn.utils.clip_grad_norm(trainable_params_(self.m), self.clip)\n"
     ]
    },
    {
     "name": "stdout",
     "output_type": "stream",
     "text": [
      "\r",
      " 52%|███████████████████████████████████▌                                | 881/1683 [05:39<05:04,  2.64it/s, loss=6.47]"
     ]
    },
    {
     "name": "stderr",
     "output_type": "stream",
     "text": [
      "C:\\Users\\PC\\Projects\\fastai\\courses\\dl1\\ULMFiT-Filipino\\fastai\\model.py:62: UserWarning: torch.nn.utils.clip_grad_norm is now deprecated in favor of torch.nn.utils.clip_grad_norm_.\n",
      "  if IS_TORCH_04: nn.utils.clip_grad_norm(trainable_params_(self.m), self.clip)\n"
     ]
    },
    {
     "name": "stdout",
     "output_type": "stream",
     "text": [
      "\r",
      " 52%|███████████████████████████████████▋                                | 882/1683 [05:39<05:07,  2.61it/s, loss=6.47]"
     ]
    },
    {
     "name": "stderr",
     "output_type": "stream",
     "text": [
      "C:\\Users\\PC\\Projects\\fastai\\courses\\dl1\\ULMFiT-Filipino\\fastai\\model.py:62: UserWarning: torch.nn.utils.clip_grad_norm is now deprecated in favor of torch.nn.utils.clip_grad_norm_.\n",
      "  if IS_TORCH_04: nn.utils.clip_grad_norm(trainable_params_(self.m), self.clip)\n"
     ]
    },
    {
     "name": "stdout",
     "output_type": "stream",
     "text": [
      "\r",
      " 52%|███████████████████████████████████▋                                | 883/1683 [05:39<05:05,  2.62it/s, loss=6.47]"
     ]
    },
    {
     "name": "stderr",
     "output_type": "stream",
     "text": [
      "C:\\Users\\PC\\Projects\\fastai\\courses\\dl1\\ULMFiT-Filipino\\fastai\\model.py:62: UserWarning: torch.nn.utils.clip_grad_norm is now deprecated in favor of torch.nn.utils.clip_grad_norm_.\n",
      "  if IS_TORCH_04: nn.utils.clip_grad_norm(trainable_params_(self.m), self.clip)\n"
     ]
    },
    {
     "name": "stdout",
     "output_type": "stream",
     "text": [
      "\r",
      " 53%|███████████████████████████████████▋                                | 884/1683 [05:40<05:08,  2.59it/s, loss=6.47]"
     ]
    },
    {
     "name": "stderr",
     "output_type": "stream",
     "text": [
      "C:\\Users\\PC\\Projects\\fastai\\courses\\dl1\\ULMFiT-Filipino\\fastai\\model.py:62: UserWarning: torch.nn.utils.clip_grad_norm is now deprecated in favor of torch.nn.utils.clip_grad_norm_.\n",
      "  if IS_TORCH_04: nn.utils.clip_grad_norm(trainable_params_(self.m), self.clip)\n"
     ]
    },
    {
     "name": "stdout",
     "output_type": "stream",
     "text": [
      "\r",
      " 53%|███████████████████████████████████▊                                | 885/1683 [05:40<05:13,  2.55it/s, loss=6.47]"
     ]
    },
    {
     "name": "stderr",
     "output_type": "stream",
     "text": [
      "C:\\Users\\PC\\Projects\\fastai\\courses\\dl1\\ULMFiT-Filipino\\fastai\\model.py:62: UserWarning: torch.nn.utils.clip_grad_norm is now deprecated in favor of torch.nn.utils.clip_grad_norm_.\n",
      "  if IS_TORCH_04: nn.utils.clip_grad_norm(trainable_params_(self.m), self.clip)\n"
     ]
    },
    {
     "name": "stdout",
     "output_type": "stream",
     "text": [
      "\r",
      " 53%|███████████████████████████████████▊                                | 886/1683 [05:41<05:13,  2.54it/s, loss=6.47]"
     ]
    },
    {
     "name": "stderr",
     "output_type": "stream",
     "text": [
      "C:\\Users\\PC\\Projects\\fastai\\courses\\dl1\\ULMFiT-Filipino\\fastai\\model.py:62: UserWarning: torch.nn.utils.clip_grad_norm is now deprecated in favor of torch.nn.utils.clip_grad_norm_.\n",
      "  if IS_TORCH_04: nn.utils.clip_grad_norm(trainable_params_(self.m), self.clip)\n"
     ]
    },
    {
     "name": "stdout",
     "output_type": "stream",
     "text": [
      "\r",
      " 53%|███████████████████████████████████▊                                | 887/1683 [05:41<05:04,  2.61it/s, loss=6.48]"
     ]
    },
    {
     "name": "stderr",
     "output_type": "stream",
     "text": [
      "C:\\Users\\PC\\Projects\\fastai\\courses\\dl1\\ULMFiT-Filipino\\fastai\\model.py:62: UserWarning: torch.nn.utils.clip_grad_norm is now deprecated in favor of torch.nn.utils.clip_grad_norm_.\n",
      "  if IS_TORCH_04: nn.utils.clip_grad_norm(trainable_params_(self.m), self.clip)\n"
     ]
    },
    {
     "name": "stdout",
     "output_type": "stream",
     "text": [
      "\r",
      " 53%|███████████████████████████████████▉                                | 888/1683 [05:41<05:05,  2.60it/s, loss=6.48]"
     ]
    },
    {
     "name": "stderr",
     "output_type": "stream",
     "text": [
      "C:\\Users\\PC\\Projects\\fastai\\courses\\dl1\\ULMFiT-Filipino\\fastai\\model.py:62: UserWarning: torch.nn.utils.clip_grad_norm is now deprecated in favor of torch.nn.utils.clip_grad_norm_.\n",
      "  if IS_TORCH_04: nn.utils.clip_grad_norm(trainable_params_(self.m), self.clip)\n"
     ]
    },
    {
     "name": "stdout",
     "output_type": "stream",
     "text": [
      "\r",
      " 53%|███████████████████████████████████▉                                | 889/1683 [05:42<05:13,  2.54it/s, loss=6.48]"
     ]
    },
    {
     "name": "stderr",
     "output_type": "stream",
     "text": [
      "C:\\Users\\PC\\Projects\\fastai\\courses\\dl1\\ULMFiT-Filipino\\fastai\\model.py:62: UserWarning: torch.nn.utils.clip_grad_norm is now deprecated in favor of torch.nn.utils.clip_grad_norm_.\n",
      "  if IS_TORCH_04: nn.utils.clip_grad_norm(trainable_params_(self.m), self.clip)\n"
     ]
    },
    {
     "name": "stdout",
     "output_type": "stream",
     "text": [
      "\r",
      " 53%|███████████████████████████████████▉                                | 890/1683 [05:42<05:15,  2.51it/s, loss=6.48]"
     ]
    },
    {
     "name": "stderr",
     "output_type": "stream",
     "text": [
      "C:\\Users\\PC\\Projects\\fastai\\courses\\dl1\\ULMFiT-Filipino\\fastai\\model.py:62: UserWarning: torch.nn.utils.clip_grad_norm is now deprecated in favor of torch.nn.utils.clip_grad_norm_.\n",
      "  if IS_TORCH_04: nn.utils.clip_grad_norm(trainable_params_(self.m), self.clip)\n"
     ]
    },
    {
     "name": "stdout",
     "output_type": "stream",
     "text": [
      "\r",
      " 53%|████████████████████████████████████                                | 891/1683 [05:43<05:10,  2.55it/s, loss=6.48]"
     ]
    },
    {
     "name": "stderr",
     "output_type": "stream",
     "text": [
      "C:\\Users\\PC\\Projects\\fastai\\courses\\dl1\\ULMFiT-Filipino\\fastai\\model.py:62: UserWarning: torch.nn.utils.clip_grad_norm is now deprecated in favor of torch.nn.utils.clip_grad_norm_.\n",
      "  if IS_TORCH_04: nn.utils.clip_grad_norm(trainable_params_(self.m), self.clip)\n"
     ]
    },
    {
     "name": "stdout",
     "output_type": "stream",
     "text": [
      "\r",
      " 53%|████████████████████████████████████                                | 892/1683 [05:43<05:01,  2.62it/s, loss=6.49]"
     ]
    },
    {
     "name": "stderr",
     "output_type": "stream",
     "text": [
      "C:\\Users\\PC\\Projects\\fastai\\courses\\dl1\\ULMFiT-Filipino\\fastai\\model.py:62: UserWarning: torch.nn.utils.clip_grad_norm is now deprecated in favor of torch.nn.utils.clip_grad_norm_.\n",
      "  if IS_TORCH_04: nn.utils.clip_grad_norm(trainable_params_(self.m), self.clip)\n"
     ]
    },
    {
     "name": "stdout",
     "output_type": "stream",
     "text": [
      "\r",
      " 53%|████████████████████████████████████                                | 893/1683 [05:43<05:08,  2.56it/s, loss=6.49]"
     ]
    },
    {
     "name": "stderr",
     "output_type": "stream",
     "text": [
      "C:\\Users\\PC\\Projects\\fastai\\courses\\dl1\\ULMFiT-Filipino\\fastai\\model.py:62: UserWarning: torch.nn.utils.clip_grad_norm is now deprecated in favor of torch.nn.utils.clip_grad_norm_.\n",
      "  if IS_TORCH_04: nn.utils.clip_grad_norm(trainable_params_(self.m), self.clip)\n"
     ]
    },
    {
     "name": "stdout",
     "output_type": "stream",
     "text": [
      "\r",
      " 53%|████████████████████████████████████                                | 894/1683 [05:44<05:04,  2.59it/s, loss=6.49]"
     ]
    },
    {
     "name": "stderr",
     "output_type": "stream",
     "text": [
      "C:\\Users\\PC\\Projects\\fastai\\courses\\dl1\\ULMFiT-Filipino\\fastai\\model.py:62: UserWarning: torch.nn.utils.clip_grad_norm is now deprecated in favor of torch.nn.utils.clip_grad_norm_.\n",
      "  if IS_TORCH_04: nn.utils.clip_grad_norm(trainable_params_(self.m), self.clip)\n"
     ]
    },
    {
     "name": "stdout",
     "output_type": "stream",
     "text": [
      "\r",
      " 53%|████████████████████████████████████▏                               | 895/1683 [05:44<05:06,  2.57it/s, loss=6.49]"
     ]
    },
    {
     "name": "stderr",
     "output_type": "stream",
     "text": [
      "C:\\Users\\PC\\Projects\\fastai\\courses\\dl1\\ULMFiT-Filipino\\fastai\\model.py:62: UserWarning: torch.nn.utils.clip_grad_norm is now deprecated in favor of torch.nn.utils.clip_grad_norm_.\n",
      "  if IS_TORCH_04: nn.utils.clip_grad_norm(trainable_params_(self.m), self.clip)\n"
     ]
    },
    {
     "name": "stdout",
     "output_type": "stream",
     "text": [
      "\r",
      " 53%|████████████████████████████████████▏                               | 896/1683 [05:45<05:14,  2.50it/s, loss=6.49]"
     ]
    },
    {
     "name": "stderr",
     "output_type": "stream",
     "text": [
      "C:\\Users\\PC\\Projects\\fastai\\courses\\dl1\\ULMFiT-Filipino\\fastai\\model.py:62: UserWarning: torch.nn.utils.clip_grad_norm is now deprecated in favor of torch.nn.utils.clip_grad_norm_.\n",
      "  if IS_TORCH_04: nn.utils.clip_grad_norm(trainable_params_(self.m), self.clip)\n"
     ]
    },
    {
     "name": "stdout",
     "output_type": "stream",
     "text": [
      "\r",
      " 53%|████████████████████████████████████▏                               | 897/1683 [05:45<04:49,  2.71it/s, loss=6.49]"
     ]
    },
    {
     "name": "stderr",
     "output_type": "stream",
     "text": [
      "C:\\Users\\PC\\Projects\\fastai\\courses\\dl1\\ULMFiT-Filipino\\fastai\\model.py:62: UserWarning: torch.nn.utils.clip_grad_norm is now deprecated in favor of torch.nn.utils.clip_grad_norm_.\n",
      "  if IS_TORCH_04: nn.utils.clip_grad_norm(trainable_params_(self.m), self.clip)\n"
     ]
    },
    {
     "name": "stdout",
     "output_type": "stream",
     "text": [
      "\r",
      " 53%|████████████████████████████████████▎                               | 898/1683 [05:45<04:55,  2.66it/s, loss=6.49]"
     ]
    },
    {
     "name": "stderr",
     "output_type": "stream",
     "text": [
      "C:\\Users\\PC\\Projects\\fastai\\courses\\dl1\\ULMFiT-Filipino\\fastai\\model.py:62: UserWarning: torch.nn.utils.clip_grad_norm is now deprecated in favor of torch.nn.utils.clip_grad_norm_.\n",
      "  if IS_TORCH_04: nn.utils.clip_grad_norm(trainable_params_(self.m), self.clip)\n"
     ]
    },
    {
     "name": "stdout",
     "output_type": "stream",
     "text": [
      "\r",
      " 53%|████████████████████████████████████▎                               | 899/1683 [05:46<05:01,  2.60it/s, loss=6.49]"
     ]
    },
    {
     "name": "stderr",
     "output_type": "stream",
     "text": [
      "C:\\Users\\PC\\Projects\\fastai\\courses\\dl1\\ULMFiT-Filipino\\fastai\\model.py:62: UserWarning: torch.nn.utils.clip_grad_norm is now deprecated in favor of torch.nn.utils.clip_grad_norm_.\n",
      "  if IS_TORCH_04: nn.utils.clip_grad_norm(trainable_params_(self.m), self.clip)\n"
     ]
    },
    {
     "name": "stdout",
     "output_type": "stream",
     "text": [
      "\r",
      " 53%|████████████████████████████████████▎                               | 900/1683 [05:46<04:52,  2.67it/s, loss=6.49]"
     ]
    },
    {
     "name": "stderr",
     "output_type": "stream",
     "text": [
      "C:\\Users\\PC\\Projects\\fastai\\courses\\dl1\\ULMFiT-Filipino\\fastai\\model.py:62: UserWarning: torch.nn.utils.clip_grad_norm is now deprecated in favor of torch.nn.utils.clip_grad_norm_.\n",
      "  if IS_TORCH_04: nn.utils.clip_grad_norm(trainable_params_(self.m), self.clip)\n"
     ]
    },
    {
     "name": "stdout",
     "output_type": "stream",
     "text": [
      "\r",
      " 54%|████████████████████████████████████▍                               | 901/1683 [05:46<05:00,  2.60it/s, loss=6.49]"
     ]
    },
    {
     "name": "stderr",
     "output_type": "stream",
     "text": [
      "C:\\Users\\PC\\Projects\\fastai\\courses\\dl1\\ULMFiT-Filipino\\fastai\\model.py:62: UserWarning: torch.nn.utils.clip_grad_norm is now deprecated in favor of torch.nn.utils.clip_grad_norm_.\n",
      "  if IS_TORCH_04: nn.utils.clip_grad_norm(trainable_params_(self.m), self.clip)\n"
     ]
    },
    {
     "name": "stdout",
     "output_type": "stream",
     "text": [
      "\r",
      " 54%|████████████████████████████████████▍                               | 902/1683 [05:47<05:03,  2.57it/s, loss=6.48]"
     ]
    },
    {
     "name": "stderr",
     "output_type": "stream",
     "text": [
      "C:\\Users\\PC\\Projects\\fastai\\courses\\dl1\\ULMFiT-Filipino\\fastai\\model.py:62: UserWarning: torch.nn.utils.clip_grad_norm is now deprecated in favor of torch.nn.utils.clip_grad_norm_.\n",
      "  if IS_TORCH_04: nn.utils.clip_grad_norm(trainable_params_(self.m), self.clip)\n"
     ]
    },
    {
     "name": "stdout",
     "output_type": "stream",
     "text": [
      "\r",
      " 54%|████████████████████████████████████▍                               | 903/1683 [05:47<05:06,  2.55it/s, loss=6.48]"
     ]
    },
    {
     "name": "stderr",
     "output_type": "stream",
     "text": [
      "C:\\Users\\PC\\Projects\\fastai\\courses\\dl1\\ULMFiT-Filipino\\fastai\\model.py:62: UserWarning: torch.nn.utils.clip_grad_norm is now deprecated in favor of torch.nn.utils.clip_grad_norm_.\n",
      "  if IS_TORCH_04: nn.utils.clip_grad_norm(trainable_params_(self.m), self.clip)\n"
     ]
    },
    {
     "name": "stdout",
     "output_type": "stream",
     "text": [
      "\r",
      " 54%|████████████████████████████████████▌                               | 904/1683 [05:48<05:15,  2.47it/s, loss=6.48]"
     ]
    },
    {
     "name": "stderr",
     "output_type": "stream",
     "text": [
      "C:\\Users\\PC\\Projects\\fastai\\courses\\dl1\\ULMFiT-Filipino\\fastai\\model.py:62: UserWarning: torch.nn.utils.clip_grad_norm is now deprecated in favor of torch.nn.utils.clip_grad_norm_.\n",
      "  if IS_TORCH_04: nn.utils.clip_grad_norm(trainable_params_(self.m), self.clip)\n"
     ]
    },
    {
     "name": "stdout",
     "output_type": "stream",
     "text": [
      "\r",
      " 54%|████████████████████████████████████▌                               | 905/1683 [05:48<05:13,  2.48it/s, loss=6.48]"
     ]
    },
    {
     "name": "stderr",
     "output_type": "stream",
     "text": [
      "C:\\Users\\PC\\Projects\\fastai\\courses\\dl1\\ULMFiT-Filipino\\fastai\\model.py:62: UserWarning: torch.nn.utils.clip_grad_norm is now deprecated in favor of torch.nn.utils.clip_grad_norm_.\n",
      "  if IS_TORCH_04: nn.utils.clip_grad_norm(trainable_params_(self.m), self.clip)\n"
     ]
    },
    {
     "name": "stdout",
     "output_type": "stream",
     "text": [
      "\r",
      " 54%|████████████████████████████████████▌                               | 906/1683 [05:49<05:16,  2.46it/s, loss=6.48]"
     ]
    },
    {
     "name": "stderr",
     "output_type": "stream",
     "text": [
      "C:\\Users\\PC\\Projects\\fastai\\courses\\dl1\\ULMFiT-Filipino\\fastai\\model.py:62: UserWarning: torch.nn.utils.clip_grad_norm is now deprecated in favor of torch.nn.utils.clip_grad_norm_.\n",
      "  if IS_TORCH_04: nn.utils.clip_grad_norm(trainable_params_(self.m), self.clip)\n"
     ]
    },
    {
     "name": "stdout",
     "output_type": "stream",
     "text": [
      "\r",
      " 54%|████████████████████████████████████▋                               | 907/1683 [05:49<05:15,  2.46it/s, loss=6.48]"
     ]
    },
    {
     "name": "stderr",
     "output_type": "stream",
     "text": [
      "C:\\Users\\PC\\Projects\\fastai\\courses\\dl1\\ULMFiT-Filipino\\fastai\\model.py:62: UserWarning: torch.nn.utils.clip_grad_norm is now deprecated in favor of torch.nn.utils.clip_grad_norm_.\n",
      "  if IS_TORCH_04: nn.utils.clip_grad_norm(trainable_params_(self.m), self.clip)\n"
     ]
    },
    {
     "name": "stdout",
     "output_type": "stream",
     "text": [
      "\r",
      " 54%|████████████████████████████████████▋                               | 908/1683 [05:49<05:15,  2.45it/s, loss=6.49]"
     ]
    },
    {
     "name": "stderr",
     "output_type": "stream",
     "text": [
      "C:\\Users\\PC\\Projects\\fastai\\courses\\dl1\\ULMFiT-Filipino\\fastai\\model.py:62: UserWarning: torch.nn.utils.clip_grad_norm is now deprecated in favor of torch.nn.utils.clip_grad_norm_.\n",
      "  if IS_TORCH_04: nn.utils.clip_grad_norm(trainable_params_(self.m), self.clip)\n"
     ]
    },
    {
     "name": "stdout",
     "output_type": "stream",
     "text": [
      "\r",
      " 54%|████████████████████████████████████▋                               | 909/1683 [05:50<05:10,  2.49it/s, loss=6.49]"
     ]
    },
    {
     "name": "stderr",
     "output_type": "stream",
     "text": [
      "C:\\Users\\PC\\Projects\\fastai\\courses\\dl1\\ULMFiT-Filipino\\fastai\\model.py:62: UserWarning: torch.nn.utils.clip_grad_norm is now deprecated in favor of torch.nn.utils.clip_grad_norm_.\n",
      "  if IS_TORCH_04: nn.utils.clip_grad_norm(trainable_params_(self.m), self.clip)\n"
     ]
    },
    {
     "name": "stdout",
     "output_type": "stream",
     "text": [
      "\r",
      " 54%|████████████████████████████████████▊                               | 910/1683 [05:50<05:10,  2.49it/s, loss=6.49]"
     ]
    },
    {
     "name": "stderr",
     "output_type": "stream",
     "text": [
      "C:\\Users\\PC\\Projects\\fastai\\courses\\dl1\\ULMFiT-Filipino\\fastai\\model.py:62: UserWarning: torch.nn.utils.clip_grad_norm is now deprecated in favor of torch.nn.utils.clip_grad_norm_.\n",
      "  if IS_TORCH_04: nn.utils.clip_grad_norm(trainable_params_(self.m), self.clip)\n"
     ]
    },
    {
     "name": "stdout",
     "output_type": "stream",
     "text": [
      "\r",
      " 54%|████████████████████████████████████▊                               | 911/1683 [05:51<05:09,  2.50it/s, loss=6.49]"
     ]
    },
    {
     "name": "stderr",
     "output_type": "stream",
     "text": [
      "C:\\Users\\PC\\Projects\\fastai\\courses\\dl1\\ULMFiT-Filipino\\fastai\\model.py:62: UserWarning: torch.nn.utils.clip_grad_norm is now deprecated in favor of torch.nn.utils.clip_grad_norm_.\n",
      "  if IS_TORCH_04: nn.utils.clip_grad_norm(trainable_params_(self.m), self.clip)\n"
     ]
    },
    {
     "name": "stdout",
     "output_type": "stream",
     "text": [
      "\r",
      " 54%|████████████████████████████████████▊                               | 912/1683 [05:51<05:05,  2.53it/s, loss=6.49]"
     ]
    },
    {
     "name": "stderr",
     "output_type": "stream",
     "text": [
      "C:\\Users\\PC\\Projects\\fastai\\courses\\dl1\\ULMFiT-Filipino\\fastai\\model.py:62: UserWarning: torch.nn.utils.clip_grad_norm is now deprecated in favor of torch.nn.utils.clip_grad_norm_.\n",
      "  if IS_TORCH_04: nn.utils.clip_grad_norm(trainable_params_(self.m), self.clip)\n"
     ]
    },
    {
     "name": "stdout",
     "output_type": "stream",
     "text": [
      "\r",
      " 54%|█████████████████████████████████████▍                               | 913/1683 [05:51<05:01,  2.56it/s, loss=6.5]"
     ]
    },
    {
     "name": "stderr",
     "output_type": "stream",
     "text": [
      "C:\\Users\\PC\\Projects\\fastai\\courses\\dl1\\ULMFiT-Filipino\\fastai\\model.py:62: UserWarning: torch.nn.utils.clip_grad_norm is now deprecated in favor of torch.nn.utils.clip_grad_norm_.\n",
      "  if IS_TORCH_04: nn.utils.clip_grad_norm(trainable_params_(self.m), self.clip)\n"
     ]
    },
    {
     "name": "stdout",
     "output_type": "stream",
     "text": [
      "\r",
      " 54%|████████████████████████████████████▉                               | 914/1683 [05:52<04:54,  2.61it/s, loss=6.51]"
     ]
    },
    {
     "name": "stderr",
     "output_type": "stream",
     "text": [
      "C:\\Users\\PC\\Projects\\fastai\\courses\\dl1\\ULMFiT-Filipino\\fastai\\model.py:62: UserWarning: torch.nn.utils.clip_grad_norm is now deprecated in favor of torch.nn.utils.clip_grad_norm_.\n",
      "  if IS_TORCH_04: nn.utils.clip_grad_norm(trainable_params_(self.m), self.clip)\n"
     ]
    },
    {
     "name": "stdout",
     "output_type": "stream",
     "text": [
      "\r",
      " 54%|████████████████████████████████████▉                               | 915/1683 [05:52<04:57,  2.58it/s, loss=6.51]"
     ]
    },
    {
     "name": "stderr",
     "output_type": "stream",
     "text": [
      "C:\\Users\\PC\\Projects\\fastai\\courses\\dl1\\ULMFiT-Filipino\\fastai\\model.py:62: UserWarning: torch.nn.utils.clip_grad_norm is now deprecated in favor of torch.nn.utils.clip_grad_norm_.\n",
      "  if IS_TORCH_04: nn.utils.clip_grad_norm(trainable_params_(self.m), self.clip)\n"
     ]
    },
    {
     "name": "stdout",
     "output_type": "stream",
     "text": [
      "\r",
      " 54%|█████████████████████████████████████                               | 916/1683 [05:52<04:24,  2.90it/s, loss=6.52]"
     ]
    },
    {
     "name": "stderr",
     "output_type": "stream",
     "text": [
      "C:\\Users\\PC\\Projects\\fastai\\courses\\dl1\\ULMFiT-Filipino\\fastai\\model.py:62: UserWarning: torch.nn.utils.clip_grad_norm is now deprecated in favor of torch.nn.utils.clip_grad_norm_.\n",
      "  if IS_TORCH_04: nn.utils.clip_grad_norm(trainable_params_(self.m), self.clip)\n"
     ]
    },
    {
     "name": "stdout",
     "output_type": "stream",
     "text": [
      "\r",
      " 54%|█████████████████████████████████████                               | 917/1683 [05:53<04:30,  2.83it/s, loss=6.52]"
     ]
    },
    {
     "name": "stderr",
     "output_type": "stream",
     "text": [
      "C:\\Users\\PC\\Projects\\fastai\\courses\\dl1\\ULMFiT-Filipino\\fastai\\model.py:62: UserWarning: torch.nn.utils.clip_grad_norm is now deprecated in favor of torch.nn.utils.clip_grad_norm_.\n",
      "  if IS_TORCH_04: nn.utils.clip_grad_norm(trainable_params_(self.m), self.clip)\n"
     ]
    },
    {
     "name": "stdout",
     "output_type": "stream",
     "text": [
      "\r",
      " 55%|█████████████████████████████████████                               | 918/1683 [05:53<04:44,  2.69it/s, loss=6.52]"
     ]
    },
    {
     "name": "stderr",
     "output_type": "stream",
     "text": [
      "C:\\Users\\PC\\Projects\\fastai\\courses\\dl1\\ULMFiT-Filipino\\fastai\\model.py:62: UserWarning: torch.nn.utils.clip_grad_norm is now deprecated in favor of torch.nn.utils.clip_grad_norm_.\n",
      "  if IS_TORCH_04: nn.utils.clip_grad_norm(trainable_params_(self.m), self.clip)\n"
     ]
    },
    {
     "name": "stdout",
     "output_type": "stream",
     "text": [
      "\r",
      " 55%|█████████████████████████████████████▏                              | 919/1683 [05:53<04:41,  2.71it/s, loss=6.52]"
     ]
    },
    {
     "name": "stderr",
     "output_type": "stream",
     "text": [
      "C:\\Users\\PC\\Projects\\fastai\\courses\\dl1\\ULMFiT-Filipino\\fastai\\model.py:62: UserWarning: torch.nn.utils.clip_grad_norm is now deprecated in favor of torch.nn.utils.clip_grad_norm_.\n",
      "  if IS_TORCH_04: nn.utils.clip_grad_norm(trainable_params_(self.m), self.clip)\n"
     ]
    },
    {
     "name": "stdout",
     "output_type": "stream",
     "text": [
      "\r",
      " 55%|█████████████████████████████████████▏                              | 920/1683 [05:54<04:49,  2.64it/s, loss=6.52]"
     ]
    },
    {
     "name": "stderr",
     "output_type": "stream",
     "text": [
      "C:\\Users\\PC\\Projects\\fastai\\courses\\dl1\\ULMFiT-Filipino\\fastai\\model.py:62: UserWarning: torch.nn.utils.clip_grad_norm is now deprecated in favor of torch.nn.utils.clip_grad_norm_.\n",
      "  if IS_TORCH_04: nn.utils.clip_grad_norm(trainable_params_(self.m), self.clip)\n"
     ]
    },
    {
     "name": "stdout",
     "output_type": "stream",
     "text": [
      "\r",
      " 55%|█████████████████████████████████████▏                              | 921/1683 [05:54<04:49,  2.63it/s, loss=6.52]"
     ]
    },
    {
     "name": "stderr",
     "output_type": "stream",
     "text": [
      "C:\\Users\\PC\\Projects\\fastai\\courses\\dl1\\ULMFiT-Filipino\\fastai\\model.py:62: UserWarning: torch.nn.utils.clip_grad_norm is now deprecated in favor of torch.nn.utils.clip_grad_norm_.\n",
      "  if IS_TORCH_04: nn.utils.clip_grad_norm(trainable_params_(self.m), self.clip)\n"
     ]
    },
    {
     "name": "stdout",
     "output_type": "stream",
     "text": [
      "\r",
      " 55%|█████████████████████████████████████▎                              | 922/1683 [05:55<04:57,  2.56it/s, loss=6.52]"
     ]
    },
    {
     "name": "stderr",
     "output_type": "stream",
     "text": [
      "C:\\Users\\PC\\Projects\\fastai\\courses\\dl1\\ULMFiT-Filipino\\fastai\\model.py:62: UserWarning: torch.nn.utils.clip_grad_norm is now deprecated in favor of torch.nn.utils.clip_grad_norm_.\n",
      "  if IS_TORCH_04: nn.utils.clip_grad_norm(trainable_params_(self.m), self.clip)\n"
     ]
    },
    {
     "name": "stdout",
     "output_type": "stream",
     "text": [
      "\r",
      " 55%|█████████████████████████████████████▎                              | 923/1683 [05:55<04:53,  2.59it/s, loss=6.52]"
     ]
    },
    {
     "name": "stderr",
     "output_type": "stream",
     "text": [
      "C:\\Users\\PC\\Projects\\fastai\\courses\\dl1\\ULMFiT-Filipino\\fastai\\model.py:62: UserWarning: torch.nn.utils.clip_grad_norm is now deprecated in favor of torch.nn.utils.clip_grad_norm_.\n",
      "  if IS_TORCH_04: nn.utils.clip_grad_norm(trainable_params_(self.m), self.clip)\n"
     ]
    },
    {
     "name": "stdout",
     "output_type": "stream",
     "text": [
      "\r",
      " 55%|█████████████████████████████████████▎                              | 924/1683 [05:55<04:56,  2.56it/s, loss=6.52]"
     ]
    },
    {
     "name": "stderr",
     "output_type": "stream",
     "text": [
      "C:\\Users\\PC\\Projects\\fastai\\courses\\dl1\\ULMFiT-Filipino\\fastai\\model.py:62: UserWarning: torch.nn.utils.clip_grad_norm is now deprecated in favor of torch.nn.utils.clip_grad_norm_.\n",
      "  if IS_TORCH_04: nn.utils.clip_grad_norm(trainable_params_(self.m), self.clip)\n"
     ]
    },
    {
     "name": "stdout",
     "output_type": "stream",
     "text": [
      "\r",
      " 55%|█████████████████████████████████████▎                              | 925/1683 [05:56<04:56,  2.56it/s, loss=6.53]"
     ]
    },
    {
     "name": "stderr",
     "output_type": "stream",
     "text": [
      "C:\\Users\\PC\\Projects\\fastai\\courses\\dl1\\ULMFiT-Filipino\\fastai\\model.py:62: UserWarning: torch.nn.utils.clip_grad_norm is now deprecated in favor of torch.nn.utils.clip_grad_norm_.\n",
      "  if IS_TORCH_04: nn.utils.clip_grad_norm(trainable_params_(self.m), self.clip)\n"
     ]
    },
    {
     "name": "stdout",
     "output_type": "stream",
     "text": [
      "\r",
      " 55%|█████████████████████████████████████▍                              | 926/1683 [05:56<04:25,  2.85it/s, loss=6.53]"
     ]
    },
    {
     "name": "stderr",
     "output_type": "stream",
     "text": [
      "C:\\Users\\PC\\Projects\\fastai\\courses\\dl1\\ULMFiT-Filipino\\fastai\\model.py:62: UserWarning: torch.nn.utils.clip_grad_norm is now deprecated in favor of torch.nn.utils.clip_grad_norm_.\n",
      "  if IS_TORCH_04: nn.utils.clip_grad_norm(trainable_params_(self.m), self.clip)\n"
     ]
    },
    {
     "name": "stdout",
     "output_type": "stream",
     "text": [
      "\r",
      " 55%|█████████████████████████████████████▍                              | 927/1683 [05:56<04:43,  2.66it/s, loss=6.53]"
     ]
    },
    {
     "name": "stderr",
     "output_type": "stream",
     "text": [
      "C:\\Users\\PC\\Projects\\fastai\\courses\\dl1\\ULMFiT-Filipino\\fastai\\model.py:62: UserWarning: torch.nn.utils.clip_grad_norm is now deprecated in favor of torch.nn.utils.clip_grad_norm_.\n",
      "  if IS_TORCH_04: nn.utils.clip_grad_norm(trainable_params_(self.m), self.clip)\n"
     ]
    },
    {
     "name": "stdout",
     "output_type": "stream",
     "text": [
      "\r",
      " 55%|█████████████████████████████████████▍                              | 928/1683 [05:57<04:27,  2.82it/s, loss=6.53]"
     ]
    },
    {
     "name": "stderr",
     "output_type": "stream",
     "text": [
      "C:\\Users\\PC\\Projects\\fastai\\courses\\dl1\\ULMFiT-Filipino\\fastai\\model.py:62: UserWarning: torch.nn.utils.clip_grad_norm is now deprecated in favor of torch.nn.utils.clip_grad_norm_.\n",
      "  if IS_TORCH_04: nn.utils.clip_grad_norm(trainable_params_(self.m), self.clip)\n"
     ]
    },
    {
     "name": "stdout",
     "output_type": "stream",
     "text": [
      "\r",
      " 55%|█████████████████████████████████████▌                              | 929/1683 [05:57<04:29,  2.80it/s, loss=6.53]"
     ]
    },
    {
     "name": "stderr",
     "output_type": "stream",
     "text": [
      "C:\\Users\\PC\\Projects\\fastai\\courses\\dl1\\ULMFiT-Filipino\\fastai\\model.py:62: UserWarning: torch.nn.utils.clip_grad_norm is now deprecated in favor of torch.nn.utils.clip_grad_norm_.\n",
      "  if IS_TORCH_04: nn.utils.clip_grad_norm(trainable_params_(self.m), self.clip)\n"
     ]
    },
    {
     "name": "stdout",
     "output_type": "stream",
     "text": [
      "\r",
      " 55%|█████████████████████████████████████▌                              | 930/1683 [05:57<04:05,  3.06it/s, loss=6.53]"
     ]
    },
    {
     "name": "stderr",
     "output_type": "stream",
     "text": [
      "C:\\Users\\PC\\Projects\\fastai\\courses\\dl1\\ULMFiT-Filipino\\fastai\\model.py:62: UserWarning: torch.nn.utils.clip_grad_norm is now deprecated in favor of torch.nn.utils.clip_grad_norm_.\n",
      "  if IS_TORCH_04: nn.utils.clip_grad_norm(trainable_params_(self.m), self.clip)\n"
     ]
    },
    {
     "name": "stdout",
     "output_type": "stream",
     "text": [
      "\r",
      " 55%|█████████████████████████████████████▌                              | 931/1683 [05:58<03:47,  3.31it/s, loss=6.53]"
     ]
    },
    {
     "name": "stderr",
     "output_type": "stream",
     "text": [
      "C:\\Users\\PC\\Projects\\fastai\\courses\\dl1\\ULMFiT-Filipino\\fastai\\model.py:62: UserWarning: torch.nn.utils.clip_grad_norm is now deprecated in favor of torch.nn.utils.clip_grad_norm_.\n",
      "  if IS_TORCH_04: nn.utils.clip_grad_norm(trainable_params_(self.m), self.clip)\n"
     ]
    },
    {
     "name": "stdout",
     "output_type": "stream",
     "text": [
      "\r",
      " 55%|█████████████████████████████████████▋                              | 932/1683 [05:58<04:09,  3.01it/s, loss=6.53]"
     ]
    },
    {
     "name": "stderr",
     "output_type": "stream",
     "text": [
      "C:\\Users\\PC\\Projects\\fastai\\courses\\dl1\\ULMFiT-Filipino\\fastai\\model.py:62: UserWarning: torch.nn.utils.clip_grad_norm is now deprecated in favor of torch.nn.utils.clip_grad_norm_.\n",
      "  if IS_TORCH_04: nn.utils.clip_grad_norm(trainable_params_(self.m), self.clip)\n"
     ]
    },
    {
     "name": "stdout",
     "output_type": "stream",
     "text": [
      "\r",
      " 55%|█████████████████████████████████████▋                              | 933/1683 [05:58<04:22,  2.86it/s, loss=6.53]"
     ]
    },
    {
     "name": "stderr",
     "output_type": "stream",
     "text": [
      "C:\\Users\\PC\\Projects\\fastai\\courses\\dl1\\ULMFiT-Filipino\\fastai\\model.py:62: UserWarning: torch.nn.utils.clip_grad_norm is now deprecated in favor of torch.nn.utils.clip_grad_norm_.\n",
      "  if IS_TORCH_04: nn.utils.clip_grad_norm(trainable_params_(self.m), self.clip)\n"
     ]
    },
    {
     "name": "stdout",
     "output_type": "stream",
     "text": [
      "\r",
      " 55%|█████████████████████████████████████▋                              | 934/1683 [05:59<04:31,  2.76it/s, loss=6.53]"
     ]
    },
    {
     "name": "stderr",
     "output_type": "stream",
     "text": [
      "C:\\Users\\PC\\Projects\\fastai\\courses\\dl1\\ULMFiT-Filipino\\fastai\\model.py:62: UserWarning: torch.nn.utils.clip_grad_norm is now deprecated in favor of torch.nn.utils.clip_grad_norm_.\n",
      "  if IS_TORCH_04: nn.utils.clip_grad_norm(trainable_params_(self.m), self.clip)\n"
     ]
    },
    {
     "name": "stdout",
     "output_type": "stream",
     "text": [
      "\r",
      " 56%|█████████████████████████████████████▊                              | 935/1683 [05:59<04:34,  2.73it/s, loss=6.53]"
     ]
    },
    {
     "name": "stderr",
     "output_type": "stream",
     "text": [
      "C:\\Users\\PC\\Projects\\fastai\\courses\\dl1\\ULMFiT-Filipino\\fastai\\model.py:62: UserWarning: torch.nn.utils.clip_grad_norm is now deprecated in favor of torch.nn.utils.clip_grad_norm_.\n",
      "  if IS_TORCH_04: nn.utils.clip_grad_norm(trainable_params_(self.m), self.clip)\n"
     ]
    },
    {
     "name": "stdout",
     "output_type": "stream",
     "text": [
      "\r",
      " 56%|█████████████████████████████████████▊                              | 936/1683 [06:00<04:14,  2.93it/s, loss=6.53]"
     ]
    },
    {
     "name": "stderr",
     "output_type": "stream",
     "text": [
      "C:\\Users\\PC\\Projects\\fastai\\courses\\dl1\\ULMFiT-Filipino\\fastai\\model.py:62: UserWarning: torch.nn.utils.clip_grad_norm is now deprecated in favor of torch.nn.utils.clip_grad_norm_.\n",
      "  if IS_TORCH_04: nn.utils.clip_grad_norm(trainable_params_(self.m), self.clip)\n"
     ]
    },
    {
     "name": "stdout",
     "output_type": "stream",
     "text": [
      "\r",
      " 56%|█████████████████████████████████████▊                              | 937/1683 [06:00<03:57,  3.14it/s, loss=6.53]"
     ]
    },
    {
     "name": "stderr",
     "output_type": "stream",
     "text": [
      "C:\\Users\\PC\\Projects\\fastai\\courses\\dl1\\ULMFiT-Filipino\\fastai\\model.py:62: UserWarning: torch.nn.utils.clip_grad_norm is now deprecated in favor of torch.nn.utils.clip_grad_norm_.\n",
      "  if IS_TORCH_04: nn.utils.clip_grad_norm(trainable_params_(self.m), self.clip)\n"
     ]
    },
    {
     "name": "stdout",
     "output_type": "stream",
     "text": [
      "\r",
      " 56%|█████████████████████████████████████▉                              | 938/1683 [06:00<04:17,  2.90it/s, loss=6.53]"
     ]
    },
    {
     "name": "stderr",
     "output_type": "stream",
     "text": [
      "C:\\Users\\PC\\Projects\\fastai\\courses\\dl1\\ULMFiT-Filipino\\fastai\\model.py:62: UserWarning: torch.nn.utils.clip_grad_norm is now deprecated in favor of torch.nn.utils.clip_grad_norm_.\n",
      "  if IS_TORCH_04: nn.utils.clip_grad_norm(trainable_params_(self.m), self.clip)\n"
     ]
    },
    {
     "name": "stdout",
     "output_type": "stream",
     "text": [
      "\r",
      " 56%|█████████████████████████████████████▉                              | 939/1683 [06:01<04:28,  2.77it/s, loss=6.53]"
     ]
    },
    {
     "name": "stderr",
     "output_type": "stream",
     "text": [
      "C:\\Users\\PC\\Projects\\fastai\\courses\\dl1\\ULMFiT-Filipino\\fastai\\model.py:62: UserWarning: torch.nn.utils.clip_grad_norm is now deprecated in favor of torch.nn.utils.clip_grad_norm_.\n",
      "  if IS_TORCH_04: nn.utils.clip_grad_norm(trainable_params_(self.m), self.clip)\n"
     ]
    },
    {
     "name": "stdout",
     "output_type": "stream",
     "text": [
      "\r",
      " 56%|█████████████████████████████████████▉                              | 940/1683 [06:01<04:34,  2.70it/s, loss=6.53]"
     ]
    },
    {
     "name": "stderr",
     "output_type": "stream",
     "text": [
      "C:\\Users\\PC\\Projects\\fastai\\courses\\dl1\\ULMFiT-Filipino\\fastai\\model.py:62: UserWarning: torch.nn.utils.clip_grad_norm is now deprecated in favor of torch.nn.utils.clip_grad_norm_.\n",
      "  if IS_TORCH_04: nn.utils.clip_grad_norm(trainable_params_(self.m), self.clip)\n"
     ]
    },
    {
     "name": "stdout",
     "output_type": "stream",
     "text": [
      "\r",
      " 56%|██████████████████████████████████████                              | 941/1683 [06:01<04:38,  2.67it/s, loss=6.53]"
     ]
    },
    {
     "name": "stderr",
     "output_type": "stream",
     "text": [
      "C:\\Users\\PC\\Projects\\fastai\\courses\\dl1\\ULMFiT-Filipino\\fastai\\model.py:62: UserWarning: torch.nn.utils.clip_grad_norm is now deprecated in favor of torch.nn.utils.clip_grad_norm_.\n",
      "  if IS_TORCH_04: nn.utils.clip_grad_norm(trainable_params_(self.m), self.clip)\n"
     ]
    },
    {
     "name": "stdout",
     "output_type": "stream",
     "text": [
      "\r",
      " 56%|██████████████████████████████████████                              | 942/1683 [06:02<04:30,  2.73it/s, loss=6.53]"
     ]
    },
    {
     "name": "stderr",
     "output_type": "stream",
     "text": [
      "C:\\Users\\PC\\Projects\\fastai\\courses\\dl1\\ULMFiT-Filipino\\fastai\\model.py:62: UserWarning: torch.nn.utils.clip_grad_norm is now deprecated in favor of torch.nn.utils.clip_grad_norm_.\n",
      "  if IS_TORCH_04: nn.utils.clip_grad_norm(trainable_params_(self.m), self.clip)\n"
     ]
    },
    {
     "name": "stdout",
     "output_type": "stream",
     "text": [
      "\r",
      " 56%|██████████████████████████████████████                              | 943/1683 [06:02<04:43,  2.61it/s, loss=6.53]"
     ]
    },
    {
     "name": "stderr",
     "output_type": "stream",
     "text": [
      "C:\\Users\\PC\\Projects\\fastai\\courses\\dl1\\ULMFiT-Filipino\\fastai\\model.py:62: UserWarning: torch.nn.utils.clip_grad_norm is now deprecated in favor of torch.nn.utils.clip_grad_norm_.\n",
      "  if IS_TORCH_04: nn.utils.clip_grad_norm(trainable_params_(self.m), self.clip)\n"
     ]
    },
    {
     "name": "stdout",
     "output_type": "stream",
     "text": [
      "\r",
      " 56%|██████████████████████████████████████▏                             | 944/1683 [06:03<04:48,  2.57it/s, loss=6.53]"
     ]
    },
    {
     "name": "stderr",
     "output_type": "stream",
     "text": [
      "C:\\Users\\PC\\Projects\\fastai\\courses\\dl1\\ULMFiT-Filipino\\fastai\\model.py:62: UserWarning: torch.nn.utils.clip_grad_norm is now deprecated in favor of torch.nn.utils.clip_grad_norm_.\n",
      "  if IS_TORCH_04: nn.utils.clip_grad_norm(trainable_params_(self.m), self.clip)\n"
     ]
    },
    {
     "name": "stdout",
     "output_type": "stream",
     "text": [
      "\r",
      " 56%|██████████████████████████████████████▏                             | 945/1683 [06:03<04:42,  2.62it/s, loss=6.54]"
     ]
    },
    {
     "name": "stderr",
     "output_type": "stream",
     "text": [
      "C:\\Users\\PC\\Projects\\fastai\\courses\\dl1\\ULMFiT-Filipino\\fastai\\model.py:62: UserWarning: torch.nn.utils.clip_grad_norm is now deprecated in favor of torch.nn.utils.clip_grad_norm_.\n",
      "  if IS_TORCH_04: nn.utils.clip_grad_norm(trainable_params_(self.m), self.clip)\n"
     ]
    },
    {
     "name": "stdout",
     "output_type": "stream",
     "text": [
      "\r",
      " 56%|██████████████████████████████████████▏                             | 946/1683 [06:03<04:40,  2.63it/s, loss=6.54]"
     ]
    },
    {
     "name": "stderr",
     "output_type": "stream",
     "text": [
      "C:\\Users\\PC\\Projects\\fastai\\courses\\dl1\\ULMFiT-Filipino\\fastai\\model.py:62: UserWarning: torch.nn.utils.clip_grad_norm is now deprecated in favor of torch.nn.utils.clip_grad_norm_.\n",
      "  if IS_TORCH_04: nn.utils.clip_grad_norm(trainable_params_(self.m), self.clip)\n"
     ]
    },
    {
     "name": "stdout",
     "output_type": "stream",
     "text": [
      "\r",
      " 56%|██████████████████████████████████████▎                             | 947/1683 [06:04<04:42,  2.61it/s, loss=6.54]"
     ]
    },
    {
     "name": "stderr",
     "output_type": "stream",
     "text": [
      "C:\\Users\\PC\\Projects\\fastai\\courses\\dl1\\ULMFiT-Filipino\\fastai\\model.py:62: UserWarning: torch.nn.utils.clip_grad_norm is now deprecated in favor of torch.nn.utils.clip_grad_norm_.\n",
      "  if IS_TORCH_04: nn.utils.clip_grad_norm(trainable_params_(self.m), self.clip)\n"
     ]
    },
    {
     "name": "stdout",
     "output_type": "stream",
     "text": [
      "\r",
      " 56%|██████████████████████████████████████▎                             | 948/1683 [06:04<04:41,  2.61it/s, loss=6.54]"
     ]
    },
    {
     "name": "stderr",
     "output_type": "stream",
     "text": [
      "C:\\Users\\PC\\Projects\\fastai\\courses\\dl1\\ULMFiT-Filipino\\fastai\\model.py:62: UserWarning: torch.nn.utils.clip_grad_norm is now deprecated in favor of torch.nn.utils.clip_grad_norm_.\n",
      "  if IS_TORCH_04: nn.utils.clip_grad_norm(trainable_params_(self.m), self.clip)\n"
     ]
    },
    {
     "name": "stdout",
     "output_type": "stream",
     "text": [
      "\r",
      " 56%|██████████████████████████████████████▎                             | 949/1683 [06:04<04:47,  2.55it/s, loss=6.54]"
     ]
    },
    {
     "name": "stderr",
     "output_type": "stream",
     "text": [
      "C:\\Users\\PC\\Projects\\fastai\\courses\\dl1\\ULMFiT-Filipino\\fastai\\model.py:62: UserWarning: torch.nn.utils.clip_grad_norm is now deprecated in favor of torch.nn.utils.clip_grad_norm_.\n",
      "  if IS_TORCH_04: nn.utils.clip_grad_norm(trainable_params_(self.m), self.clip)\n"
     ]
    },
    {
     "name": "stdout",
     "output_type": "stream",
     "text": [
      "\r",
      " 56%|██████████████████████████████████████▍                             | 950/1683 [06:05<04:47,  2.55it/s, loss=6.54]"
     ]
    },
    {
     "name": "stderr",
     "output_type": "stream",
     "text": [
      "C:\\Users\\PC\\Projects\\fastai\\courses\\dl1\\ULMFiT-Filipino\\fastai\\model.py:62: UserWarning: torch.nn.utils.clip_grad_norm is now deprecated in favor of torch.nn.utils.clip_grad_norm_.\n",
      "  if IS_TORCH_04: nn.utils.clip_grad_norm(trainable_params_(self.m), self.clip)\n"
     ]
    },
    {
     "name": "stdout",
     "output_type": "stream",
     "text": [
      "\r",
      " 57%|██████████████████████████████████████▍                             | 951/1683 [06:05<04:45,  2.56it/s, loss=6.54]"
     ]
    },
    {
     "name": "stderr",
     "output_type": "stream",
     "text": [
      "C:\\Users\\PC\\Projects\\fastai\\courses\\dl1\\ULMFiT-Filipino\\fastai\\model.py:62: UserWarning: torch.nn.utils.clip_grad_norm is now deprecated in favor of torch.nn.utils.clip_grad_norm_.\n",
      "  if IS_TORCH_04: nn.utils.clip_grad_norm(trainable_params_(self.m), self.clip)\n"
     ]
    },
    {
     "name": "stdout",
     "output_type": "stream",
     "text": [
      "\r",
      " 57%|██████████████████████████████████████▍                             | 952/1683 [06:06<04:48,  2.53it/s, loss=6.55]"
     ]
    },
    {
     "name": "stderr",
     "output_type": "stream",
     "text": [
      "C:\\Users\\PC\\Projects\\fastai\\courses\\dl1\\ULMFiT-Filipino\\fastai\\model.py:62: UserWarning: torch.nn.utils.clip_grad_norm is now deprecated in favor of torch.nn.utils.clip_grad_norm_.\n",
      "  if IS_TORCH_04: nn.utils.clip_grad_norm(trainable_params_(self.m), self.clip)\n"
     ]
    },
    {
     "name": "stdout",
     "output_type": "stream",
     "text": [
      "\r",
      " 57%|██████████████████████████████████████▌                             | 953/1683 [06:06<04:44,  2.57it/s, loss=6.55]"
     ]
    },
    {
     "name": "stderr",
     "output_type": "stream",
     "text": [
      "C:\\Users\\PC\\Projects\\fastai\\courses\\dl1\\ULMFiT-Filipino\\fastai\\model.py:62: UserWarning: torch.nn.utils.clip_grad_norm is now deprecated in favor of torch.nn.utils.clip_grad_norm_.\n",
      "  if IS_TORCH_04: nn.utils.clip_grad_norm(trainable_params_(self.m), self.clip)\n"
     ]
    },
    {
     "name": "stdout",
     "output_type": "stream",
     "text": [
      "\r",
      " 57%|██████████████████████████████████████▌                             | 954/1683 [06:06<04:13,  2.87it/s, loss=6.55]"
     ]
    },
    {
     "name": "stderr",
     "output_type": "stream",
     "text": [
      "C:\\Users\\PC\\Projects\\fastai\\courses\\dl1\\ULMFiT-Filipino\\fastai\\model.py:62: UserWarning: torch.nn.utils.clip_grad_norm is now deprecated in favor of torch.nn.utils.clip_grad_norm_.\n",
      "  if IS_TORCH_04: nn.utils.clip_grad_norm(trainable_params_(self.m), self.clip)\n"
     ]
    },
    {
     "name": "stdout",
     "output_type": "stream",
     "text": [
      "\r",
      " 57%|██████████████████████████████████████▌                             | 955/1683 [06:07<04:21,  2.78it/s, loss=6.55]"
     ]
    },
    {
     "name": "stderr",
     "output_type": "stream",
     "text": [
      "C:\\Users\\PC\\Projects\\fastai\\courses\\dl1\\ULMFiT-Filipino\\fastai\\model.py:62: UserWarning: torch.nn.utils.clip_grad_norm is now deprecated in favor of torch.nn.utils.clip_grad_norm_.\n",
      "  if IS_TORCH_04: nn.utils.clip_grad_norm(trainable_params_(self.m), self.clip)\n"
     ]
    },
    {
     "name": "stdout",
     "output_type": "stream",
     "text": [
      "\r",
      " 57%|██████████████████████████████████████▋                             | 956/1683 [06:07<04:23,  2.76it/s, loss=6.55]"
     ]
    },
    {
     "name": "stderr",
     "output_type": "stream",
     "text": [
      "C:\\Users\\PC\\Projects\\fastai\\courses\\dl1\\ULMFiT-Filipino\\fastai\\model.py:62: UserWarning: torch.nn.utils.clip_grad_norm is now deprecated in favor of torch.nn.utils.clip_grad_norm_.\n",
      "  if IS_TORCH_04: nn.utils.clip_grad_norm(trainable_params_(self.m), self.clip)\n"
     ]
    },
    {
     "name": "stdout",
     "output_type": "stream",
     "text": [
      "\r",
      " 57%|██████████████████████████████████████▋                             | 957/1683 [06:07<04:29,  2.69it/s, loss=6.55]"
     ]
    },
    {
     "name": "stderr",
     "output_type": "stream",
     "text": [
      "C:\\Users\\PC\\Projects\\fastai\\courses\\dl1\\ULMFiT-Filipino\\fastai\\model.py:62: UserWarning: torch.nn.utils.clip_grad_norm is now deprecated in favor of torch.nn.utils.clip_grad_norm_.\n",
      "  if IS_TORCH_04: nn.utils.clip_grad_norm(trainable_params_(self.m), self.clip)\n"
     ]
    },
    {
     "name": "stdout",
     "output_type": "stream",
     "text": [
      "\r",
      " 57%|██████████████████████████████████████▋                             | 958/1683 [06:08<03:59,  3.03it/s, loss=6.55]"
     ]
    },
    {
     "name": "stderr",
     "output_type": "stream",
     "text": [
      "C:\\Users\\PC\\Projects\\fastai\\courses\\dl1\\ULMFiT-Filipino\\fastai\\model.py:62: UserWarning: torch.nn.utils.clip_grad_norm is now deprecated in favor of torch.nn.utils.clip_grad_norm_.\n",
      "  if IS_TORCH_04: nn.utils.clip_grad_norm(trainable_params_(self.m), self.clip)\n"
     ]
    },
    {
     "name": "stdout",
     "output_type": "stream",
     "text": [
      "\r",
      " 57%|██████████████████████████████████████▋                             | 959/1683 [06:08<04:10,  2.89it/s, loss=6.55]"
     ]
    },
    {
     "name": "stderr",
     "output_type": "stream",
     "text": [
      "C:\\Users\\PC\\Projects\\fastai\\courses\\dl1\\ULMFiT-Filipino\\fastai\\model.py:62: UserWarning: torch.nn.utils.clip_grad_norm is now deprecated in favor of torch.nn.utils.clip_grad_norm_.\n",
      "  if IS_TORCH_04: nn.utils.clip_grad_norm(trainable_params_(self.m), self.clip)\n"
     ]
    },
    {
     "name": "stdout",
     "output_type": "stream",
     "text": [
      "\r",
      " 57%|██████████████████████████████████████▊                             | 960/1683 [06:08<04:06,  2.93it/s, loss=6.54]"
     ]
    },
    {
     "name": "stderr",
     "output_type": "stream",
     "text": [
      "C:\\Users\\PC\\Projects\\fastai\\courses\\dl1\\ULMFiT-Filipino\\fastai\\model.py:62: UserWarning: torch.nn.utils.clip_grad_norm is now deprecated in favor of torch.nn.utils.clip_grad_norm_.\n",
      "  if IS_TORCH_04: nn.utils.clip_grad_norm(trainable_params_(self.m), self.clip)\n"
     ]
    },
    {
     "name": "stdout",
     "output_type": "stream",
     "text": [
      "\r",
      " 57%|██████████████████████████████████████▊                             | 961/1683 [06:09<04:15,  2.83it/s, loss=6.54]"
     ]
    },
    {
     "name": "stderr",
     "output_type": "stream",
     "text": [
      "C:\\Users\\PC\\Projects\\fastai\\courses\\dl1\\ULMFiT-Filipino\\fastai\\model.py:62: UserWarning: torch.nn.utils.clip_grad_norm is now deprecated in favor of torch.nn.utils.clip_grad_norm_.\n",
      "  if IS_TORCH_04: nn.utils.clip_grad_norm(trainable_params_(self.m), self.clip)\n"
     ]
    },
    {
     "name": "stdout",
     "output_type": "stream",
     "text": [
      "\r",
      " 57%|██████████████████████████████████████▊                             | 962/1683 [06:09<04:23,  2.73it/s, loss=6.55]"
     ]
    },
    {
     "name": "stderr",
     "output_type": "stream",
     "text": [
      "C:\\Users\\PC\\Projects\\fastai\\courses\\dl1\\ULMFiT-Filipino\\fastai\\model.py:62: UserWarning: torch.nn.utils.clip_grad_norm is now deprecated in favor of torch.nn.utils.clip_grad_norm_.\n",
      "  if IS_TORCH_04: nn.utils.clip_grad_norm(trainable_params_(self.m), self.clip)\n"
     ]
    },
    {
     "name": "stdout",
     "output_type": "stream",
     "text": [
      "\r",
      " 57%|██████████████████████████████████████▉                             | 963/1683 [06:10<04:22,  2.74it/s, loss=6.55]"
     ]
    },
    {
     "name": "stderr",
     "output_type": "stream",
     "text": [
      "C:\\Users\\PC\\Projects\\fastai\\courses\\dl1\\ULMFiT-Filipino\\fastai\\model.py:62: UserWarning: torch.nn.utils.clip_grad_norm is now deprecated in favor of torch.nn.utils.clip_grad_norm_.\n",
      "  if IS_TORCH_04: nn.utils.clip_grad_norm(trainable_params_(self.m), self.clip)\n"
     ]
    },
    {
     "name": "stdout",
     "output_type": "stream",
     "text": [
      "\r",
      " 57%|██████████████████████████████████████▉                             | 964/1683 [06:10<04:05,  2.93it/s, loss=6.54]"
     ]
    },
    {
     "name": "stderr",
     "output_type": "stream",
     "text": [
      "C:\\Users\\PC\\Projects\\fastai\\courses\\dl1\\ULMFiT-Filipino\\fastai\\model.py:62: UserWarning: torch.nn.utils.clip_grad_norm is now deprecated in favor of torch.nn.utils.clip_grad_norm_.\n",
      "  if IS_TORCH_04: nn.utils.clip_grad_norm(trainable_params_(self.m), self.clip)\n"
     ]
    },
    {
     "name": "stdout",
     "output_type": "stream",
     "text": [
      "\r",
      " 57%|██████████████████████████████████████▉                             | 965/1683 [06:10<04:12,  2.85it/s, loss=6.54]"
     ]
    },
    {
     "name": "stderr",
     "output_type": "stream",
     "text": [
      "C:\\Users\\PC\\Projects\\fastai\\courses\\dl1\\ULMFiT-Filipino\\fastai\\model.py:62: UserWarning: torch.nn.utils.clip_grad_norm is now deprecated in favor of torch.nn.utils.clip_grad_norm_.\n",
      "  if IS_TORCH_04: nn.utils.clip_grad_norm(trainable_params_(self.m), self.clip)\n"
     ]
    },
    {
     "name": "stdout",
     "output_type": "stream",
     "text": [
      "\r",
      " 57%|███████████████████████████████████████                             | 966/1683 [06:11<04:25,  2.70it/s, loss=6.54]"
     ]
    },
    {
     "name": "stderr",
     "output_type": "stream",
     "text": [
      "C:\\Users\\PC\\Projects\\fastai\\courses\\dl1\\ULMFiT-Filipino\\fastai\\model.py:62: UserWarning: torch.nn.utils.clip_grad_norm is now deprecated in favor of torch.nn.utils.clip_grad_norm_.\n",
      "  if IS_TORCH_04: nn.utils.clip_grad_norm(trainable_params_(self.m), self.clip)\n"
     ]
    },
    {
     "name": "stdout",
     "output_type": "stream",
     "text": [
      "\r",
      " 57%|███████████████████████████████████████                             | 967/1683 [06:11<04:29,  2.66it/s, loss=6.54]"
     ]
    },
    {
     "name": "stderr",
     "output_type": "stream",
     "text": [
      "C:\\Users\\PC\\Projects\\fastai\\courses\\dl1\\ULMFiT-Filipino\\fastai\\model.py:62: UserWarning: torch.nn.utils.clip_grad_norm is now deprecated in favor of torch.nn.utils.clip_grad_norm_.\n",
      "  if IS_TORCH_04: nn.utils.clip_grad_norm(trainable_params_(self.m), self.clip)\n"
     ]
    },
    {
     "name": "stdout",
     "output_type": "stream",
     "text": [
      "\r",
      " 58%|███████████████████████████████████████                             | 968/1683 [06:11<04:30,  2.64it/s, loss=6.54]"
     ]
    },
    {
     "name": "stderr",
     "output_type": "stream",
     "text": [
      "C:\\Users\\PC\\Projects\\fastai\\courses\\dl1\\ULMFiT-Filipino\\fastai\\model.py:62: UserWarning: torch.nn.utils.clip_grad_norm is now deprecated in favor of torch.nn.utils.clip_grad_norm_.\n",
      "  if IS_TORCH_04: nn.utils.clip_grad_norm(trainable_params_(self.m), self.clip)\n"
     ]
    },
    {
     "name": "stdout",
     "output_type": "stream",
     "text": [
      "\r",
      " 58%|███████████████████████████████████████▏                            | 969/1683 [06:12<04:21,  2.73it/s, loss=6.54]"
     ]
    },
    {
     "name": "stderr",
     "output_type": "stream",
     "text": [
      "C:\\Users\\PC\\Projects\\fastai\\courses\\dl1\\ULMFiT-Filipino\\fastai\\model.py:62: UserWarning: torch.nn.utils.clip_grad_norm is now deprecated in favor of torch.nn.utils.clip_grad_norm_.\n",
      "  if IS_TORCH_04: nn.utils.clip_grad_norm(trainable_params_(self.m), self.clip)\n"
     ]
    },
    {
     "name": "stdout",
     "output_type": "stream",
     "text": [
      "\r",
      " 58%|███████████████████████████████████████▏                            | 970/1683 [06:12<04:28,  2.66it/s, loss=6.54]"
     ]
    },
    {
     "name": "stderr",
     "output_type": "stream",
     "text": [
      "C:\\Users\\PC\\Projects\\fastai\\courses\\dl1\\ULMFiT-Filipino\\fastai\\model.py:62: UserWarning: torch.nn.utils.clip_grad_norm is now deprecated in favor of torch.nn.utils.clip_grad_norm_.\n",
      "  if IS_TORCH_04: nn.utils.clip_grad_norm(trainable_params_(self.m), self.clip)\n"
     ]
    },
    {
     "name": "stdout",
     "output_type": "stream",
     "text": [
      "\r",
      " 58%|███████████████████████████████████████▏                            | 971/1683 [06:12<04:32,  2.61it/s, loss=6.53]"
     ]
    },
    {
     "name": "stderr",
     "output_type": "stream",
     "text": [
      "C:\\Users\\PC\\Projects\\fastai\\courses\\dl1\\ULMFiT-Filipino\\fastai\\model.py:62: UserWarning: torch.nn.utils.clip_grad_norm is now deprecated in favor of torch.nn.utils.clip_grad_norm_.\n",
      "  if IS_TORCH_04: nn.utils.clip_grad_norm(trainable_params_(self.m), self.clip)\n"
     ]
    },
    {
     "name": "stdout",
     "output_type": "stream",
     "text": [
      "\r",
      " 58%|███████████████████████████████████████▎                            | 972/1683 [06:13<04:34,  2.59it/s, loss=6.53]"
     ]
    },
    {
     "name": "stderr",
     "output_type": "stream",
     "text": [
      "C:\\Users\\PC\\Projects\\fastai\\courses\\dl1\\ULMFiT-Filipino\\fastai\\model.py:62: UserWarning: torch.nn.utils.clip_grad_norm is now deprecated in favor of torch.nn.utils.clip_grad_norm_.\n",
      "  if IS_TORCH_04: nn.utils.clip_grad_norm(trainable_params_(self.m), self.clip)\n"
     ]
    },
    {
     "name": "stdout",
     "output_type": "stream",
     "text": [
      "\r",
      " 58%|███████████████████████████████████████▎                            | 973/1683 [06:13<04:33,  2.60it/s, loss=6.52]"
     ]
    },
    {
     "name": "stderr",
     "output_type": "stream",
     "text": [
      "C:\\Users\\PC\\Projects\\fastai\\courses\\dl1\\ULMFiT-Filipino\\fastai\\model.py:62: UserWarning: torch.nn.utils.clip_grad_norm is now deprecated in favor of torch.nn.utils.clip_grad_norm_.\n",
      "  if IS_TORCH_04: nn.utils.clip_grad_norm(trainable_params_(self.m), self.clip)\n"
     ]
    },
    {
     "name": "stdout",
     "output_type": "stream",
     "text": [
      "\r",
      " 58%|███████████████████████████████████████▎                            | 974/1683 [06:14<04:32,  2.60it/s, loss=6.52]"
     ]
    },
    {
     "name": "stderr",
     "output_type": "stream",
     "text": [
      "C:\\Users\\PC\\Projects\\fastai\\courses\\dl1\\ULMFiT-Filipino\\fastai\\model.py:62: UserWarning: torch.nn.utils.clip_grad_norm is now deprecated in favor of torch.nn.utils.clip_grad_norm_.\n",
      "  if IS_TORCH_04: nn.utils.clip_grad_norm(trainable_params_(self.m), self.clip)\n"
     ]
    },
    {
     "name": "stdout",
     "output_type": "stream",
     "text": [
      "\r",
      " 58%|███████████████████████████████████████▍                            | 975/1683 [06:14<04:31,  2.61it/s, loss=6.52]"
     ]
    },
    {
     "name": "stderr",
     "output_type": "stream",
     "text": [
      "C:\\Users\\PC\\Projects\\fastai\\courses\\dl1\\ULMFiT-Filipino\\fastai\\model.py:62: UserWarning: torch.nn.utils.clip_grad_norm is now deprecated in favor of torch.nn.utils.clip_grad_norm_.\n",
      "  if IS_TORCH_04: nn.utils.clip_grad_norm(trainable_params_(self.m), self.clip)\n"
     ]
    },
    {
     "name": "stdout",
     "output_type": "stream",
     "text": [
      "\r",
      " 58%|███████████████████████████████████████▍                            | 976/1683 [06:14<04:34,  2.57it/s, loss=6.51]"
     ]
    },
    {
     "name": "stderr",
     "output_type": "stream",
     "text": [
      "C:\\Users\\PC\\Projects\\fastai\\courses\\dl1\\ULMFiT-Filipino\\fastai\\model.py:62: UserWarning: torch.nn.utils.clip_grad_norm is now deprecated in favor of torch.nn.utils.clip_grad_norm_.\n",
      "  if IS_TORCH_04: nn.utils.clip_grad_norm(trainable_params_(self.m), self.clip)\n"
     ]
    },
    {
     "name": "stdout",
     "output_type": "stream",
     "text": [
      "\r",
      " 58%|███████████████████████████████████████▍                            | 977/1683 [06:15<04:36,  2.55it/s, loss=6.51]"
     ]
    },
    {
     "name": "stderr",
     "output_type": "stream",
     "text": [
      "C:\\Users\\PC\\Projects\\fastai\\courses\\dl1\\ULMFiT-Filipino\\fastai\\model.py:62: UserWarning: torch.nn.utils.clip_grad_norm is now deprecated in favor of torch.nn.utils.clip_grad_norm_.\n",
      "  if IS_TORCH_04: nn.utils.clip_grad_norm(trainable_params_(self.m), self.clip)\n"
     ]
    },
    {
     "name": "stdout",
     "output_type": "stream",
     "text": [
      "\r",
      " 58%|███████████████████████████████████████▌                            | 978/1683 [06:15<04:42,  2.50it/s, loss=6.51]"
     ]
    },
    {
     "name": "stderr",
     "output_type": "stream",
     "text": [
      "C:\\Users\\PC\\Projects\\fastai\\courses\\dl1\\ULMFiT-Filipino\\fastai\\model.py:62: UserWarning: torch.nn.utils.clip_grad_norm is now deprecated in favor of torch.nn.utils.clip_grad_norm_.\n",
      "  if IS_TORCH_04: nn.utils.clip_grad_norm(trainable_params_(self.m), self.clip)\n"
     ]
    },
    {
     "name": "stdout",
     "output_type": "stream",
     "text": [
      "\r",
      " 58%|███████████████████████████████████████▌                            | 979/1683 [06:16<04:46,  2.45it/s, loss=6.51]"
     ]
    },
    {
     "name": "stderr",
     "output_type": "stream",
     "text": [
      "C:\\Users\\PC\\Projects\\fastai\\courses\\dl1\\ULMFiT-Filipino\\fastai\\model.py:62: UserWarning: torch.nn.utils.clip_grad_norm is now deprecated in favor of torch.nn.utils.clip_grad_norm_.\n",
      "  if IS_TORCH_04: nn.utils.clip_grad_norm(trainable_params_(self.m), self.clip)\n"
     ]
    },
    {
     "name": "stdout",
     "output_type": "stream",
     "text": [
      "\r",
      " 58%|████████████████████████████████████████▏                            | 980/1683 [06:16<04:47,  2.45it/s, loss=6.5]"
     ]
    },
    {
     "name": "stderr",
     "output_type": "stream",
     "text": [
      "C:\\Users\\PC\\Projects\\fastai\\courses\\dl1\\ULMFiT-Filipino\\fastai\\model.py:62: UserWarning: torch.nn.utils.clip_grad_norm is now deprecated in favor of torch.nn.utils.clip_grad_norm_.\n",
      "  if IS_TORCH_04: nn.utils.clip_grad_norm(trainable_params_(self.m), self.clip)\n"
     ]
    },
    {
     "name": "stdout",
     "output_type": "stream",
     "text": [
      "\r",
      " 58%|████████████████████████████████████████▏                            | 981/1683 [06:16<04:44,  2.47it/s, loss=6.5]"
     ]
    },
    {
     "name": "stderr",
     "output_type": "stream",
     "text": [
      "C:\\Users\\PC\\Projects\\fastai\\courses\\dl1\\ULMFiT-Filipino\\fastai\\model.py:62: UserWarning: torch.nn.utils.clip_grad_norm is now deprecated in favor of torch.nn.utils.clip_grad_norm_.\n",
      "  if IS_TORCH_04: nn.utils.clip_grad_norm(trainable_params_(self.m), self.clip)\n"
     ]
    },
    {
     "name": "stdout",
     "output_type": "stream",
     "text": [
      "\r",
      " 58%|███████████████████████████████████████▋                            | 982/1683 [06:17<04:43,  2.48it/s, loss=6.49]"
     ]
    },
    {
     "name": "stderr",
     "output_type": "stream",
     "text": [
      "C:\\Users\\PC\\Projects\\fastai\\courses\\dl1\\ULMFiT-Filipino\\fastai\\model.py:62: UserWarning: torch.nn.utils.clip_grad_norm is now deprecated in favor of torch.nn.utils.clip_grad_norm_.\n",
      "  if IS_TORCH_04: nn.utils.clip_grad_norm(trainable_params_(self.m), self.clip)\n"
     ]
    },
    {
     "name": "stdout",
     "output_type": "stream",
     "text": [
      "\r",
      " 58%|███████████████████████████████████████▋                            | 983/1683 [06:17<04:39,  2.50it/s, loss=6.48]"
     ]
    },
    {
     "name": "stderr",
     "output_type": "stream",
     "text": [
      "C:\\Users\\PC\\Projects\\fastai\\courses\\dl1\\ULMFiT-Filipino\\fastai\\model.py:62: UserWarning: torch.nn.utils.clip_grad_norm is now deprecated in favor of torch.nn.utils.clip_grad_norm_.\n",
      "  if IS_TORCH_04: nn.utils.clip_grad_norm(trainable_params_(self.m), self.clip)\n"
     ]
    },
    {
     "name": "stdout",
     "output_type": "stream",
     "text": [
      "\r",
      " 58%|███████████████████████████████████████▊                            | 984/1683 [06:18<04:45,  2.45it/s, loss=6.47]"
     ]
    },
    {
     "name": "stderr",
     "output_type": "stream",
     "text": [
      "C:\\Users\\PC\\Projects\\fastai\\courses\\dl1\\ULMFiT-Filipino\\fastai\\model.py:62: UserWarning: torch.nn.utils.clip_grad_norm is now deprecated in favor of torch.nn.utils.clip_grad_norm_.\n",
      "  if IS_TORCH_04: nn.utils.clip_grad_norm(trainable_params_(self.m), self.clip)\n"
     ]
    },
    {
     "name": "stdout",
     "output_type": "stream",
     "text": [
      "\r",
      " 59%|███████████████████████████████████████▊                            | 985/1683 [06:18<04:49,  2.41it/s, loss=6.46]"
     ]
    },
    {
     "name": "stderr",
     "output_type": "stream",
     "text": [
      "C:\\Users\\PC\\Projects\\fastai\\courses\\dl1\\ULMFiT-Filipino\\fastai\\model.py:62: UserWarning: torch.nn.utils.clip_grad_norm is now deprecated in favor of torch.nn.utils.clip_grad_norm_.\n",
      "  if IS_TORCH_04: nn.utils.clip_grad_norm(trainable_params_(self.m), self.clip)\n"
     ]
    },
    {
     "name": "stdout",
     "output_type": "stream",
     "text": [
      "\r",
      " 59%|███████████████████████████████████████▊                            | 986/1683 [06:19<04:52,  2.38it/s, loss=6.45]"
     ]
    },
    {
     "name": "stderr",
     "output_type": "stream",
     "text": [
      "C:\\Users\\PC\\Projects\\fastai\\courses\\dl1\\ULMFiT-Filipino\\fastai\\model.py:62: UserWarning: torch.nn.utils.clip_grad_norm is now deprecated in favor of torch.nn.utils.clip_grad_norm_.\n",
      "  if IS_TORCH_04: nn.utils.clip_grad_norm(trainable_params_(self.m), self.clip)\n"
     ]
    },
    {
     "name": "stdout",
     "output_type": "stream",
     "text": [
      "\r",
      " 59%|███████████████████████████████████████▉                            | 987/1683 [06:19<04:44,  2.45it/s, loss=6.45]"
     ]
    },
    {
     "name": "stderr",
     "output_type": "stream",
     "text": [
      "C:\\Users\\PC\\Projects\\fastai\\courses\\dl1\\ULMFiT-Filipino\\fastai\\model.py:62: UserWarning: torch.nn.utils.clip_grad_norm is now deprecated in favor of torch.nn.utils.clip_grad_norm_.\n",
      "  if IS_TORCH_04: nn.utils.clip_grad_norm(trainable_params_(self.m), self.clip)\n"
     ]
    },
    {
     "name": "stdout",
     "output_type": "stream",
     "text": [
      "\r",
      " 59%|███████████████████████████████████████▉                            | 988/1683 [06:19<04:42,  2.46it/s, loss=6.44]"
     ]
    },
    {
     "name": "stderr",
     "output_type": "stream",
     "text": [
      "C:\\Users\\PC\\Projects\\fastai\\courses\\dl1\\ULMFiT-Filipino\\fastai\\model.py:62: UserWarning: torch.nn.utils.clip_grad_norm is now deprecated in favor of torch.nn.utils.clip_grad_norm_.\n",
      "  if IS_TORCH_04: nn.utils.clip_grad_norm(trainable_params_(self.m), self.clip)\n"
     ]
    },
    {
     "name": "stdout",
     "output_type": "stream",
     "text": [
      "\r",
      " 59%|███████████████████████████████████████▉                            | 989/1683 [06:20<04:41,  2.47it/s, loss=6.43]"
     ]
    },
    {
     "name": "stderr",
     "output_type": "stream",
     "text": [
      "C:\\Users\\PC\\Projects\\fastai\\courses\\dl1\\ULMFiT-Filipino\\fastai\\model.py:62: UserWarning: torch.nn.utils.clip_grad_norm is now deprecated in favor of torch.nn.utils.clip_grad_norm_.\n",
      "  if IS_TORCH_04: nn.utils.clip_grad_norm(trainable_params_(self.m), self.clip)\n"
     ]
    },
    {
     "name": "stdout",
     "output_type": "stream",
     "text": [
      "\r",
      " 59%|████████████████████████████████████████                            | 990/1683 [06:20<04:45,  2.42it/s, loss=6.42]"
     ]
    },
    {
     "name": "stderr",
     "output_type": "stream",
     "text": [
      "C:\\Users\\PC\\Projects\\fastai\\courses\\dl1\\ULMFiT-Filipino\\fastai\\model.py:62: UserWarning: torch.nn.utils.clip_grad_norm is now deprecated in favor of torch.nn.utils.clip_grad_norm_.\n",
      "  if IS_TORCH_04: nn.utils.clip_grad_norm(trainable_params_(self.m), self.clip)\n"
     ]
    },
    {
     "name": "stdout",
     "output_type": "stream",
     "text": [
      "\r",
      " 59%|████████████████████████████████████████                            | 991/1683 [06:21<04:39,  2.47it/s, loss=6.41]"
     ]
    },
    {
     "name": "stderr",
     "output_type": "stream",
     "text": [
      "C:\\Users\\PC\\Projects\\fastai\\courses\\dl1\\ULMFiT-Filipino\\fastai\\model.py:62: UserWarning: torch.nn.utils.clip_grad_norm is now deprecated in favor of torch.nn.utils.clip_grad_norm_.\n",
      "  if IS_TORCH_04: nn.utils.clip_grad_norm(trainable_params_(self.m), self.clip)\n"
     ]
    },
    {
     "name": "stdout",
     "output_type": "stream",
     "text": [
      "\r",
      " 59%|████████████████████████████████████████                            | 992/1683 [06:21<04:35,  2.51it/s, loss=6.41]"
     ]
    },
    {
     "name": "stderr",
     "output_type": "stream",
     "text": [
      "C:\\Users\\PC\\Projects\\fastai\\courses\\dl1\\ULMFiT-Filipino\\fastai\\model.py:62: UserWarning: torch.nn.utils.clip_grad_norm is now deprecated in favor of torch.nn.utils.clip_grad_norm_.\n",
      "  if IS_TORCH_04: nn.utils.clip_grad_norm(trainable_params_(self.m), self.clip)\n"
     ]
    },
    {
     "name": "stdout",
     "output_type": "stream",
     "text": [
      "\r",
      " 59%|████████████████████████████████████████▋                            | 993/1683 [06:21<04:35,  2.50it/s, loss=6.4]"
     ]
    },
    {
     "name": "stderr",
     "output_type": "stream",
     "text": [
      "C:\\Users\\PC\\Projects\\fastai\\courses\\dl1\\ULMFiT-Filipino\\fastai\\model.py:62: UserWarning: torch.nn.utils.clip_grad_norm is now deprecated in favor of torch.nn.utils.clip_grad_norm_.\n",
      "  if IS_TORCH_04: nn.utils.clip_grad_norm(trainable_params_(self.m), self.clip)\n"
     ]
    },
    {
     "name": "stdout",
     "output_type": "stream",
     "text": [
      "\r",
      " 59%|████████████████████████████████████████▊                            | 994/1683 [06:22<04:23,  2.62it/s, loss=6.4]"
     ]
    },
    {
     "name": "stderr",
     "output_type": "stream",
     "text": [
      "C:\\Users\\PC\\Projects\\fastai\\courses\\dl1\\ULMFiT-Filipino\\fastai\\model.py:62: UserWarning: torch.nn.utils.clip_grad_norm is now deprecated in favor of torch.nn.utils.clip_grad_norm_.\n",
      "  if IS_TORCH_04: nn.utils.clip_grad_norm(trainable_params_(self.m), self.clip)\n"
     ]
    },
    {
     "name": "stdout",
     "output_type": "stream",
     "text": [
      "\r",
      " 59%|████████████████████████████████████████▏                           | 995/1683 [06:22<04:28,  2.57it/s, loss=6.39]"
     ]
    },
    {
     "name": "stderr",
     "output_type": "stream",
     "text": [
      "C:\\Users\\PC\\Projects\\fastai\\courses\\dl1\\ULMFiT-Filipino\\fastai\\model.py:62: UserWarning: torch.nn.utils.clip_grad_norm is now deprecated in favor of torch.nn.utils.clip_grad_norm_.\n",
      "  if IS_TORCH_04: nn.utils.clip_grad_norm(trainable_params_(self.m), self.clip)\n"
     ]
    },
    {
     "name": "stdout",
     "output_type": "stream",
     "text": [
      "\r",
      " 59%|████████████████████████████████████████▏                           | 996/1683 [06:22<04:29,  2.55it/s, loss=6.39]"
     ]
    },
    {
     "name": "stderr",
     "output_type": "stream",
     "text": [
      "C:\\Users\\PC\\Projects\\fastai\\courses\\dl1\\ULMFiT-Filipino\\fastai\\model.py:62: UserWarning: torch.nn.utils.clip_grad_norm is now deprecated in favor of torch.nn.utils.clip_grad_norm_.\n",
      "  if IS_TORCH_04: nn.utils.clip_grad_norm(trainable_params_(self.m), self.clip)\n"
     ]
    },
    {
     "name": "stdout",
     "output_type": "stream",
     "text": [
      "\r",
      " 59%|████████████████████████████████████████▎                           | 997/1683 [06:23<04:29,  2.54it/s, loss=6.38]"
     ]
    },
    {
     "name": "stderr",
     "output_type": "stream",
     "text": [
      "C:\\Users\\PC\\Projects\\fastai\\courses\\dl1\\ULMFiT-Filipino\\fastai\\model.py:62: UserWarning: torch.nn.utils.clip_grad_norm is now deprecated in favor of torch.nn.utils.clip_grad_norm_.\n",
      "  if IS_TORCH_04: nn.utils.clip_grad_norm(trainable_params_(self.m), self.clip)\n"
     ]
    },
    {
     "name": "stdout",
     "output_type": "stream",
     "text": [
      "\r",
      " 59%|████████████████████████████████████████▎                           | 998/1683 [06:23<04:30,  2.53it/s, loss=6.38]"
     ]
    },
    {
     "name": "stderr",
     "output_type": "stream",
     "text": [
      "C:\\Users\\PC\\Projects\\fastai\\courses\\dl1\\ULMFiT-Filipino\\fastai\\model.py:62: UserWarning: torch.nn.utils.clip_grad_norm is now deprecated in favor of torch.nn.utils.clip_grad_norm_.\n",
      "  if IS_TORCH_04: nn.utils.clip_grad_norm(trainable_params_(self.m), self.clip)\n"
     ]
    },
    {
     "name": "stdout",
     "output_type": "stream",
     "text": [
      "\r",
      " 59%|████████████████████████████████████████▎                           | 999/1683 [06:24<04:32,  2.51it/s, loss=6.37]"
     ]
    },
    {
     "name": "stderr",
     "output_type": "stream",
     "text": [
      "C:\\Users\\PC\\Projects\\fastai\\courses\\dl1\\ULMFiT-Filipino\\fastai\\model.py:62: UserWarning: torch.nn.utils.clip_grad_norm is now deprecated in favor of torch.nn.utils.clip_grad_norm_.\n",
      "  if IS_TORCH_04: nn.utils.clip_grad_norm(trainable_params_(self.m), self.clip)\n"
     ]
    },
    {
     "name": "stdout",
     "output_type": "stream",
     "text": [
      "\r",
      " 59%|███████████████████████████████████████▊                           | 1000/1683 [06:24<04:32,  2.51it/s, loss=6.36]"
     ]
    },
    {
     "name": "stderr",
     "output_type": "stream",
     "text": [
      "C:\\Users\\PC\\Projects\\fastai\\courses\\dl1\\ULMFiT-Filipino\\fastai\\model.py:62: UserWarning: torch.nn.utils.clip_grad_norm is now deprecated in favor of torch.nn.utils.clip_grad_norm_.\n",
      "  if IS_TORCH_04: nn.utils.clip_grad_norm(trainable_params_(self.m), self.clip)\n"
     ]
    }
   ],
   "source": [
    "learner.lr_find2(num_it=1000)"
   ]
  },
  {
   "cell_type": "code",
   "execution_count": 18,
   "metadata": {
    "scrolled": true
   },
   "outputs": [
    {
     "data": {
      "image/png": "[encoded data removed]",
      "text/plain": [
       "<matplotlib.figure.Figure at 0x1ec84e0f4e0>"
      ]
     },
     "metadata": {
      "needs_background": "light"
     },
     "output_type": "display_data"
    }
   ],
   "source": [
    "learner.sched.plot()"
   ]
  },
  {
   "cell_type": "code",
   "execution_count": 203,
   "metadata": {},
   "outputs": [],
   "source": [
    "# Set learning rate\n",
    "lr = 0.2"
   ]
  },
  {
   "cell_type": "code",
   "execution_count": 204,
   "metadata": {},
   "outputs": [],
   "source": [
    "# we can load the trained model and re-train again\n",
    "learner.load(f'wiki_{LANG}_1cycle_best')"
   ]
  },
  {
   "cell_type": "code",
   "execution_count": 205,
   "metadata": {
    "scrolled": true
   },
   "outputs": [
    {
     "data": {
      "application/vnd.jupyter.widget-view+json": {
       "model_id": "5ff84b389fea45a398b6eb868e399e9f",
       "version_major": 2,
       "version_minor": 0
      },
      "text/plain": [
       "HBox(children=(IntProgress(value=0, description='Epoch', max=15), HTML(value='')))"
      ]
     },
     "metadata": {},
     "output_type": "display_data"
    },
    {
     "name": "stdout",
     "output_type": "stream",
     "text": [
      "epoch      trn_loss   val_loss   accuracy                                                                              \n",
      "    0      2.510357   3.259221   0.439428  \n",
      "    1      2.415729   3.260172   0.439824                                                                              \n",
      "    2      2.375321   3.262639   0.439663                                                                              \n",
      "    3      2.42159    3.25873    0.440174                                                                              \n",
      "    4      2.43589    3.26199    0.439527                                                                              \n",
      "    5      2.403028   3.263135   0.439833                                                                              \n",
      "    6      2.516509   3.261539   0.43965                                                                               \n",
      "    7      2.471415   3.266305   0.439269                                                                              \n",
      "    8      2.362118   3.266264   0.439867                                                                              \n",
      "    9      2.520175   3.260972   0.44035                                                                               \n",
      "    10     2.484078   3.265902   0.439871                                                                              \n",
      "    11     2.401388   3.263418   0.440376                                                                              \n",
      "    12     2.391889   3.266866   0.439816                                                                              \n",
      "    13     2.349825   3.265099   0.440423                                                                              \n",
      "    14     2.343015   3.265749   0.440317                                                                              \n"
     ]
    },
    {
     "data": {
      "text/plain": [
       "[3.2657493952229535, 0.44031678461238166]"
      ]
     },
     "execution_count": 205,
     "metadata": {},
     "output_type": "execute_result"
    }
   ],
   "source": [
    "learner.fit(lr, 1, wds=wd, cycle_len=15, use_clr=(10,33,0.95,0.85), best_save_name=f'wiki_{LANG}_1cycle_best')"
   ]
  },
  {
   "cell_type": "code",
   "execution_count": 222,
   "metadata": {},
   "outputs": [
    {
     "name": "stdout",
     "output_type": "stream",
     "text": [
      "Perplexity Score:\n"
     ]
    },
    {
     "data": {
      "text/plain": [
       "26.19973759405871"
      ]
     },
     "execution_count": 222,
     "metadata": {},
     "output_type": "execute_result"
    }
   ],
   "source": [
    "print('Perplexity Score:')\n",
    "np.exp(3.2657493952229535)"
   ]
  },
  {
   "cell_type": "code",
   "execution_count": 206,
   "metadata": {},
   "outputs": [],
   "source": [
    "learner.save(f'wiki_{LANG}_lm4')\n",
    "learner.save_encoder(f'wiki_{LANG}_lm_enc4')"
   ]
  },
  {
   "cell_type": "code",
   "execution_count": 207,
   "metadata": {},
   "outputs": [],
   "source": [
    "learner.load(f'wiki_{LANG}_lm4')\n",
    "learner.load_encoder(f'wiki_{LANG}_lm_enc4')"
   ]
  },
  {
   "cell_type": "code",
   "execution_count": 208,
   "metadata": {},
   "outputs": [
    {
     "data": {
      "image/png": "[encoded data removed]",
      "text/plain": [
       "<matplotlib.figure.Figure at 0x1ee836dd240>"
      ]
     },
     "metadata": {
      "needs_background": "light"
     },
     "output_type": "display_data"
    }
   ],
   "source": [
    "learner.sched.plot_loss()"
   ]
  },
  {
   "cell_type": "code",
   "execution_count": 209,
   "metadata": {},
   "outputs": [
    {
     "data": {
      "image/png": "[encoded data removed]",
      "text/plain": [
       "<matplotlib.figure.Figure at 0x1ee836be128>"
      ]
     },
     "metadata": {
      "needs_background": "light"
     },
     "output_type": "display_data"
    }
   ],
   "source": [
    "learner.sched.plot_lr()"
   ]
  },
  {
   "cell_type": "code",
   "execution_count": 210,
   "metadata": {
    "scrolled": true
   },
   "outputs": [
    {
     "data": {
      "application/vnd.jupyter.widget-view+json": {
       "model_id": "c09969dec9ca482085be495bec2d14a6",
       "version_major": 2,
       "version_minor": 0
      },
      "text/plain": [
       "HBox(children=(IntProgress(value=0, description='Epoch', max=1), HTML(value='')))"
      ]
     },
     "metadata": {},
     "output_type": "display_data"
    },
    {
     "name": "stdout",
     "output_type": "stream",
     "text": [
      " 59%|███████████████████████████████████████▊                           | 1000/1683 [06:25<04:19,  2.63it/s, loss=2.69]"
     ]
    }
   ],
   "source": [
    "learner.lr_find2(num_it=1000, end_lr=2)"
   ]
  },
  {
   "cell_type": "code",
   "execution_count": 211,
   "metadata": {},
   "outputs": [
    {
     "data": {
      "image/png": "[encoded data removed]",
      "text/plain": [
       "<matplotlib.figure.Figure at 0x1ed8e34c9e8>"
      ]
     },
     "metadata": {
      "needs_background": "light"
     },
     "output_type": "display_data"
    }
   ],
   "source": [
    "learner.sched.plot()"
   ]
  },
  {
   "cell_type": "code",
   "execution_count": 212,
   "metadata": {},
   "outputs": [
    {
     "data": {
      "image/png": "[encoded data removed]",
      "text/plain": [
       "<matplotlib.figure.Figure at 0x1ee955219b0>"
      ]
     },
     "metadata": {
      "needs_background": "light"
     },
     "output_type": "display_data"
    }
   ],
   "source": [
    "learner.sched.plot_loss()"
   ]
  },
  {
   "cell_type": "markdown",
   "metadata": {},
   "source": [
    "# Generate sentence using the language model"
   ]
  },
  {
   "cell_type": "code",
   "execution_count": 213,
   "metadata": {},
   "outputs": [],
   "source": [
    "LANG = 'tagalog'\n",
    "LM_PATH = Path(f'{LANG}/')\n",
    "LM_PATH_MODEL = f'models/wiki_{LANG}_lm4.h5'\n",
    "LM_PATH_ITOS = f'wiki_{LANG}_itos.pkl'"
   ]
  },
  {
   "cell_type": "code",
   "execution_count": 214,
   "metadata": {},
   "outputs": [
    {
     "name": "stdout",
     "output_type": "stream",
     "text": [
      "vs: 43006\n"
     ]
    }
   ],
   "source": [
    "itos = pickle.load(open(LM_PATH_ITOS, 'rb'))\n",
    "stoi = collections.defaultdict(lambda:0, {v:k for k,v in enumerate(itos)})\n",
    "vs = len(itos)\n",
    "print(\"vs:\", vs)"
   ]
  },
  {
   "cell_type": "code",
   "execution_count": 215,
   "metadata": {},
   "outputs": [],
   "source": [
    "m = learner.model # initialized model\n",
    "m.eval() # ensure you switch your model to inference mode\n",
    "m[0].bs = 1 # set batch size to 1"
   ]
  },
  {
   "cell_type": "code",
   "execution_count": 216,
   "metadata": {},
   "outputs": [],
   "source": [
    "def gen_text(ss, topk):\n",
    "    s = ss.strip().split(\" \")\n",
    "    t = LongTensor([stoi[i] for i in s]).view(-1, 1).cuda()\n",
    "    t = Variable(t, volatile=False)\n",
    "    m.reset()\n",
    "    pred, *_ = m(t)\n",
    "    pred_i = torch.topk(pred[-1], topk)[1]\n",
    "\n",
    "    return [itos[o] for o in to_np(pred_i)]\n",
    "\n",
    "def generate_sentences(ss, nb_words):\n",
    "    result = []\n",
    "    s = ss.strip().split(\" \")\n",
    "    t = LongTensor([stoi[i] for i in s]).view(-1, 1).cuda()\n",
    "    t = Variable(t, volatile=False)\n",
    "    m.reset()\n",
    "    pred, *_ = m(t)\n",
    "    \n",
    "    for i in range(nb_words):\n",
    "        pred_i = pred[-1].topk(2)[1]\n",
    "        pred_i = pred_i[1] if pred_i.data[0] < 2 else pred_i[0]\n",
    "        word = itos[pred_i.data[0]]\n",
    "        if word != \"xbos\":\n",
    "            result.append(word)\n",
    "        else:\n",
    "            break\n",
    "        pred, *_ = m(pred_i.unsqueeze(0).unsqueeze(0))\n",
    "    \n",
    "    result = re.sub('\\s+([.,])', r'\\1', \"{} {}\".format(ss, \" \".join(result).rstrip()))\n",
    "\n",
    "    return(result)"
   ]
  },
  {
   "cell_type": "code",
   "execution_count": 217,
   "metadata": {},
   "outputs": [],
   "source": [
    "strings = [\"Pilipinas\", \n",
    "           \"Lalaki\", \n",
    "           \"Babae\",\n",
    "           \"Diyos\", \n",
    "           \"Pampanga\",\n",
    "           \"Agham\",\n",
    "           \"Masaya\",\n",
    "           \"Aso\",\n",
    "           \"Rizal\",\n",
    "           \"Quezon\",\n",
    "           \"Kanina\",\n",
    "           \"Manila\"\n",
    "           ]"
   ]
  },
  {
   "cell_type": "code",
   "execution_count": 218,
   "metadata": {},
   "outputs": [
    {
     "name": "stdout",
     "output_type": "stream",
     "text": [
      "Pilipinas... \n",
      "pilipinas. \n",
      " ang mga sumusunod ay ang mga dahilan ng kanilang mga pag - atake. ayon sa mga tala, ang mga pilipino ay dapat na magkaroon ng mga anak na lalaki sa isang paaralan o kolehiyo. ang mga ito ay mga opisyal na panuluyan ng mga pari, mga pari at mga pari. ang mga pari ay maaaring mag - alok ng mga pondo para sa kanilang mga layunin at mga gawain. ang mga mag\n",
      "\n",
      "Lalaki... \n",
      "lalaki at babae. ang mga babae ay may mga pagkakataon na ang mga babae ay may mas mataas na antas ng sekswal na orientasyon kaysa sa mga babae. ang mga babae ay may mas mataas na antas ng pag - iisip kaysa sa mga babae. ang mga babae ay may mataas na antas ng pagiging lalaki at babae, at ang mga babae ay may mataas na pagiging pambabae, at ang mga babae ay may mas mataas\n",
      "\n",
      "Babae... \n",
      "babae at babae. ang mga babae ay may mga pagkakataon na ang mga babae ay may mas mataas na antas ng sekswal na orientasyon kaysa sa mga babae. ang mga babae ay may mas mataas na antas ng pag - iisip kaysa sa mga babae. ang mga babae ay may mas mataas na antas ng pag - iisip kaysa sa mga babae. ang mga babae ay may dalawang kasarian, ang mga lalake ay may dalawang kasarian\n",
      "\n",
      "Diyos... \n",
      "diyos ng mga bundok, mga puno ng lupa at mga kagubatan. ang mga ito ay mga maliliit na mga bagay na may mga katangiang pisikal at pisikal. ang mga ito ay mga bagay na hindi pa nalalaman sa labas ng mga bansang ito. ang mga ito ay mga bagay na hindi pa nalalaman sa mga lugar na ito. ang mga ito ay mga halimbawa ng mga taong hindi pa mga tunay na tao na may mga\n",
      "\n",
      "Pampanga... \n",
      "pampanga. \n",
      " ang mga sumusunod ay ang mga dahilan kung bakit hindi siya maaaring maging tunay na tao. \n",
      " mga sanggunian. \n",
      " \" maliban kung tuwirang tutukuyin, ang lahat ng mga sanggunian ay orihinal na nakasulat sa wikang ingles. isinalin ang mga bahagi ng pinagkunang pahinang web batay sa konsepto at pagkakaunawa ng mga sumulat ng artikulo. \" \n",
      "  xfld 1 1979\n",
      "\n",
      "Agham... \n",
      "agham pangkalusugan, na ang layunin ay upang makabuo ng isang malaking halaga ng enerhiya na may kaugnayan sa mga gawaing pang - agham. ang mga pag - aaral na ito ay tinatawag na \" \" scientific information system \" \" o \" \" agham ng kalikasan \" \". ang mga ito ay may kaugnayan sa mga \" agham na pang - agham \", \" agham ng kalikasan \", \" agham ng kalikasan \", \" agham\n",
      "\n",
      "Masaya... \n",
      "masaya sa mga tao ang mga tao. \n",
      "  xfld 1 1168\n",
      "\n",
      "Aso... \n",
      "aso ng mga unggoy. ang mga ito ay sina dr. robert b. watson, isang manunulat ng kasaysayan ng agham at teknolohiya, at si dr. john. watson, isang propesor ng ingles sa pamantasan ng california, estados unidos. ang kanyang mga magulang ay sina dr. john j. watson, isang propesor ng unibersidad ng chicago, at ang dating guro ng medisina na si dr. john b. watson. si dr.\n",
      "\n",
      "Rizal... \n",
      "rizal, laguna, bulacan, rizal, bulacan, rizal, rizal, tarlac, at rizal. ang mga ito ay mga maliliit na mga pulo na nasa pagitan ng mga taong ito at mga taong nasa gitnang silangan. ang mga ito ay mga maliliit na pulo sa hilaga ng kapuluan ng pilipinas, sa pagitan ng mga pulo ng luzon at ng pulo ng panay. ang mga pulo ng luzon, na binubuo ng mga pulo\n",
      "\n",
      "Quezon... \n",
      "quezon at rizal na siyang pangunahing pinagkukunan ng mga bagay na pang - industriya. ang mga ito ay ang mga sumusunod : \n",
      " ang mga sumusunod ay ang mga pangunahing katangian ng mga pangunahing gawain ng mga tao : \n",
      " ang mga sumusunod ay ang mga pangunahing dahilan ng pag - uuri ng mga pilipino : \n",
      " ang mga sumusunod ay ang mga pangunahing pangkat na mga katutubo ng pilipinas : xfld 1 1390\n",
      "\n",
      "Kanina... \n",
      "kanina - tao at ang kanyang mga kaibigan at mga kasama. \n",
      " mga sanggunian. \n",
      " [ [ kategorya : mga artista sa pilipinas ] ] \n",
      " [ [ kategorya : mga estasyon ng telebisyon ] ] xfld 1 xxrep 4 1\n",
      "\n",
      "Manila... \n",
      "manila north cemetery, laguna. ang mga ito ay ang mga sumusunod : \n",
      " ang mga sumusunod ay ang mga pangunahing palatandaan ng mga kasalukuyang mga gawain ng mga tao : \n",
      " mga paniniwala. \n",
      " ang mga sumusunod ay mga pangunahing pangkat na mga tao na naninirahan sa mga lungsod. ang mga ito ay : \n",
      "  xfld 1 1511\n",
      "\n"
     ]
    }
   ],
   "source": [
    "import warnings\n",
    "warnings.filterwarnings('ignore')\n",
    "for s in strings:\n",
    "    print(f\"{s}... \\n{generate_sentences(s.lower(), 80)}\\n\")"
   ]
  },
  {
   "cell_type": "code",
   "execution_count": 219,
   "metadata": {},
   "outputs": [],
   "source": [
    "emb_weights = list(learner.model.named_parameters())[0][1]\n",
    "emb_np = to_np(emb_weights.data)"
   ]
  },
  {
   "cell_type": "code",
   "execution_count": 220,
   "metadata": {},
   "outputs": [
    {
     "data": {
      "text/html": [
       "<div>\n",
       "<style scoped>\n",
       "    .dataframe tbody tr th:only-of-type {\n",
       "        vertical-align: middle;\n",
       "    }\n",
       "\n",
       "    .dataframe tbody tr th {\n",
       "        vertical-align: top;\n",
       "    }\n",
       "\n",
       "    .dataframe thead th {\n",
       "        text-align: right;\n",
       "    }\n",
       "</style>\n",
       "<table border=\"1\" class=\"dataframe\">\n",
       "  <thead>\n",
       "    <tr style=\"text-align: right;\">\n",
       "      <th></th>\n",
       "      <th>0</th>\n",
       "      <th>1</th>\n",
       "      <th>2</th>\n",
       "      <th>3</th>\n",
       "      <th>4</th>\n",
       "      <th>5</th>\n",
       "      <th>6</th>\n",
       "      <th>7</th>\n",
       "      <th>8</th>\n",
       "      <th>9</th>\n",
       "      <th>...</th>\n",
       "      <th>390</th>\n",
       "      <th>391</th>\n",
       "      <th>392</th>\n",
       "      <th>393</th>\n",
       "      <th>394</th>\n",
       "      <th>395</th>\n",
       "      <th>396</th>\n",
       "      <th>397</th>\n",
       "      <th>398</th>\n",
       "      <th>399</th>\n",
       "    </tr>\n",
       "  </thead>\n",
       "  <tbody>\n",
       "    <tr>\n",
       "      <th>sinasalita</th>\n",
       "      <td>-0.066267</td>\n",
       "      <td>-0.075203</td>\n",
       "      <td>0.088813</td>\n",
       "      <td>-0.313721</td>\n",
       "      <td>0.178212</td>\n",
       "      <td>-0.432431</td>\n",
       "      <td>-0.280485</td>\n",
       "      <td>-0.094527</td>\n",
       "      <td>-0.438331</td>\n",
       "      <td>0.677153</td>\n",
       "      <td>...</td>\n",
       "      <td>-0.030655</td>\n",
       "      <td>-0.111382</td>\n",
       "      <td>-0.265994</td>\n",
       "      <td>-0.039098</td>\n",
       "      <td>0.267049</td>\n",
       "      <td>0.082115</td>\n",
       "      <td>0.030402</td>\n",
       "      <td>0.161081</td>\n",
       "      <td>-0.247162</td>\n",
       "      <td>-0.175166</td>\n",
       "    </tr>\n",
       "    <tr>\n",
       "      <th>subalit</th>\n",
       "      <td>0.037091</td>\n",
       "      <td>0.142702</td>\n",
       "      <td>-0.319109</td>\n",
       "      <td>0.128350</td>\n",
       "      <td>-0.180885</td>\n",
       "      <td>0.255745</td>\n",
       "      <td>-0.276788</td>\n",
       "      <td>0.741796</td>\n",
       "      <td>0.082638</td>\n",
       "      <td>-0.465008</td>\n",
       "      <td>...</td>\n",
       "      <td>0.708428</td>\n",
       "      <td>-0.334420</td>\n",
       "      <td>0.218829</td>\n",
       "      <td>-0.531906</td>\n",
       "      <td>-0.165284</td>\n",
       "      <td>-0.125580</td>\n",
       "      <td>-0.244106</td>\n",
       "      <td>0.071785</td>\n",
       "      <td>-0.804260</td>\n",
       "      <td>0.083574</td>\n",
       "    </tr>\n",
       "    <tr>\n",
       "      <th>mayo</th>\n",
       "      <td>0.116198</td>\n",
       "      <td>0.127464</td>\n",
       "      <td>-0.066147</td>\n",
       "      <td>0.377194</td>\n",
       "      <td>-0.130793</td>\n",
       "      <td>-0.114470</td>\n",
       "      <td>0.231398</td>\n",
       "      <td>0.019844</td>\n",
       "      <td>0.513321</td>\n",
       "      <td>-0.002310</td>\n",
       "      <td>...</td>\n",
       "      <td>-0.275058</td>\n",
       "      <td>0.296505</td>\n",
       "      <td>-0.226319</td>\n",
       "      <td>0.038090</td>\n",
       "      <td>0.229367</td>\n",
       "      <td>0.367718</td>\n",
       "      <td>-0.104881</td>\n",
       "      <td>0.748504</td>\n",
       "      <td>-0.028562</td>\n",
       "      <td>-0.114035</td>\n",
       "    </tr>\n",
       "    <tr>\n",
       "      <th>mang</th>\n",
       "      <td>0.457836</td>\n",
       "      <td>-0.564047</td>\n",
       "      <td>0.390331</td>\n",
       "      <td>0.387986</td>\n",
       "      <td>0.097105</td>\n",
       "      <td>-0.384735</td>\n",
       "      <td>0.519472</td>\n",
       "      <td>0.224481</td>\n",
       "      <td>0.014166</td>\n",
       "      <td>0.317376</td>\n",
       "      <td>...</td>\n",
       "      <td>-0.353569</td>\n",
       "      <td>0.152376</td>\n",
       "      <td>-0.295674</td>\n",
       "      <td>0.661388</td>\n",
       "      <td>0.138340</td>\n",
       "      <td>0.340842</td>\n",
       "      <td>-0.326452</td>\n",
       "      <td>0.040575</td>\n",
       "      <td>-0.109441</td>\n",
       "      <td>-0.614512</td>\n",
       "    </tr>\n",
       "    <tr>\n",
       "      <th>pangkat</th>\n",
       "      <td>-0.356490</td>\n",
       "      <td>0.370588</td>\n",
       "      <td>0.180261</td>\n",
       "      <td>0.092619</td>\n",
       "      <td>0.209464</td>\n",
       "      <td>0.274397</td>\n",
       "      <td>-0.322093</td>\n",
       "      <td>0.272288</td>\n",
       "      <td>-0.545540</td>\n",
       "      <td>-0.005249</td>\n",
       "      <td>...</td>\n",
       "      <td>0.409589</td>\n",
       "      <td>0.411818</td>\n",
       "      <td>0.810894</td>\n",
       "      <td>0.042417</td>\n",
       "      <td>-0.527128</td>\n",
       "      <td>-0.070105</td>\n",
       "      <td>-0.042662</td>\n",
       "      <td>-0.328413</td>\n",
       "      <td>-0.033774</td>\n",
       "      <td>0.011785</td>\n",
       "    </tr>\n",
       "    <tr>\n",
       "      <th>di</th>\n",
       "      <td>-0.678381</td>\n",
       "      <td>-0.585457</td>\n",
       "      <td>0.163992</td>\n",
       "      <td>-0.709819</td>\n",
       "      <td>0.207512</td>\n",
       "      <td>-0.206647</td>\n",
       "      <td>-0.262033</td>\n",
       "      <td>0.269287</td>\n",
       "      <td>-0.776152</td>\n",
       "      <td>-0.023203</td>\n",
       "      <td>...</td>\n",
       "      <td>-0.410469</td>\n",
       "      <td>-0.093766</td>\n",
       "      <td>0.095009</td>\n",
       "      <td>-0.889230</td>\n",
       "      <td>-0.027779</td>\n",
       "      <td>0.027145</td>\n",
       "      <td>0.586352</td>\n",
       "      <td>-0.445743</td>\n",
       "      <td>-0.404172</td>\n",
       "      <td>0.173193</td>\n",
       "    </tr>\n",
       "    <tr>\n",
       "      <th>laban</th>\n",
       "      <td>-2.134453</td>\n",
       "      <td>0.127393</td>\n",
       "      <td>0.652921</td>\n",
       "      <td>-0.218276</td>\n",
       "      <td>0.447950</td>\n",
       "      <td>0.254326</td>\n",
       "      <td>-0.639207</td>\n",
       "      <td>0.018136</td>\n",
       "      <td>-0.928847</td>\n",
       "      <td>0.111395</td>\n",
       "      <td>...</td>\n",
       "      <td>-0.156787</td>\n",
       "      <td>-1.061052</td>\n",
       "      <td>0.259606</td>\n",
       "      <td>-0.309627</td>\n",
       "      <td>0.332482</td>\n",
       "      <td>0.031628</td>\n",
       "      <td>-0.195344</td>\n",
       "      <td>0.068816</td>\n",
       "      <td>0.380399</td>\n",
       "      <td>-0.107874</td>\n",
       "    </tr>\n",
       "    <tr>\n",
       "      <th>katawan</th>\n",
       "      <td>-0.296503</td>\n",
       "      <td>-0.291042</td>\n",
       "      <td>0.308367</td>\n",
       "      <td>-0.068543</td>\n",
       "      <td>0.347274</td>\n",
       "      <td>0.152191</td>\n",
       "      <td>-0.001920</td>\n",
       "      <td>-0.016047</td>\n",
       "      <td>-0.246977</td>\n",
       "      <td>-0.376914</td>\n",
       "      <td>...</td>\n",
       "      <td>-0.348480</td>\n",
       "      <td>-0.617272</td>\n",
       "      <td>0.504374</td>\n",
       "      <td>0.524752</td>\n",
       "      <td>0.182453</td>\n",
       "      <td>-0.136204</td>\n",
       "      <td>-0.218866</td>\n",
       "      <td>0.260726</td>\n",
       "      <td>0.000149</td>\n",
       "      <td>-0.003113</td>\n",
       "    </tr>\n",
       "    <tr>\n",
       "      <th>pagiging</th>\n",
       "      <td>-0.208041</td>\n",
       "      <td>-0.058364</td>\n",
       "      <td>0.171438</td>\n",
       "      <td>0.223040</td>\n",
       "      <td>-0.109464</td>\n",
       "      <td>-0.113379</td>\n",
       "      <td>0.029634</td>\n",
       "      <td>0.268582</td>\n",
       "      <td>0.153469</td>\n",
       "      <td>0.065295</td>\n",
       "      <td>...</td>\n",
       "      <td>-0.354835</td>\n",
       "      <td>0.081734</td>\n",
       "      <td>0.155162</td>\n",
       "      <td>0.042065</td>\n",
       "      <td>0.144922</td>\n",
       "      <td>-0.023899</td>\n",
       "      <td>-0.082450</td>\n",
       "      <td>0.255786</td>\n",
       "      <td>-0.344011</td>\n",
       "      <td>0.134261</td>\n",
       "    </tr>\n",
       "    <tr>\n",
       "      <th>higit</th>\n",
       "      <td>0.064602</td>\n",
       "      <td>-0.846375</td>\n",
       "      <td>0.293125</td>\n",
       "      <td>0.157340</td>\n",
       "      <td>0.200767</td>\n",
       "      <td>-0.168535</td>\n",
       "      <td>0.017808</td>\n",
       "      <td>1.047812</td>\n",
       "      <td>-0.509538</td>\n",
       "      <td>-0.644003</td>\n",
       "      <td>...</td>\n",
       "      <td>0.340615</td>\n",
       "      <td>0.299907</td>\n",
       "      <td>0.549921</td>\n",
       "      <td>0.340532</td>\n",
       "      <td>1.206987</td>\n",
       "      <td>0.086918</td>\n",
       "      <td>1.079353</td>\n",
       "      <td>0.245724</td>\n",
       "      <td>0.337828</td>\n",
       "      <td>0.805480</td>\n",
       "    </tr>\n",
       "  </tbody>\n",
       "</table>\n",
       "<p>10 rows × 400 columns</p>\n",
       "</div>"
      ],
      "text/plain": [
       "                 0         1         2         3         4         5    \\\n",
       "sinasalita -0.066267 -0.075203  0.088813 -0.313721  0.178212 -0.432431   \n",
       "subalit     0.037091  0.142702 -0.319109  0.128350 -0.180885  0.255745   \n",
       "mayo        0.116198  0.127464 -0.066147  0.377194 -0.130793 -0.114470   \n",
       "mang        0.457836 -0.564047  0.390331  0.387986  0.097105 -0.384735   \n",
       "pangkat    -0.356490  0.370588  0.180261  0.092619  0.209464  0.274397   \n",
       "di         -0.678381 -0.585457  0.163992 -0.709819  0.207512 -0.206647   \n",
       "laban      -2.134453  0.127393  0.652921 -0.218276  0.447950  0.254326   \n",
       "katawan    -0.296503 -0.291042  0.308367 -0.068543  0.347274  0.152191   \n",
       "pagiging   -0.208041 -0.058364  0.171438  0.223040 -0.109464 -0.113379   \n",
       "higit       0.064602 -0.846375  0.293125  0.157340  0.200767 -0.168535   \n",
       "\n",
       "                 6         7         8         9      ...          390  \\\n",
       "sinasalita -0.280485 -0.094527 -0.438331  0.677153    ...    -0.030655   \n",
       "subalit    -0.276788  0.741796  0.082638 -0.465008    ...     0.708428   \n",
       "mayo        0.231398  0.019844  0.513321 -0.002310    ...    -0.275058   \n",
       "mang        0.519472  0.224481  0.014166  0.317376    ...    -0.353569   \n",
       "pangkat    -0.322093  0.272288 -0.545540 -0.005249    ...     0.409589   \n",
       "di         -0.262033  0.269287 -0.776152 -0.023203    ...    -0.410469   \n",
       "laban      -0.639207  0.018136 -0.928847  0.111395    ...    -0.156787   \n",
       "katawan    -0.001920 -0.016047 -0.246977 -0.376914    ...    -0.348480   \n",
       "pagiging    0.029634  0.268582  0.153469  0.065295    ...    -0.354835   \n",
       "higit       0.017808  1.047812 -0.509538 -0.644003    ...     0.340615   \n",
       "\n",
       "                 391       392       393       394       395       396  \\\n",
       "sinasalita -0.111382 -0.265994 -0.039098  0.267049  0.082115  0.030402   \n",
       "subalit    -0.334420  0.218829 -0.531906 -0.165284 -0.125580 -0.244106   \n",
       "mayo        0.296505 -0.226319  0.038090  0.229367  0.367718 -0.104881   \n",
       "mang        0.152376 -0.295674  0.661388  0.138340  0.340842 -0.326452   \n",
       "pangkat     0.411818  0.810894  0.042417 -0.527128 -0.070105 -0.042662   \n",
       "di         -0.093766  0.095009 -0.889230 -0.027779  0.027145  0.586352   \n",
       "laban      -1.061052  0.259606 -0.309627  0.332482  0.031628 -0.195344   \n",
       "katawan    -0.617272  0.504374  0.524752  0.182453 -0.136204 -0.218866   \n",
       "pagiging    0.081734  0.155162  0.042065  0.144922 -0.023899 -0.082450   \n",
       "higit       0.299907  0.549921  0.340532  1.206987  0.086918  1.079353   \n",
       "\n",
       "                 397       398       399  \n",
       "sinasalita  0.161081 -0.247162 -0.175166  \n",
       "subalit     0.071785 -0.804260  0.083574  \n",
       "mayo        0.748504 -0.028562 -0.114035  \n",
       "mang        0.040575 -0.109441 -0.614512  \n",
       "pangkat    -0.328413 -0.033774  0.011785  \n",
       "di         -0.445743 -0.404172  0.173193  \n",
       "laban       0.068816  0.380399 -0.107874  \n",
       "katawan     0.260726  0.000149 -0.003113  \n",
       "pagiging    0.255786 -0.344011  0.134261  \n",
       "higit       0.245724  0.337828  0.805480  \n",
       "\n",
       "[10 rows x 400 columns]"
      ]
     },
     "execution_count": 220,
     "metadata": {},
     "output_type": "execute_result"
    }
   ],
   "source": [
    "tagalog2vec = pd.DataFrame(emb_np)\n",
    "new_itos = itos\n",
    "# replace space with token\n",
    "new_itos[2] = '_space_'\n",
    "# replace space for named entities with _\n",
    "new_itos = [re.sub(' ', '_', i) for i in new_itos]\n",
    "tagalog2vec.index = new_itos\n",
    "tagalog2vec.iloc[200:210]"
   ]
  },
  {
   "cell_type": "code",
   "execution_count": 221,
   "metadata": {},
   "outputs": [
    {
     "data": {
      "text/plain": [
       "(43006, 400)"
      ]
     },
     "execution_count": 221,
     "metadata": {},
     "output_type": "execute_result"
    }
   ],
   "source": [
    "\n",
    "tagalog2vec.to_csv(f\"{LM_PATH}/tagalog2vec_embeddings4.csv\", sep=\" \", header=False, line_terminator=\"\\n\")\n",
    "tagalog2vec.shape"
   ]
  },
  {
   "cell_type": "code",
   "execution_count": null,
   "metadata": {},
   "outputs": [],
   "source": []
  }
 ],
 "metadata": {
  "gist": {
   "data": {
    "description": "mywork/Telugu_Language_Model.ipynb",
    "public": false
   },
   "id": ""
  },
  "kernelspec": {
   "display_name": "Python 3",
   "language": "python",
   "name": "python3"
  },
  "language_info": {
   "codemirror_mode": {
    "name": "ipython",
    "version": 3
   },
   "file_extension": ".py",
   "mimetype": "text/x-python",
   "name": "python",
   "nbconvert_exporter": "python",
   "pygments_lexer": "ipython3",
   "version": "3.6.6"
  },
  "toc": {
   "base_numbering": 1,
   "nav_menu": {},
   "number_sections": true,
   "sideBar": true,
   "skip_h1_title": false,
   "title_cell": "Table of Contents",
   "title_sidebar": "Contents",
   "toc_cell": false,
   "toc_position": {},
   "toc_section_display": true,
   "toc_window_display": false
  }
 },
 "nbformat": 4,
 "nbformat_minor": 2
}
