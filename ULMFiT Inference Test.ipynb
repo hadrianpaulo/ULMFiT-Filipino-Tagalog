{
 "cells": [
  {
   "cell_type": "code",
   "execution_count": 1,
   "metadata": {},
   "outputs": [],
   "source": [
    "%matplotlib inline\n",
    "%reload_ext autoreload\n",
    "%autoreload 2"
   ]
  },
  {
   "cell_type": "code",
   "execution_count": 2,
   "metadata": {},
   "outputs": [
    {
     "name": "stderr",
     "output_type": "stream",
     "text": [
      "C:\\Users\\PC\\Anaconda3\\envs\\tflow\\lib\\site-packages\\sklearn\\ensemble\\weight_boosting.py:29: DeprecationWarning: numpy.core.umath_tests is an internal NumPy module and should not be imported. It will be removed in a future NumPy release.\n",
      "  from numpy.core.umath_tests import inner1d\n"
     ]
    }
   ],
   "source": [
    "import json\n",
    "from pathlib import Path\n",
    "import numpy as np\n",
    "import pandas as pd\n",
    "import html\n",
    "import re\n",
    "from fastai.text import *\n",
    "from tqdm import tqdm\n",
    "from sklearn import model_selection"
   ]
  },
  {
   "cell_type": "code",
   "execution_count": 34,
   "metadata": {},
   "outputs": [],
   "source": [
    "LANG = 'tagalog'\n",
    "LM_PATH = Path(f'{LANG}/')\n",
    "LM_PATH_MODEL = f'models/wiki_tagalog_lm4.h5'\n",
    "LM_PATH_ITOS = f'wiki_{LANG}_itos.pkl'\n",
    "PATH_TMP = Path('tmp/')"
   ]
  },
  {
   "cell_type": "code",
   "execution_count": 35,
   "metadata": {},
   "outputs": [
    {
     "name": "stdout",
     "output_type": "stream",
     "text": [
      "vs: 43006\n"
     ]
    }
   ],
   "source": [
    "itos = pickle.load(open(LM_PATH_ITOS, 'rb'))\n",
    "stoi = collections.defaultdict(lambda:0, {v:k for k,v in enumerate(itos)})\n",
    "vs = len(itos)\n",
    "print(\"vs:\", vs)"
   ]
  },
  {
   "cell_type": "code",
   "execution_count": 36,
   "metadata": {},
   "outputs": [],
   "source": [
    "from functools import partial\n",
    "import torch.optim as optim\n",
    "\n",
    "em_sz = 400  # size of each embedding vector\n",
    "nh = 1150    # number of hidden activations per layer\n",
    "nl = 3       # number of layers\n",
    "\n",
    "wd = 1e-7\n",
    "bptt = 70\n",
    "bs = 64\n",
    "# opt_fn = partial(optim.Adam, betas=(0.8, 0.99))\n",
    "opt_fn = partial(optim.SGD, momentum=0.9)\n",
    "weight_factor = 0.3\n",
    "drops = np.array([0.25, 0.1, 0.2, 0.02, 0.15])*weight_factor\n",
    "\n",
    "\n",
    "# Loading the indexed representation of our dataset from disk\n",
    "# we also load the index-word mapping to to help us convert the indexes to word datasets, if need be.\n",
    "trn_lm = np.load(PATH_TMP/'wiki_trn_ids.npy')\n",
    "val_lm = np.load(PATH_TMP/'wiki_val_ids.npy')\n",
    "wiki_itos = pickle.load(open(f'wiki_{LANG}_itos.pkl', 'rb'))\n",
    "\n",
    "trn_dl = LanguageModelLoader(np.concatenate(trn_lm), bs, bptt)\n",
    "val_dl = LanguageModelLoader(np.concatenate(val_lm), bs, bptt)\n",
    "md = LanguageModelData('.', 1, vs, trn_dl, val_dl, bs=bs, bptt=bptt)\n",
    "\n",
    "learner= md.get_model(opt_fn, em_sz, nh, nl, \n",
    "    dropouti=drops[0], dropout=drops[1], wdrop=drops[2], dropoute=drops[3], dropouth=drops[4])\n",
    "\n",
    "learner.load(f'wiki_{LANG}_lm4')\n",
    "learner.load_encoder(f'wiki_{LANG}_lm_enc4')\n",
    "\n",
    "m = learner.model # initialized model\n",
    "m.eval() # ensure you switch your model to inference mode\n",
    "m[0].bs = 1 # set batch size to 1"
   ]
  },
  {
   "cell_type": "code",
   "execution_count": 37,
   "metadata": {},
   "outputs": [],
   "source": [
    "def gen_text(ss, topk):\n",
    "    s = ss.strip().split(\" \")\n",
    "    t = LongTensor([stoi[i] for i in s]).view(-1, 1).cuda()\n",
    "    t = Variable(t, volatile=False)\n",
    "    m.reset()\n",
    "    pred, *_ = m(t)\n",
    "    pred_i = torch.topk(pred[-1], topk)[1]\n",
    "\n",
    "    return [itos[o] for o in to_np(pred_i)]\n",
    "\n",
    "def generate_sentences(ss, nb_words):\n",
    "    result = []\n",
    "    s = ss.strip().split(\" \")\n",
    "    t = LongTensor([stoi[i] for i in s]).view(-1, 1).cuda()\n",
    "    t = Variable(t, volatile=False)\n",
    "    m.reset()\n",
    "    pred, *_ = m(t)\n",
    "    \n",
    "    for i in range(nb_words):\n",
    "        pred_i = pred[-1].topk(2)[1]\n",
    "        pred_i = pred_i[1] if pred_i.data[0] < 2 else pred_i[0]\n",
    "        word = itos[pred_i.data[0]]\n",
    "        if word != \"xbos\":\n",
    "            result.append(word)\n",
    "        else:\n",
    "            break\n",
    "        pred, *_ = m(pred_i.unsqueeze(0).unsqueeze(0))\n",
    "    \n",
    "    result = re.sub('\\s+([.,])', r'\\1', \"{} {}\".format(ss, \" \".join(result).rstrip()))\n",
    "\n",
    "    return(result)"
   ]
  },
  {
   "cell_type": "code",
   "execution_count": 38,
   "metadata": {},
   "outputs": [],
   "source": [
    "strings = [\"Pilipinas\", \n",
    "           \"Lalaki\", \n",
    "           \"Babae\",\n",
    "           \"Diyos\", \n",
    "           \"Pampanga\",\n",
    "           \"Agham\",\n",
    "           \"Masaya\",\n",
    "           \"Aso\",\n",
    "           \"Rizal\",\n",
    "           \"Quezon\",\n",
    "           \"Kanina\",\n",
    "           \"Manila\"\n",
    "           ]"
   ]
  },
  {
   "cell_type": "code",
   "execution_count": 39,
   "metadata": {},
   "outputs": [
    {
     "name": "stdout",
     "output_type": "stream",
     "text": [
      "Pilipinas... \n",
      "pilipinas. \n",
      " ang mga sumusunod ay ang mga dahilan ng kanilang mga pag - atake. ayon sa mga tala, ang mga pilipino ay dapat na magkaroon ng mga anak na lalaki sa isang paaralan o kolehiyo. ang mga ito ay mga opisyal na panuluyan ng mga pari, mga pari at mga pari. ang mga pari ay maaaring mag - alok ng mga pondo para sa kanilang mga layunin at mga gawain. ang mga mag\n",
      "\n",
      "Lalaki... \n",
      "lalaki at babae. ang mga babae ay may mga pagkakataon na ang mga babae ay may mas mataas na antas ng sekswal na orientasyon kaysa sa mga babae. ang mga babae ay may mas mataas na antas ng pag - iisip kaysa sa mga babae. ang mga babae ay may mataas na antas ng pagiging lalaki at babae, at ang mga babae ay may mataas na pagiging pambabae, at ang mga babae ay may mas mataas\n",
      "\n",
      "Babae... \n",
      "babae at babae. ang mga babae ay may mga pagkakataon na ang mga babae ay may mas mataas na antas ng sekswal na orientasyon kaysa sa mga babae. ang mga babae ay may mas mataas na antas ng pag - iisip kaysa sa mga babae. ang mga babae ay may mas mataas na antas ng pag - iisip kaysa sa mga babae. ang mga babae ay may dalawang kasarian, ang mga lalake ay may dalawang kasarian\n",
      "\n",
      "Diyos... \n",
      "diyos ng mga bundok, mga puno ng lupa at mga kagubatan. ang mga ito ay mga maliliit na mga bagay na may mga katangiang pisikal at pisikal. ang mga ito ay mga bagay na hindi pa nalalaman sa labas ng mga bansang ito. ang mga ito ay mga bagay na hindi pa nalalaman sa mga lugar na ito. ang mga ito ay mga halimbawa ng mga taong hindi pa mga tunay na tao na may mga\n",
      "\n",
      "Pampanga... \n",
      "pampanga. \n",
      " ang mga sumusunod ay ang mga dahilan kung bakit hindi siya maaaring maging tunay na tao. \n",
      " mga sanggunian. \n",
      " \" maliban kung tuwirang tutukuyin, ang lahat ng mga sanggunian ay orihinal na nakasulat sa wikang ingles. isinalin ang mga bahagi ng pinagkunang pahinang web batay sa konsepto at pagkakaunawa ng mga sumulat ng artikulo. \" \n",
      "  xfld 1 1979\n",
      "\n",
      "Agham... \n",
      "agham pangkalusugan, na ang layunin ay upang makabuo ng isang malaking halaga ng enerhiya na may kaugnayan sa mga gawaing pang - agham. ang mga pag - aaral na ito ay tinatawag na \" \" scientific information system \" \" o \" \" agham ng kalikasan \" \". ang mga ito ay may kaugnayan sa mga \" agham na pang - agham \", \" agham ng kalikasan \", \" agham ng kalikasan \", \" agham\n",
      "\n",
      "Masaya... \n",
      "masaya sa mga tao ang mga tao. \n",
      "  xfld 1 1168\n",
      "\n",
      "Aso... \n",
      "aso ng mga unggoy. ang mga ito ay sina dr. robert b. watson, isang manunulat ng kasaysayan ng agham at teknolohiya, at si dr. john. watson, isang propesor ng ingles sa pamantasan ng california, estados unidos. ang kanyang mga magulang ay sina dr. john j. watson, isang propesor ng unibersidad ng chicago, at ang dating guro ng medisina na si dr. john b. watson. si dr.\n",
      "\n",
      "Rizal... \n",
      "rizal, laguna, bulacan, rizal, bulacan, rizal, rizal, tarlac, at rizal. ang mga ito ay mga maliliit na mga pulo na nasa pagitan ng mga taong ito at mga taong nasa gitnang silangan. ang mga ito ay mga maliliit na pulo sa hilaga ng kapuluan ng pilipinas, sa pagitan ng mga pulo ng luzon at ng pulo ng panay. ang mga pulo ng luzon, na binubuo ng mga pulo\n",
      "\n",
      "Quezon... \n",
      "quezon at rizal na siyang pangunahing pinagkukunan ng mga bagay na pang - industriya. ang mga ito ay ang mga sumusunod : \n",
      " ang mga sumusunod ay ang mga pangunahing katangian ng mga pangunahing gawain ng mga tao : \n",
      " ang mga sumusunod ay ang mga pangunahing dahilan ng pag - uuri ng mga pilipino : \n",
      " ang mga sumusunod ay ang mga pangunahing pangkat na mga katutubo ng pilipinas : xfld 1 1390\n",
      "\n",
      "Kanina... \n",
      "kanina - tao at ang kanyang mga kaibigan at mga kasama. \n",
      " mga sanggunian. \n",
      " [ [ kategorya : mga artista sa pilipinas ] ] \n",
      " [ [ kategorya : mga estasyon ng telebisyon ] ] xfld 1 xxrep 4 1\n",
      "\n",
      "Manila... \n",
      "manila north cemetery, laguna. ang mga ito ay ang mga sumusunod : \n",
      " ang mga sumusunod ay ang mga pangunahing palatandaan ng mga kasalukuyang mga gawain ng mga tao : \n",
      " mga paniniwala. \n",
      " ang mga sumusunod ay mga pangunahing pangkat na mga tao na naninirahan sa mga lungsod. ang mga ito ay : \n",
      "  xfld 1 1511\n",
      "\n"
     ]
    }
   ],
   "source": [
    "import warnings\n",
    "warnings.filterwarnings('ignore')\n",
    "for s in strings:\n",
    "    print(f\"{s}... \\n{generate_sentences(s.lower(), 80)}\\n\")"
   ]
  },
  {
   "cell_type": "code",
   "execution_count": null,
   "metadata": {},
   "outputs": [],
   "source": []
  },
  {
   "cell_type": "code",
   "execution_count": null,
   "metadata": {},
   "outputs": [],
   "source": []
  }
 ],
 "metadata": {
  "kernelspec": {
   "display_name": "Python 3",
   "language": "python",
   "name": "python3"
  },
  "language_info": {
   "codemirror_mode": {
    "name": "ipython",
    "version": 3
   },
   "file_extension": ".py",
   "mimetype": "text/x-python",
   "name": "python",
   "nbconvert_exporter": "python",
   "pygments_lexer": "ipython3",
   "version": "3.6.6"
  },
  "toc": {
   "base_numbering": 1,
   "nav_menu": {},
   "number_sections": true,
   "sideBar": true,
   "skip_h1_title": false,
   "title_cell": "Table of Contents",
   "title_sidebar": "Contents",
   "toc_cell": false,
   "toc_position": {},
   "toc_section_display": true,
   "toc_window_display": false
  }
 },
 "nbformat": 4,
 "nbformat_minor": 2
}
